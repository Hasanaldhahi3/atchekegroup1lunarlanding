{
  "cells": [
    {
      "cell_type": "markdown",
      "metadata": {
        "id": "view-in-github",
        "colab_type": "text"
      },
      "source": [
        "<a href=\"https://colab.research.google.com/github/carlacodes/atchekegroup1lunarlanding/blob/sherry/lunar_lander_group1_atcheke_copy.ipynb\" target=\"_parent\"><img src=\"https://colab.research.google.com/assets/colab-badge.svg\" alt=\"Open In Colab\"/></a>"
      ]
    },
    {
      "cell_type": "markdown",
      "metadata": {
        "execution": {},
        "id": "rKjkh_KgobbF"
      },
      "source": [
        "# Performance Analysis of DQN Algorithm on the Lunar Lander task\n",
        "\n",
        "**By Neuromatch Academy**\n",
        "\n",
        "__Content creators:__ Raghuram Bharadwaj Diddigi, Geraud Nangue Tasse, Yamil Vidal, Sanjukta Krishnagopal, Sara Rajaee\n",
        "\n",
        "__Content editors:__ Spiros Chavlis"
      ]
    },
    {
      "cell_type": "markdown",
      "metadata": {
        "execution": {},
        "id": "iDR5t137obbP"
      },
      "source": [
        "<p align='center'><img src='https://github.com/NeuromatchAcademy/widgets/blob/master/sponsors.png?raw=True'/></p>"
      ]
    },
    {
      "cell_type": "markdown",
      "metadata": {
        "execution": {},
        "id": "brZ9ZJQzobbR"
      },
      "source": [
        "---\n",
        "# Objective\n",
        "\n",
        "In this project, the objective is to analyze the performance of the Deep Q-Learning algorithm on an exciting task- Lunar Lander. Before we describe the task, let us focus on two keywords here - analysis and performance. What exactly do we mean by these keywords in the context of Reinforcement Learning (RL)?"
      ]
    },
    {
      "cell_type": "markdown",
      "metadata": {
        "execution": {},
        "id": "wpX-jA7GobbT"
      },
      "source": [
        "---\n",
        "# Setup"
      ]
    },
    {
      "cell_type": "code",
      "execution_count": 2,
      "metadata": {
        "execution": {},
        "id": "9EanvrrhobbU",
        "colab": {
          "base_uri": "https://localhost:8080/"
        },
        "outputId": "d80caaea-efa8-4219-bcd6-e03fe66da08b"
      },
      "outputs": [
        {
          "output_type": "stream",
          "name": "stdout",
          "text": [
            "\u001b[K     |████████████████████████████████| 177 kB 4.1 MB/s \n",
            "\u001b[K     |████████████████████████████████| 1.6 MB 46.6 MB/s \n",
            "\u001b[K     |████████████████████████████████| 1.5 MB 57.9 MB/s \n",
            "\u001b[K     |████████████████████████████████| 1.1 MB 75.1 MB/s \n",
            "\u001b[?25h  Installing build dependencies ... \u001b[?25l\u001b[?25hdone\n",
            "  Getting requirements to build wheel ... \u001b[?25l\u001b[?25hdone\n",
            "    Preparing wheel metadata ... \u001b[?25l\u001b[?25hdone\n",
            "  Building wheel for gym (setup.py) ... \u001b[?25l\u001b[?25hdone\n",
            "  Building wheel for AutoROM.accept-rom-license (PEP 517) ... \u001b[?25l\u001b[?25hdone\n",
            "\u001b[K     |████████████████████████████████| 448 kB 4.2 MB/s \n",
            "\u001b[?25h"
          ]
        }
      ],
      "source": [
        "# @title Install dependencies\n",
        "!sudo apt-get update > /dev/null 2>&1\n",
        "!sudo apt-get install -y xvfb python-opengl ffmpeg > /dev/null 2>&1\n",
        "!pip install rarfile --quiet\n",
        "!pip install stable-baselines3[extra] ale-py==0.7.4 --quiet\n",
        "!pip install box2d-py --quiet\n",
        "!pip install gym pyvirtualdisplay --quiet"
      ]
    },
    {
      "cell_type": "code",
      "execution_count": 3,
      "metadata": {
        "execution": {},
        "id": "pE3qZJLcobbW"
      },
      "outputs": [],
      "source": [
        "# Imports\n",
        "import io\n",
        "import os\n",
        "import glob\n",
        "import torch\n",
        "import base64\n",
        "import stable_baselines3\n",
        "\n",
        "import numpy as np\n",
        "import matplotlib.pyplot as plt\n",
        "\n",
        "from stable_baselines3 import DQN\n",
        "from stable_baselines3.common.results_plotter import ts2xy, load_results\n",
        "from stable_baselines3.common.callbacks import EvalCallback\n",
        "from stable_baselines3.common.env_util import make_atari_env\n",
        "\n",
        "import gym\n",
        "from gym import spaces\n",
        "from gym.wrappers import Monitor,RecordVideo"
      ]
    },
    {
      "cell_type": "code",
      "source": [
        "print(gym.__version__)"
      ],
      "metadata": {
        "colab": {
          "base_uri": "https://localhost:8080/"
        },
        "id": "gPoZnSTGFvEp",
        "outputId": "943d9e6e-8277-4abf-b8be-422b5e09c384"
      },
      "execution_count": 4,
      "outputs": [
        {
          "output_type": "stream",
          "name": "stdout",
          "text": [
            "0.21.0\n"
          ]
        }
      ]
    },
    {
      "cell_type": "code",
      "execution_count": 4,
      "metadata": {
        "execution": {},
        "id": "fp1bUnClobbY"
      },
      "outputs": [],
      "source": [
        "# @title Plotting/Video functions\n",
        "from IPython.display import HTML\n",
        "from pyvirtualdisplay import Display\n",
        "from IPython import display as ipythondisplay\n",
        "\n",
        "display = Display(visible=0, size=(1400, 900))\n",
        "display.start()\n",
        "\n",
        "\"\"\"\n",
        "Utility functions to enable video recording of gym environment\n",
        "and displaying it.\n",
        "To enable video, just do \"env = wrap_env(env)\"\"\n",
        "\"\"\"\n",
        "\n",
        "def show_video():\n",
        "  mp4list = glob.glob('video/*.mp4')\n",
        "  if len(mp4list) > 0:\n",
        "    mp4 = mp4list[0]\n",
        "    video = io.open(mp4, 'r+b').read()\n",
        "    encoded = base64.b64encode(video)\n",
        "    ipythondisplay.display(HTML(data='''<video alt=\"test\" autoplay\n",
        "                loop controls style=\"height: 400px;\">\n",
        "                <source src=\"data:video/mp4;base64,{0}\" type=\"video/mp4\" />\n",
        "             </video>'''.format(encoded.decode('ascii'))))\n",
        "  else:\n",
        "    print(\"Could not find video\")\n",
        "\n",
        "\n",
        "def wrap_env(env):\n",
        "  env = Monitor(env, './video', force=True)\n",
        "  # env = RecordVideo(env, './video')\n",
        "  return env"
      ]
    },
    {
      "cell_type": "markdown",
      "metadata": {
        "execution": {},
        "id": "psfdqUCmobba"
      },
      "source": [
        "---\n",
        "# Introduction\n",
        "\n",
        "In a standard RL setting, an agent learns optimal behavior from an environment through a feedback mechanism to maximize a given objective. Many algorithms have been proposed in the RL literature that an agent can apply to learn the optimal behavior. One such popular algorithm is the Deep Q-Network (DQN). This algorithm makes use of deep neural networks to compute optimal actions. In this project, your goal is to understand the effect of the number of neural network layers on the algorithm's performance. The performance of the algorithm can be evaluated through two metrics - Speed and Stability. \n",
        "\n",
        "**Speed:** How fast the algorithm reaches the maximum possible reward. \n",
        "\n",
        "**Stability** In some applications (especially when online learning is involved), along with speed, stability of the algorithm, i.e., minimal fluctuations in performance, is equally important. \n",
        "\n",
        "In this project, you should investigate the following question:\n",
        "\n",
        "**What is the impact of number of neural network layers on speed and stability of the algorithm?**\n",
        "\n",
        "You do not have to write the DQN code from scratch. We have provided a basic implementation of the DQN algorithm. You only have to tune the hyperparameters (neural network size, learning rate, etc), observe the performance, and analyze. More details on this are provided below. \n",
        "\n",
        "Now, let us discuss the RL task we have chosen, i.e., Lunar Lander. This task consists of the lander and a landing pad marked by two flags. The episode starts with the lander moving downwards due to gravity. The objective is to land safely using different engines available on the lander with zero speed on the landing pad as quickly and fuel efficient as possible. Reward for moving from the top of the screen and landing on landing pad with zero speed is between 100 to 140 points. Each leg ground contact yields a reward of 10 points. Firing main engine leads to a reward of -0.3 points in each frame. Firing the side engine leads to a reward of -0.03 points in each frame. An additional reward of -100 or +100 points is received if the lander crashes or comes to rest respectively which also leads to end of the episode. \n",
        "\n",
        "The input state of the Lunar Lander consists of following components:\n",
        "\n",
        "  1. Horizontal Position\n",
        "  2. Vertical Position\n",
        "  3. Horizontal Velocity\n",
        "  4. Vertical Velocity\n",
        "  5. Angle\n",
        "  6. Angular Velocity\n",
        "  7. Left Leg Contact\n",
        "  8. Right Leg Contact\n",
        "\n",
        "The actions of the agents are:\n",
        "  1. Do Nothing\n",
        "  2. Fire Main Engine\n",
        "  3. Fire Left Engine\n",
        "  4. Fire Right Engine\n",
        "\n",
        "\n",
        "<img src=\"https://raw.githubusercontent.com/NeuromatchAcademy/course-content-dl/main/projects/static/lunar_lander.png\">"
      ]
    },
    {
      "cell_type": "markdown",
      "metadata": {
        "execution": {},
        "id": "fGCTNteSobbd"
      },
      "source": [
        "---\n",
        "# Basic DQN Implementation\n",
        "\n",
        "We will now implement the DQN algorithm using the existing code base. We encourage you to understand this example and re-use it in an application/project of your choice! "
      ]
    },
    {
      "cell_type": "markdown",
      "metadata": {
        "execution": {},
        "id": "sEG8U0Pmobbf"
      },
      "source": [
        "Now, let us set some hyperparameters for our algorithm. This is the only part you would play around with, to solve the first part of the project. "
      ]
    },
    {
      "cell_type": "markdown",
      "source": [
        "## Tuning hyperparameters"
      ],
      "metadata": {
        "id": "XgNuDz2mrq0g"
      }
    },
    {
      "cell_type": "markdown",
      "source": [
        "ref: \n",
        "\n",
        "1.   template https://github.com/AI4Finance-Foundation/FinRL/blob/master/tutorials/4-Optimization/FinRL_HyperparameterTuning_using_Optuna_basic.ipynb\n",
        "\n",
        "2.   tutorial (combined with template): https://medium.com/analytics-vidhya/hyperparameter-tuning-using-optuna-for-finrl-8a49506d2741\n",
        "\n",
        "3.  set parameter function: https://github.com/DLR-RM/rl-baselines3-zoo/blob/master/utils/hyperparams_opt.py\n",
        "\n",
        "4.   callback function: https://github.com/DLR-RM/rl-baselines3-zoo/blob/master/utils/callbacks.py#L10\n",
        "\n",
        "\n",
        "\n"
      ],
      "metadata": {
        "id": "6RQ_bAC6KlAU"
      }
    },
    {
      "cell_type": "code",
      "source": [
        "!pip3 install optuna --quiet"
      ],
      "metadata": {
        "id": "qSg7t4EJx9Pp"
      },
      "execution_count": null,
      "outputs": []
    },
    {
      "cell_type": "code",
      "source": [
        "import optuna\n",
        "\n",
        "from IPython.display import clear_output\n",
        "import sys"
      ],
      "metadata": {
        "id": "CHT0LZ0WyERZ"
      },
      "execution_count": null,
      "outputs": []
    },
    {
      "cell_type": "markdown",
      "source": [
        "### define search space"
      ],
      "metadata": {
        "id": "i_gZFwkKtj5T"
      }
    },
    {
      "cell_type": "code",
      "source": [
        "def sample_dqn_params(trial: optuna.Trial):\n",
        "    \"\"\"\n",
        "    Sampler for DQN hyperparams.\n",
        "    :param trial:\n",
        "    :return:\n",
        "    \"\"\"\n",
        "    learning_rate = trial.suggest_loguniform(\"learning_rate\", 1e-5, 1e-2)\n",
        "\n",
        "    net_arch = trial.suggest_categorical(\"net_arch\", [\"two\", \"three\"]) #, \"two_big\"\n",
        "    net_arch = {\"two\": [64, 64], \"three\": [64, 64, 64]}[net_arch] #, \"two_big\": [256, 256]\n",
        "\n",
        "    hyperparams = {\n",
        "        \"learning_rate\": learning_rate,#\n",
        "        \"policy_kwargs\": dict(activation_fn=torch.nn.ReLU, net_arch=net_arch),\n",
        "        \"batch_size\": 1,  #for simplicity, we are not doing batch update.\n",
        "        \"buffer_size\": 1, #size of experience of replay buffer. Set to 1 as batch update is not done\n",
        "        \"learning_starts\": 1, #learning starts immediately!\n",
        "        \"gamma\": 0.99, #discount facto. range is between 0 and 1.\n",
        "        \"tau\": 1,  #the soft update coefficient for updating the target network\n",
        "        \"target_update_interval\": 1, #update the target network immediately.\n",
        "        \"train_freq\": (1,\"step\"), #train the network at every step.\n",
        "        \"max_grad_norm\": 10, #the maximum value for the gradient clipping\n",
        "        \"exploration_initial_eps\": 1, #initial value of random action probability\n",
        "        \"exploration_fraction\": 0.5, #fraction of entire training period over which the exploration rate is reduced\n",
        "        \"gradient_steps\": 1, #number of gradient steps\n",
        "        \"seed\": 1, #seed for the pseudo random generators\n",
        "        \"verbose\": 0\n",
        "    }\n",
        "    return hyperparams"
      ],
      "metadata": {
        "id": "mWhSf_qjk8T4"
      },
      "execution_count": null,
      "outputs": []
    },
    {
      "cell_type": "markdown",
      "source": [
        "### define callback"
      ],
      "metadata": {
        "id": "fFyJprz6tp7_"
      }
    },
    {
      "cell_type": "code",
      "source": [
        "class LoggingCallback:\n",
        "    def __init__(self,threshold,trial_number,patience):\n",
        "      '''\n",
        "      threshold: int tolerance for increase in reward\n",
        "      trial_number: int Prune after minimum number of trials\n",
        "      patience: int patience for the threshold\n",
        "      '''\n",
        "      self.threshold = threshold\n",
        "      self.trial_number  = trial_number\n",
        "      self.patience = patience\n",
        "      self.cb_list = [] #Trials list for which threshold is reached\n",
        "    def __call__(self,study:optuna.study, frozen_trial:optuna.Trial):\n",
        "      #Setting the best value in the current trial\n",
        "      study.set_user_attr(\"previous_best_value\", study.best_value)\n",
        "      \n",
        "      #Checking if the minimum number of trials have pass\n",
        "      if frozen_trial.number >self.trial_number:\n",
        "          previous_best_value = study.user_attrs.get(\"previous_best_value\",None)\n",
        "          #Checking if the previous and current objective values have the same sign\n",
        "          if previous_best_value * study.best_value >=0:\n",
        "              #Checking for the threshold condition\n",
        "              if abs(previous_best_value-study.best_value) < self.threshold: \n",
        "                  self.cb_list.append(frozen_trial.number)\n",
        "                  #If threshold is achieved for the patience amount of time\n",
        "                  if len(self.cb_list)>self.patience:\n",
        "                      print('The study stops now...')\n",
        "                      print('With number',frozen_trial.number ,'and value ',frozen_trial.value)\n",
        "                      print('The previous and current best values are {} and {} respectively'\n",
        "                              .format(previous_best_value, study.best_value))\n",
        "                      study.stop()"
      ],
      "metadata": {
        "id": "Q4FKnTdKttOu"
      },
      "execution_count": null,
      "outputs": []
    },
    {
      "cell_type": "markdown",
      "source": [
        "### define objective"
      ],
      "metadata": {
        "id": "B1qV393bpoTO"
      }
    },
    {
      "cell_type": "code",
      "source": [
        "log_dir = \"models\"\n",
        "os.makedirs(log_dir,exist_ok=True) \n",
        "\n",
        "def objective(trial:optuna.Trial):\n",
        "\n",
        "  # Create environment\n",
        "  env = gym.make('LunarLander-v2')\n",
        "  env = stable_baselines3.common.monitor.Monitor(env, log_dir)\n",
        "\n",
        "  #Trial will suggest a set of hyperparamters from the specified range\n",
        "  hyperparameters = sample_dqn_params(trial)\n",
        "  model_dqn = DQN(\"MlpPolicy\", env, **hyperparameters) #Set verbose to 1 to observe training logs. We encourage you to set the verbose to 1.\n",
        "\n",
        "  # define learning steps\n",
        "  trained_dqn = model_dqn.learn(total_timesteps=1, log_interval=10)#100000 , callback=callback\n",
        "  # save model\n",
        "  trained_dqn.save('models/dqn_{}.pth'.format(trial.number)) \n",
        "\n",
        "  x, y = ts2xy(load_results(log_dir), 'episodes') # timesteps\n",
        "  # clear_output(wait=True)\n",
        "  #For the given hyperparamters, determine reward\n",
        "  reward = sum(y)\n",
        "  return reward\n",
        "\n",
        "#Create a study object and specify the direction as 'maximize'\n",
        "#As you want to maximize reward\n",
        "#Pruner stops not promising iterations\n",
        "#Use a pruner, else you will get error related to divergence of model\n",
        "#You can also use Multivariate samplere\n",
        "#sampler = optuna.samplers.TPESampler(multivarite=True,seed=42)\n",
        "sampler = optuna.samplers.TPESampler(seed=42)\n",
        "study = optuna.create_study(study_name=\"dqn_study\",direction='maximize',\n",
        "                            sampler = sampler, pruner=optuna.pruners.HyperbandPruner())\n",
        "\n",
        "logging_callback = LoggingCallback(threshold=10, patience=30, trial_number=5)\n",
        "#You can increase the n_trials for a better search space scanning\n",
        "study.optimize(objective, n_trials=4, catch=(ValueError,),callbacks=[logging_callback])"
      ],
      "metadata": {
        "id": "2s-bjWndt_a6",
        "colab": {
          "base_uri": "https://localhost:8080/"
        },
        "outputId": "4a5678ae-684c-487f-da4a-25b63443aab5"
      },
      "execution_count": null,
      "outputs": [
        {
          "output_type": "stream",
          "name": "stderr",
          "text": [
            "\u001b[32m[I 2022-07-22 08:35:24,721]\u001b[0m A new study created in memory with name: dqn_study\u001b[0m\n",
            "\u001b[32m[I 2022-07-22 08:35:27,212]\u001b[0m Trial 0 finished with value: 0.0 and parameters: {'learning_rate': 0.0001329291894316216, 'net_arch': 'two'}. Best is trial 0 with value: 0.0.\u001b[0m\n",
            "\u001b[32m[I 2022-07-22 08:35:27,262]\u001b[0m Trial 1 finished with value: 0.0 and parameters: {'learning_rate': 0.0006251373574521745, 'net_arch': 'two'}. Best is trial 0 with value: 0.0.\u001b[0m\n",
            "\u001b[32m[I 2022-07-22 08:35:27,311]\u001b[0m Trial 2 finished with value: 0.0 and parameters: {'learning_rate': 1.493656855461762e-05, 'net_arch': 'two'}. Best is trial 0 with value: 0.0.\u001b[0m\n",
            "\u001b[32m[I 2022-07-22 08:35:27,367]\u001b[0m Trial 3 finished with value: 0.0 and parameters: {'learning_rate': 0.001331121608073689, 'net_arch': 'three'}. Best is trial 0 with value: 0.0.\u001b[0m\n"
          ]
        }
      ]
    },
    {
      "cell_type": "markdown",
      "source": [
        "### get the best model"
      ],
      "metadata": {
        "id": "tf91UWqvzR6Y"
      }
    },
    {
      "cell_type": "code",
      "source": [
        "#Get the best hyperparamters\n",
        "print('Hyperparameters after tuning',study.best_params)"
      ],
      "metadata": {
        "colab": {
          "base_uri": "https://localhost:8080/"
        },
        "id": "CcDma0wSy02u",
        "outputId": "68d7a764-66c8-444d-c3b0-289c6ee00483"
      },
      "execution_count": null,
      "outputs": [
        {
          "output_type": "stream",
          "name": "stdout",
          "text": [
            "Hyperparameters after tuning {'learning_rate': 0.0001329291894316216, 'net_arch': 'two'}\n"
          ]
        }
      ]
    },
    {
      "cell_type": "code",
      "source": [
        "study.best_trial"
      ],
      "metadata": {
        "colab": {
          "base_uri": "https://localhost:8080/"
        },
        "id": "yqou4GOlzWMh",
        "outputId": "af63b514-9589-4686-b264-acb47bb618f8"
      },
      "execution_count": null,
      "outputs": [
        {
          "output_type": "execute_result",
          "data": {
            "text/plain": [
              "FrozenTrial(number=0, values=[0.0], datetime_start=datetime.datetime(2022, 7, 22, 8, 35, 24, 738095), datetime_complete=datetime.datetime(2022, 7, 22, 8, 35, 27, 211750), params={'learning_rate': 0.0001329291894316216, 'net_arch': 'two'}, distributions={'learning_rate': LogUniformDistribution(high=0.01, low=1e-05), 'net_arch': CategoricalDistribution(choices=('two', 'three'))}, user_attrs={}, system_attrs={}, intermediate_values={}, trial_id=0, state=TrialState.COMPLETE, value=None)"
            ]
          },
          "metadata": {},
          "execution_count": 10
        }
      ]
    },
    {
      "cell_type": "markdown",
      "source": [
        "## Template"
      ],
      "metadata": {
        "id": "mObWM9TLp2lj"
      }
    },
    {
      "cell_type": "code",
      "execution_count": null,
      "metadata": {
        "execution": {},
        "id": "vJm_qzWkobbg"
      },
      "outputs": [],
      "source": [
        "nn_layers = [64,64] #This is the configuration of your neural network. Currently, we have two layers, each consisting of 64 neurons.\n",
        "                    #If you want three layers with 64 neurons each, set the value to [64,64,64] and so on.\n",
        "\n",
        "learning_rate = 0.001 #This is the step-size with which the gradient descent is carried out.\n",
        "                      #Tip: Use smaller step-sizes for larger networks."
      ]
    },
    {
      "cell_type": "markdown",
      "metadata": {
        "execution": {},
        "id": "-9bGzUVPobbh"
      },
      "source": [
        "Now, let us setup our model and the DQN algorithm. "
      ]
    },
    {
      "cell_type": "code",
      "execution_count": null,
      "metadata": {
        "execution": {},
        "id": "1dN91ycLobbh"
      },
      "outputs": [],
      "source": [
        "log_dir = \"/tmp/gym/\"\n",
        "os.makedirs(log_dir, exist_ok=True)\n",
        "\n",
        "# Create environment\n",
        "env = gym.make('LunarLander-v3')\n",
        "#You can also load other environments like cartpole, MountainCar, Acrobot. Refer to https://gym.openai.com/docs/ for descriptions.\n",
        "#For example, if you would like to load Cartpole, just replace the above statement with \"env = gym.make('CartPole-v1')\".\n",
        "\n",
        "env = stable_baselines3.common.monitor.Monitor(env, log_dir )\n",
        "\n",
        "callback = EvalCallback(env,log_path = log_dir, deterministic=True) #For evaluating the performance of the agent periodically and logging the results.\n",
        "\n",
        "policy_kwargs = dict(activation_fn=torch.nn.ReLU,\n",
        "                     net_arch=nn_layers)\n",
        "model = DQN(\"MlpPolicy\", env, policy_kwargs = policy_kwargs,\n",
        "            learning_rate=learning_rate,\n",
        "            batch_size=1,  #for simplicity, we are not doing batch update.\n",
        "            buffer_size=1, #size of experience of replay buffer. Set to 1 as batch update is not done\n",
        "            learning_starts=1, #learning starts immediately!\n",
        "            gamma=0.99, #discount facto. range is between 0 and 1.\n",
        "            tau = 1,  #the soft update coefficient for updating the target network\n",
        "            target_update_interval=1, #update the target network immediately.\n",
        "            train_freq=(1,\"step\"), #train the network at every step.\n",
        "            max_grad_norm = 10, #the maximum value for the gradient clipping\n",
        "            exploration_initial_eps = 1, #initial value of random action probability\n",
        "            exploration_fraction = 0.5, #fraction of entire training period over which the exploration rate is reduced\n",
        "            gradient_steps = 1, #number of gradient steps\n",
        "            seed = 1, #seed for the pseudo random generators\n",
        "            verbose=0) #Set verbose to 1 to observe training logs. We encourage you to set the verbose to 1.\n",
        "\n",
        "# You can also experiment with other RL algorithms like A2C, PPO, DDPG etc. Refer to  https://stable-baselines3.readthedocs.io/en/master/guide/examples.html\n",
        "#for documentation. For example, if you would like to run DDPG, just replace \"DQN\" above with \"DDPG\"."
      ]
    },
    {
      "cell_type": "markdown",
      "metadata": {
        "execution": {},
        "id": "0-7OLtdpobbi"
      },
      "source": [
        "Before we train the model, let us look at an instance of Lunar Lander **before training**.  \n",
        "\n",
        "**Note:** The following code for rendering the video is taken from https://colab.research.google.com/github/jeffheaton/t81_558_deep_learning/blob/master/t81_558_class_12_01_ai_gym.ipynb#scrollTo=T9RpF49oOsZj"
      ]
    },
    {
      "cell_type": "code",
      "execution_count": null,
      "metadata": {
        "execution": {},
        "id": "8nEQvdE7obbj",
        "outputId": "1a069bb5-4930-4874-acc2-7d630e09d625",
        "colab": {
          "base_uri": "https://localhost:8080/",
          "height": 421
        }
      },
      "outputs": [
        {
          "output_type": "display_data",
          "data": {
            "text/plain": [
              "<IPython.core.display.HTML object>"
            ],
            "text/html": [
              "<video alt=\"test\" autoplay\n",
              "                loop controls style=\"height: 400px;\">\n",
              "                <source src=\"data:video/mp4;base64,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\" type=\"video/mp4\" />\n",
              "             </video>"
            ]
          },
          "metadata": {}
        }
      ],
      "source": [
        "test_env = wrap_env(gym.make(\"LunarLander-v2\"))\n",
        "observation = test_env.reset()\n",
        "total_reward = 0\n",
        "while True:\n",
        "  test_env.render()\n",
        "  action, states = model.predict(observation, deterministic=True)\n",
        "  observation, reward, done, info = test_env.step(action)\n",
        "  total_reward += reward\n",
        "  if done:\n",
        "    break;\n",
        "\n",
        "# print(total_reward)\n",
        "test_env.close()\n",
        "show_video()"
      ]
    },
    {
      "cell_type": "markdown",
      "metadata": {
        "execution": {},
        "id": "ZpMABSl9obbk"
      },
      "source": [
        "From the video above, we see that the lander has crashed! \n",
        "It is now the time for training! \n"
      ]
    },
    {
      "cell_type": "code",
      "execution_count": null,
      "metadata": {
        "execution": {},
        "id": "I0hzLf1lobbl",
        "colab": {
          "base_uri": "https://localhost:8080/"
        },
        "outputId": "92054caf-2762-49f7-a684-ef73f0efd908"
      },
      "outputs": [
        {
          "output_type": "stream",
          "name": "stdout",
          "text": [
            "Eval num_timesteps=9000, episode_reward=-330.30 +/- 56.71\n",
            "Episode length: 302.40 +/- 91.62\n",
            "New best mean reward!\n"
          ]
        },
        {
          "output_type": "execute_result",
          "data": {
            "text/plain": [
              "<stable_baselines3.dqn.dqn.DQN at 0x7f262938c910>"
            ]
          },
          "metadata": {},
          "execution_count": 63
        }
      ],
      "source": [
        "model.learn(total_timesteps=10000, log_interval=10, callback=callback, eval_log_path=log_dir)\n",
        "# The performance of the training will be printed every 10 episodes. Change it to 1, if you wish to\n",
        "# view the performance at every training episode.\n",
        "# how to read monitor.csv: ep_info = {\"r\": round(ep_rew, 6), \"l\": ep_len, \"t\": round(time.time() - self.t_start, 6)}"
      ]
    },
    {
      "cell_type": "markdown",
      "metadata": {
        "execution": {},
        "id": "ueR5BIcpobbm"
      },
      "source": [
        "The training takes time. We encourage you to analyze the output logs (set verbose to 1 to print the output logs). The main component of the logs that you should track is \"ep_rew_mean\" (mean of episode rewards). As the training proceeds, the value of \"ep_rew_mean\" should increase. The improvement need not be monotonic, but the trend should be upwards! \n",
        "\n",
        "Along with training, we are also periodically evaluating the performance of the current model during the training. This was reported in logs as follows:\n",
        "\n",
        "```\n",
        "Eval num_timesteps=100000, episode_reward=63.41 +/- 130.02\n",
        "Episode length: 259.80 +/- 47.47\n",
        "```"
      ]
    },
    {
      "cell_type": "markdown",
      "metadata": {
        "execution": {},
        "id": "ogkoKXiXobbm"
      },
      "source": [
        "Now, let us look at the visual performance of the lander. \n",
        "\n",
        "**Note:** The performance varies across different seeds and runs. This code is not optimized to be stable across all runs and seeds. We hope you will be able to find an optimal configuration! "
      ]
    },
    {
      "cell_type": "code",
      "execution_count": null,
      "metadata": {
        "execution": {},
        "id": "m_WCp8wdobbn",
        "outputId": "03dbc1c0-4e15-4578-a25d-4488498570a8",
        "colab": {
          "base_uri": "https://localhost:8080/",
          "height": 421
        }
      },
      "outputs": [
        {
          "output_type": "display_data",
          "data": {
            "text/plain": [
              "<IPython.core.display.HTML object>"
            ],
            "text/html": [
              "<video alt=\"test\" autoplay\n",
              "                loop controls style=\"height: 400px;\">\n",
              "                <source src=\"data:video/mp4;base64,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\" type=\"video/mp4\" />\n",
              "             </video>"
            ]
          },
          "metadata": {}
        }
      ],
      "source": [
        "env = wrap_env(gym.make(\"LunarLander-v3\"))\n",
        "observation = env.reset()\n",
        "while True:\n",
        "  env.render()\n",
        "  action, _states = model.predict(observation, deterministic=True)\n",
        "  observation, reward, done, info = env.step(action)\n",
        "  if done:\n",
        "    break;\n",
        "\n",
        "env.close()\n",
        "show_video()"
      ]
    },
    {
      "cell_type": "markdown",
      "metadata": {
        "execution": {},
        "id": "Ov5djtn9obbn"
      },
      "source": [
        "The lander has landed safely!!\n",
        "\n",
        "Let us analyze its performance (speed and stability). For this purpose, we plot the number of time steps on the X-axis and the episodic reward given by the trained model on the Y-axis. "
      ]
    },
    {
      "cell_type": "code",
      "execution_count": null,
      "metadata": {
        "execution": {},
        "id": "asuy5ryIobbo",
        "outputId": "63569cc2-a0c7-464a-af73-e11b361c24cf",
        "colab": {
          "base_uri": "https://localhost:8080/",
          "height": 301
        }
      },
      "outputs": [
        {
          "output_type": "execute_result",
          "data": {
            "text/plain": [
              "Text(0, 0.5, 'Episode Rewards')"
            ]
          },
          "metadata": {},
          "execution_count": 22
        },
        {
          "output_type": "display_data",
          "data": {
            "text/plain": [
              "<Figure size 432x288 with 1 Axes>"
            ],
            "image/png": "[encoded data removed]"
          },
          "metadata": {
            "needs_background": "light"
          }
        }
      ],
      "source": [
        "x, y = ts2xy(load_results(log_dir), 'episodes')  # Organising the logged results in to a clean format for plotting. timesteps\n",
        "plt.plot(x,y)\n",
        "plt.ylim([-300, 300])\n",
        "plt.xlabel('Timesteps')\n",
        "plt.ylabel('Episode Rewards')"
      ]
    },
    {
      "cell_type": "markdown",
      "metadata": {
        "execution": {},
        "id": "mw3iMGmwobbo"
      },
      "source": [
        "From the above plot, we observe that, although the maximum reward is achieved quickly. Achieving an episodic reward of > 200 is good. We see that the agent has achieved it in less than 50000 timesteps (speed is good!). However, there are a lot of fluctuations in the performance (stability is not good!). \n",
        "\n",
        "Your objective now is to modify the model parameters (nn_layers, learning_rate in the code cell #2 above), run all the cells following it and investigate the stability and speed of the chosen configuration.   \n"
      ]
    },
    {
      "cell_type": "markdown",
      "metadata": {
        "execution": {},
        "id": "_bKzapIyobbp"
      },
      "source": [
        "---\n",
        "# Additional Project Ideas"
      ]
    },
    {
      "cell_type": "markdown",
      "metadata": {
        "execution": {},
        "id": "gzByWGxfobbq"
      },
      "source": [
        "## 1 Play with exploration-exploitation trade-off\n",
        "\n",
        "Exploration (selecting random actions) and exploitation (selecting greedy action) is a crucial component of the DQN algorithm. Explore random actions for a long time will slow down the training process. At the same time, if all actions are not explored enough, it might lead to a sub-optimal performance. In the DQN code above, we have used the following parameters:"
      ]
    },
    {
      "cell_type": "code",
      "execution_count": null,
      "metadata": {
        "execution": {},
        "id": "5TeOBG-Jobbq"
      },
      "outputs": [],
      "source": [
        "exploration_initial_eps = 1  # initial value of random action probability. Range is between 0 and 1.\n",
        "exploration_fraction = 0.5  # fraction of entire training period over which the exploration rate is reduced. Range is between 0 and 1.\n",
        "exploration_final_eps = 0.05  # (set by defualt) final value of random action probability. Range is between 0 and 1."
      ]
    },
    {
      "cell_type": "markdown",
      "metadata": {
        "execution": {},
        "id": "dZuGeAULobbq"
      },
      "source": [
        "Your objective is to play around with these parameters and analyze their performance (speed and stability). You can modify these parameters and set them as arguments in DQN(...,exploration_initial_eps = 1, exploration_fraction = 0.5, exploration_final_eps = 0.05,...). "
      ]
    },
    {
      "cell_type": "markdown",
      "metadata": {
        "execution": {},
        "id": "yGp5JFoAobbr"
      },
      "source": [
        "## 2 Reward Shaping\n",
        "\n",
        "Your objective here is to construct a modified reward function that improves the performance of the Lunar Lander. To this end, you would have to create your own custom environment. An example of a custom environment is given below:"
      ]
    },
    {
      "cell_type": "markdown",
      "source": [
        "Ref: https://towardsdatascience.com/beginners-guide-to-custom-environments-in-openai-s-gym-989371673952"
      ],
      "metadata": {
        "id": "yIFSDq7eyXY-"
      }
    },
    {
      "cell_type": "markdown",
      "source": [
        "### New environment"
      ],
      "metadata": {
        "id": "iIvGmuJD49zZ"
      }
    },
    {
      "cell_type": "markdown",
      "source": [
        "#### define new env class"
      ],
      "metadata": {
        "id": "c-DTrZhLy0UM"
      }
    },
    {
      "cell_type": "code",
      "source": [
        "from gym.envs.box2d import LunarLander\n",
        "from Box2D.b2 import fixtureDef, circleShape, polygonShape, revoluteJointDef, contactListener, edgeShape\n",
        "import math"
      ],
      "metadata": {
        "id": "dTxYseql3ry3"
      },
      "execution_count": 5,
      "outputs": []
    },
    {
      "cell_type": "markdown",
      "source": [
        "Set parameters"
      ],
      "metadata": {
        "id": "MtUy074Syhdd"
      }
    },
    {
      "cell_type": "code",
      "source": [
        "FPS = 50\n",
        "SCALE = 30.0  # affects how fast-paced the game is, forces should be adjusted as well\n",
        "\n",
        "MAIN_ENGINE_POWER = 13.0\n",
        "SIDE_ENGINE_POWER = 0.6\n",
        "\n",
        "INITIAL_RANDOM = 1000.0  # Set 1500 to make game harder\n",
        "\n",
        "LANDER_POLY = [(-14, +17), (-17, 0), (-17, -10), (+17, -10), (+17, 0), (+14, +17)]\n",
        "LEG_AWAY = 20\n",
        "LEG_DOWN = 18\n",
        "LEG_W, LEG_H = 2, 8\n",
        "LEG_SPRING_TORQUE = 40\n",
        "\n",
        "SIDE_ENGINE_HEIGHT = 14.0\n",
        "SIDE_ENGINE_AWAY = 12.0\n",
        "\n",
        "VIEWPORT_W = 600\n",
        "VIEWPORT_H = 400"
      ],
      "metadata": {
        "id": "E6Ivff2jW7q8"
      },
      "execution_count": 6,
      "outputs": []
    },
    {
      "cell_type": "markdown",
      "source": [
        "##### with obstacle and new reward"
      ],
      "metadata": {
        "id": "hU5fazVEArJ4"
      }
    },
    {
      "cell_type": "code",
      "source": [
        "class ContactDetector(contactListener):\n",
        "    def __init__(self, env):\n",
        "        contactListener.__init__(self)\n",
        "        self.env = env\n",
        "\n",
        "    def BeginContact(self, contact):\n",
        "        if (\n",
        "                self.env.lander == contact.fixtureA.body\n",
        "                or self.env.lander == contact.fixtureB.body\n",
        "        ):\n",
        "            self.env.game_over = True\n",
        "        for i in range(2):\n",
        "            if self.env.legs[i] in [contact.fixtureA.body, contact.fixtureB.body]:\n",
        "                self.env.legs[i].ground_contact = True\n",
        "\n",
        "    def EndContact(self, contact):\n",
        "        for i in range(2):\n",
        "            if self.env.legs[i] in [contact.fixtureA.body, contact.fixtureB.body]:\n",
        "                self.env.legs[i].ground_contact = False\n",
        "\n",
        "class Custom_LunarLander_obs(LunarLander):\n",
        "    metadata = {\"render.modes\": [\"human\", \"rgb_array\"], \"video.frames_per_second\": FPS}\n",
        "    continuous = False\n",
        "\n",
        "    def __init__(\n",
        "        self,\n",
        "        enable_wind: bool = False,\n",
        "        wind_power: float = 15.0,\n",
        "        obs_coords = [10, 10],\n",
        "        enable_obstacle: bool = True\n",
        "    ):\n",
        "        LunarLander.__init__(self)\n",
        "\n",
        "        self.enable_wind = enable_wind\n",
        "\n",
        "        self.obs_coords = obs_coords\n",
        "        self.enable_obstacle = enable_obstacle\n",
        "        self.wind_power = wind_power\n",
        "\n",
        "        self.wind_idx = np.random.randint(-9999, 9999)\n",
        "\n",
        "        # defining the polygon obstacle here:\n",
        "        vertices_poly = [(5, 5), (5, 2), (2, 2), (2, 5)]  # may need to change later\n",
        "        # self.obstacle = self.world.CreateStaticBody(\n",
        "        #\n",
        "        #     # shapes=polygonShape(centroid=(self.obs_coords[0] + VIEWPORT_W / 2 / SCALE,\n",
        "        #     #                         self.obs_coords[1] + (self.helipad_y + LEG_DOWN / SCALE)),\n",
        "        #     #                    vertices= [(x / SCALE, y / SCALE) for x, y in vertices_poly]),\n",
        "        #     shapes=circleShape(pos=(self.obs_coords[0] + VIEWPORT_W / 2 / SCALE,\n",
        "        #                             self.obs_coords[1] + (self.helipad_y + LEG_DOWN / SCALE)),\n",
        "        #                        radius=2),\n",
        "        #                         categoryBits=0x1000,\n",
        "        #\n",
        "        # )\n",
        "        self.obstacle = self.world.CreateStaticBody(\n",
        "            position=(self.obs_coords[0], self.obs_coords[1]),\n",
        "            # (self.obs_coords[0] + VIEWPORT_W / 2 / SCALE,\n",
        "            # self.obs_coords[1] + (self.helipad_y + LEG_DOWN / SCALE))\n",
        "            angle=0.0,\n",
        "            fixtures=fixtureDef(\n",
        "                #circleShape(radius=2 / SCALE, pos=(0, 0)),\n",
        "                shape=circleShape(radius=20 / SCALE, \n",
        "                                  pos=(self.obs_coords[0],\n",
        "                                       self.obs_coords[1])),\n",
        "                # density=5.0,\n",
        "                # friction=0.1,\n",
        "                # categoryBits=0x0010,\n",
        "                # # maskBits=0x001,  # collide only with ground\n",
        "                # restitution=0.0,\n",
        "            ),  # 0.99 bouncy\n",
        "        )\n",
        "\n",
        "        self.obstacle.color1 = (0.5, 0.4, 0.9)\n",
        "        self.obstacle.color2 = (1, 1, 1)\n",
        "        # self.obstacle.alpha = 0.8  \n",
        "\n",
        "        self.observation_space = spaces.Box(\n",
        "            -np.inf, np.inf, shape=(10,), dtype=np.float32\n",
        "        )   \n",
        "\n",
        "    def reset(self):\n",
        "        self._destroy()\n",
        "        self.world.contactListener_keepref = ContactDetector(self)\n",
        "        self.world.contactListener = self.world.contactListener_keepref\n",
        "        self.game_over = False\n",
        "        self.prev_shaping = None\n",
        "\n",
        "        W = VIEWPORT_W / SCALE\n",
        "        H = VIEWPORT_H / SCALE\n",
        "\n",
        "        # terrain\n",
        "        CHUNKS = 11\n",
        "        height = self.np_random.uniform(0, H / 2, size=(CHUNKS + 1,))\n",
        "        chunk_x = [W / (CHUNKS - 1) * i for i in range(CHUNKS)]\n",
        "        self.helipad_x1 = chunk_x[CHUNKS // 2 - 1]\n",
        "        self.helipad_x2 = chunk_x[CHUNKS // 2 + 1]\n",
        "        self.helipad_y = H / 4\n",
        "        height[CHUNKS // 2 - 2] = self.helipad_y\n",
        "        height[CHUNKS // 2 - 1] = self.helipad_y\n",
        "        height[CHUNKS // 2 + 0] = self.helipad_y\n",
        "        height[CHUNKS // 2 + 1] = self.helipad_y\n",
        "        height[CHUNKS // 2 + 2] = self.helipad_y\n",
        "        smooth_y = [\n",
        "            0.33 * (height[i - 1] + height[i + 0] + height[i + 1])\n",
        "            for i in range(CHUNKS)\n",
        "        ]\n",
        "\n",
        "        self.moon = self.world.CreateStaticBody(\n",
        "            shapes=edgeShape(vertices=[(0, 0), (W, 0)])\n",
        "        )\n",
        "\n",
        "        # defining the polygon obstacle here----------------------------------\n",
        "        vertices_poly = [(5, 5), (5, 2), (2, 2), (2, 5)]  # may need to change later\n",
        "        # self.obstacle = self.world.CreateStaticBody(\n",
        "        #\n",
        "        #     # shapes=polygonShape(centroid=(self.obs_coords[0] + VIEWPORT_W / 2 / SCALE,\n",
        "        #     #                         self.obs_coords[1] + (self.helipad_y + LEG_DOWN / SCALE)),\n",
        "        #     #                    vertices= [(x / SCALE, y / SCALE) for x, y in vertices_poly]),\n",
        "        #     shapes=circleShape(pos=(self.obs_coords[0] + VIEWPORT_W / 2 / SCALE,\n",
        "        #                             self.obs_coords[1] + (self.helipad_y + LEG_DOWN / SCALE)),\n",
        "        #                        radius=2),\n",
        "        #                         categoryBits=0x1000,\n",
        "        #\n",
        "        # )\n",
        "        self.obstacle = self.world.CreateStaticBody(\n",
        "            position=(self.obs_coords[0], self.obs_coords[1]),\n",
        "            # (self.obs_coords[0] + VIEWPORT_W / 2 / SCALE,\n",
        "            # self.obs_coords[1] + (self.helipad_y + LEG_DOWN / SCALE))\n",
        "            angle=0.0,\n",
        "            fixtures=fixtureDef(\n",
        "                #circleShape(radius=2 / SCALE, pos=(0, 0)),\n",
        "                shape=circleShape(radius=20 / SCALE, \n",
        "                                  pos=(self.obs_coords[0],\n",
        "                                       self.obs_coords[1])),\n",
        "                # density=5.0,\n",
        "                # friction=0.1,\n",
        "                # categoryBits=0x0010,\n",
        "                # # maskBits=0x001,  # collide only with ground\n",
        "                # restitution=0.0,\n",
        "            ),  # 0.99 bouncy\n",
        "        )\n",
        "\n",
        "        self.obstacle.color1 = (0.5, 0.4, 0.9)\n",
        "        self.obstacle.color2 = (1, 1, 1)\n",
        "        # self.obstacle.alpha = 0.8\n",
        "        # ----------------------------------------------------------------\n",
        "\n",
        "        self.sky_polys = []\n",
        "        for i in range(CHUNKS - 1):\n",
        "            p1 = (chunk_x[i], smooth_y[i])\n",
        "            p2 = (chunk_x[i + 1], smooth_y[i + 1])\n",
        "            self.moon.CreateEdgeFixture(vertices=[p1, p2], density=0, friction=0.1)\n",
        "            self.sky_polys.append([p1, p2, (p2[0], H), (p1[0], H)])\n",
        "\n",
        "        self.moon.color1 = (0.0, 0.0, 0.0)\n",
        "        self.moon.color2 = (0.0, 0.0, 0.0)\n",
        "\n",
        "        initial_y = VIEWPORT_H / SCALE\n",
        "        self.lander = self.world.CreateDynamicBody(\n",
        "            position=(VIEWPORT_W / SCALE / 2, initial_y),\n",
        "            angle=0.0,\n",
        "            fixtures=fixtureDef(\n",
        "                shape=polygonShape(\n",
        "                    vertices=[(x / SCALE, y / SCALE) for x, y in LANDER_POLY]\n",
        "                ),\n",
        "                density=5.0,\n",
        "                friction=0.1,\n",
        "                categoryBits=0x0010,\n",
        "                maskBits=0x001,  # collide only with ground\n",
        "                restitution=0.0,\n",
        "            ),  # 0.99 bouncy\n",
        "        )\n",
        "        self.lander.color1 = (0.5, 0.4, 0.9)\n",
        "        self.lander.color2 = (0.3, 0.3, 0.5)\n",
        "        self.lander.ApplyForceToCenter(\n",
        "            (\n",
        "                self.np_random.uniform(-INITIAL_RANDOM, INITIAL_RANDOM),\n",
        "                self.np_random.uniform(-INITIAL_RANDOM, INITIAL_RANDOM),\n",
        "            ),\n",
        "            True,\n",
        "        )\n",
        "\n",
        "        self.legs = []\n",
        "        for i in [-1, +1]:\n",
        "            leg = self.world.CreateDynamicBody(\n",
        "                position=(VIEWPORT_W / SCALE / 2 - i * LEG_AWAY / SCALE, initial_y),\n",
        "                angle=(i * 0.05),\n",
        "                fixtures=fixtureDef(\n",
        "                    shape=polygonShape(box=(LEG_W / SCALE, LEG_H / SCALE)),\n",
        "                    density=1.0,\n",
        "                    restitution=0.0,\n",
        "                    categoryBits=0x0020,\n",
        "                    maskBits=0x001,\n",
        "                ),\n",
        "            )\n",
        "            leg.ground_contact = False\n",
        "            leg.color1 = (0.5, 0.4, 0.9)\n",
        "            leg.color2 = (0.3, 0.3, 0.5)\n",
        "            rjd = revoluteJointDef(\n",
        "                bodyA=self.lander,\n",
        "                bodyB=leg,\n",
        "                localAnchorA=(0, 0),\n",
        "                localAnchorB=(i * LEG_AWAY / SCALE, LEG_DOWN / SCALE),\n",
        "                enableMotor=True,\n",
        "                enableLimit=True,\n",
        "                maxMotorTorque=LEG_SPRING_TORQUE,\n",
        "                motorSpeed=+0.3 * i,  # low enough not to jump back into the sky\n",
        "            )\n",
        "            if i == -1:\n",
        "                rjd.lowerAngle = (\n",
        "                        +0.9 - 0.5\n",
        "                )  # The most esoteric numbers here, angled legs have freedom to travel within\n",
        "                rjd.upperAngle = +0.9\n",
        "            else:\n",
        "                rjd.lowerAngle = -0.9\n",
        "                rjd.upperAngle = -0.9 + 0.5\n",
        "            leg.joint = self.world.CreateJoint(rjd)\n",
        "            self.legs.append(leg)\n",
        "\n",
        "        self.drawlist = [self.lander] + self.legs\n",
        "        \n",
        "\n",
        "        return self.step(np.array([0, 0]) if self.continuous else 0)[0]\n",
        "\n",
        "    def step(self, action):\n",
        "        if self.continuous:\n",
        "            action = np.clip(action, -1, +1).astype(np.float32)\n",
        "        else:\n",
        "            assert self.action_space.contains(action), \"%r (%s) invalid \" % (\n",
        "                action,\n",
        "                type(action),\n",
        "            )\n",
        "\n",
        "        # Engines\n",
        "        tip = (math.sin(self.lander.angle), math.cos(self.lander.angle))\n",
        "        side = (-tip[1], tip[0])\n",
        "        dispersion = [self.np_random.uniform(-1.0, +1.0) / SCALE for _ in range(2)]\n",
        "\n",
        "        m_power = 0.0\n",
        "        if (self.continuous and action[0] > 0.0) or (\n",
        "            not self.continuous and action == 2\n",
        "        ):\n",
        "            # Main engine\n",
        "            if self.continuous:\n",
        "                m_power = (np.clip(action[0], 0.0, 1.0) + 1.0) * 0.5  # 0.5..1.0\n",
        "                assert m_power >= 0.5 and m_power <= 1.0\n",
        "            else:\n",
        "                m_power = 1.0\n",
        "            ox = (\n",
        "                tip[0] * (4 / SCALE + 2 * dispersion[0]) + side[0] * dispersion[1]\n",
        "            )  # 4 is move a bit downwards, +-2 for randomness\n",
        "            oy = -tip[1] * (4 / SCALE + 2 * dispersion[0]) - side[1] * dispersion[1]\n",
        "            impulse_pos = (self.lander.position[0] + ox, self.lander.position[1] + oy)\n",
        "            p = self._create_particle(\n",
        "                3.5,  # 3.5 is here to make particle speed adequate\n",
        "                impulse_pos[0],\n",
        "                impulse_pos[1],\n",
        "                m_power,\n",
        "            )  # particles are just a decoration\n",
        "            p.ApplyLinearImpulse(\n",
        "                (ox * MAIN_ENGINE_POWER * m_power, oy * MAIN_ENGINE_POWER * m_power),\n",
        "                impulse_pos,\n",
        "                True,\n",
        "            )\n",
        "            self.lander.ApplyLinearImpulse(\n",
        "                (-ox * MAIN_ENGINE_POWER * m_power, -oy * MAIN_ENGINE_POWER * m_power),\n",
        "                impulse_pos,\n",
        "                True,\n",
        "            )\n",
        "\n",
        "        s_power = 0.0\n",
        "        if (self.continuous and np.abs(action[1]) > 0.5) or (\n",
        "            not self.continuous and action in [1, 3]\n",
        "        ):\n",
        "            # Orientation engines\n",
        "            if self.continuous:\n",
        "                direction = np.sign(action[1])\n",
        "                s_power = np.clip(np.abs(action[1]), 0.5, 1.0)\n",
        "                assert s_power >= 0.5 and s_power <= 1.0\n",
        "            else:\n",
        "                direction = action - 2\n",
        "                s_power = 1.0\n",
        "            ox = tip[0] * dispersion[0] + side[0] * (\n",
        "                3 * dispersion[1] + direction * SIDE_ENGINE_AWAY / SCALE\n",
        "            )\n",
        "            oy = -tip[1] * dispersion[0] - side[1] * (\n",
        "                3 * dispersion[1] + direction * SIDE_ENGINE_AWAY / SCALE\n",
        "            )\n",
        "            impulse_pos = (\n",
        "                self.lander.position[0] + ox - tip[0] * 17 / SCALE,\n",
        "                self.lander.position[1] + oy + tip[1] * SIDE_ENGINE_HEIGHT / SCALE,\n",
        "            )\n",
        "            p = self._create_particle(0.7, impulse_pos[0], impulse_pos[1], s_power)\n",
        "            p.ApplyLinearImpulse(\n",
        "                (ox * SIDE_ENGINE_POWER * s_power, oy * SIDE_ENGINE_POWER * s_power),\n",
        "                impulse_pos,\n",
        "                True,\n",
        "            )\n",
        "            self.lander.ApplyLinearImpulse(\n",
        "                (-ox * SIDE_ENGINE_POWER * s_power, -oy * SIDE_ENGINE_POWER * s_power),\n",
        "                impulse_pos,\n",
        "                True,\n",
        "            )\n",
        "\n",
        "        self.world.Step(1.0 / FPS, 6 * 30, 2 * 30)\n",
        "\n",
        "        pos = self.lander.position\n",
        "        # print([pos.x,pos.y])\n",
        "        vel = self.lander.linearVelocity\n",
        "        # print([vel.x,vel.y])\n",
        "        state = [\n",
        "            (pos.x - VIEWPORT_W / SCALE / 2) / (VIEWPORT_W / SCALE / 2), # 0: x position\n",
        "            (pos.y - (self.helipad_y + LEG_DOWN / SCALE)) / (VIEWPORT_H / SCALE / 2), # 1: y position\n",
        "            vel.x * (VIEWPORT_W / SCALE / 2) / FPS, # 2\n",
        "            vel.y * (VIEWPORT_H / SCALE / 2) / FPS, # 3\n",
        "            self.lander.angle, # 4\n",
        "            20.0 * self.lander.angularVelocity / FPS, # 5\n",
        "            1.0 if self.legs[0].ground_contact else 0.0, # 6\n",
        "            1.0 if self.legs[1].ground_contact else 0.0, # 7\n",
        "\n",
        "            (pos.x - self.obs_coords[0] / SCALE) / (VIEWPORT_W / SCALE / 2), # 8: x position\n",
        "            (pos.y - self.obs_coords[1] / SCALE) / (VIEWPORT_H / SCALE / 2), # 9: y position\n",
        "\n",
        "        ]\n",
        "        assert len(state) == 10\n",
        "\n",
        "        # ----------------------------------------------------------------\n",
        "        # reward\n",
        "        # distance_to_obstacle = np.sqrt((pos.x - (self.obs_coords[0] +\n",
        "        #                                     VIEWPORT_W / SCALE / 2)) ** 2 +\n",
        "        #                         (pos.y - (self.obs_coords[1] +\n",
        "\n",
        "        #                                   (self.helipad_y + LEG_DOWN / SCALE))) ** 2)\n",
        "        distance_to_obstacle = np.sqrt(state[8] * state[8] + state[9] * state[9])\n",
        "        # print((distance_to_obstacle <= (20 / SCALE)))\n",
        "        # if (distance_to_obstacle <= (1)):\n",
        "        #     print('dangerously close to obstacle!')\n",
        "\n",
        "        reward = 0\n",
        "        shaping = (\n",
        "            # If the lander moves away from the landing pad, it loses reward\n",
        "            - 150 * np.sqrt(state[0] * state[0] + state[1] * state[1]) # Euclidean distance\n",
        "            - 50 * np.sqrt(state[2] * state[2] + state[3] * state[3])\n",
        "\n",
        "            - 100 * abs(state[4])\n",
        "            # Each leg with ground contact is +10 points.\n",
        "            + 10 * state[6]\n",
        "            + 10 * state[7]\n",
        "            - 50 * (distance_to_obstacle <= (20 / SCALE)) # obstacles \n",
        "        )  # And ten points for legs contact, the idea is if you\n",
        "        # lose contact again after landing, you get negative reward\n",
        "        if self.prev_shaping is not None:\n",
        "            reward = shaping - self.prev_shaping\n",
        "        self.prev_shaping = shaping\n",
        "\n",
        "        # Firing the main engine is -0.3 points each frame. \n",
        "        reward -= (\n",
        "            m_power * 0.30\n",
        "        )  # less fuel spent is better, about -30 for heuristic landing\n",
        "        # Firing the side engine is -0.03 points each frame.\n",
        "        reward -= s_power * 0.03\n",
        "\n",
        "        done = False\n",
        "        if self.game_over or abs(state[0]) >= 1.0: # crashed?\n",
        "            done = True\n",
        "            reward = -100\n",
        "        if not self.lander.awake and (np.sqrt(state[0] * state[0] + state[1] * state[1]) == 0) and (np.sqrt(state[2] * state[2] + state[3] * state[3])==0): # rest\n",
        "            done = True\n",
        "            reward = +200\n",
        "\n",
        "        return np.array(state, dtype=np.float32), reward, done, {}\n",
        "        # ----------------------------------------------------------------\n",
        "\n",
        "\n",
        "    def render(self, mode=\"human\"):\n",
        "        from gym.envs.classic_control import rendering\n",
        "\n",
        "        if self.viewer is None:\n",
        "            self.viewer = rendering.Viewer(VIEWPORT_W, VIEWPORT_H)\n",
        "            self.viewer.set_bounds(0, VIEWPORT_W / SCALE, 0, VIEWPORT_H / SCALE)\n",
        "\n",
        "        for obj in self.particles:\n",
        "            obj.ttl -= 0.15\n",
        "            obj.color1 = (\n",
        "                max(0.2, 0.2 + obj.ttl),\n",
        "                max(0.2, 0.5 * obj.ttl),\n",
        "                max(0.2, 0.5 * obj.ttl),\n",
        "            )\n",
        "            obj.color2 = (\n",
        "                max(0.2, 0.2 + obj.ttl),\n",
        "                max(0.2, 0.5 * obj.ttl),\n",
        "                max(0.2, 0.5 * obj.ttl),\n",
        "            )\n",
        "\n",
        "        self._clean_particles(False)\n",
        "        # print('drawlist')\n",
        "        # print(self.drawlist)\n",
        "        for p in self.sky_polys:\n",
        "            self.viewer.draw_polygon(p, color=(0, 0, 0))\n",
        "        # editing below line to draw obstacle\n",
        "        for obj in self.particles + self.drawlist:\n",
        "            for f in obj.fixtures:\n",
        "                trans = f.body.transform\n",
        "                if type(f.shape) is circleShape:\n",
        "                    t = rendering.Transform(translation=trans * f.shape.pos)\n",
        "                    self.viewer.draw_circle(\n",
        "                        f.shape.radius, 20, color=obj.color1, filled=True\n",
        "                    ).add_attr(t)\n",
        "                    self.viewer.draw_circle(\n",
        "                        f.shape.radius, 20, color=obj.color2, filled=False, linewidth=2\n",
        "                    ).add_attr(t)\n",
        "                    # t = rendering.Transform((100, 100))  # Position\n",
        "                    # self.viewer.draw_circle(20).add_attr(t)  # Add transform for position\n",
        "                    # self.viewer.render()\n",
        "                else:\n",
        "                    path = [trans * v for v in f.shape.vertices]\n",
        "                    # print('poly shape in object fixtures')\n",
        "                    # print(f)\n",
        "                    self.viewer.draw_polygon(path, color=obj.color1)\n",
        "                    path.append(path[0])\n",
        "                    self.viewer.draw_polyline(path, color=obj.color2, linewidth=2)\n",
        "\n",
        "        for obj2 in [self.obstacle]:\n",
        "            # print('rendering obstacle')\n",
        "            # print(obj2)\n",
        "            for f in obj2.fixtures:\n",
        "                trans = f.body.transform\n",
        "                if type(f.shape) is circleShape:\n",
        "                    # print('printing circle of radius')\n",
        "                    #t = rendering.Transform(translation=trans * f.shape.pos)\n",
        "                    t = rendering.Transform((self.obs_coords[0], self.obs_coords[1]))\n",
        "                    # print(f.shape.radius)\n",
        "                    self.viewer.draw_circle(\n",
        "                        f.shape.radius, 20, color=obj2.color1, filled=True\n",
        "                    ).add_attr(t)\n",
        "                    self.viewer.draw_circle(\n",
        "                        f.shape.radius, 20, color=obj2.color2, filled=False, linewidth=2\n",
        "                    ).add_attr(t)\n",
        "                    # t = rendering.Transform((10, 10))  # Position\n",
        "                    # self.viewer.draw_circle(2).add_attr(t)  # Add transform for position\n",
        "                    # self.viewer.render()\n",
        "                else:\n",
        "                    path = [trans * v for v in f.shape.vertices]\n",
        "                    # print('poly shape in object fixtures')\n",
        "                    # print(f)\n",
        "                    self.viewer.draw_polygon(path, color=obj2.color1)\n",
        "                    path.append(path[0])\n",
        "                    self.viewer.draw_polyline(path, color=obj2.color2, linewidth=2)\n",
        "\n",
        "        for x in [self.helipad_x1, self.helipad_x2]:\n",
        "            flagy1 = self.helipad_y\n",
        "            flagy2 = flagy1 + 50 / SCALE\n",
        "            self.viewer.draw_polyline([(x, flagy1), (x, flagy2)], color=(1, 1, 1))\n",
        "            self.viewer.draw_polygon(\n",
        "                [\n",
        "                    (x, flagy2),\n",
        "                    (x, flagy2 - 10 / SCALE),\n",
        "                    (x + 25 / SCALE, flagy2 - 5 / SCALE),\n",
        "                ],\n",
        "                color=(0.8, 0.8, 0),\n",
        "            )\n",
        "\n",
        "        return self.viewer.render(return_rgb_array=mode == \"rgb_array\")\n",
        "\n",
        "\n",
        "    \n",
        "  # def reset(self):\n",
        "  #     pass  # reward, done, info can't be included\n",
        "\n",
        "  # def render(self, mode='human'):\n",
        "  #     pass\n",
        "\n",
        "  # def close(self):\n",
        "  #     pass"
      ],
      "metadata": {
        "id": "7Nxu5rsZ4MH1"
      },
      "execution_count": 29,
      "outputs": []
    },
    {
      "cell_type": "markdown",
      "source": [
        "##### with new reward"
      ],
      "metadata": {
        "id": "Hk3RJY11A0d1"
      }
    },
    {
      "cell_type": "code",
      "source": [
        "class Custom_LunarLander_reward(LunarLander):\n",
        "    metadata = {\"render.modes\": [\"human\", \"rgb_array\"], \"video.frames_per_second\": FPS}\n",
        "    continuous = False\n",
        "\n",
        "    def __init__(\n",
        "        self\n",
        "    ):\n",
        "        LunarLander.__init__(self)\n",
        "        \n",
        "    def step(self, action):\n",
        "        if self.continuous:\n",
        "            action = np.clip(action, -1, +1).astype(np.float32)\n",
        "        else:\n",
        "            assert self.action_space.contains(action), \"%r (%s) invalid \" % (\n",
        "                action,\n",
        "                type(action),\n",
        "            )\n",
        "\n",
        "        # Engines\n",
        "        tip = (math.sin(self.lander.angle), math.cos(self.lander.angle))\n",
        "        side = (-tip[1], tip[0])\n",
        "        dispersion = [self.np_random.uniform(-1.0, +1.0) / SCALE for _ in range(2)]\n",
        "\n",
        "        m_power = 0.0\n",
        "        if (self.continuous and action[0] > 0.0) or (\n",
        "            not self.continuous and action == 2\n",
        "        ):\n",
        "            # Main engine\n",
        "            if self.continuous:\n",
        "                m_power = (np.clip(action[0], 0.0, 1.0) + 1.0) * 0.5  # 0.5..1.0\n",
        "                assert m_power >= 0.5 and m_power <= 1.0\n",
        "            else:\n",
        "                m_power = 1.0\n",
        "            ox = (\n",
        "                tip[0] * (4 / SCALE + 2 * dispersion[0]) + side[0] * dispersion[1]\n",
        "            )  # 4 is move a bit downwards, +-2 for randomness\n",
        "            oy = -tip[1] * (4 / SCALE + 2 * dispersion[0]) - side[1] * dispersion[1]\n",
        "            impulse_pos = (self.lander.position[0] + ox, self.lander.position[1] + oy)\n",
        "            p = self._create_particle(\n",
        "                3.5,  # 3.5 is here to make particle speed adequate\n",
        "                impulse_pos[0],\n",
        "                impulse_pos[1],\n",
        "                m_power,\n",
        "            )  # particles are just a decoration\n",
        "            p.ApplyLinearImpulse(\n",
        "                (ox * MAIN_ENGINE_POWER * m_power, oy * MAIN_ENGINE_POWER * m_power),\n",
        "                impulse_pos,\n",
        "                True,\n",
        "            )\n",
        "            self.lander.ApplyLinearImpulse(\n",
        "                (-ox * MAIN_ENGINE_POWER * m_power, -oy * MAIN_ENGINE_POWER * m_power),\n",
        "                impulse_pos,\n",
        "                True,\n",
        "            )\n",
        "\n",
        "        s_power = 0.0\n",
        "        if (self.continuous and np.abs(action[1]) > 0.5) or (\n",
        "            not self.continuous and action in [1, 3]\n",
        "        ):\n",
        "            # Orientation engines\n",
        "            if self.continuous:\n",
        "                direction = np.sign(action[1])\n",
        "                s_power = np.clip(np.abs(action[1]), 0.5, 1.0)\n",
        "                assert s_power >= 0.5 and s_power <= 1.0\n",
        "            else:\n",
        "                direction = action - 2\n",
        "                s_power = 1.0\n",
        "            ox = tip[0] * dispersion[0] + side[0] * (\n",
        "                3 * dispersion[1] + direction * SIDE_ENGINE_AWAY / SCALE\n",
        "            )\n",
        "            oy = -tip[1] * dispersion[0] - side[1] * (\n",
        "                3 * dispersion[1] + direction * SIDE_ENGINE_AWAY / SCALE\n",
        "            )\n",
        "            impulse_pos = (\n",
        "                self.lander.position[0] + ox - tip[0] * 17 / SCALE,\n",
        "                self.lander.position[1] + oy + tip[1] * SIDE_ENGINE_HEIGHT / SCALE,\n",
        "            )\n",
        "            p = self._create_particle(0.7, impulse_pos[0], impulse_pos[1], s_power)\n",
        "            p.ApplyLinearImpulse(\n",
        "                (ox * SIDE_ENGINE_POWER * s_power, oy * SIDE_ENGINE_POWER * s_power),\n",
        "                impulse_pos,\n",
        "                True,\n",
        "            )\n",
        "            self.lander.ApplyLinearImpulse(\n",
        "                (-ox * SIDE_ENGINE_POWER * s_power, -oy * SIDE_ENGINE_POWER * s_power),\n",
        "                impulse_pos,\n",
        "                True,\n",
        "            )\n",
        "\n",
        "        self.world.Step(1.0 / FPS, 6 * 30, 2 * 30)\n",
        "\n",
        "        pos = self.lander.position\n",
        "        vel = self.lander.linearVelocity\n",
        "        state = [\n",
        "            (pos.x - VIEWPORT_W / SCALE / 2) / (VIEWPORT_W / SCALE / 2), # 0: x position\n",
        "            (pos.y - (self.helipad_y + LEG_DOWN / SCALE)) / (VIEWPORT_H / SCALE / 2), # 1: y position\n",
        "            vel.x * (VIEWPORT_W / SCALE / 2) / FPS, # 2\n",
        "            vel.y * (VIEWPORT_H / SCALE / 2) / FPS, # 3\n",
        "            self.lander.angle, # 4\n",
        "            20.0 * self.lander.angularVelocity / FPS, # 5\n",
        "            1.0 if self.legs[0].ground_contact else 0.0, # 6\n",
        "            1.0 if self.legs[1].ground_contact else 0.0, # 7\n",
        "        ]\n",
        "        assert len(state) == 8\n",
        "\n",
        "        # ----------------------------------------------------------------\n",
        "        # reward\n",
        "        reward = 0\n",
        "        shaping = (\n",
        "            # If the lander moves away from the landing pad, it loses reward\n",
        "            -100 * np.sqrt(state[0] * state[0] + state[1] * state[1]) # Euclidean distance\n",
        "            - 100 * np.sqrt(state[2] * state[2] + state[3] * state[3])\n",
        "\n",
        "            - 100 * abs(state[4])\n",
        "            # Each leg with ground contact is +10 points.\n",
        "            + 10 * state[6]\n",
        "            + 10 * state[7]\n",
        "        )  # And ten points for legs contact, the idea is if you\n",
        "        # lose contact again after landing, you get negative reward\n",
        "        if self.prev_shaping is not None:\n",
        "            reward = shaping - self.prev_shaping\n",
        "        self.prev_shaping = shaping\n",
        "\n",
        "        # Firing the main engine is -0.3 points each frame. \n",
        "        reward -= (\n",
        "            m_power * 0.30\n",
        "        )  # less fuel spent is better, about -30 for heuristic landing\n",
        "        # Firing the side engine is -0.03 points each frame.\n",
        "        reward -= s_power * 0.03\n",
        "\n",
        "        done = False\n",
        "        if self.game_over or abs(state[0]) >= 1.0: # crashed?\n",
        "            done = True\n",
        "            reward = -100\n",
        "        if not self.lander.awake and (np.sqrt(state[0] * state[0] + state[1] * state[1]) == 0) and (np.sqrt(state[2] * state[2] + state[3] * state[3])==0): # rest\n",
        "            done = True\n",
        "            reward = +200\n",
        "        return np.array(state, dtype=np.float32), reward, done, {}\n",
        "        # ----------------------------------------------------------------\n",
        "\n",
        "\n",
        "\n",
        "    \n",
        "  # def reset(self):\n",
        "  #     pass  # reward, done, info can't be included\n",
        "\n",
        "  # def render(self, mode='human'):\n",
        "  #     pass\n",
        "\n",
        "  # def close(self):\n",
        "  #     pass"
      ],
      "metadata": {
        "id": "0DW6wn84SBWf"
      },
      "execution_count": 14,
      "outputs": []
    },
    {
      "cell_type": "markdown",
      "source": [
        "##### with wind"
      ],
      "metadata": {
        "id": "095bT9dTPnAK"
      }
    },
    {
      "cell_type": "code",
      "source": [
        "class Custom_LunarLander_wind(LunarLander):\n",
        "    metadata = {\"render.modes\": [\"human\", \"rgb_array\"], \"video.frames_per_second\": FPS}\n",
        "    continuous = False\n",
        "\n",
        "    def __init__(\n",
        "        self,\n",
        "        enable_wind: bool = False,\n",
        "        wind_power: float = 15.0,\n",
        "    ):\n",
        "        LunarLander.__init__(self)\n",
        "\n",
        "        self.enable_wind = enable_wind\n",
        "        self.wind_power = wind_power\n",
        "        self.wind_idx = np.random.randint(-9999, 9999)\n",
        "\n",
        "\n",
        "        \n",
        "\n",
        "    def step(self, action):\n",
        "        if self.continuous:\n",
        "            action = np.clip(action, -1, +1).astype(np.float32)\n",
        "        else:\n",
        "            assert self.action_space.contains(action), \"%r (%s) invalid \" % (\n",
        "                action,\n",
        "                type(action),\n",
        "            )\n",
        "\n",
        "        # Engines\n",
        "        tip = (math.sin(self.lander.angle), math.cos(self.lander.angle))\n",
        "        side = (-tip[1], tip[0])\n",
        "        dispersion = [self.np_random.uniform(-1.0, +1.0) / SCALE for _ in range(2)]\n",
        "\n",
        "        m_power = 0.0\n",
        "\n",
        "\n",
        "        if self.enable_wind and not (\n",
        "            self.legs[0].ground_contact or self.legs[1].ground_contact\n",
        "        ):\n",
        "            # the function used for wind is tanh(sin(2 k x) + sin(pi k x)),\n",
        "            # which is proven to never be periodic, k = 0.01\n",
        "            wind_mag = (\n",
        "                math.tanh(\n",
        "                    math.sin(0.02 * self.wind_idx)\n",
        "                    + (math.sin(math.pi * 0.01 * self.wind_idx))\n",
        "                )\n",
        "                * self.wind_power\n",
        "            )\n",
        "            self.wind_idx += 1\n",
        "            print('calculated wind power:')\n",
        "            print(wind_mag)\n",
        "            self.lander.ApplyForceToCenter(\n",
        "                (wind_mag, 0.0),\n",
        "                True,\n",
        "            )\n",
        "\n",
        "        if (self.continuous and action[0] > 0.0) or (\n",
        "            not self.continuous and action == 2\n",
        "        ):\n",
        "            # Main engine\n",
        "            if self.continuous:\n",
        "                m_power = (np.clip(action[0], 0.0, 1.0) + 1.0) * 0.5  # 0.5..1.0\n",
        "                assert m_power >= 0.5 and m_power <= 1.0\n",
        "            else:\n",
        "                m_power = 1.0\n",
        "            ox = (\n",
        "                tip[0] * (4 / SCALE + 2 * dispersion[0]) + side[0] * dispersion[1]\n",
        "            )  # 4 is move a bit downwards, +-2 for randomness\n",
        "            oy = -tip[1] * (4 / SCALE + 2 * dispersion[0]) - side[1] * dispersion[1]\n",
        "            impulse_pos = (self.lander.position[0] + ox, self.lander.position[1] + oy)\n",
        "            p = self._create_particle(\n",
        "                3.5,  # 3.5 is here to make particle speed adequate\n",
        "                impulse_pos[0],\n",
        "                impulse_pos[1],\n",
        "                m_power,\n",
        "            )  # particles are just a decoration\n",
        "            p.ApplyLinearImpulse(\n",
        "                (ox * MAIN_ENGINE_POWER * m_power, oy * MAIN_ENGINE_POWER * m_power),\n",
        "                impulse_pos,\n",
        "                True,\n",
        "            )\n",
        "            self.lander.ApplyLinearImpulse(\n",
        "                (-ox * MAIN_ENGINE_POWER * m_power, -oy * MAIN_ENGINE_POWER * m_power),\n",
        "                impulse_pos,\n",
        "                True,\n",
        "            )\n",
        "\n",
        "        s_power = 0.0\n",
        "        if (self.continuous and np.abs(action[1]) > 0.5) or (\n",
        "            not self.continuous and action in [1, 3]\n",
        "        ):\n",
        "            # Orientation engines\n",
        "            if self.continuous:\n",
        "                direction = np.sign(action[1])\n",
        "                s_power = np.clip(np.abs(action[1]), 0.5, 1.0)\n",
        "                assert s_power >= 0.5 and s_power <= 1.0\n",
        "            else:\n",
        "                direction = action - 2\n",
        "                s_power = 1.0\n",
        "            ox = tip[0] * dispersion[0] + side[0] * (\n",
        "                3 * dispersion[1] + direction * SIDE_ENGINE_AWAY / SCALE\n",
        "            )\n",
        "            oy = -tip[1] * dispersion[0] - side[1] * (\n",
        "                3 * dispersion[1] + direction * SIDE_ENGINE_AWAY / SCALE\n",
        "            )\n",
        "            impulse_pos = (\n",
        "                self.lander.position[0] + ox - tip[0] * 17 / SCALE,\n",
        "                self.lander.position[1] + oy + tip[1] * SIDE_ENGINE_HEIGHT / SCALE,\n",
        "            )\n",
        "            p = self._create_particle(0.7, impulse_pos[0], impulse_pos[1], s_power)\n",
        "            p.ApplyLinearImpulse(\n",
        "                (ox * SIDE_ENGINE_POWER * s_power, oy * SIDE_ENGINE_POWER * s_power),\n",
        "                impulse_pos,\n",
        "                True,\n",
        "            )\n",
        "            self.lander.ApplyLinearImpulse(\n",
        "                (-ox * SIDE_ENGINE_POWER * s_power, -oy * SIDE_ENGINE_POWER * s_power),\n",
        "                impulse_pos,\n",
        "                True,\n",
        "            )\n",
        "\n",
        "        self.world.Step(1.0 / FPS, 6 * 30, 2 * 30)\n",
        "\n",
        "        pos = self.lander.position\n",
        "        vel = self.lander.linearVelocity\n",
        "        state = [\n",
        "            (pos.x - VIEWPORT_W / SCALE / 2) / (VIEWPORT_W / SCALE / 2), # 0: x position\n",
        "            (pos.y - (self.helipad_y + LEG_DOWN / SCALE)) / (VIEWPORT_H / SCALE / 2), # 1: y position\n",
        "            vel.x * (VIEWPORT_W / SCALE / 2) / FPS, # 2\n",
        "            vel.y * (VIEWPORT_H / SCALE / 2) / FPS, # 3\n",
        "            self.lander.angle, # 4\n",
        "            20.0 * self.lander.angularVelocity / FPS, # 5\n",
        "            1.0 if self.legs[0].ground_contact else 0.0, # 6\n",
        "            1.0 if self.legs[1].ground_contact else 0.0, # 7\n",
        "        ]\n",
        "        assert len(state) == 8\n",
        "\n",
        "        # ----------------------------------------------------------------\n",
        "        # reward\n",
        "        reward = 0\n",
        "        shaping = (\n",
        "            # If the lander moves away from the landing pad, it loses reward\n",
        "            -100 * np.sqrt(state[0] * state[0] + state[1] * state[1]) # Euclidean distance\n",
        "            - 100 * np.sqrt(state[2] * state[2] + state[3] * state[3])\n",
        "\n",
        "            - 100 * abs(state[4])\n",
        "            # Each leg with ground contact is +10 points.\n",
        "            + 10 * state[6]\n",
        "            + 10 * state[7]\n",
        "        )  # And ten points for legs contact, the idea is if you\n",
        "        # lose contact again after landing, you get negative reward\n",
        "        if self.prev_shaping is not None:\n",
        "            reward = shaping - self.prev_shaping\n",
        "        self.prev_shaping = shaping\n",
        "\n",
        "        # Firing the main engine is -0.3 points each frame. \n",
        "        reward -= (\n",
        "            m_power * 0.30\n",
        "        )  # less fuel spent is better, about -30 for heuristic landing\n",
        "        # Firing the side engine is -0.03 points each frame.\n",
        "        reward -= s_power * 0.03\n",
        "\n",
        "        done = False\n",
        "        if self.game_over or abs(state[0]) >= 1.0: # crashed?\n",
        "            done = True\n",
        "            reward = -100\n",
        "        if not self.lander.awake and (np.sqrt(state[0] * state[0] + state[1] * state[1]) == 0) and (np.sqrt(state[2] * state[2] + state[3] * state[3])==0): # rest\n",
        "            done = True\n",
        "            reward = +200\n",
        "        return np.array(state, dtype=np.float32), reward, done, {}\n",
        "        # ----------------------------------------------------------------\n",
        "\n",
        "\n",
        "\n",
        "    \n",
        "  # def reset(self):\n",
        "  #     pass  # reward, done, info can't be included\n",
        "\n",
        "  # def render(self, mode='human'):\n",
        "  #     pass\n",
        "\n",
        "  # def close(self):\n",
        "  #     pass"
      ],
      "metadata": {
        "id": "lUhMa-AOPrFG"
      },
      "execution_count": 7,
      "outputs": []
    },
    {
      "cell_type": "markdown",
      "source": [
        "#### register environment"
      ],
      "metadata": {
        "id": "DzZ83S3UzBYc"
      }
    },
    {
      "cell_type": "markdown",
      "source": [
        "check environment"
      ],
      "metadata": {
        "id": "xGf0_9im0Y3R"
      }
    },
    {
      "cell_type": "code",
      "source": [
        "new_env = Custom_LunarLander_obs()\n",
        "new_env"
      ],
      "metadata": {
        "colab": {
          "base_uri": "https://localhost:8080/"
        },
        "id": "GdKLT2SiGCiV",
        "outputId": "2450d449-8ea8-4869-b457-bb487ba46aa9"
      },
      "execution_count": 23,
      "outputs": [
        {
          "output_type": "execute_result",
          "data": {
            "text/plain": [
              "<__main__.Custom_LunarLander_obs at 0x7fdc0f17e510>"
            ]
          },
          "metadata": {},
          "execution_count": 23
        }
      ]
    },
    {
      "cell_type": "code",
      "source": [
        "from stable_baselines3.common.env_checker import check_env\n",
        "check_env(new_env)"
      ],
      "metadata": {
        "id": "kG6IM6zW2IPm"
      },
      "execution_count": 24,
      "outputs": []
    },
    {
      "cell_type": "code",
      "source": [
        "from gym.envs.registration import register\n",
        "# Example for the CartPole environment\n",
        "register(\n",
        "    # unique identifier for the env `name-version`\n",
        "    id=\"LunarLander-v-obs\",\n",
        "    # path to the class for creating the env\n",
        "    # Note: entry_point also accept a class as input (and not only a string)\n",
        "    entry_point= Custom_LunarLander_obs,\n",
        "    # Max number of steps per episode, using a `TimeLimitWrapper`\n",
        "    max_episode_steps=1500,\n",
        ")"
      ],
      "metadata": {
        "colab": {
          "base_uri": "https://localhost:8080/",
          "height": 240
        },
        "id": "C1cIXPTaJsQG",
        "outputId": "e0bc360b-8378-4212-959c-01d2b7de1ba2"
      },
      "execution_count": 8,
      "outputs": [
        {
          "output_type": "error",
          "ename": "NameError",
          "evalue": "ignored",
          "traceback": [
            "\u001b[0;31m---------------------------------------------------------------------------\u001b[0m",
            "\u001b[0;31mNameError\u001b[0m                                 Traceback (most recent call last)",
            "\u001b[0;32m<ipython-input-8-16c6d7a2d5db>\u001b[0m in \u001b[0;36m<module>\u001b[0;34m()\u001b[0m\n\u001b[1;32m      6\u001b[0m     \u001b[0;31m# path to the class for creating the env\u001b[0m\u001b[0;34m\u001b[0m\u001b[0;34m\u001b[0m\u001b[0;34m\u001b[0m\u001b[0m\n\u001b[1;32m      7\u001b[0m     \u001b[0;31m# Note: entry_point also accept a class as input (and not only a string)\u001b[0m\u001b[0;34m\u001b[0m\u001b[0;34m\u001b[0m\u001b[0;34m\u001b[0m\u001b[0m\n\u001b[0;32m----> 8\u001b[0;31m     \u001b[0mentry_point\u001b[0m\u001b[0;34m=\u001b[0m \u001b[0mCustom_LunarLander_obs\u001b[0m\u001b[0;34m,\u001b[0m\u001b[0;34m\u001b[0m\u001b[0;34m\u001b[0m\u001b[0m\n\u001b[0m\u001b[1;32m      9\u001b[0m     \u001b[0;31m# Max number of steps per episode, using a `TimeLimitWrapper`\u001b[0m\u001b[0;34m\u001b[0m\u001b[0;34m\u001b[0m\u001b[0;34m\u001b[0m\u001b[0m\n\u001b[1;32m     10\u001b[0m     \u001b[0mmax_episode_steps\u001b[0m\u001b[0;34m=\u001b[0m\u001b[0;36m1500\u001b[0m\u001b[0;34m,\u001b[0m\u001b[0;34m\u001b[0m\u001b[0;34m\u001b[0m\u001b[0m\n",
            "\u001b[0;31mNameError\u001b[0m: name 'Custom_LunarLander_obs' is not defined"
          ]
        }
      ]
    },
    {
      "cell_type": "code",
      "source": [
        "new_env = Custom_LunarLander_wind()\n",
        "new_env"
      ],
      "metadata": {
        "colab": {
          "base_uri": "https://localhost:8080/"
        },
        "outputId": "ef3abf00-4c9a-4836-d5fe-ab39b9b035b6",
        "id": "phZM2GOCSZcT"
      },
      "execution_count": 9,
      "outputs": [
        {
          "output_type": "execute_result",
          "data": {
            "text/plain": [
              "<__main__.Custom_LunarLander_wind at 0x7fbe3b8c9f50>"
            ]
          },
          "metadata": {},
          "execution_count": 9
        }
      ]
    },
    {
      "cell_type": "code",
      "source": [
        "from stable_baselines3.common.env_checker import check_env\n",
        "check_env(new_env)"
      ],
      "metadata": {
        "id": "panzssD8SZcU"
      },
      "execution_count": 10,
      "outputs": []
    },
    {
      "cell_type": "code",
      "source": [
        "from gym.envs.registration import register\n",
        "# Example for the CartPole environment\n",
        "register(\n",
        "    # unique identifier for the env `name-version`\n",
        "    id=\"LunarLander_wind-v1\",\n",
        "    # path to the class for creating the env\n",
        "    # Note: entry_point also accept a class as input (and not only a string)\n",
        "    entry_point= Custom_LunarLander_wind,\n",
        "    # Max number of steps per episode, using a `TimeLimitWrapper`\n",
        "    max_episode_steps=1500,\n",
        ")"
      ],
      "metadata": {
        "id": "rtz9Xc6QSZcU"
      },
      "execution_count": 13,
      "outputs": []
    },
    {
      "cell_type": "markdown",
      "source": [
        "#### define model in new env"
      ],
      "metadata": {
        "id": "KdG01o1IzxGG"
      }
    },
    {
      "cell_type": "markdown",
      "metadata": {
        "execution": {},
        "id": "kMkD1Ku8zq9q"
      },
      "source": [
        "Now, let us setup our model and the DQN algorithm. "
      ]
    },
    {
      "cell_type": "code",
      "execution_count": 15,
      "metadata": {
        "execution": {},
        "id": "hun_d8rYzq9p"
      },
      "outputs": [],
      "source": [
        "nn_layers = [64,64] #This is the configuration of your neural network. Currently, we have two layers, each consisting of 64 neurons.\n",
        "                    #If you want three layers with 64 neurons each, set the value to [64,64,64] and so on.\n",
        "\n",
        "learning_rate = 0.001 #This is the step-size with which the gradient descent is carried out.\n",
        "                      #Tip: Use smaller step-sizes for larger networks."
      ]
    },
    {
      "cell_type": "code",
      "execution_count": 31,
      "metadata": {
        "execution": {},
        "id": "5J0MmqyPzq9q"
      },
      "outputs": [],
      "source": [
        "log_dir = \"/tmp/gym/\"\n",
        "os.makedirs(log_dir, exist_ok=True)\n",
        "\n",
        "# Create environment\n",
        "env = gym.make('LunarLander-v4')\n",
        "#You can also load other environments like cartpole, MountainCar, Acrobot. Refer to https://gym.openai.com/docs/ for descriptions.\n",
        "#For example, if you would like to load Cartpole, just replace the above statement with \"env = gym.make('CartPole-v1')\".\n",
        "\n",
        "env = stable_baselines3.common.monitor.Monitor(env, log_dir )\n",
        "\n",
        "callback = EvalCallback(env,log_path = log_dir, deterministic=True) #For evaluating the performance of the agent periodically and logging the results.\n",
        "\n",
        "policy_kwargs = dict(activation_fn=torch.nn.ReLU,\n",
        "                     net_arch=nn_layers)\n",
        "model = DQN(\"MlpPolicy\", env, policy_kwargs = policy_kwargs,\n",
        "            learning_rate=learning_rate,\n",
        "            batch_size=1,  #for simplicity, we are not doing batch update.\n",
        "            buffer_size=1, #size of experience of replay buffer. Set to 1 as batch update is not done\n",
        "            learning_starts=1, #learning starts immediately!\n",
        "            gamma=0.99, #discount facto. range is between 0 and 1.\n",
        "            tau = 1,  #the soft update coefficient for updating the target network\n",
        "            target_update_interval=1, #update the target network immediately.\n",
        "            train_freq=(1,\"step\"), #train the network at every step.\n",
        "            max_grad_norm = 10, #the maximum value for the gradient clipping\n",
        "            exploration_initial_eps = 1, #initial value of random action probability\n",
        "            exploration_fraction = 0.5, #fraction of entire training period over which the exploration rate is reduced\n",
        "            gradient_steps = 1, #number of gradient steps\n",
        "            seed = 1, #seed for the pseudo random generators\n",
        "            verbose=0) #Set verbose to 1 to observe training logs. We encourage you to set the verbose to 1.\n",
        "\n",
        "# You can also experiment with other RL algorithms like A2C, PPO, DDPG etc. Refer to  https://stable-baselines3.readthedocs.io/en/master/guide/examples.html\n",
        "#for documentation. For example, if you would like to run DDPG, just replace \"DQN\" above with \"DDPG\"."
      ]
    },
    {
      "cell_type": "code",
      "execution_count": 16,
      "metadata": {
        "execution": {},
        "id": "vSYsH82tSymV"
      },
      "outputs": [],
      "source": [
        "log_dir = \"/tmp/gym/\"\n",
        "os.makedirs(log_dir, exist_ok=True)\n",
        "\n",
        "# Create environment\n",
        "env = gym.make('LunarLander_wind-v1', enable_wind=True)\n",
        "#You can also load other environments like cartpole, MountainCar, Acrobot. Refer to https://gym.openai.com/docs/ for descriptions.\n",
        "#For example, if you would like to load Cartpole, just replace the above statement with \"env = gym.make('CartPole-v1')\".\n",
        "\n",
        "env = stable_baselines3.common.monitor.Monitor(env, log_dir )\n",
        "\n",
        "callback = EvalCallback(env,log_path = log_dir, deterministic=True) #For evaluating the performance of the agent periodically and logging the results.\n",
        "\n",
        "policy_kwargs = dict(activation_fn=torch.nn.ReLU,\n",
        "                     net_arch=nn_layers)\n",
        "model = DQN(\"MlpPolicy\", env, policy_kwargs = policy_kwargs,\n",
        "            learning_rate=learning_rate,\n",
        "            batch_size=1,  #for simplicity, we are not doing batch update.\n",
        "            buffer_size=1, #size of experience of replay buffer. Set to 1 as batch update is not done\n",
        "            learning_starts=1, #learning starts immediately!\n",
        "            gamma=0.99, #discount facto. range is between 0 and 1.\n",
        "            tau = 1,  #the soft update coefficient for updating the target network\n",
        "            target_update_interval=1, #update the target network immediately.\n",
        "            train_freq=(1,\"step\"), #train the network at every step.\n",
        "            max_grad_norm = 10, #the maximum value for the gradient clipping\n",
        "            exploration_initial_eps = 1, #initial value of random action probability\n",
        "            exploration_fraction = 0.5, #fraction of entire training period over which the exploration rate is reduced\n",
        "            gradient_steps = 1, #number of gradient steps\n",
        "            seed = 1, #seed for the pseudo random generators\n",
        "            verbose=0) #Set verbose to 1 to observe training logs. We encourage you to set the verbose to 1.\n",
        "\n",
        "# You can also experiment with other RL algorithms like A2C, PPO, DDPG etc. Refer to  https://stable-baselines3.readthedocs.io/en/master/guide/examples.html\n",
        "#for documentation. For example, if you would like to run DDPG, just replace \"DQN\" above with \"DDPG\"."
      ]
    },
    {
      "cell_type": "markdown",
      "source": [
        "#### visualize new environment"
      ],
      "metadata": {
        "id": "aFsU1I3KzLEL"
      }
    },
    {
      "cell_type": "code",
      "source": [
        "new_env = wrap_env(gym.make(\"LunarLander_wind-v1\"))\n",
        "observation = new_env.reset()\n",
        "total_reward = 0\n",
        "\n",
        "while True:\n",
        "  new_env.render()\n",
        "  action, states = model.predict(observation, deterministic=True)\n",
        "  observation, reward, done, info = new_env.step(action)\n",
        "  total_reward += reward\n",
        "  if done:\n",
        "    break;\n",
        "\n",
        "# print(total_reward)\n",
        "new_env.close()\n",
        "show_video()"
      ],
      "metadata": {
        "id": "HeHfAR-g4ttm",
        "outputId": "3d667507-ef60-4d9b-d619-903cf7157c9e",
        "colab": {
          "base_uri": "https://localhost:8080/",
          "height": 421
        }
      },
      "execution_count": 17,
      "outputs": [
        {
          "output_type": "display_data",
          "data": {
            "text/plain": [
              "<IPython.core.display.HTML object>"
            ],
            "text/html": [
              "<video alt=\"test\" autoplay\n",
              "                loop controls style=\"height: 400px;\">\n",
              "                <source src=\"data:video/mp4;base64,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\" type=\"video/mp4\" />\n",
              "             </video>"
            ]
          },
          "metadata": {}
        }
      ]
    },
    {
      "cell_type": "markdown",
      "source": [
        "#### train the model and visualize"
      ],
      "metadata": {
        "id": "zKB-D-Cy4e7B"
      }
    },
    {
      "cell_type": "code",
      "execution_count": 32,
      "metadata": {
        "execution": {},
        "colab": {
          "base_uri": "https://localhost:8080/"
        },
        "outputId": "77b9773b-beea-477d-cfa7-be742f7ba400",
        "id": "FV4kq74Ozq9q"
      },
      "outputs": [
        {
          "output_type": "stream",
          "name": "stdout",
          "text": [
            "Eval num_timesteps=10000, episode_reward=-785.10 +/- 381.23\n",
            "Episode length: 104.80 +/- 37.28\n",
            "New best mean reward!\n",
            "Eval num_timesteps=20000, episode_reward=-633.22 +/- 81.71\n",
            "Episode length: 114.20 +/- 29.68\n",
            "New best mean reward!\n",
            "Eval num_timesteps=30000, episode_reward=14.19 +/- 32.40\n",
            "Episode length: 79.00 +/- 9.14\n",
            "New best mean reward!\n",
            "Eval num_timesteps=40000, episode_reward=-330.72 +/- 51.03\n",
            "Episode length: 240.20 +/- 145.50\n",
            "Eval num_timesteps=50000, episode_reward=-17.39 +/- 147.17\n",
            "Episode length: 829.20 +/- 563.86\n",
            "Eval num_timesteps=60000, episode_reward=59.51 +/- 32.05\n",
            "Episode length: 382.80 +/- 558.66\n",
            "New best mean reward!\n",
            "Eval num_timesteps=70000, episode_reward=133.76 +/- 72.74\n",
            "Episode length: 1222.60 +/- 554.80\n",
            "New best mean reward!\n",
            "Eval num_timesteps=80000, episode_reward=40.79 +/- 21.69\n",
            "Episode length: 92.80 +/- 20.45\n",
            "Eval num_timesteps=90000, episode_reward=101.25 +/- 74.38\n",
            "Episode length: 975.00 +/- 646.38\n",
            "Eval num_timesteps=100000, episode_reward=67.41 +/- 69.90\n",
            "Episode length: 410.00 +/- 546.42\n"
          ]
        },
        {
          "output_type": "execute_result",
          "data": {
            "text/plain": [
              "<stable_baselines3.dqn.dqn.DQN at 0x7f3f646f8390>"
            ]
          },
          "metadata": {},
          "execution_count": 32
        }
      ],
      "source": [
        "model.learn(total_timesteps=100000, log_interval=10, callback=callback, eval_log_path=log_dir)\n",
        "# The performance of the training will be printed every 10 episodes. Change it to 1, if you wish to\n",
        "# view the performance at every training episode.\n",
        "# how to read monitor.csv: ep_info = {\"r\": round(ep_rew, 6), \"l\": ep_len, \"t\": round(time.time() - self.t_start, 6)}"
      ]
    },
    {
      "cell_type": "code",
      "execution_count": 34,
      "metadata": {
        "execution": {},
        "outputId": "e30c1096-e870-409e-93fd-de3a790e8332",
        "colab": {
          "base_uri": "https://localhost:8080/",
          "height": 421
        },
        "id": "_B6I243kzq9q"
      },
      "outputs": [
        {
          "output_type": "display_data",
          "data": {
            "text/plain": [
              "<IPython.core.display.HTML object>"
            ],
            "text/html": [
              "<video alt=\"test\" autoplay\n",
              "                loop controls style=\"height: 400px;\">\n",
              "                <source src=\"data:video/mp4;base64,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\" type=\"video/mp4\" />\n",
              "             </video>"
            ]
          },
          "metadata": {}
        }
      ],
      "source": [
        "env = wrap_env(gym.make(\"LunarLander-v4\"))\n",
        "observation = env.reset()\n",
        "while True:\n",
        "  env.render()\n",
        "  action, _states = model.predict(observation, deterministic=True)\n",
        "  observation, reward, done, info = env.step(action)\n",
        "  if done:\n",
        "    break;\n",
        "\n",
        "env.close()\n",
        "show_video()"
      ]
    },
    {
      "cell_type": "code",
      "execution_count": 27,
      "metadata": {
        "execution": {},
        "outputId": "5c917995-ec7a-469d-9362-85d78f966aa0",
        "colab": {
          "base_uri": "https://localhost:8080/",
          "height": 301
        },
        "id": "voWFVkMGzq9r"
      },
      "outputs": [
        {
          "output_type": "execute_result",
          "data": {
            "text/plain": [
              "Text(0, 0.5, 'Episode Rewards')"
            ]
          },
          "metadata": {},
          "execution_count": 27
        },
        {
          "output_type": "display_data",
          "data": {
            "text/plain": [
              "<Figure size 432x288 with 1 Axes>"
            ],
            "image/png": "[encoded data removed]"
          },
          "metadata": {
            "needs_background": "light"
          }
        }
      ],
      "source": [
        "x, y = ts2xy(load_results(log_dir), 'timesteps')  # Organising the logged results in to a clean format for plotting. timesteps episodes\n",
        "plt.plot(x,y)\n",
        "plt.ylim([-300, 300])\n",
        "plt.xlabel('Timesteps')\n",
        "plt.ylabel('Episode Rewards')"
      ]
    },
    {
      "cell_type": "markdown",
      "source": [
        "### Template"
      ],
      "metadata": {
        "id": "h7Jy40kF4cwx"
      }
    },
    {
      "cell_type": "code",
      "execution_count": null,
      "metadata": {
        "execution": {},
        "id": "RStcMxLfobbr"
      },
      "outputs": [],
      "source": [
        "# Taken from https://stable-baselines3.readthedocs.io/en/master/guide/custom_env.html\n",
        "class CustomEnv(gym.Env):\n",
        "  \"\"\"Custom Environment that follows gym interface\"\"\"\n",
        "  metadata = {'render.modes': ['human']}\n",
        "\n",
        "  def __init__(self, arg1, arg2):\n",
        "    super(CustomEnv, self).__init__()\n",
        "    # Define action and observation space\n",
        "    # They must be gym.spaces objects\n",
        "    # Example when using discrete actions:\n",
        "    self.action_space = spaces.Discrete(N_DISCRETE_ACTIONS)\n",
        "    # Example for using image as input (channel-first; channel-last also works):\n",
        "    self.observation_space = spaces.Box(low=0, high=255,\n",
        "                                        shape=(N_CHANNELS, HEIGHT, WIDTH), dtype=np.uint8)\n",
        "\n",
        "  def step(self, action):\n",
        "    ...\n",
        "    return observation, reward, done, info\n",
        "  def reset(self):\n",
        "    ...\n",
        "    return observation  # reward, done, info can't be included\n",
        "  def render(self, mode='human'):\n",
        "    ...\n",
        "  def close (self):\n",
        "    ..."
      ]
    },
    {
      "cell_type": "markdown",
      "metadata": {
        "execution": {},
        "id": "RKAA_XL4obbs"
      },
      "source": [
        "As you are only changing the reward structure, you can inherit the original Lunar Lander environment from https://github.com/openai/gym/blob/master/gym/envs/box2d/lunar_lander.py and modify just the \"step\" function. Focus on modifying the following part of the code in the \"step\" function\n"
      ]
    },
    {
      "cell_type": "code",
      "execution_count": null,
      "metadata": {
        "execution": {},
        "id": "vW-1yrPyobbs"
      },
      "outputs": [],
      "source": [
        "def step(self, actions):\n",
        "  ...\n",
        "  ...\n",
        "  ...\n",
        "  reward = 0\n",
        "  shaping = (\n",
        "      -100 * np.sqrt(state[0] * state[0] + state[1] * state[1])\n",
        "      - 100 * np.sqrt(state[2] * state[2] + state[3] * state[3])\n",
        "      - 100 * abs(state[4])\n",
        "      + 10 * state[6]\n",
        "      + 10 * state[7]\n",
        "  )  # And ten points for legs contact, the idea is if you\n",
        "  # lose contact again after landing, you get negative reward\n",
        "  if self.prev_shaping is not None:\n",
        "      reward = shaping - self.prev_shaping\n",
        "  self.prev_shaping = shaping\n",
        "\n",
        "  reward -= (\n",
        "      m_power * 0.30\n",
        "  )  # less fuel spent is better, about -30 for heuristic landing. You should modify these values.\n",
        "  reward -= s_power * 0.03\n",
        "\n",
        "  done = False\n",
        "  if self.game_over or abs(state[0]) >= 1.0:\n",
        "      done = True\n",
        "      reward = -100\n",
        "  if not self.lander.awake:\n",
        "      done = True\n",
        "      reward = +100\n",
        "  return np.array(state, dtype=np.float32), reward, done, {}"
      ]
    },
    {
      "cell_type": "markdown",
      "metadata": {
        "execution": {},
        "id": "9CCbUKXQobbs"
      },
      "source": [
        "Once you have cutomized your own environment, you can execute that environment by just calling:"
      ]
    },
    {
      "cell_type": "code",
      "execution_count": null,
      "metadata": {
        "execution": {},
        "id": "T7IuLBYxobbt"
      },
      "outputs": [],
      "source": [
        "#Enter the name of the custome environment you created and uncomment the line below.\n",
        "#env = Custom_LunarLander()\n",
        "# Refer to https://stable-baselines3.readthedocs.io/en/master/guide/custom_env.html, if you would like to create more complex environments."
      ]
    },
    {
      "cell_type": "markdown",
      "metadata": {
        "execution": {},
        "id": "ZeEbxPsFobbt"
      },
      "source": [
        "## 3 Identify the state information crucial to its performance.\n",
        "\n",
        "Your objective here is to alter the input state information and analyze the performance. The input state of the Lunar Lander consists of following components:\n",
        "\n",
        "  1. Horizontal Position\n",
        "  2. Vertical Position\n",
        "  3. Horizontal Velocity\n",
        "  4. Vertical Velocity\n",
        "  5. Angle\n",
        "  6. Angular Velocity\n",
        "  7. Left Leg Contact\n",
        "  8. Right Leg Contact\n",
        "\n",
        "You can train the algorithm by masking one of the eight components at a time and understand how that affects the performance of the algorithm. Similar to the reward shaping task, you would have to create a custom environment and modify the state space. Again, you can inherit all the necessary functions and modify the following portion of the \"Step\" function:"
      ]
    },
    {
      "cell_type": "code",
      "execution_count": null,
      "metadata": {
        "execution": {},
        "id": "e0qQ--Tfobbt"
      },
      "outputs": [],
      "source": [
        "def step(self, actions):\n",
        "  ...\n",
        "  ...\n",
        "  ...\n",
        "  state = [ # Remove one component at a time to investigate the effect on performance!\n",
        "            (pos.x - VIEWPORT_W / SCALE / 2) / (VIEWPORT_W / SCALE / 2),\n",
        "            (pos.y - (self.helipad_y + LEG_DOWN / SCALE)) / (VIEWPORT_H / SCALE / 2),\n",
        "            vel.x * (VIEWPORT_W / SCALE / 2) / FPS,\n",
        "            vel.y * (VIEWPORT_H / SCALE / 2) / FPS,\n",
        "            self.lander.angle,\n",
        "            20.0 * self.lander.angularVelocity / FPS,\n",
        "            1.0 if self.legs[0].ground_contact else 0.0,\n",
        "            1.0 if self.legs[1].ground_contact else 0.0,\n",
        "        ]"
      ]
    },
    {
      "cell_type": "markdown",
      "metadata": {
        "execution": {},
        "id": "EIifpb9Kobbu"
      },
      "source": [
        "## 4 Extension to Atari Games\n",
        "\n",
        "In the Lunar Lander task, the input to the algorithm is a vector of state information. Deep RL algorithms can also be applied when the input to the training is image frames, which is the case in the Atari games. For example, consider an Atari game - Pong. In this environment, the observation is an RGB image of the screen, which is an array of shape (210, 160, 3). To train the Pong game, you can start with the following sample code:"
      ]
    },
    {
      "cell_type": "code",
      "execution_count": null,
      "metadata": {
        "execution": {},
        "id": "9GEIYsVVobbv"
      },
      "outputs": [],
      "source": [
        "## Taken from: https://colab.research.google.com/github/Stable-Baselines-Team/rl-colab-notebooks/blob/sb3/atari_games.ipynb#scrollTo=f3K4rMXwimBO\n",
        "env = make_atari_env('PongNoFrameskip-v4', n_envs=4, seed=0)\n",
        "\n",
        "##Atari Games take a lot of memory. Following commands crash on Coalb. Run the following code on Colab Pro or your local Jupyter notebook!\n",
        "# env = VecFrameStack(env, n_stack=4)\n",
        "# model = DQN('CnnPolicy', env, verbose=1)  # Note the difference here! We use 'CnnPolicy\" here instead of 'MlpPolicy' as the input is frames.\n",
        "# model.learn(total_timesteps=1) #change the number of timesteps as desired and run this command!"
      ]
    },
    {
      "cell_type": "markdown",
      "metadata": {
        "execution": {},
        "id": "5I26CZd4obbv"
      },
      "source": [
        "## 5 Obstacle Avoidance and Transfer Learning\n",
        "\n",
        "Your obstacle here is to add an obstacle in the path of the lunar lander (by creating a custom environment as described in point 2 above) and train the model such that the lander lands safely, avoiding collisions. \n",
        "\n",
        "You would first want to devise a mechansim for adding obstacles. For example, you could have an imaginary obstacle at some horizantal and vertical position cooridnates and modify the reward function such that a penalty is levied if the lander comes close to it. \n",
        "\n",
        "An interesting approach to solve this problem is to apply the techniques of transfer learning. For example, you could initialise the neural network model with the weights of the trained model on the original problem to improve the sample effeciency. This can be done using the following code:"
      ]
    },
    {
      "cell_type": "code",
      "execution_count": null,
      "metadata": {
        "execution": {},
        "id": "lSyhxVoLobbw"
      },
      "outputs": [],
      "source": [
        "## Specify the load path and uncomment below:\n",
        "\n",
        "# model = load(load_path,\n",
        "#              env=gym.make('LunarLander-v2'),\n",
        "#              custom_objects=None, **kwargs)"
      ]
    },
    {
      "cell_type": "markdown",
      "metadata": {
        "execution": {},
        "id": "4Qy8qSysobbw"
      },
      "source": [
        "Following are some of the resources on transfer learning that you would want to start with. \n",
        "\n",
        "**Research Papers**\n",
        "\n",
        "Surveys:\n",
        "1. (Long, Old, Highly cited) Taylor, M. E.,  et al. (2009). Transfer learning for reinforcement learning domains. https://www.jmlr.org/papers/volume10/taylor09a/taylor09a.pdf\n",
        "\n",
        "2. (Medium, Old, Good for a quick read) Lazaric, A. (2012). Transfer in reinforcement learning: a framework and a survey. https://hal.inria.fr/docs/00/77/26/26/PDF/transfer.pdf\n",
        "\n",
        "3. (Medium, Recent, Good for a quick read) Zhu, Z., Lin, K., & Zhou, J. (2020). Transfer learning in deep reinforcement learning. https://arxiv.org/pdf/2009.07888.pdf\n",
        "\n",
        "4. Specific example:\n",
        "Barreto, A., et al. (2016).  Successor features for transfer in reinforcement learning. https://arxiv.org/pdf/1606.05312"
      ]
    },
    {
      "cell_type": "markdown",
      "metadata": {
        "execution": {},
        "id": "vJvZzNrAobbx"
      },
      "source": [
        "## 5(b) Transfer Learning in minigrid environment\n",
        "\n",
        "These are some simple gridworld gym environments designed to be particularly simple, lightweight and fast. Refer to https://github.com/maximecb/gym-minigrid for description of the environments. An example to load a minigrid environment is given below:"
      ]
    },
    {
      "cell_type": "code",
      "execution_count": null,
      "metadata": {
        "execution": {},
        "id": "88Bk-iqzobby"
      },
      "outputs": [],
      "source": [
        "!pip install gym-minigrid --quiet\n",
        "import gym_minigrid\n",
        "env = gym.make('MiniGrid-Empty-5x5-v0')"
      ]
    },
    {
      "cell_type": "markdown",
      "metadata": {
        "execution": {},
        "id": "lOL5WYR3obby"
      },
      "source": [
        "You can train a standard DQN agent in this env by wrapping the env with full image observation wrappers:\n"
      ]
    },
    {
      "cell_type": "code",
      "execution_count": null,
      "metadata": {
        "execution": {},
        "id": "PX71Rz3Uobbz"
      },
      "outputs": [],
      "source": [
        "env = gym_minigrid.wrappers.ImgObsWrapper(gym_minigrid.wrappers.RGBImgObsWrapper(env))"
      ]
    },
    {
      "cell_type": "markdown",
      "metadata": {
        "execution": {},
        "id": "o2UiCI5Iobbz"
      },
      "source": [
        "Note that with full image observations, the shape of the image observations may differ between envs. For e.g., MiniGrid-Empty-5x5-v0 is (40,40,3) while MiniGrid-Empty-8x8-v0 is (64,64,3). So you may need to resize the observations for transfer learning to work with the same DQN architecture.\n",
        "\n",
        "Now try training a DQN (or another method) in one (or multiple) minigrid env(s),and see if that knowledge transfers to another (or multiple other) minigrid env(s).\n"
      ]
    },
    {
      "cell_type": "markdown",
      "metadata": {
        "execution": {},
        "id": "Qy1rMmg4obbz"
      },
      "source": [
        "## 6 Preference-Based RL (PBRL)\n",
        "\n",
        "PBRL is an exciting sub-area in RL where the traditional reward structure is replaced with human preferences. This setting is very useful in applications where it is difficult to construct a reward function. \n",
        "\n",
        "In the earlier section, we have successfully trained the lunar lander to land safely. Here, the path that the lander follows to land safely can be arbitrary. In this project, using the techniques of PBRL, you will solve the lunar lander problem with an additional requirement that the lander should follow a specially curated path (for example, a straight line path). Following are some of the resources that will help you to get started with this project. \n",
        "\n",
        "**Research papers:**\n",
        "1. Deep Reinforcement Learning\n",
        "from Human Preferences https://papers.nips.cc/paper/2017/file/d5e2c0adad503c91f91df240d0cd4e49-Paper.pdf\n",
        "2. Deep Q-learning from Demonstrations https://arxiv.org/pdf/1704.03732.pdf\n",
        "3. Reward learning from human preferences https://arxiv.org/pdf/1811.06521.pdf\n",
        "4. T-REX https://arxiv.org/pdf/1904.06387.pdf\n",
        "\n",
        "**Code Bases:**\n",
        "1. https://github.com/nottombrown/rl-teacher\n",
        "2. https://github.com/hiwonjoon/ICML2019-TREX\n"
      ]
    },
    {
      "cell_type": "markdown",
      "metadata": {
        "execution": {},
        "id": "ptpdnpwGobbz"
      },
      "source": [
        "---\n",
        "# References\n",
        "\n",
        "1. Stable Baselines Framework: https://stable-baselines3.readthedocs.io/en/master/guide/examples.html\n",
        "\n",
        "2. Lunar Lander Environment: https://gym.openai.com/envs/LunarLander-v2/\n",
        "\n",
        "3. OpenAI gym environments: https://gym.openai.com/docs/\n",
        "\n",
        "4. A good reference for introduction to RL: http://incompleteideas.net/book/the-book-2nd.html\n"
      ]
    }
  ],
  "metadata": {
    "accelerator": "GPU",
    "colab": {
      "collapsed_sections": [],
      "name": "lunar_lander_group1_atcheke",
      "provenance": [],
      "toc_visible": true,
      "machine_shape": "hm",
      "include_colab_link": true
    },
    "gpuClass": "standard",
    "kernel": {
      "display_name": "Python 3",
      "language": "python",
      "name": "python3"
    },
    "kernelspec": {
      "display_name": "Python 3",
      "name": "python3"
    },
    "language_info": {
      "name": "python"
    }
  },
  "nbformat": 4,
  "nbformat_minor": 0
}