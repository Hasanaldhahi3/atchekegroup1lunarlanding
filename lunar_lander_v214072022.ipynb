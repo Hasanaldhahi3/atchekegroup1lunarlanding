{
  "cells": [
    {
      "cell_type": "markdown",
      "metadata": {
        "id": "view-in-github",
        "colab_type": "text"
      },
      "source": [
        "<a href=\"https://colab.research.google.com/github/carlacodes/atchekegroup1lunarlanding/blob/carlabranch/lunar_lander_v214072022.ipynb\" target=\"_parent\"><img src=\"https://colab.research.google.com/assets/colab-badge.svg\" alt=\"Open In Colab\"/></a>"
      ]
    },
    {
      "cell_type": "markdown",
      "metadata": {
        "id": "I5_T96D-OfGn"
      },
      "source": [
        "# Performance Analysis of DQN Algorithm on the Lunar Lander task\n",
        "\n",
        "**By Neuromatch Academy**\n",
        "\n",
        "__Content creators:__ Raghuram Bharadwaj Diddigi, Geraud Nangue Tasse, Yamil Vidal, Sanjukta Krishnagopal, Sara Rajaee\n",
        "\n",
        "__Content editors:__ Spiros Chavlis"
      ]
    },
    {
      "cell_type": "markdown",
      "metadata": {
        "id": "AhT3tyqqOfGt"
      },
      "source": [
        "<p align='center'><img src='https://github.com/NeuromatchAcademy/widgets/blob/master/sponsors.png?raw=True'/></p>"
      ]
    },
    {
      "cell_type": "markdown",
      "metadata": {
        "id": "voER2fRPOfGu"
      },
      "source": [
        "---\n",
        "# Objective\n",
        "\n",
        "In this project, the objective is to analyze the performance of the Deep Q-Learning algorithm on an exciting task- Lunar Lander. Before we describe the task, let us focus on two keywords here - analysis and performance. What exactly do we mean by these keywords in the context of Reinforcement Learning (RL)?"
      ]
    },
    {
      "cell_type": "markdown",
      "metadata": {
        "id": "jIZ62JlXOfGv"
      },
      "source": [
        "---\n",
        "# Setup"
      ]
    },
    {
      "cell_type": "code",
      "execution_count": null,
      "metadata": {
        "colab": {
          "base_uri": "https://localhost:8080/"
        },
        "id": "1q497HwDOfGw",
        "outputId": "28af11e8-3530-4f2e-d360-b7d4f5ce05dc"
      },
      "outputs": [
        {
          "name": "stdout",
          "output_type": "stream",
          "text": [
            "\u001b[K     |████████████████████████████████| 177 kB 25.8 MB/s \n",
            "\u001b[K     |████████████████████████████████| 1.6 MB 48.2 MB/s \n",
            "\u001b[K     |████████████████████████████████| 1.5 MB 43.2 MB/s \n",
            "\u001b[K     |████████████████████████████████| 1.1 MB 54.8 MB/s \n",
            "\u001b[?25h  Installing build dependencies ... \u001b[?25l\u001b[?25hdone\n",
            "  Getting requirements to build wheel ... \u001b[?25l\u001b[?25hdone\n",
            "    Preparing wheel metadata ... \u001b[?25l\u001b[?25hdone\n",
            "  Building wheel for gym (setup.py) ... \u001b[?25l\u001b[?25hdone\n",
            "  Building wheel for AutoROM.accept-rom-license (PEP 517) ... \u001b[?25l\u001b[?25hdone\n",
            "\u001b[K     |████████████████████████████████| 448 kB 32.4 MB/s \n",
            "\u001b[?25hLooking in indexes: https://pypi.org/simple, https://us-python.pkg.dev/colab-wheels/public/simple/\n",
            "Collecting optuna\n",
            "  Downloading optuna-2.10.1-py3-none-any.whl (308 kB)\n",
            "\u001b[K     |████████████████████████████████| 308 kB 24.7 MB/s \n",
            "\u001b[?25hRequirement already satisfied: scipy!=1.4.0 in /usr/local/lib/python3.7/dist-packages (from optuna) (1.7.3)\n",
            "Requirement already satisfied: packaging>=20.0 in /usr/local/lib/python3.7/dist-packages (from optuna) (21.3)\n",
            "Requirement already satisfied: numpy in /usr/local/lib/python3.7/dist-packages (from optuna) (1.21.6)\n",
            "Collecting cliff\n",
            "  Downloading cliff-3.10.1-py3-none-any.whl (81 kB)\n",
            "\u001b[K     |████████████████████████████████| 81 kB 10.3 MB/s \n",
            "\u001b[?25hCollecting cmaes>=0.8.2\n",
            "  Downloading cmaes-0.8.2-py3-none-any.whl (15 kB)\n",
            "Requirement already satisfied: tqdm in /usr/local/lib/python3.7/dist-packages (from optuna) (4.64.0)\n",
            "Requirement already satisfied: PyYAML in /usr/local/lib/python3.7/dist-packages (from optuna) (3.13)\n",
            "Collecting colorlog\n",
            "  Downloading colorlog-6.6.0-py2.py3-none-any.whl (11 kB)\n",
            "Collecting alembic\n",
            "  Downloading alembic-1.8.1-py3-none-any.whl (209 kB)\n",
            "\u001b[K     |████████████████████████████████| 209 kB 59.1 MB/s \n",
            "\u001b[?25hRequirement already satisfied: sqlalchemy>=1.1.0 in /usr/local/lib/python3.7/dist-packages (from optuna) (1.4.39)\n",
            "Requirement already satisfied: pyparsing!=3.0.5,>=2.0.2 in /usr/local/lib/python3.7/dist-packages (from packaging>=20.0->optuna) (3.0.9)\n",
            "Requirement already satisfied: greenlet!=0.4.17 in /usr/local/lib/python3.7/dist-packages (from sqlalchemy>=1.1.0->optuna) (1.1.2)\n",
            "Requirement already satisfied: importlib-metadata in /usr/local/lib/python3.7/dist-packages (from sqlalchemy>=1.1.0->optuna) (4.12.0)\n",
            "Requirement already satisfied: importlib-resources in /usr/local/lib/python3.7/dist-packages (from alembic->optuna) (5.8.0)\n",
            "Collecting Mako\n",
            "  Downloading Mako-1.2.1-py3-none-any.whl (78 kB)\n",
            "\u001b[K     |████████████████████████████████| 78 kB 8.0 MB/s \n",
            "\u001b[?25hCollecting autopage>=0.4.0\n",
            "  Downloading autopage-0.5.1-py3-none-any.whl (29 kB)\n",
            "Collecting pbr!=2.1.0,>=2.0.0\n",
            "  Downloading pbr-5.9.0-py2.py3-none-any.whl (112 kB)\n",
            "\u001b[K     |████████████████████████████████| 112 kB 49.8 MB/s \n",
            "\u001b[?25hCollecting cmd2>=1.0.0\n",
            "  Downloading cmd2-2.4.2-py3-none-any.whl (147 kB)\n",
            "\u001b[K     |████████████████████████████████| 147 kB 57.7 MB/s \n",
            "\u001b[?25hCollecting stevedore>=2.0.1\n",
            "  Downloading stevedore-3.5.0-py3-none-any.whl (49 kB)\n",
            "\u001b[K     |████████████████████████████████| 49 kB 6.7 MB/s \n",
            "\u001b[?25hRequirement already satisfied: PrettyTable>=0.7.2 in /usr/local/lib/python3.7/dist-packages (from cliff->optuna) (3.3.0)\n",
            "Requirement already satisfied: attrs>=16.3.0 in /usr/local/lib/python3.7/dist-packages (from cmd2>=1.0.0->cliff->optuna) (21.4.0)\n",
            "Requirement already satisfied: typing-extensions in /usr/local/lib/python3.7/dist-packages (from cmd2>=1.0.0->cliff->optuna) (4.1.1)\n",
            "Collecting pyperclip>=1.6\n",
            "  Downloading pyperclip-1.8.2.tar.gz (20 kB)\n",
            "Requirement already satisfied: wcwidth>=0.1.7 in /usr/local/lib/python3.7/dist-packages (from cmd2>=1.0.0->cliff->optuna) (0.2.5)\n",
            "Requirement already satisfied: zipp>=0.5 in /usr/local/lib/python3.7/dist-packages (from importlib-metadata->sqlalchemy>=1.1.0->optuna) (3.8.0)\n",
            "Requirement already satisfied: MarkupSafe>=0.9.2 in /usr/local/lib/python3.7/dist-packages (from Mako->alembic->optuna) (2.0.1)\n",
            "Building wheels for collected packages: pyperclip\n",
            "  Building wheel for pyperclip (setup.py) ... \u001b[?25l\u001b[?25hdone\n",
            "  Created wheel for pyperclip: filename=pyperclip-1.8.2-py3-none-any.whl size=11137 sha256=97949e9a3b2f9791b7e8d6fdc85d9e9cb8db2f3b8714a00a842e8da1bdefd5fb\n",
            "  Stored in directory: /root/.cache/pip/wheels/9f/18/84/8f69f8b08169c7bae2dde6bd7daf0c19fca8c8e500ee620a28\n",
            "Successfully built pyperclip\n",
            "Installing collected packages: pyperclip, pbr, stevedore, Mako, cmd2, autopage, colorlog, cmaes, cliff, alembic, optuna\n",
            "Successfully installed Mako-1.2.1 alembic-1.8.1 autopage-0.5.1 cliff-3.10.1 cmaes-0.8.2 cmd2-2.4.2 colorlog-6.6.0 optuna-2.10.1 pbr-5.9.0 pyperclip-1.8.2 stevedore-3.5.0\n"
          ]
        }
      ],
      "source": [
        "# @title Install dependencies\n",
        "!sudo apt-get update > /dev/null 2>&1\n",
        "!sudo apt-get install -y xvfb python-opengl ffmpeg > /dev/null 2>&1\n",
        "!pip install rarfile --quiet\n",
        "!pip install stable-baselines3[extra] ale-py==0.7.4 --quiet\n",
        "!pip install box2d-py --quiet\n",
        "!pip install optuna\n",
        "!pip install gym pyvirtualdisplay --quiet"
      ]
    },
    {
      "cell_type": "code",
      "execution_count": null,
      "metadata": {
        "id": "DdyQhVSjOfGz"
      },
      "outputs": [],
      "source": [
        "# Imports\n",
        "import io\n",
        "import os\n",
        "import glob\n",
        "import torch\n",
        "import base64\n",
        "import stable_baselines3 \n",
        "import optuna\n",
        "\n",
        "import numpy as np\n",
        "import matplotlib.pyplot as plt\n",
        "\n",
        "from stable_baselines3 import DQN\n",
        "from stable_baselines3.common.results_plotter import ts2xy, load_results\n",
        "from stable_baselines3.common.callbacks import EvalCallback\n",
        "from stable_baselines3.common.env_util import make_atari_env\n",
        "\n",
        "import gym\n",
        "from gym import spaces\n",
        "from gym.wrappers import Monitor"
      ]
    },
    {
      "cell_type": "code",
      "execution_count": null,
      "metadata": {
        "cellView": "form",
        "id": "zBYe2SHjOfG0"
      },
      "outputs": [],
      "source": [
        "# @title Plotting/Video functions\n",
        "from IPython.display import HTML\n",
        "from pyvirtualdisplay import Display\n",
        "from IPython import display as ipythondisplay\n",
        "\n",
        "display = Display(visible=0, size=(1400, 900))\n",
        "display.start()\n",
        "\n",
        "\"\"\"\n",
        "Utility functions to enable video recording of gym environment\n",
        "and displaying it.\n",
        "To enable video, just do \"env = wrap_env(env)\"\"\n",
        "\"\"\"\n",
        "\n",
        "def show_video():\n",
        "  mp4list = glob.glob('video/*.mp4')\n",
        "  if len(mp4list) > 0:\n",
        "    mp4 = mp4list[0]\n",
        "    video = io.open(mp4, 'r+b').read()\n",
        "    encoded = base64.b64encode(video)\n",
        "    ipythondisplay.display(HTML(data='''<video alt=\"test\" autoplay\n",
        "                loop controls style=\"height: 400px;\">\n",
        "                <source src=\"data:video/mp4;base64,{0}\" type=\"video/mp4\" />\n",
        "             </video>'''.format(encoded.decode('ascii'))))\n",
        "  else:\n",
        "    print(\"Could not find video\")\n",
        "\n",
        "\n",
        "def wrap_env(env):\n",
        "  env = Monitor(env, './video', force=True)\n",
        "  return env"
      ]
    },
    {
      "cell_type": "markdown",
      "metadata": {
        "id": "eW3y6RKzOfG2"
      },
      "source": [
        "---\n",
        "# Introduction\n",
        "\n",
        "In a standard RL setting, an agent learns optimal behavior from an environment through a feedback mechanism to maximize a given objective. Many algorithms have been proposed in the RL literature that an agent can apply to learn the optimal behavior. One such popular algorithm is the Deep Q-Network (DQN). This algorithm makes use of deep neural networks to compute optimal actions. In this project, your goal is to understand the effect of the number of neural network layers on the algorithm's performance. The performance of the algorithm can be evaluated through two metrics - Speed and Stability. \n",
        "\n",
        "**Speed:** How fast the algorithm reaches the maximum possible reward. \n",
        "\n",
        "**Stability** In some applications (especially when online learning is involved), along with speed, stability of the algorithm, i.e., minimal fluctuations in performance, is equally important. \n",
        "\n",
        "In this project, you should investigate the following question:\n",
        "\n",
        "**What is the impact of number of neural network layers on speed and stability of the algorithm?**\n",
        "\n",
        "You do not have to write the DQN code from scratch. We have provided a basic implementation of the DQN algorithm. You only have to tune the hyperparameters (neural network size, learning rate, etc), observe the performance, and analyze. More details on this are provided below. \n",
        "\n",
        "Now, let us discuss the RL task we have chosen, i.e., Lunar Lander. This task consists of the lander and a landing pad marked by two flags. The episode starts with the lander moving downwards due to gravity. The objective is to land safely using different engines available on the lander with zero speed on the landing pad as quickly and fuel efficient as possible. Reward for moving from the top of the screen and landing on landing pad with zero speed is between 100 to 140 points. Each leg ground contact yields a reward of 10 points. Firing main engine leads to a reward of -0.3 points in each frame. Firing the side engine leads to a reward of -0.03 points in each frame. An additional reward of -100 or +100 points is received if the lander crashes or comes to rest respectively which also leads to end of the episode. \n",
        "\n",
        "The input state of the Lunar Lander consists of following components:\n",
        "\n",
        "  1. Horizontal Position\n",
        "  2. Vertical Position\n",
        "  3. Horizontal Velocity\n",
        "  4. Vertical Velocity\n",
        "  5. Angle\n",
        "  6. Angular Velocity\n",
        "  7. Left Leg Contact\n",
        "  8. Right Leg Contact\n",
        "\n",
        "The actions of the agents are:\n",
        "  1. Do Nothing\n",
        "  2. Fire Main Engine\n",
        "  3. Fire Left Engine\n",
        "  4. Fire Right Engine\n",
        "\n",
        "\n",
        "<img src=\"https://raw.githubusercontent.com/NeuromatchAcademy/course-content-dl/main/projects/static/lunar_lander.png\">"
      ]
    },
    {
      "cell_type": "markdown",
      "metadata": {
        "id": "vUODZ-Y1OfG3"
      },
      "source": [
        "---\n",
        "# Basic DQN Implementation\n",
        "\n",
        "We will now implement the DQN algorithm using the existing code base. We encourage you to understand this example and re-use it in an application/project of your choice! "
      ]
    },
    {
      "cell_type": "markdown",
      "metadata": {
        "id": "8FKtLX1NOfG4"
      },
      "source": [
        "Now, let us set some hyperparameters for our algorithm. This is the only part you would play around with, to solve the first part of the project. "
      ]
    },
    {
      "cell_type": "code",
      "execution_count": null,
      "metadata": {
        "id": "Z7WsP3VUOfG5"
      },
      "outputs": [],
      "source": [
        "nn_layers = [64,64] #This is the configuration of your neural network. Currently, we have two layers, each consisting of 64 neurons.\n",
        "                    #If you want three layers with 64 neurons each, set the value to [64,64,64] and so on.\n",
        "\n",
        "learning_rate = 0.001 #This is the step-size with which the gradient descent is carried out.\n",
        "                      #Tip: Use smaller step-sizes for larger networks."
      ]
    },
    {
      "cell_type": "markdown",
      "metadata": {
        "id": "CwcXEdVkOfG6"
      },
      "source": [
        "Now, let us setup our model and the DQN algorithm. "
      ]
    },
    {
      "cell_type": "code",
      "execution_count": null,
      "metadata": {
        "id": "dKjLBaPGOfG6"
      },
      "outputs": [],
      "source": [
        "log_dir = \"/tmp/gym/\"\n",
        "os.makedirs(log_dir, exist_ok=True)\n",
        "\n",
        "# Create environment\n",
        "env = gym.make('LunarLander-v2')\n",
        "#You can also load other environments like cartpole, MountainCar, Acrobot. Refer to https://gym.openai.com/docs/ for descriptions.\n",
        "#For example, if you would like to load Cartpole, just replace the above statement with \"env = gym.make('CartPole-v1')\".\n",
        "\n",
        "env = stable_baselines3.common.monitor.Monitor(env, log_dir )\n",
        "\n",
        "callback = EvalCallback(env,log_path = log_dir, deterministic=True) #For evaluating the performance of the agent periodically and logging the results.\n",
        "policy_kwargs = dict(activation_fn=torch.nn.ReLU,\n",
        "                     net_arch=nn_layers)\n",
        "model = DQN(\"MlpPolicy\", env,policy_kwargs = policy_kwargs,\n",
        "            learning_rate=learning_rate,\n",
        "            batch_size=1,  #for simplicity, we are not doing batch update.\n",
        "            buffer_size=1, #size of experience of replay buffer. Set to 1 as batch update is not done\n",
        "            learning_starts=1, #learning starts immediately!\n",
        "            gamma=0.99, #discount facto. range is between 0 and 1.\n",
        "            tau = 1,  #the soft update coefficient for updating the target network\n",
        "            target_update_interval=1, #update the target network immediately.\n",
        "            train_freq=(1,\"step\"), #train the network at every step.\n",
        "            max_grad_norm = 10, #the maximum value for the gradient clipping\n",
        "            exploration_initial_eps = 0.9, #initial value of random action probability\n",
        "            exploration_fraction = 0.8, #fraction of entire training period over which the exploration rate is reduced\n",
        "            gradient_steps = 1, #number of gradient steps,\n",
        "             exploration_final_eps = 0.05,\n",
        "\n",
        "            # exploration_initial_eps = 1  # initial value of random action probability. Range is between 0 and 1.\n",
        "            # exploration_fraction = 0.5  # fraction of entire training period over which the exploration rate is reduced. Range is between 0 and 1.\n",
        "            # exploration_final_eps = 0.05  # (set by defualt) final value of random action probability. Range is between 0 and 1.   \n",
        "            seed = 1, #seed for the pseudo random generators\n",
        "            verbose=0) #Set verbose to 1 to observe training logs. We encourage you to set the verbose to 1.\n",
        "\n",
        "# You can also experiment with other RL algorithms like A2C, PPO, DDPG etc. Refer to  https://stable-baselines3.readthedocs.io/en/master/guide/examples.html\n",
        "#for documentation. For example, if you would like to run DDPG, just replace \"DQN\" above with \"DDPG\"."
      ]
    },
    {
      "cell_type": "markdown",
      "metadata": {
        "id": "KCjQ0HfCOfG7"
      },
      "source": [
        "Before we train the model, let us look at an instance of Lunar Lander **before training**.  \n",
        "\n",
        "**Note:** The following code for rendering the video is taken from https://colab.research.google.com/github/jeffheaton/t81_558_deep_learning/blob/master/t81_558_class_12_01_ai_gym.ipynb#scrollTo=T9RpF49oOsZj"
      ]
    },
    {
      "cell_type": "code",
      "execution_count": null,
      "metadata": {
        "colab": {
          "base_uri": "https://localhost:8080/",
          "height": 422
        },
        "id": "kVnkKrMHOfG8",
        "outputId": "602b660e-1f70-4dad-f7d8-013040885d54"
      },
      "outputs": [
        {
          "data": {
            "text/html": [
              "<video alt=\"test\" autoplay\n",
              "                loop controls style=\"height: 400px;\">\n",
              "                <source src=\"data:video/mp4;base64,AAAAIGZ0eXBpc29tAAACAGlzb21pc28yYXZjMW1wNDEAAAAIZnJlZQAANMhtZGF0AAACrgYF//+q3EXpvebZSLeWLNgg2SPu73gyNjQgLSBjb3JlIDE1MiByMjg1NCBlOWE1OTAzIC0gSC4yNjQvTVBFRy00IEFWQyBjb2RlYyAtIENvcHlsZWZ0IDIwMDMtMjAxNyAtIGh0dHA6Ly93d3cudmlkZW9sYW4ub3JnL3gyNjQuaHRtbCAtIG9wdGlvbnM6IGNhYmFjPTEgcmVmPTMgZGVibG9jaz0xOjA6MCBhbmFseXNlPTB4MzoweDExMyBtZT1oZXggc3VibWU9NyBwc3k9MSBwc3lfcmQ9MS4wMDowLjAwIG1peGVkX3JlZj0xIG1lX3JhbmdlPTE2IGNocm9tYV9tZT0xIHRyZWxsaXM9MSA4eDhkY3Q9MSBjcW09MCBkZWFkem9uZT0yMSwxMSBmYXN0X3Bza2lwPTEgY2hyb21hX3FwX29mZnNldD0tMiB0aHJlYWRzPTMgbG9va2FoZWFkX3RocmVhZHM9MSBzbGljZWRfdGhyZWFkcz0wIG5yPTAgZGVjaW1hdGU9MSBpbnRlcmxhY2VkPTAgYmx1cmF5X2NvbXBhdD0wIGNvbnN0cmFpbmVkX2ludHJhPTAgYmZyYW1lcz0zIGJfcHlyYW1pZD0yIGJfYWRhcHQ9MSBiX2JpYXM9MCBkaXJlY3Q9MSB3ZWlnaHRiPTEgb3Blbl9nb3A9MCB3ZWlnaHRwPTIga2V5aW50PTI1MCBrZXlpbnRfbWluPTI1IHNjZW5lY3V0PTQwIGludHJhX3JlZnJlc2g9MCByY19sb29rYWhlYWQ9NDAgcmM9Y3JmIG1idHJlZT0xIGNyZj0yMy4wIHFjb21wPTAuNjAgcXBtaW49MCBxcG1heD02OSBxcHN0ZXA9NCBpcF9yYXRpbz0xLjQwIGFxPTE6MS4wMACAAAAGimWIhAAv//72rvzLK3R+lS4dWXuzUfLoSXL9iDB9lNeHlhusARNqsHq1BRibwnGewd5T950mFtQ99iDLDYJZVOU1+CJXaotVhJ/2sjUhnyJ5+nKvnLU37/2bf+Z4iZEFe3GAIKaHCJtC2vzauceMxM9Qat/U/NJMHX9ZIBRn/m8eTYFG/KaGJA5ximLPngO3TKZf22z/T2MS7SaZFrUOKYue0O5dfsL/HcaXoe2kE7njGEK/+o4zgnlPgg3s+1lsOp+cafO0VZ4cRoxK/MzD6WTKcAAAAwAAJ+6J6qCU8Va91QdTwz47hHD1YE8NKh9E6+8J9m7ZqIfKW8g482hbMq5YkzUIXiTqwn8gABBANL68+BgH2FrFxGoIEOIZw1BmERK8CRiGBqQPKUn56Jn+1Ja1+hSSl3ns6XH2myhIVy7MyLhiDBYFp94CCBQ/hy/tHqUXaZ6Och/LM6FCtlNN7L7cVeltym6NUgnwWmfitlwC0Mt8kfMvA6F0Vh/S8MmYB0fSAMa1zQYH9ErxD5gKpCPBOEmaFcOBgsvxNO5UapvzY8xUYeAsDDSbu+2jaKEDpcUfUoXdA3KjHvmg5G6zhMfWN0GFiz0vh79J+xJalRaw97KxQFtm+Si1a8GNeaBohunsbnR4Th8btWDUNKEB5jdc3QoS7enatEElIfBMsLgULDleDLl1vIAQrx79Js7hPkpZkmadw0m7qLZ0Iq6/+kSQpvNDc75caEjpMX3lD6wZQrbwausCz54MPYAc6qtOijT3QS0UajgjJOlYWgqel0pXTjjgvWYSiCPVrmrrwrrha6UOtvqHQQFX59dgvd/Unug3Fk/gaKNQ3hFzF1bninUnjhghB6TY20S3Gh+R5VeEZkPC32cm1+fzQSpXXJ37EEKbJLg3rjs1jhAU0ZP2MlV94XflrGwAXmQAOKQ+buEz1cWXvItTVmanF0iyzQaW5k4MF134DC9DT1KHzsAZgR9rTBR4At115+9QbN+FFEHq2TMDRKr/KK2GsDScBo1KzNpc70HNRN4kZfzBDg54sUP5Pxg+SMbdyPeYFOjfDSN25GMztgYPwxHSEUyKLDGYq1AIiZPt9gz4qMMJax0yV+Ent9mxhciQ+Bz2h8MnhBeXox7WQeQjDi1bV/wq8NA7VG/zAXNjwFaPoEMX9c20QNpqoGtMdaRwWU2dIlC8pstM/2MxWEpoSp/j28S5jBUL0ABLxhmTOtGyx772tj9Zm42NHhVFcjAeX+fSaaudqpotuYYutLEPbRLsIcqT+/tQP3k5tbbx9+/AH4dw+l7l7fWI2+nK3R/ORbWKWjjxR0yE9cdogyuooRz8sv0p33SyFUpX3KeMEGXNYZyx5vrESLpRvCjTsvz9AMygm09sziYNrxdWamdciVUAZtPO5nusEJchvLNDZQR7KXSx492C5eSK4gT/SAXINprqW+uT11vBL5I4gTCdzaNganPqlkov9kStwAAG4bQ51xchYVvCBkMIUrhgTlAUNB8LkFVXNSS6njOAA//ECinjA7NB4RvdVBd6MMx9/UFSSeSHW6DAD//0BikNNEYyIm8Xs/x9xu5rjOkeb6hoe6ylNaZ4DU5Z3ff6FWARSH+jSzc2m1EYnVw6cvCRRJv1Tu0ZtVOl+YOYpUySnwcfa+gv1IUiocytH+2SeQDIMbpNQse0lptTDcq5s8zaD6ZjhKHZiD3uQu8sjLbdGG3/UJbq+fh5sv9Fy+9IQsXtbhcdipeT7j+LfBvKV6x8KGHbiHRMz6oIImMcDcl/6opaHNX/TRop/jh3HjK2gBAbXkRC08gaFK3qR019qZEn44lT+HyGOWoe1+3P8kXHMIe2a2vs8xQLlFo+D6JghtGPkebbDXwEqDAU2+b/zmeIY6AAE1HiaeL9rjex4dVTl52Y/miU+z1Dj7yH4tln00uGJXlS0rr7MtF4rYP0hIwKMCi5QYVn0D65DE0vCqKJxJnvppC22kY76bK8HqLot4Def1cG42CVpBWl4ffvlGqSaodi2Ao7vRtV+uvRXdv5icjnAtF2Y//BYrkITloUdLSA9QFEPm27B+kFjfEWcFXfEhqbngmaxLse2OMi4On/9oCYjdG82vIpz0h2Z4A18XkrlQQ+xY9vjQrZfkZENe/wHq9CvQMS+K0PlzzvCdvNvAIpNEWJawb5SSUZBD+B+e6wpL5XzyE8pO+B3ElGnciMVqinbSGI8G4dEsgAANYAAAMAAAMCXwAAAV5BmiRsQv/+jNNcTj65PBNCMvRBq765OpDfANj4Cj2izCP9UPDoftHPIRu5vuJcL6t6T0kvKU9vWyDQlxmKZTcz7cu3Tp7BVlco0JajgOW/fvNJKLIWswyuNi3+XIazb3dtRdHT0cpKHVsRtEKffWI1qRZPMHIZVhTB3EZVDeygnK7t3JIAAAn+R8l7yovkYAMtO6rINVwu0ay2JopIcfsMyqd+d9f5xBpaPSRVQB1u4CZBAr67eek2wj9921TNzsYZXN1ePIV4oUDUHFveaseDHmgq0YEKMdOilb6FWWikwXLX2uoVTbESUiSrvHIzduS14rFOkv3S9lyib3lW7EP9jlb97TzjttFQ8xEbleWfc2igu28Rh0ky5LupLdpmHqb3UlrdX39vqKj20Jh/E0RKBPJFAkZD6tonMN/weiKKy1/9+Z7NFy8l88sBP7s3IVYvwYVFMkK+rS4VPQhCwAAAAGVBnkJ4hH8PWgC73c1QROX21ZYyJskHb5pF79KACp7DFo8uLPSjO+EbB0EGEhFg06IhYRuBtzgArqrjUPgqip8bN6eMhk6JfCygabmmKf0lZ773GZDiuQHiTxeD2fk07SY/ikBcQQAAADsBnmF0R/8U7ydRFL+J6t4vBzDmRQSCPgDGACYUlFVhBQD+RsDh6nv4Jxw7y06WbtyWh8XDxitKJuBFwAAAAEMBnmNqR/8T9mLN1TQYHrGfHJiTcNoFeYrW2BsuwSABo7CotmqdMbUHn5N89Yk/f9bIEqPAyc3/bwIFTQGLEOicAMWBAAABP0GaZ0moQWiZTAhf//6Mz4JdwuUiJSsdGngAjI6G3/vTIWPtU84vWN+FZC+FvG7hSG8ikC33j5/dpN5wMoPCxLL4Y5/XBLgq5x7U1AERZ+1k7URCCkewgdr/GSlUv+STvzd0oinnQyqXpTLkouZGlojBCTfpLrWjoSUPdbYMI0+cxiulbTfOuGVkTM1cwNmeKYvoeZvGjDk2MDHwnygXbS6CFR9fY+q4rx8Se3hz2LKaBKGf7/8/vCcwqligN+FoeSuGLMcxBoVqNVo2+6fRc89z1js2b73xvfmPdmHqDHjn+0NQS1Mo/xUdlh/LCmue+TXO9RgA5UXA1BAlL4kqjYEi7iuchVD6kw1HhezMDVilqgy8iyAqucenalPEG+PlYpDxWf2AG3M3MLMBv/YzhL03hEbbxenl/iVaoQxUQwMAAABdQZ6FRREsI/8PaMY/Ecu/4rMmuKzzRSwsy3F0ALN4Se0c6rQVMmHoSTP38KI+yS+k63pE7ypGEJ8SR3dxK4i0rvtYAQRQHhykT4hp6JX0kU9pytZni6WicspPQDRhAAAAXAGepmpH/xMrPeBABb9tL43mdks6Qj3spceKde+m3tEZFKO5f1aizeoi281no+wP/SANbiJw8TJcWJ9wI+aPlmJ5LNhpQInu/56X6hQe5OACI+Okeij/rYxSXALbAAABJ0Gaq0moQWyZTAhf//6Mxr3sskdlhvzqoX5B9h8dAnaYT31a1gxvot3ty2ZPn5jF/mDME7kB257j1cRfMbRue888j9Jeh9hY4JPN55Qvf/hO3v1SQHEB2gBVsBRt55K47ixkACft8rHVENCNtdsjD90WSvX3fn9l8i0Ttal3uh5ORQmA7+F07vrGx3o7T9Sb5V1/EUNXBhySUk3wEVfhPy40i4x5M3+/svGkte+61iqBEfood1+xajqFHM3UDuEYWmpjNs2J5ri/qJG5O/y+w3P3sHFQxIOkn1pwKXr2TxkTrGeaDD0daUX0t3vC0Qah2XX22xtUGZw5sF33ggNxA8tcvhCJnjmWeLLKAhZJ7quC58eF3lA02XLp8xbVvW42WI4rzfyjnxwAAACrQZ7JRRUsI/8NsbI0+Zj5/MfBfXkMBY2ACG7G7Zs7y+cDiHdVRpLJABmAfqqPx988h5oQCQxI520GrcCD9j34QX+hgud9+sh523Mu1iWscg9tGbeC97xMncFQkv23LNDlfDq5fT70FWGcsLH1M7cS6ofF+dRGzPi72BgIUcpivvr+NpUO58vd2yZgr+ZGwOzhFotzNBfojt7YAFkf3xDSJD3ybeL9kNcZgAj4AAAAggGe6HRH/xLdqVcIs2cg8nryChK/SNzKQDncAF1W7JRtQK5UTZ4APsutnMkZS8o60VJaKmM7uHDkS5YANkEU+ns1Q6uYHcMn7mRZpZo2pElhQw73iAIeqZnu/ke4n+QQQ8gAQvd7J7nuXhLFInY2sazkmM88zcXtttnAAC1xLdMRgI0AAACMAZ7qakf/EyIiYSs5Br797rMAC1QYw5KK1640FAER94b3fhrwvLNO2Ssyz2UM1wconl/ltIA97Y3NoIfHyRo4tPBUT8igI4heEeDpgJgPvWMzNpE9y5/Cs2EPYx2aG9tI0v4pwzx2Egtqc4m33E+Eqr2wJctPz9MmCYm3XlaLzKGxXAANEuw/QXEaZUAAAAEdQZrvSahBbJlMCF///oy/bLdkR+70vgfCIgBdR63j81S7+xIkONrkQYzzcJvoOdgAMD1GA3dW9dBxm8v+jHMf4KtK+RcDisIE10XWvamHLLvXHQOSqiBBkD2jRKg6rPNqnRitOKHfjnQ57BTGntsjbowE2IeTXz5PhxMNKC1mU3aRtvQhynEITxKnKmpHzniqHf9rvPF2YYIl34vTojdrdnxjKAKrB02Y0gzwQpA+UJ3wEoMKlHJBE0JLKrkzpGK9n5Yh9dwTwPYnDa9GN4mA/UbpxAtDvGLMWoUIH1dri0P9hERRpt11nf/ytSi6M/RadulQT34/WwsUhOiKaCf51SthdDACe2ZCN5g60l7NJwYtEMuZrE4dB80uJvtqAAAAp0GfDUUVLCP/DJVpnfXyPCTyAFuAfcblpaS4kw4eWiYZ0Kf9hBVbR+kXIJ41G+b4ORgeghwy5AQESwbRWth1e9ED6H+XN5siW7yqIwByY4Vp9O3es04SFkOBcXCJMoLpm3mMLfPkGYLN7XLGESUczGyNCXJ7wmnxtBygDmP1v84wFeQOSv1CIpj+Abq6P3lmPmm8hnFsF5qM8AJ4nFC+CdVhUBBguAFJAAAAfQGfLHRH/xF9a/DdRl2YzwA3GB5JnDuu1IGhu5Cq0cyS2qIZExkK0vTtv2Avht20MjokqJUc3+34RTghQFXBlRsdSJMQjyhNO31bKIacG8KTcBkZvvZ+aUW1qIRygfpx9fVjI55iKAlim4wxQVVtfl9qQQ8hvawAZdYX5rXzAAAAqgGfLmpH/w0zjUAsrUwSoqMvzdgbj5KEM0/LiPM1SI6v2XeBNiwg7NGOQmkkHcnLyr5bkWqxkqdMXAvr4Whm1c22PJHX3Bu4dp5NgCc3OhJmRZfEGWndVCly9SK3mTfGgd5q9aaN/tDfBurcpJRl7AhtPmd8doKy6K++asL/q4Dw53I6TbMbDy4cGhyMMylg6m/N2GyUvqSrpnIS3MJN4J0IZ4AT2YkhB2pBAAABNkGbMkmoQWyZTAhf//6MtUMO+3ooZd1IVKvzfcymQATjd4Ql1glUYL9nzGAd8WMc6JStpfXkWVxZIvwIaPLrJxzRlbP9sZLH4LJl5CM4NBAGBtOzUsFOkRXugmJ2ZtStEKt3vE3cfoLHQDfcZ5X8vKqySxgNe4HgH9IhhxFQHBpdY0vHZmKfbaDE8Hs1/9xYENOhlBFLLF3vZj74E+WyvsDx1qzVZ1p2PkbgRriunxKmfyzkDFUXHdxQuUUiGP4v4FGI3LA4CGhmdm16YfvcWj79wguWqHfKTATmHmDBxoAxO/2aDJJjY4wPJfndratepTH4wyxhtql1XHMJhSZFN/mcyhESgHjHjKgRg6zSLPsEaJO0FXD6m9zEaGmpvnTFXXXUzSPwyC97BEDyGQMXQG6HlJ5FMqAAAACjQZ9QRRUsI/8JrHM5W5QUq8YQBEqdybSvZ7bB6vi6fD0bA2k5Fct5j+XPb+/4hl8lBMTjmbcWZXwKWdUIJS07L7k+1V2I/GysxxTeDGdR3NGHo3OVduNF2OUr6HC0XB6HbCkfI5nb3nPfHHG5/WSmlfs+ItvNlpioeC/O0RfOAVAjGJVLgPQvjMgyd+BgXhfvBj+dWAD1w5E9yvFN+nankiQsoAAAAGUBn3FqR/8DhZKB0ZRYJIAG5i7FnvyHgVTY0Bnx4vss+IefAKPN1c7Qb/LRwEpqkCSQWHfYcN6sFXh+U/a+jFUCRyEEPfrCcrru6xDr+qDTV3RLuyxHCzmavMqgAPbRnMkGaNC/wQAAAR9Bm3RJqEFsmUwUTC///oywBx1f2hEACVJXgVKScHE2P4sXy+tBFYS8LjETYImCC7El4ZYI4vlo6ghR0rybvLTJrFaQ8mI4XRJEP2v5i6GmV9yS7t9jVaRVp9Hy7DhGSio5bRXET1gUs2Ycy5GJdd6GImPoQb/njz6+yROn3jk+d82hpEMVqtoxdA4dOELNZFVdsP11EWgZCjMximM52gcOioPzfumlcz4rdrDBin+z1em4czNClW6maD3sxjGzWFAA+NmptggH+4/54FRqgPo5WvcZIJ53S4Rt3BtU/CSklwZ6X/rWdy+5e7hp2/SdbWJo3+TFt+B25PpZq3vTJSKA7QlPVXDI2NuTU6RkHBtm8wKhLtWcYpsJFEX/Z6RD4AAAAKEBn5NqR/8DXwp4AdIjypj3F01JjlI7G447tF4uUlFPCZ/1qezrMgyi4RZJDViFImois2Z//OABEnAESn3+8J7HzaiOuvpFawL7RIy4uZVwfdiZmnz9QHq6Y9O3Q9cdHA2OVBnaaqdEIqIDb50n2jjaKmpGKjKgqf5V5vgD+wNk0bfwGZEhnY6y62MPsglYNTyPqwBkXjh3XbXryNYvcaRgQAAAATJBm5ZJ4QpSZTBSwr/+OEAa4ncpqsAcoqoDc/llr/YHFtDkjxJHN/rYh3fotq8N/E65vWdUmYzHGIlv41w6suRBcKzK8wm++8Oo47OEF4hnBXZl//a669cqGwWcUNSPl6/nb8G44feYb1EUvF5bVieKkFO/lJM/UUJlOqd2r4FzdMIg6bHUrMx6eNrZrW9ozDf7r9lmwPsepWoJC62LIWsbPOMdNRre2ovgEuI+cj7JhcN3v8R7Angd9xEVJE6ndbGKb/hKt4nerOYhvQQhSlm6seeXm33oMR9oelQVHYffMcruuorZ8g6tycrLCjXFqMn80/+QC81YeJiRwvzP3ypdPanjevm4ItSaPFQzUG/XugY8YEW5RBKK/pWY79CRe9Ki9Cv0riWvFuX7Gyph6cKuoIEAAACLAZ+1akf/A13iW4q82+AUbxHlx3bfLYvsAAOcLZUFUvD8+9YHZMrQu8Y6HYMhDTmG+1DmnowewXrp5wOhSmhblG4xK8RxKVyYvItUvmfgumx0PrRDKU9b93FCszhbZNo5OrH7apMvAlVmTzATBMDna7MvE+98lkSEY+Pcs4EUJ1bZhs0TRVYMQaWONAAAARtBm7hJ4Q6JlMFEwr/+OEAbLtbdIVwIajvUAIg6aG+PQbDWqhuZn/6Ds4MVftsN7xzH6V1oI24S4rs3aDFVI6lFsFzz/Jitua+GxbBhNHMfCTOSZVThuUtv8ARzsq4eF8sMUpf4wU/3sdYPKTXgWu+VCRl6TTzAHQsU8REe+PsDQENeVySCveF+iFnokizZmBDtnT+gXXvaFyUa0EMTaookm27QfN+LxKZId5IVFPtt3yQnigEL1X0dzBD7LzL4REUojnHDmjhKqtwLiKqrs3XfNKxx17//eOod63wj1DKzjoNO5wGAIdeG7P2N+9YoAtZE7GDJXJMgwLE4ZskomQJwc5PC71JJ/zEptSs8G3HA81xSp7WjoBkGREfBAAAAnQGf12pH/wNH9uExztOAFbycJjePUp5pAJJoVLtbrxfPbLCRfvb3n8RxDGZ70410UuV3Df/e508uLbcA2Cg/AC/vzZJYkiFOobU9IlOlF77mwE8KH5d1csNX1/mHMmZXaUJzbCkiQnUeiGeokVoJ1/m6XKMsNeb4F6hfy5iE5v68fcmojOKymSTA1rBP1RNU5mwWDHJ+P71C4ekz68EAAAECQZvaSeEPJlMFPCv//jhACalIZtXtb/1ycnEHvcgAJUYIM+axDJioKWGGAsa3GHNV7NNKBDWpTrS8z8+63AWrTEEfq3hxdfJZosiSdWsS4dS7dmM6/U1FjJwHm4v7nwj9n0AdOW3jjBrE6PUVXjQFgwwDibX7iEVg+fWNtTLc0Av3Hjn1PxUQc5wm6bt27BtKrKKoaOebXzBdmRVe6f2HDs+SZQMVNruyPRrZ3KVNtZF2CH2HiJTPB9bmK1SK8bT7uG+t1yWlg00l7Rn2eshQz1tC1hEuBtjrneHF/pNfQmgyDfYsacDTjM3pIfkulFN6c742tM6NnBNGOOHP5PdogcHAAAAAogGf+WpH/wFQy4xMvO508PfAEPMrWin3QYY+ceNabtDGV849YLxmwrRfZf47vyDDV1RuI8JlEIGgUyeKSCYhovMusOVZV/k20aP2Cw8C3NEPsyUvghCMo0X48QvFkv+vg55Leupdnk5l5oUjoYtW+g1KLbF+7es6KJ8Vxfn38/RlvpeMbno6ZQ5aMJcPObCwaIEK+0Q2AM2icMPn97od2DIccQAAASRBm/xJ4Q8mUwU8K//+OEADtK8f83c/LtUKKCABcVgjowYFTIRsp7NaTs9xC0P5KazQgKw896EO05BDIlZgsy9L6Stp+NvlGuOxx0gqP2jeba6SAomvS7p3sl95tW49a4U5PuKK5DU7IXuVJgpd+Jj22yka2lU3wS73nlPn6ReE28wDBLk8DHZ/RlmkzQc+oAFRXf98q6jEBpF5uHEnOAN5A26DHpvCQT4GVPEw4/Q34kNRtX2KovUkFqoOHVjIvPd+vM8LkKVU6FVY1zam0BtDSMoOElwqwrg2vHy09F/bR7ay/ye2/yV+cvCf1ITtxLPAaM7Z2F6WYQc4pccGFowRcog0xx3y5ihHeEg9Ngz+qwFosMzWsxV3Jnt3ZEhQXjYAG6g2AAAAigGeG2pH/wFRIHySeBlEABww6vMCVtLgSWIXPzhLlPay86B/u7/Y89zSjYxe5RGSAnttP/K9HJ8+Lno95MjeS92r1ueVXvROTUtADzEJS+pyIufRTLEKrkZSEp6ySmZ1FaJYCibvDyptny7j1Lw1ZPv5Zvz3atDtSqG1gL38BwdQUalsjsrhw/v0ywAAARNBmh5J4Q8mUwU8K//+OEADs+XsAIq/O4uEOXLFoTqRzv/WbqYmu5NLF2JD9ZSKStdwkNBkz5M6nBZH/9UuHrC6wlngm6QFUnVVF4dt1uBzOGe+Fu9yA31KZBICXuKzs3eZRiQaVBR78eyFl+yd9vd6Uihl/8qDwuDATodNi8pRcqmDDPXquZs7FynCHXnkoeDu3pEgi96TqFWp6wGKOK4oSr3Cl0hXX7HKzFtJG4EyJhVd7L+jMPjdXYbZPZG7BnzUK3jbu0FB033VwR1JDyo1xZSLm4HrfOfltMo1iE2qbuVZyuVYrWqOleLrJIZg5pEQkzpQ4RVoMRU0zezS0UUktbmdVNfX+kIclkfud5AWkqwFmwAAAIMBnj1qR/8AfvI0sDqoV7wRf9lEdxAA3//ZtOgqZ99i8OemNtp9eaV8lAm7wGKLIS4K2VvypxIaDqSgoEsNPBOWXhHzm1V6zWWWHUmN8DApwcRXNVSE7MkCef9Tsw3jCRRTGVXdfmWlxmG3GyXBNcW7PgrG3DhSYFS47BoPFgtAwu6rwAAAAQtBmj9J4Q8mUwIV//44QAO57QrYydHXMKAD+d3eCQghPYMb7DnEsP+8QAOHC03oCq7sMFMbfsyjiutBRpdsUMwOgg90LxAFe2HdotMrVeG84lq3YTLm/QOTRCTsN/Sl9gJGd0Uk8O/m1tWYO/+6QxbBOci1vx4wiweFUHSihOfGxtQ8qUlFve6dIqVUdrXsCo73PTTG4zvyuCN6wXInKH7RlHd50qiKenY/y250pOxdPzK2ImAHH/Whmw2ld9d5uvIYDpstfFqnc2on9k6TkmbaalhyAG+Yu2JX+4O0V6nWV9+LqhuNOuEB0ONoK5jqnHTrljvGBY+c0svQ7FFUkUjng3a5tLv8/TnGH3AAAAECQZpASeEPJlMCFf/+OEABc7KBAFb86OxUhXw0SCISjZD11hAQQDp8eRsNfueKzVD5rTPN8F6x3ajx/31NemUZI67nZjwm7GZh6mtzA5lhJeCTj1GBGAtyHXG4A0R3Wf6oh8mj/1PkNhKUGp5ixXgVfB5SYKsU/AtoTc1A5DO/oWiZG0t97khlryBD2bv+u/uqA0a5N1coP0cohqfDuHSCfZ2iXWTQf6iz844GZIhelnrf5ojewn2a+UDr7y5KR3Z4b04kPEhmW8qm0lni63lh7ScEWmBbKvjdJqUU2B/jJnTj9eCAZJRTB4S4b60K4sHQ1L8lW38uZdjm1g2ArDTgcPBxAAAA/UGaYUnhDyZTAhX//jhAAXX2tZgUC5rv3wAfiS3pyZgrZDC/AbuIl7rt/j3hhR4mr4f9n78jgYVFq9837krf8iM3XDKW4rJSOHES54Ihna98faJjEKxlziTyD0cCZXGilVACyeSZgFkS9jOMBt9oayBwAStY5jx/kbTsgsAV1dTyxWqv85yX93sF2r2ppoLKudAJLLvppZUd8jRutSY28UJTOskjSDFLH19RUn/5JadO+L80I/TxbtY1Rux9/A/cAAVx4KfyHgApvCNX2D7TKe2d66UUIpVK0cEdfEs3wEK0dYJ7bqpkz3iJCdgk0oUta3BzSo7RbCc0s2w2Dg4AAAEAQZqCSeEPJlMCFf/+OEABbOTzgSbMdkdAFHqbZQ77oqvdxo7kH6xkfoJebFd9mfXfoqXERQGu0rtmeeoGVOyDQWuGOu8CetHL9+mXNqzRtSlfDcDfYJTmfOlhm/+cFSztkzdE6aqFzz5ZeKOjT8zK75oVeY5La3GWVQa5rCj8njn72XfqWBkI93ugx1J4ljlEQnCX0xSLSJpab9JL+hFkq5CAiPXVGnprkCEQruuNG9HGQC4JlGNiWQ4zZI8drxrWG7D0vRs3dT5NgYLbTyLgLNxnI1h282txsB4Oa0OLxfR3/oDYqZ3t0syWQFTVj/U0zDbacUhV7FfoxnjVDq5D1wAAAQ5BmqRJ4Q8mUwURPCv//jhAAIp6K7pA3CI22AXi30I1uzA5oAbjQgCuHbS4CDAQtQyIk71vqqRaWJQf0x90bGJl9k5KAcuSXZh5EtFFv/KBof0AsScqv170pbBfNbWC/ubPyOi26tlFMPaU8vwZ/k7U89Tvy56Z/sAUop/7tXWi5FRTGahlLFMX4W2WtM/9GHyI/P1a1sHH23OrCJ/d0iucWuv3kV+g+0wH3nlHIYhE/3CWhlm7WCDE63O5BjZw/n8z5S6WDcgeTGIyjtRfjSt5u2x5Z+z/egj9IR/UoqPFMN60RKypP4juxoH95ufzB6MI9mjDfQRBMRAXpkaAVXt06So04tpHdy9xX4dk+xYAAACHAZ7Dakf/ADEeQZI1x8Bs6PHdn0B5HK4keJM0AAW3wKC6qaF0rbBU+2d+eYeJmF+bJXG8GX/Y91P3ee2UMHn741tU1C3xeq+P8XviIoaaoVwE2TyvioS4ArSMklgYCGe8qT248tRfH6b2DxWPS7eraCAKoqAhsWzU5TZ6QL+yW35lF0U8ay0fAAAAzkGaxUnhDyZTAhf//oywACQ/Nca/k46A5o9mSAqNAPNjwAf4kIUUQ7/7QYkZHGS9DTauMWTDn3eWGsuSXg3bTtO+6qvaKWWLqTE51wfHUt+tGomUeCXmsqtqticcNQ/QqiX6DbW5K50dmUGFNbLR2FL+Sf5lcA2l4yqt4Wuj6YfFFfqTG1prdpr5P3Mh2RniVCjPvYYdbhRJJkWdTNqJBWsjz77n6P4HnU/Ln8d8yNiM5B6vXMbNCOXCUd41M9BW7IIFNP06F5FfEJoK/XPhAAABHEGa50nhDyZTBRE8L//+jLAADfa0+DVWQABGR5qoI/rYYhBRtsyw8U7KqlvpX4j1R8CfK1uI0kDrp9rOG92qHvUU3keW67AVeSkiruIKZQch0yjzsfXxRCLDfMhuVQuG+TVXdb106cVXl1PVFdgXoRBS+rPE7v8/TyUdjlIpQGl/atXNNeoBSqqCw0PPFc4yB54SzJH7E8+U9bWLZ0ZqxZ2Njt6wIUJ72MyHtcFFNKl96VzpbVLXPqHZeWT+5U4ODk3IgoykpW9R8BTEHQAaSwy1ZzHI/3vk2GKgGhYj+PGnmMVVBMKZxH457yxFdpqaafszjTv962aUmOK3kjUsLSGG+B8XV5XDLpj/bqUGPk56S13Ws/CT0suMX4OBAAAAgAGfBmpH/wAHEk0XRZkj/4CqN6mrfAAVGKGrdudFFD3CArLq7L/wieInpzsyW8+rJyetMSginN8IilTPFpU7em0yWNHd5mvcYQCuC9EXRtm6RqVJMu3CuPyY6A2SrCIkErBQ6dwgHHAgElWMYp+LT3r4QgOLDuycjw7U30SYouI/AAABEEGbCUnhDyZTBTwv//6MsAAN963gHWRJYjR5nDWn9c/JSASRjABziACJ944oT6/RbPx94EG5JMpLZPk/fzDa1pScJphGrStnDkplPTNH/VVn4YuwSUbo1t9KW5yYrtraSZw1hmI56e6nD9JZytvY0a0q/KoseIxe4uCV+6w2hO6t0fcD4gE5CBKTcmmfur+a9tTUNlg+LBC+pB+7+HPRanspno57QmKsDppeQsW3sSQFB3PkqaurxFSXTjr1xRhtKU8KE5wKhhGC6tn4rouO5zLFfK2YdAJ16JL+1VKwN0bDCtSCIao6+P4iI2oFfr8q222bZQZtsej0JiVeSvKpVexiwTzAJvMJzZa1or52h4OAAAAAswGfKGpH/wAHAR/Zh6ebugBxgqTj+4IOALcquzE2LZb2ZY84yT+r55V8xzSWn79n1U83bGIKb5wdyxojdZ+nMWNGHINkjnJRRhu8UrataZbPGomGouVZgRjnOFkFLPiuEl71QP0hEOS9G1JJWUTlKGh020/o6AW+857iS5yHBCmksmQzNG3abcwN2XRFIxDy36V7m3o2J83gLlfNdIUE3Nqcp7JzgCbiflu9O99SzQnd2DUgAAABV0GbLEnhDyZTAhX//jhAABUfa2Wtg5E0+3ubGMQmK6ABaoYSb+syReLHZuR354BYuQaKfsASBZYjWkgP6NpEH/21MErEEY573SdhTCuqMtAToNzOJV6rv4YbDd897+PBTeR7Hq3VCszKk3PVITA/Cvj+ulhyc/LYdwoMqeDCOJgejtZJntkCMOKPmYGJz5hIHsj+eFlAAABMzWBxSDA07zf4MNDrCY2aIwC/+9fIP6HeNB5kdOZXtXMv4s+dDTeXQS2q6of6aStMP0OPCWkFIVfpqjYeqx1y3RlCaUux620M8/617DyBCpEoDBacxbUfB/ukvQ+oD6paSwUDsaBL/SMLZRg9u7wW2mzWN47pUa1WEW0m4MdeMM2/tS3HIEQ/tFERKWMPX1b+5HwyHcczyOb0g47S7J+4fjHWrWhSEGJL1RVaCbwf3VIYYX2eeUaE0Runy7tw5f8AAADlQZ9KRRE8I/8A0QDgLVJ6R6iv5IArziQSEOJiG3Q8hd3Xm+wxzFsjW41F1KGplYEvgXAA7/6unrUU7x6BgxjFiD8YJ8kJQuF795LJ1205rZSN7z3FzKeIWxYP8JyZoGyvkXJaLmHMFRVT67JSKFOJBgKmx8ZqEGh8/GrjcINYaemf4QL24QrsCrTQW6QytoOLYzHoLZqdw6fYgk/xGOs04mXsVmi3ObXDCpFnanjHUEBZJ+0We2NbZe1Jur9Pe+/2FZ1Qq+Wm/j8zI2m0W05laRJPtQ6KqoFFrdBiShm9eylWVhwNCAAAAMABn2tqR/8BUM1C4mjgACNLPGVgcArL+2p+nD+J+mBltEn14Qwm+J5f/sRgf6elh4ozpr5eU1L5VtlIulKT4eLlJhhgs+AkQ07soJaJaoAAC0zYVsaSnvAIGBRnJXvKVZZOZLYyI1msF3snvugL0kAtX+JZq3J0PUtYozLHiZh7M0l/EUMOIF7oJjjzrrXnMialGcgPyPHYqsh0IfRvvKq36tF/X264lvBydwv4WXTGBdQgfmS4ooaNnJ/6ur34WUAAAAD6QZttSahBaJlMCF///oywAABMAn7DKoEANVBUF+0C5nQP0aEwY8+DRHy3QRgioB5fCdcjrr/7aap76IJKLsItV2WaA4W3g1Mej8/tvnXvbBsPWy7X9UITKQWrJ/1rq49KQIhiuZHo9wA+5soIzD7CXbLRg489dIPoipTCE99Q5TGNhToZDHfhGu2g8wgoMe051FDNIezAYVuUl1UGdLaHAyc2XgWjIqR9pPJ42gGak7QfKDFQjYv6ZtPX0ZrzvR/EnSh55r7qaq+reH0rJe0+BnC8nuj1/6e7ADBrurDOEURnSn+8Ut9g2jr4j30S3q40ebcaRsZI8bpOwQAAAZJBm5FJ4QpSZTAhP/3xAAADAtnsRG8smdspIEPCbQS24OjIdpACyStoPKtJ8e1u9SbFgSVGmOfP+01SYcDZ1urQ7IQZX1JLkuJnPxHi5Alc9AfGt9mzuegFtqGsKuBeNdD70bjF9oc3eCiqPHKFzp5J8qha14g49f6eeuEoY1PE6u1bQ5mLXnRMW074r7J2kOOShuK4PpuA8M9dOaAYo5YkwzlCv/VRPluKkYuACjCO5GRsBKNg76qw6pnv6s0RkpdWKx12+pM3AfmCddwexx+BR/+q47QVvBnTav2csU97Fls/yciIJ8snBu4FAeLMYHMdhKbcN8caSl3kTjS4J55ObgaTFdDnXwKz5RnUBKX7xi/59o6O1fSUKtFuwLrEORr+h3Oj0kn5sPhU7Or9d2uKfwU08Zeh83AORRrvzah4oypJEqkZ/lo5x6XbVyz1aODQmduMLtOWmg8TtUVsF3V4qg5qnwvimEZybXavkiHW48ucweUttdRNMLFY6UPizrwMF8Dr9ZTaBB+YzJYJdvcQY8MAAAEhQZ+vRTRMI/8A0181wRFYdisTCAK84fHopNkpEL2osXrgv4csE+97t3WNKPQgqKOXcQlm9IFp6JUYmkyRnV8UF6mF4TTO2f71vib2NmBZMg4PYQz6FPZC5ExzMa1wyjortmr0ioRDNDUxcTYPLK5+qLbfGTG3Iklpr698YxCe4P85wsFkDsCytNaUGDpAwQbVfJNxk3VKcLu5vwpDgNQbeI0IFrwiiKVMY0hwNGMEq8Hyl7gS98t5OwhaEY+Ue1tA20vqP3AsenXWMv5x9KCpaItL4JZn6WTlyFkEh9tZ9uF2a1hHI+Rnn0ONMR6poA9MP1jHGFDcsgs2mNURYtjqIQBHp/2gBf4CkgMynnzLh4QCnPQGMntaVYa8dMdwx2Ai4QAAAKoBn850R/8BUBb9kRPzGzGbUwxjAARkIkBsLJUB81VeWgwQ1aIGc7Uq89smFjVBoRWyORYhUqpr3TEm810++iUfQ/DWMzf1+leUszvT5uXl6u16Yut2EdLUcToXLnQOslwqce3ag8j3U9hqbdq8joCcnz5V2KHabFHdxgNF3lMi5XVDmXF15DuZbP7X53ce/4qIjOVN42CliJD+dXkqR4k0NI0yE8reFgUWUAAAANgBn9BqR/8BUM1ChWRkL/KApx8HBfACMVROsX5+8XKLCe7KckVvdqwfVIU9XKD80Y9/pq/681BbXDdjBuXpzp4WKcU1UT2Tr7rZPX2FNoRZmzN6H8NVZWUnVBfSKp18b3cUgHRyTcGdyTdk0zZBLGVA8XodZdDioNOd/RTWnutye8TSGnq+2EiFkIeP0I0zPqnn5kAJKuenQ+QFaX6VzAQPJIO74M63CiVoBYFgWMQ3EBGYyJ64InfrN7DDWvoIKLZCQjP6x+RlvTU1xapvssbhweKGKEH0vdAAAAFYQZvTSahBaJlMFPH//IQAAAMA8/oopdFUQSUf/QA4HoI4i02ngT8uMWPlc0YSwgCWx3hzh8UeFjPaVdJ8HD8fXZ7C12rMoIYX0VRGI8l+eWYas4Ug+8lW9xIa1eYD2gAAou/xY0IOkLDIlFzCTEm/aQtufJSa7er0mswHd/rYf9C9s32vD+AB9AZB0o7Gmt2DruEtZqXHfstjlZNLcNBtGGFPhGn2jzlMIAxsL9PQCsTfw7Ncw6qQohmDTdAtynn6Rd2rJzNkKmg52ozEA6Rz5W7xCN6JXKT3slwfmXgr6nAblmE9dzHvTktUdZFbkraWfTNWu1Vorpcx/0shRjhtiywKQ86MOqV6I8a4fAdJ5AJjWT+FTf+CBvkaiLgmJL237rtdNqAEg/cJZAK3EdrpFbLIKTU7bkP5QnhnsvOTPTWnK9TE3MyDC9HssFUBN7gVh6O2oJDs+58AAAEGAZ/yakf/AVEgf2CZI07g2C5esQE6AAcdfQe3Z9mi0zs8ZiCGuIeFWXbM0AQW16LGStw/+JoC38bJveF1ayp9ikvvPExHuTIWX4bilyFGZsOrqCHzOll+oG3CSzt+3jLtPkpCL7xpmiwNcoNG9TrIJgZVgsUuSqPTKc9hmvoHNbsDClQYxWr0alxrd0RHBW2DcqEy8bV6YqdX1NcdnyOTNnkxLUK2I/robPAEU/z5t2ZLBQnY39rk3ChKVsLDg6v9w2lpiUK6LhU5xqql5gEhztoVtqk/sRBXB4ialCvx+u6vmnYK1ojiki1e2FisD8q7TBffgcFGYj2PXvEP+3TZ1/vpeFwJOAAABVNtb292AAAAbG12aGQAAAAAAAAAAAAAAAAAAAPoAAAEEAABAAABAAAAAAAAAAAAAAAAAQAAAAAAAAAAAAAAAAAAAAEAAAAAAAAAAAAAAAAAAEAAAAAAAAAAAAAAAAAAAAAAAAAAAAAAAAAAAAAAAAACAAAEfXRyYWsAAABcdGtoZAAAAAMAAAAAAAAAAAAAAAEAAAAAAAAEEAAAAAAAAAAAAAAAAAAAAAAAAQAAAAAAAAAAAAAAAAAAAAEAAAAAAAAAAAAAAAAAAEAAAAACWAAAAZAAAAAAACRlZHRzAAAAHGVsc3QAAAAAAAAAAQAABBAAAAIAAAEAAAAAA/VtZGlhAAAAIG1kaGQAAAAAAAAAAAAAAAAAADIAAAA0AFXEAAAAAAAtaGRscgAAAAAAAAAAdmlkZQAAAAAAAAAAAAAAAFZpZGVvSGFuZGxlcgAAAAOgbWluZgAAABR2bWhkAAAAAQAAAAAAAAAAAAAAJGRpbmYAAAAcZHJlZgAAAAAAAAABAAAADHVybCAAAAABAAADYHN0YmwAAACYc3RzZAAAAAAAAAABAAAAiGF2YzEAAAAAAAAAAQAAAAAAAAAAAAAAAAAAAAACWAGQAEgAAABIAAAAAAAAAAEAAAAAAAAAAAAAAAAAAAAAAAAAAAAAAAAAAAAAAAAAAAAY//8AAAAyYXZjQwFkAB//4QAZZ2QAH6zZQJgz5eEAAAMAAQAAAwBkDxgxlgEABmjr48siwAAAABhzdHRzAAAAAAAAAAEAAAA0AAABAAAAABRzdHNzAAAAAAAAAAEAAAABAAABgGN0dHMAAAAAAAAALgAAAAEAAAIAAAAAAQAABQAAAAABAAACAAAAAAEAAAAAAAAAAQAAAQAAAAABAAAEAAAAAAIAAAEAAAAAAQAABQAAAAABAAACAAAAAAEAAAAAAAAAAQAAAQAAAAABAAAFAAAAAAEAAAIAAAAAAQAAAAAAAAABAAABAAAAAAEAAAQAAAAAAgAAAQAAAAABAAADAAAAAAEAAAEAAAAAAQAAAwAAAAABAAABAAAAAAEAAAMAAAAAAQAAAQAAAAABAAADAAAAAAEAAAEAAAAAAQAAAwAAAAABAAABAAAAAAEAAAMAAAAAAQAAAQAAAAAEAAACAAAAAAEAAAMAAAAAAQAAAQAAAAABAAACAAAAAAEAAAMAAAAAAQAAAQAAAAABAAADAAAAAAEAAAEAAAAAAQAABAAAAAACAAABAAAAAAEAAAIAAAAAAQAABQAAAAABAAACAAAAAAEAAAAAAAAAAQAAAQAAAAABAAADAAAAAAEAAAEAAAAAHHN0c2MAAAAAAAAAAQAAAAEAAAA0AAAAAQAAAORzdHN6AAAAAAAAAAAAAAA0AAAJQAAAAWIAAABpAAAAPwAAAEcAAAFDAAAAYQAAAGAAAAErAAAArwAAAIYAAACQAAABIQAAAKsAAACBAAAArgAAAToAAACnAAAAaQAAASMAAAClAAABNgAAAI8AAAEfAAAAoQAAAQYAAACmAAABKAAAAI4AAAEXAAAAhwAAAQ8AAAEGAAABAQAAAQQAAAESAAAAiwAAANIAAAEgAAAAhAAAARQAAAC3AAABWwAAAOkAAADEAAAA/gAAAZYAAAElAAAArgAAANwAAAFcAAABCgAAABRzdGNvAAAAAAAAAAEAAAAwAAAAYnVkdGEAAABabWV0YQAAAAAAAAAhaGRscgAAAAAAAAAAbWRpcmFwcGwAAAAAAAAAAAAAAAAtaWxzdAAAACWpdG9vAAAAHWRhdGEAAAABAAAAAExhdmY1Ny44My4xMDA=\" type=\"video/mp4\" />\n",
              "             </video>"
            ],
            "text/plain": [
              "<IPython.core.display.HTML object>"
            ]
          },
          "metadata": {},
          "output_type": "display_data"
        }
      ],
      "source": [
        "test_env = wrap_env(gym.make(\"LunarLander-v2\"))\n",
        "observation = test_env.reset()\n",
        "total_reward = 0\n",
        "while True:\n",
        "  test_env.render()\n",
        "  action, states = model.predict(observation, deterministic=True)\n",
        "  observation, reward, done, info = test_env.step(action)\n",
        "  total_reward += reward\n",
        "  if done:\n",
        "    break;\n",
        "\n",
        "# print(total_reward)\n",
        "test_env.close()\n",
        "show_video()"
      ]
    },
    {
      "cell_type": "markdown",
      "metadata": {
        "id": "TT7d0ZXROfG8"
      },
      "source": [
        "From the video above, we see that the lander has crashed! \n",
        "It is now the time for training! \n"
      ]
    },
    {
      "cell_type": "code",
      "execution_count": null,
      "metadata": {
        "colab": {
          "background_save": true,
          "base_uri": "https://localhost:8080/"
        },
        "id": "Yq8GMry5OfG9",
        "outputId": "fd03e37a-0e05-4154-cd1e-3badba783139"
      },
      "outputs": [
        {
          "name": "stdout",
          "output_type": "stream",
          "text": [
            "Eval num_timesteps=10000, episode_reward=-240.61 +/- 116.02\n",
            "Episode length: 89.80 +/- 11.34\n",
            "New best mean reward!\n",
            "Eval num_timesteps=20000, episode_reward=-97.39 +/- 88.29\n",
            "Episode length: 79.00 +/- 10.75\n",
            "New best mean reward!\n",
            "Eval num_timesteps=30000, episode_reward=-1416.38 +/- 168.17\n",
            "Episode length: 439.40 +/- 68.54\n",
            "Eval num_timesteps=40000, episode_reward=-37.60 +/- 122.00\n",
            "Episode length: 922.40 +/- 155.20\n",
            "New best mean reward!\n",
            "Eval num_timesteps=50000, episode_reward=-20.17 +/- 181.54\n",
            "Episode length: 509.00 +/- 290.80\n",
            "New best mean reward!\n",
            "Eval num_timesteps=60000, episode_reward=-93.59 +/- 25.69\n",
            "Episode length: 1000.00 +/- 0.00\n",
            "Eval num_timesteps=70000, episode_reward=228.86 +/- 93.68\n",
            "Episode length: 230.00 +/- 29.28\n",
            "New best mean reward!\n",
            "Eval num_timesteps=80000, episode_reward=154.90 +/- 55.78\n",
            "Episode length: 756.40 +/- 298.44\n",
            "Eval num_timesteps=90000, episode_reward=135.81 +/- 74.96\n",
            "Episode length: 454.20 +/- 281.17\n",
            "Eval num_timesteps=100000, episode_reward=66.30 +/- 126.27\n",
            "Episode length: 162.80 +/- 50.57\n"
          ]
        },
        {
          "data": {
            "text/plain": [
              "<stable_baselines3.dqn.dqn.DQN at 0x7f04136a4a10>"
            ]
          },
          "execution_count": null,
          "metadata": {},
          "output_type": "execute_result"
        }
      ],
      "source": [
        "model.learn(total_timesteps=100000, log_interval=10, callback=callback)\n",
        "# The performance of the training will be printed every 10 episodes. Change it to 1, if you wish to\n",
        "# view the performance at every training episode."
      ]
    },
    {
      "cell_type": "markdown",
      "metadata": {
        "id": "vy_vsGNlOfG9"
      },
      "source": [
        "The training takes time. We encourage you to analyze the output logs (set verbose to 1 to print the output logs). The main component of the logs that you should track is \"ep_rew_mean\" (mean of episode rewards). As the training proceeds, the value of \"ep_rew_mean\" should increase. The improvement need not be monotonic, but the trend should be upwards! \n",
        "\n",
        "Along with training, we are also periodically evaluating the performance of the current model during the training. This was reported in logs as follows:\n",
        "\n",
        "```\n",
        "Eval num_timesteps=100000, episode_reward=63.41 +/- 130.02\n",
        "Episode length: 259.80 +/- 47.47\n",
        "```"
      ]
    },
    {
      "cell_type": "markdown",
      "metadata": {
        "id": "s4Ve-2vMOfG-"
      },
      "source": [
        "Now, let us look at the visual performance of the lander. \n",
        "\n",
        "**Note:** The performance varies across different seeds and runs. This code is not optimized to be stable across all runs and seeds. We hope you will be able to find an optimal configuration! "
      ]
    },
    {
      "cell_type": "code",
      "execution_count": null,
      "metadata": {
        "colab": {
          "background_save": true
        },
        "id": "rZvlmpsyOfG-",
        "outputId": "3d7c8832-cb35-440e-a122-5dfd1940848c"
      },
      "outputs": [
        {
          "data": {
            "text/html": [
              "<video alt=\"test\" autoplay\n",
              "                loop controls style=\"height: 400px;\">\n",
              "                <source src=\"data:video/mp4;base64,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\" type=\"video/mp4\" />\n",
              "             </video>"
            ],
            "text/plain": [
              "<IPython.core.display.HTML object>"
            ]
          },
          "metadata": {},
          "output_type": "display_data"
        }
      ],
      "source": [
        "env = wrap_env(gym.make(\"LunarLander-v2\"))\n",
        "observation = env.reset()\n",
        "while True:\n",
        "  env.render()\n",
        "  action, _states = model.predict(observation, deterministic=True)\n",
        "  observation, reward, done, info = env.step(action)\n",
        "  if done:\n",
        "    break;\n",
        "\n",
        "env.close()\n",
        "show_video()"
      ]
    },
    {
      "cell_type": "code",
      "execution_count": null,
      "metadata": {
        "colab": {
          "background_save": true
        },
        "id": "bjSmVE9W9_iJ",
        "outputId": "b41b2e4f-0cee-47eb-ca2b-51df11f555f7"
      },
      "outputs": [
        {
          "name": "stderr",
          "output_type": "stream",
          "text": [
            "\u001b[32m[I 2022-07-18 09:34:11,453]\u001b[0m A new study created in RDB with name: lunarlander_optuna\u001b[0m\n",
            "\u001b[32m[I 2022-07-18 09:34:58,261]\u001b[0m Trial 0 finished with value: 479.69309517323364 and parameters: {'gamma': 0.9383365457909318, 'learning_rate': 0.852058428533282}. Best is trial 0 with value: 479.69309517323364.\u001b[0m\n"
          ]
        },
        {
          "name": "stdout",
          "output_type": "stream",
          "text": [
            "-479.69309517323364\n"
          ]
        },
        {
          "name": "stderr",
          "output_type": "stream",
          "text": [
            "\u001b[32m[I 2022-07-18 09:35:44,495]\u001b[0m Trial 1 finished with value: 479.69309517323364 and parameters: {'gamma': 0.9535914601527586, 'learning_rate': 0.025120216371436275}. Best is trial 0 with value: 479.69309517323364.\u001b[0m\n"
          ]
        },
        {
          "name": "stdout",
          "output_type": "stream",
          "text": [
            "-479.69309517323364\n"
          ]
        },
        {
          "name": "stderr",
          "output_type": "stream",
          "text": [
            "\u001b[32m[I 2022-07-18 09:36:30,602]\u001b[0m Trial 2 finished with value: 479.69309517323364 and parameters: {'gamma': 0.9795618939484704, 'learning_rate': 0.0020660370080383917}. Best is trial 0 with value: 479.69309517323364.\u001b[0m\n"
          ]
        },
        {
          "name": "stdout",
          "output_type": "stream",
          "text": [
            "-479.69309517323364\n"
          ]
        },
        {
          "name": "stderr",
          "output_type": "stream",
          "text": [
            "\u001b[32m[I 2022-07-18 09:37:16,198]\u001b[0m Trial 3 finished with value: 479.69309517323364 and parameters: {'gamma': 0.9888007497031437, 'learning_rate': 0.0001370099994629938}. Best is trial 0 with value: 479.69309517323364.\u001b[0m\n"
          ]
        },
        {
          "name": "stdout",
          "output_type": "stream",
          "text": [
            "-479.69309517323364\n"
          ]
        },
        {
          "name": "stderr",
          "output_type": "stream",
          "text": [
            "\u001b[32m[I 2022-07-18 09:38:01,281]\u001b[0m Trial 4 finished with value: 479.69309517323364 and parameters: {'gamma': 0.9082260721293047, 'learning_rate': 8.364853113171087e-05}. Best is trial 0 with value: 479.69309517323364.\u001b[0m\n"
          ]
        },
        {
          "name": "stdout",
          "output_type": "stream",
          "text": [
            "-479.69309517323364\n"
          ]
        },
        {
          "name": "stderr",
          "output_type": "stream",
          "text": [
            "\u001b[32m[I 2022-07-18 09:38:46,686]\u001b[0m Trial 5 finished with value: 479.69309517323364 and parameters: {'gamma': 0.9772106603830311, 'learning_rate': 0.10479690470714077}. Best is trial 0 with value: 479.69309517323364.\u001b[0m\n"
          ]
        },
        {
          "name": "stdout",
          "output_type": "stream",
          "text": [
            "-479.69309517323364\n"
          ]
        },
        {
          "name": "stderr",
          "output_type": "stream",
          "text": [
            "\u001b[32m[I 2022-07-18 09:39:31,975]\u001b[0m Trial 6 finished with value: 479.69309517323364 and parameters: {'gamma': 0.9877957728926211, 'learning_rate': 0.09526702974984297}. Best is trial 0 with value: 479.69309517323364.\u001b[0m\n"
          ]
        },
        {
          "name": "stdout",
          "output_type": "stream",
          "text": [
            "-479.69309517323364\n"
          ]
        },
        {
          "name": "stderr",
          "output_type": "stream",
          "text": [
            "\u001b[32m[I 2022-07-18 09:40:16,728]\u001b[0m Trial 7 finished with value: 479.69309517323364 and parameters: {'gamma': 0.9005028176930532, 'learning_rate': 0.00010281818148912251}. Best is trial 0 with value: 479.69309517323364.\u001b[0m\n"
          ]
        },
        {
          "name": "stdout",
          "output_type": "stream",
          "text": [
            "-479.69309517323364\n"
          ]
        },
        {
          "name": "stderr",
          "output_type": "stream",
          "text": [
            "\u001b[32m[I 2022-07-18 09:41:02,732]\u001b[0m Trial 8 finished with value: 479.69309517323364 and parameters: {'gamma': 0.9261170859420073, 'learning_rate': 0.0008291044104769964}. Best is trial 0 with value: 479.69309517323364.\u001b[0m\n"
          ]
        },
        {
          "name": "stdout",
          "output_type": "stream",
          "text": [
            "-479.69309517323364\n"
          ]
        },
        {
          "name": "stderr",
          "output_type": "stream",
          "text": [
            "\u001b[32m[I 2022-07-18 09:41:49,621]\u001b[0m Trial 9 finished with value: 479.69309517323364 and parameters: {'gamma': 0.951834660926945, 'learning_rate': 0.19920560062067041}. Best is trial 0 with value: 479.69309517323364.\u001b[0m\n"
          ]
        },
        {
          "name": "stdout",
          "output_type": "stream",
          "text": [
            "-479.69309517323364\n"
          ]
        }
      ],
      "source": [
        "import numpy as np\n",
        "from stable_baselines3.common.vec_env import SubprocVecEnv\n",
        "from stable_baselines3 import PPO\n",
        "#from stable_baselines3.common.policies import MlpLnLstmPolicy\n",
        "import optuna\n",
        "\n",
        "n_cpu = 1\n",
        "\n",
        "\n",
        "def optimize_ppo2(trial):\n",
        "    \"\"\" Learning hyperparamters we want to optimise\"\"\"\n",
        "    return {\n",
        "        #'n_steps': int(trial.suggest_loguniform('n_steps', 16, 2048)),\n",
        "        'gamma': trial.suggest_loguniform('gamma', 0.9, 0.9999),\n",
        "        'learning_rate': trial.suggest_loguniform('learning_rate', 1e-5, 1.),\n",
        "        # 'ent_coef': trial.suggest_loguniform('ent_coef', 1e-8, 1e-1),\n",
        "        # 'cliprange': trial.suggest_uniform('cliprange', 0.1, 0.4),\n",
        "        # 'noptepochs': int(trial.suggest_loguniform('noptepochs', 1, 48)),\n",
        "        # 'lam': trial.suggest_uniform('lam', 0.8, 1.)\n",
        "    }\n",
        "\n",
        "\n",
        "def optimize_agent(trial):\n",
        "    \"\"\" Train the model and optimise\n",
        "        Optuna maximises the negative log likelihood, so we\n",
        "        need to negate the reward here\n",
        "    \"\"\"\n",
        "    model_params = optimize_ppo2(trial)\n",
        "    env = SubprocVecEnv([lambda: gym.make('LunarLander-v2') for i in range(n_cpu)])\n",
        "    #env = gym.make('LunarLander-v2')\n",
        "    #You can also load other environments like cartpole, MountainCar, Acrobot. Refer to https://gym.openai.com/docs/ for descriptions.\n",
        "    #For example, if you would like to load Cartpole, just replace the above statement with \"env = gym.make('CartPole-v1')\".\n",
        "\n",
        "    #env = stable_baselines3.common.monitor.Monitor(env, log_dir )\n",
        "    #model = PPO2(MlpLnLstmPolicy, env, verbose=0, nminibatches=1, **model_params)\n",
        "\n",
        "    model = DQN(\"MlpPolicy\", env,policy_kwargs = policy_kwargs,\n",
        "            learning_rate=0.01,\n",
        "            batch_size=1,  #for simplicity, we are not doing batch update.\n",
        "            buffer_size=1, #size of experience of replay buffer. Set to 1 as batch update is not done\n",
        "            learning_starts=1, #learning starts immediately!\n",
        "            gamma=0.99, #discount facto. range is between 0 and 1.\n",
        "            tau = 1,  #the soft update coefficient for updating the target network\n",
        "            target_update_interval=1, #update the target network immediately.\n",
        "            train_freq=(1,\"step\"), #train the network at every step.\n",
        "            max_grad_norm = 10, #the maximum value for the gradient clipping\n",
        "            exploration_initial_eps = 0.9, #initial value of random action probability\n",
        "            exploration_fraction = 0.8, #fraction of entire training period over which the exploration rate is reduced\n",
        "            gradient_steps = 1, #number of gradient steps,\n",
        "            exploration_final_eps = 0.05,\n",
        "\n",
        "            # exploration_initial_eps = 1  # initial value of random action probability. Range is between 0 and 1.\n",
        "            # exploration_fraction = 0.5  # fraction of entire training period over which the exploration rate is reduced. Range is between 0 and 1.\n",
        "            # exploration_final_eps = 0.05  # (set by defualt) final value of random action probability. Range is between 0 and 1.   \n",
        "            seed = 1, #seed for the pseudo random generators\n",
        "            verbose=0) #Set verbose to 1 to observe training logs. We encourage you to set the verbose to 1.\n",
        "    model.learn(10000)\n",
        "\n",
        "\n",
        "\n",
        "    rewards = []\n",
        "    n_episodes, reward_sum = 0, 0.0\n",
        "\n",
        "    obs = env.reset()\n",
        "    while n_episodes < 4:\n",
        "        action, _ = model.predict(obs)\n",
        "        obs, reward, done, _ = env.step(action)\n",
        "        reward_sum += reward\n",
        "\n",
        "        if done:\n",
        "            rewards.append(reward_sum)\n",
        "            reward_sum = 0.0\n",
        "            n_episodes += 1\n",
        "            obs = env.reset()\n",
        "\n",
        "    last_reward = np.mean(rewards)\n",
        "    print(last_reward)\n",
        "    trial.report(-1 * last_reward, n_episodes)\n",
        "    \n",
        "\n",
        "    return -1 * last_reward\n",
        "\n",
        "\n",
        "if __name__ == '__main__':\n",
        "    study = optuna.create_study(study_name='lunarlander_optuna', storage='sqlite:///params.db', load_if_exists=True)\n",
        "    study.optimize(optimize_agent, n_trials=10)"
      ]
    },
    {
      "cell_type": "markdown",
      "metadata": {
        "id": "5bE2YMQnOfG_"
      },
      "source": [
        "The lander has landed safely!!\n",
        "\n",
        "Let us analyze its performance (speed and stability). For this purpose, we plot the number of time steps on the X-axis and the episodic reward given by the trained model on the Y-axis. "
      ]
    },
    {
      "cell_type": "code",
      "execution_count": null,
      "metadata": {
        "colab": {
          "background_save": true
        },
        "id": "VFZKhIhkOfG_",
        "outputId": "0669d5d6-6e15-48e0-eea2-50174cab0ee1"
      },
      "outputs": [
        {
          "data": {
            "text/plain": [
              "Text(0, 0.5, 'Episode Rewards')"
            ]
          },
          "execution_count": null,
          "metadata": {},
          "output_type": "execute_result"
        },
        {
          "data": {
            "image/png": "[encoded data removed]",
            "text/plain": [
              "<Figure size 432x288 with 1 Axes>"
            ]
          },
          "metadata": {},
          "output_type": "display_data"
        }
      ],
      "source": [
        "x, y = ts2xy(load_results(log_dir), 'timesteps')  # Organising the logged results in to a clean format for plotting.\n",
        "plt.plot(x,y)\n",
        "plt.ylim([-300, 300])\n",
        "plt.xlabel('Timesteps')\n",
        "plt.ylabel('Episode Rewards')"
      ]
    },
    {
      "cell_type": "markdown",
      "metadata": {
        "id": "x3tuuhCBOfHA"
      },
      "source": [
        "From the above plot, we observe that, although the maximum reward is achieved quickly. Achieving an episodic reward of > 200 is good. We see that the agent has achieved it in less than 50000 timesteps (speed is good!). However, there are a lot of fluctuations in the performance (stability is not good!). \n",
        "\n",
        "Your objective now is to modify the model parameters (nn_layers, learning_rate in the code cell #2 above), run all the cells following it and investigate the stability and speed of the chosen configuration.   \n"
      ]
    },
    {
      "cell_type": "markdown",
      "metadata": {
        "id": "KSjG687kOfHA"
      },
      "source": [
        "---\n",
        "# Additional Project Ideas"
      ]
    },
    {
      "cell_type": "markdown",
      "metadata": {
        "id": "jCAcNexkOfHB"
      },
      "source": [
        "## 1 Play with exploration-exploitation trade-off\n",
        "\n",
        "Exploration (selecting random actions) and exploitation (selecting greedy action) is a crucial component of the DQN algorithm. Explore random actions for a long time will slow down the training process. At the same time, if all actions are not explored enough, it might lead to a sub-optimal performance. In the DQN code above, we have used the following parameters:"
      ]
    },
    {
      "cell_type": "code",
      "execution_count": null,
      "metadata": {
        "colab": {
          "background_save": true
        },
        "id": "tZOTzZ48OfHB"
      },
      "outputs": [],
      "source": [
        "exploration_initial_eps = 1  # initial value of random action probability. Range is between 0 and 1.\n",
        "exploration_fraction = 0.5  # fraction of entire training period over which the exploration rate is reduced. Range is between 0 and 1.\n",
        "exploration_final_eps = 0.05  # (set by defualt) final value of random action probability. Range is between 0 and 1."
      ]
    },
    {
      "cell_type": "markdown",
      "metadata": {
        "id": "XoLzQpNPOfHB"
      },
      "source": [
        "Your objective is to play around with these parameters and analyze their performance (speed and stability). You can modify these parameters and set them as arguments in DQN(...,exploration_initial_eps = 1, exploration_fraction = 0.5, exploration_final_eps = 0.05,...). "
      ]
    },
    {
      "cell_type": "markdown",
      "metadata": {
        "id": "usXVfXETOfHB"
      },
      "source": [
        "## 2 Reward Shaping\n",
        "\n",
        "Your objective here is to construct a modified reward function that improves the performance of the Lunar Lander. To this end, you would have to create your own custom environment. An example of a custom environment is given below:"
      ]
    },
    {
      "cell_type": "code",
      "execution_count": null,
      "metadata": {
        "colab": {
          "background_save": true
        },
        "id": "fxZlB2ovOfHC"
      },
      "outputs": [],
      "source": [
        "# Taken from https://stable-baselines3.readthedocs.io/en/master/guide/custom_env.html\n",
        "class CustomEnv(gym.Env):\n",
        "  \"\"\"Custom Environment that follows gym interface\"\"\"\n",
        "  metadata = {'render.modes': ['human']}\n",
        "\n",
        "  def __init__(self, arg1, arg2):\n",
        "    super(CustomEnv, self).__init__()\n",
        "    # Define action and observation space\n",
        "    # They must be gym.spaces objects\n",
        "    # Example when using discrete actions:\n",
        "    self.action_space = spaces.Discrete(N_DISCRETE_ACTIONS)\n",
        "    # Example for using image as input (channel-first; channel-last also works):\n",
        "    self.observation_space = spaces.Box(low=0, high=255,\n",
        "                                        shape=(N_CHANNELS, HEIGHT, WIDTH), dtype=np.uint8)\n",
        "\n",
        "  def step(self, action):\n",
        "    ...\n",
        "    return observation, reward, done, info\n",
        "  def reset(self):\n",
        "    ...\n",
        "    return observation  # reward, done, info can't be included\n",
        "  def render(self, mode='human'):\n",
        "    ...\n",
        "  def close (self):\n",
        "    ..."
      ]
    },
    {
      "cell_type": "markdown",
      "metadata": {
        "id": "VokTkDmAOfHC"
      },
      "source": [
        "As you are only changing the reward structure, you can inherit the original Lunar Lander environment from https://github.com/openai/gym/blob/master/gym/envs/box2d/lunar_lander.py and modify just the \"step\" function. Focus on modifying the following part of the code in the \"step\" function\n"
      ]
    },
    {
      "cell_type": "code",
      "execution_count": null,
      "metadata": {
        "colab": {
          "background_save": true
        },
        "id": "dI2JettvOfHC"
      },
      "outputs": [],
      "source": [
        "def step(self, actions):\n",
        "  ...\n",
        "  ...\n",
        "  ...\n",
        "  reward = 0\n",
        "  shaping = (\n",
        "      -100 * np.sqrt(state[0] * state[0] + state[1] * state[1])\n",
        "      - 100 * np.sqrt(state[2] * state[2] + state[3] * state[3])\n",
        "      - 100 * abs(state[4])\n",
        "      + 10 * state[6]\n",
        "      + 10 * state[7]\n",
        "  )  # And ten points for legs contact, the idea is if you\n",
        "  # lose contact again after landing, you get negative reward\n",
        "  if self.prev_shaping is not None:\n",
        "      reward = shaping - self.prev_shaping\n",
        "  self.prev_shaping = shaping\n",
        "\n",
        "  reward -= (\n",
        "      m_power * 0.30\n",
        "  )  # less fuel spent is better, about -30 for heuristic landing. You should modify these values.\n",
        "  reward -= s_power * 0.03\n",
        "\n",
        "  done = False\n",
        "  if self.game_over or abs(state[0]) >= 1.0:\n",
        "      done = True\n",
        "      reward = -100\n",
        "  if not self.lander.awake:\n",
        "      done = True\n",
        "      reward = +100\n",
        "  return np.array(state, dtype=np.float32), reward, done, {}"
      ]
    },
    {
      "cell_type": "markdown",
      "metadata": {
        "id": "S0ijKBFYOfHD"
      },
      "source": [
        "Once you have cutomized your own environment, you can execute that environment by just calling:"
      ]
    },
    {
      "cell_type": "code",
      "execution_count": null,
      "metadata": {
        "colab": {
          "background_save": true
        },
        "id": "kBlRzCicOfHD"
      },
      "outputs": [],
      "source": [
        "#Enter the name of the custome environment you created and uncomment the line below.\n",
        "#env = Custom_LunarLander()\n",
        "# Refer to https://stable-baselines3.readthedocs.io/en/master/guide/custom_env.html, if you would like to create more complex environments."
      ]
    },
    {
      "cell_type": "markdown",
      "metadata": {
        "id": "FdEm9DTmOfHD"
      },
      "source": [
        "## 3 Identify the state information crucial to its performance.\n",
        "\n",
        "Your objective here is to alter the input state information and analyze the performance. The input state of the Lunar Lander consists of following components:\n",
        "\n",
        "  1. Horizontal Position\n",
        "  2. Vertical Position\n",
        "  3. Horizontal Velocity\n",
        "  4. Vertical Velocity\n",
        "  5. Angle\n",
        "  6. Angular Velocity\n",
        "  7. Left Leg Contact\n",
        "  8. Right Leg Contact\n",
        "\n",
        "You can train the algorithm by masking one of the eight components at a time and understand how that affects the performance of the algorithm. Similar to the reward shaping task, you would have to create a custom environment and modify the state space. Again, you can inherit all the necessary functions and modify the following portion of the \"Step\" function:"
      ]
    },
    {
      "cell_type": "code",
      "execution_count": null,
      "metadata": {
        "colab": {
          "background_save": true
        },
        "id": "aK8VR-xcOfHE"
      },
      "outputs": [],
      "source": [
        "def step(self, actions):\n",
        "  ...\n",
        "  ...\n",
        "  ...\n",
        "  state = [ # Remove one component at a time to investigate the effect on performance!\n",
        "            (pos.x - VIEWPORT_W / SCALE / 2) / (VIEWPORT_W / SCALE / 2),\n",
        "            (pos.y - (self.helipad_y + LEG_DOWN / SCALE)) / (VIEWPORT_H / SCALE / 2),\n",
        "            vel.x * (VIEWPORT_W / SCALE / 2) / FPS,\n",
        "            vel.y * (VIEWPORT_H / SCALE / 2) / FPS,\n",
        "            self.lander.angle,\n",
        "            20.0 * self.lander.angularVelocity / FPS,\n",
        "            1.0 if self.legs[0].ground_contact else 0.0,\n",
        "            1.0 if self.legs[1].ground_contact else 0.0,\n",
        "        ]"
      ]
    },
    {
      "cell_type": "markdown",
      "metadata": {
        "id": "VAAgrsCSOfHE"
      },
      "source": [
        "## 4 Extension to Atari Games\n",
        "\n",
        "In the Lunar Lander task, the input to the algorithm is a vector of state information. Deep RL algorithms can also be applied when the input to the training is image frames, which is the case in the Atari games. For example, consider an Atari game - Pong. In this environment, the observation is an RGB image of the screen, which is an array of shape (210, 160, 3). To train the Pong game, you can start with the following sample code:"
      ]
    },
    {
      "cell_type": "code",
      "execution_count": null,
      "metadata": {
        "colab": {
          "background_save": true
        },
        "id": "EHycJYiPOfHE"
      },
      "outputs": [],
      "source": [
        "## Taken from: https://colab.research.google.com/github/Stable-Baselines-Team/rl-colab-notebooks/blob/sb3/atari_games.ipynb#scrollTo=f3K4rMXwimBO\n",
        "env = make_atari_env('PongNoFrameskip-v4', n_envs=4, seed=0)\n",
        "\n",
        "##Atari Games take a lot of memory. Following commands crash on Coalb. Run the following code on Colab Pro or your local Jupyter notebook!\n",
        "# env = VecFrameStack(env, n_stack=4)\n",
        "# model = DQN('CnnPolicy', env, verbose=1)  # Note the difference here! We use 'CnnPolicy\" here instead of 'MlpPolicy' as the input is frames.\n",
        "# model.learn(total_timesteps=1) #change the number of timesteps as desired and run this command!"
      ]
    },
    {
      "cell_type": "markdown",
      "metadata": {
        "id": "TA2Ah1nTOfHF"
      },
      "source": [
        "## 5 Obstacle Avoidance and Transfer Learning\n",
        "\n",
        "Your obstacle here is to add an obstacle in the path of the lunar lander (by creating a custom environment as described in point 2 above) and train the model such that the lander lands safely, avoiding collisions. \n",
        "\n",
        "You would first want to devise a mechansim for adding obstacles. For example, you could have an imaginary obstacle at some horizantal and vertical position cooridnates and modify the reward function such that a penalty is levied if the lander comes close to it. \n",
        "\n",
        "An interesting approach to solve this problem is to apply the techniques of transfer learning. For example, you could initialise the neural network model with the weights of the trained model on the original problem to improve the sample effeciency. This can be done using the following code:"
      ]
    },
    {
      "cell_type": "code",
      "execution_count": null,
      "metadata": {
        "colab": {
          "background_save": true
        },
        "id": "_EA51MIIOfHF"
      },
      "outputs": [],
      "source": [
        "## Specify the load path and uncomment below:\n",
        "\n",
        "# model = load(load_path,\n",
        "#              env=gym.make('LunarLander-v2'),\n",
        "#              custom_objects=None, **kwargs)"
      ]
    },
    {
      "cell_type": "markdown",
      "metadata": {
        "id": "9oeocd2gOfHF"
      },
      "source": [
        "Following are some of the resources on transfer learning that you would want to start with. \n",
        "\n",
        "**Research Papers**\n",
        "\n",
        "Surveys:\n",
        "1. (Long, Old, Highly cited) Taylor, M. E.,  et al. (2009). Transfer learning for reinforcement learning domains. https://www.jmlr.org/papers/volume10/taylor09a/taylor09a.pdf\n",
        "\n",
        "2. (Medium, Old, Good for a quick read) Lazaric, A. (2012). Transfer in reinforcement learning: a framework and a survey. https://hal.inria.fr/docs/00/77/26/26/PDF/transfer.pdf\n",
        "\n",
        "3. (Medium, Recent, Good for a quick read) Zhu, Z., Lin, K., & Zhou, J. (2020). Transfer learning in deep reinforcement learning. https://arxiv.org/pdf/2009.07888.pdf\n",
        "\n",
        "4. Specific example:\n",
        "Barreto, A., et al. (2016).  Successor features for transfer in reinforcement learning. https://arxiv.org/pdf/1606.05312"
      ]
    },
    {
      "cell_type": "markdown",
      "metadata": {
        "id": "41XG3cjJOfHF"
      },
      "source": [
        "## 5(b) Transfer Learning in minigrid environment\n",
        "\n",
        "These are some simple gridworld gym environments designed to be particularly simple, lightweight and fast. Refer to https://github.com/maximecb/gym-minigrid for description of the environments. An example to load a minigrid environment is given below:"
      ]
    },
    {
      "cell_type": "code",
      "execution_count": null,
      "metadata": {
        "colab": {
          "background_save": true
        },
        "id": "Tzl1C4FaOfHG"
      },
      "outputs": [],
      "source": [
        "!pip install gym-minigrid > /dev/null\n",
        "import gym_minigrid\n",
        "env = gym.make('MiniGrid-Empty-5x5-v0')"
      ]
    },
    {
      "cell_type": "markdown",
      "metadata": {
        "id": "povRnxeOOfHG"
      },
      "source": [
        "You can train a standard DQN agent in this env by wrapping the env with full image observation wrappers:\n"
      ]
    },
    {
      "cell_type": "code",
      "execution_count": null,
      "metadata": {
        "colab": {
          "background_save": true
        },
        "id": "pfLoC_4bOfHG"
      },
      "outputs": [],
      "source": [
        "env = gym_minigrid.wrappers.ImgObsWrapper(gym_minigrid.wrappers.RGBImgObsWrapper(env))"
      ]
    },
    {
      "cell_type": "markdown",
      "metadata": {
        "id": "O0VfESUVOfHH"
      },
      "source": [
        "Note that with full image observations, the shape of the image observations may differ between envs. For e.g., MiniGrid-Empty-5x5-v0 is (40,40,3) while MiniGrid-Empty-8x8-v0 is (64,64,3). So you may need to resize the observations for transfer learning to work with the same DQN architecture.\n",
        "\n",
        "Now try training a DQN (or another method) in one (or multiple) minigrid env(s),and see if that knowledge transfers to another (or multiple other) minigrid env(s).\n"
      ]
    },
    {
      "cell_type": "markdown",
      "metadata": {
        "id": "ziIzwS3nOfHH"
      },
      "source": [
        "## 6 Preference-Based RL (PBRL)\n",
        "\n",
        "PBRL is an exciting sub-area in RL where the traditional reward structure is replaced with human preferences. This setting is very useful in applications where it is difficult to construct a reward function. \n",
        "\n",
        "In the earlier section, we have successfully trained the lunar lander to land safely. Here, the path that the lander follows to land safely can be arbitrary. In this project, using the techniques of PBRL, you will solve the lunar lander problem with an additional requirement that the lander should follow a specially curated path (for example, a straight line path). Following are some of the resources that will help you to get started with this project. \n",
        "\n",
        "**Research papers:**\n",
        "1. Deep Reinforcement Learning\n",
        "from Human Preferences https://papers.nips.cc/paper/2017/file/d5e2c0adad503c91f91df240d0cd4e49-Paper.pdf\n",
        "2. Deep Q-learning from Demonstrations https://arxiv.org/pdf/1704.03732.pdf\n",
        "3. Reward learning from human preferences https://arxiv.org/pdf/1811.06521.pdf\n",
        "4. T-REX https://arxiv.org/pdf/1904.06387.pdf\n",
        "\n",
        "**Code Bases:**\n",
        "1. https://github.com/nottombrown/rl-teacher\n",
        "2. https://github.com/hiwonjoon/ICML2019-TREX\n"
      ]
    },
    {
      "cell_type": "markdown",
      "metadata": {
        "id": "G_bZ080gOfHH"
      },
      "source": [
        "---\n",
        "# References\n",
        "\n",
        "1. Stable Baselines Framework: https://stable-baselines3.readthedocs.io/en/master/guide/examples.html\n",
        "\n",
        "2. Lunar Lander Environment: https://gym.openai.com/envs/LunarLander-v2/\n",
        "\n",
        "3. OpenAI gym environments: https://gym.openai.com/docs/\n",
        "\n",
        "4. A good reference for introduction to RL: http://incompleteideas.net/book/the-book-2nd.html\n"
      ]
    }
  ],
  "metadata": {
    "colab": {
      "collapsed_sections": [],
      "name": "lunar_lander_v214072022",
      "provenance": [],
      "toc_visible": true,
      "include_colab_link": true
    },
    "kernel": {
      "display_name": "Python 3",
      "language": "python",
      "name": "python3"
    },
    "kernelspec": {
      "display_name": "Python 3",
      "name": "python3"
    },
    "language_info": {
      "name": "python"
    }
  },
  "nbformat": 4,
  "nbformat_minor": 0
}