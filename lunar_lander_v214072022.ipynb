{
  "cells": [
    {
      "cell_type": "markdown",
      "metadata": {
        "id": "view-in-github",
        "colab_type": "text"
      },
      "source": [
        "<a href=\"https://colab.research.google.com/github/carlacodes/atchekegroup1lunarlanding/blob/main/lunar_lander_v214072022.ipynb\" target=\"_parent\"><img src=\"https://colab.research.google.com/assets/colab-badge.svg\" alt=\"Open In Colab\"/></a>"
      ]
    },
    {
      "cell_type": "markdown",
      "metadata": {
        "execution": {},
        "id": "I5_T96D-OfGn"
      },
      "source": [
        "# Performance Analysis of DQN Algorithm on the Lunar Lander task\n",
        "\n",
        "**By Neuromatch Academy**\n",
        "\n",
        "__Content creators:__ Raghuram Bharadwaj Diddigi, Geraud Nangue Tasse, Yamil Vidal, Sanjukta Krishnagopal, Sara Rajaee\n",
        "\n",
        "__Content editors:__ Spiros Chavlis"
      ]
    },
    {
      "cell_type": "markdown",
      "metadata": {
        "execution": {},
        "id": "AhT3tyqqOfGt"
      },
      "source": [
        "<p align='center'><img src='https://github.com/NeuromatchAcademy/widgets/blob/master/sponsors.png?raw=True'/></p>"
      ]
    },
    {
      "cell_type": "markdown",
      "metadata": {
        "execution": {},
        "id": "voER2fRPOfGu"
      },
      "source": [
        "---\n",
        "# Objective\n",
        "\n",
        "In this project, the objective is to analyze the performance of the Deep Q-Learning algorithm on an exciting task- Lunar Lander. Before we describe the task, let us focus on two keywords here - analysis and performance. What exactly do we mean by these keywords in the context of Reinforcement Learning (RL)?"
      ]
    },
    {
      "cell_type": "markdown",
      "metadata": {
        "execution": {},
        "id": "jIZ62JlXOfGv"
      },
      "source": [
        "---\n",
        "# Setup"
      ]
    },
    {
      "cell_type": "code",
      "execution_count": null,
      "metadata": {
        "execution": {},
        "id": "1q497HwDOfGw",
        "colab": {
          "base_uri": "https://localhost:8080/"
        },
        "outputId": "4f3378bb-8109-42df-c1bb-ca11ed9ee637"
      },
      "outputs": [
        {
          "output_type": "stream",
          "name": "stdout",
          "text": [
            "\u001b[K     |████████████████████████████████| 177 kB 14.5 MB/s \n",
            "\u001b[K     |████████████████████████████████| 1.6 MB 50.8 MB/s \n",
            "\u001b[K     |████████████████████████████████| 1.5 MB 52.1 MB/s \n",
            "\u001b[K     |████████████████████████████████| 1.1 MB 66.6 MB/s \n",
            "\u001b[?25h  Installing build dependencies ... \u001b[?25l\u001b[?25hdone\n",
            "  Getting requirements to build wheel ... \u001b[?25l\u001b[?25hdone\n",
            "    Preparing wheel metadata ... \u001b[?25l\u001b[?25hdone\n",
            "  Building wheel for gym (setup.py) ... \u001b[?25l\u001b[?25hdone\n",
            "  Building wheel for AutoROM.accept-rom-license (PEP 517) ... \u001b[?25l\u001b[?25hdone\n",
            "\u001b[K     |████████████████████████████████| 448 kB 14.5 MB/s \n",
            "\u001b[?25hLooking in indexes: https://pypi.org/simple, https://us-python.pkg.dev/colab-wheels/public/simple/\n",
            "Collecting optuna\n",
            "  Downloading optuna-2.10.1-py3-none-any.whl (308 kB)\n",
            "\u001b[K     |████████████████████████████████| 308 kB 13.9 MB/s \n",
            "\u001b[?25hRequirement already satisfied: numpy in /usr/local/lib/python3.7/dist-packages (from optuna) (1.21.6)\n",
            "Collecting cmaes>=0.8.2\n",
            "  Downloading cmaes-0.8.2-py3-none-any.whl (15 kB)\n",
            "Requirement already satisfied: PyYAML in /usr/local/lib/python3.7/dist-packages (from optuna) (3.13)\n",
            "Requirement already satisfied: packaging>=20.0 in /usr/local/lib/python3.7/dist-packages (from optuna) (21.3)\n",
            "Collecting colorlog\n",
            "  Downloading colorlog-6.6.0-py2.py3-none-any.whl (11 kB)\n",
            "Collecting alembic\n",
            "  Downloading alembic-1.8.1-py3-none-any.whl (209 kB)\n",
            "\u001b[K     |████████████████████████████████| 209 kB 65.2 MB/s \n",
            "\u001b[?25hRequirement already satisfied: tqdm in /usr/local/lib/python3.7/dist-packages (from optuna) (4.64.0)\n",
            "Requirement already satisfied: sqlalchemy>=1.1.0 in /usr/local/lib/python3.7/dist-packages (from optuna) (1.4.39)\n",
            "Collecting cliff\n",
            "  Downloading cliff-3.10.1-py3-none-any.whl (81 kB)\n",
            "\u001b[K     |████████████████████████████████| 81 kB 9.6 MB/s \n",
            "\u001b[?25hRequirement already satisfied: scipy!=1.4.0 in /usr/local/lib/python3.7/dist-packages (from optuna) (1.7.3)\n",
            "Requirement already satisfied: pyparsing!=3.0.5,>=2.0.2 in /usr/local/lib/python3.7/dist-packages (from packaging>=20.0->optuna) (3.0.9)\n",
            "Requirement already satisfied: greenlet!=0.4.17 in /usr/local/lib/python3.7/dist-packages (from sqlalchemy>=1.1.0->optuna) (1.1.2)\n",
            "Requirement already satisfied: importlib-metadata in /usr/local/lib/python3.7/dist-packages (from sqlalchemy>=1.1.0->optuna) (4.12.0)\n",
            "Requirement already satisfied: importlib-resources in /usr/local/lib/python3.7/dist-packages (from alembic->optuna) (5.8.0)\n",
            "Collecting Mako\n",
            "  Downloading Mako-1.2.1-py3-none-any.whl (78 kB)\n",
            "\u001b[K     |████████████████████████████████| 78 kB 7.1 MB/s \n",
            "\u001b[?25hCollecting pbr!=2.1.0,>=2.0.0\n",
            "  Downloading pbr-5.9.0-py2.py3-none-any.whl (112 kB)\n",
            "\u001b[K     |████████████████████████████████| 112 kB 56.5 MB/s \n",
            "\u001b[?25hCollecting stevedore>=2.0.1\n",
            "  Downloading stevedore-3.5.0-py3-none-any.whl (49 kB)\n",
            "\u001b[K     |████████████████████████████████| 49 kB 5.6 MB/s \n",
            "\u001b[?25hCollecting autopage>=0.4.0\n",
            "  Downloading autopage-0.5.1-py3-none-any.whl (29 kB)\n",
            "Collecting cmd2>=1.0.0\n",
            "  Downloading cmd2-2.4.2-py3-none-any.whl (147 kB)\n",
            "\u001b[K     |████████████████████████████████| 147 kB 58.5 MB/s \n",
            "\u001b[?25hRequirement already satisfied: PrettyTable>=0.7.2 in /usr/local/lib/python3.7/dist-packages (from cliff->optuna) (3.3.0)\n",
            "Requirement already satisfied: wcwidth>=0.1.7 in /usr/local/lib/python3.7/dist-packages (from cmd2>=1.0.0->cliff->optuna) (0.2.5)\n",
            "Collecting pyperclip>=1.6\n",
            "  Downloading pyperclip-1.8.2.tar.gz (20 kB)\n",
            "Requirement already satisfied: attrs>=16.3.0 in /usr/local/lib/python3.7/dist-packages (from cmd2>=1.0.0->cliff->optuna) (21.4.0)\n",
            "Requirement already satisfied: typing-extensions in /usr/local/lib/python3.7/dist-packages (from cmd2>=1.0.0->cliff->optuna) (4.1.1)\n",
            "Requirement already satisfied: zipp>=0.5 in /usr/local/lib/python3.7/dist-packages (from importlib-metadata->sqlalchemy>=1.1.0->optuna) (3.8.0)\n",
            "Requirement already satisfied: MarkupSafe>=0.9.2 in /usr/local/lib/python3.7/dist-packages (from Mako->alembic->optuna) (2.0.1)\n",
            "Building wheels for collected packages: pyperclip\n",
            "  Building wheel for pyperclip (setup.py) ... \u001b[?25l\u001b[?25hdone\n",
            "  Created wheel for pyperclip: filename=pyperclip-1.8.2-py3-none-any.whl size=11137 sha256=79b24c7d10d8ff090206b670e4d4dd43a7a930ee0b6b3656c254ca4c3a717109\n",
            "  Stored in directory: /root/.cache/pip/wheels/9f/18/84/8f69f8b08169c7bae2dde6bd7daf0c19fca8c8e500ee620a28\n",
            "Successfully built pyperclip\n",
            "Installing collected packages: pyperclip, pbr, stevedore, Mako, cmd2, autopage, colorlog, cmaes, cliff, alembic, optuna\n",
            "Successfully installed Mako-1.2.1 alembic-1.8.1 autopage-0.5.1 cliff-3.10.1 cmaes-0.8.2 cmd2-2.4.2 colorlog-6.6.0 optuna-2.10.1 pbr-5.9.0 pyperclip-1.8.2 stevedore-3.5.0\n"
          ]
        }
      ],
      "source": [
        "# @title Install dependencies\n",
        "!sudo apt-get update > /dev/null 2>&1\n",
        "!sudo apt-get install -y xvfb python-opengl ffmpeg > /dev/null 2>&1\n",
        "!pip install rarfile --quiet\n",
        "!pip install stable-baselines3[extra] ale-py==0.7.4 --quiet\n",
        "!pip install box2d-py --quiet\n",
        "!pip install optuna\n",
        "!pip install gym pyvirtualdisplay --quiet"
      ]
    },
    {
      "cell_type": "code",
      "execution_count": null,
      "metadata": {
        "execution": {},
        "id": "DdyQhVSjOfGz"
      },
      "outputs": [],
      "source": [
        "# Imports\n",
        "import io\n",
        "import os\n",
        "import glob\n",
        "import torch\n",
        "import base64\n",
        "import stable_baselines3 \n",
        "import optuna\n",
        "\n",
        "import numpy as np\n",
        "import matplotlib.pyplot as plt\n",
        "\n",
        "from stable_baselines3 import DQN\n",
        "from stable_baselines3.common.results_plotter import ts2xy, load_results\n",
        "from stable_baselines3.common.callbacks import EvalCallback\n",
        "from stable_baselines3.common.env_util import make_atari_env\n",
        "\n",
        "import gym\n",
        "from gym import spaces\n",
        "from gym.wrappers import Monitor"
      ]
    },
    {
      "cell_type": "code",
      "execution_count": null,
      "metadata": {
        "cellView": "form",
        "execution": {},
        "id": "zBYe2SHjOfG0"
      },
      "outputs": [],
      "source": [
        "# @title Plotting/Video functions\n",
        "from IPython.display import HTML\n",
        "from pyvirtualdisplay import Display\n",
        "from IPython import display as ipythondisplay\n",
        "\n",
        "display = Display(visible=0, size=(1400, 900))\n",
        "display.start()\n",
        "\n",
        "\"\"\"\n",
        "Utility functions to enable video recording of gym environment\n",
        "and displaying it.\n",
        "To enable video, just do \"env = wrap_env(env)\"\"\n",
        "\"\"\"\n",
        "\n",
        "def show_video():\n",
        "  mp4list = glob.glob('video/*.mp4')\n",
        "  if len(mp4list) > 0:\n",
        "    mp4 = mp4list[0]\n",
        "    video = io.open(mp4, 'r+b').read()\n",
        "    encoded = base64.b64encode(video)\n",
        "    ipythondisplay.display(HTML(data='''<video alt=\"test\" autoplay\n",
        "                loop controls style=\"height: 400px;\">\n",
        "                <source src=\"data:video/mp4;base64,{0}\" type=\"video/mp4\" />\n",
        "             </video>'''.format(encoded.decode('ascii'))))\n",
        "  else:\n",
        "    print(\"Could not find video\")\n",
        "\n",
        "\n",
        "def wrap_env(env):\n",
        "  env = Monitor(env, './video', force=True)\n",
        "  return env"
      ]
    },
    {
      "cell_type": "markdown",
      "metadata": {
        "execution": {},
        "id": "eW3y6RKzOfG2"
      },
      "source": [
        "---\n",
        "# Introduction\n",
        "\n",
        "In a standard RL setting, an agent learns optimal behavior from an environment through a feedback mechanism to maximize a given objective. Many algorithms have been proposed in the RL literature that an agent can apply to learn the optimal behavior. One such popular algorithm is the Deep Q-Network (DQN). This algorithm makes use of deep neural networks to compute optimal actions. In this project, your goal is to understand the effect of the number of neural network layers on the algorithm's performance. The performance of the algorithm can be evaluated through two metrics - Speed and Stability. \n",
        "\n",
        "**Speed:** How fast the algorithm reaches the maximum possible reward. \n",
        "\n",
        "**Stability** In some applications (especially when online learning is involved), along with speed, stability of the algorithm, i.e., minimal fluctuations in performance, is equally important. \n",
        "\n",
        "In this project, you should investigate the following question:\n",
        "\n",
        "**What is the impact of number of neural network layers on speed and stability of the algorithm?**\n",
        "\n",
        "You do not have to write the DQN code from scratch. We have provided a basic implementation of the DQN algorithm. You only have to tune the hyperparameters (neural network size, learning rate, etc), observe the performance, and analyze. More details on this are provided below. \n",
        "\n",
        "Now, let us discuss the RL task we have chosen, i.e., Lunar Lander. This task consists of the lander and a landing pad marked by two flags. The episode starts with the lander moving downwards due to gravity. The objective is to land safely using different engines available on the lander with zero speed on the landing pad as quickly and fuel efficient as possible. Reward for moving from the top of the screen and landing on landing pad with zero speed is between 100 to 140 points. Each leg ground contact yields a reward of 10 points. Firing main engine leads to a reward of -0.3 points in each frame. Firing the side engine leads to a reward of -0.03 points in each frame. An additional reward of -100 or +100 points is received if the lander crashes or comes to rest respectively which also leads to end of the episode. \n",
        "\n",
        "The input state of the Lunar Lander consists of following components:\n",
        "\n",
        "  1. Horizontal Position\n",
        "  2. Vertical Position\n",
        "  3. Horizontal Velocity\n",
        "  4. Vertical Velocity\n",
        "  5. Angle\n",
        "  6. Angular Velocity\n",
        "  7. Left Leg Contact\n",
        "  8. Right Leg Contact\n",
        "\n",
        "The actions of the agents are:\n",
        "  1. Do Nothing\n",
        "  2. Fire Main Engine\n",
        "  3. Fire Left Engine\n",
        "  4. Fire Right Engine\n",
        "\n",
        "\n",
        "<img src=\"https://raw.githubusercontent.com/NeuromatchAcademy/course-content-dl/main/projects/static/lunar_lander.png\">"
      ]
    },
    {
      "cell_type": "markdown",
      "metadata": {
        "execution": {},
        "id": "vUODZ-Y1OfG3"
      },
      "source": [
        "---\n",
        "# Basic DQN Implementation\n",
        "\n",
        "We will now implement the DQN algorithm using the existing code base. We encourage you to understand this example and re-use it in an application/project of your choice! "
      ]
    },
    {
      "cell_type": "markdown",
      "metadata": {
        "execution": {},
        "id": "8FKtLX1NOfG4"
      },
      "source": [
        "Now, let us set some hyperparameters for our algorithm. This is the only part you would play around with, to solve the first part of the project. "
      ]
    },
    {
      "cell_type": "code",
      "execution_count": null,
      "metadata": {
        "execution": {},
        "id": "Z7WsP3VUOfG5"
      },
      "outputs": [],
      "source": [
        "nn_layers = [64,64] #This is the configuration of your neural network. Currently, we have two layers, each consisting of 64 neurons.\n",
        "                    #If you want three layers with 64 neurons each, set the value to [64,64,64] and so on.\n",
        "\n",
        "learning_rate = 0.001 #This is the step-size with which the gradient descent is carried out.\n",
        "                      #Tip: Use smaller step-sizes for larger networks."
      ]
    },
    {
      "cell_type": "markdown",
      "metadata": {
        "execution": {},
        "id": "CwcXEdVkOfG6"
      },
      "source": [
        "Now, let us setup our model and the DQN algorithm. "
      ]
    },
    {
      "cell_type": "code",
      "execution_count": null,
      "metadata": {
        "execution": {},
        "id": "dKjLBaPGOfG6"
      },
      "outputs": [],
      "source": [
        "log_dir = \"/tmp/gym/\"\n",
        "os.makedirs(log_dir, exist_ok=True)\n",
        "\n",
        "# Create environment\n",
        "env = gym.make('LunarLander-v2')\n",
        "#You can also load other environments like cartpole, MountainCar, Acrobot. Refer to https://gym.openai.com/docs/ for descriptions.\n",
        "#For example, if you would like to load Cartpole, just replace the above statement with \"env = gym.make('CartPole-v1')\".\n",
        "\n",
        "env = stable_baselines3.common.monitor.Monitor(env, log_dir )\n",
        "\n",
        "callback = EvalCallback(env,log_path = log_dir, deterministic=True) #For evaluating the performance of the agent periodically and logging the results.\n",
        "policy_kwargs = dict(activation_fn=torch.nn.ReLU,\n",
        "                     net_arch=nn_layers)\n",
        "model = DQN(\"MlpPolicy\", env,policy_kwargs = policy_kwargs,\n",
        "            learning_rate=learning_rate,\n",
        "            batch_size=1,  #for simplicity, we are not doing batch update.\n",
        "            buffer_size=1, #size of experience of replay buffer. Set to 1 as batch update is not done\n",
        "            learning_starts=1, #learning starts immediately!\n",
        "            gamma=0.99, #discount facto. range is between 0 and 1.\n",
        "            tau = 1,  #the soft update coefficient for updating the target network\n",
        "            target_update_interval=1, #update the target network immediately.\n",
        "            train_freq=(1,\"step\"), #train the network at every step.\n",
        "            max_grad_norm = 10, #the maximum value for the gradient clipping\n",
        "            exploration_initial_eps = 0.9, #initial value of random action probability\n",
        "            exploration_fraction = 0.8, #fraction of entire training period over which the exploration rate is reduced\n",
        "            gradient_steps = 1, #number of gradient steps,\n",
        "             exploration_final_eps = 0.05,\n",
        "\n",
        "            # exploration_initial_eps = 1  # initial value of random action probability. Range is between 0 and 1.\n",
        "            # exploration_fraction = 0.5  # fraction of entire training period over which the exploration rate is reduced. Range is between 0 and 1.\n",
        "            # exploration_final_eps = 0.05  # (set by defualt) final value of random action probability. Range is between 0 and 1.   \n",
        "            seed = 1, #seed for the pseudo random generators\n",
        "            verbose=0) #Set verbose to 1 to observe training logs. We encourage you to set the verbose to 1.\n",
        "\n",
        "# You can also experiment with other RL algorithms like A2C, PPO, DDPG etc. Refer to  https://stable-baselines3.readthedocs.io/en/master/guide/examples.html\n",
        "#for documentation. For example, if you would like to run DDPG, just replace \"DQN\" above with \"DDPG\"."
      ]
    },
    {
      "cell_type": "markdown",
      "metadata": {
        "execution": {},
        "id": "KCjQ0HfCOfG7"
      },
      "source": [
        "Before we train the model, let us look at an instance of Lunar Lander **before training**.  \n",
        "\n",
        "**Note:** The following code for rendering the video is taken from https://colab.research.google.com/github/jeffheaton/t81_558_deep_learning/blob/master/t81_558_class_12_01_ai_gym.ipynb#scrollTo=T9RpF49oOsZj"
      ]
    },
    {
      "cell_type": "code",
      "execution_count": null,
      "metadata": {
        "execution": {},
        "id": "kVnkKrMHOfG8",
        "colab": {
          "base_uri": "https://localhost:8080/",
          "height": 422
        },
        "outputId": "7fd65135-3a49-4fe0-9057-502ed6029937"
      },
      "outputs": [
        {
          "output_type": "display_data",
          "data": {
            "text/plain": [
              "<IPython.core.display.HTML object>"
            ],
            "text/html": [
              "<video alt=\"test\" autoplay\n",
              "                loop controls style=\"height: 400px;\">\n",
              "                <source src=\"data:video/mp4;base64,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\" type=\"video/mp4\" />\n",
              "             </video>"
            ]
          },
          "metadata": {}
        }
      ],
      "source": [
        "test_env = wrap_env(gym.make(\"LunarLander-v2\"))\n",
        "observation = test_env.reset()\n",
        "total_reward = 0\n",
        "while True:\n",
        "  test_env.render()\n",
        "  action, states = model.predict(observation, deterministic=True)\n",
        "  observation, reward, done, info = test_env.step(action)\n",
        "  total_reward += reward\n",
        "  if done:\n",
        "    break;\n",
        "\n",
        "# print(total_reward)\n",
        "test_env.close()\n",
        "show_video()"
      ]
    },
    {
      "cell_type": "markdown",
      "metadata": {
        "execution": {},
        "id": "TT7d0ZXROfG8"
      },
      "source": [
        "From the video above, we see that the lander has crashed! \n",
        "It is now the time for training! \n"
      ]
    },
    {
      "cell_type": "code",
      "execution_count": null,
      "metadata": {
        "execution": {},
        "id": "Yq8GMry5OfG9",
        "colab": {
          "base_uri": "https://localhost:8080/"
        },
        "outputId": "0276334a-afcf-4848-813a-08b19a3c3bcd"
      },
      "outputs": [
        {
          "output_type": "stream",
          "name": "stdout",
          "text": [
            "Eval num_timesteps=10000, episode_reward=-240.61 +/- 116.02\n",
            "Episode length: 89.80 +/- 11.34\n",
            "New best mean reward!\n",
            "Eval num_timesteps=20000, episode_reward=-97.39 +/- 88.29\n",
            "Episode length: 79.00 +/- 10.75\n",
            "New best mean reward!\n",
            "Eval num_timesteps=30000, episode_reward=-1416.38 +/- 168.17\n",
            "Episode length: 439.40 +/- 68.54\n",
            "Eval num_timesteps=40000, episode_reward=-37.60 +/- 122.00\n",
            "Episode length: 922.40 +/- 155.20\n",
            "New best mean reward!\n",
            "Eval num_timesteps=50000, episode_reward=-20.17 +/- 181.54\n",
            "Episode length: 509.00 +/- 290.80\n",
            "New best mean reward!\n",
            "Eval num_timesteps=60000, episode_reward=-93.59 +/- 25.69\n",
            "Episode length: 1000.00 +/- 0.00\n",
            "Eval num_timesteps=70000, episode_reward=228.86 +/- 93.68\n",
            "Episode length: 230.00 +/- 29.28\n",
            "New best mean reward!\n",
            "Eval num_timesteps=80000, episode_reward=154.90 +/- 55.78\n",
            "Episode length: 756.40 +/- 298.44\n",
            "Eval num_timesteps=90000, episode_reward=135.81 +/- 74.96\n",
            "Episode length: 454.20 +/- 281.17\n",
            "Eval num_timesteps=100000, episode_reward=66.30 +/- 126.27\n",
            "Episode length: 162.80 +/- 50.57\n"
          ]
        },
        {
          "output_type": "execute_result",
          "data": {
            "text/plain": [
              "<stable_baselines3.dqn.dqn.DQN at 0x7f3d811ab490>"
            ]
          },
          "metadata": {},
          "execution_count": 14
        }
      ],
      "source": [
        "model.learn(total_timesteps=100000, log_interval=10, callback=callback)\n",
        "# The performance of the training will be printed every 10 episodes. Change it to 1, if you wish to\n",
        "# view the performance at every training episode."
      ]
    },
    {
      "cell_type": "markdown",
      "metadata": {
        "execution": {},
        "id": "vy_vsGNlOfG9"
      },
      "source": [
        "The training takes time. We encourage you to analyze the output logs (set verbose to 1 to print the output logs). The main component of the logs that you should track is \"ep_rew_mean\" (mean of episode rewards). As the training proceeds, the value of \"ep_rew_mean\" should increase. The improvement need not be monotonic, but the trend should be upwards! \n",
        "\n",
        "Along with training, we are also periodically evaluating the performance of the current model during the training. This was reported in logs as follows:\n",
        "\n",
        "```\n",
        "Eval num_timesteps=100000, episode_reward=63.41 +/- 130.02\n",
        "Episode length: 259.80 +/- 47.47\n",
        "```"
      ]
    },
    {
      "cell_type": "markdown",
      "metadata": {
        "execution": {},
        "id": "s4Ve-2vMOfG-"
      },
      "source": [
        "Now, let us look at the visual performance of the lander. \n",
        "\n",
        "**Note:** The performance varies across different seeds and runs. This code is not optimized to be stable across all runs and seeds. We hope you will be able to find an optimal configuration! "
      ]
    },
    {
      "cell_type": "code",
      "execution_count": null,
      "metadata": {
        "execution": {},
        "id": "rZvlmpsyOfG-",
        "colab": {
          "base_uri": "https://localhost:8080/",
          "height": 422
        },
        "outputId": "fd47b4a2-c9bd-4602-d3a0-4b43e0ba4057"
      },
      "outputs": [
        {
          "output_type": "display_data",
          "data": {
            "text/plain": [
              "<IPython.core.display.HTML object>"
            ],
            "text/html": [
              "<video alt=\"test\" autoplay\n",
              "                loop controls style=\"height: 400px;\">\n",
              "                <source src=\"data:video/mp4;base64,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\" type=\"video/mp4\" />\n",
              "             </video>"
            ]
          },
          "metadata": {}
        }
      ],
      "source": [
        "env = wrap_env(gym.make(\"LunarLander-v2\"))\n",
        "observation = env.reset()\n",
        "while True:\n",
        "  env.render()\n",
        "  action, _states = model.predict(observation, deterministic=True)\n",
        "  observation, reward, done, info = env.step(action)\n",
        "  if done:\n",
        "    break;\n",
        "\n",
        "env.close()\n",
        "show_video()"
      ]
    },
    {
      "cell_type": "code",
      "source": [
        "import numpy as np\n",
        "from stable_baselines3.common.vec_env import SubprocVecEnv\n",
        "from stable_baselines3 import PPO\n",
        "#from stable_baselines3.common.policies import MlpLnLstmPolicy\n",
        "import optuna\n",
        "\n",
        "n_cpu = 1\n",
        "\n",
        "\n",
        "def optimize_ppo2(trial):\n",
        "    \"\"\" Learning hyperparamters we want to optimise\"\"\"\n",
        "    return {\n",
        "        #'n_steps': int(trial.suggest_loguniform('n_steps', 16, 2048)),\n",
        "        'gamma': trial.suggest_loguniform('gamma', 0.9, 0.9999),\n",
        "        'learning_rate': trial.suggest_loguniform('learning_rate', 1e-5, 1.),\n",
        "        # 'ent_coef': trial.suggest_loguniform('ent_coef', 1e-8, 1e-1),\n",
        "        # 'cliprange': trial.suggest_uniform('cliprange', 0.1, 0.4),\n",
        "        # 'noptepochs': int(trial.suggest_loguniform('noptepochs', 1, 48)),\n",
        "        # 'lam': trial.suggest_uniform('lam', 0.8, 1.)\n",
        "    }\n",
        "\n",
        "\n",
        "def optimize_agent(trial):\n",
        "    \"\"\" Train the model and optimise\n",
        "        Optuna maximises the negative log likelihood, so we\n",
        "        need to negate the reward here\n",
        "    \"\"\"\n",
        "    model_params = optimize_ppo2(trial)\n",
        "    env = SubprocVecEnv([lambda: gym.make('LunarLander-v2') for i in range(n_cpu)])\n",
        "    #env = gym.make('LunarLander-v2')\n",
        "    #You can also load other environments like cartpole, MountainCar, Acrobot. Refer to https://gym.openai.com/docs/ for descriptions.\n",
        "    #For example, if you would like to load Cartpole, just replace the above statement with \"env = gym.make('CartPole-v1')\".\n",
        "\n",
        "    #env = stable_baselines3.common.monitor.Monitor(env, log_dir )\n",
        "    #model = PPO2(MlpLnLstmPolicy, env, verbose=0, nminibatches=1, **model_params)\n",
        "\n",
        "    model = DQN(\"MlpPolicy\", env,policy_kwargs = policy_kwargs,\n",
        "            learning_rate=0.01,\n",
        "            batch_size=1,  #for simplicity, we are not doing batch update.\n",
        "            buffer_size=1, #size of experience of replay buffer. Set to 1 as batch update is not done\n",
        "            learning_starts=1, #learning starts immediately!\n",
        "            gamma=0.99, #discount facto. range is between 0 and 1.\n",
        "            tau = 1,  #the soft update coefficient for updating the target network\n",
        "            target_update_interval=1, #update the target network immediately.\n",
        "            train_freq=(1,\"step\"), #train the network at every step.\n",
        "            max_grad_norm = 10, #the maximum value for the gradient clipping\n",
        "            exploration_initial_eps = 0.9, #initial value of random action probability\n",
        "            exploration_fraction = 0.8, #fraction of entire training period over which the exploration rate is reduced\n",
        "            gradient_steps = 1, #number of gradient steps,\n",
        "            exploration_final_eps = 0.05,\n",
        "\n",
        "            # exploration_initial_eps = 1  # initial value of random action probability. Range is between 0 and 1.\n",
        "            # exploration_fraction = 0.5  # fraction of entire training period over which the exploration rate is reduced. Range is between 0 and 1.\n",
        "            # exploration_final_eps = 0.05  # (set by defualt) final value of random action probability. Range is between 0 and 1.   \n",
        "            seed = 1, #seed for the pseudo random generators\n",
        "            verbose=0) #Set verbose to 1 to observe training logs. We encourage you to set the verbose to 1.\n",
        "    model.learn(10000)\n",
        "\n",
        "\n",
        "\n",
        "    rewards = []\n",
        "    n_episodes, reward_sum = 0, 0.0\n",
        "\n",
        "    obs = env.reset()\n",
        "    while n_episodes < 4:\n",
        "        action, _ = model.predict(obs)\n",
        "        obs, reward, done, _ = env.step(action)\n",
        "        reward_sum += reward\n",
        "\n",
        "        if done:\n",
        "            rewards.append(reward_sum)\n",
        "            reward_sum = 0.0\n",
        "            n_episodes += 1\n",
        "            obs = env.reset()\n",
        "\n",
        "    last_reward = np.mean(rewards)\n",
        "    print(last_reward)\n",
        "    trial.report(-1 * last_reward, n_episodes)\n",
        "    \n",
        "\n",
        "    return -1 * last_reward\n",
        "\n",
        "\n",
        "if __name__ == '__main__':\n",
        "    study = optuna.create_study(study_name='lunarlander_optuna', storage='sqlite:///params.db', load_if_exists=True)\n",
        "    study.optimize(optimize_agent, n_trials=10)"
      ],
      "metadata": {
        "colab": {
          "base_uri": "https://localhost:8080/"
        },
        "id": "bjSmVE9W9_iJ",
        "outputId": "0d816a43-e5ef-42a8-871a-06d7ce34acb4"
      },
      "execution_count": null,
      "outputs": [
        {
          "output_type": "stream",
          "name": "stderr",
          "text": [
            "\u001b[32m[I 2022-07-15 09:11:22,748]\u001b[0m Using an existing study with name 'lunarlander_optuna' instead of creating a new one.\u001b[0m\n",
            "\u001b[32m[I 2022-07-15 09:12:17,328]\u001b[0m Trial 15 finished with value: 479.69309517323364 and parameters: {'gamma': 0.9745497513161044, 'learning_rate': 0.0010826392740635625}. Best is trial 6 with value: 479.69309517323364.\u001b[0m\n"
          ]
        },
        {
          "output_type": "stream",
          "name": "stdout",
          "text": [
            "-479.69309517323364\n"
          ]
        },
        {
          "output_type": "stream",
          "name": "stderr",
          "text": [
            "\u001b[32m[I 2022-07-15 09:13:10,677]\u001b[0m Trial 16 finished with value: 479.69309517323364 and parameters: {'gamma': 0.9809184206762795, 'learning_rate': 0.00023970280763958445}. Best is trial 6 with value: 479.69309517323364.\u001b[0m\n"
          ]
        },
        {
          "output_type": "stream",
          "name": "stdout",
          "text": [
            "-479.69309517323364\n"
          ]
        },
        {
          "output_type": "stream",
          "name": "stderr",
          "text": [
            "\u001b[32m[I 2022-07-15 09:14:03,950]\u001b[0m Trial 17 finished with value: 479.69309517323364 and parameters: {'gamma': 0.910454896014864, 'learning_rate': 0.00023274586636525324}. Best is trial 6 with value: 479.69309517323364.\u001b[0m\n"
          ]
        },
        {
          "output_type": "stream",
          "name": "stdout",
          "text": [
            "-479.69309517323364\n"
          ]
        },
        {
          "output_type": "stream",
          "name": "stderr",
          "text": [
            "\u001b[32m[I 2022-07-15 09:14:58,397]\u001b[0m Trial 18 finished with value: 479.69309517323364 and parameters: {'gamma': 0.977151257233024, 'learning_rate': 1.5928296674047173e-05}. Best is trial 6 with value: 479.69309517323364.\u001b[0m\n"
          ]
        },
        {
          "output_type": "stream",
          "name": "stdout",
          "text": [
            "-479.69309517323364\n"
          ]
        },
        {
          "output_type": "stream",
          "name": "stderr",
          "text": [
            "\u001b[32m[I 2022-07-15 09:15:51,355]\u001b[0m Trial 19 finished with value: 479.69309517323364 and parameters: {'gamma': 0.9432291624214955, 'learning_rate': 0.036727391325385085}. Best is trial 6 with value: 479.69309517323364.\u001b[0m\n"
          ]
        },
        {
          "output_type": "stream",
          "name": "stdout",
          "text": [
            "-479.69309517323364\n"
          ]
        },
        {
          "output_type": "stream",
          "name": "stderr",
          "text": [
            "\u001b[32m[I 2022-07-15 09:16:43,917]\u001b[0m Trial 20 finished with value: 479.69309517323364 and parameters: {'gamma': 0.9388696220265946, 'learning_rate': 0.015284103011429377}. Best is trial 6 with value: 479.69309517323364.\u001b[0m\n"
          ]
        },
        {
          "output_type": "stream",
          "name": "stdout",
          "text": [
            "-479.69309517323364\n"
          ]
        },
        {
          "output_type": "stream",
          "name": "stderr",
          "text": [
            "\u001b[32m[I 2022-07-15 09:17:37,867]\u001b[0m Trial 21 finished with value: 479.69309517323364 and parameters: {'gamma': 0.9293768284368752, 'learning_rate': 3.590459533902173e-05}. Best is trial 6 with value: 479.69309517323364.\u001b[0m\n"
          ]
        },
        {
          "output_type": "stream",
          "name": "stdout",
          "text": [
            "-479.69309517323364\n"
          ]
        },
        {
          "output_type": "stream",
          "name": "stderr",
          "text": [
            "\u001b[32m[I 2022-07-15 09:18:32,305]\u001b[0m Trial 22 finished with value: 479.69309517323364 and parameters: {'gamma': 0.9567107446040966, 'learning_rate': 0.010814409194910647}. Best is trial 6 with value: 479.69309517323364.\u001b[0m\n"
          ]
        },
        {
          "output_type": "stream",
          "name": "stdout",
          "text": [
            "-479.69309517323364\n"
          ]
        },
        {
          "output_type": "stream",
          "name": "stderr",
          "text": [
            "\u001b[32m[I 2022-07-15 09:19:28,379]\u001b[0m Trial 23 finished with value: 479.69309517323364 and parameters: {'gamma': 0.9240485834521479, 'learning_rate': 0.00015524295958729847}. Best is trial 6 with value: 479.69309517323364.\u001b[0m\n"
          ]
        },
        {
          "output_type": "stream",
          "name": "stdout",
          "text": [
            "-479.69309517323364\n"
          ]
        },
        {
          "output_type": "stream",
          "name": "stderr",
          "text": [
            "\u001b[32m[I 2022-07-15 09:20:23,977]\u001b[0m Trial 24 finished with value: 479.69309517323364 and parameters: {'gamma': 0.9559845280966356, 'learning_rate': 0.005237900818415105}. Best is trial 6 with value: 479.69309517323364.\u001b[0m\n"
          ]
        },
        {
          "output_type": "stream",
          "name": "stdout",
          "text": [
            "-479.69309517323364\n"
          ]
        }
      ]
    },
    {
      "cell_type": "markdown",
      "metadata": {
        "execution": {},
        "id": "5bE2YMQnOfG_"
      },
      "source": [
        "The lander has landed safely!!\n",
        "\n",
        "Let us analyze its performance (speed and stability). For this purpose, we plot the number of time steps on the X-axis and the episodic reward given by the trained model on the Y-axis. "
      ]
    },
    {
      "cell_type": "code",
      "execution_count": null,
      "metadata": {
        "execution": {},
        "id": "VFZKhIhkOfG_",
        "colab": {
          "base_uri": "https://localhost:8080/",
          "height": 300
        },
        "outputId": "9f860f6b-6b11-485d-8364-caf10f8111a0"
      },
      "outputs": [
        {
          "output_type": "execute_result",
          "data": {
            "text/plain": [
              "Text(0, 0.5, 'Episode Rewards')"
            ]
          },
          "metadata": {},
          "execution_count": 13
        },
        {
          "output_type": "display_data",
          "data": {
            "text/plain": [
              "<Figure size 432x288 with 1 Axes>"
            ],
            "image/png": "[encoded data removed]"
          },
          "metadata": {
            "needs_background": "light"
          }
        }
      ],
      "source": [
        "x, y = ts2xy(load_results(log_dir), 'timesteps')  # Organising the logged results in to a clean format for plotting.\n",
        "plt.plot(x,y)\n",
        "plt.ylim([-300, 300])\n",
        "plt.xlabel('Timesteps')\n",
        "plt.ylabel('Episode Rewards')"
      ]
    },
    {
      "cell_type": "markdown",
      "metadata": {
        "execution": {},
        "id": "x3tuuhCBOfHA"
      },
      "source": [
        "From the above plot, we observe that, although the maximum reward is achieved quickly. Achieving an episodic reward of > 200 is good. We see that the agent has achieved it in less than 50000 timesteps (speed is good!). However, there are a lot of fluctuations in the performance (stability is not good!). \n",
        "\n",
        "Your objective now is to modify the model parameters (nn_layers, learning_rate in the code cell #2 above), run all the cells following it and investigate the stability and speed of the chosen configuration.   \n"
      ]
    },
    {
      "cell_type": "markdown",
      "metadata": {
        "execution": {},
        "id": "KSjG687kOfHA"
      },
      "source": [
        "---\n",
        "# Additional Project Ideas"
      ]
    },
    {
      "cell_type": "markdown",
      "metadata": {
        "execution": {},
        "id": "jCAcNexkOfHB"
      },
      "source": [
        "## 1 Play with exploration-exploitation trade-off\n",
        "\n",
        "Exploration (selecting random actions) and exploitation (selecting greedy action) is a crucial component of the DQN algorithm. Explore random actions for a long time will slow down the training process. At the same time, if all actions are not explored enough, it might lead to a sub-optimal performance. In the DQN code above, we have used the following parameters:"
      ]
    },
    {
      "cell_type": "code",
      "execution_count": null,
      "metadata": {
        "execution": {},
        "id": "tZOTzZ48OfHB"
      },
      "outputs": [],
      "source": [
        "exploration_initial_eps = 1  # initial value of random action probability. Range is between 0 and 1.\n",
        "exploration_fraction = 0.5  # fraction of entire training period over which the exploration rate is reduced. Range is between 0 and 1.\n",
        "exploration_final_eps = 0.05  # (set by defualt) final value of random action probability. Range is between 0 and 1."
      ]
    },
    {
      "cell_type": "markdown",
      "metadata": {
        "execution": {},
        "id": "XoLzQpNPOfHB"
      },
      "source": [
        "Your objective is to play around with these parameters and analyze their performance (speed and stability). You can modify these parameters and set them as arguments in DQN(...,exploration_initial_eps = 1, exploration_fraction = 0.5, exploration_final_eps = 0.05,...). "
      ]
    },
    {
      "cell_type": "markdown",
      "metadata": {
        "execution": {},
        "id": "usXVfXETOfHB"
      },
      "source": [
        "## 2 Reward Shaping\n",
        "\n",
        "Your objective here is to construct a modified reward function that improves the performance of the Lunar Lander. To this end, you would have to create your own custom environment. An example of a custom environment is given below:"
      ]
    },
    {
      "cell_type": "code",
      "execution_count": null,
      "metadata": {
        "execution": {},
        "id": "fxZlB2ovOfHC"
      },
      "outputs": [],
      "source": [
        "# Taken from https://stable-baselines3.readthedocs.io/en/master/guide/custom_env.html\n",
        "class CustomEnv(gym.Env):\n",
        "  \"\"\"Custom Environment that follows gym interface\"\"\"\n",
        "  metadata = {'render.modes': ['human']}\n",
        "\n",
        "  def __init__(self, arg1, arg2):\n",
        "    super(CustomEnv, self).__init__()\n",
        "    # Define action and observation space\n",
        "    # They must be gym.spaces objects\n",
        "    # Example when using discrete actions:\n",
        "    self.action_space = spaces.Discrete(N_DISCRETE_ACTIONS)\n",
        "    # Example for using image as input (channel-first; channel-last also works):\n",
        "    self.observation_space = spaces.Box(low=0, high=255,\n",
        "                                        shape=(N_CHANNELS, HEIGHT, WIDTH), dtype=np.uint8)\n",
        "\n",
        "  def step(self, action):\n",
        "    ...\n",
        "    return observation, reward, done, info\n",
        "  def reset(self):\n",
        "    ...\n",
        "    return observation  # reward, done, info can't be included\n",
        "  def render(self, mode='human'):\n",
        "    ...\n",
        "  def close (self):\n",
        "    ..."
      ]
    },
    {
      "cell_type": "markdown",
      "metadata": {
        "execution": {},
        "id": "VokTkDmAOfHC"
      },
      "source": [
        "As you are only changing the reward structure, you can inherit the original Lunar Lander environment from https://github.com/openai/gym/blob/master/gym/envs/box2d/lunar_lander.py and modify just the \"step\" function. Focus on modifying the following part of the code in the \"step\" function\n"
      ]
    },
    {
      "cell_type": "code",
      "execution_count": null,
      "metadata": {
        "execution": {},
        "id": "dI2JettvOfHC"
      },
      "outputs": [],
      "source": [
        "def step(self, actions):\n",
        "  ...\n",
        "  ...\n",
        "  ...\n",
        "  reward = 0\n",
        "  shaping = (\n",
        "      -100 * np.sqrt(state[0] * state[0] + state[1] * state[1])\n",
        "      - 100 * np.sqrt(state[2] * state[2] + state[3] * state[3])\n",
        "      - 100 * abs(state[4])\n",
        "      + 10 * state[6]\n",
        "      + 10 * state[7]\n",
        "  )  # And ten points for legs contact, the idea is if you\n",
        "  # lose contact again after landing, you get negative reward\n",
        "  if self.prev_shaping is not None:\n",
        "      reward = shaping - self.prev_shaping\n",
        "  self.prev_shaping = shaping\n",
        "\n",
        "  reward -= (\n",
        "      m_power * 0.30\n",
        "  )  # less fuel spent is better, about -30 for heuristic landing. You should modify these values.\n",
        "  reward -= s_power * 0.03\n",
        "\n",
        "  done = False\n",
        "  if self.game_over or abs(state[0]) >= 1.0:\n",
        "      done = True\n",
        "      reward = -100\n",
        "  if not self.lander.awake:\n",
        "      done = True\n",
        "      reward = +100\n",
        "  return np.array(state, dtype=np.float32), reward, done, {}"
      ]
    },
    {
      "cell_type": "markdown",
      "metadata": {
        "execution": {},
        "id": "S0ijKBFYOfHD"
      },
      "source": [
        "Once you have cutomized your own environment, you can execute that environment by just calling:"
      ]
    },
    {
      "cell_type": "code",
      "execution_count": null,
      "metadata": {
        "execution": {},
        "id": "kBlRzCicOfHD"
      },
      "outputs": [],
      "source": [
        "#Enter the name of the custome environment you created and uncomment the line below.\n",
        "#env = Custom_LunarLander()\n",
        "# Refer to https://stable-baselines3.readthedocs.io/en/master/guide/custom_env.html, if you would like to create more complex environments."
      ]
    },
    {
      "cell_type": "markdown",
      "metadata": {
        "execution": {},
        "id": "FdEm9DTmOfHD"
      },
      "source": [
        "## 3 Identify the state information crucial to its performance.\n",
        "\n",
        "Your objective here is to alter the input state information and analyze the performance. The input state of the Lunar Lander consists of following components:\n",
        "\n",
        "  1. Horizontal Position\n",
        "  2. Vertical Position\n",
        "  3. Horizontal Velocity\n",
        "  4. Vertical Velocity\n",
        "  5. Angle\n",
        "  6. Angular Velocity\n",
        "  7. Left Leg Contact\n",
        "  8. Right Leg Contact\n",
        "\n",
        "You can train the algorithm by masking one of the eight components at a time and understand how that affects the performance of the algorithm. Similar to the reward shaping task, you would have to create a custom environment and modify the state space. Again, you can inherit all the necessary functions and modify the following portion of the \"Step\" function:"
      ]
    },
    {
      "cell_type": "code",
      "execution_count": null,
      "metadata": {
        "execution": {},
        "id": "aK8VR-xcOfHE"
      },
      "outputs": [],
      "source": [
        "def step(self, actions):\n",
        "  ...\n",
        "  ...\n",
        "  ...\n",
        "  state = [ # Remove one component at a time to investigate the effect on performance!\n",
        "            (pos.x - VIEWPORT_W / SCALE / 2) / (VIEWPORT_W / SCALE / 2),\n",
        "            (pos.y - (self.helipad_y + LEG_DOWN / SCALE)) / (VIEWPORT_H / SCALE / 2),\n",
        "            vel.x * (VIEWPORT_W / SCALE / 2) / FPS,\n",
        "            vel.y * (VIEWPORT_H / SCALE / 2) / FPS,\n",
        "            self.lander.angle,\n",
        "            20.0 * self.lander.angularVelocity / FPS,\n",
        "            1.0 if self.legs[0].ground_contact else 0.0,\n",
        "            1.0 if self.legs[1].ground_contact else 0.0,\n",
        "        ]"
      ]
    },
    {
      "cell_type": "markdown",
      "metadata": {
        "execution": {},
        "id": "VAAgrsCSOfHE"
      },
      "source": [
        "## 4 Extension to Atari Games\n",
        "\n",
        "In the Lunar Lander task, the input to the algorithm is a vector of state information. Deep RL algorithms can also be applied when the input to the training is image frames, which is the case in the Atari games. For example, consider an Atari game - Pong. In this environment, the observation is an RGB image of the screen, which is an array of shape (210, 160, 3). To train the Pong game, you can start with the following sample code:"
      ]
    },
    {
      "cell_type": "code",
      "execution_count": null,
      "metadata": {
        "execution": {},
        "id": "EHycJYiPOfHE",
        "outputId": "63b32a92-2217-4b90-90a1-96cea123d1a7",
        "colab": {
          "base_uri": "https://localhost:8080/",
          "height": 235
        }
      },
      "outputs": [
        {
          "output_type": "error",
          "ename": "NameError",
          "evalue": "ignored",
          "traceback": [
            "\u001b[0;31m---------------------------------------------------------------------------\u001b[0m",
            "\u001b[0;31mNameError\u001b[0m                                 Traceback (most recent call last)",
            "\u001b[0;32m<ipython-input-19-dac0b7c1d051>\u001b[0m in \u001b[0;36m<module>\u001b[0;34m()\u001b[0m\n\u001b[1;32m      3\u001b[0m \u001b[0;34m\u001b[0m\u001b[0m\n\u001b[1;32m      4\u001b[0m \u001b[0;31m##Atari Games take a lot of memory. Following commands crash on Coalb. Run the following code on Colab Pro or your local Jupyter notebook!\u001b[0m\u001b[0;34m\u001b[0m\u001b[0;34m\u001b[0m\u001b[0;34m\u001b[0m\u001b[0m\n\u001b[0;32m----> 5\u001b[0;31m \u001b[0menv\u001b[0m \u001b[0;34m=\u001b[0m \u001b[0mVecFrameStack\u001b[0m\u001b[0;34m(\u001b[0m\u001b[0menv\u001b[0m\u001b[0;34m,\u001b[0m \u001b[0mn_stack\u001b[0m\u001b[0;34m=\u001b[0m\u001b[0;36m4\u001b[0m\u001b[0;34m)\u001b[0m\u001b[0;34m\u001b[0m\u001b[0;34m\u001b[0m\u001b[0m\n\u001b[0m\u001b[1;32m      6\u001b[0m \u001b[0mmodel\u001b[0m \u001b[0;34m=\u001b[0m \u001b[0mDQN\u001b[0m\u001b[0;34m(\u001b[0m\u001b[0;34m'CnnPolicy'\u001b[0m\u001b[0;34m,\u001b[0m \u001b[0menv\u001b[0m\u001b[0;34m,\u001b[0m \u001b[0mverbose\u001b[0m\u001b[0;34m=\u001b[0m\u001b[0;36m1\u001b[0m\u001b[0;34m)\u001b[0m  \u001b[0;31m# Note the difference here! We use 'CnnPolicy\" here instead of 'MlpPolicy' as the input is frames.\u001b[0m\u001b[0;34m\u001b[0m\u001b[0;34m\u001b[0m\u001b[0m\n\u001b[1;32m      7\u001b[0m \u001b[0mmodel\u001b[0m\u001b[0;34m.\u001b[0m\u001b[0mlearn\u001b[0m\u001b[0;34m(\u001b[0m\u001b[0mtotal_timesteps\u001b[0m\u001b[0;34m=\u001b[0m\u001b[0;36m1\u001b[0m\u001b[0;34m)\u001b[0m \u001b[0;31m#change the number of timesteps as desired and run this command!\u001b[0m\u001b[0;34m\u001b[0m\u001b[0;34m\u001b[0m\u001b[0m\n",
            "\u001b[0;31mNameError\u001b[0m: name 'VecFrameStack' is not defined"
          ]
        }
      ],
      "source": [
        "## Taken from: https://colab.research.google.com/github/Stable-Baselines-Team/rl-colab-notebooks/blob/sb3/atari_games.ipynb#scrollTo=f3K4rMXwimBO\n",
        "env = make_atari_env('PongNoFrameskip-v4', n_envs=4, seed=0)\n",
        "\n",
        "##Atari Games take a lot of memory. Following commands crash on Coalb. Run the following code on Colab Pro or your local Jupyter notebook!\n",
        "# env = VecFrameStack(env, n_stack=4)\n",
        "# model = DQN('CnnPolicy', env, verbose=1)  # Note the difference here! We use 'CnnPolicy\" here instead of 'MlpPolicy' as the input is frames.\n",
        "# model.learn(total_timesteps=1) #change the number of timesteps as desired and run this command!"
      ]
    },
    {
      "cell_type": "markdown",
      "metadata": {
        "execution": {},
        "id": "TA2Ah1nTOfHF"
      },
      "source": [
        "## 5 Obstacle Avoidance and Transfer Learning\n",
        "\n",
        "Your obstacle here is to add an obstacle in the path of the lunar lander (by creating a custom environment as described in point 2 above) and train the model such that the lander lands safely, avoiding collisions. \n",
        "\n",
        "You would first want to devise a mechansim for adding obstacles. For example, you could have an imaginary obstacle at some horizantal and vertical position cooridnates and modify the reward function such that a penalty is levied if the lander comes close to it. \n",
        "\n",
        "An interesting approach to solve this problem is to apply the techniques of transfer learning. For example, you could initialise the neural network model with the weights of the trained model on the original problem to improve the sample effeciency. This can be done using the following code:"
      ]
    },
    {
      "cell_type": "code",
      "execution_count": null,
      "metadata": {
        "execution": {},
        "id": "_EA51MIIOfHF"
      },
      "outputs": [],
      "source": [
        "## Specify the load path and uncomment below:\n",
        "\n",
        "# model = load(load_path,\n",
        "#              env=gym.make('LunarLander-v2'),\n",
        "#              custom_objects=None, **kwargs)"
      ]
    },
    {
      "cell_type": "markdown",
      "metadata": {
        "execution": {},
        "id": "9oeocd2gOfHF"
      },
      "source": [
        "Following are some of the resources on transfer learning that you would want to start with. \n",
        "\n",
        "**Research Papers**\n",
        "\n",
        "Surveys:\n",
        "1. (Long, Old, Highly cited) Taylor, M. E.,  et al. (2009). Transfer learning for reinforcement learning domains. https://www.jmlr.org/papers/volume10/taylor09a/taylor09a.pdf\n",
        "\n",
        "2. (Medium, Old, Good for a quick read) Lazaric, A. (2012). Transfer in reinforcement learning: a framework and a survey. https://hal.inria.fr/docs/00/77/26/26/PDF/transfer.pdf\n",
        "\n",
        "3. (Medium, Recent, Good for a quick read) Zhu, Z., Lin, K., & Zhou, J. (2020). Transfer learning in deep reinforcement learning. https://arxiv.org/pdf/2009.07888.pdf\n",
        "\n",
        "4. Specific example:\n",
        "Barreto, A., et al. (2016).  Successor features for transfer in reinforcement learning. https://arxiv.org/pdf/1606.05312"
      ]
    },
    {
      "cell_type": "markdown",
      "metadata": {
        "execution": {},
        "id": "41XG3cjJOfHF"
      },
      "source": [
        "## 5(b) Transfer Learning in minigrid environment\n",
        "\n",
        "These are some simple gridworld gym environments designed to be particularly simple, lightweight and fast. Refer to https://github.com/maximecb/gym-minigrid for description of the environments. An example to load a minigrid environment is given below:"
      ]
    },
    {
      "cell_type": "code",
      "execution_count": null,
      "metadata": {
        "execution": {},
        "id": "Tzl1C4FaOfHG"
      },
      "outputs": [],
      "source": [
        "!pip install gym-minigrid > /dev/null\n",
        "import gym_minigrid\n",
        "env = gym.make('MiniGrid-Empty-5x5-v0')"
      ]
    },
    {
      "cell_type": "markdown",
      "metadata": {
        "execution": {},
        "id": "povRnxeOOfHG"
      },
      "source": [
        "You can train a standard DQN agent in this env by wrapping the env with full image observation wrappers:\n"
      ]
    },
    {
      "cell_type": "code",
      "execution_count": null,
      "metadata": {
        "execution": {},
        "id": "pfLoC_4bOfHG"
      },
      "outputs": [],
      "source": [
        "env = gym_minigrid.wrappers.ImgObsWrapper(gym_minigrid.wrappers.RGBImgObsWrapper(env))"
      ]
    },
    {
      "cell_type": "markdown",
      "metadata": {
        "execution": {},
        "id": "O0VfESUVOfHH"
      },
      "source": [
        "Note that with full image observations, the shape of the image observations may differ between envs. For e.g., MiniGrid-Empty-5x5-v0 is (40,40,3) while MiniGrid-Empty-8x8-v0 is (64,64,3). So you may need to resize the observations for transfer learning to work with the same DQN architecture.\n",
        "\n",
        "Now try training a DQN (or another method) in one (or multiple) minigrid env(s),and see if that knowledge transfers to another (or multiple other) minigrid env(s).\n"
      ]
    },
    {
      "cell_type": "markdown",
      "metadata": {
        "execution": {},
        "id": "ziIzwS3nOfHH"
      },
      "source": [
        "## 6 Preference-Based RL (PBRL)\n",
        "\n",
        "PBRL is an exciting sub-area in RL where the traditional reward structure is replaced with human preferences. This setting is very useful in applications where it is difficult to construct a reward function. \n",
        "\n",
        "In the earlier section, we have successfully trained the lunar lander to land safely. Here, the path that the lander follows to land safely can be arbitrary. In this project, using the techniques of PBRL, you will solve the lunar lander problem with an additional requirement that the lander should follow a specially curated path (for example, a straight line path). Following are some of the resources that will help you to get started with this project. \n",
        "\n",
        "**Research papers:**\n",
        "1. Deep Reinforcement Learning\n",
        "from Human Preferences https://papers.nips.cc/paper/2017/file/d5e2c0adad503c91f91df240d0cd4e49-Paper.pdf\n",
        "2. Deep Q-learning from Demonstrations https://arxiv.org/pdf/1704.03732.pdf\n",
        "3. Reward learning from human preferences https://arxiv.org/pdf/1811.06521.pdf\n",
        "4. T-REX https://arxiv.org/pdf/1904.06387.pdf\n",
        "\n",
        "**Code Bases:**\n",
        "1. https://github.com/nottombrown/rl-teacher\n",
        "2. https://github.com/hiwonjoon/ICML2019-TREX\n"
      ]
    },
    {
      "cell_type": "markdown",
      "metadata": {
        "execution": {},
        "id": "G_bZ080gOfHH"
      },
      "source": [
        "---\n",
        "# References\n",
        "\n",
        "1. Stable Baselines Framework: https://stable-baselines3.readthedocs.io/en/master/guide/examples.html\n",
        "\n",
        "2. Lunar Lander Environment: https://gym.openai.com/envs/LunarLander-v2/\n",
        "\n",
        "3. OpenAI gym environments: https://gym.openai.com/docs/\n",
        "\n",
        "4. A good reference for introduction to RL: http://incompleteideas.net/book/the-book-2nd.html\n"
      ]
    }
  ],
  "metadata": {
    "colab": {
      "collapsed_sections": [],
      "name": "lunar_lander_v214072022",
      "provenance": [],
      "toc_visible": true,
      "include_colab_link": true
    },
    "kernel": {
      "display_name": "Python 3",
      "language": "python",
      "name": "python3"
    },
    "kernelspec": {
      "display_name": "Python 3",
      "name": "python3"
    },
    "language_info": {
      "name": "python"
    }
  },
  "nbformat": 4,
  "nbformat_minor": 0
}