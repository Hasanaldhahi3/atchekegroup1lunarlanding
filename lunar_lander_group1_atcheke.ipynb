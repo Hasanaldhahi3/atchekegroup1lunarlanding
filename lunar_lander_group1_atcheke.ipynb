{
  "cells": [
    {
      "cell_type": "markdown",
      "metadata": {
        "id": "view-in-github",
        "colab_type": "text"
      },
      "source": [
        "<a href=\"https://colab.research.google.com/github/carlacodes/atchekegroup1lunarlanding/blob/sherry/lunar_lander_group1_atcheke.ipynb\" target=\"_parent\"><img src=\"https://colab.research.google.com/assets/colab-badge.svg\" alt=\"Open In Colab\"/></a>"
      ]
    },
    {
      "cell_type": "markdown",
      "metadata": {
        "execution": {},
        "id": "rKjkh_KgobbF"
      },
      "source": [
        "# Performance Analysis of DQN Algorithm on the Lunar Lander task\n",
        "\n",
        "**By Neuromatch Academy**\n",
        "\n",
        "__Content creators:__ Raghuram Bharadwaj Diddigi, Geraud Nangue Tasse, Yamil Vidal, Sanjukta Krishnagopal, Sara Rajaee\n",
        "\n",
        "__Content editors:__ Spiros Chavlis"
      ]
    },
    {
      "cell_type": "markdown",
      "metadata": {
        "execution": {},
        "id": "iDR5t137obbP"
      },
      "source": [
        "<p align='center'><img src='https://github.com/NeuromatchAcademy/widgets/blob/master/sponsors.png?raw=True'/></p>"
      ]
    },
    {
      "cell_type": "markdown",
      "metadata": {
        "execution": {},
        "id": "brZ9ZJQzobbR"
      },
      "source": [
        "---\n",
        "# Objective\n",
        "\n",
        "In this project, the objective is to analyze the performance of the Deep Q-Learning algorithm on an exciting task- Lunar Lander. Before we describe the task, let us focus on two keywords here - analysis and performance. What exactly do we mean by these keywords in the context of Reinforcement Learning (RL)?"
      ]
    },
    {
      "cell_type": "markdown",
      "metadata": {
        "execution": {},
        "id": "wpX-jA7GobbT"
      },
      "source": [
        "---\n",
        "# Setup"
      ]
    },
    {
      "cell_type": "code",
      "execution_count": 1,
      "metadata": {
        "execution": {},
        "id": "9EanvrrhobbU",
        "colab": {
          "base_uri": "https://localhost:8080/"
        },
        "outputId": "317c3cf8-770c-4477-e579-3aee0aab3c4b"
      },
      "outputs": [
        {
          "output_type": "stream",
          "name": "stdout",
          "text": [
            "\u001b[K     |████████████████████████████████| 177 kB 5.1 MB/s \n",
            "\u001b[K     |████████████████████████████████| 1.6 MB 76.1 MB/s \n",
            "\u001b[K     |████████████████████████████████| 1.5 MB 72.3 MB/s \n",
            "\u001b[K     |████████████████████████████████| 1.1 MB 69.4 MB/s \n",
            "\u001b[?25h  Installing build dependencies ... \u001b[?25l\u001b[?25hdone\n",
            "  Getting requirements to build wheel ... \u001b[?25l\u001b[?25hdone\n",
            "    Preparing wheel metadata ... \u001b[?25l\u001b[?25hdone\n",
            "  Building wheel for gym (setup.py) ... \u001b[?25l\u001b[?25hdone\n",
            "  Building wheel for AutoROM.accept-rom-license (PEP 517) ... \u001b[?25l\u001b[?25hdone\n",
            "\u001b[K     |████████████████████████████████| 448 kB 5.1 MB/s \n",
            "\u001b[?25h"
          ]
        }
      ],
      "source": [
        "# @title Install dependencies\n",
        "!sudo apt-get update > /dev/null 2>&1\n",
        "!sudo apt-get install -y xvfb python-opengl ffmpeg > /dev/null 2>&1\n",
        "!pip install rarfile --quiet\n",
        "!pip install stable-baselines3[extra] ale-py==0.7.4 --quiet\n",
        "!pip install box2d-py --quiet\n",
        "!pip install gym pyvirtualdisplay --quiet"
      ]
    },
    {
      "cell_type": "code",
      "execution_count": 2,
      "metadata": {
        "execution": {},
        "id": "pE3qZJLcobbW"
      },
      "outputs": [],
      "source": [
        "# Imports\n",
        "import io\n",
        "import os\n",
        "import glob\n",
        "import torch\n",
        "import base64\n",
        "import stable_baselines3\n",
        "\n",
        "import numpy as np\n",
        "import matplotlib.pyplot as plt\n",
        "\n",
        "from stable_baselines3 import DQN\n",
        "from stable_baselines3.common.results_plotter import ts2xy, load_results\n",
        "from stable_baselines3.common.callbacks import EvalCallback\n",
        "from stable_baselines3.common.env_util import make_atari_env\n",
        "\n",
        "import gym\n",
        "from gym import spaces\n",
        "from gym.wrappers import Monitor,RecordVideo"
      ]
    },
    {
      "cell_type": "code",
      "source": [
        "print(gym.__version__)"
      ],
      "metadata": {
        "colab": {
          "base_uri": "https://localhost:8080/"
        },
        "id": "gPoZnSTGFvEp",
        "outputId": "fce8d85d-5c70-4761-fd26-f4197652e3de"
      },
      "execution_count": 3,
      "outputs": [
        {
          "output_type": "stream",
          "name": "stdout",
          "text": [
            "0.21.0\n"
          ]
        }
      ]
    },
    {
      "cell_type": "code",
      "execution_count": 3,
      "metadata": {
        "execution": {},
        "id": "fp1bUnClobbY"
      },
      "outputs": [],
      "source": [
        "# @title Plotting/Video functions\n",
        "from IPython.display import HTML\n",
        "from pyvirtualdisplay import Display\n",
        "from IPython import display as ipythondisplay\n",
        "\n",
        "display = Display(visible=0, size=(1400, 900))\n",
        "display.start()\n",
        "\n",
        "\"\"\"\n",
        "Utility functions to enable video recording of gym environment\n",
        "and displaying it.\n",
        "To enable video, just do \"env = wrap_env(env)\"\"\n",
        "\"\"\"\n",
        "\n",
        "def show_video():\n",
        "  mp4list = glob.glob('video/*.mp4')\n",
        "  if len(mp4list) > 0:\n",
        "    mp4 = mp4list[0]\n",
        "    video = io.open(mp4, 'r+b').read()\n",
        "    encoded = base64.b64encode(video)\n",
        "    ipythondisplay.display(HTML(data='''<video alt=\"test\" autoplay\n",
        "                loop controls style=\"height: 400px;\">\n",
        "                <source src=\"data:video/mp4;base64,{0}\" type=\"video/mp4\" />\n",
        "             </video>'''.format(encoded.decode('ascii'))))\n",
        "  else:\n",
        "    print(\"Could not find video\")\n",
        "\n",
        "\n",
        "def wrap_env(env):\n",
        "  env = Monitor(env, './video', force=True)\n",
        "  # env = RecordVideo(env, './video')\n",
        "  return env"
      ]
    },
    {
      "cell_type": "markdown",
      "metadata": {
        "execution": {},
        "id": "psfdqUCmobba"
      },
      "source": [
        "---\n",
        "# Introduction\n",
        "\n",
        "In a standard RL setting, an agent learns optimal behavior from an environment through a feedback mechanism to maximize a given objective. Many algorithms have been proposed in the RL literature that an agent can apply to learn the optimal behavior. One such popular algorithm is the Deep Q-Network (DQN). This algorithm makes use of deep neural networks to compute optimal actions. In this project, your goal is to understand the effect of the number of neural network layers on the algorithm's performance. The performance of the algorithm can be evaluated through two metrics - Speed and Stability. \n",
        "\n",
        "**Speed:** How fast the algorithm reaches the maximum possible reward. \n",
        "\n",
        "**Stability** In some applications (especially when online learning is involved), along with speed, stability of the algorithm, i.e., minimal fluctuations in performance, is equally important. \n",
        "\n",
        "In this project, you should investigate the following question:\n",
        "\n",
        "**What is the impact of number of neural network layers on speed and stability of the algorithm?**\n",
        "\n",
        "You do not have to write the DQN code from scratch. We have provided a basic implementation of the DQN algorithm. You only have to tune the hyperparameters (neural network size, learning rate, etc), observe the performance, and analyze. More details on this are provided below. \n",
        "\n",
        "Now, let us discuss the RL task we have chosen, i.e., Lunar Lander. This task consists of the lander and a landing pad marked by two flags. The episode starts with the lander moving downwards due to gravity. The objective is to land safely using different engines available on the lander with zero speed on the landing pad as quickly and fuel efficient as possible. Reward for moving from the top of the screen and landing on landing pad with zero speed is between 100 to 140 points. Each leg ground contact yields a reward of 10 points. Firing main engine leads to a reward of -0.3 points in each frame. Firing the side engine leads to a reward of -0.03 points in each frame. An additional reward of -100 or +100 points is received if the lander crashes or comes to rest respectively which also leads to end of the episode. \n",
        "\n",
        "The input state of the Lunar Lander consists of following components:\n",
        "\n",
        "  1. Horizontal Position\n",
        "  2. Vertical Position\n",
        "  3. Horizontal Velocity\n",
        "  4. Vertical Velocity\n",
        "  5. Angle\n",
        "  6. Angular Velocity\n",
        "  7. Left Leg Contact\n",
        "  8. Right Leg Contact\n",
        "\n",
        "The actions of the agents are:\n",
        "  1. Do Nothing\n",
        "  2. Fire Main Engine\n",
        "  3. Fire Left Engine\n",
        "  4. Fire Right Engine\n",
        "\n",
        "\n",
        "<img src=\"https://raw.githubusercontent.com/NeuromatchAcademy/course-content-dl/main/projects/static/lunar_lander.png\">"
      ]
    },
    {
      "cell_type": "markdown",
      "metadata": {
        "execution": {},
        "id": "fGCTNteSobbd"
      },
      "source": [
        "---\n",
        "# Basic DQN Implementation\n",
        "\n",
        "We will now implement the DQN algorithm using the existing code base. We encourage you to understand this example and re-use it in an application/project of your choice! "
      ]
    },
    {
      "cell_type": "markdown",
      "metadata": {
        "execution": {},
        "id": "sEG8U0Pmobbf"
      },
      "source": [
        "Now, let us set some hyperparameters for our algorithm. This is the only part you would play around with, to solve the first part of the project. "
      ]
    },
    {
      "cell_type": "markdown",
      "source": [
        "## Tuning hyperparameters"
      ],
      "metadata": {
        "id": "XgNuDz2mrq0g"
      }
    },
    {
      "cell_type": "markdown",
      "source": [
        "ref: \n",
        "\n",
        "1.   template https://github.com/AI4Finance-Foundation/FinRL/blob/master/tutorials/4-Optimization/FinRL_HyperparameterTuning_using_Optuna_basic.ipynb\n",
        "\n",
        "2.   tutorial (combined with template): https://medium.com/analytics-vidhya/hyperparameter-tuning-using-optuna-for-finrl-8a49506d2741\n",
        "\n",
        "3.  set parameter function: https://github.com/DLR-RM/rl-baselines3-zoo/blob/master/utils/hyperparams_opt.py\n",
        "\n",
        "4.   callback function: https://github.com/DLR-RM/rl-baselines3-zoo/blob/master/utils/callbacks.py#L10\n",
        "\n",
        "\n",
        "\n"
      ],
      "metadata": {
        "id": "6RQ_bAC6KlAU"
      }
    },
    {
      "cell_type": "code",
      "source": [
        "!pip3 install optuna --quiet"
      ],
      "metadata": {
        "id": "qSg7t4EJx9Pp"
      },
      "execution_count": null,
      "outputs": []
    },
    {
      "cell_type": "code",
      "source": [
        "import optuna\n",
        "\n",
        "from IPython.display import clear_output\n",
        "import sys"
      ],
      "metadata": {
        "id": "CHT0LZ0WyERZ"
      },
      "execution_count": null,
      "outputs": []
    },
    {
      "cell_type": "markdown",
      "source": [
        "### define search space"
      ],
      "metadata": {
        "id": "i_gZFwkKtj5T"
      }
    },
    {
      "cell_type": "code",
      "source": [
        "def sample_dqn_params(trial: optuna.Trial):\n",
        "    \"\"\"\n",
        "    Sampler for DQN hyperparams.\n",
        "    :param trial:\n",
        "    :return:\n",
        "    \"\"\"\n",
        "    learning_rate = trial.suggest_loguniform(\"learning_rate\", 1e-5, 1e-2)\n",
        "\n",
        "    net_arch = trial.suggest_categorical(\"net_arch\", [\"two\", \"three\"]) #, \"two_big\"\n",
        "    net_arch = {\"two\": [64, 64], \"three\": [64, 64, 64]}[net_arch] #, \"two_big\": [256, 256]\n",
        "\n",
        "    hyperparams = {\n",
        "        \"learning_rate\": learning_rate,#\n",
        "        \"policy_kwargs\": dict(activation_fn=torch.nn.ReLU, net_arch=net_arch),\n",
        "        \"batch_size\": 1,  #for simplicity, we are not doing batch update.\n",
        "        \"buffer_size\": 1, #size of experience of replay buffer. Set to 1 as batch update is not done\n",
        "        \"learning_starts\": 1, #learning starts immediately!\n",
        "        \"gamma\": 0.99, #discount facto. range is between 0 and 1.\n",
        "        \"tau\": 1,  #the soft update coefficient for updating the target network\n",
        "        \"target_update_interval\": 1, #update the target network immediately.\n",
        "        \"train_freq\": (1,\"step\"), #train the network at every step.\n",
        "        \"max_grad_norm\": 10, #the maximum value for the gradient clipping\n",
        "        \"exploration_initial_eps\": 1, #initial value of random action probability\n",
        "        \"exploration_fraction\": 0.5, #fraction of entire training period over which the exploration rate is reduced\n",
        "        \"gradient_steps\": 1, #number of gradient steps\n",
        "        \"seed\": 1, #seed for the pseudo random generators\n",
        "        \"verbose\": 0\n",
        "    }\n",
        "    return hyperparams"
      ],
      "metadata": {
        "id": "mWhSf_qjk8T4"
      },
      "execution_count": null,
      "outputs": []
    },
    {
      "cell_type": "markdown",
      "source": [
        "### define callback"
      ],
      "metadata": {
        "id": "fFyJprz6tp7_"
      }
    },
    {
      "cell_type": "code",
      "source": [
        "class LoggingCallback:\n",
        "    def __init__(self,threshold,trial_number,patience):\n",
        "      '''\n",
        "      threshold: int tolerance for increase in reward\n",
        "      trial_number: int Prune after minimum number of trials\n",
        "      patience: int patience for the threshold\n",
        "      '''\n",
        "      self.threshold = threshold\n",
        "      self.trial_number  = trial_number\n",
        "      self.patience = patience\n",
        "      self.cb_list = [] #Trials list for which threshold is reached\n",
        "    def __call__(self,study:optuna.study, frozen_trial:optuna.Trial):\n",
        "      #Setting the best value in the current trial\n",
        "      study.set_user_attr(\"previous_best_value\", study.best_value)\n",
        "      \n",
        "      #Checking if the minimum number of trials have pass\n",
        "      if frozen_trial.number >self.trial_number:\n",
        "          previous_best_value = study.user_attrs.get(\"previous_best_value\",None)\n",
        "          #Checking if the previous and current objective values have the same sign\n",
        "          if previous_best_value * study.best_value >=0:\n",
        "              #Checking for the threshold condition\n",
        "              if abs(previous_best_value-study.best_value) < self.threshold: \n",
        "                  self.cb_list.append(frozen_trial.number)\n",
        "                  #If threshold is achieved for the patience amount of time\n",
        "                  if len(self.cb_list)>self.patience:\n",
        "                      print('The study stops now...')\n",
        "                      print('With number',frozen_trial.number ,'and value ',frozen_trial.value)\n",
        "                      print('The previous and current best values are {} and {} respectively'\n",
        "                              .format(previous_best_value, study.best_value))\n",
        "                      study.stop()"
      ],
      "metadata": {
        "id": "Q4FKnTdKttOu"
      },
      "execution_count": null,
      "outputs": []
    },
    {
      "cell_type": "markdown",
      "source": [
        "### define objective"
      ],
      "metadata": {
        "id": "B1qV393bpoTO"
      }
    },
    {
      "cell_type": "code",
      "source": [
        "log_dir = \"models\"\n",
        "os.makedirs(log_dir,exist_ok=True) \n",
        "\n",
        "def objective(trial:optuna.Trial):\n",
        "\n",
        "  # Create environment\n",
        "  env = gym.make('LunarLander-v2')\n",
        "  env = stable_baselines3.common.monitor.Monitor(env, log_dir)\n",
        "\n",
        "  #Trial will suggest a set of hyperparamters from the specified range\n",
        "  hyperparameters = sample_dqn_params(trial)\n",
        "  model_dqn = DQN(\"MlpPolicy\", env, **hyperparameters) #Set verbose to 1 to observe training logs. We encourage you to set the verbose to 1.\n",
        "\n",
        "  # define learning steps\n",
        "  trained_dqn = model_dqn.learn(total_timesteps=1, log_interval=10)#100000 , callback=callback\n",
        "  # save model\n",
        "  trained_dqn.save('models/dqn_{}.pth'.format(trial.number)) \n",
        "\n",
        "  x, y = ts2xy(load_results(log_dir), 'episodes') # timesteps\n",
        "  # clear_output(wait=True)\n",
        "  #For the given hyperparamters, determine reward\n",
        "  reward = sum(y)\n",
        "  return reward\n",
        "\n",
        "#Create a study object and specify the direction as 'maximize'\n",
        "#As you want to maximize reward\n",
        "#Pruner stops not promising iterations\n",
        "#Use a pruner, else you will get error related to divergence of model\n",
        "#You can also use Multivariate samplere\n",
        "#sampler = optuna.samplers.TPESampler(multivarite=True,seed=42)\n",
        "sampler = optuna.samplers.TPESampler(seed=42)\n",
        "study = optuna.create_study(study_name=\"dqn_study\",direction='maximize',\n",
        "                            sampler = sampler, pruner=optuna.pruners.HyperbandPruner())\n",
        "\n",
        "logging_callback = LoggingCallback(threshold=10, patience=30, trial_number=5)\n",
        "#You can increase the n_trials for a better search space scanning\n",
        "study.optimize(objective, n_trials=4, catch=(ValueError,),callbacks=[logging_callback])"
      ],
      "metadata": {
        "id": "2s-bjWndt_a6",
        "colab": {
          "base_uri": "https://localhost:8080/"
        },
        "outputId": "4a5678ae-684c-487f-da4a-25b63443aab5"
      },
      "execution_count": null,
      "outputs": [
        {
          "output_type": "stream",
          "name": "stderr",
          "text": [
            "\u001b[32m[I 2022-07-22 08:35:24,721]\u001b[0m A new study created in memory with name: dqn_study\u001b[0m\n",
            "\u001b[32m[I 2022-07-22 08:35:27,212]\u001b[0m Trial 0 finished with value: 0.0 and parameters: {'learning_rate': 0.0001329291894316216, 'net_arch': 'two'}. Best is trial 0 with value: 0.0.\u001b[0m\n",
            "\u001b[32m[I 2022-07-22 08:35:27,262]\u001b[0m Trial 1 finished with value: 0.0 and parameters: {'learning_rate': 0.0006251373574521745, 'net_arch': 'two'}. Best is trial 0 with value: 0.0.\u001b[0m\n",
            "\u001b[32m[I 2022-07-22 08:35:27,311]\u001b[0m Trial 2 finished with value: 0.0 and parameters: {'learning_rate': 1.493656855461762e-05, 'net_arch': 'two'}. Best is trial 0 with value: 0.0.\u001b[0m\n",
            "\u001b[32m[I 2022-07-22 08:35:27,367]\u001b[0m Trial 3 finished with value: 0.0 and parameters: {'learning_rate': 0.001331121608073689, 'net_arch': 'three'}. Best is trial 0 with value: 0.0.\u001b[0m\n"
          ]
        }
      ]
    },
    {
      "cell_type": "markdown",
      "source": [
        "### get the best model"
      ],
      "metadata": {
        "id": "tf91UWqvzR6Y"
      }
    },
    {
      "cell_type": "code",
      "source": [
        "#Get the best hyperparamters\n",
        "print('Hyperparameters after tuning',study.best_params)"
      ],
      "metadata": {
        "colab": {
          "base_uri": "https://localhost:8080/"
        },
        "id": "CcDma0wSy02u",
        "outputId": "68d7a764-66c8-444d-c3b0-289c6ee00483"
      },
      "execution_count": null,
      "outputs": [
        {
          "output_type": "stream",
          "name": "stdout",
          "text": [
            "Hyperparameters after tuning {'learning_rate': 0.0001329291894316216, 'net_arch': 'two'}\n"
          ]
        }
      ]
    },
    {
      "cell_type": "code",
      "source": [
        "study.best_trial"
      ],
      "metadata": {
        "colab": {
          "base_uri": "https://localhost:8080/"
        },
        "id": "yqou4GOlzWMh",
        "outputId": "af63b514-9589-4686-b264-acb47bb618f8"
      },
      "execution_count": null,
      "outputs": [
        {
          "output_type": "execute_result",
          "data": {
            "text/plain": [
              "FrozenTrial(number=0, values=[0.0], datetime_start=datetime.datetime(2022, 7, 22, 8, 35, 24, 738095), datetime_complete=datetime.datetime(2022, 7, 22, 8, 35, 27, 211750), params={'learning_rate': 0.0001329291894316216, 'net_arch': 'two'}, distributions={'learning_rate': LogUniformDistribution(high=0.01, low=1e-05), 'net_arch': CategoricalDistribution(choices=('two', 'three'))}, user_attrs={}, system_attrs={}, intermediate_values={}, trial_id=0, state=TrialState.COMPLETE, value=None)"
            ]
          },
          "metadata": {},
          "execution_count": 10
        }
      ]
    },
    {
      "cell_type": "markdown",
      "source": [
        "## Template"
      ],
      "metadata": {
        "id": "mObWM9TLp2lj"
      }
    },
    {
      "cell_type": "code",
      "execution_count": null,
      "metadata": {
        "execution": {},
        "id": "vJm_qzWkobbg"
      },
      "outputs": [],
      "source": [
        "nn_layers = [64,64] #This is the configuration of your neural network. Currently, we have two layers, each consisting of 64 neurons.\n",
        "                    #If you want three layers with 64 neurons each, set the value to [64,64,64] and so on.\n",
        "\n",
        "learning_rate = 0.001 #This is the step-size with which the gradient descent is carried out.\n",
        "                      #Tip: Use smaller step-sizes for larger networks."
      ]
    },
    {
      "cell_type": "markdown",
      "metadata": {
        "execution": {},
        "id": "-9bGzUVPobbh"
      },
      "source": [
        "Now, let us setup our model and the DQN algorithm. "
      ]
    },
    {
      "cell_type": "code",
      "execution_count": null,
      "metadata": {
        "execution": {},
        "id": "1dN91ycLobbh"
      },
      "outputs": [],
      "source": [
        "log_dir = \"/tmp/gym/\"\n",
        "os.makedirs(log_dir, exist_ok=True)\n",
        "\n",
        "# Create environment\n",
        "env = gym.make('LunarLander-v3')\n",
        "#You can also load other environments like cartpole, MountainCar, Acrobot. Refer to https://gym.openai.com/docs/ for descriptions.\n",
        "#For example, if you would like to load Cartpole, just replace the above statement with \"env = gym.make('CartPole-v1')\".\n",
        "\n",
        "env = stable_baselines3.common.monitor.Monitor(env, log_dir )\n",
        "\n",
        "callback = EvalCallback(env,log_path = log_dir, deterministic=True) #For evaluating the performance of the agent periodically and logging the results.\n",
        "\n",
        "policy_kwargs = dict(activation_fn=torch.nn.ReLU,\n",
        "                     net_arch=nn_layers)\n",
        "model = DQN(\"MlpPolicy\", env, policy_kwargs = policy_kwargs,\n",
        "            learning_rate=learning_rate,\n",
        "            batch_size=1,  #for simplicity, we are not doing batch update.\n",
        "            buffer_size=1, #size of experience of replay buffer. Set to 1 as batch update is not done\n",
        "            learning_starts=1, #learning starts immediately!\n",
        "            gamma=0.99, #discount facto. range is between 0 and 1.\n",
        "            tau = 1,  #the soft update coefficient for updating the target network\n",
        "            target_update_interval=1, #update the target network immediately.\n",
        "            train_freq=(1,\"step\"), #train the network at every step.\n",
        "            max_grad_norm = 10, #the maximum value for the gradient clipping\n",
        "            exploration_initial_eps = 1, #initial value of random action probability\n",
        "            exploration_fraction = 0.5, #fraction of entire training period over which the exploration rate is reduced\n",
        "            gradient_steps = 1, #number of gradient steps\n",
        "            seed = 1, #seed for the pseudo random generators\n",
        "            verbose=0) #Set verbose to 1 to observe training logs. We encourage you to set the verbose to 1.\n",
        "\n",
        "# You can also experiment with other RL algorithms like A2C, PPO, DDPG etc. Refer to  https://stable-baselines3.readthedocs.io/en/master/guide/examples.html\n",
        "#for documentation. For example, if you would like to run DDPG, just replace \"DQN\" above with \"DDPG\"."
      ]
    },
    {
      "cell_type": "markdown",
      "metadata": {
        "execution": {},
        "id": "0-7OLtdpobbi"
      },
      "source": [
        "Before we train the model, let us look at an instance of Lunar Lander **before training**.  \n",
        "\n",
        "**Note:** The following code for rendering the video is taken from https://colab.research.google.com/github/jeffheaton/t81_558_deep_learning/blob/master/t81_558_class_12_01_ai_gym.ipynb#scrollTo=T9RpF49oOsZj"
      ]
    },
    {
      "cell_type": "code",
      "execution_count": null,
      "metadata": {
        "execution": {},
        "id": "8nEQvdE7obbj",
        "outputId": "1a069bb5-4930-4874-acc2-7d630e09d625",
        "colab": {
          "base_uri": "https://localhost:8080/",
          "height": 421
        }
      },
      "outputs": [
        {
          "output_type": "display_data",
          "data": {
            "text/plain": [
              "<IPython.core.display.HTML object>"
            ],
            "text/html": [
              "<video alt=\"test\" autoplay\n",
              "                loop controls style=\"height: 400px;\">\n",
              "                <source src=\"data:video/mp4;base64,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\" type=\"video/mp4\" />\n",
              "             </video>"
            ]
          },
          "metadata": {}
        }
      ],
      "source": [
        "test_env = wrap_env(gym.make(\"LunarLander-v2\"))\n",
        "observation = test_env.reset()\n",
        "total_reward = 0\n",
        "while True:\n",
        "  test_env.render()\n",
        "  action, states = model.predict(observation, deterministic=True)\n",
        "  observation, reward, done, info = test_env.step(action)\n",
        "  total_reward += reward\n",
        "  if done:\n",
        "    break;\n",
        "\n",
        "# print(total_reward)\n",
        "test_env.close()\n",
        "show_video()"
      ]
    },
    {
      "cell_type": "markdown",
      "metadata": {
        "execution": {},
        "id": "ZpMABSl9obbk"
      },
      "source": [
        "From the video above, we see that the lander has crashed! \n",
        "It is now the time for training! \n"
      ]
    },
    {
      "cell_type": "code",
      "execution_count": null,
      "metadata": {
        "execution": {},
        "id": "I0hzLf1lobbl",
        "colab": {
          "base_uri": "https://localhost:8080/"
        },
        "outputId": "92054caf-2762-49f7-a684-ef73f0efd908"
      },
      "outputs": [
        {
          "output_type": "stream",
          "name": "stdout",
          "text": [
            "Eval num_timesteps=9000, episode_reward=-330.30 +/- 56.71\n",
            "Episode length: 302.40 +/- 91.62\n",
            "New best mean reward!\n"
          ]
        },
        {
          "output_type": "execute_result",
          "data": {
            "text/plain": [
              "<stable_baselines3.dqn.dqn.DQN at 0x7f262938c910>"
            ]
          },
          "metadata": {},
          "execution_count": 63
        }
      ],
      "source": [
        "model.learn(total_timesteps=10000, log_interval=10, callback=callback, eval_log_path=log_dir)\n",
        "# The performance of the training will be printed every 10 episodes. Change it to 1, if you wish to\n",
        "# view the performance at every training episode.\n",
        "# how to read monitor.csv: ep_info = {\"r\": round(ep_rew, 6), \"l\": ep_len, \"t\": round(time.time() - self.t_start, 6)}"
      ]
    },
    {
      "cell_type": "markdown",
      "metadata": {
        "execution": {},
        "id": "ueR5BIcpobbm"
      },
      "source": [
        "The training takes time. We encourage you to analyze the output logs (set verbose to 1 to print the output logs). The main component of the logs that you should track is \"ep_rew_mean\" (mean of episode rewards). As the training proceeds, the value of \"ep_rew_mean\" should increase. The improvement need not be monotonic, but the trend should be upwards! \n",
        "\n",
        "Along with training, we are also periodically evaluating the performance of the current model during the training. This was reported in logs as follows:\n",
        "\n",
        "```\n",
        "Eval num_timesteps=100000, episode_reward=63.41 +/- 130.02\n",
        "Episode length: 259.80 +/- 47.47\n",
        "```"
      ]
    },
    {
      "cell_type": "markdown",
      "metadata": {
        "execution": {},
        "id": "ogkoKXiXobbm"
      },
      "source": [
        "Now, let us look at the visual performance of the lander. \n",
        "\n",
        "**Note:** The performance varies across different seeds and runs. This code is not optimized to be stable across all runs and seeds. We hope you will be able to find an optimal configuration! "
      ]
    },
    {
      "cell_type": "code",
      "execution_count": null,
      "metadata": {
        "execution": {},
        "id": "m_WCp8wdobbn",
        "outputId": "03dbc1c0-4e15-4578-a25d-4488498570a8",
        "colab": {
          "base_uri": "https://localhost:8080/",
          "height": 421
        }
      },
      "outputs": [
        {
          "output_type": "display_data",
          "data": {
            "text/plain": [
              "<IPython.core.display.HTML object>"
            ],
            "text/html": [
              "<video alt=\"test\" autoplay\n",
              "                loop controls style=\"height: 400px;\">\n",
              "                <source src=\"data:video/mp4;base64,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\" type=\"video/mp4\" />\n",
              "             </video>"
            ]
          },
          "metadata": {}
        }
      ],
      "source": [
        "env = wrap_env(gym.make(\"LunarLander-v3\"))\n",
        "observation = env.reset()\n",
        "while True:\n",
        "  env.render()\n",
        "  action, _states = model.predict(observation, deterministic=True)\n",
        "  observation, reward, done, info = env.step(action)\n",
        "  if done:\n",
        "    break;\n",
        "\n",
        "env.close()\n",
        "show_video()"
      ]
    },
    {
      "cell_type": "markdown",
      "metadata": {
        "execution": {},
        "id": "Ov5djtn9obbn"
      },
      "source": [
        "The lander has landed safely!!\n",
        "\n",
        "Let us analyze its performance (speed and stability). For this purpose, we plot the number of time steps on the X-axis and the episodic reward given by the trained model on the Y-axis. "
      ]
    },
    {
      "cell_type": "code",
      "execution_count": null,
      "metadata": {
        "execution": {},
        "id": "asuy5ryIobbo",
        "outputId": "63569cc2-a0c7-464a-af73-e11b361c24cf",
        "colab": {
          "base_uri": "https://localhost:8080/",
          "height": 301
        }
      },
      "outputs": [
        {
          "output_type": "execute_result",
          "data": {
            "text/plain": [
              "Text(0, 0.5, 'Episode Rewards')"
            ]
          },
          "metadata": {},
          "execution_count": 22
        },
        {
          "output_type": "display_data",
          "data": {
            "text/plain": [
              "<Figure size 432x288 with 1 Axes>"
            ],
            "image/png": "[encoded data removed]"
          },
          "metadata": {
            "needs_background": "light"
          }
        }
      ],
      "source": [
        "x, y = ts2xy(load_results(log_dir), 'episodes')  # Organising the logged results in to a clean format for plotting. timesteps\n",
        "plt.plot(x,y)\n",
        "plt.ylim([-300, 300])\n",
        "plt.xlabel('Timesteps')\n",
        "plt.ylabel('Episode Rewards')"
      ]
    },
    {
      "cell_type": "markdown",
      "metadata": {
        "execution": {},
        "id": "mw3iMGmwobbo"
      },
      "source": [
        "From the above plot, we observe that, although the maximum reward is achieved quickly. Achieving an episodic reward of > 200 is good. We see that the agent has achieved it in less than 50000 timesteps (speed is good!). However, there are a lot of fluctuations in the performance (stability is not good!). \n",
        "\n",
        "Your objective now is to modify the model parameters (nn_layers, learning_rate in the code cell #2 above), run all the cells following it and investigate the stability and speed of the chosen configuration.   \n"
      ]
    },
    {
      "cell_type": "markdown",
      "metadata": {
        "execution": {},
        "id": "_bKzapIyobbp"
      },
      "source": [
        "---\n",
        "# Additional Project Ideas"
      ]
    },
    {
      "cell_type": "markdown",
      "metadata": {
        "execution": {},
        "id": "gzByWGxfobbq"
      },
      "source": [
        "## 1 Play with exploration-exploitation trade-off\n",
        "\n",
        "Exploration (selecting random actions) and exploitation (selecting greedy action) is a crucial component of the DQN algorithm. Explore random actions for a long time will slow down the training process. At the same time, if all actions are not explored enough, it might lead to a sub-optimal performance. In the DQN code above, we have used the following parameters:"
      ]
    },
    {
      "cell_type": "code",
      "execution_count": null,
      "metadata": {
        "execution": {},
        "id": "5TeOBG-Jobbq"
      },
      "outputs": [],
      "source": [
        "exploration_initial_eps = 1  # initial value of random action probability. Range is between 0 and 1.\n",
        "exploration_fraction = 0.5  # fraction of entire training period over which the exploration rate is reduced. Range is between 0 and 1.\n",
        "exploration_final_eps = 0.05  # (set by defualt) final value of random action probability. Range is between 0 and 1."
      ]
    },
    {
      "cell_type": "markdown",
      "metadata": {
        "execution": {},
        "id": "dZuGeAULobbq"
      },
      "source": [
        "Your objective is to play around with these parameters and analyze their performance (speed and stability). You can modify these parameters and set them as arguments in DQN(...,exploration_initial_eps = 1, exploration_fraction = 0.5, exploration_final_eps = 0.05,...). "
      ]
    },
    {
      "cell_type": "markdown",
      "metadata": {
        "execution": {},
        "id": "yGp5JFoAobbr"
      },
      "source": [
        "## 2 Reward Shaping\n",
        "\n",
        "Your objective here is to construct a modified reward function that improves the performance of the Lunar Lander. To this end, you would have to create your own custom environment. An example of a custom environment is given below:"
      ]
    },
    {
      "cell_type": "markdown",
      "source": [
        "Ref: https://towardsdatascience.com/beginners-guide-to-custom-environments-in-openai-s-gym-989371673952"
      ],
      "metadata": {
        "id": "yIFSDq7eyXY-"
      }
    },
    {
      "cell_type": "markdown",
      "source": [
        "### New environment"
      ],
      "metadata": {
        "id": "iIvGmuJD49zZ"
      }
    },
    {
      "cell_type": "markdown",
      "source": [
        "#### define new env class"
      ],
      "metadata": {
        "id": "c-DTrZhLy0UM"
      }
    },
    {
      "cell_type": "code",
      "source": [
        "from gym.envs.box2d import LunarLander\n",
        "from Box2D.b2 import fixtureDef, circleShape, polygonShape, revoluteJointDef, contactListener, edgeShape\n",
        "import math"
      ],
      "metadata": {
        "id": "dTxYseql3ry3"
      },
      "execution_count": 4,
      "outputs": []
    },
    {
      "cell_type": "markdown",
      "source": [
        "Set parameters"
      ],
      "metadata": {
        "id": "MtUy074Syhdd"
      }
    },
    {
      "cell_type": "code",
      "source": [
        "FPS = 50\n",
        "SCALE = 30.0  # affects how fast-paced the game is, forces should be adjusted as well\n",
        "\n",
        "MAIN_ENGINE_POWER = 13.0\n",
        "SIDE_ENGINE_POWER = 0.6\n",
        "\n",
        "INITIAL_RANDOM = 1000.0  # Set 1500 to make game harder\n",
        "\n",
        "LANDER_POLY = [(-14, +17), (-17, 0), (-17, -10), (+17, -10), (+17, 0), (+14, +17)]\n",
        "LEG_AWAY = 20\n",
        "LEG_DOWN = 18\n",
        "LEG_W, LEG_H = 2, 8\n",
        "LEG_SPRING_TORQUE = 40\n",
        "\n",
        "SIDE_ENGINE_HEIGHT = 14.0\n",
        "SIDE_ENGINE_AWAY = 12.0\n",
        "\n",
        "VIEWPORT_W = 600\n",
        "VIEWPORT_H = 400"
      ],
      "metadata": {
        "id": "E6Ivff2jW7q8"
      },
      "execution_count": 5,
      "outputs": []
    },
    {
      "cell_type": "markdown",
      "source": [
        "##### with obstacle and new reward"
      ],
      "metadata": {
        "id": "hU5fazVEArJ4"
      }
    },
    {
      "cell_type": "code",
      "source": [
        "class ContactDetector(contactListener):\n",
        "    def __init__(self, env):\n",
        "        contactListener.__init__(self)\n",
        "        self.env = env\n",
        "\n",
        "    def BeginContact(self, contact):\n",
        "        if (\n",
        "                self.env.lander == contact.fixtureA.body\n",
        "                or self.env.lander == contact.fixtureB.body\n",
        "        ):\n",
        "            self.env.game_over = True\n",
        "        for i in range(2):\n",
        "            if self.env.legs[i] in [contact.fixtureA.body, contact.fixtureB.body]:\n",
        "                self.env.legs[i].ground_contact = True\n",
        "\n",
        "    def EndContact(self, contact):\n",
        "        for i in range(2):\n",
        "            if self.env.legs[i] in [contact.fixtureA.body, contact.fixtureB.body]:\n",
        "                self.env.legs[i].ground_contact = False\n",
        "\n",
        "class Custom_LunarLander_obs(LunarLander):\n",
        "    metadata = {\"render.modes\": [\"human\", \"rgb_array\"], \"video.frames_per_second\": FPS}\n",
        "    continuous = False\n",
        "\n",
        "    def __init__(\n",
        "        self,\n",
        "        enable_wind: bool = False,\n",
        "        wind_power: float = 15.0,\n",
        "        obs_coords = [10, 10],\n",
        "        enable_obstacle: bool = True\n",
        "    ):\n",
        "        LunarLander.__init__(self)\n",
        "\n",
        "        self.enable_wind = enable_wind\n",
        "\n",
        "        self.obs_coords = obs_coords\n",
        "        self.enable_obstacle = enable_obstacle\n",
        "        self.wind_power = wind_power\n",
        "\n",
        "        self.wind_idx = np.random.randint(-9999, 9999)\n",
        "\n",
        "        # defining the polygon obstacle here:\n",
        "        vertices_poly = [(5, 5), (5, 2), (2, 2), (2, 5)]  # may need to change later\n",
        "        # self.obstacle = self.world.CreateStaticBody(\n",
        "        #\n",
        "        #     # shapes=polygonShape(centroid=(self.obs_coords[0] + VIEWPORT_W / 2 / SCALE,\n",
        "        #     #                         self.obs_coords[1] + (self.helipad_y + LEG_DOWN / SCALE)),\n",
        "        #     #                    vertices= [(x / SCALE, y / SCALE) for x, y in vertices_poly]),\n",
        "        #     shapes=circleShape(pos=(self.obs_coords[0] + VIEWPORT_W / 2 / SCALE,\n",
        "        #                             self.obs_coords[1] + (self.helipad_y + LEG_DOWN / SCALE)),\n",
        "        #                        radius=2),\n",
        "        #                         categoryBits=0x1000,\n",
        "        #\n",
        "        # )\n",
        "        self.obstacle = self.world.CreateStaticBody(\n",
        "            position=(self.obs_coords[0], self.obs_coords[1]),\n",
        "            # (self.obs_coords[0] + VIEWPORT_W / 2 / SCALE,\n",
        "            # self.obs_coords[1] + (self.helipad_y + LEG_DOWN / SCALE))\n",
        "            angle=0.0,\n",
        "            fixtures=fixtureDef(\n",
        "                #circleShape(radius=2 / SCALE, pos=(0, 0)),\n",
        "                shape=circleShape(radius=20 / SCALE, \n",
        "                                  pos=(self.obs_coords[0],\n",
        "                                       self.obs_coords[1])),\n",
        "                # density=5.0,\n",
        "                # friction=0.1,\n",
        "                # categoryBits=0x0010,\n",
        "                # # maskBits=0x001,  # collide only with ground\n",
        "                # restitution=0.0,\n",
        "            ),  # 0.99 bouncy\n",
        "        )\n",
        "\n",
        "        self.obstacle.color1 = (0.5, 0.4, 0.9)\n",
        "        self.obstacle.color2 = (1, 1, 1)\n",
        "        # self.obstacle.alpha = 0.8  \n",
        "\n",
        "        self.observation_space = spaces.Box(\n",
        "            -np.inf, np.inf, shape=(10,), dtype=np.float32\n",
        "        )   \n",
        "\n",
        "    def reset(self):\n",
        "        self._destroy()\n",
        "        self.world.contactListener_keepref = ContactDetector(self)\n",
        "        self.world.contactListener = self.world.contactListener_keepref\n",
        "        self.game_over = False\n",
        "        self.prev_shaping = None\n",
        "\n",
        "        W = VIEWPORT_W / SCALE\n",
        "        H = VIEWPORT_H / SCALE\n",
        "\n",
        "        # terrain\n",
        "        CHUNKS = 11\n",
        "        height = self.np_random.uniform(0, H / 2, size=(CHUNKS + 1,))\n",
        "        chunk_x = [W / (CHUNKS - 1) * i for i in range(CHUNKS)]\n",
        "        self.helipad_x1 = chunk_x[CHUNKS // 2 - 1]\n",
        "        self.helipad_x2 = chunk_x[CHUNKS // 2 + 1]\n",
        "        self.helipad_y = H / 4\n",
        "        height[CHUNKS // 2 - 2] = self.helipad_y\n",
        "        height[CHUNKS // 2 - 1] = self.helipad_y\n",
        "        height[CHUNKS // 2 + 0] = self.helipad_y\n",
        "        height[CHUNKS // 2 + 1] = self.helipad_y\n",
        "        height[CHUNKS // 2 + 2] = self.helipad_y\n",
        "        smooth_y = [\n",
        "            0.33 * (height[i - 1] + height[i + 0] + height[i + 1])\n",
        "            for i in range(CHUNKS)\n",
        "        ]\n",
        "\n",
        "        self.moon = self.world.CreateStaticBody(\n",
        "            shapes=edgeShape(vertices=[(0, 0), (W, 0)])\n",
        "        )\n",
        "\n",
        "        # defining the polygon obstacle here----------------------------------\n",
        "        vertices_poly = [(5, 5), (5, 2), (2, 2), (2, 5)]  # may need to change later\n",
        "        # self.obstacle = self.world.CreateStaticBody(\n",
        "        #\n",
        "        #     # shapes=polygonShape(centroid=(self.obs_coords[0] + VIEWPORT_W / 2 / SCALE,\n",
        "        #     #                         self.obs_coords[1] + (self.helipad_y + LEG_DOWN / SCALE)),\n",
        "        #     #                    vertices= [(x / SCALE, y / SCALE) for x, y in vertices_poly]),\n",
        "        #     shapes=circleShape(pos=(self.obs_coords[0] + VIEWPORT_W / 2 / SCALE,\n",
        "        #                             self.obs_coords[1] + (self.helipad_y + LEG_DOWN / SCALE)),\n",
        "        #                        radius=2),\n",
        "        #                         categoryBits=0x1000,\n",
        "        #\n",
        "        # )\n",
        "        self.obstacle = self.world.CreateStaticBody(\n",
        "            position=(self.obs_coords[0], self.obs_coords[1]),\n",
        "            # (self.obs_coords[0] + VIEWPORT_W / 2 / SCALE,\n",
        "            # self.obs_coords[1] + (self.helipad_y + LEG_DOWN / SCALE))\n",
        "            angle=0.0,\n",
        "            fixtures=fixtureDef(\n",
        "                #circleShape(radius=2 / SCALE, pos=(0, 0)),\n",
        "                shape=circleShape(radius=20 / SCALE, pos=(self.obs_coords[0],\n",
        "                                       self.obs_coords[1])),\n",
        "                # density=5.0,\n",
        "                # friction=0.1,\n",
        "                # categoryBits=0x0010,\n",
        "                # # maskBits=0x001,  # collide only with ground\n",
        "                # restitution=0.0,\n",
        "            ),  # 0.99 bouncy\n",
        "        )\n",
        "\n",
        "        self.obstacle.color1 = (0.5, 0.4, 0.9)\n",
        "        self.obstacle.color2 = (1, 1, 1)\n",
        "        # self.obstacle.alpha = 0.8\n",
        "        # ----------------------------------------------------------------\n",
        "\n",
        "        self.sky_polys = []\n",
        "        for i in range(CHUNKS - 1):\n",
        "            p1 = (chunk_x[i], smooth_y[i])\n",
        "            p2 = (chunk_x[i + 1], smooth_y[i + 1])\n",
        "            self.moon.CreateEdgeFixture(vertices=[p1, p2], density=0, friction=0.1)\n",
        "            self.sky_polys.append([p1, p2, (p2[0], H), (p1[0], H)])\n",
        "\n",
        "        self.moon.color1 = (0.0, 0.0, 0.0)\n",
        "        self.moon.color2 = (0.0, 0.0, 0.0)\n",
        "\n",
        "        initial_y = VIEWPORT_H / SCALE\n",
        "        self.lander = self.world.CreateDynamicBody(\n",
        "            position=(VIEWPORT_W / SCALE / 2, initial_y),\n",
        "            angle=0.0,\n",
        "            fixtures=fixtureDef(\n",
        "                shape=polygonShape(\n",
        "                    vertices=[(x / SCALE, y / SCALE) for x, y in LANDER_POLY]\n",
        "                ),\n",
        "                density=5.0,\n",
        "                friction=0.1,\n",
        "                categoryBits=0x0010,\n",
        "                maskBits=0x001,  # collide only with ground\n",
        "                restitution=0.0,\n",
        "            ),  # 0.99 bouncy\n",
        "        )\n",
        "        self.lander.color1 = (0.5, 0.4, 0.9)\n",
        "        self.lander.color2 = (0.3, 0.3, 0.5)\n",
        "        self.lander.ApplyForceToCenter(\n",
        "            (\n",
        "                self.np_random.uniform(-INITIAL_RANDOM, INITIAL_RANDOM),\n",
        "                self.np_random.uniform(-INITIAL_RANDOM, INITIAL_RANDOM),\n",
        "            ),\n",
        "            True,\n",
        "        )\n",
        "\n",
        "        self.legs = []\n",
        "        for i in [-1, +1]:\n",
        "            leg = self.world.CreateDynamicBody(\n",
        "                position=(VIEWPORT_W / SCALE / 2 - i * LEG_AWAY / SCALE, initial_y),\n",
        "                angle=(i * 0.05),\n",
        "                fixtures=fixtureDef(\n",
        "                    shape=polygonShape(box=(LEG_W / SCALE, LEG_H / SCALE)),\n",
        "                    density=1.0,\n",
        "                    restitution=0.0,\n",
        "                    categoryBits=0x0020,\n",
        "                    maskBits=0x001,\n",
        "                ),\n",
        "            )\n",
        "            leg.ground_contact = False\n",
        "            leg.color1 = (0.5, 0.4, 0.9)\n",
        "            leg.color2 = (0.3, 0.3, 0.5)\n",
        "            rjd = revoluteJointDef(\n",
        "                bodyA=self.lander,\n",
        "                bodyB=leg,\n",
        "                localAnchorA=(0, 0),\n",
        "                localAnchorB=(i * LEG_AWAY / SCALE, LEG_DOWN / SCALE),\n",
        "                enableMotor=True,\n",
        "                enableLimit=True,\n",
        "                maxMotorTorque=LEG_SPRING_TORQUE,\n",
        "                motorSpeed=+0.3 * i,  # low enough not to jump back into the sky\n",
        "            )\n",
        "            if i == -1:\n",
        "                rjd.lowerAngle = (\n",
        "                        +0.9 - 0.5\n",
        "                )  # The most esoteric numbers here, angled legs have freedom to travel within\n",
        "                rjd.upperAngle = +0.9\n",
        "            else:\n",
        "                rjd.lowerAngle = -0.9\n",
        "                rjd.upperAngle = -0.9 + 0.5\n",
        "            leg.joint = self.world.CreateJoint(rjd)\n",
        "            self.legs.append(leg)\n",
        "\n",
        "        self.drawlist = [self.lander] + self.legs\n",
        "        \n",
        "\n",
        "        return self.step(np.array([0, 0]) if self.continuous else 0)[0]\n",
        "\n",
        "    def step(self, action):\n",
        "        if self.continuous:\n",
        "            action = np.clip(action, -1, +1).astype(np.float32)\n",
        "        else:\n",
        "            assert self.action_space.contains(action), \"%r (%s) invalid \" % (\n",
        "                action,\n",
        "                type(action),\n",
        "            )\n",
        "\n",
        "        # Engines\n",
        "        tip = (math.sin(self.lander.angle), math.cos(self.lander.angle))\n",
        "        side = (-tip[1], tip[0])\n",
        "        dispersion = [self.np_random.uniform(-1.0, +1.0) / SCALE for _ in range(2)]\n",
        "\n",
        "        m_power = 0.0\n",
        "        if (self.continuous and action[0] > 0.0) or (\n",
        "            not self.continuous and action == 2\n",
        "        ):\n",
        "            # Main engine\n",
        "            if self.continuous:\n",
        "                m_power = (np.clip(action[0], 0.0, 1.0) + 1.0) * 0.5  # 0.5..1.0\n",
        "                assert m_power >= 0.5 and m_power <= 1.0\n",
        "            else:\n",
        "                m_power = 1.0\n",
        "            ox = (\n",
        "                tip[0] * (4 / SCALE + 2 * dispersion[0]) + side[0] * dispersion[1]\n",
        "            )  # 4 is move a bit downwards, +-2 for randomness\n",
        "            oy = -tip[1] * (4 / SCALE + 2 * dispersion[0]) - side[1] * dispersion[1]\n",
        "            impulse_pos = (self.lander.position[0] + ox, self.lander.position[1] + oy)\n",
        "            p = self._create_particle(\n",
        "                3.5,  # 3.5 is here to make particle speed adequate\n",
        "                impulse_pos[0],\n",
        "                impulse_pos[1],\n",
        "                m_power,\n",
        "            )  # particles are just a decoration\n",
        "            p.ApplyLinearImpulse(\n",
        "                (ox * MAIN_ENGINE_POWER * m_power, oy * MAIN_ENGINE_POWER * m_power),\n",
        "                impulse_pos,\n",
        "                True,\n",
        "            )\n",
        "            self.lander.ApplyLinearImpulse(\n",
        "                (-ox * MAIN_ENGINE_POWER * m_power, -oy * MAIN_ENGINE_POWER * m_power),\n",
        "                impulse_pos,\n",
        "                True,\n",
        "            )\n",
        "\n",
        "        s_power = 0.0\n",
        "        if (self.continuous and np.abs(action[1]) > 0.5) or (\n",
        "            not self.continuous and action in [1, 3]\n",
        "        ):\n",
        "            # Orientation engines\n",
        "            if self.continuous:\n",
        "                direction = np.sign(action[1])\n",
        "                s_power = np.clip(np.abs(action[1]), 0.5, 1.0)\n",
        "                assert s_power >= 0.5 and s_power <= 1.0\n",
        "            else:\n",
        "                direction = action - 2\n",
        "                s_power = 1.0\n",
        "            ox = tip[0] * dispersion[0] + side[0] * (\n",
        "                3 * dispersion[1] + direction * SIDE_ENGINE_AWAY / SCALE\n",
        "            )\n",
        "            oy = -tip[1] * dispersion[0] - side[1] * (\n",
        "                3 * dispersion[1] + direction * SIDE_ENGINE_AWAY / SCALE\n",
        "            )\n",
        "            impulse_pos = (\n",
        "                self.lander.position[0] + ox - tip[0] * 17 / SCALE,\n",
        "                self.lander.position[1] + oy + tip[1] * SIDE_ENGINE_HEIGHT / SCALE,\n",
        "            )\n",
        "            p = self._create_particle(0.7, impulse_pos[0], impulse_pos[1], s_power)\n",
        "            p.ApplyLinearImpulse(\n",
        "                (ox * SIDE_ENGINE_POWER * s_power, oy * SIDE_ENGINE_POWER * s_power),\n",
        "                impulse_pos,\n",
        "                True,\n",
        "            )\n",
        "            self.lander.ApplyLinearImpulse(\n",
        "                (-ox * SIDE_ENGINE_POWER * s_power, -oy * SIDE_ENGINE_POWER * s_power),\n",
        "                impulse_pos,\n",
        "                True,\n",
        "            )\n",
        "\n",
        "        self.world.Step(1.0 / FPS, 6 * 30, 2 * 30)\n",
        "\n",
        "        pos = self.lander.position\n",
        "        # print([pos.x,pos.y])\n",
        "        vel = self.lander.linearVelocity\n",
        "        state = [\n",
        "            (pos.x - VIEWPORT_W / SCALE / 2) / (VIEWPORT_W / SCALE / 2), # 0: x position\n",
        "            (pos.y - (self.helipad_y + LEG_DOWN / SCALE)) / (VIEWPORT_H / SCALE / 2), # 1: y position\n",
        "            vel.x * (VIEWPORT_W / SCALE / 2) / FPS, # 2\n",
        "            vel.y * (VIEWPORT_H / SCALE / 2) / FPS, # 3\n",
        "            self.lander.angle, # 4\n",
        "            20.0 * self.lander.angularVelocity / FPS, # 5\n",
        "            1.0 if self.legs[0].ground_contact else 0.0, # 6\n",
        "            1.0 if self.legs[1].ground_contact else 0.0, # 7\n",
        "\n",
        "            (pos.x - self.obs_coords[0] / SCALE) / (VIEWPORT_W / SCALE / 2), # 8: x position\n",
        "            (pos.y - self.obs_coords[1] / SCALE) / (VIEWPORT_H / SCALE / 2), # 9: y position\n",
        "\n",
        "        ]\n",
        "        assert len(state) == 10\n",
        "\n",
        "        # ----------------------------------------------------------------\n",
        "        # reward\n",
        "        # distance_to_obstacle = np.sqrt((pos.x - (self.obs_coords[0] +\n",
        "        #                                     VIEWPORT_W / SCALE / 2)) ** 2 +\n",
        "        #                         (pos.y - (self.obs_coords[1] +\n",
        "\n",
        "        #                                   (self.helipad_y + LEG_DOWN / SCALE))) ** 2)\n",
        "        distance_to_obstacle = np.sqrt(state[8] * state[8] + state[9] * state[9])\n",
        "\n",
        "        # if (distance_to_obstacle <= (1)):\n",
        "        #     print('dangerously close to obstacle!')\n",
        "\n",
        "        reward = 0\n",
        "        shaping = (\n",
        "            # If the lander moves away from the landing pad, it loses reward\n",
        "            - 100 * np.sqrt(state[0] * state[0] + state[1] * state[1]) # Euclidean distance\n",
        "            - 50 * np.sqrt(state[2] * state[2] + state[3] * state[3])\n",
        "\n",
        "            - 100 * abs(state[4])\n",
        "            # Each leg with ground contact is +10 points.\n",
        "            + 10 * state[6]\n",
        "            + 10 * state[7]\n",
        "            - 50 * (distance_to_obstacle <= (20 / SCALE)) # obstacles \n",
        "        )  # And ten points for legs contact, the idea is if you\n",
        "        # lose contact again after landing, you get negative reward\n",
        "        if self.prev_shaping is not None:\n",
        "            reward = shaping - self.prev_shaping\n",
        "        self.prev_shaping = shaping\n",
        "\n",
        "        # Firing the main engine is -0.3 points each frame. \n",
        "        reward -= (\n",
        "            m_power * 0.30\n",
        "        )  # less fuel spent is better, about -30 for heuristic landing\n",
        "        # Firing the side engine is -0.03 points each frame.\n",
        "        reward -= s_power * 0.03\n",
        "\n",
        "        done = False\n",
        "        if self.game_over or abs(state[0]) >= 1.0: # crashed?\n",
        "            done = True\n",
        "            reward = -100\n",
        "        if not self.lander.awake and (np.sqrt(state[0] * state[0] + state[1] * state[1]) == 0) and (np.sqrt(state[2] * state[2] + state[3] * state[3])==0): # rest\n",
        "            done = True\n",
        "            reward = +200\n",
        "\n",
        "        return np.array(state, dtype=np.float32), reward, done, {}\n",
        "        # ----------------------------------------------------------------\n",
        "\n",
        "\n",
        "    def render(self, mode=\"human\"):\n",
        "        from gym.envs.classic_control import rendering\n",
        "\n",
        "        if self.viewer is None:\n",
        "            self.viewer = rendering.Viewer(VIEWPORT_W, VIEWPORT_H)\n",
        "            self.viewer.set_bounds(0, VIEWPORT_W / SCALE, 0, VIEWPORT_H / SCALE)\n",
        "\n",
        "        for obj in self.particles:\n",
        "            obj.ttl -= 0.15\n",
        "            obj.color1 = (\n",
        "                max(0.2, 0.2 + obj.ttl),\n",
        "                max(0.2, 0.5 * obj.ttl),\n",
        "                max(0.2, 0.5 * obj.ttl),\n",
        "            )\n",
        "            obj.color2 = (\n",
        "                max(0.2, 0.2 + obj.ttl),\n",
        "                max(0.2, 0.5 * obj.ttl),\n",
        "                max(0.2, 0.5 * obj.ttl),\n",
        "            )\n",
        "\n",
        "        self._clean_particles(False)\n",
        "        # print('drawlist')\n",
        "        # print(self.drawlist)\n",
        "        for p in self.sky_polys:\n",
        "            self.viewer.draw_polygon(p, color=(0, 0, 0))\n",
        "        # editing below line to draw obstacle\n",
        "        for obj in self.particles + self.drawlist:\n",
        "            for f in obj.fixtures:\n",
        "                trans = f.body.transform\n",
        "                if type(f.shape) is circleShape:\n",
        "                    t = rendering.Transform(translation=trans * f.shape.pos)\n",
        "                    self.viewer.draw_circle(\n",
        "                        f.shape.radius, 20, color=obj.color1, filled=True\n",
        "                    ).add_attr(t)\n",
        "                    self.viewer.draw_circle(\n",
        "                        f.shape.radius, 20, color=obj.color2, filled=False, linewidth=2\n",
        "                    ).add_attr(t)\n",
        "                    # t = rendering.Transform((100, 100))  # Position\n",
        "                    # self.viewer.draw_circle(20).add_attr(t)  # Add transform for position\n",
        "                    # self.viewer.render()\n",
        "                else:\n",
        "                    path = [trans * v for v in f.shape.vertices]\n",
        "                    # print('poly shape in object fixtures')\n",
        "                    # print(f)\n",
        "                    self.viewer.draw_polygon(path, color=obj.color1)\n",
        "                    path.append(path[0])\n",
        "                    self.viewer.draw_polyline(path, color=obj.color2, linewidth=2)\n",
        "\n",
        "        for obj2 in [self.obstacle]:\n",
        "            # print('rendering obstacle')\n",
        "            # print(obj2)\n",
        "            for f in obj2.fixtures:\n",
        "                trans = f.body.transform\n",
        "                if type(f.shape) is circleShape:\n",
        "                    # print('printing circle of radius')\n",
        "                    #t = rendering.Transform(translation=trans * f.shape.pos)\n",
        "                    t = rendering.Transform((self.obs_coords[0], self.obs_coords[1]))\n",
        "                    # print(f.shape.radius)\n",
        "                    self.viewer.draw_circle(\n",
        "                        f.shape.radius, 20, color=obj2.color1, filled=True\n",
        "                    ).add_attr(t)\n",
        "                    self.viewer.draw_circle(\n",
        "                        f.shape.radius, 20, color=obj2.color2, filled=False, linewidth=2\n",
        "                    ).add_attr(t)\n",
        "                    # t = rendering.Transform((10, 10))  # Position\n",
        "                    # self.viewer.draw_circle(2).add_attr(t)  # Add transform for position\n",
        "                    # self.viewer.render()\n",
        "                else:\n",
        "                    path = [trans * v for v in f.shape.vertices]\n",
        "                    # print('poly shape in object fixtures')\n",
        "                    # print(f)\n",
        "                    self.viewer.draw_polygon(path, color=obj2.color1)\n",
        "                    path.append(path[0])\n",
        "                    self.viewer.draw_polyline(path, color=obj2.color2, linewidth=2)\n",
        "\n",
        "        for x in [self.helipad_x1, self.helipad_x2]:\n",
        "            flagy1 = self.helipad_y\n",
        "            flagy2 = flagy1 + 50 / SCALE\n",
        "            self.viewer.draw_polyline([(x, flagy1), (x, flagy2)], color=(1, 1, 1))\n",
        "            self.viewer.draw_polygon(\n",
        "                [\n",
        "                    (x, flagy2),\n",
        "                    (x, flagy2 - 10 / SCALE),\n",
        "                    (x + 25 / SCALE, flagy2 - 5 / SCALE),\n",
        "                ],\n",
        "                color=(0.8, 0.8, 0),\n",
        "            )\n",
        "\n",
        "        return self.viewer.render(return_rgb_array=mode == \"rgb_array\")\n",
        "\n",
        "\n",
        "    \n",
        "  # def reset(self):\n",
        "  #     pass  # reward, done, info can't be included\n",
        "\n",
        "  # def render(self, mode='human'):\n",
        "  #     pass\n",
        "\n",
        "  # def close(self):\n",
        "  #     pass"
      ],
      "metadata": {
        "id": "7Nxu5rsZ4MH1"
      },
      "execution_count": 50,
      "outputs": []
    },
    {
      "cell_type": "markdown",
      "source": [
        "##### with new reward"
      ],
      "metadata": {
        "id": "Hk3RJY11A0d1"
      }
    },
    {
      "cell_type": "code",
      "source": [
        "class Custom_LunarLander_reward(LunarLander):\n",
        "    metadata = {\"render.modes\": [\"human\", \"rgb_array\"], \"video.frames_per_second\": FPS}\n",
        "    continuous = False\n",
        "\n",
        "    def __init__(\n",
        "        self,\n",
        "        # render_mode: Optional[str] = None,\n",
        "        continuous: bool = False,\n",
        "        gravity: float = -10.0,\n",
        "        enable_wind: bool = False,\n",
        "        wind_power: float = 15.0,\n",
        "        turbulence_power: float = 1.5,\n",
        "    ):\n",
        "        # EzPickle.__init__(self)\n",
        "        LunarLander.__init__(self)\n",
        "\n",
        "        assert (\n",
        "            -12.0 < gravity and gravity < 0.0\n",
        "        ), f\"gravity (current value: {gravity}) must be between -12 and 0\"\n",
        "        self.gravity = gravity\n",
        "\n",
        "        if 0.0 > wind_power or wind_power > 20.0:\n",
        "            warnings.warn(\n",
        "                colorize(\n",
        "                    f\"WARN: wind_power value is recommended to be between 0.0 and 20.0, (current value: {wind_power})\",\n",
        "                    \"yellow\",\n",
        "                ),\n",
        "            )\n",
        "        self.wind_power = wind_power\n",
        "\n",
        "        if 0.0 > turbulence_power or turbulence_power > 2.0:\n",
        "            warnings.warn(\n",
        "                colorize(\n",
        "                    f\"WARN: turbulence_power value is recommended to be between 0.0 and 2.0, (current value: {turbulence_power})\",\n",
        "                    \"yellow\",\n",
        "                ),\n",
        "            )\n",
        "        self.turbulence_power = turbulence_power\n",
        "\n",
        "        self.enable_wind = enable_wind\n",
        "        # self.wind_idx = np.random.randint(-9999, 9999)\n",
        "        # self.torque_idx = np.random.randint(-9999, 9999)\n",
        "\n",
        "        # self.screen: pygame.Surface = None\n",
        "        # self.clock = None\n",
        "        # self.isopen = True\n",
        "        # self.world = Box2D.b2World(gravity=(0, gravity))\n",
        "        # self.moon = None\n",
        "        # self.lander: Optional[Box2D.b2Body] = None\n",
        "        # self.particles = []\n",
        "\n",
        "        # self.prev_reward = None\n",
        "\n",
        "        self.continuous = continuous\n",
        "\n",
        "        # low = np.array(\n",
        "        #     [\n",
        "        #         # these are bounds for position\n",
        "        #         # realistically the environment should have ended\n",
        "        #         # long before we reach more than 50% outside\n",
        "        #         -1.5,\n",
        "        #         -1.5,\n",
        "        #         # velocity bounds is 5x rated speed\n",
        "        #         -5.0,\n",
        "        #         -5.0,\n",
        "        #         -math.pi,\n",
        "        #         -5.0,\n",
        "        #         -0.0,\n",
        "        #         -0.0,\n",
        "        #     ]\n",
        "        # ).astype(np.float32)\n",
        "        # high = np.array(\n",
        "        #     [\n",
        "        #         # these are bounds for position\n",
        "        #         # realistically the environment should have ended\n",
        "        #         # long before we reach more than 50% outside\n",
        "        #         1.5,\n",
        "        #         1.5,\n",
        "        #         # velocity bounds is 5x rated speed\n",
        "        #         5.0,\n",
        "        #         5.0,\n",
        "        #         math.pi,\n",
        "        #         5.0,\n",
        "        #         1.0,\n",
        "        #         1.0,\n",
        "        #     ]\n",
        "        # ).astype(np.float32)\n",
        "\n",
        "        # # useful range is -1 .. +1, but spikes can be higher\n",
        "        # self.observation_space = spaces.Box(low, high)\n",
        "\n",
        "        # if self.continuous:\n",
        "        #     # Action is two floats [main engine, left-right engines].\n",
        "        #     # Main engine: -1..0 off, 0..+1 throttle from 50% to 100% power. Engine can't work with less than 50% power.\n",
        "        #     # Left-right:  -1.0..-0.5 fire left engine, +0.5..+1.0 fire right engine, -0.5..0.5 off\n",
        "        #     self.action_space = spaces.Box(-1, +1, (2,), dtype=np.float32)\n",
        "        # else:\n",
        "        #     # Nop, fire left engine, main engine, right engine\n",
        "        #     self.action_space = spaces.Discrete(4)\n",
        "\n",
        "        # self.render_mode = render_mode\n",
        "        # self.renderer = Renderer(self.render_mode, self._render)\n",
        "        \n",
        "\n",
        "    def step(self, action):\n",
        "        if self.continuous:\n",
        "            action = np.clip(action, -1, +1).astype(np.float32)\n",
        "        else:\n",
        "            assert self.action_space.contains(action), \"%r (%s) invalid \" % (\n",
        "                action,\n",
        "                type(action),\n",
        "            )\n",
        "\n",
        "        # Engines\n",
        "        tip = (math.sin(self.lander.angle), math.cos(self.lander.angle))\n",
        "        side = (-tip[1], tip[0])\n",
        "        dispersion = [self.np_random.uniform(-1.0, +1.0) / SCALE for _ in range(2)]\n",
        "\n",
        "        m_power = 0.0\n",
        "        if (self.continuous and action[0] > 0.0) or (\n",
        "            not self.continuous and action == 2\n",
        "        ):\n",
        "            # Main engine\n",
        "            if self.continuous:\n",
        "                m_power = (np.clip(action[0], 0.0, 1.0) + 1.0) * 0.5  # 0.5..1.0\n",
        "                assert m_power >= 0.5 and m_power <= 1.0\n",
        "            else:\n",
        "                m_power = 1.0\n",
        "            ox = (\n",
        "                tip[0] * (4 / SCALE + 2 * dispersion[0]) + side[0] * dispersion[1]\n",
        "            )  # 4 is move a bit downwards, +-2 for randomness\n",
        "            oy = -tip[1] * (4 / SCALE + 2 * dispersion[0]) - side[1] * dispersion[1]\n",
        "            impulse_pos = (self.lander.position[0] + ox, self.lander.position[1] + oy)\n",
        "            p = self._create_particle(\n",
        "                3.5,  # 3.5 is here to make particle speed adequate\n",
        "                impulse_pos[0],\n",
        "                impulse_pos[1],\n",
        "                m_power,\n",
        "            )  # particles are just a decoration\n",
        "            p.ApplyLinearImpulse(\n",
        "                (ox * MAIN_ENGINE_POWER * m_power, oy * MAIN_ENGINE_POWER * m_power),\n",
        "                impulse_pos,\n",
        "                True,\n",
        "            )\n",
        "            self.lander.ApplyLinearImpulse(\n",
        "                (-ox * MAIN_ENGINE_POWER * m_power, -oy * MAIN_ENGINE_POWER * m_power),\n",
        "                impulse_pos,\n",
        "                True,\n",
        "            )\n",
        "\n",
        "        s_power = 0.0\n",
        "        if (self.continuous and np.abs(action[1]) > 0.5) or (\n",
        "            not self.continuous and action in [1, 3]\n",
        "        ):\n",
        "            # Orientation engines\n",
        "            if self.continuous:\n",
        "                direction = np.sign(action[1])\n",
        "                s_power = np.clip(np.abs(action[1]), 0.5, 1.0)\n",
        "                assert s_power >= 0.5 and s_power <= 1.0\n",
        "            else:\n",
        "                direction = action - 2\n",
        "                s_power = 1.0\n",
        "            ox = tip[0] * dispersion[0] + side[0] * (\n",
        "                3 * dispersion[1] + direction * SIDE_ENGINE_AWAY / SCALE\n",
        "            )\n",
        "            oy = -tip[1] * dispersion[0] - side[1] * (\n",
        "                3 * dispersion[1] + direction * SIDE_ENGINE_AWAY / SCALE\n",
        "            )\n",
        "            impulse_pos = (\n",
        "                self.lander.position[0] + ox - tip[0] * 17 / SCALE,\n",
        "                self.lander.position[1] + oy + tip[1] * SIDE_ENGINE_HEIGHT / SCALE,\n",
        "            )\n",
        "            p = self._create_particle(0.7, impulse_pos[0], impulse_pos[1], s_power)\n",
        "            p.ApplyLinearImpulse(\n",
        "                (ox * SIDE_ENGINE_POWER * s_power, oy * SIDE_ENGINE_POWER * s_power),\n",
        "                impulse_pos,\n",
        "                True,\n",
        "            )\n",
        "            self.lander.ApplyLinearImpulse(\n",
        "                (-ox * SIDE_ENGINE_POWER * s_power, -oy * SIDE_ENGINE_POWER * s_power),\n",
        "                impulse_pos,\n",
        "                True,\n",
        "            )\n",
        "\n",
        "        self.world.Step(1.0 / FPS, 6 * 30, 2 * 30)\n",
        "\n",
        "        pos = self.lander.position\n",
        "        vel = self.lander.linearVelocity\n",
        "        state = [\n",
        "            (pos.x - VIEWPORT_W / SCALE / 2) / (VIEWPORT_W / SCALE / 2), # 0: x position\n",
        "            (pos.y - (self.helipad_y + LEG_DOWN / SCALE)) / (VIEWPORT_H / SCALE / 2), # 1: y position\n",
        "            vel.x * (VIEWPORT_W / SCALE / 2) / FPS, # 2\n",
        "            vel.y * (VIEWPORT_H / SCALE / 2) / FPS, # 3\n",
        "            self.lander.angle, # 4\n",
        "            20.0 * self.lander.angularVelocity / FPS, # 5\n",
        "            1.0 if self.legs[0].ground_contact else 0.0, # 6\n",
        "            1.0 if self.legs[1].ground_contact else 0.0, # 7\n",
        "        ]\n",
        "        assert len(state) == 8\n",
        "\n",
        "        # ----------------------------------------------------------------\n",
        "        # reward\n",
        "        reward = 0\n",
        "        shaping = (\n",
        "            # If the lander moves away from the landing pad, it loses reward\n",
        "            -100 * np.sqrt(state[0] * state[0] + state[1] * state[1]) # Euclidean distance\n",
        "            - 100 * np.sqrt(state[2] * state[2] + state[3] * state[3])\n",
        "\n",
        "            - 100 * abs(state[4])\n",
        "            # Each leg with ground contact is +10 points.\n",
        "            + 10 * state[6]\n",
        "            + 10 * state[7]\n",
        "        )  # And ten points for legs contact, the idea is if you\n",
        "        # lose contact again after landing, you get negative reward\n",
        "        if self.prev_shaping is not None:\n",
        "            reward = shaping - self.prev_shaping\n",
        "        self.prev_shaping = shaping\n",
        "\n",
        "        # Firing the main engine is -0.3 points each frame. \n",
        "        reward -= (\n",
        "            m_power * 0.30\n",
        "        )  # less fuel spent is better, about -30 for heuristic landing\n",
        "        # Firing the side engine is -0.03 points each frame.\n",
        "        reward -= s_power * 0.03\n",
        "\n",
        "        done = False\n",
        "        if self.game_over or abs(state[0]) >= 1.0: # crashed?\n",
        "            done = True\n",
        "            reward = -100\n",
        "        if not self.lander.awake and (np.sqrt(state[0] * state[0] + state[1] * state[1]) == 0) and (np.sqrt(state[2] * state[2] + state[3] * state[3])==0): # rest\n",
        "            done = True\n",
        "            reward = +200\n",
        "        return np.array(state, dtype=np.float32), reward, done, {}\n",
        "        # ----------------------------------------------------------------\n",
        "\n",
        "\n",
        "\n",
        "    \n",
        "  # def reset(self):\n",
        "  #     pass  # reward, done, info can't be included\n",
        "\n",
        "  # def render(self, mode='human'):\n",
        "  #     pass\n",
        "\n",
        "  # def close(self):\n",
        "  #     pass"
      ],
      "metadata": {
        "id": "0DW6wn84SBWf"
      },
      "execution_count": null,
      "outputs": []
    },
    {
      "cell_type": "markdown",
      "source": [
        "check environment"
      ],
      "metadata": {
        "id": "xGf0_9im0Y3R"
      }
    },
    {
      "cell_type": "markdown",
      "source": [
        "#### register environment"
      ],
      "metadata": {
        "id": "DzZ83S3UzBYc"
      }
    },
    {
      "cell_type": "code",
      "source": [
        "new_env = Custom_LunarLander_obs()\n",
        "new_env"
      ],
      "metadata": {
        "colab": {
          "base_uri": "https://localhost:8080/"
        },
        "id": "GdKLT2SiGCiV",
        "outputId": "2450d449-8ea8-4869-b457-bb487ba46aa9"
      },
      "execution_count": 23,
      "outputs": [
        {
          "output_type": "execute_result",
          "data": {
            "text/plain": [
              "<__main__.Custom_LunarLander_obs at 0x7fdc0f17e510>"
            ]
          },
          "metadata": {},
          "execution_count": 23
        }
      ]
    },
    {
      "cell_type": "code",
      "source": [
        "from stable_baselines3.common.env_checker import check_env\n",
        "check_env(new_env)"
      ],
      "metadata": {
        "id": "kG6IM6zW2IPm"
      },
      "execution_count": 24,
      "outputs": []
    },
    {
      "cell_type": "code",
      "source": [
        "from gym.envs.registration import register\n",
        "# Example for the CartPole environment\n",
        "register(\n",
        "    # unique identifier for the env `name-version`\n",
        "    id=\"LunarLander-v4\",\n",
        "    # path to the class for creating the env\n",
        "    # Note: entry_point also accept a class as input (and not only a string)\n",
        "    entry_point= Custom_LunarLander_obs,\n",
        "    # Max number of steps per episode, using a `TimeLimitWrapper`\n",
        "    max_episode_steps=1000,\n",
        ")"
      ],
      "metadata": {
        "colab": {
          "base_uri": "https://localhost:8080/"
        },
        "id": "C1cIXPTaJsQG",
        "outputId": "34fdff73-635b-4303-d09e-d5a13c933876"
      },
      "execution_count": 46,
      "outputs": [
        {
          "output_type": "stream",
          "name": "stderr",
          "text": [
            "/usr/local/lib/python3.7/dist-packages/gym/envs/registration.py:216: UserWarning: \u001b[33mWARN: Overriding environment LunarLander-v4\u001b[0m\n",
            "  logger.warn(\"Overriding environment {}\".format(id))\n"
          ]
        }
      ]
    },
    {
      "cell_type": "markdown",
      "source": [
        "#### define model in new env"
      ],
      "metadata": {
        "id": "KdG01o1IzxGG"
      }
    },
    {
      "cell_type": "markdown",
      "metadata": {
        "execution": {},
        "id": "kMkD1Ku8zq9q"
      },
      "source": [
        "Now, let us setup our model and the DQN algorithm. "
      ]
    },
    {
      "cell_type": "code",
      "execution_count": 10,
      "metadata": {
        "execution": {},
        "id": "hun_d8rYzq9p"
      },
      "outputs": [],
      "source": [
        "nn_layers = [64,64] #This is the configuration of your neural network. Currently, we have two layers, each consisting of 64 neurons.\n",
        "                    #If you want three layers with 64 neurons each, set the value to [64,64,64] and so on.\n",
        "\n",
        "learning_rate = 0.001 #This is the step-size with which the gradient descent is carried out.\n",
        "                      #Tip: Use smaller step-sizes for larger networks."
      ]
    },
    {
      "cell_type": "code",
      "execution_count": 47,
      "metadata": {
        "execution": {},
        "id": "5J0MmqyPzq9q"
      },
      "outputs": [],
      "source": [
        "log_dir = \"/tmp/gym/\"\n",
        "os.makedirs(log_dir, exist_ok=True)\n",
        "\n",
        "# Create environment\n",
        "env = gym.make('LunarLander-v4')\n",
        "#You can also load other environments like cartpole, MountainCar, Acrobot. Refer to https://gym.openai.com/docs/ for descriptions.\n",
        "#For example, if you would like to load Cartpole, just replace the above statement with \"env = gym.make('CartPole-v1')\".\n",
        "\n",
        "env = stable_baselines3.common.monitor.Monitor(env, log_dir )\n",
        "\n",
        "callback = EvalCallback(env,log_path = log_dir, deterministic=True) #For evaluating the performance of the agent periodically and logging the results.\n",
        "\n",
        "policy_kwargs = dict(activation_fn=torch.nn.ReLU,\n",
        "                     net_arch=nn_layers)\n",
        "model = DQN(\"MlpPolicy\", env, policy_kwargs = policy_kwargs,\n",
        "            learning_rate=learning_rate,\n",
        "            batch_size=1,  #for simplicity, we are not doing batch update.\n",
        "            buffer_size=1, #size of experience of replay buffer. Set to 1 as batch update is not done\n",
        "            learning_starts=1, #learning starts immediately!\n",
        "            gamma=0.99, #discount facto. range is between 0 and 1.\n",
        "            tau = 1,  #the soft update coefficient for updating the target network\n",
        "            target_update_interval=1, #update the target network immediately.\n",
        "            train_freq=(1,\"step\"), #train the network at every step.\n",
        "            max_grad_norm = 10, #the maximum value for the gradient clipping\n",
        "            exploration_initial_eps = 1, #initial value of random action probability\n",
        "            exploration_fraction = 0.5, #fraction of entire training period over which the exploration rate is reduced\n",
        "            gradient_steps = 1, #number of gradient steps\n",
        "            seed = 1, #seed for the pseudo random generators\n",
        "            verbose=0) #Set verbose to 1 to observe training logs. We encourage you to set the verbose to 1.\n",
        "\n",
        "# You can also experiment with other RL algorithms like A2C, PPO, DDPG etc. Refer to  https://stable-baselines3.readthedocs.io/en/master/guide/examples.html\n",
        "#for documentation. For example, if you would like to run DDPG, just replace \"DQN\" above with \"DDPG\"."
      ]
    },
    {
      "cell_type": "markdown",
      "source": [
        "#### visualize new environment"
      ],
      "metadata": {
        "id": "aFsU1I3KzLEL"
      }
    },
    {
      "cell_type": "code",
      "source": [
        "new_env = wrap_env(gym.make(\"LunarLander-v4\"))\n",
        "observation = new_env.reset()\n",
        "total_reward = 0\n",
        "\n",
        "while True:\n",
        "  new_env.render()\n",
        "  action, states = model.predict(observation, deterministic=True)\n",
        "  observation, reward, done, info = new_env.step(action)\n",
        "  total_reward += reward\n",
        "  if done:\n",
        "    break;\n",
        "\n",
        "# print(total_reward)\n",
        "new_env.close()\n",
        "show_video()"
      ],
      "metadata": {
        "id": "HeHfAR-g4ttm",
        "outputId": "8ca9c389-d181-4878-827b-ed14cac9491f",
        "colab": {
          "base_uri": "https://localhost:8080/",
          "height": 1000
        }
      },
      "execution_count": 48,
      "outputs": [
        {
          "output_type": "stream",
          "name": "stdout",
          "text": [
            "[9.92729663848877, 13.39511775970459]\n",
            "[9.853668212890625, 13.446956634521484]\n",
            "[9.77940845489502, 13.494834899902344]\n",
            "[9.704390525817871, 13.538732528686523]\n",
            "[9.628694534301758, 13.578560829162598]\n",
            "[9.55231761932373, 13.614374160766602]\n",
            "[9.475202560424805, 13.646159172058105]\n",
            "[9.39742374420166, 13.673858642578125]\n",
            "[9.318861961364746, 13.697482109069824]\n",
            "[9.23958969116211, 13.717082023620605]\n",
            "[9.159659385681152, 13.73258113861084]\n",
            "[9.07899284362793, 13.743948936462402]\n",
            "[8.997505187988281, 13.751221656799316]\n",
            "[8.915168762207031, 13.754387855529785]\n",
            "[8.831999778747559, 13.75345230102539]\n",
            "[8.748051643371582, 13.748455047607422]\n",
            "[8.663326263427734, 13.739302635192871]\n",
            "[8.577886581420898, 13.726009368896484]\n",
            "[8.49157428741455, 13.708559036254883]\n",
            "[8.404430389404297, 13.686922073364258]\n",
            "[8.316571235656738, 13.661160469055176]\n",
            "[8.228026390075684, 13.6311616897583]\n",
            "[8.138705253601074, 13.596877098083496]\n",
            "[8.048707962036133, 13.558348655700684]\n",
            "[7.957983016967773, 13.515512466430664]\n",
            "[7.866707801818848, 13.468218803405762]\n",
            "[7.774682998657227, 13.416576385498047]\n",
            "[7.681970119476318, 13.360527038574219]\n",
            "[7.5884857177734375, 13.300118446350098]\n",
            "[7.494302749633789, 13.235298156738281]\n",
            "[7.399348735809326, 13.166017532348633]\n",
            "[7.303678035736084, 13.092079162597656]\n",
            "[7.207315921783447, 13.013470649719238]\n",
            "[7.110210418701172, 12.930255889892578]\n",
            "[7.012451171875, 12.842280387878418]\n",
            "[6.914033889770508, 12.749719619750977]\n",
            "[6.8149189949035645, 12.652567863464355]\n",
            "[6.715182781219482, 12.55081844329834]\n",
            "[6.614811897277832, 12.444207191467285]\n",
            "[6.513646125793457, 12.334075927734375]\n",
            "[6.411595344543457, 12.220447540283203]\n",
            "[6.308835506439209, 12.10317325592041]\n",
            "[6.205238342285156, 11.98243236541748]\n",
            "[6.100950717926025, 11.857970237731934]\n",
            "[5.995907783508301, 11.729844093322754]\n",
            "[5.890054702758789, 11.598053932189941]\n",
            "[5.783483505249023, 11.46249008178711]\n",
            "[5.6759772300720215, 11.323232650756836]\n",
            "[5.567683696746826, 11.180074691772461]\n",
            "[5.458611011505127, 11.032971382141113]\n",
            "[5.348729133605957, 10.881963729858398]\n",
            "[5.238036155700684, 10.727025032043457]\n",
            "[5.126381874084473, 10.568202018737793]\n",
            "[5.013770580291748, 10.405498504638672]\n",
            "[4.900461673736572, 10.238680839538574]\n",
            "[4.786460876464844, 10.067765235900879]\n",
            "[4.671550750732422, 9.892840385437012]\n",
            "[4.55576753616333, 9.713875770568848]\n",
            "[4.439237594604492, 9.530853271484375]\n",
            "[4.32201623916626, 9.343689918518066]\n",
            "[4.204047203063965, 9.152405738830566]\n",
            "[4.085323333740234, 8.956954956054688]\n",
            "[3.9659416675567627, 8.757320404052734]\n",
            "[3.8459720611572266, 8.553567886352539]\n",
            "[3.7250685691833496, 8.3456449508667]\n",
            "[3.6033272743225098, 8.133474349975586]\n",
            "[3.480924367904663, 7.917086124420166]\n",
            "[3.3579323291778564, 7.6964850425720215]\n",
            "[3.2343430519104004, 7.471621513366699]\n",
            "[3.109825611114502, 7.24244499206543]\n",
            "[2.984480619430542, 7.00889778137207]\n",
            "[2.8582987785339355, 6.771100044250488]\n",
            "[2.7315196990966797, 6.5291008949279785]\n",
            "[2.6041791439056396, 6.282886981964111]\n",
            "[2.4759838581085205, 6.032242298126221]\n",
            "[2.3470730781555176, 5.777280330657959]\n",
            "[2.2173869609832764, 5.517930030822754]\n",
            "[2.086987257003784, 5.2542853355407715]\n",
            "[1.9558695554733276, 4.98637056350708]\n",
            "[1.824164628982544, 4.714113712310791]\n",
            "[1.6917362213134766, 4.437469959259033]\n",
            "[1.5584499835968018, 4.156411170959473]\n",
            "[1.4243299961090088, 3.871053457260132]\n",
            "[1.2925279140472412, 3.576766014099121]\n",
            "[1.1641979217529297, 3.270097255706787]\n",
            "[1.0381702184677124, 2.9527039527893066]\n",
            "[0.914570689201355, 2.6240592002868652]\n",
            "[0.8344470262527466, 2.522089958190918]\n"
          ]
        },
        {
          "output_type": "display_data",
          "data": {
            "text/plain": [
              "<IPython.core.display.HTML object>"
            ],
            "text/html": [
              "<video alt=\"test\" autoplay\n",
              "                loop controls style=\"height: 400px;\">\n",
              "                <source src=\"data:video/mp4;base64,AAAAIGZ0eXBpc29tAAACAGlzb21pc28yYXZjMW1wNDEAAAAIZnJlZQAARh9tZGF0AAACrgYF//+q3EXpvebZSLeWLNgg2SPu73gyNjQgLSBjb3JlIDE1MiByMjg1NCBlOWE1OTAzIC0gSC4yNjQvTVBFRy00IEFWQyBjb2RlYyAtIENvcHlsZWZ0IDIwMDMtMjAxNyAtIGh0dHA6Ly93d3cudmlkZW9sYW4ub3JnL3gyNjQuaHRtbCAtIG9wdGlvbnM6IGNhYmFjPTEgcmVmPTMgZGVibG9jaz0xOjA6MCBhbmFseXNlPTB4MzoweDExMyBtZT1oZXggc3VibWU9NyBwc3k9MSBwc3lfcmQ9MS4wMDowLjAwIG1peGVkX3JlZj0xIG1lX3JhbmdlPTE2IGNocm9tYV9tZT0xIHRyZWxsaXM9MSA4eDhkY3Q9MSBjcW09MCBkZWFkem9uZT0yMSwxMSBmYXN0X3Bza2lwPTEgY2hyb21hX3FwX29mZnNldD0tMiB0aHJlYWRzPTYgbG9va2FoZWFkX3RocmVhZHM9MSBzbGljZWRfdGhyZWFkcz0wIG5yPTAgZGVjaW1hdGU9MSBpbnRlcmxhY2VkPTAgYmx1cmF5X2NvbXBhdD0wIGNvbnN0cmFpbmVkX2ludHJhPTAgYmZyYW1lcz0zIGJfcHlyYW1pZD0yIGJfYWRhcHQ9MSBiX2JpYXM9MCBkaXJlY3Q9MSB3ZWlnaHRiPTEgb3Blbl9nb3A9MCB3ZWlnaHRwPTIga2V5aW50PTI1MCBrZXlpbnRfbWluPTI1IHNjZW5lY3V0PTQwIGludHJhX3JlZnJlc2g9MCByY19sb29rYWhlYWQ9NDAgcmM9Y3JmIG1idHJlZT0xIGNyZj0yMy4wIHFjb21wPTAuNjAgcXBtaW49MCBxcG1heD02OSBxcHN0ZXA9NCBpcF9yYXRpbz0xLjQwIGFxPTE6MS4wMACAAAAHSmWIhAAz//727L4FNhTIUJcRLMXaSnA+KqSAgHc0+cM25+qwTCapD+zfXyGV86BQoZXGpjfmFvkIb6ZnAOL2vdn8AunWlakQX27X1V5IeiUDso28Qkl0qaJAl6/VtP+OoNwnz66AUhSrJusBWMgih8Qq3NifLHowweFb6j+CIJtfVC6cJKrGRNRuUlU7gqlTObaZm+v3NFVwHQ4Ke1k4isc5WMC9Gs4K5KqFDn7+GX9iysv+OXWKx5Q4Yz3NxbHg54Xp8WTDxz7vGySk7qoAVRJ7a9pmYMxz82o+rzzIjML78OH7EJBxxUAAAAMAAASELpXtPGxwpckv+OzfMv6AAFfCyqOyFUEYEkF+HqNEWIxBajdLsCbheT9TKd/MsPnzKFW5YSQbhdQzQpOjP61oPQ6mtiE+YeqrtgPvAQTECyvXWbO7+vTPZqW3YoKvjHuV2tmIFOgh6pjbwOUGJtYGpq0AZ18nSu6Ktwqd962WR5uTAOktmzKhEsnGCOgFMv3S8GwniWq8/6KwmDWVfE6RcGLDpTwHMcByM9oNNhpOAEwLo1E+pQu6B09W1uhqf3G0Cq/Io46i3NBomf6Pte06Je2zAaze2hVBssOprk7Dpd10qOx7HXmkbyxHhMz/XNRFCphgprUHM9CkMmIJa8N083c3APBlR46TFIQ4C8zO8vQG03Ay34mfdd/YbX3Qo+gEBWaNORkNn6nMV1cCu/07294hCB1Wxv9UdPQ6+XKBguYyvJnaXuG4ARelICMyv9WPGKmnojmTmTKH84EwS6efdbDAHqYG6uy1v+vNW7VpCuH8QH0y5hY1A4ClfDW9J49BMRX7xhI9gZutu0VcHaAZxIQ5tTTuRIRXot7ubgkJwbhypzPudj8zOpKIQ/KPQ+VIrbp/lWVVciDALhsBa/2ChZISgLVj4Nw0l/EaiN3a3YcCxPMevvkeR6JsHH7z3brRnbEU5Ykp+f2yZpkQqOFB5b3wbVKLAsIgueCnLTbwHGANsG4ZMBBwHJZmD5d0a4ERcYAruL4OsTNGLbA1PpIEId0VfyQU/wE6leEEk8Mt6saVJocd/WEoSigv5/id111r8N7aNmRdAQ/UOPSR2pK5fQSVz9hddBboXfl8n3eQKXleYpZHWa3H/qFLhGTO3DbdA450yEuJM9NNaFLRnwBH+qkTKRXwwBBTJ9vlaEKsUQx6lhcNDwU30gWCdumIdnVZ8WX/CbYjocyg3//Uv323QCn259vfsLVXcURYyNOCTo4YkJmjNg6pXZxv7HGGKRaC6+0ChT/LHyt4+Qf6lwZULwRE/00FqKXFBq9AbGeYxqnnYyt01Tm529nRSN7CRgU8rAlgSVBtnUA2VCyP0VcAff1XURYyRLvB9UMtkwI6+GjC87l/Kf9hKI+p1a7Ga3pbC+G6oeo2afJULLrsamfcWPC6MnZ9VzYCY12wcFbjULM4et8Eu5r0L6MTXe94gfqspNK/E8+9RmbHXLdHPRRAFZqrWlz/gA6PgcBJ5bYopPd7nqHLCEigqXpARTOR30wBHbhgTOH+LmaMpvOkTEKhCvEYZu6UfhGTtP97/cV6lJAyLieyLacGi58VIlizE/LRbNjk6UZVtVN3mHYL4O9dpdA3FyEQDq+xMMCxMKoWrHqQWkOxfHJVyBI9iWcet+ZONpWSodp8H5JmuMU92Jpr7D+H2XWVNJcMyu71vysS221gn275zhDUFFOsHKV1///v3umKCprIPAzv2SNutysaQuwws/2LCFxaWSiWOESEg9BWzmhMzfLYpljMlu2HYL7l+1tJo2Tn8fr1dUzIHObxgbUBbsG59X0t9UKV/jAbD5psnydDAEwBd3CLHYwtXOD0SL8WvdChTnqHePMW/N/NliGJPn6yNMwLeXZRO9LfRMub3ME1xNG7x8KMc7cVjnQSBpoDz6J3nR2thNdzq8rDlpuO9S8gAOsT2mZrOIjZM33/00h/S9DP/OdG8/bpT44CR4wlSiTHAEzWBwOoYbB965JJq2NEWb1sAYJ+DGl6fCgPvUsaaAaGOTjlgLu56rG4Rtj70ekgH4WjajjO2VMTpjnGa7Usiu2+qDGLbUOh+Ufbo3OkNJbI4Tm46SeFKGJ779tMJSbsSeva8ec1PZnOB+oSd78pW7EnrcB0AmzUg55RSat8dN60k2BcL+lEKXEpoDz6J3nR4OwTBIjAACG/BZMWPMqE6ig/qHr8LJ/2r39vK1uQQfX1H9EG7Tgb6jmc7dzs9mqpVvZ0KzC7SzC8SzQt4NFRWeJPg50vflFSEL+DfqlS/JNUFTQmF/SiFL6tGatWid50eBFj7a/BKAAIXYLldfzADsfOXLbN3tnseWbI5GaRSsLAD3J/Kil57orPA26zQYjprs7xiYgkvAJ3fystSfh7Z9yogM3ZhxUN94cNpzOtVX967xTAx10XaCP2A9kHmepTV+lfFDoof3b1onRY+fK/MCcA0jF9zVQ0xsZDDgUduICiwHALCQAAATtBmiRsQz/+ningJaTxWC5KADw8hkHYao1i9qKVR0mRzdJlBGz8qXokPBeyrzoL3IYeGjuJcnk0xXVuMxTpbzFU1VtDAAADAAAGEu921TLSCBxlSkp8Hhuk2m/aHB2eYOi+xsI5yUAGWcUOKMjQI+MP+v/ON2FZ+Tv98BnIB6ewJWpigF8EASFljXEpT2u03W8/stXlCHJMF/jAbzRGS9bhWtnTnW06DDxYac9yRbdeImF4g1XvQ+HBGo+9X+cOZJQQSOesm6aOJ3OFKn3YEqGdqzmgYpdlkykzFbXgRiXxl4xIKN83hsmjAKK6nYOyWdbXvVtRGbstaLYMnw5BNABibE4gaPhSxs88yvzROgFBeIuZedxRR7VmLuJwNxrtkLrLQfEVjwQKe9p+fi4K8HzMT0vzcr4IGkMVz4AAAABgQZ5CeIR/D00qG1DTyM098L5XaATEK4tiTmve0eAA1hQBmP8Gbjwjz80TZ2ABBZYfgHKbKMTzGTplekWeX6fabv2+TpTH9qQUOcBjJfCmkKGFqXR6y29fOqs2WgiINlBBAAAASAGeYXRH/xcyyXnGqJHQZuGckpQFAB8/p72eT/ZZCFNMmAB0cg9AFmaXOlivZdmv+NfZucZDGnyDv5zZysIr1HOH8qVEB49ErAAAAE0BnmNqR/8UmrPygf+3BigBZNN0quuaWpa6WbN/I25A7/cAEHAAbq4MoFhZHy7N+IXyYsc7SbPcH7mXxTmg0dFuWymoSmACRmzfyEAakQAAAJpBmmhJqEFomUwIZ//+njk+oFtMoAD8QriEe8WwqArM1Y0DhyGMxHW4SYE1Bp4jCk3SFwTVKcC7mEMh9bpe6asunmzEgAAAAwADFRV3balUR4weEOmLnr83erfeYk0Ru8GeYq4k/kU/oTLP+U0D1hN1QFXd9lpRyequlpMWhsOo7mzb63BXfAJhB/1MRqH0Cjn6nw2dFc1ICYfNAAAAWEGehkURLCP/ERje+duqa403buGgtOEdeGR5JC+HqCW+jWABYg/e7FOwVTUicVOjO5tVrnXzxYFRs6utPNATPaJL+CUrxWu+VwgUBucHmoQffLWg+mcDkVUAAAA9AZ6ldEf/FzMjiynvwe1TxuZOlt+lAgAq56UkNY9XfP/QAfwKIRt+myYTlxbxhkpnaFJfW8WTQtzKvrmDUwAAADcBnqdqR/8W+Ej5/wAbR40OAUp1P5y+8q2W7GdhU0dOJoAA3TzFfCFbjlyZlqMOQM6HELYz4EbAAAAAhEGarEmoQWyZTAhf//6M6LBJEXebYDiAD9duaNNkhGxVRWG5qMoLjYUgRwF5UHuKSWIuY3TIAAADAAIqud7tqmWR6kmO5EfSAev/nr7Jso/owtHiTGBr3rQyl2ELGH+ZVwhwejCrUgiX8GiW0H2h59OFIq+x/pSaldzDbAXJPK6ig4pwaAAAADxBnspFFSwj/xOiIyJwALjBlAuZM8efUbWgnQAEKM6F0v2DsQLh4rghIoVexRo23d5TP8Toty7OofuS0ssAAAAlAZ7pdEf/FyVVMn1RslAABFiClPnONsF+X2nnvTYXcKgThNgGLAAAACoBnutqR/8ZpKRtQsrP6gjNOrtgAn5IOdpGuIQ4oJbdh0SGMaDcp66oG3AAAACbQZrwSahBbJlMCF///o0HAOIjsRD3wALR82UP434oW8sgt+U23m9wjRUhXCCZzciD+tzgSDAd4bwuWCsM4L1SWWvf/SwORQtDsl0SfX+vt3hPwAAAAwAIs9xTp77talUZGW6nk1uj32+6bt//KOuSYT1v5Yan4dl0I2PxYxmhdPTh+RyEG/HcymnFWFjV3hDz5CZVdGBrAXowK2EAAABFQZ8ORRUsI/8Tt/XLQHelqaSj357LqUALbin5ixkA2mqk2D4P4AHSx1I4sUHuTjTzCXfIlOSXEImP9LpADciAPYdQsGLjAAAAPwGfLXRH/xloiY+TeJOuAACTtHDQRd5nOHbeXnDkUCyMHAAiqcefnDVHCeG0onu83rZXwup7hCweXnpe0HsHzQAAACwBny9qR/8ZBUyShqhbph3RLMFUwAmwYMoDLHbSzo3hhjLrYtOBshThl6+EPAAAAJpBmzNJqEFsmUwIX//+jQrYunDpRsIADaEWAChTWH30WsIePcKUqWEVeI91NHiYLMYF1XHErL1aOqo7WNfHGK6B1JC41/VJEjkvMczk7syRRUHOaqD0TR/hj4Fs6ELFLiMVSAAAAwACZ3l0Pst7vvu1qVQ+xgSEdBytGWmn9croYKxWpWsQAfYyQmqyp+7aLS7PWTNjZRk2oBLwAAAATUGfUUUVLCP/EyR3WSZxikNUssgABWSH4fcTQ6sTewlNg9wAGWo1ufdX5jo6z5KpszGXuAwvGejSuZsMZfk9nRELEkiCVGR1cy224w1JAAAAQgGfcmpH/xlDdV5fK3SAFU6uTp/N5daF5E85VqDqSENMmKLdDSFXFTclwAAQIdCUa75+WQHos48b7ayKluFuLkgFXAAAALVBm3dJqEFsmUwIX//+jP2iaopSx/AaMfwpABmorZsvvHbBo4OknyA9G8yCWHcFRWgV4yov7AKxe8bwIDAP4oSUqh8alj2sQNqPBBvPSSf1i8V24K8VvwcIwN6vTYt+TUCK4SwAAAMAAF6Qrpxghh1+jrP0tE+zdlC162T8e9HAZV3AxXfdtUyx/qbK9vvB4M7HVCzz12HZtU1GvKRjJu/y02wYgziwpFp7k44UP5+9mMxAgAIOAAAAYkGflUUVLCP/FjIVivdu5GpHzY4zEALdoLRVQxVIfvugKofUWdkegJZ6/PaErjyvpuS8mcb5jQQs27gAcWT9N45Hyi1GUXRM2Vce/jC078sFunnSoFgOnX3UKEd2H1VlSC7hAAAAMgGftHRH/xy3yw5aBB9g6SFBUKrnKIOs+lRRzroABltIkDG5oEeIIMpKgwdFSQTI+NcqAAAAMwGftmpH/xzBbPyhYLt6a5QAfqD/9VrXpjkKdgAgtVlDv9VJfPuIgT8X4PgGIQQN0s2GFwAAAKRBm7lJqEFsmUwUTC///o0vMAM2qwoUegBnepo9/EG6hUFR0PzlMhn4lK4CBfocWkuBEKfPglvEadZXMOhtcjtGJ1Jqy2QAAAMAAAx7E79n9rDv30JROT+51gpsrZt6SkRwo2aXUmbcQxTHRDSxOq8sE/fdrUqhCkVaTSi8McBX+iVsJY0Bpft5pN7cUsm//omAVu2X98uWWoCthQrD2Z85noAR8QAAADcBn9hqR/8cDtHulAtiqo5hqxZPUiKw84eoAHem8vBlPN5xgGD4SaE/IXpfUAO4mf+2eB68WmIeAAAAy0Gb3UnhClJlMCF//o29Ok0qQS+IQAgPVPsu3JASeZ+Jimtt1zyvCHD+Ut9MhW9ITUzir2snQxWeUp2xO6hGFAt/LTAfEHO3UIAAAAMAHEpXUeux5O/zhaztMWU2jl8V0JQsP6YVRobFZWRflge5cMtTpwe4gkYgDLNYYe5DULSZHs14xngeJ4kUi3vdtUyxJ6BJmTC+1TPhpo5IYJz5UYuli8SuExN/1QS+mbuCHeAcFoCukstzCbjys4oJLJIiPXJUQ8X8aqoj/gK/AAAAikGf+0U0TCP/F0v4APYXW/P3df6oQMGK9fTMLIc3i4tkXXTle9UOYNhKWOa41mndnhJqUWKD+/baTy23tOPiN/Qc9F0utarn3kevGDRCq3QTwV1TDelMgAZOBa0O/SB4yAAW7i46Un4LAvN0ura28MWFjWYfqGe4nBeGChABKG4h1BOx2hpTsTxLwAAAAFwBnhp0R/8ghhCZQp70AA+tpWVZ2VU3XHnFAi2jr3xyiiVk+r1k8MYI24U6rCYsIKqek6QFeaHU/CtSAFh9b+4PIRMuS6fkvn3id69xAB5Ox0TSdyqslHbrioCDgQAAAEkBnhxqR/8gCiwbTAAjJxI3hpqPsWPrsK8mUj7A/Zet5y4Wzigw5BoUmcnedbLf1qGCrVLzeAFlBLcfTllmXshd4isAC14tAEnBAAAAwkGaH0moQWiZTBTwv/6NsxKgKej6LP1d2ndxZ/MfYU8StDcfY5b8zAE3IzABACLFozvQChNPb9CAAAADACYsLZkYvr/D/HrJhL9bWjAIGv60JEL73oCR77CYfAi2EZCyyzILLY0rsiWmCHff5T5Xg4TW571pRFnd921TLEdKEw3o4hvYxjAU2dQSLiV4xFdvDnxVpSXV3h9gt6xGd0zsNkCIjmydfT1IVXl+A//1ESRjV/n/4sSDnU+Oj+t17TBckAMKAAAAUQGePmpH/x+9olRQhWnw4SwANZL0Hh0XnbNUojpooUn4crG+RxMlfZjgJR/g1VHo0e5U0hAEp4zcyaEV3xi3ZOotP2mxlBKHNrAdWgCVSkMYsAAAAMlBmiJJ4QpSZTAhf/6NukntHjewlQVkAAdXyhKOs24Epoax/1JoeYpk7qnM6sx8AAADAAAXDq+Gn6hkcrajGAja36nDe24PkeE8alG3qfeYFrGsfIvwauWNNHTkOupgUrQ/SurUq7eSsIi0RA3V+ve7aplg0p/X0ZynH4DJRqwVTF9uACaZuV8vpS2tcsa8jvjXCpxWUIaVK97QbQ2ZtcvOLfMD1+2k53k8E0HrdJq/CUFQkZ6PfCnsPIsAIDTW2R6mgdmNImuQFBEAAABqQZ5ARTRMI/8YiN7l06Udcm40rjNIEjwsBpfM1CIxD/eL1cALc/hdHX16GYcRAgFBcU1BHhBMN7ilWPVI5yzjH9Hs8AsWwV8lSJPw+VduqIAEgoIfiDKn8txluptqUEpkS602nD27KThqwAAAAFUBnmFqR/8fdWezrCzzFTu5EiOmkUAAQzO2874uXwGL9Tg67AkAc9JNcXjHo1emi2AhZEUu5925t7DRC7JZ9y1dpXULbkR3IAVLfckzV0jOFE720A+ZAAABKEGaZUmoQWiZTAhX//47x4QAdxKWADHvDmyzNErfJhoA3rpwZ8EEcP+j+r8SSd7Tv8XvJVcMu7LDDelMdMbAL7gSAIn4LFGQSlsVA72Tk2jLU/Kj7vX1TQjXHcvG+ATWEiSf83MzeZqZxFMFp+X7CLXhAAADAAADAAhizIBR9ePad7Kr1io95iHufOkYkeFfTT/S5d7AUcIOWxodYLM0ZdA6rVVtWbT33a1KoOposzZ4KHumYoNESBU1bEl7wfJncHySkc/FSFv4WsQ2XzhuGIhp8ffQy0IwSd3yg4AfMwHak+gTdM4woL2F0lYYA7cUewjL0eQVBWnoSLPf/gljjaYtevCUuOPMFv7mPInde5G3HduU8qNgwRZXxKGQHmOpTUTlpSnawCggAAAAkkGeg0URLCP/HA8fwXKpapVUUAA32Q77Zq9RwqEIW2e7tgrvpj5tPGWCnLkFTPWglgIP1CB/cUqe5rWYQELEhAVV5mS5oEKJys1dTH9TsF0if5BEqPQUnO7JmuTSb6QMZ7dMVgRdwMB/P6oegBgKM+RK+FVL4KSx+ITUOrZPFOb91oiEm1OlNBRfymmCBedNzBxxAAAAYAGepGpH/yG6xAZW2VkKiO4k2A0QAE4wLaT2fWY4xsDRo/gBPMdhiqU3GBclCBPO0QZAjYmQfqumtfn5VltgpbBhioJAHqfrYOUEDug6l3CznJ7fXxQAOeOmwbkucDQGzQAAAPRBmqZJqEFsmUwIX//+jpD1bNpyzABOhn1zOTMRIW20BCduemGE5DuT+3Tbj2I00ED1LR8zwHVF2ZVbRR4pvLzyBycaebQGs4NsxDLYOgAAAwAAAwB2lIymCMz+Ab3yBu1yRhGkkH6631XzaIv4SCyCMu8t1T933bVMsQIIqH9SpyQ+2TbbfUb6Vjop1bSH6ie4tYM0erDkcuOpRDgXVmSwIAU69GNDFj3M/OlFeKHidNF3mAVZwcqHuIkkyi5LboGMon5UQ6vKTVMdHQ0fwUOkKp+zwlpD6sL5ODl3V//g9neYYaNx906L8a7OXX5Xpj9xiHTBAAABqEGayUnhClJlMCF//o5K807kM939nndtQAL184CKdoispUwyjZbxLS81T7KvniA1aRGuBe0prw+iZDfDAK0klnmtJKDYxRKqHvK/aAAAAwAAAwCuXfx05HkejCnY+B5o886F4OqYNs5xz+bsAWEYGy6FLhpnSC3bVWpj9aPeSSobQc8iPK/Hzf7BBOG/iSerdD6oNetDPyumbbUoCF/vu2qZYPmFoeQ/kh0lMGY8r/8TZU4IbfWtDhWRi3aj1XFGA6UDs/gWp1rmeW7GF3+oQSgRCrGsZNZ16q5PtQdPE5HNv9X9F37dYaXPECdkluRO0N8KTLt2iR/BTy6uDKY0xdUMUNRf30bOUiKqe6A2qfFguaRumZxxk5lBvuWU+R/kO80JQ7yn3Y59fnRYnRM/XIbDsm/33HZqWt3jy3e+trtbO+Rx882Qx2jBVnobbzEPMXBbrNBCLwetuQfAMGhmxMfjbSeLwETKyKQ/UISqaSOgw7yfkJ3nfujWIDi4zk5tMTQ+PQ6Q6cYL4CfFKiHOExX5H+5A1i4msu4lX5azdgMkBMsyX+SgA7sAAADQQZ7nRTRMI/8cYdyLIf7IAbreIEuG9pART04tOdduiKcN3gvZfh2ZhH1fEF1/dfkmh0i99fuf1y4CIKapmxUtXFQK4EJwLXuy8BIXWbUYfSPcH+/RBDnU0gZnzCvXnxtGc/86NKpWFqD6Ly9AyFIZTPwMTYoELeFikk6rNSMIuiQFPUXUnvciZGsueh0B6fzKvhy1lDxfhjeCV9IGOvBpfn4CP5drDP6FHvj0O8rAm6r3l/vX8dfBqahR0OcXPCcRV/4KalgawI/xWOuglQNFwAAAAKMBnwhqR/8pzOp3qt0oaiuEIGjs8AALmHAAAGuovznnvQ7mSs0twv1DaPMXVfKOcRbkzJ6D1TeT1h3TLx+ODrTR/X2i0QwGcO1uM0ZWwg3aE5UKoDy3pMMBMlGWdxt8HtW4G3lUI6PXM2aS9oFEVFCxWyzoVoaKsUGNGjX3rjN7n0+0R/U1TRnlfUwEcoxM3Swf10X4w+u964F6SvKOpsBOeCZgAAABP0GbCkmoQWiZTAhf//6OTAUt1EP58H4v0YAIXG25ZovtLfMqH0uAo259L7pbQwcuAAADAAADAJ2Ok74Ri7NDDJaM6Bgx6W0AdEVAXcORBM/7CFi7D/yHVhIF4mtf4VInpHbtOpulcXpy992tSqBiACPRmM3fy79Q8aZlttEk2ZcG24ddyKRTZulHeZp2ofyMZ+BT448I9AxiATm5qEwI5XJ/t45XLeoi6Aa7DhGqs2RUDvLyCm93TT29Qj94lGzfx9qz+tQwGmiujg6QogDKZlBSEwKk7pnnx764UGIpfb629dgsdheb/zByaoQ6PexMuEaMyalZSCy5jGoBBx8Yddmk9qPSkeCqKyuuMRyx86X9KCo3tRdxK/nnQnR9o7aP1aJnOMjnp3J0FRTMtnkM0pj3Gh2YLyD8IWtgoieWOmEAAAHNQZsuSeEKUmUwIX/+jlJNXSr4LYIp+lO38ILAAAADAAASOOAEI8aWZ2vgH6RiHmbt3s9aaoBhV3jyNgN9Zh24iiCHoJ95r/MpRN56D33bVMsGkwuARcpLZyPRx400CftdnNI6sAO9696zDFWud5FyPh+Au7W9Pp4o9gbi2I2yPz2LHSRFFJJiHlv1Gs4WxwmJxmAZtZcWbj1CyjijMCSn0BE/PQ9WQ3ACGvCGx+rjqMx4Doji9o3QEjVcHa5+qdttOLi/JMIbwsSLtdR0Dv/vblwa0sa59qsB267DU+SfiDzUhbLQqhuIMIt0RKTyvpxV/MM63KEu5uqM99wXiHaiatovSG8b/F88ZQwdy7sh7vDTLPOsFK2E4DZDIeq8WNVKO0wrjNTWQaonr0t1HrXnvgCN9gBxJTVLnFfbaKDevfcWDB/8mODVYYTEcHCPoTZBv2Jok+jZ6rqd2gIPhY2I2kcOxYcQPq92spwTaF3g5l3GoFVmKga7O4DzSoKB5zHrubLDQVraWfg8RTpq1H4rPx4ZzSyE0tLeqbkMdXks8yw/bKnkujQcnpNSQy3pBj0b68sQYpOkgrZ93Ydk4fdAAOwwTs7WCG/HWZdXu8AAAAEBQZ9MRTRMI/8hDRZc0mhEKn2SRuOvdKsAEshM3wpB8oQMjG1X2QM4SpQOpDSo/aBUuj9VEB+cgh4KuLA1TpWSvV+FjW2P6YB+abIHLWAY7b1lAqxVuhSmfeNsQ5+owWhkDkNRVySdDFRZ8Bj0lOdwY5IlAntfp4OAlcnCIC5P7ybuGG3CcFgkgspkztob2hf1o/+iiDdIiUueaVdjAh2PlDvYR+rkihEXb9W8ewWPOOtbYgjZRseMRWOan6nGcthQNYkm0266OijoDhAHRe1LWGg7SsaJnJ4oLFW68qH5GwqP4H8wW9dZw4CrOrPS784wUUFkzdYowmuyjyACN7WgGzAAAACoAZ9rdEf/Kpo6ANvFyksJXror072LdMHHxNUiz4QKymMVCsWW61g5G4f8YqlorXV22iAIkD6RkTgzKCOyRSkOhp5OgRilPHye38Zrka4udPfvu213d27eS88I/yLxCYWH9YN4QP2DXel1b/7S2pZeNAu4LzS3klnoVuYVTrT7BcgzC3piVD3IdcyB592WEGoVDl729Elj5QoxktPXvfoIyw7eoSvKkCkhAAAAngGfbWpH/ybQq6qxK5Omr1drDxhs29UYFx6qrH2qJ2W+jx8LL2FRb7gI4OFX4yKR1mQAq4ge/+TLDQthMFudMWMv/U+ENuw4DSfNbbWeQ702RVQSIT5S2PlXzFsoY8S9UySVOK9nUVHMg5C7m7zlMG/jsurDXgSPZZKUlN7ML4B0eCtv7otOQk3i+iUrWAIJrhhoT3orcYBNhjKAAMaBAAABJUGbcEmoQWiZTBTwv/6MsA5jx8dW8h/vraJWwX9LgA5TlDBnA81y2wKUma6s9znQ3jzn+eqQRlFnCtWnCBJzkLu2KDthOGzviKaUeHQj3pfS5RUgex/RE7cIL56MoU15Nc/+HBGx0U+LnBbAYPLoYeGRc8gOsJhkZW1I2SUH0pe+qWpr+4UIb/AUx8KepjwErgdg1BoInZ1Ll8JtBd5ALPdns4jEK2NT7ws5CcUKZj9MT+x4+PxVmmFF3DdWqEMPxBB33VNErHHP0EC8q+2dkQX0uZNWZbQ8fjbjrQQu94YPEU/tkZYKgTqH5CERvokidwoStFIq7hhwq/eTpy+3g2/o3TjrYcWdBRVAtpWWoYSsvH13CaaJsViYv30v6AV+cuzwAsuhAAAAiAGfj2pH/wRxkyKrqUEiHf6k2NEzBgAFsDOkhmA172rLjJl5AIp3nLZ0LhMlhw8C750VK3cyl6m1E/wxH8/26sld5VE6bdgHXD8Dtxx/tu8OEZKI5TMQnbFIhkbIAfDMV1MMDs5PEUar/wWNrDJN3ZoDyXmOOrqYM/1MXkcN/WQCdbavkwyeAtoAAAGaQZuUSeEKUmUwIX/+jLADVfLdNvdyqskp1bfWcAE7eodLRaBCrrM+4uhTMupMN3DoLhZC/G5zQa/4RCgPqbMCIh8+w1QQUpfqbBKsz25RB8tu/JSkopnbk/DAcAmzIKvPkbrXKgNjcvVteBBhbDkn1827rH8BDNs3c+aHBGjNyUPCSsXthSGoHpHQfq9p6HzbYVHlGhQVfwB+RCLK4UltVokvWmGLGKMPOi6qI3n+vVVq/30lUZfCnQAYdBEfZH3lG286sqgUIImeDARF0SsD3O3Qj6u+DcJjkvAIWJWJwQx9c44e39n+Cm/eD7QGdbkXSEfBx7ukRPb/hmb3HPe8ppgt9r948OcKnZ2NdPja+8cBMwGXWTI5bzrRcdFTNrbCKaNeZ8H8cIx/v/vy5JkoWLREVTiTO+oROQB7u52OBQxO+ym0ilGEBeBU7fkXHtQbPwAXmztn/9VBlqnPfR6VJLyYH4mnZJVaa/i/yjLIwkaC8JMeJjnVxHDTyHsdPq6dw94ChTcRDTd86xp++cg8t3PkqCoEW1FLweAAAADwQZ+yRTRMI/8eqN6In13Vt/gt4Tfcs+uRgCwAyAZfiGSxe5JQg+hMQM73sOZ4SqmCLFpLOmWwjR6REvC+0Or2d6FIk2QYiXbQtG1Sx5jrlOnsQyn19MSy54sA/QDnI2FX9O9qb5V4EOToSUet+cWWCX/sDpuKkv+p9duJfaaZImfskjWEHcyMEygZUU725KTzVJ3uwhRetEMJv+FPppSygF54/eiSfbgsCMnJOu2kInJeSQXOvqELICT47e1kF506RFhcV7z2WLKktc5HPxq6Wj94bS/F/wSEexJ4wsrUkYNTHSaY/Xkftz/a6Db7DQEDAAAAqgGf0XRH/ylVZimLd+6WRlljDYp5EM0SuGuMUkFvmAE4qMNR4V7uoRU8XMpYtgEORzJhMpw4kFyGgRpNDDQde1yiFJGCjXtNI6uCJSI9Epjj9NRSvcAJ1c8Etfv+HskSoJ1MCNTZl7Q79y2ZV0qbgI4yeBgVAszuKCgMtKsC6jNx6aaJZCJZ+DCseQ/0o8DKfdgV8rK8KJ8/kwZOqq6WIDXjuBXED4BOfwYEAAAAhAGf02pH/ynNkyl26OKFTV8ZHX9ugBLJW03k8z21uIcJG5i80JITw2zcapQ43KoAfCgjS5o1wWUzWRINX80By6jJinipBayCvDUkq16zZ78ExSXOt5YS8NnOMguJX/LUf8nbT5Lj3+lzmEOI8iMbLOlm03B4lukCylrvhDJKi+tP6z6BSQAAAWZBm9dJqEFomUwIV//+OEAE9/n2k668aK1cLAB+Iw5mB8XipGqMytxyV5zHhHpxV5kOxSwX2tZjpcnTYdktjo5Vv0ggjjhbhYlARzA8g/VqSfFFC8Mc1QlKhKHWYFY/OMc585nyU9wt+f32nMWsTA7+rFtN0LjIg2IwdNbzEYb2gyvi20jCN3RE1stmjLYan+n0sWe9uU7onws5dvUAkwb0b3C4dK3M4QI7nOm44cvFIyt5vk5/SE9IoY+W6XBmu+SprIGcZcwRPUF88BVpDHtcxq7GL2EAhfuCmzPC2dgvTSgxvwzKm93jkTXd+rZdwUBZko6atGxUh+/JoxKQIQAZWw4C7ZBUpDHSxbJ/HsqBSFfwf/28Ru0L38a3t4uxv2H7zge1bvyZLH394dggTa71LRtwFzhhpSgEiyD+lLuK2Stbi3EZJZnynDR1OxYeMEQxNgIBLkNuzY4tvlfyzaawDJ5hRTGhAAAAqEGf9UURLCP/IbAaEU8bGpmIBNepLBu5U0Y5ikd6rTMNNQD+44UjGsQ1rEVb5P6wj3jaGhTdB1BynwpOvBd9MbumVT+YY0jKZHq4SxxNWF5UyT9d8efcUvyN4fYUq77fCQ4SSwlxY3NaUZUfrAr/46n90TOVIZp03Nmmc4mLfPf49IBRucijv+KcB9LxiXrvJFKdZCNffAX08ZjO9TP+AphkFFQanAAUEAAAAKIBnhZqR/8pzZLigvURTRtyrKed80gQVWABCCNxHRuuvrvHSD3uP10Bi0LV0Gru4QZYsfzllO1YHCm2torU3dfeBjz9qGFXm3a+7KZIFHyilBVSgyW7+zwyEg3wkeiE7YKnsUwkdwj1eoKzRywfDRdONtTbHgnIVJ9y9x9KS1D2HQyi1steIuUFnqdqoSOnIvb0IKFlv2saVgVWN5nVQFNAtoEAAAD/QZoYSahBbJlMCFf//jhABSPa27H+WpynvcoxfYJcU+BQAlWfZF94zBLz47rWhUGn2wuNrtUXv+dJVg1H8WmnnKxNyPABHuyE7Gv9FVb4e0b0Em7swdQrmfZpPOfsidkiEWyAaNknLoIroBV2C+ArYVeGOo5q3foUSI3FS6A2YNUU/AXTdtPXj0GFa9L/5gUuM6FaTBDNgtjnlpM5XXliUHQr4RBiQXsWfvaEnY+cXM9ZRv6mG3nYPDHh+Arp9VMEHD4088kSeGGvXa20fdAXkhLyctWnQKGtS6Hcy7AMY7Jt8MtUgEe0h08PpGofcCKa3lgFnEIkOxREQ0pVNXWdAAABDkGaOknhClJlMFFSwr/+OEAAvw6PQHXhsAIsfBUEk7WrtspgYkBQA++vcqeJo9NmQiL0CETfyhorFy7qF1X3v9IlNRhSpwKrpxK46lRNx87LX4wfCjSjWtodq+cQshdIM1ycZamhs9doanHvSa74A9xmUbTb2D0mpZf168gZX0rE4dPyMdPpjSYdgZLf48KYRLDSj6cUp7QDpvj4Sy+68a91TKpkYpoQEL2iBOCA9+CAAQj1CqHhWEfuMBZ9QD5w5kgD7L4NF4ic0FhS9x4pcbLlmpwiFVH+YGofo/r3pZ12g3ktEMREEuE6wkFFouU9IMWLmWNHi6OtOuGutjjn+zQXzCuQbLrwbhlDgABEwAAAAHQBnllqR/8AGRva8Ni+jOTOrodr9UQ7tAAfzX1gcWfL8BHd76ob0AoZOTj5RzJp+ev7s0PjB+Ea1zqM8c5sHvkQMKh+rJlH4Dxgh6G9tgHNLlvBZs8MvZ9fzVRP9gba+tHDjjut/ZkC4hvVctN6nECxYAA44QAAANtBmltJ4Q6JlMCFf/44QAC/7/0sXURFcc4AE7d3/V+MfGIRZd0q2pZrKBmWcOADBWz4LL/189PPlJ+h3PkHW+UPRkfAHVQnKAtMy+NnidcuTWsSUePCO27z0RsAHnQ5SSWcdpLLi0Q4wOpFMbedOKnzSZs3wWz9oAG1XlHNiuTYNJymMhsBsd9QNR9ZjLJmH5D5GM2aG5HxMWSZ/Y1vzritezG8T5r4tlCo9bQRYm/r8Vm4zq3frwb8gCcuXaDYDeTMOmruKQ4omicZR5UK/fean+yqqQ88auIjnrYAAADqQZp8SeEPJlMCFf/+OEAArXtbfr9iPO1N84AA1Y7jAMkQryAF7tZh8444h+5/ZHTk21on+e/EJg4Rr/auXgkO+XebRsImOgLibBq/ArlZ7PedGJ8MZ0VsHiidHcH6us+lwrFx8d3mejHQo0M/r4SjmHrspu0/Exy+859i+Arv+QLq5I4ki/ZpoqrpTK3WKu0cOo0ml3MsEumIGFdtpbAqUUMezxtZzfvfrsvj/D+eBrR8fmIBQeVKe4o4X4h4pthgnHLbhk8vUU2+7RywQyiIImV4SovDVEoZjP5OjMjpXqbfZBq/z2kYABdxAAAA+EGanknhDyZTBRE8K//+OEAAR7om1AzI8wLoOnxjegAN94iqBhmyhghbKEFogchEvKlUdiAhdI67IBzZLVWulEZq+3U83GF0V6bTjRGSra9aOPxT3TSQNBTWc43eu2qcr8ZDE1t+cau4aXFMtAmD6wiVXxR9ywzcHIdkXAhT+Ss+KDbh0VbPD+MGKC7SD6wZxCmz5GQdzfJQq7ikyefa4+1QCtoD7rqcBcO+YzsKlzHIAdwWKloAk3bAHfQDA0rqZOjH4+Z678rCxE3AzV8ghQwOn4tupz5cfDCB6E8A6UtZ7w9Bszy8BRnpheJi1pKC/rymbnft2iDhAAAAXQGevWpH/wAJbKoW+WLhUgBy+P2cu2CAyECuSmJAzQ9SwKQ7DI7woAukOJ6qyX8eZ1bhjdgj7SJFwkajthpvC8qbvEKLj7Mh4XpGD22zYwZofVijxPgkKg8hP/F5gQAAANJBmr9J4Q8mUwIX//6MsAAHG41n2mcuchuux1s5fZUANAd3xh9EOPlMD06aV8ATVGW/JtEGkMChuHfRQiNKoisStgHc7dsvaVhQN6H4N1s0/T5/btVEQRDM2pc3VmulZcbQDQ3G8IIqmvpuOZHN0HDCUEoxyJYYcS28qozeyWmlAev3rF93SBAWcLnEI3O92It1pcLOyKhZXdxTOadL/LUqaw74XvmskpGlJTlAuK3KDWxHrA/gz9glCcyE9rPmki89m0iWyien13lp4tCpfz6Q5YAAAAFKQZrCSeEPJlMCFf/+OEAAG79SPHwZhTqNoiboJrZNIcgBwdT9I7mueeWo/7NVHz/BAIS+EmC3bAv7wM2zhukffYP7m4MJKggPzqvkMvRllmx9PsRcgevx+cvVRvRGyvmMPb2BH9IL/Qi1SvCNeXJ9LEzb3tTeeM7M0PhdVU1tU/oOmdITrES0nzSv4agd/YvKH2/UZpiuTU9w9FYBuA+5E2Hmvr3O1trKwzooVUb1u9GjgEx3bQXZuqTRwj5Cb7LJxDq25SlQ3+3o7LmbDWjFLkmbUQWPfp9z1mSYPSo0GzfbYGvhgDqzE7IDtM8JjCqnNNdHDuFub9TCsPHrE/QW28ddtf5Nb/7wh4z+RnWxZ1eEA4ohV8rHCvx0ndpR4tcb2FwhIsEZCfVEmP9fiQWVcu0H+tAS3HoUcJU8VG+nbo2fCoDYth6PStSBAAAAu0Ge4EURPCP/AAJLBw7l/AXU4utO3oACg9JgJL8TfyeEglwC70UZOTTWvudjPoLOmJMe1NEXOcRahTNN6RnzOKjI2XthLfzxD5A33T8y0I+qb7jWmMku6tWjdTiLQW+9zh85Ky6c2e+JK/aYRMvIdm7mZbYUI6zQEJg1dMVl4rDKGOXn6CclgdGf0hG+SK6+Y2PvZfVXPAy9370NNAJOf1yY8a4eUJIKZtDQ0PVDFE4tU0dGa18EuUlzwYsAAABzAZ8Bakf/AANf9x71H2wq/RZbXdfq13dNqnuyLodwgAuXJWo7tzqMtZxEs/6Pp2nThJsrCD8EQAYqy5dYoX2Pas7kF9Lq9+dQO/iXLS9K+bpkYCa6uGmerwIhSWsRND5sGL8SpkonJrci1i2G44FtEZLUrQAAAQVBmwRJqEFomUwU8K/+OEAACf8n2brcJqs5dwgX7qLeKt4RqV+CfsVQ3F8PWW4wBGKOhQqJOlfYFkqjazK6/piGffqgTJHvHyPcFpGjRqUPYTNA64ggFqXM7AE0JkJJrfrv0/syiQI7yf6xlQEMggy3eFt4jKR+2omGeeQwut1QnLCaHMgsHHux/Kfs7V+ebAj3ua4150qeMAh6C8V0WG03vXZvU4y2uDexPHP4+cW1rvm2lOJONChD3au3sKnvTBb6gT9A6mVgArtHubUimmH0s4t4mjWPXYTxnJiQ9BL6tPFjCzKpj05wwDJfxUWzi6/aKemBENGAbg7WpwvzBffPu/7+JccAAACbAZ8jakf/AAFQTA5JBNveVWpEABEsx0iiMX4yUSCQPfRHf6tSWG5HuEIwcNRjdCkLsBPNmb5UGdEluOC3Sz2eXEfm0zCL9vFt48y0RV7s6PtX/hPWkDsqrlbHh0s7f/HHy2KVVaPk3nG4wHPS/2Q7GzWbjB6uRqzr6Io7caWArKSThH7feiBs4Ancf/GJ0YKQyvrbxQ9oF+9Q3oEAAAD5QZsnSeEKUmUwIT/98QAACTfAPuy4qe02guBuD5jybZcyvjRJmYutMveh3jcAJUWbvUY2sdt+WOOWGTqRehGik1LbVlm8f2x0O+Ngcua1CQ8bufApeov7LIkVpzls7Yb5h8l39r/L7YeYupgvWw+OWaH7c+Xnx08/J+bC/PBPCrY1+CYk6JTayFeSzm5BYRo3r3vuQVqak5MS6vnvjABCmzAzUGcBwXh3Ej587jCPEzjHSgXb+yoF6j03mfd3ln5alNiMlhABPDko/KcMMbw/QaA0mlBIadnnlO952HSP9TXRWhxXrWTdRu6D/OYIwp20X9REc+kRUMrFAAAAsUGfRUU0TCP/AABSIn4A5hsyxE0YRVUBjwCFlwPWp4c3+z/9Bp6yNX9yo2Uq1hYccR9SzSPU11YmG/eOBIZrXA+wC3XVVwjmqS1hrP+c0pQg+VPLQqnWPJZniAMsld1s1nn7k5rRFb64ltVbvBnYKbFrs+VjI5ynY/qsNygKi5hFnmP+zAZIaQ934733f+3nqA2qccPg8yNZw4mUK9zc/WeQWlFwHZKr7IrBWaKD8cGHgQAAAIwBn2ZqR/8AAH29ynSUHxjxpHdQDy94RDt74l80EhFgAAWzsW8BnM/nO8uXcy8AgyW9aEUDsn43tEOlqRcDwmvlvBjnloaXkf6lAGrqtIDMULjHg3MR8guvLUY6MzoGK3PhABBegbOwPsh1v9EBADFKIiwVLCbIEIFZPRxOsOOGTHDqy4mK45ImGIlsNQAAAQ9Bm2hJqEFomUwIT//98QAAAwONv+3/eeG4HSADg4701Ml6uSDKlW3a/u/cuV5CQd1pC0xFGOKdrVwaGMikMZ4+JvvYyVhWhrtXBhjvl3BGjP9gEB1IAIfT41I2B5WxKp27cV62E4btTv8Vk2V6u70tXo2ORzyl9vcX5LgJYFMKMVD9GwASQIno59AYT4Cr3/GyDQckNh15TgwKMc07ad4pLS2oE/KGBfwbCwjJzlB3cx8OC6T2xe+eRy2Wo1atjDngeTmrvn80nF+hieH9cw6Kep7q6d6+cKDgPAajHE04uoe8ptvTYWh9/7+r0d2XWtmq6lyVe92+I4qfWxSx7wM+Od/09hQeWeiXbkfL4tYwAAAA6UGbiUnhClJlMCE//fEAAAMDT+m5jS7LI0zoE8AH8QE5yEAF/BSckafNLtopW9BYKVllb/0pYKeiooopIPPE08dZMwzUHnKk3UYlMDKg0EkNJ1DgGrgXn1TwjsRIhV/JuxcmIkDz/6L2DQWQOO9N0lnatgdV7I4m9x0PhLZ1+FugX/Ut4OqrJ2e5IXJrXGkEe7nm+rWYcjJxzrQD2ps0xFb3S2X04fbftCr/q+YjXgvNqSinij+4oh+lvO6tNZAzs/L6xt4IVt6I2iSth8dVZUQ/eFYt8pIPPR5uFD5sMPKrOL+RDj5RdVMwAAAA5EGbqknhDomUwIT//fEAAAMBYmlQTQx24s4XR9Pwyn/pcM6rK54rX9QCEL5O8KxedfkrrLWW8B9onu+N7pMdkil52P7hfZYArxeULIpY3FSTI4X9QiJgJZvtWpDRG3nTmz4QNwnXocETjVLBYYjVJW2f1sq0k/Xrgt4COJjyrZi9OAlR7AryiLnWYgzP3f+wp118L0E0VMWGygHuUH3o2UltucRq8zoaK/PmZgXwAZgos2/DsRq3U06UY2LauxR5q/gqW3uXRFmFvzmMP2dwimgcpBBtTH2mLyspJynt6YV7oWpfoQAAANNBm8tJ4Q8mUwIT//3xAAADAWPk+28m0NVsLBwCUakXFrAAijVHTeLaIDpmcxYSv+BOMJDAA2am32djwMtsa0Af/FqgSZ+lcvCPJprLXHv4QZ61y9nCV5GDjt6zN/QBAG2xvWtP28fnT9Ctw/mfbexdHvDRYOdxRKYn1dfjKOW71naKMH0emK3SkFdS1ckS5IzAJ64WETEHJkn1AHq2kDPXkdSyXMNSxqbXMUJoXi5XQK0oxNHGc/poMwT47lqX1GStYebA1o5V0aXysNnCA7Ut6W4cAAAA3kGb7EnhDyZTAhH//eEAAAMA0okhTfLtE3Gb0AsvtBG7wQCcxjILVdpBAMkVcYcMASGxcKwL0YyOwmVwIur9B0q/46uQQ1UeGmy6DIv2sghsbdEBNMdA1Q8QTdulczLf3Ild1VDDzfNSXFKgKNqjLEN2aQx6L1GMGX9HrxdCZc9Kmm1Sh7pJ5FI5GH0KhRBGdhMt+CcrX5OFo2MOVjrVE8dRfdGVRgWzxD3RjYLA0cbtfmS5yBRgpnwfpC/5o4CdTkScYZrL8WOF8q8fJ1y1lIYSSnuMNFXicPTJKJ7nMAAAANhBmg5J4Q8mUwURPCP//eEAAAMA0/o4x+qVcz8Tn5uqlJh9hmVDDuRt5MADgPGc+1tBeSkPgZB63V8xYNnwa02ovi1wtQso/8rnmqoC0T67IDApO6ttXSuJI/F0ieREk95vlKMuM2YE1OHqr8u5/Eic7YBAii3/y0MKZhltjynU85cAb35h4JOb38nhve2wPWyc8CHlb/qX8oACpij5Y4mrBAUS40qU9yQE7NBYvxTnu0gTJaQnEaCKgKWVfp2jOIB+b9zUFebhci7ldtlBku2/yCAyU4w7ZoEAAABbAZ4takf/AAAQ4+SAS1VORQqRjxbLHUZuUtYANkzDo6ReqOr59hmbkeva2neIfjZ0stuhGNslc2B7FlFTWythZRKFjqBIea3lu7lFmYed1NezTMb2ROwR9QSRVwAAAMlBmjBJ4Q8mUwU8I//94QAAAwBSPezw5Vt/c+UPKWY4Uu9EQPNgE8EZfrhPM66XjCTsxHKtJHUbCfsJQMKefyw7roZv7iMgKpCo0kZIAz70pCqHV7rS8970Zg+sMI2o/hdqottl0iRXJkqFFxWP918zIl08942J3yWjA1WhmAE1Ix4wm87aCU3GkGs8LJKRT+IBIe3anhfe696W4edkuF/oTsDEsZpoixFyFvpXaLp6sQd5jSgzHhVnZHUSyIfxO7Huq6nCwGj+cYEAAABnAZ5Pakf/AAAGmrIDtJl5R6n8mZ3bbr4vHKzbrigBHCnf7MuCzNcK0qoASaaNuiaiMy0YOWHwWfnjK1//oytrvAbPtFLSe3/Vbjb0EbWv1QbIlp/199hMxLzjM8GLpl20oSEYceTKYAAAAMpBmlNJ4Q8mUwI///yEAAADAHc38o2MpUUee3eXYIryDEwARVBtvbp6T6ICAwE1PlmOEK3eubYh+cuMIiozi7kUKPPMcBMHdiQ//Ihq+gXfReAoRpQ16VDlH/knBSVaQ3yTX7CYJdHDbjtAZ6Ap7mDwVNJkut0KTVNy7/IadNSCvfC0iIEusohGZZB36kwaSoRBYpBNZvNbvXLulWHNsyhb+RS2753ySk2BjA/B5iaA6+yrn2nutsE6TR3avXrRS1CODU/scD1oD26QAAAAh0GecUURPCP/AAADAKypXaRBwBWpJECRNAZvNKzRRen6j306IQUa0LMe0Ev1mt9z1ydsDmdyuQew7svKWA25Z9G/4/7p3TbwoHxQd01b2EHWCmiG6NX+vV7sDeRrvpU7OT8rcAac60qkd/ZoOBgBPwotDAOriHNirjwT9PnmIiH3rcMVVsP8fQAAAJEBnpJqR/8AAAMA+GSp8e4U83X0VQBQOx7ssoH0bMbbQgx2k90rQer9O0Uqfa0Olb0msTHbF/0f3r+QfxNa8wg5CI2rY7bHKJ9VxzADwitT5R1s7TCccaJMkjdKtuRGV1k/o+NauTZpRhsckQd8EyBMmmlT+LxFqkoTudUEpujCpk/CYRal+4GuPCIP/V29lpf4AAAA40GalEmoQWiZTAj//IQAAAMAMTv+wPABorflkyEolHbGH1ZkrpHHgoJlsXrh9HSv4L4/TAzIz61qqgUHrjaPsWQry21ie/kjSBdP6fqlGMJB3BsbN5kSja/kOeP/d26oETVCB2t4jmXC5U6nuiZcS/yOe4zK4C3lNy1RB9qTMAoYvj8CAhkV8rp/CfQs12qwh79K6LzmCU8Jh0zuQaeEHztVcOjBZEpucz94ZNop6AoGsFYbnx/ATMr48NfjPGnWCuabrlPzRHAodUs12hT0CMJtGFIgv2Ue5f/7GSBaB5S0lPBMAAAA0kGatUnhClJlMCEf/eEAAAMAIaGlpAA4NdLnngEIoPbVOOtlbGOVYsCMRvZZaQQQVUmWmXjgtb1gSCRHcEPMHfDlQzOKLKbJaNMX7YFGFHU1M6KXn39D9Uk0nQst9G5EZ7k3k3zpEp4EFREFCYJDmgQ6H7rBEaBFn6n1NENDBqE7HsbQ1MIJhm2rjLO2/dp3hGfGD9MxKd3yIqvb+kxi23FP8jKLnzuBGQ0cBL+DKHZYQLE+qaAKXPsRA+GjHY8dOaw6NeCbX3zxpi9mmFltVn853QAAARpBmtdJ4Q6JlMFNEx///IQAAAMAg3OvvTwAgIwXbBX8J5Vub9RJ2Im8CrOPOZt8l/8rqutRbFy38PFLEDDOZYDjvOrPeqWBNWsEpiXlQ6u/Zz2hAd+Crcm/H6OjGE2a6fGk/GYJnQCvVVqTmlknL26mZJ0z5/ZpcolBdY/Lc4CuxEApi9ZtjdlAUVPmYFQI4AmU5M44GIy7MsnyQlg3/53GG7vNt8LaulFRvw89XZXRlEq3tO8b4629zK+4ujFiHxSxDanMjLqEsHsAksjn6v1ZU44JQrn6iasQkW+8jOapvdzp09AN8s12hcT6WwX/WvYCmS1o7HpoxI3DdPtqWeVCuJ4GEvZhdsk2zzy2b+3JiG6nL99QfgG5YMAAAADJAZ72akf/AAADAxNkAEAP6RDPn2HWrGuXq4BvSTSzrwxJ8+QXQERQZF63cXS+MN4GY57sHqonKTl7d/cHdk4GPjRc8uEohA0yW804HeTI/zRpAWkGrub2l0oKU9nUiO4SC79Q/GvBovwSLxrbEaHH4EUNo0tVBmkg0zGVjDa+7jf9stkzEaPw35bDnPD4Zkmp3f8XM2I4PV3WSZUgifQMw/CoYH55lJD7fMSQf4zF3Vjlb2+MnbaZxFu3kRUsi3HU33iLNNTfp8GBAAAGw21vb3YAAABsbXZoZAAAAAAAAAAAAAAAAAAAA+gAAAbgAAEAAAEAAAAAAAAAAAAAAAABAAAAAAAAAAAAAAAAAAAAAQAAAAAAAAAAAAAAAAAAQAAAAAAAAAAAAAAAAAAAAAAAAAAAAAAAAAAAAAAAAAIAAAXtdHJhawAAAFx0a2hkAAAAAwAAAAAAAAAAAAAAAQAAAAAAAAbgAAAAAAAAAAAAAAAAAAAAAAABAAAAAAAAAAAAAAAAAAAAAQAAAAAAAAAAAAAAAAAAQAAAAAJYAAABkAAAAAAAJGVkdHMAAAAcZWxzdAAAAAAAAAABAAAG4AAAAgAAAQAAAAAFZW1kaWEAAAAgbWRoZAAAAAAAAAAAAAAAAAAAMgAAAFgAVcQAAAAAAC1oZGxyAAAAAAAAAAB2aWRlAAAAAAAAAAAAAAAAVmlkZW9IYW5kbGVyAAAABRBtaW5mAAAAFHZtaGQAAAABAAAAAAAAAAAAAAAkZGluZgAAABxkcmVmAAAAAAAAAAEAAAAMdXJsIAAAAAEAAATQc3RibAAAAJhzdHNkAAAAAAAAAAEAAACIYXZjMQAAAAAAAAABAAAAAAAAAAAAAAAAAAAAAAJYAZAASAAAAEgAAAAAAAAAAQAAAAAAAAAAAAAAAAAAAAAAAAAAAAAAAAAAAAAAAAAAABj//wAAADJhdmNDAWQAH//hABlnZAAfrNlAmDPl4QAAAwABAAADAGQPGDGWAQAGaOvjyyLAAAAAGHN0dHMAAAAAAAAAAQAAAFgAAAEAAAAAFHN0c3MAAAAAAAAAAQAAAAEAAAJgY3R0cwAAAAAAAABKAAAAAQAAAgAAAAABAAAFAAAAAAEAAAIAAAAAAQAAAAAAAAABAAABAAAAAAEAAAUAAAAAAQAAAgAAAAABAAAAAAAAAAEAAAEAAAAAAQAABQAAAAABAAACAAAAAAEAAAAAAAAAAQAAAQAAAAABAAAFAAAAAAEAAAIAAAAAAQAAAAAAAAABAAABAAAAAAEAAAQAAAAAAgAAAQAAAAABAAAFAAAAAAEAAAIAAAAAAQAAAAAAAAABAAABAAAAAAEAAAMAAAAAAQAAAQAAAAABAAAFAAAAAAEAAAIAAAAAAQAAAAAAAAABAAABAAAAAAEAAAMAAAAAAQAAAQAAAAABAAAEAAAAAAIAAAEAAAAAAQAABAAAAAACAAABAAAAAAEAAAIAAAAAAQAABAAAAAACAAABAAAAAAEAAAIAAAAAAQAABQAAAAABAAACAAAAAAEAAAAAAAAAAQAAAQAAAAABAAADAAAAAAEAAAEAAAAAAQAABQAAAAABAAACAAAAAAEAAAAAAAAAAQAAAQAAAAABAAAEAAAAAAIAAAEAAAAAAQAAAgAAAAABAAADAAAAAAEAAAEAAAAAAgAAAgAAAAABAAADAAAAAAEAAAEAAAAAAQAAAgAAAAABAAAEAAAAAAIAAAEAAAAAAQAAAwAAAAABAAABAAAAAAEAAAQAAAAAAgAAAQAAAAAFAAACAAAAAAEAAAMAAAAAAQAAAQAAAAABAAADAAAAAAEAAAEAAAAAAQAABAAAAAACAAABAAAAAAIAAAIAAAAAAQAAAwAAAAABAAABAAAAABxzdHNjAAAAAAAAAAEAAAABAAAAWAAAAAEAAAF0c3RzegAAAAAAAAAAAAAAWAAACgAAAAE/AAAAZAAAAEwAAABRAAAAngAAAFwAAABBAAAAOwAAAIgAAABAAAAAKQAAAC4AAACfAAAASQAAAEMAAAAwAAAAngAAAFEAAABGAAAAuQAAAGYAAAA2AAAANwAAAKgAAAA7AAAAzwAAAI4AAABgAAAATQAAAMYAAABVAAAAzQAAAG4AAABZAAABLAAAAJYAAABkAAAA+AAAAawAAADUAAAApwAAAUMAAAHRAAABBQAAAKwAAACiAAABKQAAAIwAAAGeAAAA9AAAAK4AAACIAAABagAAAKwAAACmAAABAwAAARIAAAB4AAAA3wAAAO4AAAD8AAAAYQAAANYAAAFOAAAAvwAAAHcAAAEJAAAAnwAAAP0AAAC1AAAAkAAAARMAAADtAAAA6AAAANcAAADiAAAA3AAAAF8AAADNAAAAawAAAM4AAACLAAAAlQAAAOcAAADWAAABHgAAAM0AAAAUc3RjbwAAAAAAAAABAAAAMAAAAGJ1ZHRhAAAAWm1ldGEAAAAAAAAAIWhkbHIAAAAAAAAAAG1kaXJhcHBsAAAAAAAAAAAAAAAALWlsc3QAAAAlqXRvbwAAAB1kYXRhAAAAAQAAAABMYXZmNTcuODMuMTAw\" type=\"video/mp4\" />\n",
              "             </video>"
            ]
          },
          "metadata": {}
        }
      ]
    },
    {
      "cell_type": "markdown",
      "source": [
        "#### train the model and visualize"
      ],
      "metadata": {
        "id": "zKB-D-Cy4e7B"
      }
    },
    {
      "cell_type": "code",
      "execution_count": 39,
      "metadata": {
        "execution": {},
        "colab": {
          "base_uri": "https://localhost:8080/"
        },
        "outputId": "3b172064-00a0-4691-8d79-b7ff014d2cec",
        "id": "FV4kq74Ozq9q"
      },
      "outputs": [
        {
          "output_type": "stream",
          "name": "stdout",
          "text": [
            "Eval num_timesteps=10000, episode_reward=-186.91 +/- 72.10\n",
            "Episode length: 83.40 +/- 7.86\n",
            "New best mean reward!\n",
            "Eval num_timesteps=20000, episode_reward=-133.56 +/- 9.38\n",
            "Episode length: 68.00 +/- 11.42\n",
            "New best mean reward!\n",
            "Eval num_timesteps=30000, episode_reward=-500.80 +/- 359.68\n",
            "Episode length: 169.20 +/- 80.15\n",
            "Eval num_timesteps=40000, episode_reward=-673.89 +/- 50.59\n",
            "Episode length: 591.00 +/- 258.59\n",
            "Eval num_timesteps=50000, episode_reward=-328.04 +/- 63.82\n",
            "Episode length: 375.20 +/- 85.27\n",
            "Eval num_timesteps=60000, episode_reward=-87.64 +/- 27.73\n",
            "Episode length: 1000.00 +/- 0.00\n",
            "New best mean reward!\n",
            "Eval num_timesteps=70000, episode_reward=64.64 +/- 98.06\n",
            "Episode length: 759.20 +/- 294.92\n",
            "New best mean reward!\n",
            "Eval num_timesteps=80000, episode_reward=-23.71 +/- 82.75\n",
            "Episode length: 560.60 +/- 227.26\n",
            "Eval num_timesteps=90000, episode_reward=-17.24 +/- 58.90\n",
            "Episode length: 1000.00 +/- 0.00\n",
            "Eval num_timesteps=100000, episode_reward=-139.02 +/- 15.65\n",
            "Episode length: 200.60 +/- 27.64\n"
          ]
        },
        {
          "output_type": "execute_result",
          "data": {
            "text/plain": [
              "<stable_baselines3.dqn.dqn.DQN at 0x7fdc0c943750>"
            ]
          },
          "metadata": {},
          "execution_count": 39
        }
      ],
      "source": [
        "model.learn(total_timesteps=100000, log_interval=10, callback=callback, eval_log_path=log_dir)\n",
        "# The performance of the training will be printed every 10 episodes. Change it to 1, if you wish to\n",
        "# view the performance at every training episode.\n",
        "# how to read monitor.csv: ep_info = {\"r\": round(ep_rew, 6), \"l\": ep_len, \"t\": round(time.time() - self.t_start, 6)}"
      ]
    },
    {
      "cell_type": "code",
      "execution_count": 35,
      "metadata": {
        "execution": {},
        "outputId": "0bbb0397-e328-4f3a-e9a4-f2155383f97f",
        "colab": {
          "base_uri": "https://localhost:8080/",
          "height": 421
        },
        "id": "_B6I243kzq9q"
      },
      "outputs": [
        {
          "output_type": "display_data",
          "data": {
            "text/plain": [
              "<IPython.core.display.HTML object>"
            ],
            "text/html": [
              "<video alt=\"test\" autoplay\n",
              "                loop controls style=\"height: 400px;\">\n",
              "                <source src=\"data:video/mp4;base64,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\" type=\"video/mp4\" />\n",
              "             </video>"
            ]
          },
          "metadata": {}
        }
      ],
      "source": [
        "env = wrap_env(gym.make(\"LunarLander-v4\"))\n",
        "observation = env.reset()\n",
        "while True:\n",
        "  env.render()\n",
        "  action, _states = model.predict(observation, deterministic=True)\n",
        "  observation, reward, done, info = env.step(action)\n",
        "  if done:\n",
        "    break;\n",
        "\n",
        "env.close()\n",
        "show_video()"
      ]
    },
    {
      "cell_type": "code",
      "execution_count": 30,
      "metadata": {
        "execution": {},
        "outputId": "812710f2-8821-4e42-dea0-cacfa412d010",
        "colab": {
          "base_uri": "https://localhost:8080/",
          "height": 301
        },
        "id": "voWFVkMGzq9r"
      },
      "outputs": [
        {
          "output_type": "execute_result",
          "data": {
            "text/plain": [
              "Text(0, 0.5, 'Episode Rewards')"
            ]
          },
          "metadata": {},
          "execution_count": 30
        },
        {
          "output_type": "display_data",
          "data": {
            "text/plain": [
              "<Figure size 432x288 with 1 Axes>"
            ],
            "image/png": "[encoded data removed]"
          },
          "metadata": {
            "needs_background": "light"
          }
        }
      ],
      "source": [
        "x, y = ts2xy(load_results(log_dir), 'timesteps')  # Organising the logged results in to a clean format for plotting. timesteps episodes\n",
        "plt.plot(x,y)\n",
        "plt.ylim([-300, 300])\n",
        "plt.xlabel('Timesteps')\n",
        "plt.ylabel('Episode Rewards')"
      ]
    },
    {
      "cell_type": "markdown",
      "source": [
        "### Template"
      ],
      "metadata": {
        "id": "h7Jy40kF4cwx"
      }
    },
    {
      "cell_type": "code",
      "execution_count": null,
      "metadata": {
        "execution": {},
        "id": "RStcMxLfobbr"
      },
      "outputs": [],
      "source": [
        "# Taken from https://stable-baselines3.readthedocs.io/en/master/guide/custom_env.html\n",
        "class CustomEnv(gym.Env):\n",
        "  \"\"\"Custom Environment that follows gym interface\"\"\"\n",
        "  metadata = {'render.modes': ['human']}\n",
        "\n",
        "  def __init__(self, arg1, arg2):\n",
        "    super(CustomEnv, self).__init__()\n",
        "    # Define action and observation space\n",
        "    # They must be gym.spaces objects\n",
        "    # Example when using discrete actions:\n",
        "    self.action_space = spaces.Discrete(N_DISCRETE_ACTIONS)\n",
        "    # Example for using image as input (channel-first; channel-last also works):\n",
        "    self.observation_space = spaces.Box(low=0, high=255,\n",
        "                                        shape=(N_CHANNELS, HEIGHT, WIDTH), dtype=np.uint8)\n",
        "\n",
        "  def step(self, action):\n",
        "    ...\n",
        "    return observation, reward, done, info\n",
        "  def reset(self):\n",
        "    ...\n",
        "    return observation  # reward, done, info can't be included\n",
        "  def render(self, mode='human'):\n",
        "    ...\n",
        "  def close (self):\n",
        "    ..."
      ]
    },
    {
      "cell_type": "markdown",
      "metadata": {
        "execution": {},
        "id": "RKAA_XL4obbs"
      },
      "source": [
        "As you are only changing the reward structure, you can inherit the original Lunar Lander environment from https://github.com/openai/gym/blob/master/gym/envs/box2d/lunar_lander.py and modify just the \"step\" function. Focus on modifying the following part of the code in the \"step\" function\n"
      ]
    },
    {
      "cell_type": "code",
      "execution_count": null,
      "metadata": {
        "execution": {},
        "id": "vW-1yrPyobbs"
      },
      "outputs": [],
      "source": [
        "def step(self, actions):\n",
        "  ...\n",
        "  ...\n",
        "  ...\n",
        "  reward = 0\n",
        "  shaping = (\n",
        "      -100 * np.sqrt(state[0] * state[0] + state[1] * state[1])\n",
        "      - 100 * np.sqrt(state[2] * state[2] + state[3] * state[3])\n",
        "      - 100 * abs(state[4])\n",
        "      + 10 * state[6]\n",
        "      + 10 * state[7]\n",
        "  )  # And ten points for legs contact, the idea is if you\n",
        "  # lose contact again after landing, you get negative reward\n",
        "  if self.prev_shaping is not None:\n",
        "      reward = shaping - self.prev_shaping\n",
        "  self.prev_shaping = shaping\n",
        "\n",
        "  reward -= (\n",
        "      m_power * 0.30\n",
        "  )  # less fuel spent is better, about -30 for heuristic landing. You should modify these values.\n",
        "  reward -= s_power * 0.03\n",
        "\n",
        "  done = False\n",
        "  if self.game_over or abs(state[0]) >= 1.0:\n",
        "      done = True\n",
        "      reward = -100\n",
        "  if not self.lander.awake:\n",
        "      done = True\n",
        "      reward = +100\n",
        "  return np.array(state, dtype=np.float32), reward, done, {}"
      ]
    },
    {
      "cell_type": "markdown",
      "metadata": {
        "execution": {},
        "id": "9CCbUKXQobbs"
      },
      "source": [
        "Once you have cutomized your own environment, you can execute that environment by just calling:"
      ]
    },
    {
      "cell_type": "code",
      "execution_count": null,
      "metadata": {
        "execution": {},
        "id": "T7IuLBYxobbt"
      },
      "outputs": [],
      "source": [
        "#Enter the name of the custome environment you created and uncomment the line below.\n",
        "#env = Custom_LunarLander()\n",
        "# Refer to https://stable-baselines3.readthedocs.io/en/master/guide/custom_env.html, if you would like to create more complex environments."
      ]
    },
    {
      "cell_type": "markdown",
      "metadata": {
        "execution": {},
        "id": "ZeEbxPsFobbt"
      },
      "source": [
        "## 3 Identify the state information crucial to its performance.\n",
        "\n",
        "Your objective here is to alter the input state information and analyze the performance. The input state of the Lunar Lander consists of following components:\n",
        "\n",
        "  1. Horizontal Position\n",
        "  2. Vertical Position\n",
        "  3. Horizontal Velocity\n",
        "  4. Vertical Velocity\n",
        "  5. Angle\n",
        "  6. Angular Velocity\n",
        "  7. Left Leg Contact\n",
        "  8. Right Leg Contact\n",
        "\n",
        "You can train the algorithm by masking one of the eight components at a time and understand how that affects the performance of the algorithm. Similar to the reward shaping task, you would have to create a custom environment and modify the state space. Again, you can inherit all the necessary functions and modify the following portion of the \"Step\" function:"
      ]
    },
    {
      "cell_type": "code",
      "execution_count": null,
      "metadata": {
        "execution": {},
        "id": "e0qQ--Tfobbt"
      },
      "outputs": [],
      "source": [
        "def step(self, actions):\n",
        "  ...\n",
        "  ...\n",
        "  ...\n",
        "  state = [ # Remove one component at a time to investigate the effect on performance!\n",
        "            (pos.x - VIEWPORT_W / SCALE / 2) / (VIEWPORT_W / SCALE / 2),\n",
        "            (pos.y - (self.helipad_y + LEG_DOWN / SCALE)) / (VIEWPORT_H / SCALE / 2),\n",
        "            vel.x * (VIEWPORT_W / SCALE / 2) / FPS,\n",
        "            vel.y * (VIEWPORT_H / SCALE / 2) / FPS,\n",
        "            self.lander.angle,\n",
        "            20.0 * self.lander.angularVelocity / FPS,\n",
        "            1.0 if self.legs[0].ground_contact else 0.0,\n",
        "            1.0 if self.legs[1].ground_contact else 0.0,\n",
        "        ]"
      ]
    },
    {
      "cell_type": "markdown",
      "metadata": {
        "execution": {},
        "id": "EIifpb9Kobbu"
      },
      "source": [
        "## 4 Extension to Atari Games\n",
        "\n",
        "In the Lunar Lander task, the input to the algorithm is a vector of state information. Deep RL algorithms can also be applied when the input to the training is image frames, which is the case in the Atari games. For example, consider an Atari game - Pong. In this environment, the observation is an RGB image of the screen, which is an array of shape (210, 160, 3). To train the Pong game, you can start with the following sample code:"
      ]
    },
    {
      "cell_type": "code",
      "execution_count": null,
      "metadata": {
        "execution": {},
        "id": "9GEIYsVVobbv"
      },
      "outputs": [],
      "source": [
        "## Taken from: https://colab.research.google.com/github/Stable-Baselines-Team/rl-colab-notebooks/blob/sb3/atari_games.ipynb#scrollTo=f3K4rMXwimBO\n",
        "env = make_atari_env('PongNoFrameskip-v4', n_envs=4, seed=0)\n",
        "\n",
        "##Atari Games take a lot of memory. Following commands crash on Coalb. Run the following code on Colab Pro or your local Jupyter notebook!\n",
        "# env = VecFrameStack(env, n_stack=4)\n",
        "# model = DQN('CnnPolicy', env, verbose=1)  # Note the difference here! We use 'CnnPolicy\" here instead of 'MlpPolicy' as the input is frames.\n",
        "# model.learn(total_timesteps=1) #change the number of timesteps as desired and run this command!"
      ]
    },
    {
      "cell_type": "markdown",
      "metadata": {
        "execution": {},
        "id": "5I26CZd4obbv"
      },
      "source": [
        "## 5 Obstacle Avoidance and Transfer Learning\n",
        "\n",
        "Your obstacle here is to add an obstacle in the path of the lunar lander (by creating a custom environment as described in point 2 above) and train the model such that the lander lands safely, avoiding collisions. \n",
        "\n",
        "You would first want to devise a mechansim for adding obstacles. For example, you could have an imaginary obstacle at some horizantal and vertical position cooridnates and modify the reward function such that a penalty is levied if the lander comes close to it. \n",
        "\n",
        "An interesting approach to solve this problem is to apply the techniques of transfer learning. For example, you could initialise the neural network model with the weights of the trained model on the original problem to improve the sample effeciency. This can be done using the following code:"
      ]
    },
    {
      "cell_type": "code",
      "execution_count": null,
      "metadata": {
        "execution": {},
        "id": "lSyhxVoLobbw"
      },
      "outputs": [],
      "source": [
        "## Specify the load path and uncomment below:\n",
        "\n",
        "# model = load(load_path,\n",
        "#              env=gym.make('LunarLander-v2'),\n",
        "#              custom_objects=None, **kwargs)"
      ]
    },
    {
      "cell_type": "markdown",
      "metadata": {
        "execution": {},
        "id": "4Qy8qSysobbw"
      },
      "source": [
        "Following are some of the resources on transfer learning that you would want to start with. \n",
        "\n",
        "**Research Papers**\n",
        "\n",
        "Surveys:\n",
        "1. (Long, Old, Highly cited) Taylor, M. E.,  et al. (2009). Transfer learning for reinforcement learning domains. https://www.jmlr.org/papers/volume10/taylor09a/taylor09a.pdf\n",
        "\n",
        "2. (Medium, Old, Good for a quick read) Lazaric, A. (2012). Transfer in reinforcement learning: a framework and a survey. https://hal.inria.fr/docs/00/77/26/26/PDF/transfer.pdf\n",
        "\n",
        "3. (Medium, Recent, Good for a quick read) Zhu, Z., Lin, K., & Zhou, J. (2020). Transfer learning in deep reinforcement learning. https://arxiv.org/pdf/2009.07888.pdf\n",
        "\n",
        "4. Specific example:\n",
        "Barreto, A., et al. (2016).  Successor features for transfer in reinforcement learning. https://arxiv.org/pdf/1606.05312"
      ]
    },
    {
      "cell_type": "markdown",
      "metadata": {
        "execution": {},
        "id": "vJvZzNrAobbx"
      },
      "source": [
        "## 5(b) Transfer Learning in minigrid environment\n",
        "\n",
        "These are some simple gridworld gym environments designed to be particularly simple, lightweight and fast. Refer to https://github.com/maximecb/gym-minigrid for description of the environments. An example to load a minigrid environment is given below:"
      ]
    },
    {
      "cell_type": "code",
      "execution_count": null,
      "metadata": {
        "execution": {},
        "id": "88Bk-iqzobby"
      },
      "outputs": [],
      "source": [
        "!pip install gym-minigrid --quiet\n",
        "import gym_minigrid\n",
        "env = gym.make('MiniGrid-Empty-5x5-v0')"
      ]
    },
    {
      "cell_type": "markdown",
      "metadata": {
        "execution": {},
        "id": "lOL5WYR3obby"
      },
      "source": [
        "You can train a standard DQN agent in this env by wrapping the env with full image observation wrappers:\n"
      ]
    },
    {
      "cell_type": "code",
      "execution_count": null,
      "metadata": {
        "execution": {},
        "id": "PX71Rz3Uobbz"
      },
      "outputs": [],
      "source": [
        "env = gym_minigrid.wrappers.ImgObsWrapper(gym_minigrid.wrappers.RGBImgObsWrapper(env))"
      ]
    },
    {
      "cell_type": "markdown",
      "metadata": {
        "execution": {},
        "id": "o2UiCI5Iobbz"
      },
      "source": [
        "Note that with full image observations, the shape of the image observations may differ between envs. For e.g., MiniGrid-Empty-5x5-v0 is (40,40,3) while MiniGrid-Empty-8x8-v0 is (64,64,3). So you may need to resize the observations for transfer learning to work with the same DQN architecture.\n",
        "\n",
        "Now try training a DQN (or another method) in one (or multiple) minigrid env(s),and see if that knowledge transfers to another (or multiple other) minigrid env(s).\n"
      ]
    },
    {
      "cell_type": "markdown",
      "metadata": {
        "execution": {},
        "id": "Qy1rMmg4obbz"
      },
      "source": [
        "## 6 Preference-Based RL (PBRL)\n",
        "\n",
        "PBRL is an exciting sub-area in RL where the traditional reward structure is replaced with human preferences. This setting is very useful in applications where it is difficult to construct a reward function. \n",
        "\n",
        "In the earlier section, we have successfully trained the lunar lander to land safely. Here, the path that the lander follows to land safely can be arbitrary. In this project, using the techniques of PBRL, you will solve the lunar lander problem with an additional requirement that the lander should follow a specially curated path (for example, a straight line path). Following are some of the resources that will help you to get started with this project. \n",
        "\n",
        "**Research papers:**\n",
        "1. Deep Reinforcement Learning\n",
        "from Human Preferences https://papers.nips.cc/paper/2017/file/d5e2c0adad503c91f91df240d0cd4e49-Paper.pdf\n",
        "2. Deep Q-learning from Demonstrations https://arxiv.org/pdf/1704.03732.pdf\n",
        "3. Reward learning from human preferences https://arxiv.org/pdf/1811.06521.pdf\n",
        "4. T-REX https://arxiv.org/pdf/1904.06387.pdf\n",
        "\n",
        "**Code Bases:**\n",
        "1. https://github.com/nottombrown/rl-teacher\n",
        "2. https://github.com/hiwonjoon/ICML2019-TREX\n"
      ]
    },
    {
      "cell_type": "markdown",
      "metadata": {
        "execution": {},
        "id": "ptpdnpwGobbz"
      },
      "source": [
        "---\n",
        "# References\n",
        "\n",
        "1. Stable Baselines Framework: https://stable-baselines3.readthedocs.io/en/master/guide/examples.html\n",
        "\n",
        "2. Lunar Lander Environment: https://gym.openai.com/envs/LunarLander-v2/\n",
        "\n",
        "3. OpenAI gym environments: https://gym.openai.com/docs/\n",
        "\n",
        "4. A good reference for introduction to RL: http://incompleteideas.net/book/the-book-2nd.html\n"
      ]
    }
  ],
  "metadata": {
    "accelerator": "GPU",
    "colab": {
      "collapsed_sections": [],
      "name": "lunar_lander_group1_atcheke",
      "provenance": [],
      "toc_visible": true,
      "machine_shape": "hm",
      "include_colab_link": true
    },
    "gpuClass": "standard",
    "kernel": {
      "display_name": "Python 3",
      "language": "python",
      "name": "python3"
    },
    "kernelspec": {
      "display_name": "Python 3",
      "name": "python3"
    },
    "language_info": {
      "name": "python"
    }
  },
  "nbformat": 4,
  "nbformat_minor": 0
}