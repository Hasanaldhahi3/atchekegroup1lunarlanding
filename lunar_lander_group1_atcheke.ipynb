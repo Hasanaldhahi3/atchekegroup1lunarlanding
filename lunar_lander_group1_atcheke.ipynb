{
  "cells": [
    {
      "cell_type": "markdown",
      "metadata": {
        "id": "view-in-github",
        "colab_type": "text"
      },
      "source": [
        "<a href=\"https://colab.research.google.com/github/carlacodes/atchekegroup1lunarlanding/blob/sherry/lunar_lander_group1_atcheke.ipynb\" target=\"_parent\"><img src=\"https://colab.research.google.com/assets/colab-badge.svg\" alt=\"Open In Colab\"/></a>"
      ]
    },
    {
      "cell_type": "markdown",
      "metadata": {
        "execution": {},
        "id": "rKjkh_KgobbF"
      },
      "source": [
        "# Performance Analysis of DQN Algorithm on the Lunar Lander task\n",
        "\n",
        "**By Neuromatch Academy**\n",
        "\n",
        "__Content creators:__ Raghuram Bharadwaj Diddigi, Geraud Nangue Tasse, Yamil Vidal, Sanjukta Krishnagopal, Sara Rajaee\n",
        "\n",
        "__Content editors:__ Spiros Chavlis"
      ]
    },
    {
      "cell_type": "markdown",
      "metadata": {
        "execution": {},
        "id": "iDR5t137obbP"
      },
      "source": [
        "<p align='center'><img src='https://github.com/NeuromatchAcademy/widgets/blob/master/sponsors.png?raw=True'/></p>"
      ]
    },
    {
      "cell_type": "markdown",
      "metadata": {
        "execution": {},
        "id": "brZ9ZJQzobbR"
      },
      "source": [
        "---\n",
        "# Objective\n",
        "\n",
        "In this project, the objective is to analyze the performance of the Deep Q-Learning algorithm on an exciting task- Lunar Lander. Before we describe the task, let us focus on two keywords here - analysis and performance. What exactly do we mean by these keywords in the context of Reinforcement Learning (RL)?"
      ]
    },
    {
      "cell_type": "markdown",
      "metadata": {
        "execution": {},
        "id": "wpX-jA7GobbT"
      },
      "source": [
        "---\n",
        "# Setup"
      ]
    },
    {
      "cell_type": "code",
      "execution_count": 1,
      "metadata": {
        "execution": {},
        "id": "9EanvrrhobbU",
        "outputId": "87929ee4-bce9-49bf-b2c1-9547659b763f",
        "colab": {
          "base_uri": "https://localhost:8080/"
        }
      },
      "outputs": [
        {
          "output_type": "stream",
          "name": "stdout",
          "text": [
            "\u001b[K     |████████████████████████████████| 177 kB 9.1 MB/s \n",
            "\u001b[K     |████████████████████████████████| 1.6 MB 42.5 MB/s \n",
            "\u001b[K     |████████████████████████████████| 1.5 MB 37.5 MB/s \n",
            "\u001b[K     |████████████████████████████████| 1.1 MB 49.4 MB/s \n",
            "\u001b[?25h  Installing build dependencies ... \u001b[?25l\u001b[?25hdone\n",
            "  Getting requirements to build wheel ... \u001b[?25l\u001b[?25hdone\n",
            "    Preparing wheel metadata ... \u001b[?25l\u001b[?25hdone\n",
            "  Building wheel for gym (setup.py) ... \u001b[?25l\u001b[?25hdone\n",
            "  Building wheel for AutoROM.accept-rom-license (PEP 517) ... \u001b[?25l\u001b[?25hdone\n",
            "\u001b[K     |████████████████████████████████| 448 kB 5.7 MB/s \n",
            "\u001b[?25h"
          ]
        }
      ],
      "source": [
        "# @title Install dependencies\n",
        "!sudo apt-get update > /dev/null 2>&1\n",
        "!sudo apt-get install -y xvfb python-opengl ffmpeg > /dev/null 2>&1\n",
        "!pip install rarfile --quiet\n",
        "!pip install stable-baselines3[extra] ale-py==0.7.4 --quiet\n",
        "!pip install box2d-py --quiet\n",
        "!pip install gym pyvirtualdisplay --quiet\n",
        "!pip install pyglet --quiet"
      ]
    },
    {
      "cell_type": "code",
      "source": [
        "!pip3 install optuna --quiet"
      ],
      "metadata": {
        "colab": {
          "base_uri": "https://localhost:8080/"
        },
        "id": "qSg7t4EJx9Pp",
        "outputId": "634a6365-cebf-416d-dc93-9cac84635c82"
      },
      "execution_count": 2,
      "outputs": [
        {
          "output_type": "stream",
          "name": "stdout",
          "text": [
            "\u001b[K     |████████████████████████████████| 308 kB 8.9 MB/s \n",
            "\u001b[K     |████████████████████████████████| 209 kB 47.8 MB/s \n",
            "\u001b[K     |████████████████████████████████| 81 kB 7.2 MB/s \n",
            "\u001b[K     |████████████████████████████████| 78 kB 7.4 MB/s \n",
            "\u001b[K     |████████████████████████████████| 147 kB 50.4 MB/s \n",
            "\u001b[K     |████████████████████████████████| 49 kB 5.8 MB/s \n",
            "\u001b[K     |████████████████████████████████| 112 kB 49.2 MB/s \n",
            "\u001b[?25h  Building wheel for pyperclip (setup.py) ... \u001b[?25l\u001b[?25hdone\n"
          ]
        }
      ]
    },
    {
      "cell_type": "code",
      "execution_count": 3,
      "metadata": {
        "execution": {},
        "id": "pE3qZJLcobbW"
      },
      "outputs": [],
      "source": [
        "# Imports\n",
        "import io\n",
        "import os\n",
        "import glob\n",
        "import torch\n",
        "import base64\n",
        "import stable_baselines3\n",
        "\n",
        "import numpy as np\n",
        "import matplotlib.pyplot as plt\n",
        "\n",
        "from stable_baselines3 import DQN\n",
        "from stable_baselines3.common.results_plotter import ts2xy, load_results\n",
        "from stable_baselines3.common.callbacks import EvalCallback\n",
        "from stable_baselines3.common.env_util import make_atari_env\n",
        "\n",
        "import gym\n",
        "from gym import spaces\n",
        "from gym.wrappers import Monitor"
      ]
    },
    {
      "cell_type": "code",
      "source": [
        "import optuna\n",
        "\n",
        "from IPython.display import clear_output\n",
        "import sys"
      ],
      "metadata": {
        "id": "CHT0LZ0WyERZ"
      },
      "execution_count": 4,
      "outputs": []
    },
    {
      "cell_type": "code",
      "execution_count": 5,
      "metadata": {
        "execution": {},
        "id": "fp1bUnClobbY"
      },
      "outputs": [],
      "source": [
        "# @title Plotting/Video functions\n",
        "from IPython.display import HTML\n",
        "from pyvirtualdisplay import Display\n",
        "from IPython import display as ipythondisplay\n",
        "\n",
        "display = Display(visible=0, size=(1400, 900))\n",
        "display.start()\n",
        "\n",
        "\"\"\"\n",
        "Utility functions to enable video recording of gym environment\n",
        "and displaying it.\n",
        "To enable video, just do \"env = wrap_env(env)\"\"\n",
        "\"\"\"\n",
        "\n",
        "def show_video():\n",
        "  mp4list = glob.glob('video/*.mp4')\n",
        "  if len(mp4list) > 0:\n",
        "    mp4 = mp4list[0]\n",
        "    video = io.open(mp4, 'r+b').read()\n",
        "    encoded = base64.b64encode(video)\n",
        "    ipythondisplay.display(HTML(data='''<video alt=\"test\" autoplay\n",
        "                loop controls style=\"height: 400px;\">\n",
        "                <source src=\"data:video/mp4;base64,{0}\" type=\"video/mp4\" />\n",
        "             </video>'''.format(encoded.decode('ascii'))))\n",
        "  else:\n",
        "    print(\"Could not find video\")\n",
        "\n",
        "\n",
        "def wrap_env(env):\n",
        "  env = Monitor(env, './video', force=True)\n",
        "  return env"
      ]
    },
    {
      "cell_type": "markdown",
      "metadata": {
        "execution": {},
        "id": "psfdqUCmobba"
      },
      "source": [
        "---\n",
        "# Introduction\n",
        "\n",
        "In a standard RL setting, an agent learns optimal behavior from an environment through a feedback mechanism to maximize a given objective. Many algorithms have been proposed in the RL literature that an agent can apply to learn the optimal behavior. One such popular algorithm is the Deep Q-Network (DQN). This algorithm makes use of deep neural networks to compute optimal actions. In this project, your goal is to understand the effect of the number of neural network layers on the algorithm's performance. The performance of the algorithm can be evaluated through two metrics - Speed and Stability. \n",
        "\n",
        "**Speed:** How fast the algorithm reaches the maximum possible reward. \n",
        "\n",
        "**Stability** In some applications (especially when online learning is involved), along with speed, stability of the algorithm, i.e., minimal fluctuations in performance, is equally important. \n",
        "\n",
        "In this project, you should investigate the following question:\n",
        "\n",
        "**What is the impact of number of neural network layers on speed and stability of the algorithm?**\n",
        "\n",
        "You do not have to write the DQN code from scratch. We have provided a basic implementation of the DQN algorithm. You only have to tune the hyperparameters (neural network size, learning rate, etc), observe the performance, and analyze. More details on this are provided below. \n",
        "\n",
        "Now, let us discuss the RL task we have chosen, i.e., Lunar Lander. This task consists of the lander and a landing pad marked by two flags. The episode starts with the lander moving downwards due to gravity. The objective is to land safely using different engines available on the lander with zero speed on the landing pad as quickly and fuel efficient as possible. Reward for moving from the top of the screen and landing on landing pad with zero speed is between 100 to 140 points. Each leg ground contact yields a reward of 10 points. Firing main engine leads to a reward of -0.3 points in each frame. Firing the side engine leads to a reward of -0.03 points in each frame. An additional reward of -100 or +100 points is received if the lander crashes or comes to rest respectively which also leads to end of the episode. \n",
        "\n",
        "The input state of the Lunar Lander consists of following components:\n",
        "\n",
        "  1. Horizontal Position\n",
        "  2. Vertical Position\n",
        "  3. Horizontal Velocity\n",
        "  4. Vertical Velocity\n",
        "  5. Angle\n",
        "  6. Angular Velocity\n",
        "  7. Left Leg Contact\n",
        "  8. Right Leg Contact\n",
        "\n",
        "The actions of the agents are:\n",
        "  1. Do Nothing\n",
        "  2. Fire Main Engine\n",
        "  3. Fire Left Engine\n",
        "  4. Fire Right Engine\n",
        "\n",
        "\n",
        "<img src=\"https://raw.githubusercontent.com/NeuromatchAcademy/course-content-dl/main/projects/static/lunar_lander.png\">"
      ]
    },
    {
      "cell_type": "markdown",
      "metadata": {
        "execution": {},
        "id": "fGCTNteSobbd"
      },
      "source": [
        "---\n",
        "# Basic DQN Implementation\n",
        "\n",
        "We will now implement the DQN algorithm using the existing code base. We encourage you to understand this example and re-use it in an application/project of your choice! "
      ]
    },
    {
      "cell_type": "markdown",
      "metadata": {
        "execution": {},
        "id": "sEG8U0Pmobbf"
      },
      "source": [
        "Now, let us set some hyperparameters for our algorithm. This is the only part you would play around with, to solve the first part of the project. "
      ]
    },
    {
      "cell_type": "markdown",
      "source": [
        "## Tuning hyperparameters"
      ],
      "metadata": {
        "id": "XgNuDz2mrq0g"
      }
    },
    {
      "cell_type": "markdown",
      "source": [
        "ref: \n",
        "\n",
        "1.   template https://github.com/AI4Finance-Foundation/FinRL/blob/master/tutorials/4-Optimization/FinRL_HyperparameterTuning_using_Optuna_basic.ipynb\n",
        "\n",
        "2.   tutorial (combined with template): https://medium.com/analytics-vidhya/hyperparameter-tuning-using-optuna-for-finrl-8a49506d2741\n",
        "\n",
        "3.  set parameter function: https://github.com/DLR-RM/rl-baselines3-zoo/blob/master/utils/hyperparams_opt.py\n",
        "\n",
        "4.   callback function: https://github.com/DLR-RM/rl-baselines3-zoo/blob/master/utils/callbacks.py#L10\n",
        "\n",
        "\n",
        "\n"
      ],
      "metadata": {
        "id": "6RQ_bAC6KlAU"
      }
    },
    {
      "cell_type": "markdown",
      "source": [
        "### define search space"
      ],
      "metadata": {
        "id": "i_gZFwkKtj5T"
      }
    },
    {
      "cell_type": "code",
      "source": [
        "def sample_dqn_params(trial: optuna.Trial):\n",
        "    \"\"\"\n",
        "    Sampler for DQN hyperparams.\n",
        "    :param trial:\n",
        "    :return:\n",
        "    \"\"\"\n",
        "    learning_rate = trial.suggest_loguniform(\"learning_rate\", 1e-5, 1e-2)\n",
        "\n",
        "    net_arch = trial.suggest_categorical(\"net_arch\", [\"two\", \"three\"]) #, \"two_big\"\n",
        "    net_arch = {\"two\": [64, 64], \"three\": [64, 64, 64]}[net_arch] #, \"two_big\": [256, 256]\n",
        "\n",
        "    hyperparams = {\n",
        "        \"learning_rate\": learning_rate,#\n",
        "        \"policy_kwargs\": dict(activation_fn=torch.nn.ReLU, net_arch=net_arch),\n",
        "        \"batch_size\": 1,  #for simplicity, we are not doing batch update.\n",
        "        \"buffer_size\": 1, #size of experience of replay buffer. Set to 1 as batch update is not done\n",
        "        \"learning_starts\": 1, #learning starts immediately!\n",
        "        \"gamma\": 0.99, #discount facto. range is between 0 and 1.\n",
        "        \"tau\": 1,  #the soft update coefficient for updating the target network\n",
        "        \"target_update_interval\": 1, #update the target network immediately.\n",
        "        \"train_freq\": (1,\"step\"), #train the network at every step.\n",
        "        \"max_grad_norm\": 10, #the maximum value for the gradient clipping\n",
        "        \"exploration_initial_eps\": 1, #initial value of random action probability\n",
        "        \"exploration_fraction\": 0.5, #fraction of entire training period over which the exploration rate is reduced\n",
        "        \"gradient_steps\": 1, #number of gradient steps\n",
        "        \"seed\": 1, #seed for the pseudo random generators\n",
        "        \"verbose\": 0\n",
        "    }\n",
        "    return hyperparams"
      ],
      "metadata": {
        "id": "mWhSf_qjk8T4"
      },
      "execution_count": null,
      "outputs": []
    },
    {
      "cell_type": "markdown",
      "source": [
        "### define callback"
      ],
      "metadata": {
        "id": "fFyJprz6tp7_"
      }
    },
    {
      "cell_type": "code",
      "source": [
        "class LoggingCallback:\n",
        "    def __init__(self,threshold,trial_number,patience):\n",
        "      '''\n",
        "      threshold: int tolerance for increase in reward\n",
        "      trial_number: int Prune after minimum number of trials\n",
        "      patience: int patience for the threshold\n",
        "      '''\n",
        "      self.threshold = threshold\n",
        "      self.trial_number  = trial_number\n",
        "      self.patience = patience\n",
        "      self.cb_list = [] #Trials list for which threshold is reached\n",
        "    def __call__(self,study:optuna.study, frozen_trial:optuna.Trial):\n",
        "      #Setting the best value in the current trial\n",
        "      study.set_user_attr(\"previous_best_value\", study.best_value)\n",
        "      \n",
        "      #Checking if the minimum number of trials have pass\n",
        "      if frozen_trial.number >self.trial_number:\n",
        "          previous_best_value = study.user_attrs.get(\"previous_best_value\",None)\n",
        "          #Checking if the previous and current objective values have the same sign\n",
        "          if previous_best_value * study.best_value >=0:\n",
        "              #Checking for the threshold condition\n",
        "              if abs(previous_best_value-study.best_value) < self.threshold: \n",
        "                  self.cb_list.append(frozen_trial.number)\n",
        "                  #If threshold is achieved for the patience amount of time\n",
        "                  if len(self.cb_list)>self.patience:\n",
        "                      print('The study stops now...')\n",
        "                      print('With number',frozen_trial.number ,'and value ',frozen_trial.value)\n",
        "                      print('The previous and current best values are {} and {} respectively'\n",
        "                              .format(previous_best_value, study.best_value))\n",
        "                      study.stop()"
      ],
      "metadata": {
        "id": "Q4FKnTdKttOu"
      },
      "execution_count": null,
      "outputs": []
    },
    {
      "cell_type": "markdown",
      "source": [
        "### define objective"
      ],
      "metadata": {
        "id": "B1qV393bpoTO"
      }
    },
    {
      "cell_type": "code",
      "source": [
        "log_dir = \"models\"\n",
        "os.makedirs(log_dir,exist_ok=True) \n",
        "\n",
        "def objective(trial:optuna.Trial):\n",
        "\n",
        "  # Create environment\n",
        "  env = gym.make('LunarLander-v2')\n",
        "  env = stable_baselines3.common.monitor.Monitor(env, log_dir)\n",
        "\n",
        "  #Trial will suggest a set of hyperparamters from the specified range\n",
        "  hyperparameters = sample_dqn_params(trial)\n",
        "  model_dqn = DQN(\"MlpPolicy\", env, **hyperparameters) #Set verbose to 1 to observe training logs. We encourage you to set the verbose to 1.\n",
        "\n",
        "  # define learning steps\n",
        "  trained_dqn = model_dqn.learn(total_timesteps=100000, log_interval=10)#100000 , callback=callback\n",
        "  # save model\n",
        "  trained_dqn.save('models/dqn_{}.pth'.format(trial.number)) \n",
        "\n",
        "  x, y = ts2xy(load_results(log_dir), 'episodes') # timesteps\n",
        "  # clear_output(wait=True)\n",
        "  #For the given hyperparamters, determine reward\n",
        "  reward = sum(y)\n",
        "  return reward\n",
        "\n",
        "#Create a study object and specify the direction as 'maximize'\n",
        "#As you want to maximize reward\n",
        "#Pruner stops not promising iterations\n",
        "#Use a pruner, else you will get error related to divergence of model\n",
        "#You can also use Multivariate samplere\n",
        "#sampler = optuna.samplers.TPESampler(multivarite=True,seed=42)\n",
        "sampler = optuna.samplers.TPESampler(seed=42)\n",
        "study = optuna.create_study(study_name=\"dqn_study\",direction='maximize',\n",
        "                            sampler = sampler, pruner=optuna.pruners.HyperbandPruner())\n",
        "\n",
        "logging_callback = LoggingCallback(threshold=10, patience=30, trial_number=5)\n",
        "#You can increase the n_trials for a better search space scanning\n",
        "study.optimize(objective, n_trials=4, catch=(ValueError,),callbacks=[logging_callback])"
      ],
      "metadata": {
        "id": "2s-bjWndt_a6"
      },
      "execution_count": null,
      "outputs": []
    },
    {
      "cell_type": "markdown",
      "source": [
        "### get the best model"
      ],
      "metadata": {
        "id": "tf91UWqvzR6Y"
      }
    },
    {
      "cell_type": "code",
      "source": [
        "#Get the best hyperparamters\n",
        "print('Hyperparameters after tuning',study.best_params)"
      ],
      "metadata": {
        "colab": {
          "base_uri": "https://localhost:8080/"
        },
        "id": "CcDma0wSy02u",
        "outputId": "60f8937f-a7ed-4951-9b97-43416b0b9fb2"
      },
      "execution_count": null,
      "outputs": [
        {
          "output_type": "stream",
          "name": "stdout",
          "text": [
            "Hyperparameters after tuning {'learning_rate': 0.0001329291894316216, 'net_arch': 'two'}\n"
          ]
        }
      ]
    },
    {
      "cell_type": "code",
      "source": [
        "study.best_trial"
      ],
      "metadata": {
        "colab": {
          "base_uri": "https://localhost:8080/"
        },
        "id": "yqou4GOlzWMh",
        "outputId": "c74fe0ff-db2e-499d-9899-354cf2e6da7e"
      },
      "execution_count": null,
      "outputs": [
        {
          "output_type": "execute_result",
          "data": {
            "text/plain": [
              "FrozenTrial(number=0, values=[-64206.27353400003], datetime_start=datetime.datetime(2022, 7, 20, 8, 56, 57, 127327), datetime_complete=datetime.datetime(2022, 7, 20, 9, 6, 23, 876212), params={'learning_rate': 0.0001329291894316216, 'net_arch': 'two'}, distributions={'learning_rate': LogUniformDistribution(high=0.01, low=1e-05), 'net_arch': CategoricalDistribution(choices=('two', 'three'))}, user_attrs={}, system_attrs={}, intermediate_values={}, trial_id=0, state=TrialState.COMPLETE, value=None)"
            ]
          },
          "metadata": {},
          "execution_count": 16
        }
      ]
    },
    {
      "cell_type": "markdown",
      "source": [
        "## Template"
      ],
      "metadata": {
        "id": "mObWM9TLp2lj"
      }
    },
    {
      "cell_type": "code",
      "execution_count": 11,
      "metadata": {
        "execution": {},
        "id": "vJm_qzWkobbg"
      },
      "outputs": [],
      "source": [
        "nn_layers = [64,64] #This is the configuration of your neural network. Currently, we have two layers, each consisting of 64 neurons.\n",
        "                    #If you want three layers with 64 neurons each, set the value to [64,64,64] and so on.\n",
        "\n",
        "learning_rate = 0.001 #This is the step-size with which the gradient descent is carried out.\n",
        "                      #Tip: Use smaller step-sizes for larger networks."
      ]
    },
    {
      "cell_type": "markdown",
      "metadata": {
        "execution": {},
        "id": "-9bGzUVPobbh"
      },
      "source": [
        "Now, let us setup our model and the DQN algorithm. "
      ]
    },
    {
      "cell_type": "code",
      "execution_count": 12,
      "metadata": {
        "execution": {},
        "id": "1dN91ycLobbh"
      },
      "outputs": [],
      "source": [
        "log_dir = \"/tmp/gym/\"\n",
        "os.makedirs(log_dir, exist_ok=True)\n",
        "\n",
        "# Create environment\n",
        "env = gym.make('LunarLander-v2')\n",
        "#You can also load other environments like cartpole, MountainCar, Acrobot. Refer to https://gym.openai.com/docs/ for descriptions.\n",
        "#For example, if you would like to load Cartpole, just replace the above statement with \"env = gym.make('CartPole-v1')\".\n",
        "\n",
        "env = stable_baselines3.common.monitor.Monitor(env, log_dir )\n",
        "\n",
        "callback = EvalCallback(env,log_path = log_dir, deterministic=True) #For evaluating the performance of the agent periodically and logging the results.\n",
        "\n",
        "policy_kwargs = dict(activation_fn=torch.nn.ReLU,\n",
        "                     net_arch=nn_layers)\n",
        "model = DQN(\"MlpPolicy\", env, policy_kwargs = policy_kwargs,\n",
        "            learning_rate=learning_rate,\n",
        "            batch_size=1,  #for simplicity, we are not doing batch update.\n",
        "            buffer_size=1, #size of experience of replay buffer. Set to 1 as batch update is not done\n",
        "            learning_starts=1, #learning starts immediately!\n",
        "            gamma=0.99, #discount facto. range is between 0 and 1.\n",
        "            tau = 1,  #the soft update coefficient for updating the target network\n",
        "            target_update_interval=1, #update the target network immediately.\n",
        "            train_freq=(1,\"step\"), #train the network at every step.\n",
        "            max_grad_norm = 10, #the maximum value for the gradient clipping\n",
        "            exploration_initial_eps = 1, #initial value of random action probability\n",
        "            exploration_fraction = 0.5, #fraction of entire training period over which the exploration rate is reduced\n",
        "            gradient_steps = 1, #number of gradient steps\n",
        "            seed = 1, #seed for the pseudo random generators\n",
        "            verbose=0) #Set verbose to 1 to observe training logs. We encourage you to set the verbose to 1.\n",
        "\n",
        "# You can also experiment with other RL algorithms like A2C, PPO, DDPG etc. Refer to  https://stable-baselines3.readthedocs.io/en/master/guide/examples.html\n",
        "#for documentation. For example, if you would like to run DDPG, just replace \"DQN\" above with \"DDPG\"."
      ]
    },
    {
      "cell_type": "markdown",
      "metadata": {
        "execution": {},
        "id": "0-7OLtdpobbi"
      },
      "source": [
        "Before we train the model, let us look at an instance of Lunar Lander **before training**.  \n",
        "\n",
        "**Note:** The following code for rendering the video is taken from https://colab.research.google.com/github/jeffheaton/t81_558_deep_learning/blob/master/t81_558_class_12_01_ai_gym.ipynb#scrollTo=T9RpF49oOsZj"
      ]
    },
    {
      "cell_type": "code",
      "execution_count": null,
      "metadata": {
        "execution": {},
        "id": "8nEQvdE7obbj",
        "outputId": "9b00b3cf-2f9e-4d58-ca2d-98e5f4083637",
        "colab": {
          "base_uri": "https://localhost:8080/",
          "height": 421
        }
      },
      "outputs": [
        {
          "output_type": "display_data",
          "data": {
            "text/plain": [
              "<IPython.core.display.HTML object>"
            ],
            "text/html": [
              "<video alt=\"test\" autoplay\n",
              "                loop controls style=\"height: 400px;\">\n",
              "                <source src=\"data:video/mp4;base64,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\" type=\"video/mp4\" />\n",
              "             </video>"
            ]
          },
          "metadata": {}
        }
      ],
      "source": [
        "test_env = wrap_env(gym.make(\"LunarLander-v2\"))\n",
        "observation = test_env.reset()\n",
        "total_reward = 0\n",
        "while True:\n",
        "  test_env.render()\n",
        "  action, states = model.predict(observation, deterministic=True)\n",
        "  observation, reward, done, info = test_env.step(action)\n",
        "  total_reward += reward\n",
        "  if done:\n",
        "    break;\n",
        "\n",
        "# print(total_reward)\n",
        "test_env.close()\n",
        "show_video()"
      ]
    },
    {
      "cell_type": "markdown",
      "metadata": {
        "execution": {},
        "id": "ZpMABSl9obbk"
      },
      "source": [
        "From the video above, we see that the lander has crashed! \n",
        "It is now the time for training! \n"
      ]
    },
    {
      "cell_type": "code",
      "execution_count": 13,
      "metadata": {
        "execution": {},
        "id": "I0hzLf1lobbl",
        "outputId": "23820c62-3e1d-4c0d-bae0-376dad1b87ab",
        "colab": {
          "base_uri": "https://localhost:8080/"
        }
      },
      "outputs": [
        {
          "output_type": "execute_result",
          "data": {
            "text/plain": [
              "<stable_baselines3.dqn.dqn.DQN at 0x7f1a38044350>"
            ]
          },
          "metadata": {},
          "execution_count": 13
        }
      ],
      "source": [
        "model.learn(total_timesteps=1000, log_interval=10, callback=callback, eval_log_path=log_dir)\n",
        "# The performance of the training will be printed every 10 episodes. Change it to 1, if you wish to\n",
        "# view the performance at every training episode.\n",
        "# how to read monitor.csv: ep_info = {\"r\": round(ep_rew, 6), \"l\": ep_len, \"t\": round(time.time() - self.t_start, 6)}"
      ]
    },
    {
      "cell_type": "markdown",
      "metadata": {
        "execution": {},
        "id": "ueR5BIcpobbm"
      },
      "source": [
        "The training takes time. We encourage you to analyze the output logs (set verbose to 1 to print the output logs). The main component of the logs that you should track is \"ep_rew_mean\" (mean of episode rewards). As the training proceeds, the value of \"ep_rew_mean\" should increase. The improvement need not be monotonic, but the trend should be upwards! \n",
        "\n",
        "Along with training, we are also periodically evaluating the performance of the current model during the training. This was reported in logs as follows:\n",
        "\n",
        "```\n",
        "Eval num_timesteps=100000, episode_reward=63.41 +/- 130.02\n",
        "Episode length: 259.80 +/- 47.47\n",
        "```"
      ]
    },
    {
      "cell_type": "markdown",
      "metadata": {
        "execution": {},
        "id": "ogkoKXiXobbm"
      },
      "source": [
        "Now, let us look at the visual performance of the lander. \n",
        "\n",
        "**Note:** The performance varies across different seeds and runs. This code is not optimized to be stable across all runs and seeds. We hope you will be able to find an optimal configuration! "
      ]
    },
    {
      "cell_type": "code",
      "execution_count": null,
      "metadata": {
        "execution": {},
        "id": "m_WCp8wdobbn",
        "outputId": "3fdda593-41fc-4f87-de3b-d00ab69b0bbc",
        "colab": {
          "base_uri": "https://localhost:8080/",
          "height": 240
        }
      },
      "outputs": [
        {
          "output_type": "error",
          "ename": "NameError",
          "evalue": "ignored",
          "traceback": [
            "\u001b[0;31m---------------------------------------------------------------------------\u001b[0m",
            "\u001b[0;31mNameError\u001b[0m                                 Traceback (most recent call last)",
            "\u001b[0;32m<ipython-input-1-1b69d83af4b5>\u001b[0m in \u001b[0;36m<module>\u001b[0;34m()\u001b[0m\n\u001b[0;32m----> 1\u001b[0;31m \u001b[0menv\u001b[0m \u001b[0;34m=\u001b[0m \u001b[0mwrap_env\u001b[0m\u001b[0;34m(\u001b[0m\u001b[0mgym\u001b[0m\u001b[0;34m.\u001b[0m\u001b[0mmake\u001b[0m\u001b[0;34m(\u001b[0m\u001b[0;34m\"LunarLander-v2\"\u001b[0m\u001b[0;34m)\u001b[0m\u001b[0;34m)\u001b[0m\u001b[0;34m\u001b[0m\u001b[0;34m\u001b[0m\u001b[0m\n\u001b[0m\u001b[1;32m      2\u001b[0m \u001b[0mobservation\u001b[0m \u001b[0;34m=\u001b[0m \u001b[0menv\u001b[0m\u001b[0;34m.\u001b[0m\u001b[0mreset\u001b[0m\u001b[0;34m(\u001b[0m\u001b[0;34m)\u001b[0m\u001b[0;34m\u001b[0m\u001b[0;34m\u001b[0m\u001b[0m\n\u001b[1;32m      3\u001b[0m \u001b[0;32mwhile\u001b[0m \u001b[0;32mTrue\u001b[0m\u001b[0;34m:\u001b[0m\u001b[0;34m\u001b[0m\u001b[0;34m\u001b[0m\u001b[0m\n\u001b[1;32m      4\u001b[0m   \u001b[0menv\u001b[0m\u001b[0;34m.\u001b[0m\u001b[0mrender\u001b[0m\u001b[0;34m(\u001b[0m\u001b[0;34m)\u001b[0m\u001b[0;34m\u001b[0m\u001b[0;34m\u001b[0m\u001b[0m\n\u001b[1;32m      5\u001b[0m   \u001b[0maction\u001b[0m\u001b[0;34m,\u001b[0m \u001b[0m_states\u001b[0m \u001b[0;34m=\u001b[0m \u001b[0mmodel\u001b[0m\u001b[0;34m.\u001b[0m\u001b[0mpredict\u001b[0m\u001b[0;34m(\u001b[0m\u001b[0mobservation\u001b[0m\u001b[0;34m,\u001b[0m \u001b[0mdeterministic\u001b[0m\u001b[0;34m=\u001b[0m\u001b[0;32mTrue\u001b[0m\u001b[0;34m)\u001b[0m\u001b[0;34m\u001b[0m\u001b[0;34m\u001b[0m\u001b[0m\n",
            "\u001b[0;31mNameError\u001b[0m: name 'wrap_env' is not defined"
          ]
        }
      ],
      "source": [
        "env = wrap_env(gym.make(\"LunarLander-v2\"))\n",
        "observation = env.reset()\n",
        "while True:\n",
        "  env.render()\n",
        "  action, _states = model.predict(observation, deterministic=True)\n",
        "  observation, reward, done, info = env.step(action)\n",
        "  if done:\n",
        "    break;\n",
        "\n",
        "env.close()\n",
        "show_video()"
      ]
    },
    {
      "cell_type": "markdown",
      "metadata": {
        "execution": {},
        "id": "Ov5djtn9obbn"
      },
      "source": [
        "The lander has landed safely!!\n",
        "\n",
        "Let us analyze its performance (speed and stability). For this purpose, we plot the number of time steps on the X-axis and the episodic reward given by the trained model on the Y-axis. "
      ]
    },
    {
      "cell_type": "code",
      "execution_count": null,
      "metadata": {
        "execution": {},
        "id": "asuy5ryIobbo",
        "outputId": "63569cc2-a0c7-464a-af73-e11b361c24cf",
        "colab": {
          "base_uri": "https://localhost:8080/",
          "height": 301
        }
      },
      "outputs": [
        {
          "output_type": "execute_result",
          "data": {
            "text/plain": [
              "Text(0, 0.5, 'Episode Rewards')"
            ]
          },
          "metadata": {},
          "execution_count": 22
        },
        {
          "output_type": "display_data",
          "data": {
            "text/plain": [
              "<Figure size 432x288 with 1 Axes>"
            ],
            "image/png": "[encoded data removed]"
          },
          "metadata": {
            "needs_background": "light"
          }
        }
      ],
      "source": [
        "x, y = ts2xy(load_results(log_dir), 'episodes')  # Organising the logged results in to a clean format for plotting. timesteps\n",
        "plt.plot(x,y)\n",
        "plt.ylim([-300, 300])\n",
        "plt.xlabel('Timesteps')\n",
        "plt.ylabel('Episode Rewards')"
      ]
    },
    {
      "cell_type": "markdown",
      "metadata": {
        "execution": {},
        "id": "mw3iMGmwobbo"
      },
      "source": [
        "From the above plot, we observe that, although the maximum reward is achieved quickly. Achieving an episodic reward of > 200 is good. We see that the agent has achieved it in less than 50000 timesteps (speed is good!). However, there are a lot of fluctuations in the performance (stability is not good!). \n",
        "\n",
        "Your objective now is to modify the model parameters (nn_layers, learning_rate in the code cell #2 above), run all the cells following it and investigate the stability and speed of the chosen configuration.   \n"
      ]
    },
    {
      "cell_type": "markdown",
      "metadata": {
        "execution": {},
        "id": "_bKzapIyobbp"
      },
      "source": [
        "---\n",
        "# Additional Project Ideas"
      ]
    },
    {
      "cell_type": "markdown",
      "metadata": {
        "execution": {},
        "id": "gzByWGxfobbq"
      },
      "source": [
        "## 1 Play with exploration-exploitation trade-off\n",
        "\n",
        "Exploration (selecting random actions) and exploitation (selecting greedy action) is a crucial component of the DQN algorithm. Explore random actions for a long time will slow down the training process. At the same time, if all actions are not explored enough, it might lead to a sub-optimal performance. In the DQN code above, we have used the following parameters:"
      ]
    },
    {
      "cell_type": "code",
      "execution_count": null,
      "metadata": {
        "execution": {},
        "id": "5TeOBG-Jobbq"
      },
      "outputs": [],
      "source": [
        "exploration_initial_eps = 1  # initial value of random action probability. Range is between 0 and 1.\n",
        "exploration_fraction = 0.5  # fraction of entire training period over which the exploration rate is reduced. Range is between 0 and 1.\n",
        "exploration_final_eps = 0.05  # (set by defualt) final value of random action probability. Range is between 0 and 1."
      ]
    },
    {
      "cell_type": "markdown",
      "metadata": {
        "execution": {},
        "id": "dZuGeAULobbq"
      },
      "source": [
        "Your objective is to play around with these parameters and analyze their performance (speed and stability). You can modify these parameters and set them as arguments in DQN(...,exploration_initial_eps = 1, exploration_fraction = 0.5, exploration_final_eps = 0.05,...). "
      ]
    },
    {
      "cell_type": "markdown",
      "metadata": {
        "execution": {},
        "id": "yGp5JFoAobbr"
      },
      "source": [
        "## 2 Reward Shaping\n",
        "\n",
        "Your objective here is to construct a modified reward function that improves the performance of the Lunar Lander. To this end, you would have to create your own custom environment. An example of a custom environment is given below:"
      ]
    },
    {
      "cell_type": "markdown",
      "source": [
        "Ref: https://towardsdatascience.com/beginners-guide-to-custom-environments-in-openai-s-gym-989371673952"
      ],
      "metadata": {
        "id": "yIFSDq7eyXY-"
      }
    },
    {
      "cell_type": "markdown",
      "source": [
        "### New environment with wind"
      ],
      "metadata": {
        "id": "iIvGmuJD49zZ"
      }
    },
    {
      "cell_type": "code",
      "source": [
        "from gym.envs.box2d import LunarLander"
      ],
      "metadata": {
        "id": "dTxYseql3ry3"
      },
      "execution_count": 6,
      "outputs": []
    },
    {
      "cell_type": "code",
      "source": [
        "class Custom_LunarLander_wind(LunarLander):\n",
        "    \"\"\"Custom Environment that follows gym interface\"\"\"\n",
        "    metadata = {'render.modes': ['human']}\n",
        "\n",
        "    def __init__(self):\n",
        "        LunarLander.__init__(self);\n",
        "\n",
        "def step(self, action):\n",
        "        assert self.lander is not None\n",
        "\n",
        "        # Update wind\n",
        "        assert self.lander is not None, \"You forgot to call reset()\"\n",
        "        if self.enable_wind and not (\n",
        "            self.legs[0].ground_contact or self.legs[1].ground_contact\n",
        "        ):\n",
        "            # the function used for wind is tanh(sin(2 k x) + sin(pi k x)),\n",
        "            # which is proven to never be periodic, k = 0.01\n",
        "            wind_mag = (\n",
        "                math.tanh(\n",
        "                    math.sin(0.02 * self.wind_idx)\n",
        "                    + (math.sin(math.pi * 0.01 * self.wind_idx))\n",
        "                )\n",
        "                * self.wind_power\n",
        "            )\n",
        "            self.wind_idx += 1\n",
        "            self.lander.ApplyForceToCenter(\n",
        "                (wind_mag, 0.0),\n",
        "                True,\n",
        "            )\n",
        "\n",
        "            # the function used for torque is tanh(sin(2 k x) + sin(pi k x)),\n",
        "            # which is proven to never be periodic, k = 0.01\n",
        "            torque_mag = math.tanh(\n",
        "                math.sin(0.02 * self.torque_idx)\n",
        "                + (math.sin(math.pi * 0.01 * self.torque_idx))\n",
        "            ) * (self.turbulence_power)\n",
        "            self.torque_idx += 1\n",
        "            self.lander.ApplyTorque(\n",
        "                (torque_mag),\n",
        "                True,\n",
        "            )\n",
        "\n",
        "        if self.continuous:\n",
        "            action = np.clip(action, -1, +1).astype(np.float32)\n",
        "        else:\n",
        "            assert self.action_space.contains(\n",
        "                action\n",
        "            ), f\"{action!r} ({type(action)}) invalid \"\n",
        "\n",
        "               # Engines\n",
        "        tip = (math.sin(self.lander.angle), math.cos(self.lander.angle))\n",
        "        side = (-tip[1], tip[0])\n",
        "        dispersion = [self.np_random.uniform(-1.0, +1.0) / SCALE for _ in range(2)]\n",
        "\n",
        "        m_power = 0.0\n",
        "        if (self.continuous and action[0] > 0.0) or (\n",
        "            not self.continuous and action == 2\n",
        "        ):\n",
        "            # Main engine\n",
        "            if self.continuous:\n",
        "                m_power = (np.clip(action[0], 0.0, 1.0) + 1.0) * 0.5  # 0.5..1.0\n",
        "                assert m_power >= 0.5 and m_power <= 1.0\n",
        "            else:\n",
        "                m_power = 1.0\n",
        "            # 4 is move a bit downwards, +-2 for randomness\n",
        "            ox = tip[0] * (4 / SCALE + 2 * dispersion[0]) + side[0] * dispersion[1]\n",
        "            oy = -tip[1] * (4 / SCALE + 2 * dispersion[0]) - side[1] * dispersion[1]\n",
        "            impulse_pos = (self.lander.position[0] + ox, self.lander.position[1] + oy)\n",
        "            p = self._create_particle(\n",
        "                3.5,  # 3.5 is here to make particle speed adequate\n",
        "                impulse_pos[0],\n",
        "                impulse_pos[1],\n",
        "                m_power,\n",
        "            )  # particles are just a decoration\n",
        "            p.ApplyLinearImpulse(\n",
        "                (ox * MAIN_ENGINE_POWER * m_power, oy * MAIN_ENGINE_POWER * m_power),\n",
        "                impulse_pos,\n",
        "                True,\n",
        "            )\n",
        "            self.lander.ApplyLinearImpulse(\n",
        "                (-ox * MAIN_ENGINE_POWER * m_power, -oy * MAIN_ENGINE_POWER * m_power),\n",
        "                impulse_pos,\n",
        "                True,\n",
        "            )\n",
        "\n",
        "            self.world.Step(1.0 / FPS, 6 * 30, 2 * 30)\n",
        "\n",
        "            pos = self.lander.position\n",
        "            vel = self.lander.linearVelocity\n",
        "            state = [\n",
        "                (pos.x - VIEWPORT_W / SCALE / 2) / (VIEWPORT_W / SCALE / 2),\n",
        "                (pos.y - (self.helipad_y + LEG_DOWN / SCALE)) / (VIEWPORT_H / SCALE / 2),\n",
        "                vel.x * (VIEWPORT_W / SCALE / 2) / FPS,\n",
        "                vel.y * (VIEWPORT_H / SCALE / 2) / FPS,\n",
        "                self.lander.angle,\n",
        "                20.0 * self.lander.angularVelocity / FPS,\n",
        "                1.0 if self.legs[0].ground_contact else 0.0,\n",
        "                1.0 if self.legs[1].ground_contact else 0.0,\n",
        "            ]\n",
        "            assert len(state) == 8\n",
        "\n",
        "            reward = 0\n",
        "            shaping = (\n",
        "                -100 * np.sqrt(state[0] * state[0] + state[1] * state[1])\n",
        "                - 100 * np.sqrt(state[2] * state[2] + state[3] * state[3])\n",
        "                - 100 * abs(state[4])\n",
        "                + 10 * state[6]\n",
        "                + 10 * state[7]\n",
        "            )  # And ten points for legs contact, the idea is if you\n",
        "            # lose contact again after landing, you get negative reward\n",
        "            if self.prev_shaping is not None:\n",
        "                reward = shaping - self.prev_shaping\n",
        "            self.prev_shaping = shaping\n",
        "\n",
        "            reward -= (\n",
        "                m_power * 0.30\n",
        "            )  # less fuel spent is better, about -30 for heuristic landing\n",
        "            reward -= s_power * 0.03\n",
        "\n",
        "            terminated = False\n",
        "            if self.game_over or abs(state[0]) >= 1.0:\n",
        "                terminated = True\n",
        "                reward = -100\n",
        "            if not self.lander.awake:\n",
        "                terminated = True\n",
        "                reward = +100\n",
        "            self.renderer.render_step()\n",
        "            return np.array(state, dtype=np.float32), reward, terminated, False, {}\n",
        "\n",
        "    # def reset(self):\n",
        "    #     pass  # reward, done, info can't be included\n",
        "\n",
        "    # def render(self, mode='human'):\n",
        "    #     pass\n",
        "\n",
        "    # def close(self):\n",
        "    #     pass"
      ],
      "metadata": {
        "id": "7Nxu5rsZ4MH1"
      },
      "execution_count": 28,
      "outputs": []
    },
    {
      "cell_type": "code",
      "source": [
        "#Enter the name of the custome environment you created and uncomment the line below.\n",
        "new_env = Custom_LunarLander_wind()\n",
        "# Refer to https://stable-baselines3.readthedocs.io/en/master/guide/custom_env.html, if you would like to create more complex environments."
      ],
      "metadata": {
        "id": "hcHdliZ_4kSl"
      },
      "execution_count": 29,
      "outputs": []
    },
    {
      "cell_type": "code",
      "source": [
        "from stable_baselines3.common.env_checker import check_env\n",
        "check_env(new_env)"
      ],
      "metadata": {
        "id": "kG6IM6zW2IPm"
      },
      "execution_count": 30,
      "outputs": []
    },
    {
      "cell_type": "code",
      "source": [
        "observation = new_env.reset()\n",
        "total_reward = 0\n",
        "while True:\n",
        "  new_env.render()\n",
        "  action, states = model.predict(observation, deterministic=True)\n",
        "  observation, reward, done, info = new_env.step(action)\n",
        "  total_reward += reward\n",
        "  if done:\n",
        "    break;\n",
        "\n",
        "# print(total_reward)\n",
        "new_env.close()\n",
        "show_video()"
      ],
      "metadata": {
        "id": "HeHfAR-g4ttm",
        "outputId": "8bcc62be-33c1-491d-da70-cd41e6e41fc6",
        "colab": {
          "base_uri": "https://localhost:8080/"
        }
      },
      "execution_count": 31,
      "outputs": [
        {
          "output_type": "stream",
          "name": "stdout",
          "text": [
            "Could not find video\n"
          ]
        }
      ]
    },
    {
      "cell_type": "markdown",
      "source": [
        "### Template"
      ],
      "metadata": {
        "id": "h7Jy40kF4cwx"
      }
    },
    {
      "cell_type": "code",
      "execution_count": 18,
      "metadata": {
        "execution": {},
        "id": "RStcMxLfobbr"
      },
      "outputs": [],
      "source": [
        "# Taken from https://stable-baselines3.readthedocs.io/en/master/guide/custom_env.html\n",
        "class CustomEnv(gym.Env):\n",
        "  \"\"\"Custom Environment that follows gym interface\"\"\"\n",
        "  metadata = {'render.modes': ['human']}\n",
        "\n",
        "  def __init__(self, arg1, arg2):\n",
        "    super(CustomEnv, self).__init__()\n",
        "    # Define action and observation space\n",
        "    # They must be gym.spaces objects\n",
        "    # Example when using discrete actions:\n",
        "    self.action_space = spaces.Discrete(N_DISCRETE_ACTIONS)\n",
        "    # Example for using image as input (channel-first; channel-last also works):\n",
        "    self.observation_space = spaces.Box(low=0, high=255,\n",
        "                                        shape=(N_CHANNELS, HEIGHT, WIDTH), dtype=np.uint8)\n",
        "\n",
        "  def step(self, action):\n",
        "    ...\n",
        "    return observation, reward, done, info\n",
        "  def reset(self):\n",
        "    ...\n",
        "    return observation  # reward, done, info can't be included\n",
        "  def render(self, mode='human'):\n",
        "    ...\n",
        "  def close (self):\n",
        "    ..."
      ]
    },
    {
      "cell_type": "markdown",
      "metadata": {
        "execution": {},
        "id": "RKAA_XL4obbs"
      },
      "source": [
        "As you are only changing the reward structure, you can inherit the original Lunar Lander environment from https://github.com/openai/gym/blob/master/gym/envs/box2d/lunar_lander.py and modify just the \"step\" function. Focus on modifying the following part of the code in the \"step\" function\n"
      ]
    },
    {
      "cell_type": "code",
      "execution_count": null,
      "metadata": {
        "execution": {},
        "id": "vW-1yrPyobbs"
      },
      "outputs": [],
      "source": [
        "def step(self, actions):\n",
        "  ...\n",
        "  ...\n",
        "  ...\n",
        "  reward = 0\n",
        "  shaping = (\n",
        "      -100 * np.sqrt(state[0] * state[0] + state[1] * state[1])\n",
        "      - 100 * np.sqrt(state[2] * state[2] + state[3] * state[3])\n",
        "      - 100 * abs(state[4])\n",
        "      + 10 * state[6]\n",
        "      + 10 * state[7]\n",
        "  )  # And ten points for legs contact, the idea is if you\n",
        "  # lose contact again after landing, you get negative reward\n",
        "  if self.prev_shaping is not None:\n",
        "      reward = shaping - self.prev_shaping\n",
        "  self.prev_shaping = shaping\n",
        "\n",
        "  reward -= (\n",
        "      m_power * 0.30\n",
        "  )  # less fuel spent is better, about -30 for heuristic landing. You should modify these values.\n",
        "  reward -= s_power * 0.03\n",
        "\n",
        "  done = False\n",
        "  if self.game_over or abs(state[0]) >= 1.0:\n",
        "      done = True\n",
        "      reward = -100\n",
        "  if not self.lander.awake:\n",
        "      done = True\n",
        "      reward = +100\n",
        "  return np.array(state, dtype=np.float32), reward, done, {}"
      ]
    },
    {
      "cell_type": "markdown",
      "metadata": {
        "execution": {},
        "id": "9CCbUKXQobbs"
      },
      "source": [
        "Once you have cutomized your own environment, you can execute that environment by just calling:"
      ]
    },
    {
      "cell_type": "code",
      "execution_count": null,
      "metadata": {
        "execution": {},
        "id": "T7IuLBYxobbt"
      },
      "outputs": [],
      "source": [
        "#Enter the name of the custome environment you created and uncomment the line below.\n",
        "#env = Custom_LunarLander()\n",
        "# Refer to https://stable-baselines3.readthedocs.io/en/master/guide/custom_env.html, if you would like to create more complex environments."
      ]
    },
    {
      "cell_type": "markdown",
      "metadata": {
        "execution": {},
        "id": "ZeEbxPsFobbt"
      },
      "source": [
        "## 3 Identify the state information crucial to its performance.\n",
        "\n",
        "Your objective here is to alter the input state information and analyze the performance. The input state of the Lunar Lander consists of following components:\n",
        "\n",
        "  1. Horizontal Position\n",
        "  2. Vertical Position\n",
        "  3. Horizontal Velocity\n",
        "  4. Vertical Velocity\n",
        "  5. Angle\n",
        "  6. Angular Velocity\n",
        "  7. Left Leg Contact\n",
        "  8. Right Leg Contact\n",
        "\n",
        "You can train the algorithm by masking one of the eight components at a time and understand how that affects the performance of the algorithm. Similar to the reward shaping task, you would have to create a custom environment and modify the state space. Again, you can inherit all the necessary functions and modify the following portion of the \"Step\" function:"
      ]
    },
    {
      "cell_type": "code",
      "execution_count": null,
      "metadata": {
        "execution": {},
        "id": "e0qQ--Tfobbt"
      },
      "outputs": [],
      "source": [
        "def step(self, actions):\n",
        "  ...\n",
        "  ...\n",
        "  ...\n",
        "  state = [ # Remove one component at a time to investigate the effect on performance!\n",
        "            (pos.x - VIEWPORT_W / SCALE / 2) / (VIEWPORT_W / SCALE / 2),\n",
        "            (pos.y - (self.helipad_y + LEG_DOWN / SCALE)) / (VIEWPORT_H / SCALE / 2),\n",
        "            vel.x * (VIEWPORT_W / SCALE / 2) / FPS,\n",
        "            vel.y * (VIEWPORT_H / SCALE / 2) / FPS,\n",
        "            self.lander.angle,\n",
        "            20.0 * self.lander.angularVelocity / FPS,\n",
        "            1.0 if self.legs[0].ground_contact else 0.0,\n",
        "            1.0 if self.legs[1].ground_contact else 0.0,\n",
        "        ]"
      ]
    },
    {
      "cell_type": "markdown",
      "metadata": {
        "execution": {},
        "id": "EIifpb9Kobbu"
      },
      "source": [
        "## 4 Extension to Atari Games\n",
        "\n",
        "In the Lunar Lander task, the input to the algorithm is a vector of state information. Deep RL algorithms can also be applied when the input to the training is image frames, which is the case in the Atari games. For example, consider an Atari game - Pong. In this environment, the observation is an RGB image of the screen, which is an array of shape (210, 160, 3). To train the Pong game, you can start with the following sample code:"
      ]
    },
    {
      "cell_type": "code",
      "execution_count": null,
      "metadata": {
        "execution": {},
        "id": "9GEIYsVVobbv"
      },
      "outputs": [],
      "source": [
        "## Taken from: https://colab.research.google.com/github/Stable-Baselines-Team/rl-colab-notebooks/blob/sb3/atari_games.ipynb#scrollTo=f3K4rMXwimBO\n",
        "env = make_atari_env('PongNoFrameskip-v4', n_envs=4, seed=0)\n",
        "\n",
        "##Atari Games take a lot of memory. Following commands crash on Coalb. Run the following code on Colab Pro or your local Jupyter notebook!\n",
        "# env = VecFrameStack(env, n_stack=4)\n",
        "# model = DQN('CnnPolicy', env, verbose=1)  # Note the difference here! We use 'CnnPolicy\" here instead of 'MlpPolicy' as the input is frames.\n",
        "# model.learn(total_timesteps=1) #change the number of timesteps as desired and run this command!"
      ]
    },
    {
      "cell_type": "markdown",
      "metadata": {
        "execution": {},
        "id": "5I26CZd4obbv"
      },
      "source": [
        "## 5 Obstacle Avoidance and Transfer Learning\n",
        "\n",
        "Your obstacle here is to add an obstacle in the path of the lunar lander (by creating a custom environment as described in point 2 above) and train the model such that the lander lands safely, avoiding collisions. \n",
        "\n",
        "You would first want to devise a mechansim for adding obstacles. For example, you could have an imaginary obstacle at some horizantal and vertical position cooridnates and modify the reward function such that a penalty is levied if the lander comes close to it. \n",
        "\n",
        "An interesting approach to solve this problem is to apply the techniques of transfer learning. For example, you could initialise the neural network model with the weights of the trained model on the original problem to improve the sample effeciency. This can be done using the following code:"
      ]
    },
    {
      "cell_type": "code",
      "execution_count": null,
      "metadata": {
        "execution": {},
        "id": "lSyhxVoLobbw"
      },
      "outputs": [],
      "source": [
        "## Specify the load path and uncomment below:\n",
        "\n",
        "# model = load(load_path,\n",
        "#              env=gym.make('LunarLander-v2'),\n",
        "#              custom_objects=None, **kwargs)"
      ]
    },
    {
      "cell_type": "markdown",
      "metadata": {
        "execution": {},
        "id": "4Qy8qSysobbw"
      },
      "source": [
        "Following are some of the resources on transfer learning that you would want to start with. \n",
        "\n",
        "**Research Papers**\n",
        "\n",
        "Surveys:\n",
        "1. (Long, Old, Highly cited) Taylor, M. E.,  et al. (2009). Transfer learning for reinforcement learning domains. https://www.jmlr.org/papers/volume10/taylor09a/taylor09a.pdf\n",
        "\n",
        "2. (Medium, Old, Good for a quick read) Lazaric, A. (2012). Transfer in reinforcement learning: a framework and a survey. https://hal.inria.fr/docs/00/77/26/26/PDF/transfer.pdf\n",
        "\n",
        "3. (Medium, Recent, Good for a quick read) Zhu, Z., Lin, K., & Zhou, J. (2020). Transfer learning in deep reinforcement learning. https://arxiv.org/pdf/2009.07888.pdf\n",
        "\n",
        "4. Specific example:\n",
        "Barreto, A., et al. (2016).  Successor features for transfer in reinforcement learning. https://arxiv.org/pdf/1606.05312"
      ]
    },
    {
      "cell_type": "markdown",
      "metadata": {
        "execution": {},
        "id": "vJvZzNrAobbx"
      },
      "source": [
        "## 5(b) Transfer Learning in minigrid environment\n",
        "\n",
        "These are some simple gridworld gym environments designed to be particularly simple, lightweight and fast. Refer to https://github.com/maximecb/gym-minigrid for description of the environments. An example to load a minigrid environment is given below:"
      ]
    },
    {
      "cell_type": "code",
      "execution_count": null,
      "metadata": {
        "execution": {},
        "id": "88Bk-iqzobby"
      },
      "outputs": [],
      "source": [
        "!pip install gym-minigrid --quiet\n",
        "import gym_minigrid\n",
        "env = gym.make('MiniGrid-Empty-5x5-v0')"
      ]
    },
    {
      "cell_type": "markdown",
      "metadata": {
        "execution": {},
        "id": "lOL5WYR3obby"
      },
      "source": [
        "You can train a standard DQN agent in this env by wrapping the env with full image observation wrappers:\n"
      ]
    },
    {
      "cell_type": "code",
      "execution_count": null,
      "metadata": {
        "execution": {},
        "id": "PX71Rz3Uobbz"
      },
      "outputs": [],
      "source": [
        "env = gym_minigrid.wrappers.ImgObsWrapper(gym_minigrid.wrappers.RGBImgObsWrapper(env))"
      ]
    },
    {
      "cell_type": "markdown",
      "metadata": {
        "execution": {},
        "id": "o2UiCI5Iobbz"
      },
      "source": [
        "Note that with full image observations, the shape of the image observations may differ between envs. For e.g., MiniGrid-Empty-5x5-v0 is (40,40,3) while MiniGrid-Empty-8x8-v0 is (64,64,3). So you may need to resize the observations for transfer learning to work with the same DQN architecture.\n",
        "\n",
        "Now try training a DQN (or another method) in one (or multiple) minigrid env(s),and see if that knowledge transfers to another (or multiple other) minigrid env(s).\n"
      ]
    },
    {
      "cell_type": "markdown",
      "metadata": {
        "execution": {},
        "id": "Qy1rMmg4obbz"
      },
      "source": [
        "## 6 Preference-Based RL (PBRL)\n",
        "\n",
        "PBRL is an exciting sub-area in RL where the traditional reward structure is replaced with human preferences. This setting is very useful in applications where it is difficult to construct a reward function. \n",
        "\n",
        "In the earlier section, we have successfully trained the lunar lander to land safely. Here, the path that the lander follows to land safely can be arbitrary. In this project, using the techniques of PBRL, you will solve the lunar lander problem with an additional requirement that the lander should follow a specially curated path (for example, a straight line path). Following are some of the resources that will help you to get started with this project. \n",
        "\n",
        "**Research papers:**\n",
        "1. Deep Reinforcement Learning\n",
        "from Human Preferences https://papers.nips.cc/paper/2017/file/d5e2c0adad503c91f91df240d0cd4e49-Paper.pdf\n",
        "2. Deep Q-learning from Demonstrations https://arxiv.org/pdf/1704.03732.pdf\n",
        "3. Reward learning from human preferences https://arxiv.org/pdf/1811.06521.pdf\n",
        "4. T-REX https://arxiv.org/pdf/1904.06387.pdf\n",
        "\n",
        "**Code Bases:**\n",
        "1. https://github.com/nottombrown/rl-teacher\n",
        "2. https://github.com/hiwonjoon/ICML2019-TREX\n"
      ]
    },
    {
      "cell_type": "markdown",
      "metadata": {
        "execution": {},
        "id": "ptpdnpwGobbz"
      },
      "source": [
        "---\n",
        "# References\n",
        "\n",
        "1. Stable Baselines Framework: https://stable-baselines3.readthedocs.io/en/master/guide/examples.html\n",
        "\n",
        "2. Lunar Lander Environment: https://gym.openai.com/envs/LunarLander-v2/\n",
        "\n",
        "3. OpenAI gym environments: https://gym.openai.com/docs/\n",
        "\n",
        "4. A good reference for introduction to RL: http://incompleteideas.net/book/the-book-2nd.html\n"
      ]
    }
  ],
  "metadata": {
    "accelerator": "GPU",
    "colab": {
      "collapsed_sections": [],
      "name": "lunar_lander_group1_atcheke",
      "provenance": [],
      "toc_visible": true,
      "include_colab_link": true
    },
    "gpuClass": "standard",
    "kernel": {
      "display_name": "Python 3",
      "language": "python",
      "name": "python3"
    },
    "kernelspec": {
      "display_name": "Python 3",
      "name": "python3"
    },
    "language_info": {
      "name": "python"
    }
  },
  "nbformat": 4,
  "nbformat_minor": 0
}