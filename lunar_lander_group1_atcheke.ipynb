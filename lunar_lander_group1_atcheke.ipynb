{
  "cells": [
    {
      "cell_type": "markdown",
      "metadata": {
        "id": "view-in-github",
        "colab_type": "text"
      },
      "source": [
        "<a href=\"https://colab.research.google.com/github/carlacodes/atchekegroup1lunarlanding/blob/sherry/lunar_lander_group1_atcheke.ipynb\" target=\"_parent\"><img src=\"https://colab.research.google.com/assets/colab-badge.svg\" alt=\"Open In Colab\"/></a>"
      ]
    },
    {
      "cell_type": "markdown",
      "metadata": {
        "execution": {},
        "id": "rKjkh_KgobbF"
      },
      "source": [
        "# Performance Analysis of DQN Algorithm on the Lunar Lander task\n",
        "\n",
        "**By Neuromatch Academy**\n",
        "\n",
        "__Content creators:__ Raghuram Bharadwaj Diddigi, Geraud Nangue Tasse, Yamil Vidal, Sanjukta Krishnagopal, Sara Rajaee\n",
        "\n",
        "__Content editors:__ Spiros Chavlis"
      ]
    },
    {
      "cell_type": "markdown",
      "metadata": {
        "execution": {},
        "id": "iDR5t137obbP"
      },
      "source": [
        "<p align='center'><img src='https://github.com/NeuromatchAcademy/widgets/blob/master/sponsors.png?raw=True'/></p>"
      ]
    },
    {
      "cell_type": "markdown",
      "metadata": {
        "execution": {},
        "id": "brZ9ZJQzobbR"
      },
      "source": [
        "---\n",
        "# Objective\n",
        "\n",
        "In this project, the objective is to analyze the performance of the Deep Q-Learning algorithm on an exciting task- Lunar Lander. Before we describe the task, let us focus on two keywords here - analysis and performance. What exactly do we mean by these keywords in the context of Reinforcement Learning (RL)?"
      ]
    },
    {
      "cell_type": "markdown",
      "metadata": {
        "execution": {},
        "id": "wpX-jA7GobbT"
      },
      "source": [
        "---\n",
        "# Setup"
      ]
    },
    {
      "cell_type": "code",
      "execution_count": 1,
      "metadata": {
        "execution": {},
        "id": "9EanvrrhobbU",
        "outputId": "ab770d69-84e2-448d-eae4-56c1b6c99913",
        "colab": {
          "base_uri": "https://localhost:8080/"
        }
      },
      "outputs": [
        {
          "output_type": "stream",
          "name": "stdout",
          "text": [
            "\u001b[K     |████████████████████████████████| 177 kB 4.3 MB/s \n",
            "\u001b[K     |████████████████████████████████| 1.6 MB 53.0 MB/s \n",
            "\u001b[K     |████████████████████████████████| 1.5 MB 71.3 MB/s \n",
            "\u001b[K     |████████████████████████████████| 1.1 MB 69.9 MB/s \n",
            "\u001b[?25h  Installing build dependencies ... \u001b[?25l\u001b[?25hdone\n",
            "  Getting requirements to build wheel ... \u001b[?25l\u001b[?25hdone\n",
            "    Preparing wheel metadata ... \u001b[?25l\u001b[?25hdone\n",
            "  Building wheel for gym (setup.py) ... \u001b[?25l\u001b[?25hdone\n",
            "  Building wheel for AutoROM.accept-rom-license (PEP 517) ... \u001b[?25l\u001b[?25hdone\n",
            "\u001b[K     |████████████████████████████████| 448 kB 4.2 MB/s \n",
            "\u001b[?25h"
          ]
        }
      ],
      "source": [
        "# @title Install dependencies\n",
        "!sudo apt-get update > /dev/null 2>&1\n",
        "!sudo apt-get install -y xvfb python-opengl ffmpeg > /dev/null 2>&1\n",
        "!pip install rarfile --quiet\n",
        "!pip install stable-baselines3[extra] ale-py==0.7.4 --quiet\n",
        "!pip install box2d-py --quiet\n",
        "!pip install gym pyvirtualdisplay --quiet"
      ]
    },
    {
      "cell_type": "code",
      "execution_count": 2,
      "metadata": {
        "execution": {},
        "id": "pE3qZJLcobbW"
      },
      "outputs": [],
      "source": [
        "# Imports\n",
        "import io\n",
        "import os\n",
        "import glob\n",
        "import torch\n",
        "import base64\n",
        "import stable_baselines3\n",
        "\n",
        "import numpy as np\n",
        "import matplotlib.pyplot as plt\n",
        "\n",
        "from stable_baselines3 import DQN\n",
        "from stable_baselines3.common.results_plotter import ts2xy, load_results\n",
        "from stable_baselines3.common.callbacks import EvalCallback\n",
        "from stable_baselines3.common.env_util import make_atari_env\n",
        "\n",
        "import gym\n",
        "from gym import spaces\n",
        "from gym.wrappers import Monitor,RecordVideo"
      ]
    },
    {
      "cell_type": "code",
      "source": [
        "print(gym.__version__)"
      ],
      "metadata": {
        "colab": {
          "base_uri": "https://localhost:8080/"
        },
        "id": "gPoZnSTGFvEp",
        "outputId": "fce8d85d-5c70-4761-fd26-f4197652e3de"
      },
      "execution_count": 3,
      "outputs": [
        {
          "output_type": "stream",
          "name": "stdout",
          "text": [
            "0.21.0\n"
          ]
        }
      ]
    },
    {
      "cell_type": "code",
      "execution_count": 4,
      "metadata": {
        "execution": {},
        "id": "fp1bUnClobbY"
      },
      "outputs": [],
      "source": [
        "# @title Plotting/Video functions\n",
        "from IPython.display import HTML\n",
        "from pyvirtualdisplay import Display\n",
        "from IPython import display as ipythondisplay\n",
        "\n",
        "display = Display(visible=0, size=(1400, 900))\n",
        "display.start()\n",
        "\n",
        "\"\"\"\n",
        "Utility functions to enable video recording of gym environment\n",
        "and displaying it.\n",
        "To enable video, just do \"env = wrap_env(env)\"\"\n",
        "\"\"\"\n",
        "\n",
        "def show_video():\n",
        "  mp4list = glob.glob('video/*.mp4')\n",
        "  if len(mp4list) > 0:\n",
        "    mp4 = mp4list[0]\n",
        "    video = io.open(mp4, 'r+b').read()\n",
        "    encoded = base64.b64encode(video)\n",
        "    ipythondisplay.display(HTML(data='''<video alt=\"test\" autoplay\n",
        "                loop controls style=\"height: 400px;\">\n",
        "                <source src=\"data:video/mp4;base64,{0}\" type=\"video/mp4\" />\n",
        "             </video>'''.format(encoded.decode('ascii'))))\n",
        "  else:\n",
        "    print(\"Could not find video\")\n",
        "\n",
        "\n",
        "def wrap_env(env):\n",
        "  env = Monitor(env, './video', force=True)\n",
        "  # env = RecordVideo(env, './video')\n",
        "  return env"
      ]
    },
    {
      "cell_type": "markdown",
      "metadata": {
        "execution": {},
        "id": "psfdqUCmobba"
      },
      "source": [
        "---\n",
        "# Introduction\n",
        "\n",
        "In a standard RL setting, an agent learns optimal behavior from an environment through a feedback mechanism to maximize a given objective. Many algorithms have been proposed in the RL literature that an agent can apply to learn the optimal behavior. One such popular algorithm is the Deep Q-Network (DQN). This algorithm makes use of deep neural networks to compute optimal actions. In this project, your goal is to understand the effect of the number of neural network layers on the algorithm's performance. The performance of the algorithm can be evaluated through two metrics - Speed and Stability. \n",
        "\n",
        "**Speed:** How fast the algorithm reaches the maximum possible reward. \n",
        "\n",
        "**Stability** In some applications (especially when online learning is involved), along with speed, stability of the algorithm, i.e., minimal fluctuations in performance, is equally important. \n",
        "\n",
        "In this project, you should investigate the following question:\n",
        "\n",
        "**What is the impact of number of neural network layers on speed and stability of the algorithm?**\n",
        "\n",
        "You do not have to write the DQN code from scratch. We have provided a basic implementation of the DQN algorithm. You only have to tune the hyperparameters (neural network size, learning rate, etc), observe the performance, and analyze. More details on this are provided below. \n",
        "\n",
        "Now, let us discuss the RL task we have chosen, i.e., Lunar Lander. This task consists of the lander and a landing pad marked by two flags. The episode starts with the lander moving downwards due to gravity. The objective is to land safely using different engines available on the lander with zero speed on the landing pad as quickly and fuel efficient as possible. Reward for moving from the top of the screen and landing on landing pad with zero speed is between 100 to 140 points. Each leg ground contact yields a reward of 10 points. Firing main engine leads to a reward of -0.3 points in each frame. Firing the side engine leads to a reward of -0.03 points in each frame. An additional reward of -100 or +100 points is received if the lander crashes or comes to rest respectively which also leads to end of the episode. \n",
        "\n",
        "The input state of the Lunar Lander consists of following components:\n",
        "\n",
        "  1. Horizontal Position\n",
        "  2. Vertical Position\n",
        "  3. Horizontal Velocity\n",
        "  4. Vertical Velocity\n",
        "  5. Angle\n",
        "  6. Angular Velocity\n",
        "  7. Left Leg Contact\n",
        "  8. Right Leg Contact\n",
        "\n",
        "The actions of the agents are:\n",
        "  1. Do Nothing\n",
        "  2. Fire Main Engine\n",
        "  3. Fire Left Engine\n",
        "  4. Fire Right Engine\n",
        "\n",
        "\n",
        "<img src=\"https://raw.githubusercontent.com/NeuromatchAcademy/course-content-dl/main/projects/static/lunar_lander.png\">"
      ]
    },
    {
      "cell_type": "markdown",
      "metadata": {
        "execution": {},
        "id": "fGCTNteSobbd"
      },
      "source": [
        "---\n",
        "# Basic DQN Implementation\n",
        "\n",
        "We will now implement the DQN algorithm using the existing code base. We encourage you to understand this example and re-use it in an application/project of your choice! "
      ]
    },
    {
      "cell_type": "markdown",
      "metadata": {
        "execution": {},
        "id": "sEG8U0Pmobbf"
      },
      "source": [
        "Now, let us set some hyperparameters for our algorithm. This is the only part you would play around with, to solve the first part of the project. "
      ]
    },
    {
      "cell_type": "markdown",
      "source": [
        "## Tuning hyperparameters"
      ],
      "metadata": {
        "id": "XgNuDz2mrq0g"
      }
    },
    {
      "cell_type": "markdown",
      "source": [
        "ref: \n",
        "\n",
        "1.   template https://github.com/AI4Finance-Foundation/FinRL/blob/master/tutorials/4-Optimization/FinRL_HyperparameterTuning_using_Optuna_basic.ipynb\n",
        "\n",
        "2.   tutorial (combined with template): https://medium.com/analytics-vidhya/hyperparameter-tuning-using-optuna-for-finrl-8a49506d2741\n",
        "\n",
        "3.  set parameter function: https://github.com/DLR-RM/rl-baselines3-zoo/blob/master/utils/hyperparams_opt.py\n",
        "\n",
        "4.   callback function: https://github.com/DLR-RM/rl-baselines3-zoo/blob/master/utils/callbacks.py#L10\n",
        "\n",
        "\n",
        "\n"
      ],
      "metadata": {
        "id": "6RQ_bAC6KlAU"
      }
    },
    {
      "cell_type": "code",
      "source": [
        "!pip3 install optuna --quiet"
      ],
      "metadata": {
        "id": "qSg7t4EJx9Pp"
      },
      "execution_count": null,
      "outputs": []
    },
    {
      "cell_type": "code",
      "source": [
        "import optuna\n",
        "\n",
        "from IPython.display import clear_output\n",
        "import sys"
      ],
      "metadata": {
        "id": "CHT0LZ0WyERZ"
      },
      "execution_count": null,
      "outputs": []
    },
    {
      "cell_type": "markdown",
      "source": [
        "### define search space"
      ],
      "metadata": {
        "id": "i_gZFwkKtj5T"
      }
    },
    {
      "cell_type": "code",
      "source": [
        "def sample_dqn_params(trial: optuna.Trial):\n",
        "    \"\"\"\n",
        "    Sampler for DQN hyperparams.\n",
        "    :param trial:\n",
        "    :return:\n",
        "    \"\"\"\n",
        "    learning_rate = trial.suggest_loguniform(\"learning_rate\", 1e-5, 1e-2)\n",
        "\n",
        "    net_arch = trial.suggest_categorical(\"net_arch\", [\"two\", \"three\"]) #, \"two_big\"\n",
        "    net_arch = {\"two\": [64, 64], \"three\": [64, 64, 64]}[net_arch] #, \"two_big\": [256, 256]\n",
        "\n",
        "    hyperparams = {\n",
        "        \"learning_rate\": learning_rate,#\n",
        "        \"policy_kwargs\": dict(activation_fn=torch.nn.ReLU, net_arch=net_arch),\n",
        "        \"batch_size\": 1,  #for simplicity, we are not doing batch update.\n",
        "        \"buffer_size\": 1, #size of experience of replay buffer. Set to 1 as batch update is not done\n",
        "        \"learning_starts\": 1, #learning starts immediately!\n",
        "        \"gamma\": 0.99, #discount facto. range is between 0 and 1.\n",
        "        \"tau\": 1,  #the soft update coefficient for updating the target network\n",
        "        \"target_update_interval\": 1, #update the target network immediately.\n",
        "        \"train_freq\": (1,\"step\"), #train the network at every step.\n",
        "        \"max_grad_norm\": 10, #the maximum value for the gradient clipping\n",
        "        \"exploration_initial_eps\": 1, #initial value of random action probability\n",
        "        \"exploration_fraction\": 0.5, #fraction of entire training period over which the exploration rate is reduced\n",
        "        \"gradient_steps\": 1, #number of gradient steps\n",
        "        \"seed\": 1, #seed for the pseudo random generators\n",
        "        \"verbose\": 0\n",
        "    }\n",
        "    return hyperparams"
      ],
      "metadata": {
        "id": "mWhSf_qjk8T4"
      },
      "execution_count": null,
      "outputs": []
    },
    {
      "cell_type": "markdown",
      "source": [
        "### define callback"
      ],
      "metadata": {
        "id": "fFyJprz6tp7_"
      }
    },
    {
      "cell_type": "code",
      "source": [
        "class LoggingCallback:\n",
        "    def __init__(self,threshold,trial_number,patience):\n",
        "      '''\n",
        "      threshold: int tolerance for increase in reward\n",
        "      trial_number: int Prune after minimum number of trials\n",
        "      patience: int patience for the threshold\n",
        "      '''\n",
        "      self.threshold = threshold\n",
        "      self.trial_number  = trial_number\n",
        "      self.patience = patience\n",
        "      self.cb_list = [] #Trials list for which threshold is reached\n",
        "    def __call__(self,study:optuna.study, frozen_trial:optuna.Trial):\n",
        "      #Setting the best value in the current trial\n",
        "      study.set_user_attr(\"previous_best_value\", study.best_value)\n",
        "      \n",
        "      #Checking if the minimum number of trials have pass\n",
        "      if frozen_trial.number >self.trial_number:\n",
        "          previous_best_value = study.user_attrs.get(\"previous_best_value\",None)\n",
        "          #Checking if the previous and current objective values have the same sign\n",
        "          if previous_best_value * study.best_value >=0:\n",
        "              #Checking for the threshold condition\n",
        "              if abs(previous_best_value-study.best_value) < self.threshold: \n",
        "                  self.cb_list.append(frozen_trial.number)\n",
        "                  #If threshold is achieved for the patience amount of time\n",
        "                  if len(self.cb_list)>self.patience:\n",
        "                      print('The study stops now...')\n",
        "                      print('With number',frozen_trial.number ,'and value ',frozen_trial.value)\n",
        "                      print('The previous and current best values are {} and {} respectively'\n",
        "                              .format(previous_best_value, study.best_value))\n",
        "                      study.stop()"
      ],
      "metadata": {
        "id": "Q4FKnTdKttOu"
      },
      "execution_count": null,
      "outputs": []
    },
    {
      "cell_type": "markdown",
      "source": [
        "### define objective"
      ],
      "metadata": {
        "id": "B1qV393bpoTO"
      }
    },
    {
      "cell_type": "code",
      "source": [
        "log_dir = \"models\"\n",
        "os.makedirs(log_dir,exist_ok=True) \n",
        "\n",
        "def objective(trial:optuna.Trial):\n",
        "\n",
        "  # Create environment\n",
        "  env = gym.make('LunarLander-v2')\n",
        "  env = stable_baselines3.common.monitor.Monitor(env, log_dir)\n",
        "\n",
        "  #Trial will suggest a set of hyperparamters from the specified range\n",
        "  hyperparameters = sample_dqn_params(trial)\n",
        "  model_dqn = DQN(\"MlpPolicy\", env, **hyperparameters) #Set verbose to 1 to observe training logs. We encourage you to set the verbose to 1.\n",
        "\n",
        "  # define learning steps\n",
        "  trained_dqn = model_dqn.learn(total_timesteps=1, log_interval=10)#100000 , callback=callback\n",
        "  # save model\n",
        "  trained_dqn.save('models/dqn_{}.pth'.format(trial.number)) \n",
        "\n",
        "  x, y = ts2xy(load_results(log_dir), 'episodes') # timesteps\n",
        "  # clear_output(wait=True)\n",
        "  #For the given hyperparamters, determine reward\n",
        "  reward = sum(y)\n",
        "  return reward\n",
        "\n",
        "#Create a study object and specify the direction as 'maximize'\n",
        "#As you want to maximize reward\n",
        "#Pruner stops not promising iterations\n",
        "#Use a pruner, else you will get error related to divergence of model\n",
        "#You can also use Multivariate samplere\n",
        "#sampler = optuna.samplers.TPESampler(multivarite=True,seed=42)\n",
        "sampler = optuna.samplers.TPESampler(seed=42)\n",
        "study = optuna.create_study(study_name=\"dqn_study\",direction='maximize',\n",
        "                            sampler = sampler, pruner=optuna.pruners.HyperbandPruner())\n",
        "\n",
        "logging_callback = LoggingCallback(threshold=10, patience=30, trial_number=5)\n",
        "#You can increase the n_trials for a better search space scanning\n",
        "study.optimize(objective, n_trials=4, catch=(ValueError,),callbacks=[logging_callback])"
      ],
      "metadata": {
        "id": "2s-bjWndt_a6",
        "colab": {
          "base_uri": "https://localhost:8080/"
        },
        "outputId": "4a5678ae-684c-487f-da4a-25b63443aab5"
      },
      "execution_count": null,
      "outputs": [
        {
          "output_type": "stream",
          "name": "stderr",
          "text": [
            "\u001b[32m[I 2022-07-22 08:35:24,721]\u001b[0m A new study created in memory with name: dqn_study\u001b[0m\n",
            "\u001b[32m[I 2022-07-22 08:35:27,212]\u001b[0m Trial 0 finished with value: 0.0 and parameters: {'learning_rate': 0.0001329291894316216, 'net_arch': 'two'}. Best is trial 0 with value: 0.0.\u001b[0m\n",
            "\u001b[32m[I 2022-07-22 08:35:27,262]\u001b[0m Trial 1 finished with value: 0.0 and parameters: {'learning_rate': 0.0006251373574521745, 'net_arch': 'two'}. Best is trial 0 with value: 0.0.\u001b[0m\n",
            "\u001b[32m[I 2022-07-22 08:35:27,311]\u001b[0m Trial 2 finished with value: 0.0 and parameters: {'learning_rate': 1.493656855461762e-05, 'net_arch': 'two'}. Best is trial 0 with value: 0.0.\u001b[0m\n",
            "\u001b[32m[I 2022-07-22 08:35:27,367]\u001b[0m Trial 3 finished with value: 0.0 and parameters: {'learning_rate': 0.001331121608073689, 'net_arch': 'three'}. Best is trial 0 with value: 0.0.\u001b[0m\n"
          ]
        }
      ]
    },
    {
      "cell_type": "markdown",
      "source": [
        "### get the best model"
      ],
      "metadata": {
        "id": "tf91UWqvzR6Y"
      }
    },
    {
      "cell_type": "code",
      "source": [
        "#Get the best hyperparamters\n",
        "print('Hyperparameters after tuning',study.best_params)"
      ],
      "metadata": {
        "colab": {
          "base_uri": "https://localhost:8080/"
        },
        "id": "CcDma0wSy02u",
        "outputId": "68d7a764-66c8-444d-c3b0-289c6ee00483"
      },
      "execution_count": null,
      "outputs": [
        {
          "output_type": "stream",
          "name": "stdout",
          "text": [
            "Hyperparameters after tuning {'learning_rate': 0.0001329291894316216, 'net_arch': 'two'}\n"
          ]
        }
      ]
    },
    {
      "cell_type": "code",
      "source": [
        "study.best_trial"
      ],
      "metadata": {
        "colab": {
          "base_uri": "https://localhost:8080/"
        },
        "id": "yqou4GOlzWMh",
        "outputId": "af63b514-9589-4686-b264-acb47bb618f8"
      },
      "execution_count": null,
      "outputs": [
        {
          "output_type": "execute_result",
          "data": {
            "text/plain": [
              "FrozenTrial(number=0, values=[0.0], datetime_start=datetime.datetime(2022, 7, 22, 8, 35, 24, 738095), datetime_complete=datetime.datetime(2022, 7, 22, 8, 35, 27, 211750), params={'learning_rate': 0.0001329291894316216, 'net_arch': 'two'}, distributions={'learning_rate': LogUniformDistribution(high=0.01, low=1e-05), 'net_arch': CategoricalDistribution(choices=('two', 'three'))}, user_attrs={}, system_attrs={}, intermediate_values={}, trial_id=0, state=TrialState.COMPLETE, value=None)"
            ]
          },
          "metadata": {},
          "execution_count": 10
        }
      ]
    },
    {
      "cell_type": "markdown",
      "source": [
        "## Template"
      ],
      "metadata": {
        "id": "mObWM9TLp2lj"
      }
    },
    {
      "cell_type": "code",
      "execution_count": null,
      "metadata": {
        "execution": {},
        "id": "vJm_qzWkobbg"
      },
      "outputs": [],
      "source": [
        "nn_layers = [64,64] #This is the configuration of your neural network. Currently, we have two layers, each consisting of 64 neurons.\n",
        "                    #If you want three layers with 64 neurons each, set the value to [64,64,64] and so on.\n",
        "\n",
        "learning_rate = 0.001 #This is the step-size with which the gradient descent is carried out.\n",
        "                      #Tip: Use smaller step-sizes for larger networks."
      ]
    },
    {
      "cell_type": "markdown",
      "metadata": {
        "execution": {},
        "id": "-9bGzUVPobbh"
      },
      "source": [
        "Now, let us setup our model and the DQN algorithm. "
      ]
    },
    {
      "cell_type": "code",
      "execution_count": null,
      "metadata": {
        "execution": {},
        "id": "1dN91ycLobbh"
      },
      "outputs": [],
      "source": [
        "log_dir = \"/tmp/gym/\"\n",
        "os.makedirs(log_dir, exist_ok=True)\n",
        "\n",
        "# Create environment\n",
        "env = gym.make('LunarLander-v3')\n",
        "#You can also load other environments like cartpole, MountainCar, Acrobot. Refer to https://gym.openai.com/docs/ for descriptions.\n",
        "#For example, if you would like to load Cartpole, just replace the above statement with \"env = gym.make('CartPole-v1')\".\n",
        "\n",
        "env = stable_baselines3.common.monitor.Monitor(env, log_dir )\n",
        "\n",
        "callback = EvalCallback(env,log_path = log_dir, deterministic=True) #For evaluating the performance of the agent periodically and logging the results.\n",
        "\n",
        "policy_kwargs = dict(activation_fn=torch.nn.ReLU,\n",
        "                     net_arch=nn_layers)\n",
        "model = DQN(\"MlpPolicy\", env, policy_kwargs = policy_kwargs,\n",
        "            learning_rate=learning_rate,\n",
        "            batch_size=1,  #for simplicity, we are not doing batch update.\n",
        "            buffer_size=1, #size of experience of replay buffer. Set to 1 as batch update is not done\n",
        "            learning_starts=1, #learning starts immediately!\n",
        "            gamma=0.99, #discount facto. range is between 0 and 1.\n",
        "            tau = 1,  #the soft update coefficient for updating the target network\n",
        "            target_update_interval=1, #update the target network immediately.\n",
        "            train_freq=(1,\"step\"), #train the network at every step.\n",
        "            max_grad_norm = 10, #the maximum value for the gradient clipping\n",
        "            exploration_initial_eps = 1, #initial value of random action probability\n",
        "            exploration_fraction = 0.5, #fraction of entire training period over which the exploration rate is reduced\n",
        "            gradient_steps = 1, #number of gradient steps\n",
        "            seed = 1, #seed for the pseudo random generators\n",
        "            verbose=0) #Set verbose to 1 to observe training logs. We encourage you to set the verbose to 1.\n",
        "\n",
        "# You can also experiment with other RL algorithms like A2C, PPO, DDPG etc. Refer to  https://stable-baselines3.readthedocs.io/en/master/guide/examples.html\n",
        "#for documentation. For example, if you would like to run DDPG, just replace \"DQN\" above with \"DDPG\"."
      ]
    },
    {
      "cell_type": "markdown",
      "metadata": {
        "execution": {},
        "id": "0-7OLtdpobbi"
      },
      "source": [
        "Before we train the model, let us look at an instance of Lunar Lander **before training**.  \n",
        "\n",
        "**Note:** The following code for rendering the video is taken from https://colab.research.google.com/github/jeffheaton/t81_558_deep_learning/blob/master/t81_558_class_12_01_ai_gym.ipynb#scrollTo=T9RpF49oOsZj"
      ]
    },
    {
      "cell_type": "code",
      "execution_count": null,
      "metadata": {
        "execution": {},
        "id": "8nEQvdE7obbj",
        "outputId": "1a069bb5-4930-4874-acc2-7d630e09d625",
        "colab": {
          "base_uri": "https://localhost:8080/",
          "height": 421
        }
      },
      "outputs": [
        {
          "output_type": "display_data",
          "data": {
            "text/plain": [
              "<IPython.core.display.HTML object>"
            ],
            "text/html": [
              "<video alt=\"test\" autoplay\n",
              "                loop controls style=\"height: 400px;\">\n",
              "                <source src=\"data:video/mp4;base64,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\" type=\"video/mp4\" />\n",
              "             </video>"
            ]
          },
          "metadata": {}
        }
      ],
      "source": [
        "test_env = wrap_env(gym.make(\"LunarLander-v2\"))\n",
        "observation = test_env.reset()\n",
        "total_reward = 0\n",
        "while True:\n",
        "  test_env.render()\n",
        "  action, states = model.predict(observation, deterministic=True)\n",
        "  observation, reward, done, info = test_env.step(action)\n",
        "  total_reward += reward\n",
        "  if done:\n",
        "    break;\n",
        "\n",
        "# print(total_reward)\n",
        "test_env.close()\n",
        "show_video()"
      ]
    },
    {
      "cell_type": "markdown",
      "metadata": {
        "execution": {},
        "id": "ZpMABSl9obbk"
      },
      "source": [
        "From the video above, we see that the lander has crashed! \n",
        "It is now the time for training! \n"
      ]
    },
    {
      "cell_type": "code",
      "execution_count": null,
      "metadata": {
        "execution": {},
        "id": "I0hzLf1lobbl",
        "colab": {
          "base_uri": "https://localhost:8080/"
        },
        "outputId": "92054caf-2762-49f7-a684-ef73f0efd908"
      },
      "outputs": [
        {
          "output_type": "stream",
          "name": "stdout",
          "text": [
            "Eval num_timesteps=9000, episode_reward=-330.30 +/- 56.71\n",
            "Episode length: 302.40 +/- 91.62\n",
            "New best mean reward!\n"
          ]
        },
        {
          "output_type": "execute_result",
          "data": {
            "text/plain": [
              "<stable_baselines3.dqn.dqn.DQN at 0x7f262938c910>"
            ]
          },
          "metadata": {},
          "execution_count": 63
        }
      ],
      "source": [
        "model.learn(total_timesteps=10000, log_interval=10, callback=callback, eval_log_path=log_dir)\n",
        "# The performance of the training will be printed every 10 episodes. Change it to 1, if you wish to\n",
        "# view the performance at every training episode.\n",
        "# how to read monitor.csv: ep_info = {\"r\": round(ep_rew, 6), \"l\": ep_len, \"t\": round(time.time() - self.t_start, 6)}"
      ]
    },
    {
      "cell_type": "markdown",
      "metadata": {
        "execution": {},
        "id": "ueR5BIcpobbm"
      },
      "source": [
        "The training takes time. We encourage you to analyze the output logs (set verbose to 1 to print the output logs). The main component of the logs that you should track is \"ep_rew_mean\" (mean of episode rewards). As the training proceeds, the value of \"ep_rew_mean\" should increase. The improvement need not be monotonic, but the trend should be upwards! \n",
        "\n",
        "Along with training, we are also periodically evaluating the performance of the current model during the training. This was reported in logs as follows:\n",
        "\n",
        "```\n",
        "Eval num_timesteps=100000, episode_reward=63.41 +/- 130.02\n",
        "Episode length: 259.80 +/- 47.47\n",
        "```"
      ]
    },
    {
      "cell_type": "markdown",
      "metadata": {
        "execution": {},
        "id": "ogkoKXiXobbm"
      },
      "source": [
        "Now, let us look at the visual performance of the lander. \n",
        "\n",
        "**Note:** The performance varies across different seeds and runs. This code is not optimized to be stable across all runs and seeds. We hope you will be able to find an optimal configuration! "
      ]
    },
    {
      "cell_type": "code",
      "execution_count": null,
      "metadata": {
        "execution": {},
        "id": "m_WCp8wdobbn",
        "outputId": "03dbc1c0-4e15-4578-a25d-4488498570a8",
        "colab": {
          "base_uri": "https://localhost:8080/",
          "height": 421
        }
      },
      "outputs": [
        {
          "output_type": "display_data",
          "data": {
            "text/plain": [
              "<IPython.core.display.HTML object>"
            ],
            "text/html": [
              "<video alt=\"test\" autoplay\n",
              "                loop controls style=\"height: 400px;\">\n",
              "                <source src=\"data:video/mp4;base64,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\" type=\"video/mp4\" />\n",
              "             </video>"
            ]
          },
          "metadata": {}
        }
      ],
      "source": [
        "env = wrap_env(gym.make(\"LunarLander-v3\"))\n",
        "observation = env.reset()\n",
        "while True:\n",
        "  env.render()\n",
        "  action, _states = model.predict(observation, deterministic=True)\n",
        "  observation, reward, done, info = env.step(action)\n",
        "  if done:\n",
        "    break;\n",
        "\n",
        "env.close()\n",
        "show_video()"
      ]
    },
    {
      "cell_type": "markdown",
      "metadata": {
        "execution": {},
        "id": "Ov5djtn9obbn"
      },
      "source": [
        "The lander has landed safely!!\n",
        "\n",
        "Let us analyze its performance (speed and stability). For this purpose, we plot the number of time steps on the X-axis and the episodic reward given by the trained model on the Y-axis. "
      ]
    },
    {
      "cell_type": "code",
      "execution_count": null,
      "metadata": {
        "execution": {},
        "id": "asuy5ryIobbo",
        "outputId": "63569cc2-a0c7-464a-af73-e11b361c24cf",
        "colab": {
          "base_uri": "https://localhost:8080/",
          "height": 301
        }
      },
      "outputs": [
        {
          "output_type": "execute_result",
          "data": {
            "text/plain": [
              "Text(0, 0.5, 'Episode Rewards')"
            ]
          },
          "metadata": {},
          "execution_count": 22
        },
        {
          "output_type": "display_data",
          "data": {
            "text/plain": [
              "<Figure size 432x288 with 1 Axes>"
            ],
            "image/png": "[encoded data removed]"
          },
          "metadata": {
            "needs_background": "light"
          }
        }
      ],
      "source": [
        "x, y = ts2xy(load_results(log_dir), 'episodes')  # Organising the logged results in to a clean format for plotting. timesteps\n",
        "plt.plot(x,y)\n",
        "plt.ylim([-300, 300])\n",
        "plt.xlabel('Timesteps')\n",
        "plt.ylabel('Episode Rewards')"
      ]
    },
    {
      "cell_type": "markdown",
      "metadata": {
        "execution": {},
        "id": "mw3iMGmwobbo"
      },
      "source": [
        "From the above plot, we observe that, although the maximum reward is achieved quickly. Achieving an episodic reward of > 200 is good. We see that the agent has achieved it in less than 50000 timesteps (speed is good!). However, there are a lot of fluctuations in the performance (stability is not good!). \n",
        "\n",
        "Your objective now is to modify the model parameters (nn_layers, learning_rate in the code cell #2 above), run all the cells following it and investigate the stability and speed of the chosen configuration.   \n"
      ]
    },
    {
      "cell_type": "markdown",
      "metadata": {
        "execution": {},
        "id": "_bKzapIyobbp"
      },
      "source": [
        "---\n",
        "# Additional Project Ideas"
      ]
    },
    {
      "cell_type": "markdown",
      "metadata": {
        "execution": {},
        "id": "gzByWGxfobbq"
      },
      "source": [
        "## 1 Play with exploration-exploitation trade-off\n",
        "\n",
        "Exploration (selecting random actions) and exploitation (selecting greedy action) is a crucial component of the DQN algorithm. Explore random actions for a long time will slow down the training process. At the same time, if all actions are not explored enough, it might lead to a sub-optimal performance. In the DQN code above, we have used the following parameters:"
      ]
    },
    {
      "cell_type": "code",
      "execution_count": null,
      "metadata": {
        "execution": {},
        "id": "5TeOBG-Jobbq"
      },
      "outputs": [],
      "source": [
        "exploration_initial_eps = 1  # initial value of random action probability. Range is between 0 and 1.\n",
        "exploration_fraction = 0.5  # fraction of entire training period over which the exploration rate is reduced. Range is between 0 and 1.\n",
        "exploration_final_eps = 0.05  # (set by defualt) final value of random action probability. Range is between 0 and 1."
      ]
    },
    {
      "cell_type": "markdown",
      "metadata": {
        "execution": {},
        "id": "dZuGeAULobbq"
      },
      "source": [
        "Your objective is to play around with these parameters and analyze their performance (speed and stability). You can modify these parameters and set them as arguments in DQN(...,exploration_initial_eps = 1, exploration_fraction = 0.5, exploration_final_eps = 0.05,...). "
      ]
    },
    {
      "cell_type": "markdown",
      "metadata": {
        "execution": {},
        "id": "yGp5JFoAobbr"
      },
      "source": [
        "## 2 Reward Shaping\n",
        "\n",
        "Your objective here is to construct a modified reward function that improves the performance of the Lunar Lander. To this end, you would have to create your own custom environment. An example of a custom environment is given below:"
      ]
    },
    {
      "cell_type": "markdown",
      "source": [
        "Ref: https://towardsdatascience.com/beginners-guide-to-custom-environments-in-openai-s-gym-989371673952"
      ],
      "metadata": {
        "id": "yIFSDq7eyXY-"
      }
    },
    {
      "cell_type": "markdown",
      "source": [
        "### New environment"
      ],
      "metadata": {
        "id": "iIvGmuJD49zZ"
      }
    },
    {
      "cell_type": "markdown",
      "source": [
        "#### define new env class"
      ],
      "metadata": {
        "id": "c-DTrZhLy0UM"
      }
    },
    {
      "cell_type": "code",
      "source": [
        "from gym.envs.box2d import LunarLander\n",
        "from Box2D.b2 import fixtureDef, circleShape, polygonShape, revoluteJointDef, contactListener, edgeShape\n",
        "import math"
      ],
      "metadata": {
        "id": "dTxYseql3ry3"
      },
      "execution_count": 45,
      "outputs": []
    },
    {
      "cell_type": "markdown",
      "source": [
        "Set parameters"
      ],
      "metadata": {
        "id": "MtUy074Syhdd"
      }
    },
    {
      "cell_type": "code",
      "source": [
        "FPS = 50\n",
        "SCALE = 30.0  # affects how fast-paced the game is, forces should be adjusted as well\n",
        "\n",
        "MAIN_ENGINE_POWER = 13.0\n",
        "SIDE_ENGINE_POWER = 0.6\n",
        "\n",
        "INITIAL_RANDOM = 1000.0  # Set 1500 to make game harder\n",
        "\n",
        "LANDER_POLY = [(-14, +17), (-17, 0), (-17, -10), (+17, -10), (+17, 0), (+14, +17)]\n",
        "LEG_AWAY = 20\n",
        "LEG_DOWN = 18\n",
        "LEG_W, LEG_H = 2, 8\n",
        "LEG_SPRING_TORQUE = 40\n",
        "\n",
        "SIDE_ENGINE_HEIGHT = 14.0\n",
        "SIDE_ENGINE_AWAY = 12.0\n",
        "\n",
        "VIEWPORT_W = 600\n",
        "VIEWPORT_H = 400"
      ],
      "metadata": {
        "id": "E6Ivff2jW7q8"
      },
      "execution_count": 6,
      "outputs": []
    },
    {
      "cell_type": "code",
      "source": [
        "class ContactDetector(contactListener):\n",
        "    def __init__(self, env):\n",
        "        contactListener.__init__(self)\n",
        "        self.env = env\n",
        "\n",
        "    def BeginContact(self, contact):\n",
        "        if (\n",
        "                self.env.lander == contact.fixtureA.body\n",
        "                or self.env.lander == contact.fixtureB.body\n",
        "        ):\n",
        "            self.env.game_over = True\n",
        "        for i in range(2):\n",
        "            if self.env.legs[i] in [contact.fixtureA.body, contact.fixtureB.body]:\n",
        "                self.env.legs[i].ground_contact = True\n",
        "\n",
        "    def EndContact(self, contact):\n",
        "        for i in range(2):\n",
        "            if self.env.legs[i] in [contact.fixtureA.body, contact.fixtureB.body]:\n",
        "                self.env.legs[i].ground_contact = False\n",
        "\n",
        "class Custom_LunarLander_obs(LunarLander):\n",
        "    metadata = {\"render.modes\": [\"human\", \"rgb_array\"], \"video.frames_per_second\": FPS}\n",
        "    continuous = False\n",
        "\n",
        "    def __init__(\n",
        "        self,\n",
        "        enable_wind: bool = False,\n",
        "        wind_power: float = 15.0,\n",
        "        obs_coords=[10, 10],\n",
        "        enable_obstacle: bool = True\n",
        "    ):\n",
        "        LunarLander.__init__(self)\n",
        "\n",
        "        self.enable_wind = enable_wind\n",
        "\n",
        "        self.obs_coords = obs_coords\n",
        "        self.enable_obstacle = enable_obstacle\n",
        "        self.wind_power = wind_power\n",
        "\n",
        "        self.wind_idx = np.random.randint(-9999, 9999)\n",
        "\n",
        "        # defining the polygon obstacle here:\n",
        "        vertices_poly = [(5, 5), (5, 2), (2, 2), (2, 5)]  # may need to change later\n",
        "        # self.obstacle = self.world.CreateStaticBody(\n",
        "        #\n",
        "        #     # shapes=polygonShape(centroid=(self.obs_coords[0] + VIEWPORT_W / 2 / SCALE,\n",
        "        #     #                         self.obs_coords[1] + (self.helipad_y + LEG_DOWN / SCALE)),\n",
        "        #     #                    vertices= [(x / SCALE, y / SCALE) for x, y in vertices_poly]),\n",
        "        #     shapes=circleShape(pos=(self.obs_coords[0] + VIEWPORT_W / 2 / SCALE,\n",
        "        #                             self.obs_coords[1] + (self.helipad_y + LEG_DOWN / SCALE)),\n",
        "        #                        radius=2),\n",
        "        #                         categoryBits=0x1000,\n",
        "        #\n",
        "        # )\n",
        "        self.obstacle = self.world.CreateStaticBody(\n",
        "            position=(self.obs_coords[0], self.obs_coords[1]),\n",
        "            # (self.obs_coords[0] + VIEWPORT_W / 2 / SCALE,\n",
        "            # self.obs_coords[1] + (self.helipad_y + LEG_DOWN / SCALE))\n",
        "            angle=0.0,\n",
        "            fixtures=fixtureDef(\n",
        "                #circleShape(radius=2 / SCALE, pos=(0, 0)),\n",
        "                shape=circleShape(radius=20 / SCALE, pos=(self.obs_coords[0],\n",
        "                                       self.obs_coords[1])),\n",
        "                # density=5.0,\n",
        "                # friction=0.1,\n",
        "                # categoryBits=0x0010,\n",
        "                # # maskBits=0x001,  # collide only with ground\n",
        "                # restitution=0.0,\n",
        "            ),  # 0.99 bouncy\n",
        "        )\n",
        "\n",
        "        self.obstacle.color1 = (0.5, 0.4, 0.9)\n",
        "        self.obstacle.color2 = (1, 1, 1)\n",
        "        # self.obstacle.alpha = 0.8  \n",
        "\n",
        "        self.observation_space = spaces.Box(\n",
        "            -np.inf, np.inf, shape=(10,), dtype=np.float32\n",
        "        )   \n",
        "\n",
        "    def reset(self):\n",
        "        self._destroy()\n",
        "        self.world.contactListener_keepref = ContactDetector(self)\n",
        "        self.world.contactListener = self.world.contactListener_keepref\n",
        "        self.game_over = False\n",
        "        self.prev_shaping = None\n",
        "\n",
        "        W = VIEWPORT_W / SCALE\n",
        "        H = VIEWPORT_H / SCALE\n",
        "\n",
        "        # terrain\n",
        "        CHUNKS = 11\n",
        "        height = self.np_random.uniform(0, H / 2, size=(CHUNKS + 1,))\n",
        "        chunk_x = [W / (CHUNKS - 1) * i for i in range(CHUNKS)]\n",
        "        self.helipad_x1 = chunk_x[CHUNKS // 2 - 1]\n",
        "        self.helipad_x2 = chunk_x[CHUNKS // 2 + 1]\n",
        "        self.helipad_y = H / 4\n",
        "        height[CHUNKS // 2 - 2] = self.helipad_y\n",
        "        height[CHUNKS // 2 - 1] = self.helipad_y\n",
        "        height[CHUNKS // 2 + 0] = self.helipad_y\n",
        "        height[CHUNKS // 2 + 1] = self.helipad_y\n",
        "        height[CHUNKS // 2 + 2] = self.helipad_y\n",
        "        smooth_y = [\n",
        "            0.33 * (height[i - 1] + height[i + 0] + height[i + 1])\n",
        "            for i in range(CHUNKS)\n",
        "        ]\n",
        "\n",
        "        self.moon = self.world.CreateStaticBody(\n",
        "            shapes=edgeShape(vertices=[(0, 0), (W, 0)])\n",
        "        )\n",
        "\n",
        "        # defining the polygon obstacle here----------------------------------\n",
        "        vertices_poly = [(5, 5), (5, 2), (2, 2), (2, 5)]  # may need to change later\n",
        "        # self.obstacle = self.world.CreateStaticBody(\n",
        "        #\n",
        "        #     # shapes=polygonShape(centroid=(self.obs_coords[0] + VIEWPORT_W / 2 / SCALE,\n",
        "        #     #                         self.obs_coords[1] + (self.helipad_y + LEG_DOWN / SCALE)),\n",
        "        #     #                    vertices= [(x / SCALE, y / SCALE) for x, y in vertices_poly]),\n",
        "        #     shapes=circleShape(pos=(self.obs_coords[0] + VIEWPORT_W / 2 / SCALE,\n",
        "        #                             self.obs_coords[1] + (self.helipad_y + LEG_DOWN / SCALE)),\n",
        "        #                        radius=2),\n",
        "        #                         categoryBits=0x1000,\n",
        "        #\n",
        "        # )\n",
        "        self.obstacle = self.world.CreateStaticBody(\n",
        "            position=(self.obs_coords[0], self.obs_coords[1]),\n",
        "            # (self.obs_coords[0] + VIEWPORT_W / 2 / SCALE,\n",
        "            # self.obs_coords[1] + (self.helipad_y + LEG_DOWN / SCALE))\n",
        "            angle=0.0,\n",
        "            fixtures=fixtureDef(\n",
        "                #circleShape(radius=2 / SCALE, pos=(0, 0)),\n",
        "                shape=circleShape(radius=20 / SCALE, pos=(self.obs_coords[0],\n",
        "                                       self.obs_coords[1])),\n",
        "                # density=5.0,\n",
        "                # friction=0.1,\n",
        "                # categoryBits=0x0010,\n",
        "                # # maskBits=0x001,  # collide only with ground\n",
        "                # restitution=0.0,\n",
        "            ),  # 0.99 bouncy\n",
        "        )\n",
        "\n",
        "        self.obstacle.color1 = (0.5, 0.4, 0.9)\n",
        "        self.obstacle.color2 = (1, 1, 1)\n",
        "        # self.obstacle.alpha = 0.8\n",
        "        # ----------------------------------------------------------------\n",
        "\n",
        "        self.sky_polys = []\n",
        "        for i in range(CHUNKS - 1):\n",
        "            p1 = (chunk_x[i], smooth_y[i])\n",
        "            p2 = (chunk_x[i + 1], smooth_y[i + 1])\n",
        "            self.moon.CreateEdgeFixture(vertices=[p1, p2], density=0, friction=0.1)\n",
        "            self.sky_polys.append([p1, p2, (p2[0], H), (p1[0], H)])\n",
        "\n",
        "        self.moon.color1 = (0.0, 0.0, 0.0)\n",
        "        self.moon.color2 = (0.0, 0.0, 0.0)\n",
        "\n",
        "        initial_y = VIEWPORT_H / SCALE\n",
        "        self.lander = self.world.CreateDynamicBody(\n",
        "            position=(VIEWPORT_W / SCALE / 2, initial_y),\n",
        "            angle=0.0,\n",
        "            fixtures=fixtureDef(\n",
        "                shape=polygonShape(\n",
        "                    vertices=[(x / SCALE, y / SCALE) for x, y in LANDER_POLY]\n",
        "                ),\n",
        "                density=5.0,\n",
        "                friction=0.1,\n",
        "                categoryBits=0x0010,\n",
        "                maskBits=0x001,  # collide only with ground\n",
        "                restitution=0.0,\n",
        "            ),  # 0.99 bouncy\n",
        "        )\n",
        "        self.lander.color1 = (0.5, 0.4, 0.9)\n",
        "        self.lander.color2 = (0.3, 0.3, 0.5)\n",
        "        self.lander.ApplyForceToCenter(\n",
        "            (\n",
        "                self.np_random.uniform(-INITIAL_RANDOM, INITIAL_RANDOM),\n",
        "                self.np_random.uniform(-INITIAL_RANDOM, INITIAL_RANDOM),\n",
        "            ),\n",
        "            True,\n",
        "        )\n",
        "\n",
        "        self.legs = []\n",
        "        for i in [-1, +1]:\n",
        "            leg = self.world.CreateDynamicBody(\n",
        "                position=(VIEWPORT_W / SCALE / 2 - i * LEG_AWAY / SCALE, initial_y),\n",
        "                angle=(i * 0.05),\n",
        "                fixtures=fixtureDef(\n",
        "                    shape=polygonShape(box=(LEG_W / SCALE, LEG_H / SCALE)),\n",
        "                    density=1.0,\n",
        "                    restitution=0.0,\n",
        "                    categoryBits=0x0020,\n",
        "                    maskBits=0x001,\n",
        "                ),\n",
        "            )\n",
        "            leg.ground_contact = False\n",
        "            leg.color1 = (0.5, 0.4, 0.9)\n",
        "            leg.color2 = (0.3, 0.3, 0.5)\n",
        "            rjd = revoluteJointDef(\n",
        "                bodyA=self.lander,\n",
        "                bodyB=leg,\n",
        "                localAnchorA=(0, 0),\n",
        "                localAnchorB=(i * LEG_AWAY / SCALE, LEG_DOWN / SCALE),\n",
        "                enableMotor=True,\n",
        "                enableLimit=True,\n",
        "                maxMotorTorque=LEG_SPRING_TORQUE,\n",
        "                motorSpeed=+0.3 * i,  # low enough not to jump back into the sky\n",
        "            )\n",
        "            if i == -1:\n",
        "                rjd.lowerAngle = (\n",
        "                        +0.9 - 0.5\n",
        "                )  # The most esoteric numbers here, angled legs have freedom to travel within\n",
        "                rjd.upperAngle = +0.9\n",
        "            else:\n",
        "                rjd.lowerAngle = -0.9\n",
        "                rjd.upperAngle = -0.9 + 0.5\n",
        "            leg.joint = self.world.CreateJoint(rjd)\n",
        "            self.legs.append(leg)\n",
        "\n",
        "        self.drawlist = [self.lander] + self.legs\n",
        "        \n",
        "\n",
        "        return self.step(np.array([0, 0]) if self.continuous else 0)[0]\n",
        "\n",
        "    def step(self, action):\n",
        "        if self.continuous:\n",
        "            action = np.clip(action, -1, +1).astype(np.float32)\n",
        "        else:\n",
        "            assert self.action_space.contains(action), \"%r (%s) invalid \" % (\n",
        "                action,\n",
        "                type(action),\n",
        "            )\n",
        "\n",
        "        # Engines\n",
        "        tip = (math.sin(self.lander.angle), math.cos(self.lander.angle))\n",
        "        side = (-tip[1], tip[0])\n",
        "        dispersion = [self.np_random.uniform(-1.0, +1.0) / SCALE for _ in range(2)]\n",
        "\n",
        "        m_power = 0.0\n",
        "        if (self.continuous and action[0] > 0.0) or (\n",
        "            not self.continuous and action == 2\n",
        "        ):\n",
        "            # Main engine\n",
        "            if self.continuous:\n",
        "                m_power = (np.clip(action[0], 0.0, 1.0) + 1.0) * 0.5  # 0.5..1.0\n",
        "                assert m_power >= 0.5 and m_power <= 1.0\n",
        "            else:\n",
        "                m_power = 1.0\n",
        "            ox = (\n",
        "                tip[0] * (4 / SCALE + 2 * dispersion[0]) + side[0] * dispersion[1]\n",
        "            )  # 4 is move a bit downwards, +-2 for randomness\n",
        "            oy = -tip[1] * (4 / SCALE + 2 * dispersion[0]) - side[1] * dispersion[1]\n",
        "            impulse_pos = (self.lander.position[0] + ox, self.lander.position[1] + oy)\n",
        "            p = self._create_particle(\n",
        "                3.5,  # 3.5 is here to make particle speed adequate\n",
        "                impulse_pos[0],\n",
        "                impulse_pos[1],\n",
        "                m_power,\n",
        "            )  # particles are just a decoration\n",
        "            p.ApplyLinearImpulse(\n",
        "                (ox * MAIN_ENGINE_POWER * m_power, oy * MAIN_ENGINE_POWER * m_power),\n",
        "                impulse_pos,\n",
        "                True,\n",
        "            )\n",
        "            self.lander.ApplyLinearImpulse(\n",
        "                (-ox * MAIN_ENGINE_POWER * m_power, -oy * MAIN_ENGINE_POWER * m_power),\n",
        "                impulse_pos,\n",
        "                True,\n",
        "            )\n",
        "\n",
        "        s_power = 0.0\n",
        "        if (self.continuous and np.abs(action[1]) > 0.5) or (\n",
        "            not self.continuous and action in [1, 3]\n",
        "        ):\n",
        "            # Orientation engines\n",
        "            if self.continuous:\n",
        "                direction = np.sign(action[1])\n",
        "                s_power = np.clip(np.abs(action[1]), 0.5, 1.0)\n",
        "                assert s_power >= 0.5 and s_power <= 1.0\n",
        "            else:\n",
        "                direction = action - 2\n",
        "                s_power = 1.0\n",
        "            ox = tip[0] * dispersion[0] + side[0] * (\n",
        "                3 * dispersion[1] + direction * SIDE_ENGINE_AWAY / SCALE\n",
        "            )\n",
        "            oy = -tip[1] * dispersion[0] - side[1] * (\n",
        "                3 * dispersion[1] + direction * SIDE_ENGINE_AWAY / SCALE\n",
        "            )\n",
        "            impulse_pos = (\n",
        "                self.lander.position[0] + ox - tip[0] * 17 / SCALE,\n",
        "                self.lander.position[1] + oy + tip[1] * SIDE_ENGINE_HEIGHT / SCALE,\n",
        "            )\n",
        "            p = self._create_particle(0.7, impulse_pos[0], impulse_pos[1], s_power)\n",
        "            p.ApplyLinearImpulse(\n",
        "                (ox * SIDE_ENGINE_POWER * s_power, oy * SIDE_ENGINE_POWER * s_power),\n",
        "                impulse_pos,\n",
        "                True,\n",
        "            )\n",
        "            self.lander.ApplyLinearImpulse(\n",
        "                (-ox * SIDE_ENGINE_POWER * s_power, -oy * SIDE_ENGINE_POWER * s_power),\n",
        "                impulse_pos,\n",
        "                True,\n",
        "            )\n",
        "\n",
        "        self.world.Step(1.0 / FPS, 6 * 30, 2 * 30)\n",
        "\n",
        "        pos = self.lander.position\n",
        "        vel = self.lander.linearVelocity\n",
        "        state = [\n",
        "            (pos.x - VIEWPORT_W / SCALE / 2) / (VIEWPORT_W / SCALE / 2), # 0: x position\n",
        "            (pos.y - (self.helipad_y + LEG_DOWN / SCALE)) / (VIEWPORT_H / SCALE / 2), # 1: y position\n",
        "            vel.x * (VIEWPORT_W / SCALE / 2) / FPS, # 2\n",
        "            vel.y * (VIEWPORT_H / SCALE / 2) / FPS, # 3\n",
        "            self.lander.angle, # 4\n",
        "            20.0 * self.lander.angularVelocity / FPS, # 5\n",
        "            1.0 if self.legs[0].ground_contact else 0.0, # 6\n",
        "            1.0 if self.legs[1].ground_contact else 0.0, # 7\n",
        "\n",
        "            (pos.x - (self.obs_coords[0] + VIEWPORT_W / SCALE / 2)) / (VIEWPORT_W / SCALE / 2), # 8: x position\n",
        "            (pos.y - (self.obs_coords[1] + self.helipad_y + LEG_DOWN / SCALE)) / (VIEWPORT_H / SCALE / 2), # 9: y position\n",
        "\n",
        "        ]\n",
        "        assert len(state) == 10\n",
        "\n",
        "        # ----------------------------------------------------------------\n",
        "        # reward\n",
        "        # distance_to_obstacle = np.sqrt((pos.x - (self.obs_coords[0] +\n",
        "        #                                     VIEWPORT_W / SCALE / 2)) ** 2 +\n",
        "        #                         (pos.y - (self.obs_coords[1] +\n",
        "\n",
        "        #                                   (self.helipad_y + LEG_DOWN / SCALE))) ** 2)\n",
        "        distance_to_obstacle = np.sqrt(state[8] * state[8] + state[9] * state[9])\n",
        "\n",
        "        # if (distance_to_obstacle <= (1)):\n",
        "        #     print('dangerously close to obstacle!')\n",
        "\n",
        "        reward = 0\n",
        "        shaping = (\n",
        "            # If the lander moves away from the landing pad, it loses reward\n",
        "            -100 * np.sqrt(state[0] * state[0] + state[1] * state[1]) # Euclidean distance\n",
        "            - 100 * np.sqrt(state[2] * state[2] + state[3] * state[3])\n",
        "\n",
        "            - 100 * abs(state[4])\n",
        "            # Each leg with ground contact is +10 points.\n",
        "            + 10 * state[6]\n",
        "            + 10 * state[7]\n",
        "            - 50 * (distance_to_obstacle <= (1 / SCALE)) # obstacles \n",
        "        )  # And ten points for legs contact, the idea is if you\n",
        "        # lose contact again after landing, you get negative reward\n",
        "        if self.prev_shaping is not None:\n",
        "            reward = shaping - self.prev_shaping\n",
        "        self.prev_shaping = shaping\n",
        "\n",
        "        # Firing the main engine is -0.3 points each frame. \n",
        "        reward -= (\n",
        "            m_power * 0.30\n",
        "        )  # less fuel spent is better, about -30 for heuristic landing\n",
        "        # Firing the side engine is -0.03 points each frame.\n",
        "        reward -= s_power * 0.03\n",
        "\n",
        "        done = False\n",
        "        if self.game_over or abs(state[0]) >= 1.0: # crashed?\n",
        "            done = True\n",
        "            reward = -100\n",
        "        if not self.lander.awake and (np.sqrt(state[0] * state[0] + state[1] * state[1]) == 0) and (np.sqrt(state[2] * state[2] + state[3] * state[3])==0): # rest\n",
        "            done = True\n",
        "            reward = +200\n",
        "\n",
        "        return np.array(state, dtype=np.float32), reward, done, {}\n",
        "        # ----------------------------------------------------------------\n",
        "\n",
        "\n",
        "    def render(self, mode=\"human\"):\n",
        "        from gym.envs.classic_control import rendering\n",
        "\n",
        "        if self.viewer is None:\n",
        "            self.viewer = rendering.Viewer(VIEWPORT_W, VIEWPORT_H)\n",
        "            self.viewer.set_bounds(0, VIEWPORT_W / SCALE, 0, VIEWPORT_H / SCALE)\n",
        "\n",
        "        for obj in self.particles:\n",
        "            obj.ttl -= 0.15\n",
        "            obj.color1 = (\n",
        "                max(0.2, 0.2 + obj.ttl),\n",
        "                max(0.2, 0.5 * obj.ttl),\n",
        "                max(0.2, 0.5 * obj.ttl),\n",
        "            )\n",
        "            obj.color2 = (\n",
        "                max(0.2, 0.2 + obj.ttl),\n",
        "                max(0.2, 0.5 * obj.ttl),\n",
        "                max(0.2, 0.5 * obj.ttl),\n",
        "            )\n",
        "\n",
        "        self._clean_particles(False)\n",
        "        # print('drawlist')\n",
        "        # print(self.drawlist)\n",
        "        for p in self.sky_polys:\n",
        "            self.viewer.draw_polygon(p, color=(0, 0, 0))\n",
        "        # editing below line to draw obstacle\n",
        "        for obj in self.particles + self.drawlist:\n",
        "            for f in obj.fixtures:\n",
        "                trans = f.body.transform\n",
        "                if type(f.shape) is circleShape:\n",
        "                    t = rendering.Transform(translation=trans * f.shape.pos)\n",
        "                    self.viewer.draw_circle(\n",
        "                        f.shape.radius, 20, color=obj.color1, filled=True\n",
        "                    ).add_attr(t)\n",
        "                    self.viewer.draw_circle(\n",
        "                        f.shape.radius, 20, color=obj.color2, filled=False, linewidth=2\n",
        "                    ).add_attr(t)\n",
        "                    # t = rendering.Transform((100, 100))  # Position\n",
        "                    # self.viewer.draw_circle(20).add_attr(t)  # Add transform for position\n",
        "                    # self.viewer.render()\n",
        "                else:\n",
        "                    path = [trans * v for v in f.shape.vertices]\n",
        "                    # print('poly shape in object fixtures')\n",
        "                    # print(f)\n",
        "                    self.viewer.draw_polygon(path, color=obj.color1)\n",
        "                    path.append(path[0])\n",
        "                    self.viewer.draw_polyline(path, color=obj.color2, linewidth=2)\n",
        "\n",
        "        for obj2 in [self.obstacle]:\n",
        "            # print('rendering obstacle')\n",
        "            # print(obj2)\n",
        "            for f in obj2.fixtures:\n",
        "                trans = f.body.transform\n",
        "                if type(f.shape) is circleShape:\n",
        "                    # print('printing circle of radius')\n",
        "                    #t = rendering.Transform(translation=trans * f.shape.pos)\n",
        "                    t = rendering.Transform((self.obs_coords[0], self.obs_coords[1]))\n",
        "                    # print(f.shape.radius)\n",
        "                    self.viewer.draw_circle(\n",
        "                        f.shape.radius, 20, color=obj2.color1, filled=True\n",
        "                    ).add_attr(t)\n",
        "                    self.viewer.draw_circle(\n",
        "                        f.shape.radius, 20, color=obj2.color2, filled=False, linewidth=2\n",
        "                    ).add_attr(t)\n",
        "                    # t = rendering.Transform((10, 10))  # Position\n",
        "                    # self.viewer.draw_circle(2).add_attr(t)  # Add transform for position\n",
        "                    # self.viewer.render()\n",
        "                else:\n",
        "                    path = [trans * v for v in f.shape.vertices]\n",
        "                    # print('poly shape in object fixtures')\n",
        "                    # print(f)\n",
        "                    self.viewer.draw_polygon(path, color=obj2.color1)\n",
        "                    path.append(path[0])\n",
        "                    self.viewer.draw_polyline(path, color=obj2.color2, linewidth=2)\n",
        "\n",
        "        for x in [self.helipad_x1, self.helipad_x2]:\n",
        "            flagy1 = self.helipad_y\n",
        "            flagy2 = flagy1 + 50 / SCALE\n",
        "            self.viewer.draw_polyline([(x, flagy1), (x, flagy2)], color=(1, 1, 1))\n",
        "            self.viewer.draw_polygon(\n",
        "                [\n",
        "                    (x, flagy2),\n",
        "                    (x, flagy2 - 10 / SCALE),\n",
        "                    (x + 25 / SCALE, flagy2 - 5 / SCALE),\n",
        "                ],\n",
        "                color=(0.8, 0.8, 0),\n",
        "            )\n",
        "\n",
        "        return self.viewer.render(return_rgb_array=mode == \"rgb_array\")\n",
        "\n",
        "\n",
        "    \n",
        "  # def reset(self):\n",
        "  #     pass  # reward, done, info can't be included\n",
        "\n",
        "  # def render(self, mode='human'):\n",
        "  #     pass\n",
        "\n",
        "  # def close(self):\n",
        "  #     pass"
      ],
      "metadata": {
        "id": "7Nxu5rsZ4MH1"
      },
      "execution_count": 69,
      "outputs": []
    },
    {
      "cell_type": "code",
      "source": [
        "class Custom_LunarLander_reward(LunarLander):\n",
        "    metadata = {\"render.modes\": [\"human\", \"rgb_array\"], \"video.frames_per_second\": FPS}\n",
        "    continuous = False\n",
        "\n",
        "    def __init__(\n",
        "        self,\n",
        "        # render_mode: Optional[str] = None,\n",
        "        continuous: bool = False,\n",
        "        gravity: float = -10.0,\n",
        "        enable_wind: bool = False,\n",
        "        wind_power: float = 15.0,\n",
        "        turbulence_power: float = 1.5,\n",
        "    ):\n",
        "        # EzPickle.__init__(self)\n",
        "        LunarLander.__init__(self)\n",
        "\n",
        "        assert (\n",
        "            -12.0 < gravity and gravity < 0.0\n",
        "        ), f\"gravity (current value: {gravity}) must be between -12 and 0\"\n",
        "        self.gravity = gravity\n",
        "\n",
        "        if 0.0 > wind_power or wind_power > 20.0:\n",
        "            warnings.warn(\n",
        "                colorize(\n",
        "                    f\"WARN: wind_power value is recommended to be between 0.0 and 20.0, (current value: {wind_power})\",\n",
        "                    \"yellow\",\n",
        "                ),\n",
        "            )\n",
        "        self.wind_power = wind_power\n",
        "\n",
        "        if 0.0 > turbulence_power or turbulence_power > 2.0:\n",
        "            warnings.warn(\n",
        "                colorize(\n",
        "                    f\"WARN: turbulence_power value is recommended to be between 0.0 and 2.0, (current value: {turbulence_power})\",\n",
        "                    \"yellow\",\n",
        "                ),\n",
        "            )\n",
        "        self.turbulence_power = turbulence_power\n",
        "\n",
        "        self.enable_wind = enable_wind\n",
        "        # self.wind_idx = np.random.randint(-9999, 9999)\n",
        "        # self.torque_idx = np.random.randint(-9999, 9999)\n",
        "\n",
        "        # self.screen: pygame.Surface = None\n",
        "        # self.clock = None\n",
        "        # self.isopen = True\n",
        "        # self.world = Box2D.b2World(gravity=(0, gravity))\n",
        "        # self.moon = None\n",
        "        # self.lander: Optional[Box2D.b2Body] = None\n",
        "        # self.particles = []\n",
        "\n",
        "        # self.prev_reward = None\n",
        "\n",
        "        self.continuous = continuous\n",
        "\n",
        "        # low = np.array(\n",
        "        #     [\n",
        "        #         # these are bounds for position\n",
        "        #         # realistically the environment should have ended\n",
        "        #         # long before we reach more than 50% outside\n",
        "        #         -1.5,\n",
        "        #         -1.5,\n",
        "        #         # velocity bounds is 5x rated speed\n",
        "        #         -5.0,\n",
        "        #         -5.0,\n",
        "        #         -math.pi,\n",
        "        #         -5.0,\n",
        "        #         -0.0,\n",
        "        #         -0.0,\n",
        "        #     ]\n",
        "        # ).astype(np.float32)\n",
        "        # high = np.array(\n",
        "        #     [\n",
        "        #         # these are bounds for position\n",
        "        #         # realistically the environment should have ended\n",
        "        #         # long before we reach more than 50% outside\n",
        "        #         1.5,\n",
        "        #         1.5,\n",
        "        #         # velocity bounds is 5x rated speed\n",
        "        #         5.0,\n",
        "        #         5.0,\n",
        "        #         math.pi,\n",
        "        #         5.0,\n",
        "        #         1.0,\n",
        "        #         1.0,\n",
        "        #     ]\n",
        "        # ).astype(np.float32)\n",
        "\n",
        "        # # useful range is -1 .. +1, but spikes can be higher\n",
        "        # self.observation_space = spaces.Box(low, high)\n",
        "\n",
        "        # if self.continuous:\n",
        "        #     # Action is two floats [main engine, left-right engines].\n",
        "        #     # Main engine: -1..0 off, 0..+1 throttle from 50% to 100% power. Engine can't work with less than 50% power.\n",
        "        #     # Left-right:  -1.0..-0.5 fire left engine, +0.5..+1.0 fire right engine, -0.5..0.5 off\n",
        "        #     self.action_space = spaces.Box(-1, +1, (2,), dtype=np.float32)\n",
        "        # else:\n",
        "        #     # Nop, fire left engine, main engine, right engine\n",
        "        #     self.action_space = spaces.Discrete(4)\n",
        "\n",
        "        # self.render_mode = render_mode\n",
        "        # self.renderer = Renderer(self.render_mode, self._render)\n",
        "        \n",
        "\n",
        "    def step(self, action):\n",
        "        if self.continuous:\n",
        "            action = np.clip(action, -1, +1).astype(np.float32)\n",
        "        else:\n",
        "            assert self.action_space.contains(action), \"%r (%s) invalid \" % (\n",
        "                action,\n",
        "                type(action),\n",
        "            )\n",
        "\n",
        "        # Engines\n",
        "        tip = (math.sin(self.lander.angle), math.cos(self.lander.angle))\n",
        "        side = (-tip[1], tip[0])\n",
        "        dispersion = [self.np_random.uniform(-1.0, +1.0) / SCALE for _ in range(2)]\n",
        "\n",
        "        m_power = 0.0\n",
        "        if (self.continuous and action[0] > 0.0) or (\n",
        "            not self.continuous and action == 2\n",
        "        ):\n",
        "            # Main engine\n",
        "            if self.continuous:\n",
        "                m_power = (np.clip(action[0], 0.0, 1.0) + 1.0) * 0.5  # 0.5..1.0\n",
        "                assert m_power >= 0.5 and m_power <= 1.0\n",
        "            else:\n",
        "                m_power = 1.0\n",
        "            ox = (\n",
        "                tip[0] * (4 / SCALE + 2 * dispersion[0]) + side[0] * dispersion[1]\n",
        "            )  # 4 is move a bit downwards, +-2 for randomness\n",
        "            oy = -tip[1] * (4 / SCALE + 2 * dispersion[0]) - side[1] * dispersion[1]\n",
        "            impulse_pos = (self.lander.position[0] + ox, self.lander.position[1] + oy)\n",
        "            p = self._create_particle(\n",
        "                3.5,  # 3.5 is here to make particle speed adequate\n",
        "                impulse_pos[0],\n",
        "                impulse_pos[1],\n",
        "                m_power,\n",
        "            )  # particles are just a decoration\n",
        "            p.ApplyLinearImpulse(\n",
        "                (ox * MAIN_ENGINE_POWER * m_power, oy * MAIN_ENGINE_POWER * m_power),\n",
        "                impulse_pos,\n",
        "                True,\n",
        "            )\n",
        "            self.lander.ApplyLinearImpulse(\n",
        "                (-ox * MAIN_ENGINE_POWER * m_power, -oy * MAIN_ENGINE_POWER * m_power),\n",
        "                impulse_pos,\n",
        "                True,\n",
        "            )\n",
        "\n",
        "        s_power = 0.0\n",
        "        if (self.continuous and np.abs(action[1]) > 0.5) or (\n",
        "            not self.continuous and action in [1, 3]\n",
        "        ):\n",
        "            # Orientation engines\n",
        "            if self.continuous:\n",
        "                direction = np.sign(action[1])\n",
        "                s_power = np.clip(np.abs(action[1]), 0.5, 1.0)\n",
        "                assert s_power >= 0.5 and s_power <= 1.0\n",
        "            else:\n",
        "                direction = action - 2\n",
        "                s_power = 1.0\n",
        "            ox = tip[0] * dispersion[0] + side[0] * (\n",
        "                3 * dispersion[1] + direction * SIDE_ENGINE_AWAY / SCALE\n",
        "            )\n",
        "            oy = -tip[1] * dispersion[0] - side[1] * (\n",
        "                3 * dispersion[1] + direction * SIDE_ENGINE_AWAY / SCALE\n",
        "            )\n",
        "            impulse_pos = (\n",
        "                self.lander.position[0] + ox - tip[0] * 17 / SCALE,\n",
        "                self.lander.position[1] + oy + tip[1] * SIDE_ENGINE_HEIGHT / SCALE,\n",
        "            )\n",
        "            p = self._create_particle(0.7, impulse_pos[0], impulse_pos[1], s_power)\n",
        "            p.ApplyLinearImpulse(\n",
        "                (ox * SIDE_ENGINE_POWER * s_power, oy * SIDE_ENGINE_POWER * s_power),\n",
        "                impulse_pos,\n",
        "                True,\n",
        "            )\n",
        "            self.lander.ApplyLinearImpulse(\n",
        "                (-ox * SIDE_ENGINE_POWER * s_power, -oy * SIDE_ENGINE_POWER * s_power),\n",
        "                impulse_pos,\n",
        "                True,\n",
        "            )\n",
        "\n",
        "        self.world.Step(1.0 / FPS, 6 * 30, 2 * 30)\n",
        "\n",
        "        pos = self.lander.position\n",
        "        vel = self.lander.linearVelocity\n",
        "        state = [\n",
        "            (pos.x - VIEWPORT_W / SCALE / 2) / (VIEWPORT_W / SCALE / 2), # 0: x position\n",
        "            (pos.y - (self.helipad_y + LEG_DOWN / SCALE)) / (VIEWPORT_H / SCALE / 2), # 1: y position\n",
        "            vel.x * (VIEWPORT_W / SCALE / 2) / FPS, # 2\n",
        "            vel.y * (VIEWPORT_H / SCALE / 2) / FPS, # 3\n",
        "            self.lander.angle, # 4\n",
        "            20.0 * self.lander.angularVelocity / FPS, # 5\n",
        "            1.0 if self.legs[0].ground_contact else 0.0, # 6\n",
        "            1.0 if self.legs[1].ground_contact else 0.0, # 7\n",
        "        ]\n",
        "        assert len(state) == 8\n",
        "\n",
        "        # ----------------------------------------------------------------\n",
        "        # reward\n",
        "        reward = 0\n",
        "        shaping = (\n",
        "            # If the lander moves away from the landing pad, it loses reward\n",
        "            -100 * np.sqrt(state[0] * state[0] + state[1] * state[1]) # Euclidean distance\n",
        "            - 100 * np.sqrt(state[2] * state[2] + state[3] * state[3])\n",
        "\n",
        "            - 100 * abs(state[4])\n",
        "            # Each leg with ground contact is +10 points.\n",
        "            + 10 * state[6]\n",
        "            + 10 * state[7]\n",
        "        )  # And ten points for legs contact, the idea is if you\n",
        "        # lose contact again after landing, you get negative reward\n",
        "        if self.prev_shaping is not None:\n",
        "            reward = shaping - self.prev_shaping\n",
        "        self.prev_shaping = shaping\n",
        "\n",
        "        # Firing the main engine is -0.3 points each frame. \n",
        "        reward -= (\n",
        "            m_power * 0.30\n",
        "        )  # less fuel spent is better, about -30 for heuristic landing\n",
        "        # Firing the side engine is -0.03 points each frame.\n",
        "        reward -= s_power * 0.03\n",
        "\n",
        "        done = False\n",
        "        if self.game_over or abs(state[0]) >= 1.0: # crashed?\n",
        "            done = True\n",
        "            reward = -100\n",
        "        if not self.lander.awake and (np.sqrt(state[0] * state[0] + state[1] * state[1]) == 0) and (np.sqrt(state[2] * state[2] + state[3] * state[3])==0): # rest\n",
        "            done = True\n",
        "            reward = +200\n",
        "        return np.array(state, dtype=np.float32), reward, done, {}\n",
        "        # ----------------------------------------------------------------\n",
        "\n",
        "\n",
        "\n",
        "    \n",
        "  # def reset(self):\n",
        "  #     pass  # reward, done, info can't be included\n",
        "\n",
        "  # def render(self, mode='human'):\n",
        "  #     pass\n",
        "\n",
        "  # def close(self):\n",
        "  #     pass"
      ],
      "metadata": {
        "id": "0DW6wn84SBWf"
      },
      "execution_count": null,
      "outputs": []
    },
    {
      "cell_type": "markdown",
      "source": [
        "check environment"
      ],
      "metadata": {
        "id": "xGf0_9im0Y3R"
      }
    },
    {
      "cell_type": "code",
      "source": [
        "new_env = Custom_LunarLander_obs()\n",
        "new_env"
      ],
      "metadata": {
        "colab": {
          "base_uri": "https://localhost:8080/"
        },
        "id": "GdKLT2SiGCiV",
        "outputId": "8804046a-9d89-4b40-964a-1f5de4c027b7"
      },
      "execution_count": 56,
      "outputs": [
        {
          "output_type": "execute_result",
          "data": {
            "text/plain": [
              "<__main__.Custom_LunarLander_obs at 0x7fec3d15ea90>"
            ]
          },
          "metadata": {},
          "execution_count": 56
        }
      ]
    },
    {
      "cell_type": "code",
      "source": [
        "from stable_baselines3.common.env_checker import check_env\n",
        "check_env(new_env)"
      ],
      "metadata": {
        "id": "kG6IM6zW2IPm",
        "outputId": "04cebe08-1276-413b-a6f7-3dca272bf160",
        "colab": {
          "base_uri": "https://localhost:8080/"
        }
      },
      "execution_count": 57,
      "outputs": [
        {
          "output_type": "stream",
          "name": "stdout",
          "text": [
            "dangerously close to obstacle!\n",
            "dangerously close to obstacle!\n",
            "dangerously close to obstacle!\n",
            "dangerously close to obstacle!\n",
            "dangerously close to obstacle!\n",
            "dangerously close to obstacle!\n",
            "dangerously close to obstacle!\n",
            "dangerously close to obstacle!\n",
            "dangerously close to obstacle!\n",
            "dangerously close to obstacle!\n",
            "dangerously close to obstacle!\n",
            "dangerously close to obstacle!\n"
          ]
        }
      ]
    },
    {
      "cell_type": "markdown",
      "source": [
        "#### register environment"
      ],
      "metadata": {
        "id": "DzZ83S3UzBYc"
      }
    },
    {
      "cell_type": "code",
      "source": [
        "from gym.envs.registration import register\n",
        "# Example for the CartPole environment\n",
        "register(\n",
        "    # unique identifier for the env `name-version`\n",
        "    id=\"LunarLander-v4\",\n",
        "    # path to the class for creating the env\n",
        "    # Note: entry_point also accept a class as input (and not only a string)\n",
        "    entry_point= Custom_LunarLander_obs,\n",
        "    # Max number of steps per episode, using a `TimeLimitWrapper`\n",
        "    max_episode_steps=500,\n",
        ")"
      ],
      "metadata": {
        "colab": {
          "base_uri": "https://localhost:8080/"
        },
        "id": "C1cIXPTaJsQG",
        "outputId": "865482dd-f81b-4edc-8bd8-03257691ccec"
      },
      "execution_count": 70,
      "outputs": [
        {
          "output_type": "stream",
          "name": "stderr",
          "text": [
            "/usr/local/lib/python3.7/dist-packages/gym/envs/registration.py:216: UserWarning: \u001b[33mWARN: Overriding environment LunarLander-v4\u001b[0m\n",
            "  logger.warn(\"Overriding environment {}\".format(id))\n"
          ]
        }
      ]
    },
    {
      "cell_type": "markdown",
      "source": [
        "#### define model in new env"
      ],
      "metadata": {
        "id": "KdG01o1IzxGG"
      }
    },
    {
      "cell_type": "markdown",
      "metadata": {
        "execution": {},
        "id": "kMkD1Ku8zq9q"
      },
      "source": [
        "Now, let us setup our model and the DQN algorithm. "
      ]
    },
    {
      "cell_type": "code",
      "execution_count": 16,
      "metadata": {
        "execution": {},
        "id": "hun_d8rYzq9p"
      },
      "outputs": [],
      "source": [
        "nn_layers = [64,64] #This is the configuration of your neural network. Currently, we have two layers, each consisting of 64 neurons.\n",
        "                    #If you want three layers with 64 neurons each, set the value to [64,64,64] and so on.\n",
        "\n",
        "learning_rate = 0.001 #This is the step-size with which the gradient descent is carried out.\n",
        "                      #Tip: Use smaller step-sizes for larger networks."
      ]
    },
    {
      "cell_type": "code",
      "execution_count": 71,
      "metadata": {
        "execution": {},
        "id": "5J0MmqyPzq9q"
      },
      "outputs": [],
      "source": [
        "log_dir = \"/tmp/gym/\"\n",
        "os.makedirs(log_dir, exist_ok=True)\n",
        "\n",
        "# Create environment\n",
        "env = gym.make('LunarLander-v4')\n",
        "#You can also load other environments like cartpole, MountainCar, Acrobot. Refer to https://gym.openai.com/docs/ for descriptions.\n",
        "#For example, if you would like to load Cartpole, just replace the above statement with \"env = gym.make('CartPole-v1')\".\n",
        "\n",
        "env = stable_baselines3.common.monitor.Monitor(env, log_dir )\n",
        "\n",
        "callback = EvalCallback(env,log_path = log_dir, deterministic=True) #For evaluating the performance of the agent periodically and logging the results.\n",
        "\n",
        "policy_kwargs = dict(activation_fn=torch.nn.ReLU,\n",
        "                     net_arch=nn_layers)\n",
        "model = DQN(\"MlpPolicy\", env, policy_kwargs = policy_kwargs,\n",
        "            learning_rate=learning_rate,\n",
        "            batch_size=1,  #for simplicity, we are not doing batch update.\n",
        "            buffer_size=1, #size of experience of replay buffer. Set to 1 as batch update is not done\n",
        "            learning_starts=1, #learning starts immediately!\n",
        "            gamma=0.99, #discount facto. range is between 0 and 1.\n",
        "            tau = 1,  #the soft update coefficient for updating the target network\n",
        "            target_update_interval=1, #update the target network immediately.\n",
        "            train_freq=(1,\"step\"), #train the network at every step.\n",
        "            max_grad_norm = 10, #the maximum value for the gradient clipping\n",
        "            exploration_initial_eps = 1, #initial value of random action probability\n",
        "            exploration_fraction = 0.5, #fraction of entire training period over which the exploration rate is reduced\n",
        "            gradient_steps = 1, #number of gradient steps\n",
        "            seed = 1, #seed for the pseudo random generators\n",
        "            verbose=0) #Set verbose to 1 to observe training logs. We encourage you to set the verbose to 1.\n",
        "\n",
        "# You can also experiment with other RL algorithms like A2C, PPO, DDPG etc. Refer to  https://stable-baselines3.readthedocs.io/en/master/guide/examples.html\n",
        "#for documentation. For example, if you would like to run DDPG, just replace \"DQN\" above with \"DDPG\"."
      ]
    },
    {
      "cell_type": "markdown",
      "source": [
        "#### visualize new environment"
      ],
      "metadata": {
        "id": "aFsU1I3KzLEL"
      }
    },
    {
      "cell_type": "code",
      "source": [
        "new_env = wrap_env(gym.make(\"LunarLander-v4\"))\n",
        "observation = new_env.reset()\n",
        "total_reward = 0\n",
        "\n",
        "while True:\n",
        "  new_env.render()\n",
        "  action, states = model.predict(observation, deterministic=True)\n",
        "  observation, reward, done, info = new_env.step(action)\n",
        "  total_reward += reward\n",
        "  if done:\n",
        "    break;\n",
        "\n",
        "# print(total_reward)\n",
        "new_env.close()\n",
        "show_video()"
      ],
      "metadata": {
        "id": "HeHfAR-g4ttm",
        "outputId": "db347757-236b-4dc7-ec49-281f77ca85c8",
        "colab": {
          "base_uri": "https://localhost:8080/",
          "height": 421
        }
      },
      "execution_count": 73,
      "outputs": [
        {
          "output_type": "display_data",
          "data": {
            "text/plain": [
              "<IPython.core.display.HTML object>"
            ],
            "text/html": [
              "<video alt=\"test\" autoplay\n",
              "                loop controls style=\"height: 400px;\">\n",
              "                <source src=\"data:video/mp4;base64,AAAAIGZ0eXBpc29tAAACAGlzb21pc28yYXZjMW1wNDEAAAAIZnJlZQAAPz9tZGF0AAACrgYF//+q3EXpvebZSLeWLNgg2SPu73gyNjQgLSBjb3JlIDE1MiByMjg1NCBlOWE1OTAzIC0gSC4yNjQvTVBFRy00IEFWQyBjb2RlYyAtIENvcHlsZWZ0IDIwMDMtMjAxNyAtIGh0dHA6Ly93d3cudmlkZW9sYW4ub3JnL3gyNjQuaHRtbCAtIG9wdGlvbnM6IGNhYmFjPTEgcmVmPTMgZGVibG9jaz0xOjA6MCBhbmFseXNlPTB4MzoweDExMyBtZT1oZXggc3VibWU9NyBwc3k9MSBwc3lfcmQ9MS4wMDowLjAwIG1peGVkX3JlZj0xIG1lX3JhbmdlPTE2IGNocm9tYV9tZT0xIHRyZWxsaXM9MSA4eDhkY3Q9MSBjcW09MCBkZWFkem9uZT0yMSwxMSBmYXN0X3Bza2lwPTEgY2hyb21hX3FwX29mZnNldD0tMiB0aHJlYWRzPTYgbG9va2FoZWFkX3RocmVhZHM9MSBzbGljZWRfdGhyZWFkcz0wIG5yPTAgZGVjaW1hdGU9MSBpbnRlcmxhY2VkPTAgYmx1cmF5X2NvbXBhdD0wIGNvbnN0cmFpbmVkX2ludHJhPTAgYmZyYW1lcz0zIGJfcHlyYW1pZD0yIGJfYWRhcHQ9MSBiX2JpYXM9MCBkaXJlY3Q9MSB3ZWlnaHRiPTEgb3Blbl9nb3A9MCB3ZWlnaHRwPTIga2V5aW50PTI1MCBrZXlpbnRfbWluPTI1IHNjZW5lY3V0PTQwIGludHJhX3JlZnJlc2g9MCByY19sb29rYWhlYWQ9NDAgcmM9Y3JmIG1idHJlZT0xIGNyZj0yMy4wIHFjb21wPTAuNjAgcXBtaW49MCBxcG1heD02OSBxcHN0ZXA9NCBpcF9yYXRpbz0xLjQwIGFxPTE6MS4wMACAAAAJhGWIhAAz//727L4FNhTIUJcRLMXaSnA+KqSAgHc02r/DyR6sALbNSHbECevbTl41um5/7g8r2AMiNWz9r2/V+Y7ZRijmc8P8aYd0WEoJuxcul0Cwmr9Dj5pIhvx3BS8zm+wxq+2Fgsc+KO1uacLY5ye+7UIHyIOsV9VfFh3HbwaQCWEn6Y1qNl8GLoEiDt/CiciWO9x8H31u8wLRxzNqXJIsLsjuIztlZ0ZR5ebfJ1d5ByOn4vuuap00MqjIeFrZfXAJs7JkIM/EsREmFHcOmsdh+VLaYweHCASAAAADAADhoJ1UxHUlkB2MhLEPQAA4QrDYYhItAKZP2Bm15L32ezEnA7ZpPGGstmUfACM9HIzXP2EIo+LoyAwsWf1fPoNlSkhcqP16kmHP51WikUQjlXGdyF9oAuWN94XIMs0jtbJR/4kZt77t6yYYdDmw+lOXw2EOby9lJKQ4lZBvsRtziAaVHB1yxC/Iwq37D/uA8KqHV/zstWUAe2YeNNhNf+EkTXuI6makJ20TvWc3cmFTSHufaEBEId3Lpy4bEMZdr9rUcG0ij5PndywngI/QoLDgW61pZPrWHKOuu6gXyMszs5dvIH8wJTdkW7ZL+fGA/f5HuE6Aop5b4UjtbVEuXQcDc5bHAeOeg9BW6+cgmIiptJL1SWPVBF3cVfNqvq3QeTU98tyHfGh4BI33h8TGDfgacKk16YhdkfTCGey4qbOWecpeQDzrClxUuB9PFkyO5E/aFKsIyemyKOfSgZuNePiP+AOAYbAQxvaRL6TGWrxcPQLUCwHK//4AWzUBCB2wkeDZxVzrNfGzWIcts40UZY8i0S0WBR5H1pf5WadgSXmpuAODYhbnexj16oRknppSRWeXKSrB9dH1XnX/Qr1RjFg0PAQTt/Mngqqc3s3wGN7DpvteoX3XrO+dpfJYIvMI0vpr9hbbMagq6BWtUMRRPwXzh3JgPZ2AOgOTubfUYXd7nS+sk7n5PRJQ0sq0lsob7pgask3rHqIsa2DRLZLir4Am3MAb1sAweymzTUgwARPANwZuy9YEENDKABvGAABYLZV2QAIbje+zArUCFAAAAwAAAwA89HhqhLr2fuVaiuqq2FJq6JiMxkPYJdZBrGGNyX6XV7gnN/MPOi9Pbuw4CU60Ff1UNrWWZMhEBL4lvm4V7fCufbuLUbxPK2UHlafhFY1WxiTCerdSQGVwy4FZmAdIeeMO+DsEY5o5FkphybtAOUK3PnDftYpm9r5hLGLV08tR1wgeIzEAQ0nACcj+e71KF3QOXc05juwia2qEWOAZ87s7EThcuOZqTYlyRHljWBBQY3yUWrXg69cX4bTkOGRyIg0nMXwAPK5EDeUPY41F9VNuY4RIbyAB5qAVmYnAEELa44PZAesLYQgDXF+SEh4oZsR6A0NhlFlLSv/mgzgq+j2tCsQszKjrm+f9JqfJcPG6pWROp8DcDkx34w/ckYRqqUYItc+qJ/DwMbjcotbPnxV3cPrDh/rjeBztRBdv8hXyV71rgPE2QbgdjXDi5HOPHjv7ZyAZCCg/1s1PFJ3AdKVtOTi6avlk2BqAXFFLQVss5cS4X2WB3kAOmw391cqbxxPQXIENNuHlHNRxXjE92H6ueEqpwYGU7d0yL6/+NOvy+oWudDr5IGKraX6CJuHo4OZf6tf8i47QSABzD6y00T+wo4iDBAJouxvOSDPYb2KHtxzDqldvckRV8YQY8R3v+0gWb+A6OP4R9P0eDXHUfTqqWTxnWP8mDvWtaLKWLOxboe98tqbUy9XAsZ6gJmAVxTqsc0Etpa91URQQxfj3///wl9lmrCcI5eOgWf86Pqlv8b8v3eBarofQVVEY/FVqta6pZuWzTpXZeSLBpGr+ZmppIXwwbYCoKryRq1Pyyt7IpsSuK5xi69O5KiyEYgxOC4TAmeuDXVHXLx6y7V3r0KCnaziKkY9j7dAeAflD6xB+rJMpdIyJOWcPMShBQmKaZE3f/Gmj2iQPuH5d4uCzWp8T5Ud1wOX00tyozt6U69M5SpaVZNHgB6r3QqPuD29FRoF5Tnsn496pPs1m7SzCD62YfnQOtDR1C23g3k8iAi3pU22QBZH/7gL6SkG5acUH29s1tTS47E3LLp022QLiHI+NY8PDr/m0cijEI+iYOHSfSmZIWD3pR3W602wZK/rk7PAVDDVOoXxRXwg5Dy4GqBEwKh1tHqcmY7Ia+PRwOJ0TwBtdmSR9E0EdDzrxjubshZTq5HdL5He9oF9yGWSGlBTGxxKGSnR3Nm0aZywGRR/7T6FY461k/dbf9cqFEHZOuTkZYTbT4kagl9PZBQ5lEPcgeLetfPYeqrzCTq4uRO12P2BDNQLp4e6/RLf3oxCpnFd82fqXnONYkCor48TKrF8X3mYU3YJRkXdW+UlaOMZzggVHxgG7e1cW5gmH4kJKoTEoUmteidOUa3wQ0sezNq7rayuDDGFWG3vTzMN0kcRuTuE2wdSailGHSVcX3w7ms/RSv7Yr733lnJVlLP/bB95h+5io7PX/EwswqVCi9aVcOs7lIevETgKVXYdzL5OEeZbkGxesM8pw7LWg+YOBnyR0Nuamxpv8QAozFQ9Z9/lN4yF8pfD6DIh0Oq5gLu+s+qX8wrS8lnssQ8Xgmj1EcIDh67YUu8ufNmhT5RcIQYm1MojrjQCEjYZmpKHc9QBP8wUm8itrV4a0djixpE+ivZKDObPB6uo78jtkn3bGGy2fba6YeXgB/TpGHaN8HCmfhncWH4Mg2ED8AiYWvrW9jVOR1wABWQG4xW98gS2wXHu6WqJDUQkzxLJgtQNKEWDjgYKNuoo/mTPeyy1InBwqzepRQuMk4uTWUa6bMY4eGz4Qh94K0/gNe/d4J/8CMxLqGppnwk+Hkiyw9UEZqmE7z4+iEwl8A2DKOehJrjWR0DHHpSSZyjghU93k7QNDy47EwC/rLbzkwkKb7rL9z2Znu4uLSiB2cg6ZfyB96C3ilJX+HXQF869ngThS9nOpwtX3vFjWcGv/2iFzUA0sWKz4X1rYw8rG1Nc+mpW59MsqZ6qrmpBb6PMOuGyi+H5WlVNjbTyBLwzbd0Tcu1KS4mvSyIQJJFgs6MSdLlkYPnVkdFJ9p4z+CBLxnsuKYw6ZZtmpWFf7Ya+dPg9A8k1tBmxpWnTTaPdBoFI1+hFv/5SEABnNNyDuezY35dVyqkA2WN86E7X9/CVkOVVTT5LLbefoqx9CM7Yg3EnTvp/8zUAAADVgiI4zNwAAAURBmiRsQz/+ni3Y/S2g3ExND8uYBPc56eYpwBNkI9dRlAUsZHZ8yNGmFkXcsWMlBZ/4AAAKHS72tSqQCmmQMZsP6bxJQvPOrZ4GGW36FAtXuW1gyrE7aZL2WtyBwymrw8BgG4gMVgtyufB4OHuXjXBi0tS5fiz+92BZVJ08l/bsEwjJBz5mQ0T08oJ8O+BUnebJW6O/AaLHDkJyUDOI2gStNJ7+i58IpUXGnG6/hBl1uOVyShbPTUG9XWlQ3u9UzXMlAITpH/iFn1FO9xn8p4es5HHk5v1qkbZ6LhmDwTqypVLaxgpYoqJ3sr2YKkZU3stnRdJ52j4nEDO7/1QXWWguSOaYZ34V2bJrQbWRkcmIp8FXymx5SLjDbFaUyG/tTe/6qWtmSSpReJKNLLE1kf55sWDtTLImytqF2n+YpqaSAp0ckHAAAABmQZ5CeIR/D2i/Z3oG4daUANiwwd8VVQo5GBJW0SKgKG6huyzQHYTEUURCkSArwnoTBSOlg6GIuZTiKafLVnaOZRuCJbjXLp0pp8CytsvJFrPn6pewxbaEox51K5vAHwZ4v9Ku2ZbRAAAAUQGeYXRH/xUFZCT5DkX/BnF8FAB8/vnXIVgx6Y4RCB/9+ctXAjs1107ytADct7AUrtgD9tRogjniEjwcVMeqEHsoV7xj+AojDtPPDSQbJlej5gAAADUBnmNqR/8U/Xi2ciz/gBCxasp6nF3BdF+m43dpQAHO9TFnIQeWTAO0tIKK6c6DiJZTOmokLQAAAH9BmmhJqEFomUwIZ//+niF0aiBthtywAzvyAFVR76fN2T/fdg3duifjBTJkrLagAAADACcN33a1Kp85e+fpYd+rcoUMuwzlusYyVIvMn3dw1pC1ItYrXKIs5cM//n8L/T3v/6Fc1QbiVR7nIvAyx8tulXdfxGZbmGxyEG1t5GKTAAAAOUGehkURLCP/DfsDQJVBYuMdFioRW7lDJRYIDAK0XdkpFgUhTXmukraF3hCeIqsq2ho/UfPLFXAI+QAAACcBnqV0R/8S+ZJAUyJ0SgekJsYuUd0BFLbPRPjW/rFJdKHOKErAUEEAAAAwAZ6nakf/EwML5/AAjCFuUOGdAtmiyRROCpbeNiADeFYjbGm3+DA0dZ/oU+YDPgQcAAAAVUGarEmoQWyZTAhn//6eI1xwrF4BkgssgBAnDHc3bBDZoME+r4UenYCXz7O8DyYrn1kcPQAO3+DV30OK+rRZIGRtEd5PHk5OD9buHYeOmIZkCzacYR8AAAA6QZ7KRRUsI/8N8MVruKQwl6OQACsW5a440R0qOo2y0pStFKMAHxM2Kvsnp5jkjumf5pXC3jYYcYYBDwAAACgBnul0R/8TBCvs5SNYJYn+34yP6hCAANqhZRnzEHv+oo8YqD8SmTvmAAAAIwGe62pH/xCmnAj/TL0i9Ia+BRwAOrTs6j1apBXpoYnH3hqQAAAASEGa8EmoQWyZTAhn//6eHVz++0rNmVeCDoGAC+/990tGYrhnThLs/ryDQgQth2ORe/Lz72ALYePt4RPz5QHB59wU2EGoWBrUgQAAADlBnw5FFSwj/wyqrd3V5lGGAFLOopjk686PPr1WAHbZuBEKUQOewIdnK7ixzN+7XRL3NIggr4JqcxcAAAAsAZ8tdEf/EYvttABWAHxdFOUwn6chtyQjRAFjC/cRbr7vF5EVJwwLnEfAg4EAAAAoAZ8vakf/EYeuACxizoUOk9tqShsAAAfZbBcfjfTPd5NxFs6UsC5BIwAAAGVBmzRJqEFsmUwIX//+jL9stYq3uvguAB1ozQhHq9z8Y01h6v4wTTrVno0ceHqAAAADAnEIcgrje1qVYfRleAX7MSz0JfBl4fegd1rEDrevg3w1cfl+SKQ+0Y/A459to3KZ8mAqoAAAAEVBn1JFFSwj/wt+d1ptJADbO/yA6KRzU9JbxThZRLVDvCjoMCDDws4OCkD5CUA3fWo9LfLbgT2erVgWwkKVCoOhQPjhFlEAAAAnAZ9xdEf/EY8eqJXvuxkKVt32vQDTTYiStaiByZ42bCX6KWbep6CAAAAAMQGfc2pH/xGItMgJsYALJagfGjaZ9WZkfVr+b2ndmQAoYUpO1o39alKK5NIjJVnwr4AAAABkQZt4SahBbJlMCF///oy6ra9OKIbfjqxsjUATyyLBK06de4CeHdCgF/0TFe8RtLjEv+dWjfDN8mMg38VWKGgoDEYsfCb0/fO/u7uEiLtgWycOvzzzwBTI7Q0VQavGO9SNF5gmwQAAAERBn5ZFFSwj/wt3Acd+YXKgBtZBX/kvTii4MVOk16cX+4XRjV1oXTMxGnSQDJTiq3LfC7ADhjeMf3gyK5yRn2/ggLB+pgAAADYBn7V0R/8PxUHDlhnyWAA45l38eV3bDFXcfLCONj69hMZpZJmkrBAOGy3uXoZXgBHYbqg3r0UAAAAzAZ+3akf/DpNZ59Y4IoAEsVEAiIgLfkTd9Pwon8QujgAfxB7s0H+t3vVGCMXQ1FZYBm1ZAAAAkUGbu0moQWyZTAhf//6Mty10RdfVd4WAE1eb3+YIq8x9gnIQ7JEMOiYLz7ugtUCEZtuJ5+eTv/T3cmGEtwAWs2jYC3ViR0yMgcWbCwM9D1+clP4fsymcrHKdZ7YdL7gYTd5oYytRO7t9C1tPaL+v9uw99eSozCoj7aRoYGwyx4baFgAAZppGiTuv/Xdnrl4lzKAAAABFQZ/ZRRUsI/8KchF38H+IAEzEjYVa6iGghnjCrXIJ2WShdAv68PiVmcQXkQQsAFs9n8C1oi/ksxYeSE8g7HU70n3szMppAAAAOgGf+mpH/w6MJPT1JuSedNjbXPACZ48muXeCurWasQDnNlEDs3ntNSB/ZPaAKiBDjonD6sKqNyNY7OwAAACxQZv9SahBbJlMFEwv//6Mt2dcqeBD8rQ+tkpjU/5lv7wQCkBFRKPFWbXI9UThlhZJfaOaHhYyVV7hU/UySA73HSrgkTM7f1IpV0NBz5dvSrwyaQZT9QD7aMlRoV5alNl8GdPird1eOAC6E9gubKhfy+dHzjF+3EM8TK32g8O8mXKcv33a1LIhUabqQydgaFkqGHWMv/rr8X3v3+3RKkXXKrdUYYeIvD2phq+8Zip0oCBtAAAAPgGeHGpH/w6BXQkhABW2JKm3ehuyuGt8U8ACSvuuiBdoGs07vGzNYACnyQ/1Hm9alkt11lD1Ing4MmVQpUEnAAAA6UGaAUnhClJlMCF//oy1NuOlUre+GAAhYM48cRBFr6Q0lt4/GZPb30wk/xsLHN3WvxtBX3f3qHlcVLimsJp8E8o9Pa7/wlX6gcGWxvPXt1X8RwfY8MfY5tgxqosIPsPvNY9cdbOTNBSp/t3LCXPQ18+A1pv2oGnfoWEKjf1pahGxClaURsdY1pVQxZd4ziFnzdtjW9ze0aY4TSui28/nDilgZ0TTL/0nsWPvu1oeLIW1rTVONgFstc9MD9B0G64RrjCZmy0hQK1WkwaCsfY2N78iNp1BkirKyQTzK9duIhjOTHPZQvPkkt6AAAAAeEGeP0U0TCP/CTZGHxKofp8TPEB6OQAlTR46iI3e75DJf8ZuxVI2coXBZHhLvV1bh2Enk3YmvYnqxrnNlWXaZLpq3jOnP4/+bTfJVkA2/vBzLfrfoHWOE53O0kCwQBYoV+28PYgdMmrMWTC/nYVXDwaMD1pcYIDugAAAAEsBnl50R/8NFHtltUeAvk4oDSpfCy/d8psEFkXxlh1RX3d0AQiAAEtNHfxhsylSlrUTeLiCYAipB+jbOPiL87kjXKAfY7HlOC3AyoEAAABLAZ5Aakf/DYeK5pjaBHMtxz4APFlc11qjkfVwAWbw+RQXRIl8mZxogGBT3gpFkKOu94NHpRtwAhoFC74PVP2lD/zc+45vPgOinWmpAAABNUGaREmoQWiZTAhf//6MtT2/4/GtXfgA49WaqCP610aQleVIKEY0Y7t7p+7k1iVLKKbT6w8B7gtTrjQooaMFT5HPKjPiyxoJ7PvP13O4yxf1zsQkdUB6He4fLnCvsG1mjLUFsAiV75N/j3f3IvxEeLa/UrCuzChbXI7mUT7V08GynS+lck0DWqKWb+j0A3+O1RUnPCnLYNIGlgOtDq4NDzovRyzCHQOW9XPrFPgXJBdAARyuhyBTuzSnHBHFOYTMEGJZFQcNCfUrI0PIyBj5yLDi8z/xPrjH3R1Bu6vU1OcUvYHhjqeOKo77tqK9vy96ldOxVeW30VFc0F4j47S2gPd8aYjJMCwNPfwTuWOmvM4S1rPvhRMwkhdoeqVqplManVm/O35z8zArKt+d4noeX7sm1W8h3QAAAHxBnmJFESwj/wmNQ9BmCtV8nip8c3ix3/0l4D47a2IAAJzZbYAM3WqIsX3VaS88AmkG8xzr66TmcA9XnUF9jleabegML3S0aNHGlyPxZ0i9PyB04N3Skd+jQNnGVaAEoNiTW2xvzqTG1O/tONOpJl9k1xyauSch9mYivEPAAAAAWAGeg2pH/w199KOWUZWQAtOCXv1L1Pm//Oj1JQYmGLBfI6e4ZpRG9eaLDyrjKL9LvvbSHCB1YC4VRMJYzF/AKtPFrk2M4AXNCITMQI5pWM26urdi/5zJAe0AAAEpQZqHSahBbJlMCF///oy01a966BFd6HXiNTToADYnPAj3PtsjvjqNEL2o9vXXH2+ie3G+sM1dnss3zV0RUoqM28ORHM1S2gmtPsualBn0+3Iz3nAxc/ODHeJwP21PDsZidCv9jIWzmABmPH9euD/pux1ag8lIn67mb0vqmc5uteDI/CyDisr2JO4APQQ8jMvoLsSL3CuA8rSkKwvrqnXozlid9F3A1WCHcDkw+eCzl14n1B/YbCULoLhZHwLX+t2LlJjS+RFQuCuZljEzIz33a0HSbNRVxiNUR3oGMeaoKfcSuEY7L9PkViHm1aPBR6yUf+5nDKMhJ7CvopSBjA06xz6cXnmMPQf9JUMB+J+rYACWeOyZYLkFkqIP3EcD2QEWSyGGvmj4zjuhAAAAcEGepUUVLCP/CbVxtXrUz9Pryqyf7IAA4BIwVKDU/WvnspDSU+7qZ25r6iHosy4uJ+Afx9Xn/SAeSHbFOCx5wqdB8dHBMlh5hmka6L/W3x2Bm9SlFDcqV2GcCo4V7+AGUN/54pcZSZEuJmkYmPnIAYEAAABfAZ7Gakf/Daogl6SbhRHE5yE97qMJmMAJSoNOwEhTU/pKWtcF2OK0d7Ix1ZAA1HqNqzC75ZVHVKDOX8fn3DmmURigG9lTco3jtrXoP6J69XyUAF00EaTIFE6D6dQPB4UAAAFrQZrKSahBbJlMCF///oyzdPcpecxgA4G4rtAUowYr64nohpgNjXgooSXmSVanwYK3ErhAbD6lj4WUWpmRRpiYZjQ9vEiX3JHPhTOxfhFAyEK1ORRxHYOanfsiTaQR1hVUtlMzsFLoLGi2NGHOuowr9sbuAi8KXuP1WHLG0dFvZsfRxum5Jef4Hp10g4iXA9ManAf49qMB6Mx/7kWU11D/a9i/gZDpgw5CcZ73bUDeJrLUV/DQWl60bG3TimkRRHxpZ9uMgSD3D3YTs9gsZ43L04j6gI5uElHikPnWEyDxdsLBmN3XMkn/XQ05CZSfXTzV/hkyvtPaMZ0GlUE7RGPyykke8cRa5iyx7SoatvrrO6zXIpbE/frcs60MuBRNOCbV7T2sgGEwJnMG2TdylNpE7g0Q6jTsybJ69YWIcNakpYvGv7TeQ3G/0EVe+FTQG9Y9VlHBnA4/rIysgMKloFYlD9TO68u53cVBcA2YAAAAa0Ge6EUVLCP/COVGWu4pHRLSwVSYzc9MDOXmn8FGwmI4LRYQXY8Lgas0F5g0gnOBNVggOKghCdHPtQAJyBNWStW2/yCHdH8T2nIv3uU4cZZdr7hsAaqSyYAMzp9qNFgcXr/uDU2cZhpywAu4AAAAaQGfCWpH/wxGvAQ9AC1jcXCccfyxJbz8aWswDCJWCdty9GLW2QYOr3L+PG1qMXOseU9KrQf6yVXiwD8fU4tLTPg7VLKy0FIYNBSZMyy/NO9HtVnA1SxuZAJZ+lNAmzYNHpCZI74OpOnBnwAAAUVBmw1JqEFsmUwIX//+jLPHvZ9hUDj++HJY9JfzyCECpJCvA+nhSnkrb4YvDgc/aKcsojUAJYiPpY5JL6fDl8kPIyHqTMEFaIDLxE2rXXkZjoofwVHhjX6bV1o8mtucUdzpUVt3z4TmR+L/p0USeVZAn6gxO0DBZGfqo5jY+A70yL7OMl6QdE635Xi8gqxqgKV8EgqXCn/Lzdd3w51vIF8KCWwMCPyZMr3ELDaTV1GvCcSAh7xwIw2GybX/wbZhUUjlmIiLcx4+nqzu/q6mYiC6kq35GjgFJSLHjaHx+3BykY36u9Z3e8JcyqnrHUyG0M/BP34oN+GEiBbFVv1tBnaqopzG2R0x8Enh3umgzy+/NkHBZvuvUzpOScWHsQJEnoYqqNVYo9hcUHRhsNTTl1pnjjQCC0g2of2tT1MY9f4+ysnN7RDwAAAAskGfK0UVLCP/CP5eZMYGwAa0g/JFjB3BAckFd3+tzpWZbv6V3isKzz33p3EmZhz/f61PH7XgRVfhRUaTxqy8d4fTnuJODtz+uxVbuBJrc4MMxT0JI3onrSGO2jGVqbuwsLTXlsM4YEWkkldAT1sp3uljTmeeA+wX51n1lOdGU7WeUWFXvk2Kmc02fkcLYvZa09ZzvoCJi1hB/k1clNa6HV1kOldfMhSPvntpE0y+QNQqAfMAAACdAZ9Makf/DMaOaMaY0AEZAeE7fFdX+jpH+tX48ITOywhqbpUlXQEYACS/2FMtc+hLbC7PyxJ78ZI0PmbgCxxOD2OqX4ZZ7QCFoUmi5apXG55MK7G7mIRvbXUT53w4YKUHKIZX754wCh+EeygT8Y/CrEhRL48bc4h8P8rPybEYXwsu1x+7xusuaHvBwfyHnkoCeRI+nVQtPDGUocQUEQAAATVBm09JqEFsmUwUTC///oywBuMy5hlaRxk9h95SciZx3FxNsV5vQE/T1F8RN9sSkC8vcZm6NJE83cmrDaQduer0ig4A/8R47wcJupK0t+fepvscSXaVR+60UE8+fRfEbPJ1qXlSKVnNOZpZudYfsSJwp+ZPgJYnuQGFlT7x61whGbli7fIKTwm5NPnikrfHvDWgN/X+5Q9TuualVFqWFRoRaFmDyiosq/kXVSkNEQCwaRpoYMsyUP05Rx/0QkjjgaCVW3GWErUfDk2+hRWTklNAi19KM8zNFraYhoIpgiGHdrP6wyDiS34/DBhrfHF94m9j8PBhNkOYEAx6D/gR8/mLWfj8edPfHyRlyztx0oTjzoYV6djxsGgvLnTSqVwSo4Gw3clV6QPWQYnZGoYX2wEC11HAz4EAAACbAZ9uakf/CxRrmE2s5QoD3NS1XABbummDz8yLXwaTOU1raNHqPtch1nzcDfaRnNRFjRgPeXXxkouFdqA2IhJX+JYREK9CyENQL8Qv2Zui8wFCLrZ0l5DxFNoBIFbOog37zvv9T5JVVobVfEgE9M6DuRaOW/fd/pmXWTNZ2uDrTkkCsDnMqC9wrc3lFusontbQKMPcMmHLQ9W2gWUAAAE0QZtySeEKUmUwIX/+jLAGUIm4QkQwOPvTeZgBG+JPg1AAljJEmhrpbVjGL4RzS3xtM1dIhTLhaoCVcpN8oYCXM75xnNxm/jnfNJ0fNlkuvAyeOYynAf4xGw+6W188r+xQBkkpz0OXMzpCTKoGvc/mJQAInsSrW53eSymT7whsv1ISf76BZWKWOQS0g6vziUpUvMwO1MmDnSG2Gu3ryvpF9+I/M+remgw/zV9KbqiCeGPJxijbJX/lDSwL40yUIyu1K0PugIoRh6Zi6jXNYv8+Od3HdtQJ/RB19S97MU9FiQAqp2jhlMWJ+mJEwF5OG0qXM+AffGEYgP92Ry243cMnYBUp2shRzkv0oCkoAsaGQDA51Tp4NoE2XvLA780AQpKKm1GVOsAgguiYus2O4q05RqZ0LuAAAADrQZ+QRTRMI/8B5TJsXonpzoNiQASesSU/L/FXh1vnHRynb9JwlB/stLlsvH+SBcmUTwwkyCtUwR3tdzSy/QOcnwaq+lbrMc1gJm+6155VIFU5XX9k0Rz8VSnvyVWUnqbpM2ZThc9hYJo8pBVAXQU610C1r1dArzImioiWClOqlIEg+E9+gH1m61hfPWRRtG7nMz3d6uq8KkJvPks4R/UewcnFCcWjXMonVuRXDDJdTefk09sC9yN91RETCspuMXQTPakWYbLN8I5koXZX30gQ14xuZGkFCh7oDX2BvIPNnutHc2s6S1b9sSIhvwAAAKEBn7FqR/8DDI6FbDy8RSnAk5C4QIGAA+8lFbrgK0MkF8wYA+SVbht8wqY37sBzsLhDC9hGWwB+cEYtBKsxp4MFFWAe2n8AcDuKt0dWj+gYeZs2e2vJBk4moNaHJnXP/6V9gEsNZBhZCBFWXzO8R2AuzeAtAQXt7i2/syililvrzlRaxZqXJ2rqFLkxkj7K8A+O8HEisb5+2hafjt7xGoDugQAAAW1Bm7ZJqEFomUwIV//+OEAXT1OvH5/0/rHGwQe8TgDbyFPfCLYK7vt8beByMa9CkizTbCl9yvDxNo2BGp8qUZCAm6O/mh1/7cw4dtMoGOPXoLbCK+l78YHGOJsavNM2SxcyLykPNOZ7KvCovKKTpnqD/IemUuosCO7tlYEdRbdUJvsoH+EqOlcw2D475NxS+6NFnV0oKo7ve4Xq2V2s5ai511xAYJMDNdcxKVvQtdH/Xu6+3+4une5I20PGhZ4guI7GVgvfKY+7z1YMfF92Huz7C1y6W4ycLLQySep7vpFbE4n3tiKs2SPVdBMpvXs8B86JnDFsJdvF6kVwBgBFmYM0Z1JkyKCVjsM7K2YLS3k24RTFL4wQnx/ZyDWmijP4yvmLtxzuotSdZseNYL27K3aU7lqpv5vxLykMlXErdXXJXd78c9wVN87CVw6dF39GQSd7+PjussvlSNIlD8n7+WVAhuTyl2C8AFg6+1DjPgAAAMxBn9RFESwj/wHbAjBo2HmaRwA2ujptmhASrGoI0bnAC3xijfrXzQrQuvyHsszxku75JjOqKDtQE9S1f+qTMGUYMcF/zP0uRnF1EajnaphIgWth0ZgZ6EQ9tipMhr3ooXeZbwNHxiJB6v050u3oZqnvuvro5rgkuxsZhjVDrw4AVZnB+QjMD57m2xMRTAJe4iGga+eY70VLi9becUJkIYZMcx/U8f2eqQFZERivv5xT9QKSGCJLubFJyfoQrI4j25lz0bO0dklPTvZEQ6YAAACYAZ/zdEf/AvguepjnObsWAC6Ylw3mraLIZgcYqyWEXH48aQsLdIQx/pP/LX/cFF+hrDuqKLgMWVuo2c4o84Va/tTIW2V1GHugOWGwi+Fl2DjUg2H/Eum5iNbb5Tg44kGzqKZLh1rSahvajMAQhaicYRKTZpppjtSx+Sl6J4B5QKpymdnM80AMNGBMSwVP7O4xhl+00/S+CBkAAACEAZ/1akf/ASVylMKjsHh7gc6/av4HscBsIQAfY0dCj0+au+sZryYDMzMBZiFpyDFW4OksBytehqrRHUu0hwNZX2N9SEKu4RlJfq1/f710vvWj0+ZGyI+dNZNgbwW3cQ8B6WLluo1elh3ULa18kDCohEVy8lqAlphZh7TZxNwiKoBa2CVgAAAA70Gb90moQWyZTAhX//44QAh3RNoKJ5K7hZoALoAhTqAV724E44xu5yCRKerVCBhdGuSSX4e+R+sCMlpIYwVL0mb7frpedGpjKjxc3bDidQwwPJcoLdMvyO9/wixrRHc07C/6/ljPvwnhKNr08nwQaD0XXls9vVuShqtnzoEZtAqGHqqNPkiIC3yByBrJts4og2RCWECz6l5oBErT4IRUJp/USDTfgqf9IJWqkzkbrfs/pWGq/1Zx8lxoosvcuivwp67UmAoKxT/M4hHyRvxxKwLFD0FzZXvm/0Hq95hPPU65UMBe57XWLPV8UWoOvS7hAAABGkGaGUnhClJlMFFSwr/+OEADSwdpl/hZ5MNNggAjFvFA8uxNTZQQLTaajTivWPiU5Dubsz1Y7eTuA62QunFVPNny2a2a1jfySYMBFH/2CTr1cg6U72jqgSbiNVtKMoOWxh85nTvrjIm+mHDcCcTV/dzaL2I5s4fq71NvaMf/MfZ4wKOrqQ1sYtdEcONhTdW/M69J40HBHVhoPYoDSADbJlUqvDjA5i6d2b/pqrvh2Me7Y908QC0lSqJsn8iw1VxFoEgJ5EHExQagx4zpXboxCRwi7OqcS6uH6g+6ncRJNHy3i1/hv2j0TuVgdQbq64R9CJLc0CZqSsN2hSlNMgyVFjNz6rKp59gSmCkDKoc2WLyY0uDK22s6xfhywQAAAH8BnjhqR/8AbnUBBhEK3HGbAtm+Px+R0oATHvVw9XpPCb8Ym4m4oJfiSpHmCPrP7kRtYTawZdf0MbcN4eudk72xe5Nkm5hKg20Dfpl3eiS1pL8gsjw6sSo7/F/njYyL/BcI7C5hdz65qqlYAmGo6cN48Y7+z7Vad/3+OoeQADUgAAAA7EGaO0nhDomUwUTCv/44QAM7v/S2fTbGpGS3i8qZ+L5gAWZg8fMEFjofOvNxoloN4+7azL4GsHi1LANrDNYMSgsjiEQmNyTu+SW7zcZWDX0WukTyTodaf2DkCqj77S0RqPKBj5TbgtKPUveH6+d5BHBPrCbnxavwarOixDbeYaCbMrFh06EgaJcwd/YpUUyvBaBuO9yEoCy5cyAOBqlcJKiwlIZMYsyK511S+ehicjbOrcaoQAUFkVPkGzC1nILzoQ3o39wy689JTdNBocOzom9tQKvL8NJ3nQc4yULqJf3DiXpPYU0e1bmQgAj5AAAAfgGeWmpH/wBr/t21GKkl73PVSNM7q8Yc1laD1OZjkfIIfxwG92ERhycpfpuL+PhACcHECBJ3MF40uEVamQfioh+16x8NU7ui7p/I/eoIw3Tdp6DvGSIuEYuJ1fsPc2GMfaKANA1vpOqa95SP28531z71G/XdrsIu3U83iAAvIAAAAOZBml1J4Q8mUwU8K//+OEABRwci7w//b2gMX3AFPPkrR9qPJysYo+pqQ0OcowgJ/oMJDV8AUPYdfHRPJs9O2ZoZ5pdThUAkfeyW4xnv4tUFXpEUqlVa1RPapAZiOaqQRC0fPj6cfkGlx1KLczNeP+ZcQvnKjjwudslPz/WSoe024I3K1cGe82biwIqQgatT9HMUGpp+Mf3FW9YA0g+3HTQTYh9afipHNhbWoJh7GuGrL2whpK7SmXa+LGvA7kWnNpd3C9jLSLpOlxNivi+o//oht1K1pwjUS7SVNidJe8ZCTTxllQARcQAAAHgBnnxqR/8AKyl+KqvdXHtHWioYNy12FCm7LPjME7siaQW4rv989LlDwxN3s1CM3lzC4eA45boAWddknmI2vEHbbWjZQJeLvLar70Q5uFKLEKY6niQG5dKv+zAHF7sXxfuZyMyUREDNiiiwxIlSji4fULy4cAgAyoEAAAD7QZp/SeEPJlMFPCv//jhAATb4Iin1jPsezEKIAFpLwwlvHhQvsfRp963AWmoxXaiO3nTM5bCXes6L8KbHcNjZMdOocc6DjsaizUjIK5DUjRkdptUsxaFT8KgdZovE4QC2R7GiH+br3Rt6zz7+pihjRk2fefe4u2fZhwZY0/HYWMKG3WstdNmQywAVJ7ihJ2tXZg/5RrcstWmufIzxl36dsxB04qdrBcAPZVz4Q2KGObFWwIIqgGija0BNu24HJoxB2HEkOf4UBLtxMbVxKDNW1gzQNIeC9OZKYBjzNivTYQogsJrGg0dU/yOyiQ2S//qBCZy6o2gUPmeAEjAAAABmAZ6eakf/ACjqBMJEB+GRed9idRdgOp8zNGEUGMdh4IHvIKYsXKJFiBKWiZqFo3li6e/72gAtkV98pZjJeXU3wbtyv2rjEI4S8THUnRr4ib9yyCOI38KCd/yeWnXyLkaLST/JEAHrAAAAxUGagEnhDyZTAhX//jhAAHR3/pGjIuV1cuIKPa8NqAEp1AsB12t1fDQOu+2xaNdgYwEBDXofhmAwexO0jrth8Wa37GUMzyGilHM8AHTijX5MWPbUiS8rkqYJRupQ52CVvGDsnBc7l07ll/0n8gSEE/TSQNS1yO3uG0BLUeowLdUwTAp9z8sFgl7EuRt6yRcG4bUJ6SDHzNHpZujvbI46SBDG/eu38mD071ASbRIh0ycdspGsISQoLN//z+AWIUHlKI7VI+HVAAAAnkGaoUnhDyZTAhX//jhAACxPAceb8OYgBbtYJ0sCUH83GLzDMOsDPH+LhSJQYXktNWzXpWYX0tUL0CiMkqAQKn1qcFx1RVmnQ5YUFET18vdR5KQ5WuToJX4biF8KzP2huPy10JswWRE/0VGvkosto0pUXC2EYhwc7EC4VrkmmQ5hx/Z655yu43jEfOPUjy6O9CfcmHWOHrjzv9YtAA1YAAAApEGawknhDyZTAhf//oywAAtwWdS4QQ3/ShkANrG6uuwURBe7FtG+UUVi7XR32vBWKbRKw5Gjp7qv5vmggHlHA1QzTuhIvTteT9Oa7ImnEX4bAENgk2G2LmsQgu9j2GbnHA5UCszz/VnQUC3xDZ8ar5a5dcjpnrH5fbxijKE6/ZNGkxT3fJznembeK5vrIe4hU5jRIGDf/1KE2LtT5EPbG/gloAb1AAABB0Ga5UnhDyZTAhf//oywAAt/uZ7wjf6VE+g3i27+GAPgBw8JoIxISRiSGaiq/Rpak2rVal8qSmyoibuXRnaKZ1EMe3RGYshblo1jByYtU6ud6wn66zOxFqwAPD/jBQzmcdG2QWu0vj5LSUpTnUs+GyQ5jWcOEu+ikxj9Hij6PygtP7yblQhfsomsuDR4lRknRH7TL3STPfiiuYgM+MeRAbEGQPddpp5aXzxLHVj/kBLuVneeNB/theW0MGio4/Kz+p2ESWbLYEg4S9wxMYPl/4oPV7ocZ1nF3vyN96BBytM91/tk0XIDmlJ2DYdY7J5ZS1Ro1nM7Th6PeKTOn8Nm5UcItcixtFFAAAAARUGfA0URPCP/AAOf/Sjtef1qyN46XeyiXHbnZwbhJwAQ8RAbhuIgSpfPN9TlnzCfODCpq9uHjQC8BC2G3omBdvEVH0LBGQAAAGcBnyRqR/8AAiwgwHdbYBkkHMtEWYGV/KjwxA19nlZzrHnbOZM01XTQAe+yacXyEYmdGa4VmcTUhzKy7Mn7mtfKNOxbqgGAzlo/6gJkZKEjKZLN+WDbC0WF7k3XQY7NjYbF03qWjAHBAAABAUGbKEmoQWiZTAhX//44QAAP76kXv/ZojjD7xWdsXxv+nU2D44A/1PTQj1JA3BTvivkX2Nd0dCv1lWN+0/rtfXBRc+MBMuvemdH0CrSc1VbuoFDJIeYfRKnf0ZfuMlWNy2e9j7iMc5Kcj6ocjnJ2YPxW8C4sMYW6wUgkVuaeQt63540440fRF5/f2OGausJ/kYKUty5pu/1t/wd4MQsNFE3bOlyCtR2/FvfzjDtyiTZcgSggSXCWX3MqCcmz7hSCfGqhGYCbQb6daOjTFXrZHCXThny28PrkYkcPu8eAFhSjUe6C0FmgUENDyj+Tnq7+fNkpT5Pn3SH4g5pGyhAOAFlBAAAAs0GfRkURLCP/AAFeeUZZvpvPW+7+zK7QjjHYqHkrZvPZ8pAGi8SCQhxMQ26HkLu7AwKsRMK8p7ulut/1wR9LDGQOTCYA99utdIaXM1OQscRPeRhSD9b6te0ef31wxZJzFfvFWtrqYxVtnbmGBDJfn1pbp+Mb7IxgpJ5z1Bxe4s8T/JUBlvSOa+37y//wi/f3PeQ/6C3yW14sozXiqWxS7KHn6eFt5swTkaT68f4hAwP0jZqRAAAAnAGfZ2pH/wACK/H4w18VrONgFxlknj1QA6Rc7txblvPRpNqY+mE8KzYOTjXxWYaKbdxjZG294C30ErD5FX+n5fbuK3wB1ZWDZxJprR+Edb2gE4UrC1RJce78CFJGtQ4iVC/aEIitw70iHx0RpZU+hXmyFQATMJktBaLTOo+Ufsvh+GyHwrB6PZBTVyKxg0Hk6nObZYqYQ+x2BBgFxAAAANhBm2lJqEFsmUwIV//+OEAADuaq4JnPpAA43nAPQ/rX/NBUFPn4BJOzWRp6cNl1pHY2cXje0gCYkY1GejgchFOZr7fiw2vs9+w5WAFzu/X4XG55L7RY13A2ht3obrECoPeb5fsh2gavXCt9AwWSCfQkAW/aOOBWAVERJJvuy8v8uGDgOPI9jOcvdVRgs8clcpJTm1/9P5cCiF8p6oZUfnDjQ5RM5YTTI9/vapV2YzfT3kJl2gSj4VAIWUMHPOVYmYSTCjAZSL4yYywpe3LM05FrDEaBFLhw6oAAAAC2QZuKSeEKUmUwIX/+jLAAA9Xrd/Sm/gPW/UgoOJEbODmdNVvmMvADfaja1672QnzhmCXxh4bwh8UhfqWxCLptJJ5SVkKNrqRx0MbCp055i/iE2I2R8ZFx9qXxGxFxIgLZzIKf3mTuUhCoXZLzD8LU1JE6uug68a47vt+WOth8Na7xc0Xxgv2jNrok+CJBkOVIBnU1VmpjifGHL3KyUF75ndVYQk6/qjSqpDnv5Y5U4SLaTIb8SsEAAADqQZusSeEOiZTBTRMK//44QAACTfBEU+saMrABwIsW+8ARfLQjQHAr8Bi3dzWYjvxmP4uef9t3durg/GKIjjaTbQQAexSNDduO2jP9Bn8l4iiewjxHieXeg+ELUquU1Yf7sjlPiiyivFimZYvqmzekmVri7VCPaanwhm0dYkQ35SObznlH7UY+d8vc8e8N0CJ+EFoTQh+GniUJHeBte4QyH6EaU1ypPgiV5pwdySM6W1UnyePfnNgr8KGE6XWT7dOnzcMmvR6c4AJ/6WFkuh93UkmjnWAP9DUPTY6TiaC3P6GfsadLCHss9IeAAAAAZQGfy2pH/wAATWVZq5mdngCrsJWvznfZaKY5QsO3L+uSN9vVoremvtighEGOopGk27EQLbmdn1QKAU3fWCmVfuBrVC0jWkMsaoENxAL8IzMZuDwtBMp9raB18k4mPYSMkUL+YFVAAAAAu0Gbz0nhDyZTAhX//jhAAADd+pHu1V290detMU+Itsg14jCCWi4vABaoZ4xtyZquEped/N3TAl0/nmpwL3DEn1EOr8PdVUmiLjSsFNoU6q7wF/XLUyvmqS+dZbL6++8kbPiUlLNcmKvRunJkWZE7zXGNz6ewMrFcEV8/TU9WZZ//h7HHAnZTw5OzYZ0ZMAdxZJatgZxO7NAtrAhqzzPswbMT2Z/iDXYQ8LmXnkUFJUezPQxBC85wXGXJIeEAAACsQZ/tRRE8I/8AABJYO/FVuYHefgAirlvPzy92TrBuKl2COCiY6/3E0EiJiEQUACsYtttNFyQdnifuQNToeUEqVeFuhXVQM686BNa0wIXyN1VrGKAf5YPt00+Q8dgtYO0of0wEigJWdvEpy9R8wz/Hlgj0MxAjNw4/CIOuk0hf4BUMENOIywJet5o6pUMBmTIX/gLx/UXvQTv12BbaPb1MmLUPTfkAZPKZWAXkDQAAAJoBng5qR/8AAEVkgAz1sZrrqRlp8gAcSKO37vp6QEjsVFP3hkjiD93VnE8yEOWBfECuWiTjc/HI4+MLH/U8iaYyLiFmBGtxp6SXAU4ldRwrepqDJagAxdqWMqLkT0m5ZlmZecSysywnFtn0x/mKgdF2qP25E0oDSMmCaJPJCm+dLOcJVMK3m6S+FSxtudHWHjbiPWylAwKCW+LvAAAAs0GaEEmoQWiZTAhX//44QAAAUj2tvnv/QwEcW2o0LGtaFrZb0ANzU45YY+Ru5jSJ52izMQ2LVncH6oSL40cRYOqyNYH6YAktava9dzw7eOTOBs668KDHMMl8DsR3geU3yc2NAjdnrXOBYxwOwpj+KHfrrQhvfSet1Hy0vu1+1oZWCrX1ZBSZZYp7AcWarb0bJAVQxB5le9fQ8zHzJE8uXRUm2lRt/YV9N/LTercR4vJioIGpAAABDUGaM0nhClJlMCEf/eEAAAMAef0cbtFOTxW/42DjvPjmSL/AFcrYfVv/q9jgHl0sLi+6tal9DjNPHs5mErsc81U10cXXss+ZEh1UOLX6yp+j9vYqQA2Ig7virEDFFwDGkb1Yfug5h+V1aJ64hOimxY3xhPD/LLoixWdzoHeM7WsoRPHVyEDXrAtkQX6KRZ5ktCpmlAWPR02oL/1O5ls89BMWOJWZzIydNFqbeHnq54To7kGItnj6noRDP+owQgQUFvcE4pt+RMT0w8eh+gZQGMmrqLTfm9BZmmVZTy5oC7kLaCCkIb5VZauAO0qyKE2ve89RstcLyLBW3XIc1QfJRYQse6nn6GUjNSi0yllAAAAAo0GeUUU0TCP/AAAGh+5zMXlDAHYgRZ8zQADROq2RFI9ycaIKzfaqyKftjCu5kSQYuvefEh3Udp++u5I8lAhvIn17Gmi57UDIA3nmdrFqeV3M3vljx3bkp57rKkhu7InYZpje+mohPP2EEytY9qQl34VFYWIGH/1I2AzYKWEfoB2AWb6BQMbgA3FMFhSpPKUEfbAgL7a5xfU9q1ZDOvxnbkHtZ6UAAADmAZ5yakf/AAAKhmEvfoxDlEQTvN9AHeMzFe18AHCXnEupTnKA+T+bLiQTBzuHJRfpzaFxLkMZZhggQckEh4qeN2CslqHwmEyWy3Wpbgql4hLlUorS1n/VFmprdM0kYwt9O8E0A0+bHfAMkRsaJcbsdgkC6dIxlDS9iglD3e/w9h6S109A7Dq+1L02kkW4uYTRDoVzr3lBIs8ZRj/+f0DrsZsm201O+0PWWpCjqIoNhZMuQFCr3zcr0qnlDZdtL7sfRGKENI9H5lf6xoL5FLdNkT6HnD80UoI9SCKWZ3ZLz7tlnWOAy2gAAAEbQZp0SahBaJlMCP/8hAAAAwGveiWCNAnoniMepQdrhX2r8qsOSDo8V2ySO7AACStk5tCkJfqZT0JOsHaGKPsfT/Z65o7WKZs2E+IGhP2kdRJuNnON2mTIKxxXFvxKfxdOqQMuvW5Az7OZWTaATcjvrOhSRdr+Noek20n0UmHmUNK6kE8vSeIKcCrCMQA/yX6jTMMDhVgehduvtd3D9Vban0xnQE0N+yn0mqMKlU1FmB3mWPocRRYKu33y9AZH50w4xPSAan8l9VmBm0290B1xBZCJ1MImlsfWTpV/Eitnr9PDWG+lg7UOroAeu7GlpMMzjD9Moj0DLQqX4XMZeQdmFn3gRbtoCNolOmaPG+6QPc7uyFjbhY9Uk+DPgAAABqdtb292AAAAbG12aGQAAAAAAAAAAAAAAAAAAAPoAAAGpAABAAABAAAAAAAAAAAAAAAAAQAAAAAAAAAAAAAAAAAAAAEAAAAAAAAAAAAAAAAAAEAAAAAAAAAAAAAAAAAAAAAAAAAAAAAAAAAAAAAAAAACAAAF0XRyYWsAAABcdGtoZAAAAAMAAAAAAAAAAAAAAAEAAAAAAAAGpAAAAAAAAAAAAAAAAAAAAAAAAQAAAAAAAAAAAAAAAAAAAAEAAAAAAAAAAAAAAAAAAEAAAAACWAAAAZAAAAAAACRlZHRzAAAAHGVsc3QAAAAAAAAAAQAABqQAAAIAAAEAAAAABUltZGlhAAAAIG1kaGQAAAAAAAAAAAAAAAAAADIAAABVAFXEAAAAAAAtaGRscgAAAAAAAAAAdmlkZQAAAAAAAAAAAAAAAFZpZGVvSGFuZGxlcgAAAAT0bWluZgAAABR2bWhkAAAAAQAAAAAAAAAAAAAAJGRpbmYAAAAcZHJlZgAAAAAAAAABAAAADHVybCAAAAABAAAEtHN0YmwAAACYc3RzZAAAAAAAAAABAAAAiGF2YzEAAAAAAAAAAQAAAAAAAAAAAAAAAAAAAAACWAGQAEgAAABIAAAAAAAAAAEAAAAAAAAAAAAAAAAAAAAAAAAAAAAAAAAAAAAAAAAAAAAY//8AAAAyYXZjQwFkAB//4QAZZ2QAH6zZQJgz5eEAAAMAAQAAAwBkDxgxlgEABmjr48siwAAAABhzdHRzAAAAAAAAAAEAAABVAAABAAAAABRzdHNzAAAAAAAAAAEAAAABAAACUGN0dHMAAAAAAAAASAAAAAEAAAIAAAAAAQAABQAAAAABAAACAAAAAAEAAAAAAAAAAQAAAQAAAAABAAAFAAAAAAEAAAIAAAAAAQAAAAAAAAABAAABAAAAAAEAAAUAAAAAAQAAAgAAAAABAAAAAAAAAAEAAAEAAAAAAQAABQAAAAABAAACAAAAAAEAAAAAAAAAAQAAAQAAAAABAAAFAAAAAAEAAAIAAAAAAQAAAAAAAAABAAABAAAAAAEAAAUAAAAAAQAAAgAAAAABAAAAAAAAAAEAAAEAAAAAAQAABAAAAAACAAABAAAAAAEAAAMAAAAAAQAAAQAAAAABAAAFAAAAAAEAAAIAAAAAAQAAAAAAAAABAAABAAAAAAEAAAQAAAAAAgAAAQAAAAABAAAEAAAAAAIAAAEAAAAAAQAABAAAAAACAAABAAAAAAEAAAQAAAAAAgAAAQAAAAABAAADAAAAAAEAAAEAAAAAAQAABAAAAAACAAABAAAAAAEAAAUAAAAAAQAAAgAAAAABAAAAAAAAAAEAAAEAAAAAAQAAAgAAAAABAAADAAAAAAEAAAEAAAAAAQAAAwAAAAABAAABAAAAAAEAAAMAAAAAAQAAAQAAAAABAAADAAAAAAEAAAEAAAAAAwAAAgAAAAABAAAEAAAAAAIAAAEAAAAAAQAABAAAAAACAAABAAAAAAIAAAIAAAAAAQAAAwAAAAABAAABAAAAAAEAAAQAAAAAAgAAAQAAAAABAAACAAAAAAEAAAQAAAAAAgAAAQAAAAABAAACAAAAABxzdHNjAAAAAAAAAAEAAAABAAAAVQAAAAEAAAFoc3RzegAAAAAAAAAAAAAAVQAADDoAAAFIAAAAagAAAFUAAAA5AAAAgwAAAD0AAAArAAAANAAAAFkAAAA+AAAALAAAACcAAABMAAAAPQAAADAAAAAsAAAAaQAAAEkAAAArAAAANQAAAGgAAABIAAAAOgAAADcAAACVAAAASQAAAD4AAAC1AAAAQgAAAO0AAAB8AAAATwAAAE8AAAE5AAAAgAAAAFwAAAEtAAAAdAAAAGMAAAFvAAAAbwAAAG0AAAFJAAAAtgAAAKEAAAE5AAAAnwAAATgAAADvAAAApQAAAXEAAADQAAAAnAAAAIgAAADzAAABHgAAAIMAAADwAAAAggAAAOoAAAB8AAAA/wAAAGoAAADJAAAAogAAAKgAAAELAAAASQAAAGsAAAEFAAAAtwAAAKAAAADcAAAAugAAAO4AAABpAAAAvwAAALAAAACeAAAAtwAAAREAAACnAAAA6gAAAR8AAAAUc3RjbwAAAAAAAAABAAAAMAAAAGJ1ZHRhAAAAWm1ldGEAAAAAAAAAIWhkbHIAAAAAAAAAAG1kaXJhcHBsAAAAAAAAAAAAAAAALWlsc3QAAAAlqXRvbwAAAB1kYXRhAAAAAQAAAABMYXZmNTcuODMuMTAw\" type=\"video/mp4\" />\n",
              "             </video>"
            ]
          },
          "metadata": {}
        }
      ]
    },
    {
      "cell_type": "markdown",
      "source": [
        "#### train the model and visualize"
      ],
      "metadata": {
        "id": "zKB-D-Cy4e7B"
      }
    },
    {
      "cell_type": "code",
      "execution_count": 74,
      "metadata": {
        "execution": {},
        "colab": {
          "base_uri": "https://localhost:8080/"
        },
        "outputId": "0b8ecc39-e844-48c4-b4df-95ab7d0c7cc2",
        "id": "FV4kq74Ozq9q"
      },
      "outputs": [
        {
          "output_type": "stream",
          "name": "stdout",
          "text": [
            "Eval num_timesteps=10000, episode_reward=-1221.28 +/- 620.24\n",
            "Episode length: 154.40 +/- 74.40\n",
            "New best mean reward!\n",
            "Eval num_timesteps=20000, episode_reward=-586.57 +/- 78.78\n",
            "Episode length: 101.00 +/- 14.76\n",
            "New best mean reward!\n",
            "Eval num_timesteps=30000, episode_reward=-133.41 +/- 9.57\n",
            "Episode length: 78.00 +/- 5.40\n",
            "New best mean reward!\n",
            "Eval num_timesteps=40000, episode_reward=-57.90 +/- 42.49\n",
            "Episode length: 500.00 +/- 0.00\n",
            "New best mean reward!\n",
            "Eval num_timesteps=50000, episode_reward=-21.39 +/- 19.99\n",
            "Episode length: 500.00 +/- 0.00\n",
            "New best mean reward!\n",
            "Eval num_timesteps=60000, episode_reward=39.76 +/- 23.17\n",
            "Episode length: 500.00 +/- 0.00\n",
            "New best mean reward!\n",
            "Eval num_timesteps=70000, episode_reward=35.00 +/- 13.67\n",
            "Episode length: 500.00 +/- 0.00\n",
            "Eval num_timesteps=80000, episode_reward=-23.20 +/- 26.83\n",
            "Episode length: 179.20 +/- 51.00\n",
            "Eval num_timesteps=90000, episode_reward=41.91 +/- 12.08\n",
            "Episode length: 500.00 +/- 0.00\n",
            "New best mean reward!\n",
            "Eval num_timesteps=100000, episode_reward=62.32 +/- 11.39\n",
            "Episode length: 500.00 +/- 0.00\n",
            "New best mean reward!\n"
          ]
        },
        {
          "output_type": "execute_result",
          "data": {
            "text/plain": [
              "<stable_baselines3.dqn.dqn.DQN at 0x7fec3d255890>"
            ]
          },
          "metadata": {},
          "execution_count": 74
        }
      ],
      "source": [
        "model.learn(total_timesteps=100000, log_interval=10, callback=callback, eval_log_path=log_dir)\n",
        "# The performance of the training will be printed every 10 episodes. Change it to 1, if you wish to\n",
        "# view the performance at every training episode.\n",
        "# how to read monitor.csv: ep_info = {\"r\": round(ep_rew, 6), \"l\": ep_len, \"t\": round(time.time() - self.t_start, 6)}"
      ]
    },
    {
      "cell_type": "code",
      "execution_count": 78,
      "metadata": {
        "execution": {},
        "outputId": "19048c4d-1098-479f-c943-a9ad1fbe32ec",
        "colab": {
          "base_uri": "https://localhost:8080/",
          "height": 421
        },
        "id": "_B6I243kzq9q"
      },
      "outputs": [
        {
          "output_type": "display_data",
          "data": {
            "text/plain": [
              "<IPython.core.display.HTML object>"
            ],
            "text/html": [
              "<video alt=\"test\" autoplay\n",
              "                loop controls style=\"height: 400px;\">\n",
              "                <source src=\"data:video/mp4;base64,AAAAIGZ0eXBpc29tAAACAGlzb21pc28yYXZjMW1wNDEAAAAIZnJlZQABP7ttZGF0AAACrgYF//+q3EXpvebZSLeWLNgg2SPu73gyNjQgLSBjb3JlIDE1MiByMjg1NCBlOWE1OTAzIC0gSC4yNjQvTVBFRy00IEFWQyBjb2RlYyAtIENvcHlsZWZ0IDIwMDMtMjAxNyAtIGh0dHA6Ly93d3cudmlkZW9sYW4ub3JnL3gyNjQuaHRtbCAtIG9wdGlvbnM6IGNhYmFjPTEgcmVmPTMgZGVibG9jaz0xOjA6MCBhbmFseXNlPTB4MzoweDExMyBtZT1oZXggc3VibWU9NyBwc3k9MSBwc3lfcmQ9MS4wMDowLjAwIG1peGVkX3JlZj0xIG1lX3JhbmdlPTE2IGNocm9tYV9tZT0xIHRyZWxsaXM9MSA4eDhkY3Q9MSBjcW09MCBkZWFkem9uZT0yMSwxMSBmYXN0X3Bza2lwPTEgY2hyb21hX3FwX29mZnNldD0tMiB0aHJlYWRzPTYgbG9va2FoZWFkX3RocmVhZHM9MSBzbGljZWRfdGhyZWFkcz0wIG5yPTAgZGVjaW1hdGU9MSBpbnRlcmxhY2VkPTAgYmx1cmF5X2NvbXBhdD0wIGNvbnN0cmFpbmVkX2ludHJhPTAgYmZyYW1lcz0zIGJfcHlyYW1pZD0yIGJfYWRhcHQ9MSBiX2JpYXM9MCBkaXJlY3Q9MSB3ZWlnaHRiPTEgb3Blbl9nb3A9MCB3ZWlnaHRwPTIga2V5aW50PTI1MCBrZXlpbnRfbWluPTI1IHNjZW5lY3V0PTQwIGludHJhX3JlZnJlc2g9MCByY19sb29rYWhlYWQ9NDAgcmM9Y3JmIG1idHJlZT0xIGNyZj0yMy4wIHFjb21wPTAuNjAgcXBtaW49MCBxcG1heD02OSBxcHN0ZXA9NCBpcF9yYXRpbz0xLjQwIGFxPTE6MS4wMACAAAAJoGWIhAAz//727L4FNhTIUJcRLMXaSnA+KqSAgHc02r/D4b3pwAts2jorkqKtM9FWPzSrJk/qXdavBQt7aXuh9c1rsMovT/LGwcFb1DYLt7TesV7+8jphSlolRe5ePD6+kZcDYGJXUV9YuUKa73Vceu7ewF7k5FhKIEFn3hYhZBzOu3oieJUXqphiC/spauDSJxToyogNQOa8g0V++/N2MXJyy0JldZVbZGfd2KNIeFRJ0hjc/6tOvH8VWVJFQJ95z685VLkoFr/+joWIO61T8Jht2+ZsO4WNUE0lGqeoZXezPnNYe1b2UOAKAAADAAADAAx6f91l1+z3AKTE0ymY+wyOM/kYe74miclxjCaof0zlBP6lLMZebfmrZQfs7hrTZ0hJf8frKZBAAAbQHGW8xIg84Pkm0lh0hmew/cYyE76Kxplbe6oMXxSCt6LGE591Pe5mlxdTPyshAkpF/VrVEfCxlAmHtojQvnrxgWzXu3XABcjwJ74c71O+hVNrTJlGz0w3pAeum4qxxSWd51scmCCEvQr6Z7szVu6csLrVD+p0DH5D3YLk7BA/E5yr11HCTkAe2Rl9PID3+EbDAL55OX1zxAi4/gv++bOV3VICX5gbcK2Pev71MxUZ3Z8vdLSKPk7T0j0VVanuLBwM2Ab88Ojmqm3LnygXyMszQwfFP4GqAMOyLLNAZPVLCmzwzJe5Em8l+ZsStWiMTYEGuOn214jgFvW2xSNhPvh01IXDuGZjOCHRd9nHNK0v7OnixkHFUzJ8egz2YinHLSTAfdHUBQBi81acNKX9jawMe0Dx3exdCxtKPhTS9GBC+cAxiVV2vbGMdPN5xLd/BSABmL8cECV7K3Errat2Q4MyLuiEdSAwf4HGdL5PeTfVh1q7QhqxHNC2Q9sQKHyxRawK2JIOQA+Bi6p2BFAGmnaANjPmPgHIpCEPWGGEzjviXiPqvOv/3f6swz0zfk1jOGDUNep59RDgIpVjRBiuQDykdHlLdRQsGNSEbwWsBalkKJ33hJ1/NFz0uk6t4T0sxzJerkbsOhUL7+4B+6AERTAqDLNw9qe7DYjyJR8bWANaffBRFDS2MuaTzU6w4/hwPwCakxC/MZ7C+7YAL4v9GVaNRicgsWYyRnAAA+l2hbJhmKWDauqxSUq2FJfQ3dUIFup6CPjKxG315hWfZ9H+RlyAZ4I/qbqLrQP1PIPXpPZri66HPrE3CvdZ0AgdGV5q7ZvhhTrwaitQWFd0VbhU9UaJGND9KPOduZnnxsa/qQJ2jkWSmHKCnkwUZnB59HnApJxa0lwYsOlPG7baE7iMxAENJwAm8GXu9Shd0Dcm+eYyIuFpm88MV1A1q980WKtfRcrO7ip9h72Xx8+mZYdTXJ86lh/bGYXT2N1OYsLjlj4qOZM2qcAfnnsdiSJD4SlaAHRdEumtO/HmEo2b0EzJ0wM7waVgj5mMculgQLZr/RZzjv8Dn3ku5qrJ2nYmJku5fEQHXyrV3s49sAB6ciC2w3K5T3db6X7wU7TVdPOgMxmo2R0NtR4AmlJzYXVOx+ZnQ2fAIauKcTUGHVYhVy1/e9Z6df3SYmDWwJxQFYBO9ldl/EaZFTD40Gf4Gj5qZNOH68Xx+CeCdJ6F5COTXeiZ16CaM7jHXB6TivjX1MOT5DKTqKn42A0V/o99z0ZuoRHoB5iIvbIBDLuIcGXRW/bWKdAjuJDqdM5mMvyb6zxE6PTDW/NuC+IkLaJdtrFnHT/VrogAJAoecGuvrTQYdSqeuDkk1B8qPBnyGrYzwqHM3MgWc0/i+tpJH6pVmeEhAiuImodAOt21nHJw8TeW2M2pGbTp/zg61MZYTk8hIUrD13QuF7nb0wfWDJyddcelMRoA4WZoJVjHAAAV9lBH6Z+pIX8NBaUDtaU8k2SyyFQ4ZuLkghSGv3Wr3Ul8/Ff/A+7XzsWdn4GyGJIC6PBgGwRfHXYVZRx+Nvf1H/wkp79501Z6GCJdrvDwF9VnzS8B89Ylnet4km6rR4+A6tbTk0tkRstvH7XL9gKit2AlWB//Eg6izTSIw7OlxPcJzSpB3l5m/2NO1fXdBoMqABDrcKbIGBQ2N2REhl7co29mg85iZIZnr8Vs3DIjFUlk1tMIRtoetecHToUDi7rv7UQ31Xtb94YXH2uY88k/xf2agRcomdL+L4i5B/DzxbmdjEiJbV3UK4N0AZheq5tYo4yD4EHiQ/Ly8J8OJRDDyTz5FtSm0WUN0ypHWAdgPRDzg9ZfFfoHYqDW8DiPVJXYIphCWOQ7dVq0DxZ00nshM5I2lTIyibD5f/cNq5tgRFomInnBNtnNp0pDd2n7TqU7NMFs6GG3jA5ASsjdrdHMgiCYa5dlb9M51AsGYvrTwCo16BPKnmd6aQoipZILe8yIiDj3iT8otQwwbk8nGTETtBM68emKUqLYwfsog3meYWgeil26Plxc+ni2rq20ep+0OLB1fUEtQetf1QZ9PH6rXh4A4VVIXa1DvFGPv9WdpPwq0dk3bu+LaNIOscE0pxLVd9rb2XPFrIVirRkgciED1cGtzaPg2MCDWNBZIHSg9+NFdWbO6VIY0cEnDlOvZz/S6co3LwzhTon+BjcRQBEbvzYcJj8MQh0U8kIq9rGROhu4JOiwrM982unvDy03t/J/waofpLCctOf7//9oRUjnbzuc/x85SQPYxj2EvtKYtsKyfYS0JNW2Gqne4zmP9Dz2OJicsmYEPiL5FQwqRtv01qM5S9iTBVJlpa8yneDjLe9SlJTWZ5RYXqV/4LuNHrLzC/3RhOiyy2/4IgvQyeptCH1jB1n1JEoutBWm8/ssAR9iE+uGIO/yrfbpDJWe4LZezJXqCc/s6V4I8yZqHT35cK81VwkpvVDnzXl9CPyBXI/5WfgEOZLiuNshUrihLS+kzjmxarS/tn89ZkYz6nAi0w+6Tx5K79V6bD14X4rYfVmK8arAn//+epETuJMxRRgionx/mF/XnVMYyzArCM4iNV822KRQVJehPGE2PegMZMCKVf7sMM+iPYU9WyW/N/NdvD/PvWpe0M00ImbW9DoZfrXOjej3987cMpNk0B4cwdmB6LZLwkGB7px2hALciwtfqVwAVx63tB9TESlwEJqUMW8MNaa/t48hbzRWTPyE2KJPV3qO6u6IXDxxmMnmwnUtJjRzUdHKretb/2iAhtiIDxi8oqfJcvFQW3o31EQIfMQVAZ/LV+jr/kuFiW3emTdcMSL2GWgfhRUsvrZ3ETknITByAajgPNW81Liu4rteCDHYXbDYAABPVoAAAAMAAwMAAAIcQZokbEM//p4p9rLDwBsdYAIq63gGCByp153XoQjJutW8+Ou+t+ZeiuUqqRAErtIXjD5wtSVlAoOhjLSq9hMaL29OUOxgqg9khHMTNOw6/Wg/pfYjr3mI2TFiZhYepsUfMylbS7bRKhxMQfoOrmhZn+HWKLL9yKJmIN9VfSgLFMruLA/7AAADAZ3QPp+hWXCG4oc3PJs4GQKP3D3OAGG2mnZbvCkKOIAXne4/lbX/TNYCB8m5LUK4t77talZ1TX749MuHKniaGbXz7VGqoxhzzPXbrTOxcD58ZDKe3CDZ13ad68G5XDdz8PEDZAKh9i9NptNgaTcPiiK3U7czqqpHLk/x4sh87ucRdHwUGXmAtaMJruwbNQungw9ogyjNCBwMwX+y2IpF8GpQs601aRZFT6pB0r5aDXSrVGtwCzqLDmQ4suY+XnF661FJG6VlLJXV0AABY//20kT0YAkH333QfzSea14i+cB8E7EyCrP4+tjLpA9OYbXuMLRys1cs64xBezDiF0Q84rFCy0MA4/dGhoW3dWn3xDoKeKz3AoQwVKC5AbngL1NtvuBJZ1OevPIcj1pQlU//jUs0xfvPyfnlpnc7wCtFVUlTru+UO7kMAvVMLoA6SC8IbnqQBVGOVXKG/7TvwMD5yPpS1hWpYIJStfRVarvk1Dp5m4oCVArl+sPdkBtTY0j+wEw9DUOYi7nY0gALZN/5KK+64c18AAAAxUGeQniEfw8y789seprcIYALnfaEQKIVnDAEJoC0SoWcTxQNDTIVUIv2+JLm8CCy0KGykeYPsdPQK8Y3qnxfNVDhR74Nxzae/237uQkr7NxdbNXoYa34hPaw8+jBFDgZH+Q2o0PCZRdRLO9+C45xYjhywjC8gNZSKIATKpeIgwWMJWAWxu3QigUdfQxjsq/i3JaCv+1U8+TmokL9Mu8FvwcnHA4zmk4TyKxhSxMkDUo/uQnC/jziH2y0AtaWgX0YF0HCAHzBAAAAdwGeYXRH/xTq+ui1ApsExaxoxQAk9Uc1a89RjyQuivI4/9x1qyQJHH8aiCET66iKfPTxBeFK9dtEoP1oQlv0maMS4AACC6tkW+EHMUta2fejUYhHimzylKeZTUefGcuQYAp4GOkQFEEUXVeojxIh8aJ1ivFVAFJAAAAAigGeY2pH/xTKO2o/TIhRE2lzkEh8WXsyyVk+UcwAEj7fZf2ea4Ali4uL7m3BKev44iGvmgLOwTYRY8JEyZZNZQsYFmjsGOISPU5MXVYOWYJ0PTbS658DDDo0XWMySbIWMHWYl5eSXhYGZ2OQYnGlHo0xFq1ALsdOY1uAmDTCEQuMLbtLa4TVha4CDwAAAWFBmmhJqEFomUwIZ//+nlFt7kAFscz0KXrHWZFrffI12fSE9ANLXs9oLTN3pNgMj52vKMCSG1d/ORSxJFrwWLKs3Z1BHTUbCgek6MfW6LEfQ0vMxUjO8NW49RAmg5LabKgQF2vX+wHY1nTuJLkafx8RwuWOi/Sp4FsHw8sLxzagt4PO5FAAAAMAF274N2Pv/D4yuq5PqVXRey2zrzdwir3TuRYQd6GUvnHNbmcbH0S79Hnl5I/uver+K6bzVez8zYIfXu1oy6PqLf2uSXCoYIg/JZlRzhB0VgNjPm6LJPM3ZuMAr3/o7RtJpK8U73pbCHS1knGjxHQ0M98pQxa2Hnt7/mtjmIrLWU/965khzfgTDyCTerK/OryW3sgpiekEDqjZSrPwVu5tTGwB/cJ8SRpOs1xYsyShy9AjgAygz3lq5eGgc5ZlvERrNn6GHUYGWogxt6IUt1OWa0Ef1zak1qmXgQAAALpBnoZFESwj/xOia0/NZoEdKABOh8lYBQ+5HVu9OnE63/cGHLimv19fGOd+q2LpezT1sMV1+a9nwit7ymIa7bYj3z/jxTOUHtUAxfDKhinwCczyMP+VHJhKmAed5mucmKpk5HjZfbwbTlKD/8Ps25MJZ1+H98+sIiYioM4Yujx8GqOu8laBMy23PA2VxxRM4ERK3kHgXmwkG6AJKHXet8ZCMyizMmuhiStJJDr9cjDJs9b07nj4bo+twS8AAAB6AZ6ldEf/FRbmdI+S/dTH5QOWT29IXPra3YJjtUieAXasJBzhwoIANGAC3cDbVm0awXUbLaIWB/7Bi+HFxzoMDNiG7c3reQxdV5wNxyM98mxu3cm1zd2tY0ZADJ/aP6g7fQ9WiFx/h3DPEvwiqKo/0DKiqQRpzZL4soEAAACwAZ6nakf/GaSCmgn4ABqT518vUvZn2MaAEoxN31r9gdyG+b3KDx9MEPxKWDMQIhh9JIOasN06x5mdWByzCayg5aPSe0dYxQZF63dPf8WJGgcnifRQ9TkVuBEMPPaD8iMxHKX1AhYTF5lECH2rmlRI5ClLeAlIKhNt5i0J9IOtI1nj+y2qG90TUjXBYwexUbauqXJoAuzgC3IWlG1g10E2OZ3S762Mv+Ur0ee6a0xgC7gAAAEkQZqsSahBbJlMCGf//p5SEJmOLGH32CAA3zCcazWjGcSuZD9xXC6sQqaUcF4JCJlggAAAAwAD3mc8yjEgbLsMSV7r4KyTLpJApLEKG9hJIvOwPJAL6WNo7IAy+WHWo8z3bVMuzwl6wK6+sWNkUNR4n+YJc4AcUNm8DF+pqvRwIywn2Fa8bakIlhXf81KvGYc6b+PXLlmSDLVafXCTstBqy0bZrB8S9UShGwpOIad6aaMX1TBRzYDP3gt3A798Q8+jZl3bJb5VMSecjP53kN9meylAXwCp66ZW8s8zlxz6mGxyyZgnTgPFNxsFxvA7cTd2h8qV2naXMP6cF6aNHMw6x3i+Mo8qS2i5n46FB3wZDCAFmcU4fNHsGVpQWUCrZ7y2q+zH+AAAAL5BnspFFSwj/xOCD3vTDP7UFutwn9yZCi+ZCojYFXEXSWpIUrQvcpG56SOsJ6oABLT/WIfDzHsicy/ywE8uwXdpGAEiMRGDCFLlKsdkVh0ao6BcffXMLkmBAdhVjfGr1SvPWRrCFJqQKzfUOLcF1iewmpXyP4pzWVuo5EV4Ewh/rz+I9or2xMji14kVrEjTtoUB36CBNg+69wVwK+AP1fZT6aZNt0N/wGDwzpOdIvLzSpB6vXdGAEgZ99HMMSyhAAAArgGe6XRH/xlo15okhhHA97iqM9/ERDvETU/riCuUUC3o/4wSXKP3wzN8CIAWZOV/Ig0ozdh1jVHgyIupUq4qRIhGOmf1xDe7BIfliyT4ova+PeB7IfI3CxuvItidYkZrBE3tzKumPxlqgdeZnfKPTc2luo22t48rfD3tAKT5qQz5nmCEhJVSAcrAmw/FgT7elj5gPvuM/OO9Z66hvSk4eEIJb0yZy/zdGNQ2hvAOOAAAAJIBnutqR/8Ulp7h60ES+Z7x+GOG7tm1gAJvPRqAhodoqkteIxQ5RFeA7c3QA+9g8GvLA0PYaFBHApF94lCXEn34YLq1+R2kspUn+K2cPD44f9ssjBXdXQBmLLRy831rMiEqudbd0N8Kd6xIt3z8qoPjBNb6dtO6Cmn3+x5LWdKQwv8c+svqm0lCNu3PcXG1E+QBFwAAAMZBmvBJqEFsmUwIX//+jM+Rv84dRlef0v9E6AKbRn1zQEJiVALWzVOF/5hVP7iKgGeuJ1+s1/5YAq3w6vpAx1krj3L9FG9ZOTFmCHe4LV5gxJffeL3J5BK9N19NhtpK3aBOQN0tw6AsJPOQjkqMfLSlwFJFnmHVWHWY387LkG17vdL0xckIf2Wp9XMrQva7vrpCpvD+gnh2UXzPOue/CDP729AohHxrjUtdc7yQ1mL3tY2M4tvt4AO5rXtk5DHLfO4N6sHWMgUAAAB9QZ8ORRUsI/8PW/NBEuYS6BpaWa06feULtL1rVVEvAD6C8F/jHQK7wVPdfk9decLGrgEQMOSv+VCYP1qj14PiTh9mFdLMVdf93mg2M9qjFn51YSKRTy7NsQb8gvWwi2PmauD3GYPAAQSScyMTjVVcq3huAgaz5UfBcoDpB80AAAB+AZ8tdEf/FOBl3b8GD/AAby0ceTA0cdxsGbK40E71uKYp40QAVsqSlQ6aFE1esl82Qqs9RmgUcpNGkjM+u4TQqEvWvA7GWaW+DdCVe+Avm48jnep5wrgczfM/BHKYaObyib7EYOyM9Hf+PZf+MGhQADlm1rPS3DCbjyaLX8MrAAAAZQGfL2pH/xT+d8Aakz96MwNQpKrYgJDgbFQTTQktnCBP18NBxjel8ySWDj8dbD6pmEgl+JKVJhjn8OQdejR2Q3jd9YQihbhYqKY8b9c3AckX2fRPDAEVl73IFHAN/qZU/SZQLKaAAAAAzEGbNEmoQWyZTAhf//6MsAkaiKV6/GCDpxidLB2AM+m4ny9xEzOKWdx5p97HsS5H7omnsHX/EnJ5/xr4UUOnzABeer2KP4sCagwMwrfqslKPlPpBO16q/ZdoLD+g3CpcqjSanU7bTfZqtfyNq487mDlHP+hRaOtiDpBZ0Bt9KvZTHRQKJV8Hzx3nprtoeadRS4+a0X7aAyzwnEU25e6Lt3i7ysc7U8yRh924OkQNU5YeT5uNJp8E3TXopHvMBJLwAbbWhfdLwQYvzlVTcAAAAHZBn1JFFSwj/wJY8OZ7YesR/+/7NM4SzUfHFscqjuanV0TOg75puB8gj6e6lFwEYpNHkWbrLgkosQGRF7apyeldAAjqBT5K78diheG68D3cL++piQQ/37ML98bClCEonxRrAAHFua5rE7MYRUODvym7+ryKIIOBAAAAdQGfcXRH/wOuLlWxy7m9ofvxC9tOnm9jL+gcAPfGAAXPq3g5SG7V8NkB1/cUJE2ozHXZtFzduy9sTcflxcp2LG7IXw3+VITmNj+S8OCEkKyRo1HpaSisRPxMGMCntMLzkb+sxwAl+CVOYSeLQ/HI0tBBu6sVsAAAAGIBn3NqR/8Ds8euB9zdKPNpb8eCEACDM80lI70NLpJiNc6r1qNLgmvh+UkZ9gNcN5+pSWa0ZnKkM/gezjGbSLhP+8LycISQlQLVqaKF6oVD9rzwVkNkMrH/UG63JmNbT1ImXAAAAO5Bm3dJqEFsmUwIX//+jLAJGniSP6/fUBsHiCsywyMTmOdepNK7mMOFmGe884p3noGuFYhLFjtoFxXQQYYEWasT6a2uRRx1TkJVKCWLNyT3nutGVDQY1OeVPl07/7TJZGqas6OOFV+Mm8V77WIxA8NW+5DPoJhkpwlHqlDZ1KWJxsPMw3uKMF8JUJNkCv4gIYutM6AC3XcBE9MqeITmNDiwbEX++GAQpOvIznWfO7F65lk/yfo9SYxFRg+eMvBg+IU0lG9LmIZOOWL/JCFMvsjn/X1Fh7hRbVHdtOMhuUtzZAA++LI5pDop99R7cFBxAAAAcUGflUUVLCP/AlxGvVn6lbrhhVtD81L3uF705aHq6EQwyKYoAPneMN0ks2x1voer91e3i43vk3SIyE8g27ZyvDl4JWHwVWCfJNmU4uN74sYXmFwnJVJprVMSKfYwiAobABpSniZUMD5Top/5Tf3elAR8AAAAgQGftmpH/wOmhk3BTAZCQ8tWNngjcdAIZhqi4wAGpM/dX8PWTrp/xetlxQ8C7cRt9zNUrnIw3YEOBB5Bb1tks/zSWIhgqNrwBLPQ7GXQS7jyApk4Jg9tN549pYBpn14rp9Lyw/fZgDgao7nxSa0STauSBho16u8S6CZfkwq+09TxUwAAAMxBm7pJqEFsmUwIX//+jLAJPmXLw3T6E1KOSvoUAFyaqb+kumMhxzPIrQ6LgsGNzWW68eOHr1UkF9CdsiL9GYbUNVKAYLofARvHzOfExoQ14kCBLOWa4ARJfY21+rFgb8Ob7gBrciTCPlmP0ZUQo7IyOrQeMbV/HshN9CqjBtuFCwOvlUdhRBjLcAupUV5gSY1U0ZSW4n6W2BhlrKDsNcKjzSsfRoM4hLcKrRrKKcN6j3nDPVo2RF6Yeo0yfhRAAZPdc4YlDG09IXCAvzEAAACPQZ/YRRUsI/8CWv67c7ahOwssUrbj3OT89OJd7E7rYTnIjOTbnofZQz1qCIA5hsCUs+j3ijLpoSZNJpoSw47/1F0zRBea45hO/qjuywqx4bV53UFYRGmQAIGMEIIgQ6DLzO0wa7G98zmhZvVuh0A5OYezLg3+Bc8JHAumgIBUmftfQmxexVK2tQR1mW9aD0gAAACHAZ/5akf/AXOvYL6lFacv5ANH6X41HHyeGiMZchg0kOlV0v27xwAR7bSBh4RxEw51id0amWfOT3NWQd4OAwPnBj99lFlEqAFQSYqp7XIwm60CpqG2/fqM/Sk0LOzm7diGNXQpne7z3pEvc2eZQECD8WpsN4ogEuG086jib4R4WWIioFgzOKSBAAAA8EGb/UmoQWyZTAhn//6eEALUoZ7z9a/PyAAuEPMW0scSb3M89pTnG9iq6QLn1KQULGwr1eI7JSMBbwuKlayy2OuEznk3q1OeTAbGJwupHg6oP8M7xZq18zc5dB/uwRb+ARBL1Y8QuFSG/khr2/7H/Bud3R3ZdHFAcsCBKSB8PtqKxHhrcSBjZzVmmlSS8ADhSUvLfgu2Nh1OwlMbwGOrheAd6TI+23irKgvdXTRvK7I24rMo1gn+zO9G+TOTt9/DyVnzaYAW7MvwXA0pPj+nTGyjLqPa1Rx7OGYKoi3FBN3Gv8vr/bCDdD9Ewm/On4pNwAAAAI1BnhtFFSwj/wDoanQachpOUc5B+fT8cIO8LARzfc0QB4AFfiaKajkN+kI9jh7IS7GyiLxjSpH4J/S1caj3aL5Wq8t/UBwH95UQu/6VOa/ADlzSI5KcgbxiauolL78Hcgt9vI56PU+YSBqfFNiWrSqXztve7Zrfiv45AV3ZRoeqRISnTA5IxXyneVyugWUAAACLAZ48akf/AXS8lW56Z7xEXl34T9Z+SQeOA/iACU/1fU/xazTw7iKK3ypHOaaAL11JRuX5/b9AepfASSiC8O5aCwgvVJS7vsPTbn7YXUGh4MZ1Ac+vD6iZdNpeKyh2zHqqDRzb9BTXnqWZ9qkcQPJ0aYQx8W7xNsnqDu9AIpuoZltt2HJwYed+X+YsoQAAAO5BmiFJqEFsmUwIZ//+nhAC1+0QjNTlYwAji/l99RGvZf5EHxg3v8gM61ZJDwVfQY/R+qyqxSOyqPXvgvtOgXiUHC7cwsK5kaRNf7Eki6Ugzjo3s7xSYMmb/cj+39xpfUaqjxImZIvhrRwAqJWMMAlHxE3vHajkrKwyFUgcou7w6DzDuP8pLnTd6CQHLjIsa9gZ742gurnvwgg9Y+qfPqM3xc3w4nkvfV6VVllvs9b2fG/w64pMrIyPBu7rTV54FtyCru++sWTACosL7llZSJFSdcWFd6+nrftz15QJF0MPtgA/uwbpV3Hh5pHuDETgAAAA1EGeX0UVLCP/AOhqgQenfEDQgARgMlMFWyIejMxc9ReqJWALwU87CNSqYnUMi1Y4bhwiZvTytzcrLR4n6KDOdr3yv21kmy/yrkcO+47CcJFCmg6nkjw4LdcYprtvstTxzEQat2hmHeUAVb91yZM5DFbUDQFzw5R18eueDME7rzv6SSyrcz0j5/5NR/rWQjhi6rxrz0U0wJ+MXASzFmKGybardZ/17aGH/2o7D4xk+RcNLD3D9jViOaXNqVS4/OVvFXPgbhYdJVf1hAaVe3jeWDQ45CHgAAAAoAGefnRH/wF0AZW7MJWZGQY7OpEyNV6Ca1f+qEICS/AzpgAA/cd6y4M3cX7kiBj+xj7sNlpX78p1VGoU5njG6T/pFxa4ngMW6oxInEqKqom9EkzgT6RPxd+kbD9rLmFQScYV3RwtWkG333/+o2i5v2UjvrN0oXvk3NTGJjrwFarHOHt5WJPNqlmKMnsJhZq4CR4LC9ycF1DbZP4J8alCg4EAAACHAZ5gakf/AXCEatgYHQ6/Mt2hqleTfB7vZsNhUrcSBMAFqKzYznogEdkCy+9Vxz0awv4SlmBMgZCvghLt7s7C7nU8CAYYYjvA9Buqp+bAzYIrjJq2MkG0ij4PQl32646UtRP+8mjuymPOwdWpmFuYmKrWTHRGyZBCwYmmdqVMcR9755QG8ihgAAABDEGaZUmoQWyZTAhn//6eEAEVD0+BhkAHE/sttffzQ9Ms0I1qYLBOOgKmd/ul5s/sV0jxVszPsU+QIzad7YbGruqXcmzeH9Q6LBmyCkJ9dBZ7KG5JyOo6ugiIPiSC1QG5w6PtHwOpOHgZ3CJA2CQbZNw3s/JZsLVELQTujs43+iEP6CxaaY726WPBbG45RlYKBP4al29a9i72nCk53sped+Xyv4iqsTFVO+zpb3WzSn5tsPrFbt/cp8SoY3Kmoaz6pOXh3KO47kDDl9b1hyPgaeYaiua/SIhInVMreDIFPjT9xlIhh15SJ2XUfCiWCfeb4c4FeZ0x9U3tZ7u3vRgmA3fOkd6PiZgVtAI/rS8AAADAQZ6DRRUsI/8AXC6GYogxIQAtwbS4dlFGxSnMCl5MGPgTTmjglmNAdhJg+9jZbWyNMjHPsofKiEjnG3TFRmncfaAA6oJ4MFk5ugE2pLbA2nhGtxIS85JOsxoxkBhR+tiOBN9wicT7SznsaIk5TuULJk7VEkmK4A+1ZPm1WYeGB71L5Vv7CnCGHubr5NaZaX63gJB6cJBssL5Ke25yJxXe7E2GamYurcYQFW/BEAgOfGdH05O+Z36l3Hlm/UzO3Qm4AAAAogGeonRH/wCTDAWUoMC4AW8XO8IBxBT3Ds3j/OVTluJlLm/C2RkIIAXzvztkm7jB3/SbVChaptM3k4ZiaM+Y/tXebOBakHerSWyn4RsVwfC+JiQqKhceFDX8LNLsSUM8oYCVTrPrtOvEDo5REFR26CpmdfWdgZgoPoI40Akngd/82kv5n3JwK6cyZ32vnjHpswbVCTNYa2EwajPfO+bHFCoRdwAAAJcBnqRqR/8AlVNtxrBssAOL8z+BP/D4GwhF9OLjsQIyCNK6hgXTUbT2mpJmK7TAsbKsTAdZfp13cZz3EpR6GY6xMLRir9mXAfVEDUOL1is9eErCxryhE1aCjbP+kxXaaAAJwHr70KtxxB63L8uq/kHXFWBF9qvpRLXWo6WEK4+AE9LaS+z8HZAYZAICgHQk7wIzX5lTejuhAAAA6EGaqUmoQWyZTAhn//6eEAEVD095QWb+CpkQbXHmpjufA2fK9WTNE8tee1p/XUCt6bAT1rS5ctxW8JYrAXJkx22QeLE/wK6CfLgruIVG4ZIObV/eFR4SoUIKdvJbjOFk7i5qvSgjnVS+yV/tP8dEnUef5qnQ0coxWpoPihwJP9ECS6HXLttgzyas/iQEThoxjdwILeG5muwpb89jjNoe7yqQgABlgcqxphGGY8H+t5TPKDNJf/JFBkm4b/rexd2pZsurTKNQMEqykngHk0t0Y1B8h67Hk4rmgT7hWgW+96/JJl/urg/rS8EAAACGQZ7HRRUsI/8AWwDd10JdSAnNIlUrZ0mZ8CvNltvFmph7llB7JFcv13/C/eb3zGlH25I2yAEtVRX6WZGnVn2dPSMfUfp8GyTA+QAjV9YtWJfvUV8YhhThgDcVtkHMSXjgSycHERMa4hnx5rv0szIS0dhP3AWs3NpAuHLBCVyj3AQul/Ag9YEAAACEAZ7mdEf/AI6n/g33Crpz4vLB3DQlmeptB0EpiOvCQkKiE1qHPYBYGISCIqxn3DsgACEX6G0CPtwev8cKphq96+JsjPynnrNv5zmIZpQy/h+H1qvpn649LkNmCXYyBAqd3IjRpHLNxAWhs42kF4JpK5sW0rLggDcGlvAv0R1sxMZ7mmUMAAAAegGe6GpH/wCOuKLSkaSPaMOYnxoWWTHgUSJ/fJ7vNVay8xKRlGP+ZMcc70rapTQ+BXawDNpZ05CUa3qlj+JzjGnx8NuW9oQRvuWbQciLhD0tKSJI+B/XiqPM+Z+O7Q/hRXWePXa4GboOnEBktFL7wi3uCEHnGa04Vkh4AAABE0Ga7UmoQWyZTAhn//6eEAEW6b0eiZyhSJ0NYz33xWKHmGj6ABAe/4tznJvHyXg+/CukuBAoc2hQC+HWBuMQh+zghSFfEYv4+/N8GOmg+uwI5IbbqRATpFsFVe0mcBoUU+BdrUd7DzykH9tDfbTWMfeQ4Lzd4Rnh3Hi6dOskr23vgpWa7Qpd85CXWASrkiyoLtsi8c74v+ooQ9VsNKn8cd9X0hxanU2D0JXYEcq7Gp3aESiF7O4ncbDtE0Dv7vSeEOIE4ICQpxXvawe9nxi0AstYm4GHa6irYVYuMP/+sLvHmQMFIh0ArdcOnFPMXZvEFKISo02HHASzelyn8PLUAeGtW9W9DAN3cDjj1J0O7GmNEqmBAAAAh0GfC0UVLCP/AFrUrNKvzR486dpXTWV2EkJE3AQLyS0ALFtksow8Fxx1MCUMdaLp9I8M3lW24WWQgQKfc0rR6SzZtWkHSAsGdnU72PC+K57kZMzJFzXGxpZh2M64ip29mICZz7ZUGkxL3MicR2t04VyKllbXgmo5qvlsB6SbHZ6A2pfCQ3Qg4AAAAIgBnyp0R/8Ajq/hZ0ljWVZ6aR2UisH/Ok+GLeeCZiEvA3jVbSlY8YKhUYfj4AbmWCmGDqn+Ihe05UW84BdLoM8hNUoa4dLn6NnhDmLFSf9NGbYcpQ/VHrj16ZZoo6nNRh6o9nFN7E7mlnlXrameJPt75O55QIdVLnoF5FDfqsaCyeoxcMpSdMoYAAAAiwGfLGpH/wA2EEvLiLhItRfqbR6Mam8l/8iAEmEm+XGj3EordcUJL7pzR52lGYlq0twjNpWD884tscoKnnP3oB2JwJCPg2n2jgSO5K6BL7mY24F6RY+2wamt/rJbE3Wm6v1GGb8WO44rc1ffPSnd4YaH3TLzHTry0tO7BdPQN+EusW/r7qF1juFnD5kAAAD4QZsxSahBbJlMCGf//p4QAGmbrVNCQ/P+YyMiQvpOY7j7rtdK3cAF5fT92/iIR8F9qD9AcJRW6ponp5PEulYXyQOdiXZw+/kyHzOXajU/E6g5lp1/d9umqmW4SgVyafD5AmBmiAl6hkq5ayaE7rBAXr0pJ1ANM7bvdoFzhKCTV3ZvzYFgK3aFkDOAyf2AM4iGPBNS2YiCrNZ4rK8Tv0sfc5MwmLgz3LtKchOoJSWunjoMfHFWuvgOjBWSB/UHEdYJ4MXHzd8oO6/x8Tjx5LQI/Rzac43G5ydxjAWwpJ0AfmzncqGy5Aih+7NNQ/xhQzVt7tfeO2Aqm4EAAACeQZ9PRRUsI/8AIZNoNGJRjM3b7LE74lXxIfNIIPG4iQuSZUKJqdP+6g40E66ipCT42KpjHehQAsiHTXpUOwbsnh7sSLl/1AyJQIZAKwlu/2wl0XY/7kBuKa49OQ+g/DqVNDQs/IM+RnFP6n6GfKfUxkpzlEG0i/HT4AUwYElQY6coKE3f8UQ58piEs6IRBlsnCl8lGKqoouXI8hxABX0AAACKAZ9udEf/ADXnEv6oOiyk1fJ6dU9mpmfIyzQAtu9iflROUHFGqedWKXipQZNbJ+KrzJ9gJEL5e88EXe1456h6hzfOqA5cINlyUDR9d3vZudFl5lgu+d+9NjOWThbkeYRgTh3rO7SHXoOwc5J2An0n6yZ+W9BcrwPAF5sPym40Q/7ykqFc8OyUpQoOAAAAmwGfcGpH/wA2EJ/bJgBMhQYPUXkUJZ9WXLGezlfVtXOapnm4KZ13QPuFYDv4eyvfyOKqA9yabIsqJiC1qWZJw0Uh0JuBPuqLsqzdJf4Ixli3XbP+COjfSZQPdz4DL592qM4T8AYsbRIW+YznmpdxPu1IE82B7GFgFz05uKrlj+aQ1VqD9QUhBBIrmhd/1s81tUe78aKdSxaCnGUMAAAA2kGbdUmoQWyZTAhn//6eEABpm6uFHLPUiqpUnYJRmnLHVIAGwAdH+41u9DJyH7NyxV+HhUpVjW1YXOfXXQG7xPtANQfMdyRGM1wTCp7SHIimeUPo+UZ9G1FiPQTqGUcRlDE6UiI2IV9tTwhuw2SS7jUEJvexEM7eMZpJkOltaUKW7vVKG8Jfnmte/Untt7ct64c8LwK6vxitVfoqutP3vUgGVNPcAjLJnIHmXRlWH7bk6Ca010uF4NoC0y+Jup/zg/vA+HBTEHP8vHsiE5Bde/XdSZgQM/X0v08XAAAAzkGfk0UVLCP/ACGVOxpQzz1NbpAXnJe4nU2fs9SYAI6ve6U6rYOPRdyGgaVXG9CVS9PsLyNK/lyhmDVWyiWNcVQWEVrv/iQ1p1rdMt03QDurkTxnrG5raU49aJk3lVP+TOljtDvdRgJI0SmZjl7fH9fseCUJtvMF69SR5j0+4q2+gGz+5v22OCx7GiOmivSPGer5M88uDJgbVDVVP2TNVqjGCQxO8GV3sitn/2C9EfVb7FwBOMzlCsxpCCoQpxgINbr94xk2xsyYmDBSYFxAAAAApgGfsnRH/wA3N+5pJVCVabx5EV/H6sxeDysRFk5gHmD0EKbhTw0JNPEyQdC7ZFNGlqQ7NUGTMfnWdxd3YKxc8mx9Z8nYkP/qUTJY04oMdW5IPLjSPx6C1lbaUvRiILPT21yV4kuWmhokHwiSTmB1QtrgkLa0AyBJqPnfP+L/Vfvjj09OEf6yDzFOwegPO5hP5+Bq1m3vwJGzJ2mCGJsDfQbAf4UDKGAAAACJAZ+0akf/ADdSPmAMntZH3iNq6futis38chr6dZGGgCJBCVJvh3zsIovrP3pFfuF/aR/EpiwlyiGOqdhQNQEzOBnBoJvBYTPVzYMXj2UkpeHseF3nrcWLFlJEtmv/1+7C/EvTsrNrGCtyQlsA4+0apoD+I2y/eX6po5FXhwRiaVOaEyCX/WZGJuEAAADdQZu5SahBbJlMCGf//p4QAGn4To9EzxjtO1dQVzvoAiXKoULhuyVmdIz2mpqsvNvBexJ0RQij12gPfPP9nRjfpqsKFwdfV4htIotLxoTn+QwDEatTMIj9ZvUj9lGrEVPtH2mDNAVz4GzX0gW99oV9jKpka5LMSNIamlYdLPKTheersTHIq3c6OUAaL09AEV3XtTKfNvWEwmXBiB2EZVc0rknSjAhFeEt61JuOV6b15FbltFuO/LwGQF9DvB3tD44vgE1L5fK4DNi+wLSY9v8JE4TLfwa1A57gNVAAxE4AAADdQZ/XRRUsI/8AJNNIwBExZtOPQ/lYfz0BedVTNXyTQugR/HsL2EXeAyGIaOtCKLCYcMN5FeuRF7sfaw5AN7OoqYg0Shd8wfBIJyfjaVCyVIzd/yztLgbXg6KcU5rCyO8xPKpkn9Ra2h/GNnUt9BnDbilshlmS1sQa/7SgYIHSuBoF82yzUT7s1kwj6/evSqiPv2HGdy0MZ3wbdxXlyGzDpzsMYveXyfIrUr034XHsgpHBW01Sfjiem3p7tB2Fb6z9MP3giM6EzN7G6WBls2kW7mIU2nYgUqTX1y0gEfEAAADAAZ/2dEf/ADoV9asAQjtQYUwzpMfzZGl+j7RBmMdslpFEE3EVEd60t8oViX+BSLgUBy27TaYYFJf4b8VG7nCm0DhjJXeNadb2xljyU7bjjgHa+ZCogkUTjrY3MHzucB8HWTmq7PYDr1DWfoQCkP9yD3jZ8eupxtJtsn0kcHXRzag9KaCUqvBUyuWhzIN5EstwN0uazWtuhg+StwIrjFXUAjvvyF7ltmuLwsm2/81NV15CtyIGN8gf9i7lVqkn4ibhAAAApAGf+GpH/wA7kKeAFh67TY+8JCPoNDJvHL5AOanCYVIpPBTy4V/Et4RFTzWEvryBokKzGWK1NXnUT0GY1ruL+fUOwg6Wq0egWU32QzN83E2EdVKkQjoJtxQXcmoSklpDW2lKG9YH6xY0G7rBU1C+M5mwVfu7uvSz47jr9Ad1yPSRr+dyFstRMsu5gQKZmtt63oXUQAtVxFXvyWpRhYEgiAsOYYYsAAAA/EGb/UmoQWyZTAhn//6eEAAo1gqh5cADjWsVGbrDYwBW8fEEQ2dNjhbc+qAJskL69OdXWmEfXnjnMtZzsIJc9gYjSdbr0yz5hbc1TOyfdPdpOh9dKfQikxclwPUl2YS57s2sqz6p2wtk8TUDKIYxHYnfexNiLvvxeA3AfyS7owJG2YpEQpiLhknv6skuDtxe6SzVgC5NWXT7XAdBfWhFORbosQeRCKjXjH9eJn3xGgXIQ4altDbgaDWAAQgERCLePjub2CLuF6sgicqlh5jpoOKg5LOlkC9QD0vk2Lmis+DdvQwMgmwlCIptiD8UQwFslR5yd8ii9NR9nNKFBwAAALlBnhtFFSwj/wAdYFvnX6GTMdrgucHsNIdXn+T5qLc0vu1TivWsBIkhlWaJv1OjoRsIyAKn2Zin8rSb1DN0Uxb36nZi6JpxwCVUFdZbrAP2wVR57lg5S6A6Fk368SmyQnJGvvGVKFVZ58F03r6AguU0gaAeBrFDd74rE02wq9EmMMZx52VYp6+TjNK/Sw6M1QV5yO3li4MMn8Y3Iit/cMJa/Ie+xQ1GKwnoXoXfoqaTWbf3z6l7yE/CTgAAAGIBnjp0R/8AL7haIVp5rga2ZyHC96OxdLeKEFs3XYRyyJQPvE0pU2KsAFhgK3yNLyJn/CMgRUIK9ia/+EyTNrHkLsoCi/19bfYmbBJqOrTEe24A00eQz1pHZgPIlUS5m4ibgQAAAJoBnjxqR/8AL9KBFxK/zhpbSLsu4fsAYhGcNVTZCdgxImAAJh6Hp4PQz8UHdWK6waEMqteSKumIWSAxc8JPPs/FBZzgIuUTkNa5Qdqyx7kgxmJp/0OLOq/8h59SkGZhXfcHoc54wZq0D/IjSeN65VDesptw/mDY6u5e+RSJAt8CAySG/zyqzLSX4hFKDDpHlKxuZJZOWKTnFJuBAAAA50GaIUmoQWyZTAhf//6MsAApNKkYzIwAftB8dOozIsCkuKUArlK237eAnuiuggr2JYoO1b6L92idk/x6oHL2P1Ba/DUNDcD3dngoW6ZxxuFDxLucMob2v8on+xfKoGARDKAfTovZa9tN/nWaCsyxunlIBwSzYl1wthLC0kxzU0lvHFD2nbulpVHeBa31poQEBDF2X4cRJDWcpfvwQrSgXa13XpXEOTbLfTJTYNsqBOyfv+Ybk9tM7l1Adcm1YAgDafnC6Xh+61uwKS5GWLugDmk4XnqqQafIf4taDbHDm+KsRsjlSCeLgAAAAIRBnl9FFSwj/wAdvci5MY7LRNl0SjlhO4m73XRm8QktGAEf+SZ4B9iF/MNfo/LIuKpY3sV3oZoy8hcvsRInm6fippIHkxRMLIAzLwQZMgwZDZ3iGXPvzYiAv6+lXmEti85pA9Xa7SobD9k8TT3a7xlk/F2QxTAYKcADpa2r6lbYWo7AXsAAAABsAZ5+dEf/AC+4WhVInq5alwC25jwAEtRuQsOzSfHT4FL6IzlAck5watzKINMEg5sQDRNHi81FkF+mZ/iY0lxHYfzjSzrqvzJFUckJL8GHFj1PTVZmcvrGUBf9TwDG7kxkJW4MyJsFYav3DQkPAAAAeAGeYGpH/wAv0oEq6OQhqw7DhRzo8pF4e47Olm1Tg7V9UxUMYgnU9wAJwkYyM5l/fzfPZTAoAW9P0R4u7IM6jRQFSsjCAPOGurtowzfHu737fE1+gIw8t2td16El/MaPTuJZ0pmkeXWo7p8uhxiivHXLH2nNpkUKDgAAAR5BmmVJqEFsmUwIX//+jLAAKT5qznt3AHJMUJBIj9OLIjJ+Szut8p74Cg93A2n8lTjCtiLHQOkBqM2NG9Z5vkQW8hvsVAoPUwszXf3ZMwi7CHO9+XxWpAeXW2CYk3ovNhark4OjU1OBAeNg+nSpMaf0+WqmJSHuIyrSCA8RT/YSPLmpVVYsNqmGjizWAQdnqyQgmruz3Ckre3XfRYostjon7bg01lirZpNOJAEVuFWsTi//c1Ju/rRLZvw7twy2sBz4AFxjuyWs6TWWscRzfa5BnD4FMNpmtCvm3koOTNiAW9qgGLD44hRYNEt7AFxTqjySnRyV0I37kl4IvK/b9qKGEEgpuPTJBTCW9dbVcVPJURQakbGblPolPWYgTIYPAAAAnkGeg0UVLCP/AB29yLl/gWi8zr1EFizKNzItYub/4A5T6LSHilE3/KHb9ra1G2tenCY2Z32GAy7ag6iPImLpct4ofsnFdA0ZqDZMQd8o1qMVi0nP10dSSOtah8dJyKk/bty6l8nx5ZkP1iWDyjl2vAWU7mBS12B1BwaVWTWA605/vkc7T/BJmF60AmY/NUk5Vb0H/HKvrwoNgXwxO8QcAAAAgAGeonRH/wAvuFozHHbH/tg5q2qrGfvsmtgAnAI2x3Y0zmK62Z65HXOa1EtqzT2N/NXsHkbQQkRaVKbyJruOeZyT90dyJhAZzgcw7X4lnyye8I644UiEb8uq6dXH8OCRYEvAIKSiK280YmBd01mXJMoOEXciCbhMHugtkhVh0yhhAAAAbQGepGpH/wAv0oEou80G7qOPA1scERmc+IJLqmdZzsP4sCeqPdval3tYjJpKhjfx6On3tTjS2e/xGIAbrs3868XgupPpG5cU0H5/vvuPc4Cm7oLqrEMgAxtOacMkXbCDWl7PrIl5eE6p5HzBQcEAAAD+QZqoSahBbJlMCF///oywACl/4CANVl7P8EStbgT06FF+jC+a3MA1sItUqdT422pyss3VRTVyDPgQP2UoJaNw9Lnez9aQwl2dE/54V8KzBlNixcalu96Uk9eQakNBYqW5VXRfVyLLjSPlc6BhUcusAFq1pJZCkDgRsb8OkuJd9rrmm9vP9LGh00BxCB8GSEJjpB9zIsD61ZjCFNsSRfe17KEMbRmfg8YTJ/1Y+HU22dOaZrXHA8kkFo18hlATEAQmr2Vi99TAvS/281VE4dLDzYRRIkl7Hx5bh+zmTTpWZq0YbTNxAqMW0CJ6B1Na8czrf69uyc8yT8Sl1IOGDFkAAACcQZ7GRRUsI/8AHb3IskLL/bzK2bRVe/dG/Y9nFfHL8gdYFXcisCcHDxqKsQDGeatACP3ZZRGyoE9veUD6YDxNlUcxph6ld6hqXfy1HPV48LWXMrNP3pOaABAa7Ncyk6wbMvNXcoVUVYa6vilDwpP23dr8pAEqwoMmlrF69BRKJZ+GY5DkalPENYrcjkeqRQQrLPk8R7rmvja+ABBxAAAAcAGe52pH/wAv0oEiLoPCWLv9EHQwvuLdEC6inebi0339xi0s+NFQli0l9MN/ewAEse2UqOGxQ1AY8RotTdE5RtL/1ZLH6NjBhFTMGMf+4l1uSPN1VVfkzHH74+2kuooCTWNVuVHLWrdCm3Y+1Adg3oAAAAD7QZrrSahBbJlMCGf//p4QAA8mE9h42zaTH47dDgBukU14JzXcgKdWR0U+bF8akeO1ZyfWs5/J+XGiqgwSY6Wdd+9dPY0f9OEzcEYSUMbqJFVdAira8ltpL2DPyBFqNI4qve4+h58dm6yV2uxAoBgTK6oE2Y6w5fOcG9pQdfQ5TDUoXr5VR80qU05+rbETXVcZGV5TneIFDdb4bNSgbFbJ0wSRQVRnCA3On4bw432F5TjGs9Ma1ggHzGBOXyGimUWTbrdXqT6/KTVaXp99PZ5hANov9RSAjZgQe728D0BywnWo5nCF5qV0BWFLvoiBZd9rlsH8wVxLhdyhQcAAAAC1QZ8JRRUsI/8AHb3ISnVR1BRARQH+V2FKz43gm6woIMAC2xi4Fvl7f71UqcJ0ziIolnOP3w3T+V66Kdkd94TkhfGdb7mzgL5kXVbBDd7pK5gzlXA5rs4Ryoa1QTYnKnaGTSXEwBz8S1BKz2AMUHArzCt8+cewBOCweoUDS9r6C6dJKsuLmfntmZ/YlYew6QtiZYEwwjqE4lOpr5DcHFHFCSy7C+uS3w+ZPsEbjIB4CF99piCBgQAAAJ8BnypqR/8AL9J62Ka6f24juL0iQAheR4Y5jHlDafvL/0ChLFLUqh7hrp7YTv+sEsdyQ+Sim1HOOjcwvT+LrFSDeI3JvzX+aNwnobrztMe28HdTZ9GtaaBU7P8feGi+B5rkPD2tCRvaDkX75m/KPdJcWN8Cdcycs0BezImzlKF+Mg7uMjXZmk76BAa6F2lve2Ax/gM9oSDpB2Wzo3BYGUMAAAECQZsvSahBbJlMCGf//p4QAA+XCc+yGk3YzeYSADi7icwVNVMcJ3zq2b5aMmPlRAYTI46xX61Bd6mDUxn3Rlf7SLjrDQzrvhpIGsl6AhdtJzXbV4eJ3ny5DKd14fXgSsd1XfQ2iMs1aIB9mCXpPH5iiWN27JPURmFu5aQQMTMgabLkf39ok8RvknUdPkfuZlvkhdzKC/uMC/tJyGVeUPAY7rncrsu+8YV8XtUaCO6NisWcN3ZXtXmhKOF4kZiMVJ56kCUA+Dhej4ghLVczwXtNV2Mz7vbdZ68s2hOl6spQrHv5PAONtIDQV9AbL2XgBPfsBvGJhpZLvOQvynI8nZAckBlDAAAAqEGfTUUVLCP/AB29yEp1USeXVO6qOQg5ZykAI4Rrn4u7BRR4OhjJsqRcGRgJmio/GWClSyhQVlKTLoeOqoDWeKSKZdCSwLsSqWu3KNm56ELp4ob8FmX/O+fcKh1IdELlXUxi5EkDlrEB40Gqdtl+imq+exnCq8UmUIT7sRB9llbByDwK2fHTVqJbWacY38vKPMct1vPFNulaI+1Gfrn3YlL7xX19c6UDUwAAAIcBn2x0R/8AL7hS20aeDFgRfSVr7LE06zqL0lWjjQDWpeABw/n8pRji4DynbOusm6LiXplT5UtRjU6UxD7z++8WBcCQq60z9HK693y7bpE1WpjvusCSzsYETjsBMmrfVTiX3EQC6WvCMTSIkEnWYUea1k5ChO+Bg0evOzIC6jIsgoFz8nA4YEEAAAB6AZ9uakf/AC/SeuAtLl/JICy0XGJZmFcr4tLAWucvdkwvkcSwyACdiRiGQlcBI1m9jCK63sSHBaa68gqFxsGXRprvUUkGaBWrKBxqmCBW920AIi+VMUFDn3Sw+6JkUSWnn1d5gSU7tDkAHJZtGsBsfGJGfDbdAYt0GBEAAAERQZtzSahBbJlMCGf//p4QACjerLoKrWQIYMK9mf/pMAHGTVLt/XbgUyZrm9QgLSBTEGOnuMMp8zBZDHs+umfyM87SaemOMfIMrmWBLvRr5ikpl1r8EoakEGsAEqegQYe9A+drPX2IdQfiLgqXSbOkEHYKwSLk2NWp1Iq36yB6lx1/7txSMp8Cp8r6f0h/O7C05d1YyK2kIT/QGMStwyLCNTzPBb9MpCG/oo25DUUbpBE06wi1itTUx4iZtRyfDBYHjtUfhcps7kaq1Z9juUmPWjpDLjl27TUg4YFkFI6DVkGlfFHvYrVtT1jCCHJXciuvYhAVIqMjWLGuLiiqt25vY0tVw0WqbNRywNhdTwpAKFBwAAAAvkGfkUUVLCP/AB29yEp1UbAyEMfImu/JOuG6AQS7Ia26Q17FKx82d5cz5bWXHxJwHAfaUXpMG5+tYXgCnQaruu77RZavvOYjrKAaWMEaAob/W5GaumYTdEltdLMKaxOLwNimKpPhlsgCB9BV6X84onE3iGbqXSYYv2OE2dWb3ypTAKAu7bZD+NkfdkyTP0vtoZEgHPN0rwDZUo0sRoRKJx9FtzWZfgV4I4ja6TT+/zXrXdF2m/EnGT5X0XYoN6AAAACIAZ+wdEf/AC+4Ut2guD+z6mekpCy78nywAS4Mmd9YPIkEomeZKaOmAW++0pbSH2lDBJdYxYXS19CIYtKg9SdlLZvX3gjSlQacJy6LwTnNrGlrW3qWxzyaR6pRA/AXCSUihfHFrfEHOisgZ/7CCiFqhqJzLHrsl8b3fn8kkPoXNhVc1L9GAlofMQAAAHMBn7JqR/8AL9J6zjGuXBmWTV/Z4R4b43AC3BSU1V1KteE33JHr5ucKaIPOaqi/18gCPOFfSugV0+/5qmz/B+Cc2MXk1TYh/Ck/gaU2DHxSX/VxTR6Hr8zoBLl1BnlHyQF+MUcg79J/BANhBFNsxjh+fiJuAAAA7kGbt0moQWyZTAhn//6eEAAPgVbTGgN3KS0AFgOMU71b4PhYBAWoe6chvVV+OyykpVLdKD9miyz1LD7g2jvD/t+FoJsUP662sZdsOCnZ3v+OUwV9VWYPU882HN36F90bo/mAEFGcK8/efQCpvGMRgSY3Eo17PK/BPae7wIfbWXOw8wTUzGins+9sWyLHQYh/JpVC25mSzdLBlMM6MYHfD8dQYn3Tya2xfC0rxRTdXlVJ/b7wc/sh8Ab6n7pRMzPPSLh4R77k4owdt1DLBXoMmBoYOzMwRGgDdlILq27K2TlgtBOdsjFfrL29lnOKTcAAAADDQZ/VRRUsI/8AHb3ISnVRsXWjt/6G5Q4nnktdRZGS8wwAAC5DTK1Agm679P/wmKc/3DXYrl/C/SPe+vyrXykDj5upzhPs20kARJbdcUngKIzy3EbuvPCL0k8OFTFlKQw354hmfN0EQXdE8NsHry0vHVhXaBMSRaJnKVeGr35dUlixIBkniAh+KWA8pCyvIn3eQyCbIsBcbSIFqArz8g+pGbZ410KlC9ua/i+khO/og0XE7xTz5f1KIqjYajzOAQ29AHdBAAAAnAGf9HRH/wAvuFLdoLjXLYAGF+op9o8clPtUABXHq8tuNw4oHqBmWU0rtaGJ/JD00ygLy/kqPNYrrX6Xledr7yLddDExKC9su9n6qUOw95YlSVhp+aY2O3mWAZGJbMp4u4X0mhjo1eRKStFPxB46AAUi23Mug56ruq6LOET2n6wYQJxqe/qCM1mte5Tt4P3N7rLa2kElCS8uucRNwAAAAHgBn/ZqR/8AL9J6vGef8ZurPXHMwAcbtQKY9Lh98pWwqLJN30JkNM9lrqP9X7z0siRzLn+xhxSKKzSefGdNSwEyHetwBfQ7VI4sbkuhrI+uInAXF8UBoGeicXwNjgvXQFzFj+fvQ0AKABJAtYoUnC4Z26w/l5qAVTcAAAD7QZv7SahBbJlMCF///oywAA+vCdEPbx/ur+AIUEYG6uRKhIG8Na/OIreFH78piaWN9tgcmaWoryHElEpvEPvOmgkz+mH8SiHXhBSoU2eQcajnbZjMUPyoUTYnkfuzt8gp+5eBb/epV/wnW2aeuHsQVKe53wUStcGphk+fXkYKxsito5ikYKwY3POuBCjKzeSPIzxmpJNSB7qL2+cygD61oEZjUQafC/eO6xxUWHvWxIe4uUby4hLeRwtNnZNaNVBkdXwmcT5lDZUHTDoP+awwJdwEJb9H/udUpKAosqO+IqAfh18alTGNcFJoMOjPRZt4nCIF3LK/MPAYicEAAACCQZ4ZRRUsI/8AHb3ISnVRvozxZeDiExJT9BpE+USsvSsADRHZt0ZCQKOnTxRl6kYJY4BnH2ZxLx9A/YuXm+YLoPgKzweRFleIyEubVpdwiSadadG4oOex9ps6h/y06PJuxdJpzlFsEkFCBDDQy6uoABs8LkjepVcnnS8gUmJ5qzgLuAAAAFMBnjh0R/8AL7hS3Y3BXqYBKTb+Ka19BAPavS8BSVVAXwhcHkaiAE7WTaWjcyRH3D+t9HWq5UwUj/dQyTWReWTv9S3BBWKxT5tWi4nd4HXnoaMpgQAAAHEBnjpqR/8AL9J64XrVayvC6lL6K7XCpTmAAJkUyLC/7odneP0riAC2MT3zdhzccjVz/DhKVF+MaR90T+EWGV0jaMk7EkmxCct2kgP7yUrLX5wsxcPF0Z3vU7NwE1a21APOd2a1m8R1NH6YdpX+jOolBAAAAOdBmj5JqEFsmUwIZ//+nhAAD5a5+FcUAbgA4f4S4iDaNKU2fLMewkPseR1jhTZjymq6y2CDmyLmdTv/YUfvYUFjq6NqdIq91RvPT6TqSJaRamE2m497+PN3g5F2XqOD67RhTCT2qntJtYcYae8r2yGgVrjr+QiRhmzCC/mi/SLrnddPbztTKc3tg/OTTRt0OAOGU+mfDbgnh/yIg8JJnr7hdTwnzrRBNwBZqhsyDfuute1U4M5Hv4BvNBaT4fI4bEGyHCj5u53WlZ0Y9/VBaF1ZQEIEjLh6WhwvadC7V5MAx7qjWR6Zo48AAACUQZ5cRRUsI/8AHb3ISnVRJ5dgJVVovv9nq5CLgDa5wLmCjNVVlAodmeKCHGAItSSuTzwWKHVeg6cuv2UMSVijX0Z/hg/goS49dBc61hCRr6dGiK64r8lliA/zs3GX2/pHUopweCQU8ntsS/b8g/JYSPTN/WWcUZgb0n4kXscKtKgQAB5cpwhPWp1ovDDyUWXJiEQvYQAAAKMBnn1qR/8AL9J64Xvw8DnsOE1fuoyjuvZ9jsB33/AALisUhA5B9DMcXG6wSAf7g16wX8rvbml3QjYq/nnlsMAbS7ifBlEURsvEMpMMCBb6NvDc2w9/xwWtQT5zEWWiiIc6Bdt8+jQVOciLKpl4BbX60pAjJSpYTTCD8aM6EDgxvcAMcGa360RuvmqVyQRea7auw6TEKtMFkX2hsPXiAusHOmUMAAABJkGaYkmoQWyZTAhn//6eEAAPlwnQNiZPSEowBZmpxbUhUHFAWYc6JpQuQL3FzMcnZWxd2P93eJsP4M5/KbppfDY49K27F08KJp6VwGdaOC1IIh23T6Www/MKlXkj1ti2Ntq3Gjw7ql7/UoemUTuNQbMtX8qNXk7JnNZRk3+anWI065tM0ZPvIxr2hIBVlFmR4/mAxBmgmca7GD4wuY4e4RKHUqPiniPvr+MQb0yX2XkrzSGnFSU8V/cHeqDA5tlfvGJWCQR5n6WXb2jyLMGnu9TZktpYT2jIqvy1lyEA5czwmlBCuod+hIHJBGfvDyiZmMGJZKT6c+KDWsU+BWTvO3uMHawnRicdxRF8/whUNKg195h66TqrWd666fBBmUo/mmyUFBPFwAAAAJ9BnoBFFSwj/wAdvchKdVJyf/4LADQHpMNS8EAqbXI5LYbtet+m31+SfeLRm/I6DsZ0AOaDH20ZszJxaYNUjxjogwyUfGlESSvl6qnh9gUGQzOStms5WXQLDF0m0Rsww2UGfqYD6nT/nXv/LYHQ+f2WVfvWp2LjjV5O+oWyiEE52bRktMn8xAwmda7W/gYmZwwy07KzDfPohFgXwcYwu4EAAACjAZ6/dEf/AC+4UvHI0AAcbtFHzxM0NbdFGsO1W9v3bFifr08qaGwHv/tmp+pplmc/dNhjZnDVdrxVP2dSNtjr4jEjQQ1NJa+Abc51KMzLI87wvoZ5xtN2kBpfiTZevhVphyjrcdq5vga8+wiroIFSrWhxhZFqDrfOjE2uLY4+sKBhBojYa3mlC26gc/bLv5G9aYGVxBiTUc1uevGSlsWSEn8RNwAAAHUBnqFqR/8AL9J68jHhqrEkMFSjeyYktoFqbYIms6QBot2dIAW3ixTHqe0ry4qoqpJWTcYT5v1HexKW7FcCctaSzclbdrU+Ryy8ToX04niNBCRoQK1n+DEsD8XcwdENVo+Tw+BBB92XPmNLrE4ahzoIQmqBlDEAAAD7QZqmSahBbJlMCGf//p4QAA8/CdJOe5Z/LKKwMP/l3ACqVwlgRpbr5t4/F32/XJR+G2nesdsUbetNeCwhlhx30UOdPa9pGGpvmeQfaNaS4R0VuD8CNbRW3Xv8agQJ2F55czdX5A/mMl1eOAEj0yCC4CBsQqEQAt31kLm9WRV9dke9v9rbw9S92IrFMeADDQ8VpvN48VAZP424tp3pu2lTPsXP4fJkIbEhOVcGiNR0Py6N8Qn/ymUeBwNC8+euuxzE4pBrT/F5o5JjtEAkWP6RYv5xWQqa/lUd/AA5Rw/r5KeItW5Sp1W0YX2eci1Lc644o84Dnxtu3QcDKGAAAACYQZ7ERRUsI/8AHb3ISnVQB1LTVtlWe5Vcz555I5I58SwwAWHqF9KHGH7SutcRUlZKClkbT3Xjqqss/NTmnIWqSfRniXOhrnIYrU0ZDaUdhr9yvOoOedRFx/jLM4dCIqEyT5lqCDmHWtGNXphiLNl+QDqHxS8xhcjJSwohm5+uUI/1hzMhC9aC+GTKSp9aeAycL2l6Vy1m8S8AAAB1AZ7jdEf/AC+4Usc7fhnm8voOsOQAQjdbh6A1ynAnCGNDew4p//iP/E06iOlrLMXGWzCCgPYSOoMCzZCXnSbjIUMhkZd3xc4/siJbcz4S6FzE3RN4PGN55XUj/OQJrDiYSbej+9GSBfNOHCZRzmT3lgOTnFJvAAAAbwGe5WpH/wAv0nrPhJ+IqUM1IVyIhdZ4qkPkPY+waAEkpWwP2KEAYpfKAVVQ5dby5lL0zxcheIoV8m/XlfhtGwY8FALrQZpkLCCGbCt/rX+j4OfOH6CqP0gqq2VieX6gPStuijKW5ZMl8jdndveFnQAAARpBmupJqEFsmUwIZ//+nhAADz8J0k6rg77k+3ERkz2mA9sQoACyRxRfg3E6YhtNf3PcdZpAwlsa6rWMj9pVTaiBpNKhXiqH02aT3ePNo8skPyJj4JWo00zNTJMizhtsdSgBbCatzWtQXaIO9NRNMIiIpmzzRuB89lz04QG7YwDK3//eO+fVfJ+iZ4GnqVvtf+02LYjJXTh43buU9ckP2Bxai+9Efuhz7szv08OsfY+YqQt+39LxP5YheqV0m9j25Afa07zEoDqh1XXLNVHfAOF5itVC8NvLEle2NZi7ix7ShqiJnTLsDLUu8HPbvf2FjPXvivEY6cCvS0WCAAoOYna3dnJp91h0m7YCSA/5BTcb7QDrAouTHZvkUMEAAAC/QZ8IRRUsI/8AHb3ISnVQgWJzjqq+XYIxdYjvy/SYRu9b84+PCVsLSeKs0YAW6gDCsyizt3ytV7bApfDjeV50FpbK7PPKpIr8uZYnzw6Gl5c/oN85hJw9u/duGu+7R+FLTZv2ygRqpbs5ktbtMcCew34Oc/xhxPiHRhw+UqD0VNK2L3CurkCHr1laDTzH8cqjob04LqbjcNVuZSCJERCj1YgYyHYnGbycj4WObgRVuTuVxTd5CFmU1ydK8UoeD1gAAACYAZ8ndEf/AC+4Usc7kBmv6otelPWtTtubS4FSqAaTMWf0kAtZehsQFGyAlmduG45WgJmhniOmN2ND7p27WBUGDrEGe65TB2v3vc7UsXAmmXrm36py7T1sf68A8UhEN6+V8OKuU2zDBUugzZFMf/wDmJ52m1pbX4LehRCoZDTlc+rNp3bS3/AfdfCw30V/2MyJ22nF2y+mw+YAAAChAZ8pakf/AC/SeUixqSTRUfMI0AJba9havfb6IMh54rL14HF6i7izYL4RydeXXW/3kK5ITKvZ/dvJFQj5+5fqlLdSfYy6lYPoqf1g0FloZaieylX5u+Pkl2rUcNC5A1ZPyHX72zGPlhOJBWEa8UyPQXrRDDPeXW4tAjCvgde/9FHmgX6HQ/83g411Pz28G5oW1g8paQqjurpO9EtF2xmmUMEAAADpQZsuSahBbJlMCGf//p4QAAXO0h0NpADdeu5csPq6T2BcUt16nQZqU9MhZQTaz3+a1EJfHv5bdL4hddaBt1bZ+MiTtLYVaXJdUrcKuUo0CXA2xUsI3ufHyp8iDFVg/8QoAcZWnybvkykduax5QMoYwSbFr65vfqc9sP7LGl4to4zjOHekGvLj81+ttXO57qH3+ZoLLTzCccvmKpbpis7Cu5AbXKwo/mLJyE7T08cRxDL6Buf5i1GFPtneAqttp8fzBMjrXD/O2X/GjEjrhpdijVFAy2077mOJkNXTxV22Wuhi2aQMExC1peAAAADIQZ9MRRUsI/8AHb3ISnVBrf8iPfTxQsALW3fnoO7evv0pDxw6WDwUVVX3uOCcO6paBdkE2x7IWymT2gBX3VOsYi7kv0Q3CmMVJY3Ciae6O/GjkMmf6NHbjBc6uuhRLK8VyO492Qo8Vl4gGsufzzn+cTWZurYT4i1XUkNuA1LgBEo36ytiZyIICyHM5pcoWipvD8/9mM5lncZRl/dGGmjpVSyG98vcqaDYkZc6x+JKswrEnNypuexVVss0bUtaz4jnvP/frF7qkW0AAACxAZ9rdEf/AC+4UOZoD6IfvKmrkALeLGSjagVyonYLdePl4ucEEIPvEk8alygxYhqpVvXxWiVyqaa80iSdqr3Xdwiv1KBBl8i0o/elZRVfTXavRr1ClgaLMPSxu44N6tM6KaNd5EsDv9KTvXbhAgROWIuHaEfAOI8OLMWvdMwCDVBVSJczoBM0UED3ViTaAAilPF6HLe9uum1jk7dzPU8YpwHy2dWgYljwUff4LGWCoGzBAAAArAGfbWpH/wAv0nsHWHADoCIgl1o6FkY0HUrBxmfJBqhK3gm7W95GsGS0dJ5U0epVeh6Chl0CCVIMbO6Jqn5hvwzc5YOzziAQMKpXJbQ2ZXnwdc8iDS7zQyuW9C9a5xmsgy0WslWkSno9fi0chdLNWPQW4+Ibj/1a0YfUf44ylm4RThhhh7fo7OSYY0JDM5UUNL5BzT9Pku79Syie4fHjrbM6EJO672SLmacsrYEAAAEJQZtySahBbJlMCGf//p4QAAXXffwcA2wEKt2rMLilomQnm56vQCghlEOFDzy6X0Q8kXiRyHjLCxXav0fRXk0/FD5eSPV9tAlWPCdrhYhew5IwwekBQDrYrcOuu+kqPK0SvPvkDlaf0xM+Rgg4pn3UTep2SjarmNED1EyhEuXLwsfwdrjIJsxWcTxNbMu3lYRUsWjfeJsTt1zeaGaXoSXUKPLAXhCBZYV5f7iQ5ihmtNGNrtI8BF1GTgnac7oReFIFqGF91BrXvYSEEaE3GUMeYlJ++z1/scadoKId7+We72LNq8xEXhkQz63GgUl8A2pjE63eG2oE2wpsOAMVFM7c548hUFgwrEoUHQAAAHxBn5BFFSwj/wAdvchKdUGs8xfmtgBXTVTBk6lvACNa+GwmjmXrlYvtPjTGqAWyNy7gFrvOPdPdPKjtrHnUL05DWjZ0KcfMylgJXB/m66VI0trhdH/Kir9c6848niEjjqSubNYs+mFSkF/ETzp61dMb3ArKZ/l7kgk9PC7gAAAAvQGfr3RH/wAvuFDpPu8VG5DABwt4DwRml0pAoPTv/eqb5/0b3mlXB8RS6At5O/f+ssu9nL7l4ONvuiGw5qPNzUbm2x7XpSCX0w+o8R9fYVkF8/fe5oSgGSVjwRyAwdskZM8BAmfJersbxyPA0M0RHRHqFnW3AH4wo8528PYUA52DNKCpjtxWgppn3Hl/oHWQiVmoFbsiP0JC4wUu20yOO/5wVubeZ+f03KStqwLs/lNXXIyXsQKbK1/RQcEl4AAAAKMBn7FqR/8AL9J5Rh3RBJSZcACKqkwPEGPxzA6twnU20eJ2AJttNeFCGW4NRYJdXdrJjC0gvYTr6uuoNpWeQr5vlCsBuOqnDD6YWRnZUS6hNvFv4QClXoCsUd24pLcsjYsBJXgmgib6rU9+QwZqdHO5eKVCIlpR6nlCX1pxXv/445Li9wbMPipNIwidLmBY+3djjXEVusfQ1aOjQsQERdoyoJQxAAAA8kGbtkmoQWyZTAhn//6eEAAGd1z8FXHsAD8XNpd64Z3m7RaR6TzU8Wi20c6P+Nhw0c/IAhD43TGpd5bn7D50zySM88fd4SXatPUY1+gJEbxyoiwoc/F036rFin9GLiDkO0fPczfwBu0FlQsmm8ZjjG/435q+Dly+ixCMOMlIDODL7jayroac2ttqaAAk+3AKCU9XgLEM3+bgATnohxOogaMIF3SZ5HzH2KemDCwMz5+d3HpnPRuF6QGd5GyI041rDcnu+fq46/8XHT87VJGiWZDD8aeImf7a6oSlpDk1Y5jHdj+9zzva5v60tSgippFE5plDAAAA40Gf1EUVLCP/AB29yEp1QhUfkJlONgA4spnaRx0rWM73jfqb3DMpqYP3hyHCuP3bV8tEd73Z2qo8V9s9HKqcfK0bACNUXjbTclbg9B9UxsxtqkthRZnTghhJO/GOVp4DLW+9UJAnAQNrZ6H5Tnk3cYGRxkF+fjw1hqGUspCJ571PbGULAB7UFITYKk7y6RvWJGFR+h66Ibl71+tPz8Pu/00+6zy+LR4xLfcW5WitkDiuqI/rPdvbF9JqMnmfSfP0/NLsYLMI8AluA1jx03E0k153lvKf3izSEM4PA+jv16NPEL2AAAAAsgGf83RH/wAvuFDiFfc5kyvJ7tzXZpbAvjN6Fuzs9bgv+qIAWjPkmT870G7lNk+Dv6QcG30FxMzkkiRBJ3EyKe95/VLx5n/poXeDBlyuE3GhWSAFjJsByJL2VKK+xh3OrZVwrOYJlTegbeovakLugUrlnTLTkOoHtZ2fqu6UROIHuOO4ywIdlrcxauk76fsVARuA9hFB5kgdDAXzGSpdPIjvL5eP+nmQbRuOKOA3nwPjhgUAAADIAZ/1akf/AC/SeVXvPIyagA1O11peUNKKPj/liCz0G4ej5RWYh85v5woXyzCyAKZjqaac2ZdJoXcaB6LSCr9PuOx5Jw3Ov3BeMZIG/zq7Y2A3RXsthegW5isufNul3veIQO7mtNmjaBcRbblv0yNuof3itgClth8nVmHSxjUQ87IR8QImJWPZjIic6E/Ib/nAhg1bUU/3xdrKyQ2PwMALNUKsMxO5+YN8zXZg2O7F3XIkvM7A2xC+mjrVH38h5UX+bAUYyl4AYEAAAAEgQZv6SahBbJlMCGf//p4QAAZ32O500IbVTlX5kvHoADRaPuC7mwwARtf0OUAPIm7yhDu/A1IvFwzt4HQzCtLllQ78nwRpKf6p+ndvw+Z6HL4AXXdqpCutZ8TgILgDS0/bAjilTF7hkAGZBntuYGo2IdveCtV0CbQNkw7X64OblPwcSlEhD7lUtzMKM0ZUr5QwhMC5Kt8PJq9P0aes3iI9KNPmuWOIO//97rAq7ddPd6a9gQG54pZU+rY+zVozR3AncfjsUJO12fNOBXgh+9xxrXqV3c0DVXOZN4xBYF9W1hKoy9GSJIHfcdw/VPL3x551HhXOmvYJrdgjoSqlygNOKERNwx0tiDI9yIH52Jvq44ro+mYckGIAUSqyqkSvZo45AAAA7EGeGEUVLCP/AB29yEp1QhGN0cPHR9uvE/ObDQ+25mPFwS34AiWimTs1twcQ4FqqA01NX7+lZLjMbXFpilrq9m0NnZh4hB4eXyFkjcG8KrIkkG2GzUVpBBOmh+/HY74WjQzH70VwszzjUybX8zHOPnq51XTljFazVgPC448KvGn0xEFYMLX9BR5wCwnqZW540oucM719xXhWx+ZCaCuG+ZvMsWSXtG4O6AoB4IKgxYQp7TiXUWBA31bTb2iGXTmRho2mW3XfMvq54TlH2MGv4WdlytAX8ybf0OCxsQHhCsIeEYjhRiUcsveVdAm5AAAArQGeN3RH/wAvuFD66qcZuGRSgbYHNfAYHOn4AJ38Hr+OIusJaGR332V6H/NjdR/bg1O2bQA/KsDgGXfFkge+qe9A2uklQ/4RL+C3waoZ6qnVFKvNpmCCj7Wu6+5yP/3SDFQ+pkU0PRBmg644Q3B6LzV1BmQ1FHUpi0EKxQycRJRDkb45lfwfARABwX9E6U9uSZnVsz1UUo+2sSflmiaDcVgdSGwdFWXpnFU9fDAgAAAAoQGeOWpH/wAv0nlIsu2g+j/olXJAAC6iWvNNFWDZO2YNRKLaSRUzTqdAQQ7AZ9RS/pn55QQEOxi3yJ5/CRvlV7mrawLqCF79E5RY3O0gnEK3ckJEoKeCUxWidgzj+8v9ugXalefdTUa4xMblIZ3jyBSgFbM5mR+5RF9htmdFGw2lLNtzJqrauGCSR9N4MIPzSZ8dpju/LoDosM9HKqJHP+GBAAAA/kGaPkmoQWyZTAhn//6eEAACSpAvjH7gQcWVS7DAC2Vwh2RT8cEpa/9MhvWsrL0bSU+wfjD8TPehy1PwDXDXcGjICkoMorneMWpFaVVm3uhS0ZmMMMN1LqRHtAvu0Sauvm9ESvhJVXQ7ZZh/Osptmqt6M9WtiwpgvTwVMvCHa6H90opafIaHoFbuQwBlq0BYSVW3g7PjntzSa4rYflxiQ+cMGC5U4chydMroc2m/oAWN/fuOmkhi4mLw0g0miauXyVZOGK/0es528HMAy6Dwm7SWmsQOHy3NMbP/fTT65LmBJmL8i9Xdv7pXkhcUUbJWDeWJ+1sJj5m7aWDHvKKGAAAApkGeXEUVLCP/AB29yEp1QcKW8yiHEkU/oAHAjPLpK7nXlA1zacfV1sHFPwWsQiMD60hnXwwOjLMp64LDptWVPbyo+5CtdeSTRkSqtD+q0QK3lMS+8N9XcA5LPLgoVSJwl1buN0fSoaRsjHcbQah8adljwapZWQD0gsd+7hL5jhSxzt8aZUS6Vzk6R+ILNJsL0MfrdDb481eGqJYdz9Qcsi0m0EwGRC0AAAC8AZ57dEf/AC+4UOZoLex1t/EMjVhgA2kRBJsFzgEN7nDxNssnNLmks9M/wfgpoYFx0HefSF0r1+qlGoefdsEiNB8BYPuPkDh43EJoxK1v6CsABDOh4LrgAoBLX7YY446QtV9Zj7KnnhYZ5slyqAgyELKfUw3A1KWapqyXtlLwMdwy0rZiiaELK+M34Qhci12Ns9IkH6BCeCSCjUzb4Gd+HJ+r0yo/CWnwEtqe0JYMawAM1r46I+75NzekRQUAAADCAZ59akf/AC/SeUXt2i5pSD9ygCtxMBQlJPog8GMTfkKv9vI2nypnJ8sloZra6hfbbfpne28E38CHGySpfQZVRep0S7mZbELtmpdstkPbcIf3Sth6tanDRwuRDLNgqowy8OaHhYybzj4XfxA/j2IglygaW/lVwO/nS0qZj9nCds0xSuZ0RJdF3wUuS1qphkTKqyAXsnJRBSihdwRFAwTe4ARznl6BBCCzRn5E6NhrNTKoNiV0xciPJSOZJpWP10MCLuAAAAEhQZpiSahBbJlMCGf//p4QAAIt03K7yibF4eeJekTMwAtnkscA8MNAV3XxulSv+gPwLfReRWou7RzYMWvPPN8SS04uAcvjpeh6svr/5/n+r2bBJBIfDlKnxeUjGOlgnagodc+b6kHLrXQIgt8BJctTDIX3auZKJy2DgNQ7aYjYjqMMQjKsw2JflABScQSeUatR3t4eTDxSQYM+IG/EUjrka/CMD24RHsV9l4PLlhCvrSAgbzdcPTRwbW5ZAFgN3uW1/8Bs6GzZi1uBKNbH6aWX8CrLub1u2GFYsoX9B0wnw4hVqgactVZSYvAPFBakIvaaFrt0j9ESEYvibJ7oLnHvXArGSpZwgJnX6AvjGr7hZnMUdSbCnbROUIAopTyZGcUm4AAAALRBnoBFFSwj/wAdvchKdT2RcDgBExcfUPMemeNF7mjEgHhrVaWNSh0vxeqlvcgyJ53idJtPnaorMQmQvQ03iyMSK/qidLDOUZQvZwguZrXsQf7YYwDkWsor8LYJcvUOshKWMScwguYjQN3h7BfIo1aLYAEENYqEf8itSkJvAXzy1JNwRWuggtAgYK0sHuBSgu1XgImF6N5JArjO5djvx4XsanRWpxsmdQfrbfwyjJjAU31RQ3sAAADEAZ6/dEf/AC+4UCVu0P6AERtD9AnhP+mYmLYeUhe2fo66MGd/FPEg/47GV5n3Huscy1MxpDJBMLh6sEWUJNytGXBkmV2czmnye7ZV98ieWaHjKK2MUnGlB1GJgkGkkLlZd+pfWrq5N97iASpWaqs4T5xT3a/Nc6j+qzvAvmIkSR0s9QsM+9PxoPhVnmvbRZdFCuscQwVw6H08bwMO/rXXe9TVL/deM3bWYZ2JXQdUaFPVikV4cTa3+9kZFraHrw10UFaXgAAAAMoBnqFqR/8AL9J4r3uPwAEBHgst4pV2xR4sWpQ611j5Vy5ot/d1yOIyQ7D090fKewwMy3KEP1xGNy92QLzRZGdN9bFQlwLSZRNSOSe9BIAcwrFYqFXJz1xPyFiGScmrdBn+R+vBMwxaUarJgjAeWfwbWCB+TKbEnsHQiPvE997LYlbD4x8NbV1Os4Dd2o7zEPMlmSNQ2sjvtjT5m+wkNVrR7clT0kvAU+VCuCYTvAocs5Ic1lXKbutbonlr6bVQ/oPtH22pO/390Qf5AAAA/UGapkmoQWyZTAhn//6eEAAA0/CdAU4irInLeQWHZtVV8+8UjrSBJtKIgADjSr5o499h3aujXv26TW6rpsEYiqIFwpy61U2MX0u6te2dvsHE1DH84YAbLA2nrfCvnKsbtb/PScZteXBDtWxBRjPd88Qh0thepenZ+R0c4+n7DluHACM+zmpc2tIZH84GvnNbzxwlVGWM+rcdxhJS859prP/usAkb4O8aQWDktDdEbMInwDwEdgGHBemA8OLEPEIWUOXB8Nh9bZ8rf6+Iszf6ZyehlZ5C0qhumh+iePHPspbCxBtBLdcWfSYTdBbC1gBXzHDOCalyd2Bq24aAYicAAACmQZ7ERRUsI/8AHb3ISnU76wxa6zHgTAAugEofMQDdUrI8TlZruxPWy4YC8TE/JCe+BdzLlk7KMbBOZLh6H17dZ6ci2z480PgA5zwHv7hEki8sWhtrfHWxyaOky601FEXvLLDHi2cLJ5GOiM3KNZ4FhU4r8hLgrFptYH/yRVCc46qjdc2kZ5o0nnO7ZJz5RutJ5fvYM01OzIr39QSUlmyugdp+sigCpwAAAMIBnuN0R/8AL7hP27z6oP+iduBwAF1F1/OwLad8azYTBWY4v4umtcq8/nVaRJkaGPDqBEo8RefDgvhSyOYAqsKMhKeAs5TOZVR0v0pg19pq/dZd5EIx8BdwRblcMMmfDrPQGRUqP/+ypgZH8x8PDQiTepErTAUPNXJmYYCu7GsXxgtCWQVMDZ/vL/gCHzteaCpjiyDgwsON22axQc0gP/vw2gL/a8aVTlTOFewlz1QGPK2At6odGEkN1lrS2AuAomCD5wAAAJ0BnuVqR/8AL9J4c0zCCICjwAj3N8fpgQcmZBOw0zjckeYEumU+uYXfJ1fPa/sNZdaF8YqGmT2+nSUN4n8GHCu9HHF2ZPYi6XCUB2j4aad5HwXzxCs91SXC2reXRmShOwZkq6UYzSN8CI31Be9x0jouJIdXqSI8qBGOx8Qw5j9NyZIItx+qaMnXGfiAMqKFFrF27Nvu8urjKbrpUIelAAABDEGa6kmoQWyZTAhn//6eEAAAzchVuLt6mmMXaAoYVFPMMcfESueMv4zIAMu9bL/4ustwnj7O2Q/seDlZn5QQZhtq08MKHlqX4fzB+dCc7GtleX7J8pTessWq38x1un5/F5NIlvpg6nHzz91xMF/pDC28n5ESdegnfnIFaEmNHPSY5l1Ka++q+b64wWsyKUAV+0XrcH7+aNf49j7+Zl8pQqPb3PaEensEEcxbxjWpZ1ieu7sf4OKCMQlnCXt2yFd+kv7oDUj8pk7Ul99/72Qm8ThyrZUnW6rhybGbbqQsjqlY1doAZp0Q9Z7o2uXHTNUKFr6GSutRJ9hGTg+OZcIAIFvnabAWCLeNa4wfFzcAAADVQZ8IRRUsI/8AHb3ISnU74aL7QSjfMLHsud4M2cAG1RBNDzta8h3wgd9Ff97h01xx8rIX1VskxOyv/VM1fti49nwNtipkHr8ZTZkNJXnDeljLSbcFXVvhVBKBQbsV85FFxfgi6usqkgZD36Jor7CXAcyQ93wDDlD1euCFbC27jrzVJgcO0MyQsaOD9Q95IphZn60eLxEB3odylpTFAwZA7kon25DAnRFiKeNA8pIpdHLhB2yr9AYmpL5FMglOCjDrDX0tlUHGz2lYoG0x+w2W2JukCCXgAAAAgAGfJ3RH/wAvuE/Y7jGHmUr9OUzHiYXrgBEeZxoNEymgnPSHKjWzhIQnYS61WpEU+tLfyanpxkxDFm24vz68U3BBNiyEuPD1qXfs/A8tiLJuNiQ+uSob+yzutugXP0jQnTOb0wCSvqHcPd5kUdCckbvuw3HsF819Qbh/hiUTNHHAAAAAmQGfKWpH/wAv0nhwyCyDRcly3UKIS8PWMganOPiAC6AstmscW7COeKU/8RxSwTly9UXeg43UTVcfmIpKY2VLUEyB6W9ZH5+/8DVFXo4pNjg3SY4w0UU1qk2lOVI5pWLW8UZsSGT2yRzY0SY+UzeQFyn+npyRH59NLJYH1WCpUv8SEQ+n7f39L+77dOlKuyJCSePzgBF8areFnQAAARJBmy5JqEFsmUwIZ//+nhAAAMTwnST02iW5BqVYAADZ/I8/pK4FedBwfiyQ8oiv9xBC69gdLHIThuU7XhxTA/8OfFZbcrg+rwB0moVizHsPrdW+FyJ7tgMfpJMDoMrRp+RJpW/3JfBXLI0E+b8+H0ho5Ylg1DHjDuPJjwBNdvXbw+GaO3oTH0mdLZqbYMFECo1gBCkQYl3pUboI69MFky/8q30sZOJ1i2cdWyxWRAt4MfiTz36G2er7gAJZW9IMRH48EliPWwnIUWtL6FTPc1q82hTaLyOfcKA6iyyHMdf/XtYrnPMnjElCsbNdg67QVPudralICnwIVooFtgv4RxW6NZd6DKngYYQ4FTbCI6w9VU3AAAAAvkGfTEUVLCP/AB29yEp1O1YQPokhFq8IASRqw+HLXmQaK6F5eJDg0KW/tOjxcQ0WKAGJd9TbVSnKlfROzmgft66h5M0ztY7FPoZbYhRK7f2Zf/Pc4JsB6lI8n65zBJJKiy+UHECWAxHXTCgrESLANA13r1lI3CcxoW/m/CJweYwRoSXlW+ZyDDeDfXFUFxCmVYDal12fUmYc3ZZbr0uGT2UhtYFs3FCFRWKih04lZDT93AEU5RMOMFqvmEqcC7gAAACaAZ9rdEf/AC+4T9l+O0RyVUAEpNRxGCYLoS+rYhzDzBFWSSUVcclJtD6UnsVzufhqAgKHNFjwjSV5tSJJ3+sxFhJCzxug7NrwF1JW7RS8NfEJcag4dTcOS2os6U4+uh3UhAQeRIVaPUOkDqAE4+NGeGAAI/r4YCRafMIEytSTu34814VpX6ltNqUZUWAQW18GcinbkyfNEa8LOQAAAJ8Bn21qR/8AL9J4cKxtFWJ/eQewt7BZwAA5f7KV3z2M1GJ4ynjTzB/7fXwGkkWZhrroRvelxKruNkQ8GAZnjDN6Q+zBGDbOEZkxGay/FFMlad9BK9xCiMhFMUvmfZYSbt6BawXIgnv/SuIgd2Lke2ySMzZ2llvRY5Tlfa1Yj3z3fnpMr2boI0IQoXNXbn4TeAFlYdcv2t3F4guFIlwMoYEAAAEPQZtySahBbJlMCGf//p4QAABPcYvQAjrNcseHij4KOqh84E2XBdY7XwGr+3mMhLyFVXg4D58Iwp/9jV8f4MPSWvA0H2g9uyq0+PC8rsnNGoL3/YFhytwkETKK4Pv+UwL8f+xBVPexpqsrpR9k9XNnnVtAIqHNh+lFKVXI0qvgInJ0+TsBV0pBnfPWHGq4WInjpsiO/POUQ/p92zALEpfYxG+Dfnx4wVulo72g8ifQRrOkGYyMQ6EjcCAlvZbd94oPWQBskO1oY40WfOoae0YxsrP2Bc2DrQLJbgEqmSjCsHY4ARGVGQUtWkhHZE/TWgSpwNAFDJaqfJq1GDpo4aNTj1Me77SHUwnMlBSpSdMoYQAAAMVBn5BFFSwj/wAdvchKdTtXjp2vqzYsgCKIMtcuMPJxngKMMaFIhZ3Z2j8ZZnUzB1MfyC+z56nrCYAzyRr4bt8sRsSUOvnDxp4rPg+02LiTyET8Gbc9izlsdHuOCbTgwKbTq8H/Q2hFxd7vhUGQfSBHfr9CF9Afx9HWhLtm+lXcE1oAp8JaVv0mnhAe3bNFqdZjH3ZAwXrvh0bjmsTr38Wi1i9cE6lMIFNjmX935fy19QBcEk8ymWOssTBVXoMIY+7DHmECDgAAAKgBn690R/8AL7hPv6phCpRmnTAV9nwAto14mJKo/lpvTsS8gElrYbIuxTSsmNg82f0jPWzXkscvy46utp4M/7/ZuEfQjHlNKLwGzHYDtPGgo7KWmUg9XDgnmuZA9ITUZB2kQI7AVoEc6BuHR2kB7zRk0Veyv6BysjOaAcKA2JOxa0DQyIaXyJv5c1jpe11bb9y6wPaAUnTd2G52sCEFN4m61TuVIVnXizgAAACPAZ+xakf/AC/SeFzkGYCAkxffxLwOUnKHxIARkXp/3qaDgY4inUn0kB1yc3b9XcDn3NHfrQmVw0C+WZiQsayufAV5sGnBfDN2EeTCHiQZQuZsOoIt0e4zDc1rx3kQN5m2mcUDo6SloD8VMiXOpMkJ5NAz6+hfywdE8gs7HHanYc98Ywluvv2b6MaB1M8CqbkAAAEQQZu2SahBbJlMCGf//p4QAABSN95WPcp5JgA5t4Q/O2V+HzUWmIFhV1dm8oDxhdmSGP9v5xAJVBLy+7ldJOUiQZB29tcvtz0Z8ZlG1CHEuz834JBphjlVytQiBq1mdTrp0Y6HlPLnlqhXf1SmCqB5fLdDndaSsJxRSQQp0JH4xCVKIRtS2ExvnUtwWaz46XZlwQCt9pCJ8eT43RiMKqREcM3s6HbXL41ZyljUOoxW1KuwDtfd4gnU9XusP7VCTb9Rb0MIhQVE2IQw8Emx78Zy0Hi3rXqDXl2Zvrq+FJ9s5t/obRr037lEfVwhYADPxerk3ZkALOA+onY74h/oF8gMv7fs7Vd/VPAId65UwUshg4AAAACSQZ/URRUsI/8AHb3ISnU7WrL3aieRaDYATQBShsr/8XADqgBiS5KM10dbDn/oUq9bpCaPSCPgxgKQN/lGr1ECUoxVlxjGUoFq/UaS838OE//5D/gWZfPQIUuxbnNXeL+WD9PRwx+sWORHUKOzDUANk3u3Vt0aljmdRNigoRURYDAP7Tl4xYhU3KuWIkpsWhAnBNwAAACsAZ/zdEf/AC+4T8AhZJUqbekTwAA20L+lpH2xWEHUGwB0pSO/fHEpN4pARuGs2erCAFeBLY8NzCfT1hefk0fF3Pibi0ga3fnBmy7AUdNhXB6HHfPcnWu0n9T/XdRbjRbYmu+Uc78i+t8yzDWZ834G0CB+tyHLQYLMhu+WAwzXKjjFYf1fnQwMjgY6V6IX+Qm9bWY4wL8gWRAKEWpkgGT0P+RDogPOcDywZfBcQQAAAK4Bn/VqR/8AL9J4XTfeeEjMdz0/AANsNVYgxEijaK2RnSGqB/9zUvgkvpGEoOsp0bjpm2LJEVK2/bOXppezHtg2UgyHJT+tHR4ze97PALVD5wgdGgM1qmBktwQwq0O37HKYNI9DS1wDahgL2+Db0VMOVt3AZLsqjLQCXqB5euXFFl27BstDZ/K1rQFDcTG2uY7HWOB7/YufZIoVcGcMy1nW3E1cA372NGKOQc4wI/wAAAECQZv6SahBbJlMCGf//p4QAABRwedOOOXuf36MQAOU23UKqWBgoe8UVKg/z516FEe7aNcUFume7YEjj6HeNyXQjwN/6GE51cZzXgV6pnzuaz4WnPkNmJLizT8/k0IVWtZWLEMvM7G7WDh2nmpzEKOYjPMJzx5VvVdaWRBYTk2RwnFJdyGKJDRDkfVnkGrt1YY/l+hhw0iOYZf+Wgpd6YclSoZPAEQwM9wBbSxdzBsen7MVbWC1MPZ9LSk0+yjWQUR0MBSkenzbSxhndGCFdHyBe0jiAB6lIXFDZgNq5xqE6hv4g+E9aZn53NVgPo0znXcWVDddjZpPg3oTn0RQH1w+UKDhAAAA0EGeGEUVLCP/AB29yEp1O1rDRFYALsu1hkUVF4ATLNwLbqgUyj6kN6RofRkzOtZ9DVuAGXniT1F63vJhv9/DdgFDWbb+jH+BZEm+HXWfD9ndaDMEEiXJWBK0eqhHZFmHH7Y4aIYFzG83N8NrJh/O0VXxUnfGn9b6ByohesmWG+2sQ+8IvMh8XKthDi8t8IQQco8s709Ur7trlqx1ciH3zokCMWiJjlut/I558IdMcE3jaW8oMfsevKUNRamevulBEUMA8OT7rDlpQeMT2eIgK2EAAACzAZ43dEf/AC+4T8AUbKq5Wn6bMsXcjOH1IdFXCrqCCUQAVvsU8VI7rVhhCXi6lsmHJXhVIi2NWvoLa8/jFFsrJPznuD3eLHBzdRzIbQSFCGcmTpI3GRYeVNFtvQy5L1dq+i9iXJQ4x4BApcBhXMhESSOuE6DIPXPnnkVbKpyWkmFB2u6D4gyvow/p3WtoQCjTiAx+lfQaW5bHFhBiF9rI7dK/Owb37O2uGvPJf6CSieKsMTcAAACbAZ45akf/AC/SeFyOlADfp5z9owE3RgAtCZ159TCtdQmACPL2StxBaNLv8DBhw9rbLDO1sd4arIrZ+IjUhvK7PVIOu7UgVoOzmlApf3nfWpiKZO190Et+vAUBPbuNdgHQRxwv5SDSmcxovvfsvnm2MfiImAm+W2g/krfwHWQt5tEdrzd/ayTZcOBtqezxSK9iAdC8+ZM7dhPAYsEAAADwQZo+SahBbJlMCGf//p4QAAAef2PMaSE/ZtYAcWlwkyA2WbVNmT1QcruEUZGEK3zs3RG4PxPYlRwRxEhgRMvYm4tiNYDoRr0RRb7IBGp2r31mu6zekCJhSYbAzRJ+2tpleC/ljOQ6zzpeA1czu01XJNbXJy/gLPa4xkahxAoMN6x46hCK4kzODlWTazp//vYcpoKvQ0xM98mnMrAiDHycRnKOC02v5C+eLTj288K3842c8zfmDF0nFFFQhMGazqqCsmSSGyt5NhKz5/WGgETXnqoFTzYtuA2pIgDosG38JDaNGMyNwlbCsgJv5FQgmGDgAAAAtkGeXEUVLCP/AB29yEp1O0uDu7ewcbbq2m5ofLLtE6VJAz7BlE9m18AFzHpQC1nFVrxYCQQbyi19fTl3GeTON+UX4+rSpPo6L/ZGs5s6+D9OdRxMjXtiC00EB6aVIDBsoMG6GDb9Y18aSOYDULLX4F+yLoKo+wO/mQJZgXADtsnyubEGugo3DHpBI9IPLXHCH6/zeZcCvSQnT2yoJGGPRYAHt0DgxfDDI/eMa0Oci3R5p8/N4M+BAAAAfAGee3RH/wAvuE+9nPBDfaQGWdC+RzUh5jbxvd/n+86oqA2hWGVwrTAwVnLhm+IrTcvhTgHD4AS0Mu2nW9YOuodJMcr1jnY86D8MyySvfWlsjewT9+c5NN0JNAjElJ75iapJB0/zht2aAyOLW+hHT1D6sdLZA/0c+Iu3jBkAAACjAZ59akf/AC/SeFsWEzjlK66AAtbaEGyd8YTmZXg7EBRnAvYOgxLRaIkL6nq5whfyniTjlTf5twWObLzXLgGFaEjsOXRulDPyX6OtRH47sHyvtgqdKzIXml8tmkp2pCxEPHx+XS7hWU8zo1ZJzi8HQJ3AXmM9ADehupG/ZvHkIEPd5ytgcSAkDTSolzqnOkUU6i8qujEG00t7wO/R80LoeJkScAAAAMFBmmJJqEFsmUwIZ//+nhAAABxDeXJxSeEsbnEf7KaBaTybUICTgCyewazf+TE86qBasGZWqk2Egs2ZBJECfy4uzhri0/QU/5ctvkOhCRMsvZFBSTZSDVn4Zl2RN6VZVPWCo2rG7EhQ5qyhT95Csy4t2YGRUm/NY1UmpaWXHxBg335fCugBXi+vou4kUGxVN08LJz0MS3Ixf1O7FH5NPMHmAnX1jvXYTr4UQDHIzayxdB3qzcly9zoI5bhbyxzFlOInAAAA2UGegEUVLCP/AB29yEp1O0uDuZe9QMasU/q1wCyn2/81CEK47VXPXrJuXr3W2Szp2K8dRXzsf3QIkNkabMII3LetQZHnwHlSsvqUM6uMAMecchDHez0hhCHKz1/akaV0zxE5fhgWI+0GrSV/J7JcZu21H67raWd0M9Mo//nIFLuGlpfCXPz6x78JyjcX2YxUbNQ+kCpQTHdKGpWY2CwtQWN6scpwxCvF49IF+f1jWAmYXgOzVUx2ySharc/uIsdcacds4xjqqMlaiVMU8JjwfdwykEU2lJ2AwIEAAACsAZ6/dEf/AC+4T72c7vbwb6CIAK9cNA2HsjHdET38VnehqzW8Y9jN4HqRlj52mAGdo8n/FhnKt6rJcXYHNlOCIMTLVNc31gQ2Shzq3mDbeJim36e8ekEFBkJf7OVH0SUf8/cB3W7dtXCUugU+NbhPYub4BDzG64TKNWlWN9EEW+20+HFCSN2EIKTtgEo9kpn7C9gJsoXDnFADrJ3CHVXKUM4eNf6RNhn2T2DAgAAAAJUBnqFqR/8AL9J4WxYTOdSMYJx9YCcLdQBSUQYqACefMgA1pSYPpP4TX1ZC+ZnTWIz0Wien6BXfZubI1ZItH/r91mCbw6Xm4iLddbqNL2joQUwZgKhAup+tGn2caA0APPfpDf/eujNoPD236BnFQ/3/8r+qK48+eckTjjnSuIKcJJYV9MvwaVpRTsJ1ThRijxTELnmRNwAAAQNBmqZJqEFsmUwIZ//+nhAAAAtm+IjGQaFwAcpwWUTyOZIOzNxWeJvMt4a8aDza7zhXcIipYcSRz+ORF8ILvviWONMqjDpBVSoX8EGiIkBKBG/sEI25ryZ4Rz2/UqBGrW5p19Cqg8vBY5q1bx40rhILGKagyR5buyLpUr4lPMYv+fmoCvKksZYOBGLKit6N7wGomYsgxf6Ek+7ffMfRqxAKIpAh5KMtCk0r7cw04BF7NeraQPkqz4RPD2uEG0pl698Mel73O2mmvJ6chon55EbenXJbds2L535XVF66iLQZtSExIcrXmylOnbj2KdODUgoas9DQxI85nLPs48T0Ohn0Tq34AAAA2UGexEUVLCP/AB29yEp1O0uDuvxUq1a6LKm2AAEo++/eDpDZlv87R+6XAA8OW2UvPSrM+3mInTsTEUUCyYY+ZCtEKj3zmUdH3b3TNRyQIu+HG++4ivyNjH2bauDazdMwzN7ZgnYnqNwxW25iESo85LiiifE70IYIiBpD2ez0HgraULupHaJbb9QGkMXdwcrmX7JuoaMF8VCA8UTauZtPOxrZNh95zbY3wzbc0Qe6hFj+GwFGwLWuJepX0Rr5gdhuoWtx0Yr6QJ2K5YTBpMrNGaTYJB90/qYgNuEAAABtAZ7jdEf/AC+4T72c7v2oI7bpx6444D22hTvWpZevIyJKsmpy4L0lCubTSvZGHM5ACmzSQiFmpDUvmVgxlgxiFF/3LhT0cqG8L54IeQ6zhbJTS29dECxj8Hr0STaMbXKbbPks7sGYxJ7wr0+jjwAAAKABnuVqR/8AL9J4WxYTvwjzZXduQej5/O4ABtrQ4GpxW4wwR4aZQLkXTAGG1DFUbsJCt/FZeIToMi4buG6gBMeNk00RXddulxQaTtk7PtM9U2TW3EpxTFike10wpAMkIYULXFtL68vcecK+/z0sb4L9UV+T7Pxuik1XUszmd2qLaSeDlC0XQF4KAHGMn6VZMdEButr1/wyT7mJrfamyANCBAAABCEGa6kmoQWyZTAhn//6eEAAAC1erBGvWTILo+TwAnZ8iUsq20eo5SzyxUYoJiCMN8jR9377RHzxrem0c5keXdZ1lZYRWbwVuX8P9MDkQccQ3r9IrkPwPo1UDeZoANWhpu9op52QOvX/8ThsY+WxglrTh6sA3P7T3aa8dZ8hOe4LavbJ0+ZcVSPUVLSHp4ErQI5b8jBAo5C4qhb9Mwx75PO33qLKIyJWW9wlbRxp4q7a1EL8tg5yPnikHYj3dkLkGd7XmvvWsz+k9U2fqPz/grEbqfd2wn/MUvGI8NAf28VaLIfyr8R7Iaq/A9E607hR4NRFy1dYTbF6Jbn+cETVyhZFLNM6hIvg44QAAANRBnwhFFSwj/wAdvchKdTtLg7sGqHvwJd5tACVHH87sJn+iWhbyP60Ab928jlS/uBs8xpbsFCBISeWp6nhmghwgV+qEQPW0w58D8HTR1qXvEqKAxR42uD+acg/2vz+l7TLRLFKuHf2LOr2woBmTLwxRVKaSYnEtvi6p6Snl7z0wfCuM3Wkw2hz44n5QRko6nh0NpQ245KDF1d01wfawxtj53VZ3Gu9furYO9ira1M/mhiZ6xzE8uBcr1dIoas4B40M9C3AayBWNEDapt5KO+CnSRaZxvQAAAK4Bnyd0R/8AL7hPvZzvw099wNApoAYALQrPx955C+ca8IsN4I4b9MVWVG/Xqhn/3FOgLYnkxparwfxmvV/aGUb4AYjJZI2iLPnA1rd7ExwAe3kWhgj2ZXMT/0hZg5SexebtaS36iFE/G1UERilCAc1PTlDRHCd+Lv6ZpBrlUJm9ALfL+Dib2h+kc/ZU3DvJGmV2solrAqUgWEC69AdIMX7yd46f+wpitzZVJghYoIAAAACDAZ8pakf/AC/SeFsWE77xCz8iAH2OwUG2abKmM8qZO2e9P05di0gL3Ehw07gu1F0sLhHA5j/YuBlUpnm/V9dR9JtuPy0hoOHwjTC2GsbiX8bwNQEQR0EWDCUWEfzAf6Ou2KAbH28EO74TdhYWMXJgfqUU9cJK1fIqW/VMS7+bctuAAbMAAAETQZsuSahBbJlMCGf//p4QAAAdz2PBuu/2j9RcZNc0TZuW9cZlVEgIBbA1qpZnxC9dJQ42zj9ps9pKCJFQUgkgqycrNZVZJ/0QYhkpoi+9LOzGB7jUu6ubipcrTnY771VmfbZ07dFshO9qzPRfHfYs9ekmNLTa8DdpKeC41CSFYM80Z9bwLUGAuDS2DEpOdPWI4FZbjyanXXxxnqbIyKK5t2aDUd5eXWctbR00b/kfRGnplJVty/w9MJOau83iLOrGvcvj9S89vIiqOTH0uCTGSJjZvAq9yHVqemVdCa1eh2n+quSi9tOL+Y+Ub90XapVKJxAqtd4WjgHGVF0XFRNjYbE0Gg/fL5LWxHWe0ca3hYGO7m4AAAC5QZ9MRRUsI/8AHb3ISnU7S4O65sU4mQmz9coADiyIp2M7PHpMg5MAoN0q/ivkLRKPSAjjFaV9bXIzNf5ZEms/8d95I9k48rFABJBShq9CGSU9Mg8OAqOyD7VWhqav9ewbXXinnDbYFWbuZYWef8t2MAcZit2l9Po6FJnsq4HOmqyoleKQlOrdDuXcLL40/2CXrcpTEKn8L27JZESne1ZDoGndy862LDBDkXatsly/mjNIPrOnRNelhgQAAACoAZ9rdEf/AC+4T72c78NVw1x0hNXSo+AG5mktkwpxVk/0DTdpZId0pc8WqrqW8ZAtYm3F8KJyg4T2FNaNSXSVsBzS5Y+LHy7cDzWwvO0Zw1UE8h/0qQ4ElghKe6iXASWiYEMDIEXca/9Nnbz43p4C3FqR1BYMVDwu7ZE/qo3G19OwBei7xaacs7u9+cUy+tNKXdZrrlYVi1r6LbSMpNb/09pKuz/NVEvBAAAAqAGfbWpH/wAv0nhbFhBjyBgAvwc/w/gSfsScXVa+PvcXWinPegHuS2+EKuSLnIE8njd3xAGSZQ4xeDsrxy749DVcnccT2R7GwTsR6AdmU+UwNnYwqm+t1eF+3WGlwnExaHfRsuQ8JX3EsfHqMro7IyZCRQsAXZYKpGOxZjH2lviwNoP5NwXByG8oD1drildtd1JoR/AgrU8672OdsA/buNQy+vjC6wBZQQAAANRBm3JJqEFsmUwIZ//+nhAAAApHMstfXGLhl6DJxbCzbo0GoPZQnIAATrL+cviQq3U8oZuWC8MPtnqj/Mn07X8nmxJHmhdHC/kFHv3BqEuLL9TcG1Ohl96ySKIfMrAsyCwn5XmG9Ff6OXN2IJfPZIpsnBbVLKZ+u+7BIARy4WdZUkRzzj6bcej7foMhG6fKMgm8HdPAV9gweWwfkQLdIURyH5z4uxG+OTR9MY00OpSea812ys8Y9NDk2KYPlGvmA6pJ4ssXv79+SbzFXPRsH0c2lLn3ZwAAAMtBn5BFFSwj/wAdvchKdTtLg6/SobEYAWHsgZiGUnX2y+H4N2s5pt3eSUSHX/gEnv6h/Xz5ihew3E5vf/qi4GN0InNMhWmpWf4hfSCBxjSoCMhQiGOrwtpUNHul3r0itUmqwIypVoXdn/MezAHIMpOJCwScZ5X2yjgYgg9v4nmcANyMGUuSzLbVYNsbup4C4xSgTgCfmn1jZVLekYuA8wx1q1t2z6NR2skbXlXoAQ2bsfYUz/reQDd+Q87rCBNrMgmofbWR8BR2UecPWAAAAL8Bn690R/8AL7hPvZzqIjva5ANG+4JUQJv3wcoE5EuV2ZOr5Z2uYm7x8rEMgeorK1UgIRav8L056PeRAa9M+ApR59MHPvzMFZpo2Hix0LTmuG4a/X4ro/8G+QPk9ACAnoRMGJyoQXlgXkHw892K9+x9457N15MZqu+vhAFH5Txaq96Ea1jW6Uyn2dl/LgrxvBWhcGRXgOixRaOWZaVU5FeiPnkCZKd/posXdimNWacE1EPzAsMRJIKbP5sh1HjmpAAAALgBn7FqR/8AL9J4WxYQMgcsj4vYEABYecBpnMMkP6lk0MimkU658irHUQf8tTY/eIrV35AGH0ZZCosc0Hj47DiNhRa9z26EEqrmYf7sYX3DXIeuZDmUnpxLEIxbsohtLipxY91193JW0nmrvR8u4An7Ebiehklh0xrlmE+jXwbIfjcp0VjfxvlJDTWZZU54M3F6FebD8Rfoh5OSPNnYcDDaEMBjeT3aenKmZGJ+CXJZfGPIaNClwoPnAAAA9UGbtkmoQWyZTAhn//6eEAAABBuPPkx/lUgAB1nFHtzWla3wEbimoq1AWJsvB+Pn8A/3qe0W0L/vUdnJSj/cQC/Y7Tse6eL1/AxxFeoNB+WQv2WXG5YCcqSV/sJNamOD1pH+1pLwE+N34w888s+lBIcB3pBfPnKA+DB9OtxMYSBqv9mjyUJqToxCFb3thyTy4nY7H29vHswDES8ymAhupBjiJ5ik0t5l9F+3X/rtcccHfMV/sbivD19R+w1lqADyTKFDYDzAXVeIzm8W19VD0oWb9smyWAiMsiH/GhlIGulyq3M+01q5cAjFh6C/9er09Dvdk8y4AAAAyEGf1EUVLCP/AB29yEp1O0uDrUXMxZb81LpGqAAE7ZPLsgU80DXPS9N12FbNzfnoak1Szz9y+fp4kl1Ge3KwCrxsYoEiiDwimkczbSu5yXyQWY4i6eG+6MgxzqEAguuyB5OsrFxTzM/QaGQcs2FWpoJulqP8V62itiF36CXMJdtOh4QfGUT7aWBW8kVkB/g6VTA0eLYiQuPGFL8geQBxFFGjPoMoqv1rUX4+j56uKE76s2YUh09J4Loz2i+SahIa4MMhDJhPiMWAAAAAkgGf83RH/wAvuE+9nOpAbuxBpT/ONiQrwQMcEXpJcAEpVVSLBb9TAm9rtV//weguBNZ/h1WPTILhCGkcbogMpl6Nq/nd4kWAny2Dg/TrIYyJblN/VQXciMnzvMHteSkr/JtSZ7wUIOZRY9eVNsSuXVTA99P2lEBOCemP1H+eQ9SEsiSujRonp0+UuciuOo9Y3UHHAAAApgGf9WpH/wAv0nhbFhAf/P/fLsLEgkOoAWhxptohqbXvPBhvLw56nM252l9IzKFsCxbaTKea0P498/nMnBapXZEoDaH4GJGL2n6n+YAhWjzfrry2ELt5P2GdoS4hjENsiJMtzm3toSW2PEu9gWQoowGlYRTYRlClzajIjLMspJTcwfh1tKPsr6v6k2CG3Ji7dKsC7n5FfeSiX9v3YXbj36bMKD0P1LwAAAEkQZv6SahBbJlMCF///oywAAAEJ+J1edEeNbyAIwJe8zUwUMcw/7enCpZHHL+ZwCbJUDSi6R5+DQJTIF6unR8x3/R5llz3Oa/wB409QOygn06VKy902QeJP3uVMpx/EwHqE5ixQEl6zyZUJwgZWUtG6ah7y02w6KruMfhwzvtzpOZSoOPkqgfyI4CBgIYs3IrBImOPyMWxALlnNzHArjs9KtoeMRu1ESWSE8H5wTQZ0ulXSWN4HD+z8Hpi2ot+uTSEc1xs80tJlBm85uHG8LcNW84t+2BChmwHkCxas7pylTR45Pl4EZ2XmUcjByQQ68IaFoziG2i6rpWb1SW4CcYk22LHC43v097u7SPcTJvVZscp9ISg8ADjyJCO3V9BBBVlWyNnwQAAAMBBnhhFFSwj/wAdvchKdTtLg61EeZUxrJUSXjKiCNxikALZYFcaYxCy0SlpX2X+vTeckfB0hZlqL9gJgVpII1gokULPcs6jgnXg9xMXJ49cvgUPsd7Iyl/NovbQmM/5a60+F63Xb2xQbV80EmLhgYhhZ2crAYobMAWPCRUhYXOf26cLe63ml2MEHzD6T1zSSZSGQKXBiWqXQF1Xd7WjhsUA4He7VpXdpwwNWYAaaoFFGB2b9MDWw7+pEuEHY5EKgSMAAACJAZ43dEf/AC+4T72c6M6QZCVNbpRrVOeQAFncbMo0/hrjzRjx+EMiMbrbQ2wE1kqZglxj6/CHSW9Jf1/G80hw9aO/Q+vyJ7rXyoM+S7kqcobQVY7/vmZm4LyO1wx7UVCptf2PsDbYM61UR/ZRDqEjQqrIsqtSDbC6uRg3y8Dap9GYUzXVAufuRsAAAACbAZ45akf/AC/SeFsWD1rsbJFtmBWTd+U+t6VIAVcdoBkAh2e/wqKMA73mhCB01kVpL++NMRDDsKpktzDfSGyeyhix9s0C4eM8BwxzdaQuJGyzzqHOehFvGTrrENiVgW2QbuV90nyQ49/YZ7Auq6/Ojnvhen4E+qLENx7aIpOtgCHeF0ag2mxW4JThV6LafHQ/QjpsB4WyJoeA3oEAAADxQZo9SahBbJlMCGf//p4QAAADA8/Cc7pBXMC/dQLinWtn2A7Pf9sl2hhgQJT6d1f40IVBjNfGOcN9OZtYfdNeo+1FX3C0btBJRDYE4+2ej4niTspuYZ8KqUbFkNLuqgu2xnQUkahJf+0gsMxLuGKB2yrWOWBtgXeerHZQHbOzwS9VB7xzJTRntFPLOK+U8tz+k9dLAo+CK/VNT4Td88eAaakTJI2ZpMpA+EvGG6j8wsvkaNCZ3Nujkq3LjYcsT3gJl/KqxqZr7yHhUVzjt/TYHNCCSgeK/0LtC7O9Ocn6F8MvOf7SFB0Jpr4tHTPObWM2fAAAALVBnltFFSwj/wAdvchKdTtLg60wZR0dzbb6yJKAG3+nvDk1BnGcMKQBInQP1I0DXrUOb/5JdleyhtHE0m4Xpd+snmWl0ugunbHJnoI/fWQy3kRPmh1zR8pzfktGNhdajRj2ulUPC8B3M+39JmnHPZCHxbY7SafgjHYtY/Kzt8slfuOBweHC8ye+SVlRminlcGRZztkmOF71bdFbmLOrKh3okPFY721/EkutDVAxOr7ysbcWsCK3AAAAlQGefGpH/wAv0nhbFg9a61/6cABHWCYZb9ApAAcen85quLfhHERQXp02/C6XEHlkom4Nm104byNiZBnjA3iYDkbYTm08wQmCDlJKesXCtdS/QKZOUNZPZOPExue+VibOa+EXtjiBwrVgCyBECAJ5cBmJGx0xLCYB4bUv2jI/qJPA+uDt5qyOSI7W4bWe7P9509mOYvF3AAABI0GaYUmoQWyZTAhn//6eEAAAAwO5wnSGMwMUOBjgJ6EPZyAE0yXX5vf0cZnFMy6RHXp9wXHhnlLlJYLtWSqz6R54ndGIBTGAmd3z5Sdp380fuUxN+y2wy0LdAj9QUKhB+Tck2C1x3NZ2qI6d2rhVKXPh9rUclzX7gVrCH459c4PXaVsuwZK2YlYWxAohm2TRjxllBudruY5unk4B9jGoFXMkm/8aPAty4FMvGS72Q8yXB2QXLPEV1lD/zoJ6GOD9cjESDpxT6CetWpNqY8cJTdNTGGe8jYQasQKnXu3qD6XSYut4td5xC3LbFyWGRbw3HMA2wz0PmsHliI2Irqhk+CIf4nM1k4akKShJLZ11qP1GHhEbzk5MeBrsLiB2tMnqcTuXrAAAALdBnp9FFSwj/wAdvchKdTtLg60wbnPS4ICCPat+fu+yylB//sa4wu5RLGyfYZ6c+WJzSDXv6xaxqOAeOdhnnGgR3IfLvdMvI0IIxbR44QTcCMa7aFm1D/kTFuXKWsJ7yGv1Ij76JCPKELoZLQ36LDm6zLrVvg13qmjHJ3XT3+9D/sNEDml8DWycn5xINyxY1fJidakb+hxT1aEnSsA5pgsL6QIXJU9BIE0iNijax1pqdHvTgc7wFxAAAACOAZ6+dEf/AC+4T72c6MORFd7iYV69og5+IAV/dPuyEUHjy2/Bdu/uJ7QxnW6NdVD+9C0XLU1bMjVF254y1c8QNuFi/fIDVkWn3bOVg7ov71OF9dU81n+Ak5MZc9wPcoxWwxLNmS6eYVLJtOyT/W81CmmieKCtJ3jXy1OQb2CDjIBbBkZ1GFYRa5mY24EEHQAAAH8BnqBqR/8AL9J4WxYPWvBJk6AkAAI90XjK0YrgHouUryHT9M/zW6J9lAZiqL7oq0FHaBdsx+lcg7ryyJ+0mPaZiB9MgOpHVZpHheuZHpf9j79Ih4MAt1amWCE+yPr+V+UpMT/R6jhU4BJP/jGfaDyUTFoedBGJuBHk2L3B9gekAAAA70GapUmoQWyZTAhn//6eEAAAAwFrthkrw1XuHrxDiwAHG8lkWPZTZtETmIjTooYhv1OUgjAcwP5ONeEzw+FAe/Wk0Xlna4ToHnTS6LEbFAwfbM9aFsIFNEj+5dkdY34PC5z0Opoy4XhKC90bo3ejeaeoaCrvsUknxrHwyq0oewSedTyPFETNR9G+i5VHJMIlUunB2poUgpL/k54lP4Ho/bF56vLj0aoIhr9p5oLUyAtwv23pJx7r7HrxdRUC83dK61hseBMWauwyhrqpBCQdONbttRu+8spk9an4JkzzFBJfZ4Orlf6MVO4TjtAprWVBAAAApUGew0UVLCP/AB29yEp1O0uDrTBtc2wEQAWHqCCYEfEcs0TDvnGFLJaL5Z283CVj0acIByy3djGU4i1kzrK78Z9eW5AX1Z6aJdapjUzkJPxdi5LEaL6R7PswG8Ccd/g4VRqNO4XtnifniUhMctaQ/aybgrurCAu6dA4GI7ao4tx7ikxeMhiHkoq+AZyANcdPLrpsPP99PYdeaVPOP5vcFc4Xdi+a2gAAAK8BnuJ0R/8AL7hPvZzow5Aj6s9AHKFJQt5ZhtOy4jv5PZ+M1Hud0xqyNVn482vmx80yD87G5JEMlgz/tMr9y++aD00jjXEOEaIsL5jUUrovhg+mTstKss0UOgZAFwqBQG/G8oHPKjlW5HNRZO/V2PnvNe7adaAsvi2QWkgu7Ei+YtZDTk6OHCq7EroUHTwW+BnzzI7p/8jhHLnxgB2cA4rsoAT2f/9O8BQNfVrmU4VtAAAAgwGe5GpH/wAv0nhbFg9a8BjuT73y2pIwA01k4ajwMX7dYPoezoY8fG31mAZnV3+z4jFPrWEfYpFxLsyp7tBEM7idOgiP9SpVDsihq+rOXtl/sAWdMJ0DjwfhirOZN/Xmrvfx4/Z0dcgWVpKtmxOg+2mpItq9oI6D+sIuJa8NrMXpR9w9AAABFUGa6UmoQWyZTAhn//6eEAAAAwF/1z8g7sMYAGzK+JjDkfx3cp1gqdOrtfwxVafxHmiUv634wA2FzaO8NnYZH62Pq+Vgsy+frEchAwq1JScdwfIiYCEHeWt1YLdUa10M71LQCvhDHA5aOFgI/pRswlgS3VrT23938cBDxsG2MtVK+jJYC3EGDKAtBDCaLz36Ooo3RmydOgBc5pdCbLhgpl+bcicjrtpv33/fcnXVWkSS0kktLs3v5dp2TddIb6jmmFuf+nPWUQs8lFSlMq4F6CReCP0MN0tFpIUOV68Mk2T05ZOO9JqK5pUP9XcDOLtbKgve88fqAEYzpdz0eO90ejCBRgjtCGGuWffLIM2aYNdwCvZg2HkAAACsQZ8HRRUsI/8AHb3ISnU7S4OtMG1vnT7pU4AW8aRfrYPuf+bk44SjkOYixxMp4iAVKxuIu3x6u4J9A6BZzea1dFIp/qBPc7XZdpWEl36sNPiEX7yDZRP/++9YEKsfElLMwymodjQJhkdNgpPbgo2DyDZW84nOCiZ5Aw4yPxZhith8nuEUjuoM0NONioaSzYsyhOW2ewJNQKWEthUzcj5At/WtXxsBVNhyZT4raQAAAIIBnyZ0R/8AL7hPvZzow5AkD4hhEybIWSwABKtelD4s9Ane9eM5jTGfrerOdi6o1d3G10pjb9EgYDArrqGKp8Q9XEtAslJx54c5d4iv2h9HMYgLnJfgvmBdomGfeQlzoShlVMNw50ckPjXIQQ8oFg4QVKB7ZxwRFBED4nMWLGW8bWcPAAAAggGfKGpH/wAv0nhbFg9a8BkFQg6XEiiQAOMVF7pigZfdN52mTrcilK7HKxscY3Gu/VXjRYgp7Padz28XAOAeHuY7O3yweGQHUX7S8PFCeGETz23gO1r/QUzKGQpLIwKTdlWEPRWS2fLCf+I4q7VLGtJba9Ypy8x3aQqLyTxxXDD+NLwAAAD1QZstSahBbJlMCGf//p4QAAADAX/4PNfarxK9AC3M0FlIAtECO9GfhksZg32FBGl1m34a/qKyYXPFPDpF9axEWRduc5Yxj0kf0hXeVz/++fnAiRhfpPdekr4ikGJsG1biEt3Lts6uhdMcwmsriMEp7U9Q+ykccy92NdXLKQQCQXd6EMT5KgVmI42otD1oVQfuOecfFgmMKm36LoVvjg42rdaoyZHwBBXZwAW/0pe8pBCbfOuvEazd7KHmkhmmv6zF23VUn8DOiKuyVbs1jpYDaoVx6JgHJf9dgVkvlsZCeC0qKwdnqs6HzB+Wi0QYQjheP7M6jGkAAACWQZ9LRRUsI/8AHb3ISnU7S4OtMG1vncsyhzoZy+DDEKNSIcuQ0kC+davqzuYiiJflJvBibVcu5ggBUKoKsOQAOfS3R0RaqbRYhS8PBe3kQmXxFFYHVSUGptfE/cIyHmM58Q1Ugm8L0nFyAIgga5gxQ3Ibu71EhZoBKEGxX5koowMY9ymz6LshBtYwnH3YqpBK3WBB4CzgAAAAdQGfanRH/wAvuE+9nOjDkCP4+CI0k92hUirvx3ttymJ4wjgkYAW7EptxbEMYXilwfoAALas37Dzz6HuwEQQFZSsd7rxBaBa1yQ2O9kKg7dRV5uVtU+T+2n38+Tee7CguyTeMzodjfVtp5lu2Jf3Iqscz1JoB3QAAAHkBn2xqR/8AL9J4WxYPWvAZDHMWJw4yX9guFjWY8B0KNYewjuEzD49yC/XRIOL7IDLwyxUAExewfUQDMIXNtVGZH9azruLf4hJueIU3K0fYbUPAcFw7+PKlGTFlIvwfG+3gXtYDPgiuGVHH5FcxwiEt1aBIPtIyWFpxAAABCEGbcUmoQWyZTAhn//6eEAAAAwFs5l0CTc30Xv6KthVkJZKysgwALooSCy7s/8W16wrD1BjKShXJgvvXmMbuIXlOtz3VpZVMkg9C8I695PI6oeKgdjCviut1Hhbp2EyA7ot/kj3dcvVERoZNuDnqJvVvigomroQUWJ9cfxZc6GgFaAox9+Q1eQlq8tOQYWWpco9f7AdOPs4jfP9dNoouDF8cgxEBQCKsYvmJdcnhg1EtklOZXJED9HsdDUJXZoWeyIHj7B5btlcnCv3CQsSt+OO3pf9DQrPIFBm+tzXff4+1YvTTq+rsKDsFCw4JXidHEgCobJzDsIeW5GQTl828yOdrXGY0XFkU+QAAAK9Bn49FFSwj/wAdvchKdTtLg60wbW+ZN/BgWp5rpIy+kvRoPkRACReZ3AFxEbuGdStwgg5cizdbSEmodCHwWXg/vw4Ct0IedNcTn1DysXI8gyDV6moh2w4XNEy7TnOPo94yAuiU9hCinlUHrvPX49/xVlXqlotJUTHRIZt6HxFr7CHISMd/hdcGdJR3xWC9yUilD8IRGzFky1vFI6BJlIicwNE+Mh1I22G1JqfFggqZAAAAiAGfrnRH/wAvuE+9nOjDkCQPKQNZcaFUbc9Kbl4ltsJdiSQAlA/BOavInRHteFry3UfnkpL51O2iHRhzp8zM/GBbpT+qcVtFCZgqwn624lQp8Q3nLrXMb6Yd0xhuADmT5h9j5AUUNwCziopoIDchMmZedyx+aQxgE53wWzmmgcMrvzqkW6l6yu4AAACPAZ+wakf/AC/SeFsWD1rwGQx1gBImnHxoUXffGik3DVf/3owAWuMr1NJS/dXlYLyonXGYXVYHJTMRPVoJP0IFC4FlSfc6+Yk0M4CSSiEy0JXcQKfLD/R+nvsM219uFm2JZ0RT8WavQtfC7eFWmlTHK0B0C3sJVUp9AMXw+1/BROTdKAG6SEac5kMLARFzKmAAAAEvQZu1SahBbJlMCGf//p4QAAADAWJRKtKBo73/3YAHAydgBrYPdKtP98BTmBN5ltS1RNGLATCNvs9JHvHvv4rb8tZZfoVPbtiavBh8QbIlcxXm+Zk1Mn1LDh/Qr/n2UW4vWNJM4iqSEA6HyYUP47I8GPtVQL/VVrlBTrWNY/DNxcHm8K15XrsXwi3B9MoJqdFdBZjeZyq+oFVQ84rA7Ye4cjC7Qs/I/vZFI1tzhOoi+ku2temH9Cvtf7UiLxRtjugkm8mJoPlPJ7gW7/Wdmr2PzKoQB2I7W6f6ml5EUfuSgRHpajtXF206UAL8VoGRIAAqM5gYYwF8XJAqxQQkNQcaJZqFI+7SCdRFx/Gqyl0KlfTnM7bCuUBDr1HXNWaqiit/m+HVmBq4SPG3cKzVU0PzAAAAp0Gf00UVLCP/AB29yEp1O0uDrTBtb5kLHyOWWkVj3AAqlmrwAQVhc/LVnx7zKBNmvcdROKDfEfwllTKoOWynZw20+xndLG4hIbe7LffG0L/nqShDrDvSKhxn57OtRG9f/fwFs6isCQzs8w9SutWpr0gnHnqWvW8pr32eWdrPGlLqun+9Lbcu8nvSlWoRX+1rxJw9nzByY48tU6/woqQUZtV3DHk9JAKmAAAArgGf8nRH/wAvuE+9nOjDj/sq+ZL2Wt6/N1tAv4qt2ZwXgCBWoT2sK0isxABiCcSR5BEYkBUxSb8zUGmTgBJ0cHyz5/4LHqM73uI9JpLIYvzRRjccuNErXCLMSSHnGW4AmmJhqo5pZwuO81qcZKgZ2ehMEVoF+qRppySQsELdiE/cx+CuEdvFjnc1JGUBzEjghc4Q1Hm980t5tVvJ0Rx4PiaT91SMejn8HrUnCZoUEAAAAJkBn/RqR/8AL9J4WxYPWu/3/HJ1t0Pp4MHWh4KzwF4AWWDgQHI8y6Ay6/qOHRmHSIuFkYsUEtNTiXaXyO4vLf4JxeDfggLmsi96uBfmNP7C/oLKlX4t/NjoyLWr/uiSEh++kkM37yrzGQ8sv3YpiT85judFvEMlVH1HzWDJbSJRC0f3FA6U4VtO5ud8GhdDvVyis7URECvie8MAAAE7QZv5SahBbJlMCGf//p4QAAADAWGthC2DLZoAbZxji/kWJR6Yolxl3/HXGFa7jbnhcqHyVu5OnPx7ztIM+2KhPbU51duwq7ln7/QVs8NcaeAyu4EQx67v8gYEzjezudaoDcMn2WmxuBJe9XsPAl1Z78Fz0qX9ZToq0iEeNyHJKBr8MGlW7XXDXdwXDRKmQM/x3CXsmFeN5/A71Ji62iVmXgSqcp6fpzXizSEri4qFcgcop7LUx7IvW6NSmNj2wf2StZdVMcj/dCsYSexF7izkS7oMVJuBulclnVzlrBewtZ0bTuPbq8cjjqt/co8cvHa6boOXcPqu7O2ap5EIiiULz41SzorVFGJYbUIP3UrEObq8GWvY1NlednKAwzx+GD9k05/SOdVxEvArZJQsUtknTqkWt88+DVgiaFZNAAAArkGeF0UVLCP/AB29yEp1O0uDrTBtYLU0FNn5YhjqAzF4+QI5qTZOaEc7dxi3AC6jr8RFJA9Ax/M9KJyAC4XGF4m0PsbQu0AmqobH5Jk6iH2tMZiqm8X6wpniZVq28ic6CxrZW0tEIk/rvbXPomiL/6rPx24d1JXO+pEepLemWDGNXR7AHLYdaUQ3TZ055fru6VNPOIVjHp523NJh5827epLIc2SqowtgLVlf2JkI2QAAAIkBnjZ0R/8AL7hPvZzow5AkDtF6m0VlnAAF0jfaw6Ud2g8gGasadyfQnvCxYicnP+nN8NUX7unsZzpstiKMOOseakF7kb6N7okh7Hd6n4fXT65I4Sjh8nJElCwBuyvN2l5HhzOZQgLxVSU5cgUV5oTnj6yOxHJgfVAb1Ela4nhEee42nSq4IG5FbQAAAHIBnjhqR/8AL9J4WxYPWvAZDFBc+DooQ/l7WIJV4AEsfmiPOtV67zGhEv+v96UoN39h+mQ08qJqg7ym3TXu2IZvU3QyCLCwBArUE4XHwpn4VN7R1uG0XgUOTIWTub3gh+MTazxbz0pPbr1idLuDk5SaAi4AAADjQZo9SahBbJlMCGf//p4QAAADAWHvAjnsaeFKAHHlyyBhTKPxULkcjsjq3QE6diVoSVJp18Wg6cG9RmD20MhN/pZkyMyz2yfX8r5j61HCyRstCwo1mP0fGgZxcC2mv6b4O2dHk6y2em37B2nt4dlp6XpT3+djLwHzT8NUX753OG2xLjPNHhK9AXWcJCqAILlzk9mkwwqVGWzA3Hx4A2XKKUEoCTtroulofqyzrhvIXK6HbfWz64lVM8keBkzzHXkzzE4VG83YcSkPj4NkjAVvNR1ewJwOZoZIYYuqbmJIe/m19g8AAACnQZ5bRRUsI/8AHb3ISnU7S4OtMG1vmRAfrqh8JSRUDfn5gALqM2xdvQpvv9AiCRkQpyYf3UENYWbIFmcASUFY5WtmVCjDuIfjUWnrhsOyrrTFCLS8u9eFuIFSpyNwFSJa6nKT7Kai7rNA8Z3Py1pfi561rchl3Z+XpzE7Gwz4SlLfZ0WkdPndMWDLiIiVR9FmjrRwwWfB2ighBWx+wheVMpuh3iwQDUgAAACPAZ56dEf/AC+4T72c6MOQJA7RBXB4TxB62bL3+wwAC6i2gyL39zq95KGfv+UzJuGs4YKu6NTWpeHmaW/e5V5QVit04UEnkijxlW2g8NJ29/0jj1+cqVLrQPaN5e8W4k7lRqmTNRNo6ipST+wcwSl4aJ22hTeo+w0XTNA1AzZoO9oW5d/VFUjNcv7ohitEf4EAAAB3AZ58akf/AC/SeFsWD1rwGQxOSnfXlRudCOUdXkngCHn0rfEC6plEwbUQbcwKUo/V1de79KJUiBcoC6NSuKe21GJMWFGPPdoqUxTaPw+cckUntaBzjo8ndSeNaoiExuhDENqWD2PlWtVl1H/9EgHPB+pO19ssTAkAAAELQZphSahBbJlMCGf//p4QAAADAWP+j7G/2dxlybLnhtlkvLV4Az6/XozEdP/J43bO+QFkwx0zngFMJWn7J8S42n7rBGRigITGScm8OBMjx6fRc3r5kIt+2hPVGCYa9f42ONFRwlJLb95RuFCdz3iDZ/8jF+EjTBusgmIVnD3xUx6PaSZnKeuasiKBDF37gCeFSRsDj6JPXJRO2xFFEbIz1RAnGoCtuds/jB40wyQc7qAab0Dk2gJTqfm2ZJ3Qc9/JMtsKfw0+iycEOUF/ArcLHc6cZ5siRtL4a7ZEcoFk8qn5FoxqLz2LOERLxxn6ygGqQDk5sHs1+6MaDuiDzipLUoBZcTCSC0e4lAoIAAAAd0Gen0UVLCP/AB29yEp1O0uDrTBtb5kMKGlngAWq5EzlBwk5kaonTZzu6TsKzn7OV3YeDnHb3t44N51o7lQeLQazFcQ4Yh1i9Y2VWcVnh+6OoMUHs8dFH24ozXYBlssAP5kMYmDAbf2DHvZ41jGkiLNZ4iYXQBswAAAANQGevnRH/wAvuE+9nOjDkCQOyfAZity0qelclDOUadES9RmStveAEsto5y8ikSHi/xK1zRJxAAAAVgGeoGpH/wAv0nhbFg9a8BkKAtXLU3nfRJOblIoASyGoMi9/dKL4SmcFqVbuJgqJrlPOEEj5j7V/gkh0mSNMytt6gFVC0i/5/SJFWmdgdZYBijo9nUNmAAAA3kGapUmoQWyZTAhn//6eEAAAAwFYrYQhVH1E6YB7xy9w2ud9mkAN5oKJ0AoZSOndg+XpBH27hvieeoR8GQ7zeOpfAsYl8YZIZjB/GG1uv9pS5puIKWwv8OAAykC6KUq61o/z1uEn2YkoS9rMO7oUOC4TOB7qkHTkcoTiJqLCabAofOLWw2jca5I8tQXtRTPYzgS2iJNqEh5ubRtYjtNWgVtRKRmL+yF80Qq8Sqd6dMHbRmnq8SxNk+qu1nJL+3w86G1P4hN1s9pahpLmcuB979qKuo7YafEnAQuwGBuccQAAAF5BnsNFFSwj/wAdvchKdTtLg60wbW+YWiK2miO59G0LKVYy/GH8IedSxdM5tnlhXigd0NgATjSqDSPX9s4IQcOyqGK5P9DRwHOz42QaGTpaAyn0v6caeca6zlCMswGVAAAASwGe4nRH/wAvuE+9nOjDkCQFO6RSMjRmG4dkAACNG1KUwLg981c8SNzQ+Emx8R4L6TEpofSPINr9snDy4X7rqg68oTRzRA329eJlwQAAAEkBnuRqR/8AL9J4WxYPWvAZCRLzBP4lZ3u6A5GGcDUfu31n3dNJuhVaphACFHDKQJhP+MK5npd+6PdPbj0i7evslnSlS5eA9GhBAAAA2EGa6UmoQWyZTAhn//6eEAAAAwFYrewLh5HasAHMp+ZKVNB5462udWbLarR4/q9QnS5QQ4vr8x0YZ37IGGoDS/34sSd4wisagOykGpA4KbWCGdtT/pE14KVVoKUqWKRstxtu1w644QIrThP4I15Nzs+1mZ8yURlIedI1jc+uc0HtdO+sBzQs2E9gmZC+58DWendDbyWYeYpBAwOfahNWudMz4GUMJUA4Prc4U0Khc1Da1egDAqAQH9lOFjR+acMmYMVp5e+OsxQw+50sZXopPUgpMVSvkLfoGQAAAGNBnwdFFSwj/wAdvchKdTtLg60wbW+YtMPuPvJK7/vm5hIVHm/LSSiAC6SPaqm7CGQWmjyY8rJAdMYn3mH9n1zHZo3nlh1HNd4wTdw6NjEvhM06XFouwrUAL3S5+a5CMXDsIOEAAAAxAZ8mdEf/AC+4T72c6MOQJAUxAYqaXyD8EGudGe+Ncv+ZgAg7/envBTxA8G6FkBn0nAAAAE4BnyhqR/8AL9J4WxYPWvAZCgLzEG9rs/OnSsg2YR4EvQAlp3KNDVkTVVmMT51geQExRRGH7n0Asd/MDn5X1FL+nlGRg+otp6IbrR8UXcAAAADKQZstSahBbJlMCGf//p4QAAADAVr30gP56K9GBuqIY/H1+yElABb4SKwc1kyu+vuOYTA+Jkr5tXBxgTESxdTqIr3n4p38IuCGSjUmkQdLSCuSBUxsNfZ9QMT+xsfcLb1Svl8nokuvZ+auOi71pC9o4rlZafrpr249WnqJD69u6+lzaJ/i7rLrTFn/fAdGuzJaI4vvC0zA9iOeQP0ospYqxlVfI8u5SWL6d6W9VoDqXtCRFjugHNhhfwCu1odrNLOc+sbAwWbpwa1xeQAAAGxBn0tFFSwj/wAdvchKdTtLg60wbW+YcwbH4os3Zj4L2AEkLO4dlFG7LY0p8uVSmQbCE3f6Y0pnVzfMRk3+/oVDrYs59J5TPwnDYKZcPILOvXBMK8Nc5J1Jqb78+mFaWZahFNyp4N2Md+8GF3AAAAB1AZ9qdEf/AC+4T72c6MOQJAaJ3/Wd0dvxBafk3gAugRQZF7+4h6ceya7Ru/shiwqwiViNd7W0vVjpecY7xCsKaLCnYEpSFNYdoVYnhM+i+WIncFSk1U+zvCW4aHYOZUD6ljxS9fTIPZnGynl8L4/vK3GJYhLwAAAAbQGfbGpH/wAv0nhbFg9a8BkMMmWSwAaZOlCH5wZ3IM1TD4twse7bp2oWNzrgz1KSyMMcfqZvl7202M2xtLL7moo9Qpu7eZfGM6fgxt2493/yc/6cYtjPPx4oX+93NI1rFZO03o4Pcp8Igobtg3sAAADTQZtxSahBbJlMCGf//p4QAAADAIKrxRFvAA43ksjQeBiu/h6l90vgGAbvxvzXYomFSPmZO8FDeb1AQC2gqEWvMKgGrb6iyZi4/Z6r72B9MYmOy3Z7R9z14Z3W4t0QnNovA8Wok7SikD4uUC/JBiXe5zApDuSBwueWjjQ6QA/Y+LvfnpZV8ZPqkJc+6P4sUbMiUbUpWEsdwMVOXXqdk1bdDQHuMbpUX7pQK7r00VKD/NYBwCFhxj2T5jDi4zbYxIIcxWxYdghPgiCuNzZ6BLwE569LPQAAAJ1Bn49FFSwj/wAdvchKdTtLg60wbW+UTsa8KNZpOULXscjZQvjDVODTR+wAtTitxeruvuFilVYjKcfVuk/YhXJJYfKlyeRRIWQn2M11GY1BGrPPRiuvLXbzZpe85bYk+16FuWN9KLlGEpYoqfHpY2qGjWtkrsq+UuLel1Uso2lJChS6ik2Vfmy/dVi7TN8pLciP7O7Tr7iO3pKeDBJxAAAASAGfrnRH/wAvuE+9nOjDkCQJ98JliIDwlqHUwduH7lFIAFlC3nGxd2h8l+o8bG3jnqewoFldTYB175+EDYVDeB/XJpeAgERgQAAAAG0Bn7BqR/8AL9J4WxYPWvAZCwXazBoRVg3sM7uOEV6ABMUq1DT+BlN7ycAbj0lRh7UMDkW1dAYyPA+Xd1OAG2tllpVmZ8hjUjkUNXxAxcJJ2HEMFqCXj+AfwvYr9o29ECJZALMolq2QWHMCWkfAAAABC0GbtUmoQWyZTAhn//6eEAAAAwCCcNrqUGVa/lL8AEYBkGSl9xsaer6lzIAeBQyI5QABAsToezOjqte49Bh0n5u+HCeu0+fUWf4Dvp88UEJ/sUt48Yxc3W7hosmoSd8WcWQRxaSHJt+nzEhnBFRx20MnE3819ki+K8VBdOkp787GTj93nNOhSOS4ErgTHt+31UfntyGJdbU0mUAXhyE0AQOl1iKB8wqdcaDJzdBby5bABJoFzij+YvomqOg9JT//xFppx53FFk4n7icCK1o6pGqyRJlEpHsE3QXbmxzRv2LCnbnGAc4RG7+zhHlBD3gDJHZazh789t887C4nybzTQL6dR0lwKd1K3j81MQAAAHpBn9NFFSwj/wAdvchKdTtLg60wbW+UTaQYDyQ2NkdXAALUOAKER6rWo1ihPoauNbKOfg3PXihTI4BVsNN5zngOS4L2N/F0LasPQF55Dq5XLBV59WsAdILDLwfP/694DMgOLGBjr1kXiPPl22ZJ+dZRwVr8Q5jsB8fBDwAAAEwBn/J0R/8AL7hPvZzow5AkCfpexLjsOIJY6yWU8ZiMOXQGOaKhqBaW5rOWdJI2A0BF0f+ZUAH0YGtpVRt8ppTdIzgbJpzIq/YPITFgAAAAYQGf9GpH/wAv0nhbFg9a8BkLAKIGjFttB+fp3XDm0Q2N3t+75ppe5B8ALWsz8DQfL46WFfAf9wToksr/8vMYITYdLh03Bb0V3X73uhI4V+baOomknCMPJN9qF7Hr11qcW0EAAADQQZv5SahBbJlMCGf//p4QAAADAIJsiDrIXnpQA48wD/GCU5vCqiiQgLWsF/7+7PdJ9tjjSuwdKx7+6DFl75X9XTKFwtVwqBwmFqT7ChMu+J2l2CFIxApAw8kZzumrdSAMAXbCwcy5cUcw79edQZxxCMiHhfBzGa5Q3y3g6SHnZKoXa32sdn+RNZkZypUnDaOfvDIY2NwH0oKZ3Nh0DriaPS0pl2PbtMYGfDLnZcKne1DTp6UFU11/h2iW9qqbaIdt4oIZ/0yLejPzZp3ZG4P0DAAAAH1BnhdFFSwj/wAdvchKdTtLg60wbW+UTatUhHF3PqCTczyHkA6C/YAfflca4upRP6FZAb1UZnl9zXRguopc24ewmE7n8Wue2uCufdf2xCvaeTJYdiwT0JXsD1XKSJ4kjLlTvulvYuhZE87p4Pc3tTrRhmN91V9U5GfIjqQbcQAAAFkBnjZ0R/8AL7hPvZzow5AkCfp0AZHGIfg9gAnU4aHjXb3zECgJybhni+PeV24Pi81ee9qgliCY60iVO4voRe2pSANV1bCkRtaQ47eydoJjTfRMxCwGQ1zegQAAAFkBnjhqR/8AL9J4WxYPWvAZCv9RxQKxTpKXBewSwOUjr5b4SpBnGUl8d+hFEzTGACQPXTgEyAK3IdPUo/JH8K9K2HaJwxpg1RShPbIMpw30uX9VsPn7NnKhGwAAC5tliIIADv/+906/AptUwioDklcK9sqkJlm5UmsB8qYAAAMAAAMAAAMC2vR4kzvk1PE2AAADAQcAKGFWK4/BaR/wAT9hIAD5lrIUpM6e2PPGMznLojBYATGjANy8whpnLiFqjhl55SUi62PqfYZgecVGhNhFTjrgnmLgHw1gbWgyHskAZ+DVlZOMHOGWQHS9B5ncN7WgsEpPlrziVwyR3IrdRbLTUNpcjOV0U2zA+rZ1GYF3gWLP5Jm5M+d2N+ighITEdIuDJReILgTcmyg1e2Uz8xfQyO+bXuxJw1HtTJx57Sw+9ZrMH5Cu5TJOVQ55jtdUXEAtzrIviLzjp7UmC+YmH3/9Ka26p6NBg8fV/NDC4EKyWms8VPilFX7pIa77LcNqXOU1mmAQ7xwAZF/S/VGq+QKDY/8uKOgJ+KO5wE/HW3+kFT+0ArT3Y366/S9lwm23/SAJVfi6S093zA/rOtasJl+RDaCYvtiqdM+vJF/4hxbQ8kWZeEET1ldaeIqExIsYbmblHCprxPOz5QqVJn2ryY6Gbcb5OqdmrXa8cDMF69yAYtYqPNMf1dgsZcMJOvXq0KXWCNYt47+r6Ijf206Vi+ad1iWsKu3HVPmmcT+ncNpgKO7wT8e1yQc/m66D6t8xu1zvJJXmdWhmNngU3MSfYvxbNjRThnlE2G7TOALo8T7DF/740GuryYjVrMVIQYVj4TNttcj94fTqs+a5lnQfD145CNvHfqNKzyWtzGubLxj3ja54VOMkCiKcf3nWSVt5WD+LG7NK2x7gDtYCbL+ffbzjfj76YXB7nA+LJiGAf9dyyGHniveH2/+63G3BgnuPccMvE/1ysHCbGMC+mZwuNFVqVlLKmnqt87UAGOundtugFLypw8OkEAIhkLAt57FFNtQlSSTwwxQi5GD8Bsjy8Fd8/UmPOlOAOGGcyRTHrhxEH0qgA6+cgWa//Z67foxsPhCBoojqxe/2O/ynbzIuMX7Aa3Libsk1/4sTxTvxTYPDf7+fJwTjiaPsrJMQD8P6XcOl47TAIUhyRdXFMDcY3kopYsS+WS4lxzvyoAyCIHE3MRNlfetd+ihXMMm8bBIfjiPbTgMmxVpM1OCAEfQn++QBjxnbwoL/yy5MGEjTKVjozZcZABmtn3m2oF9gQJdtKTmPQFRvd9I7+WL7gIlylrcCRkngS143ZUEjwOiyXBPmEuVmu77knYls2WPWjbdDDeb0d/AzVA7AVo11GRjrBoZXYWsnIxFRPrpWexUgy//XYq3PIKL5Jf3YA870wCLosH9QCOytaOHvzZYdRQNuUn14d0qeezRdxgVZN+D3n6cIwI6xJmfKMA3HUyuH8Eib7vb8yISI/5njA38BSkNiYSAUrABZ7kznZkEr1hyOMYiKDyQcFCqf+kzYmJtVM10ZrXVePcVv63//ltbe+ZMvY9qMtQyowoCX7EloW+5KmqatanHiTMxvM+i6rvpL0B59HJGgP+XH+2zRZxOb71ZPesoMKdgvWiDF6Dnyw5ZqcyDXtNmqNJvYO1nyN0UPdx+b30Isvi13bBtFBrf5Hg3G3S2nukcpjf5hmXWbmJjUrKQ3L+pPezKSpQDnfOoFqliIfLZtuoWWcd5FboVDCHUtvmgRGqqCM8E8nQI2EjG5Z9W9EZ2wUG2eP+3FnWmW9o7SWZ/LsOKqh9Z03hq9WojACh4YImZToPHEh182Lm77OQ5+C+INIeV8vc5jJAxPwvMkC2y8i9o6YNDGgYoYjA+Gw6M4C8Y6wsm0r01s7RdDKc30IoQZJhqrwci9fsRI3SZ0bZkho9eOMRjEcjCn++qIc7PGT+QdnEo3tF3i6+VOTRRrey1UQrSU53PjHzgQPZhkaQRtnS8u/2209RxHePn8ivZXoivEX4HMkUwL9UACelcJjS3AjYzhk2vVlNfSCI5IGjBo1GJlnYF45RW8TmXg2vU7X06wdW5IgMlkGPhG6REZ7825ZYHbWrrnc3gk5frh8Gd/0sTSBH1ACsLJLI79ltuNu/EZOlEXW4LMSvwoIxmXO/AtreyleuZljDJZyEP9V6t19APu9faXioi9EImzT7HzCblf1C65N8joAtyiJil7B4fesEAwhsmHBgt2obbNi3WVyltOlRo0E27Rixv27V5R+Mv9jxT5ZGjVdJbZH3DP2VVfMPw/qmzcvfhLFQ8IoHqoCkse/rF1CwQdLNqh9iWu1T6ACxAJQsRIF0HoPgIGNZjBUzuc6UKlllHFvgMLM++atStEi/r65ZzUVc9ibeab5OJylYJUr8CUOBo+ISWHF+NYPDTE8c+O50Pyfaa2dvvoqQW7wKGaQ/Ok6vbMkV61U/aPMO+fKVZCQFO1rgZPKVj+oIwdZ/LXa+D7aPpl7fNQtnVR/cgv3IGKtuMOm5nqyKfSFIojG/5pXDSHvap01pO9+AzmJm7Le+PzJ+8FkFDBjbPLikFrUg8rUj8YIdCbopETFmvT3Bo25eiF7eTw1r+osQ5hUB4jqf+qPYJB2YqcShRv7Jdnf6Wjfl0tTDk2xdmivu920PQLSgaPiNmn0tpSzidT+7FjKIu/PleZgcN3SIUE+JzoJkdEiB0euLoeUu/PYXU6U+lBuTLRM677gF8SnS837PRHN+ZVNEWYCDgABKbZA6KaMHYoI+2sp4fIsR5k3XqEM0JeRjZ1V+0h/AG+c3wrhdyASImnA6gDQn7PqqNLiXDW1kuCt+8wAVZrNsypR29J1lfetm3apIwTXlTENOsnH42IMrUcA/lRcZ7gUXK9sAmPtTBQMHVgLhbB1s9FNuvJ6CeVbSwWUKaMY9vLepZ6bWjFrdcP5i5UOpIHuQhwFGrdrlWDNSNqbZrgBi+9TIukMzmnwNIJucv5qmmrc7dvzB3qEGt3vmZZnRJ1ca1twA+qZIEkRb2qNGK2TGNHFbEE9ZI56Fa1bsFpIogQ51NGxgy/JcmdHb6vOTIuEXNtSCxN5yg0g//ouCufVVNJNDqaNWsAKYfmptWbNTq1yaz6n6QCTeZSmALQu/gGZggI1blraLRWxb75ncDOoft22ftrmGLaUT1SX5nG9FAcFk/cvqmhCDOa1MDg41zy0f93jnypClPY4pp0P3v8Nj+n8Lb02N9vHVMcrQBNLCHT6xDKwUNtGkB2NfOGG2pHLBsIy9CbqNrc2jicSFb3xXvIeqJ3BqIQ/EoOYsfluBbVHJjhtoO2dVw6sOEOq4v4Bq/zuX8ELE6b0RaCYR0jMPWenJEyAN5VHpzNirzTCmbrmFOGm8nUtb+ktGiizZ1YPFhbF8v5f//0RH1P2yivaf4wuJEt+cmG7ae/tdfA4gxHqYpbZKSV7sV97YLxo5+t3COS55B2qQWifG95hFq9RsjFbOeUk+Hb7NxIu4XMi1QI8mKJRDrffI0XMxSnp1kjWDGhJWWBVs2/mJkBFNxsvU4vU70h/q3w1+y1BjYpMMUHHG+lDCkVy8AqASl+givkOF+PcdLjqdJR6EdC1zU5CNDlfxZvhJCU2Ts6RgdJO0Q1EFLZcHP4h1SuvTifUI045fw1MBm8ZS08gjK39JOKTaTGPekChApF6qwJcWrFHRRzmyQ3ah0T7AUGMtM/Oj72sOSCA7D/3ZDM5DmaT0MtJK/xT6My1d8AbUOVlMkBMJK5cuzclocjz4vIWF587D+GUYW2dag9XFeWDmHHhe5RBdTLslhaycNQxe6PbrLFKg/yrf1kfZDrHmLH8Q54c3G1tehUAHPqgta8II56xoMAUX4QBHO4XgjjQqzHg+xUU4AeSVSMjp0/4i7mF+bT9/812CJTv8wdBqO/tHqGHq/+HqGLgIUPEWsQcuJGnDiz3a4vV0bguJn+1/53WYzpfP6btirWQOdcCV50/G5VyWF88zM9xVs8CuK123KMdi6AaFiKeONwpEdRNtoUWF5MGPWZd+FYkojo9LDdVVyoAJalWXuQcb2nR8ANoM5AAvsUwoaAHagUADchAAABxkGaJGxDP/6eEAAkqRcgCtQUJr1DEaxx3RX8sgXL0oHXT36EazJ7xUDXtpfr94Oueg10dILW7umajjA+cazz2/+zmkiyErk3bZLBIgkeeCj53E79iWdeDJ014vPFgI99cX6wJrLQWyR7DV5+hTLf4X1U1L6huXfFmXNCuMrfmy/EDB968RWTNE/WPiki2XrvBK7mHss9SqpAVC2fzGEZCSs28zsF5gPuvi8UiJFG+vLTe+RELomMvcyBca8kopHMChd0j6pd+pyf35Y8QZgN3Gvhap3xlispKfSvcHiLMN0Ky/TxhyejqXcx2pN/qIx5Tm0dRx+YCyAKny56T5IiN0HK910Jc5l8heGJfRerPma1kAqnP1jhk00CHB/BxWwcxxdsReUXzLwIrbsW37/s1km/Ac0eojFW/xyaMa/7/UC8bOc4qGNgkEsntjr+VFyjkuJpyEiw2A3ZGWXZ4GyQ1ouCl0vA/EYRHiGZO326ilEugC/Evxp5dw9mJoqCRV8wMGt7ceTHsfpAG0wFWOGfzGJ2+RBO/kRjAvqxBEw+290w3ayZRzlouTutU016UPebPhGAn8gHU3xGmGRPG/njJH3skMzgFTAAAACGQZ5CeI//AAa/7ZvWLCB+kYbIYtTqHk2a1OgBFkV3lk0ccr9YDd5dFsPaRf5f+0CtT2/5rsQAmYUunO2324Vm6wXvsOI4o6ide/B5jQefofiSvlRhBC9G42WGcb0KGKiX24JqMkRG7272CFcq50ia9asIAeirZUJDyxdipleOufIghk0UcsEAAAB8AZ5hdEf/AAbBDh0uCwgfGNcxLoD9b0zFLO5lKMPNnWLwAmPRBMLCQHnvS2VguKAlYfs/2R6uDpUwU6jZzZjbDbkrt4n1FCJGSvrSuGDJwfT9aRN3wD1O2BYKr3oi6EDaSV63xuC3ilHCQQ0xtW2+1oZLY4nrKe7adoOFlQAAAGoBnmNqR/8AAAMAQZHFkvqKQcOrrwNJ9eqG4eR3WdRV1PACWrQ4Gqe6letu1a9/5k1d8hOjVZGLtAjMRbdyT57PhGmxEJMSW0Bh0QO5JLrUrz+1JeJTOZcANPI9x2PW2c0DovvsiPtiHkMKAAAA3kGaaEmoQWiZTAhn//6eEAAE2+LF3oPeY7DrIBTsARVLzkzzzBskhmn8KxZ9rZhhmQt/Urj6xaddhhnZulCAYe/cWapWWH/TROIR7YxwGrpLsIXPK2Tjp7tul+Rypa0OWg63M+SD8WZI2ROSNQigWLCkduwb8a4cCNm/MF8EDEgw/XlYN4jfL+I/lqw2vntrPnjZxUUsx2jPMgVJIVoYci3ogob20G4tHkggln2wRmbfuPvujLqUu/0VrFK39cKj0QYhRIzi3IzaoaK4xWd0gNvqrjpcjaFU7ePck+x1+AAAAIZBnoZFESwj/wABkimlFlvIZMs5jgASNcynddn8LuBow1NmrLRKTqvtJdAt5eXNxZ5l/GWJmzpPyV/EC0RHt9JRcehShznfK6pqKl1w5Tthg2owinoNNk5hOg9yVUdRPYqTm2rsa+wOTJrfhA2ZFjc0I+PykxTrqa01YnLfbhmfmZOJ9kDUgQAAAGgBnqV0R/8AAnwt+x67uUWNNG0WmFXcH61eaMdSlyDieNv7Zd1bTewTBJpoADqmvjqVE76z/u57pMxRAExGXOIgOTotupc8fRzYi7W2w0zkTMyJAg8voUoHLq1IeJ2iPoiF6u/GZ49j/AAAAG8BnqdqR/8AAAMARX6Itp1n318xgA4pr0qIshnX01DaL6AXKKFNkQkgoxU81cgMWYswxcu+KjKHSCrzXYeBNRCPHkb3+5g6oAb+EmnmsJ09hZCyGC46YSHHn0wVhzud1kxVtDlFUXO1SipZYlPIA5sAAADHQZqsSahBbJlMCGf//p4QAAADAIKKQgY8dIG6mzuhHbSiYdW6gBfLfUZqMG+6g29XiH+eN/LrEjciNSvJhO+Rpra7alzU7dwe/6MBffzLfLDQ4z33F3n97lvV3hlx7OxS3orZLnL3cxkkunPyPMmpUhS6q5XoJ2Ge+nKVyzDRmN1AHCNZhA/Svow6H6vLh0aUdXrU08AH4GG4Y5cgS96MRsQulENvB2PCIgaotb26ZD3al/PkDk/5+COT6TVTJA2/mI5sYd85NgAAAINBnspFFSwj/wAAAwAsYTYzVk+eYjRD1TQAwARo0Ujhap1cWjy5pMeO1e5JRSLHHPBvx6IlGiIzrjE+cbfSHPNzPcaB4gA9/roR8DZ+YrZ1BCm6E7mTN5qd6ITKOeGj/idLNfX/8kiqkSWZRw4ajvM4jriNLjzE83VmLzJqL21v49qFdwAAAGkBnul0R/8AAAMARVgw24rWfZet1gBGQZSX27wKWDBfZ7gCBKGwy64f3iDXdoySJ10jjRCXP//9KS4QarV2KhCZbDNIrKfNj6ioDYUCvTwjOEq63FRg9eIadlY9xbmP5Rb5fooNaXFwt+EAAABrAZ7rakf/AAADAEV+h5rjkcAnqBqs2ACiUg8gAN+aVp3rFS+Nz7H9IVU2Ll1ybSbLPaSrRwAfEbO7Wv09kxP3Tbv9VjclmJUWbfp7m+KDLR0XHRe1QWsXYk9MweFR8oTiz+Ti36AaE1XgsoEAAAELQZrwSahBbJlMCGf//p4QAAADAIKJqPQALka8x9ZrKDH1PdNT4qhKiuP5NwJoyZ6EVG8K19RtaI5JxV8861X5+YcwYtq4rlvgmNO1Fl/i9/494TXDYlTPmgeA2JnjTd95lBsZYu8ZGSmcq3RxvoSZXUaA3NT85wyN7/+9djVDDgMGVaFn4Rj0Bczf3kpEBFbbFAEfA9lEDy+KV+anrGxgTta9QztnjWmgC5rHeltv9z5y51QZiafju3VsBVDTu0PSRjpJIr5d6LA8tQw35dIiM83fHDBZayHYNc4RushKNjW3x+gMj67NTPI1y9y7tEVlxtw+2MCH9L+AFb0QUOL0dFM+2PSYJo2T1kchAAAAZUGfDkUVLCP/AAADACxhNjdHdbMJo4pJiLbRjwYkHiqmnDABl11ypmUtOm4I/cZ90unXLMPWPupM6ml7bCgfrSL3kk/vOSe8kL2cIOGJ5RFCw0vY/egemQJh4UTFpNjVmJjHLTNwAAAAewGfLXRH/wAAAwBFWDBF3gCZJc5aE8S8DYf7KllvfmQALePSu/WIDtrSJ/UcgWrAKmK7xJhzgWTfA/x2WT2GKGg5SMBo7f92fOUgenfTtmJSAkfWfrhoZxbHBQcNwxZf6xj6p1OM9SFQTESwLsgO0ISBhCd4yIB0O3aLKAAAAGYBny9qR/8AAAMARX3tVYtcb2Ct9IJU/vkABbJFzpZh3DI4BxI/hmlAfaCYjzopdGq9pzZG4BQ1PowBfxnPEL2sY92Rt11+JP5Jb7j2f56EjQoGFcuUKFB5anmsahEpYc+z3t4xhgcAAAD2QZs0SahBbJlMCGf//p4QAAADAIcwaptAFQY1x3Y74e2MbQUnJ9aAejyLdJFEy7S/OZfC+bVcCycVj4qgJdni5za/L5t7vSvLr7BbiXbDhmp4UQjwrOnGcuv0+fQOZwPezYUy8NHGZ7VeccmQ7sgnUNfGEYX5xfPTRIafj1ozuM/c5k8clS0YxvGNMro5G/FciW66Ols+nSP/56/zzn6j4fKol0Lf9+L6c/A92r9L36RoUHlgY4a/lSNJj89pDvfs+w7dKoZOxCiEi7yNSTWAvj02diXAgrvrzvNUcnhL9BckmE6mSROc96Kp1MZ6FVSxjpgbqh7QAAAAe0GfUkUVLCP/AAADACxScRRnEXBO/mPBR9LacALW/55VCZo4bfctCyooSkgkpbQVFVBa35JbW1IBHdonkeRL9Jg0ZleKKYBz/0VEio9H8ypGc0M6ej8bLgO6MVWwXFvC8NHnjMbjy0jIHykgG1A6kpbGjsIcRGzVZvzsHAAAAGEBn3F0R/8AAAMARJaEDujhsiMMjJpRx8bQAAF9p+OtEZxV5zpAXN1GbneltP/r3A5OCJW/c3x80aKqPLF9lZeB1E4Iey/xk3HYJZu3q7kP9qY7sT9B/e8FSH3u/cL115mVAAAAhgGfc2pH/wAAAwBFfcUXqfNc1654C/kQHWTInqYzijEACwkpjGbmYmQMdEdkhz1HwqQvSSgMViRLIDjc3MoDQcR31hLltX7Go50Yf8tu1xd/8lOPn3buGH4GvnWM3EQSRPr/jeAaZ6s7PJIk/HDlNnFwr6yznUnb4XO6Ehiej5XSiDSsuV3BAAAAxUGbeEmoQWyZTAhf//6MsAAAAwCIHEUdwV/qUJlLb0ZiQKPfRWVsxEW8ysPW52vxuaGpDDEXCrrJfkhc/NIMT7Pl8xtgpp8EaMQ7GUtZ/h8uG27Iw6LxJvUT9BzzbghCoGItLol/Q1iDEC6xF5WRto/hbz4nSIrpZD+koyLZjcDJ132XSPHxLVzjwS45yVG2d5+mM/kUE6YOkfNFFwRv8jCHiPk3cDusz1d3SGbZfQvJgkHd2yHb7zee98Uc5yWP+5Hf+qJJAAAAe0GflkUVLCP/AAADACxScaus6Wa8D0UyegNIiXm0h/9MY7ol0Tpu5mqD8+mCXACWQW3TyfR/SxtJUx9CzksifKSgWDPyLFSgwSr5qgl39F+BeUZUVr6/+X6V/9Je0mwJFxqU3p+i3SVNUj9xYXA8jifKS38fI+7b+gi1JwAAAFgBn7V0R/8AAAMARVfw1mEbAqP2o8A/925EFyOHm2s9NzDKwaocNjjLL1y2LxOc4IPGMm/hQAAW8g+fuHegaMjgqKU//QkxeO5YWmF4bB8qEIUo5s/5P96AAAAAWgGft2pH/wAAAwBFkardx28Vq/sA5C7ma0+XrVET0e7D4vQs3InmKkuTKrqBsSjoxByoKGoAN98h+BFL5rXJZovZNtNZvL9IzajVOJLuQHvkoSEYOmdK2j27gQAAAP9Bm7xJqEFsmUwIX//+jLAAAAMAiBy4IVCUllqMAHAv2TIhMWWdTnqLklycCKV5adUeLkr3CTKT/AHctCDFMtMa05ZWHvL+JCjABbv1o3SOYXPB1bQ2LhNgDRhvnK0xc+JTnkGgab/qc5hRev/cjMD4RmgyFHdVRCIQ+/1WANt7MNfipSS3lz8LHsZDr0IktW1HgIsA66fgxAkPfY46Uunfrq59usUqzXi0WRDXWN/XkTJiuwguvTytnx1bLEmUTAFnDMBMDrYOX445Y7TGzuZxnfrJD7VTqWxamgHAgwE4/rl0CmQXrurGLeWtlm1+tYM62276DMT7JhUg+O6zTMAAAAB8QZ/aRRUsI/8AAAMALEqGDjSBIAI01eQxR2giEKBG/2Ty9gukOb/hl0OKNtBl/Ur1l+4FIhag6VMC8R3qVabmQsT3U1awmMicHlGj1P8ugBz9FY6qT00f9y5Mkwd8afmb9AajvmSS/ITNl253UzKnIY2rwO1msHXB5ueHMAAAAFABn/l0R/8AAAMARYcg5PSfz1mC0FY+tuAr1XicEI4yDIYH1ABOoFhi/cztiuaCcmmZj8YGnjLXZ2f5D8OWHxkoPmTpddRl6bTEDdc+elDNwQAAAGwBn/tqR/8AAAMAQWP+RY6yQRjg8XDrYX72P5kVxKr8fm+0AJqUVXPTBQGjyQe/RnSDp9wg7Ihi+7TidwqC7x+1wHfoeFUYjDIGSBOrqd7v8cWk/VG8lEPq7/5aHEx1STylL0Nb6QGEhj4ltmAAAADrQZv+SahBbJlMFEwz//6eEAAAAwCG4kcRAA7Y9ZW8dGZwG/MSqo9gEoMdVsi/QfPWCXOHyl3jl3WYM4GdtMZOi5FeMQ5sDSLomh6zUvWwCcaGObJxI97ax8xaS3LsD0WoWTnJc1sttlX0BZ7ZuOAaW7yl18F76/RLaIWJlaxdyLQOf/HHfeGwUWbj1SkDHFhD5LyrUey1OkE2sl9Yu1wuu4vEMVgYLKB6lYFkH81/4nIWt3s5M3N+nLWJhghOS/I8PQChFSdWAKMeTRxKQlZZ6rci4GH4XGahq8zJdVa+SO4lIpe4Ob8OSUP3oQAAAFgBnh1qR/8AAAMARX3qLrQxdBuud4fwZtnA0PCNAC0ALd4/ZcuTUDndX+5gm2X5Rj8/8k3u6C6wZAOodaEe5VvSzb/+psFyDjuv2gwV9RiGs8c6HnF4svvRAAAApUGaAknhClJlMCGf/p4QAAADAH7uasjL5PgARfYWw9soQUUNUG4VgMm267eGqdrhpW/imyy9YpFTbwRhYiH/O1WC6WptfnqyaAmUpDEEYI1i+svRP93WnRmbv6AZQG1nSmA7YD6CmB6ewu4kxNrejW25bh5RDpJxLJKuaV0Y9BIaIFpBRm54+fzzFU3uMIQkOcH55W1aA3xfGXa3b6ODA3sT3Poa0gAAAIFBniBFNEwj/wAAAwAobsJdVuyzBJVw3VykABz4UnLrl1Bt3/uTE1HxYyVGRfTTRc5zm2gWuKnAkwqUBdSXBJ4+coa2yMP+YZ323MhSYqjhiBG7cvJQJ1RechMdMtLXIPenngJJySL2esF8zPrpOD+f29uc06J6rvea/2YdYWSoCgkAAABfAZ5fdEf/AAADAD9xUK1j1G9pLvqAFO/gAkdc7HY56LpRFB6zJmo5jX0tC1JarJuG7abTY6vzpkhCGKTv3fFtvuvSE4y4wyAOWmWrd+ltUcRAI3KBYaXJgoYTGIX4h8kAAAByAZ5Bakf/AAADAEFj2BlO7bxEm+3gAbQKQ+T1YX7KtiDNNhjAt+JyNPeqxWSNvhTdpYj3vHEHMyCf1WPePvZ+khH4HVAjuO3gMDBFyd12Q5no446k0AnUDg3Z3Q7I3hKWDa9Yy1uBpWN7ed6uHo16zrJvAAAA0UGaRkmoQWiZTAhn//6eEAAAAwCGnMFyrvgAQ3wbO7wAh8CfGIP/29brrh9fQHIukAxFw9ltSCst2GVwBnOUAy3dj06l2OlvVm04Ye+IIVBPo2zFAKvqgFy6WJC1d7gZMM6dLNM8w17Bg+OiaK6MAsFkOe+i3cqEX90N0jvYyWlY1LYnH8AY5yhrdODe3sfc2v6ySHbxlLZmHonUQLHQVFTx/5CWNpKB9iVFQKS4a/24Edgu5F5H/VSbm/5hsacmN+CQXSYmf4gAuhAZfi8y9445AAAAhUGeZEURLCP/AAADACxYbvCia4kAEiyeYZWdmsW47HH+nrA0o/6JgQHGE/IR487olBulYAbkkX7s3LZUBI8Mjunsmj54hS/J2/i7nQsE4JNKR2F6zxvRgvnt8AsvB0mLMvA2sF1AopRwVMitaYXNJgZKh3VrtotNY/tebJQBCEiUd6R9QOAAAAB0AZ6DdEf/AAADAEOBOD9ixzAAr/f3Xm23w9lVONKLDRbK2gmAqNgKy1QObq9JcVrOL9jgq6Qp2CZxrgUnt+6i0wqpywGkV4MS4ehv3W1EIXxhCWiaGQnwTYrSlePYTjPgiV+YUZSP906FHhnALKChcaKZ+LAAAACUAZ6Fakf/AAADAEON3GmCACY9iNtTtfgMV4SavtHiS7DCbHoyIHenGaCvZyCb5oyj/jezk9fkP0WLVUnQ2X9szQypNVcyYkY4dNppzGcL5nDWCiz7+RkhDCx0SLIRQ/925me3NJ0WZTReJ/4rrsMF51XSlnRk8kn9C8QKMkZprKmTLhRaZSqeBkaL2Yo7rR+uA6TVQQAAAQ5BmopJqEFsmUwIX//+jLAAAAMAhEmihzLXcRavgAp5hWK77dYkhQKZCP+GqIZAfzI6tzsyjX51ZIlfgkMlKQLMP3aqMmsvMnfZm004Gpotd6YvCQRYsQGfwTuEP04QC81y0tU+Usge3PDtMy8yU8TSiTrRpE2MR6PC64PJMrWQ1pU9LyMqpMtAa9HG2V8MkebF5GOHFMD8S2UyrUAfON6MhfMBAS593lHMQuJcBhiXMPg1bOSV5XX3YQndHtOP0/3+Mt6aEShoA3tAX0b6lAzXmOmSfLYJuv9EMepV9bs5a3Jno24fEC9ZTPVTipdveSHsGzMP/stmyE7Qfs4ghzObBT8JZaxMlbhIgAcMz8gAAAB9QZ6oRRUsI/8AAAMAKxMixoSQAEXMW0hEldKXyDH83V1QL9ANewuXZ9QfvHfJf/Ow8x4+93nVV6PDiT2790KvP4SRELnt2+dJWuoVvG2YYiiytA5VlIM8rPwyIJrNpO/ickt5Xeo3ob8u7nqL9bssfZhzsGQ1gcnELIzM3oEAAACCAZ7HdEf/AAADAEM0Xhiign0oOn6AETF6NNwHI+evsmfxFl7rMDvv+BkLmoGfU/tEh/+CxIkNOtWsmoTFmx5yIDP2zLnq0eaAz2L7ejFe+OaFuqRkzglj1JZ94izz0rAg67FN8eFpTfSqyfKMeRB03CkQHTAqDyie4sKBeEeE3B1/QAAAAIQBnslqR/8AAAMAQyQgG0HG4AAv9Z2Uk4O3/HemBUJ9h3fBTFARoR+fBd/+92b8RMpWkVHyFhSle0k1sDiaIwvINTQ2ogUWf/1FNqt95n6JVDhjmWFxY0i5xq+pIKhyGKqHYA1nab7ezlWjcDOnrayUBFy7wJKDP0qMd4vj0a/EQigjQAMAAAFVQZrOSahBbJlMCF///oywAAADAJAPcgBZBUY9oRC4ZEnaPYwf5Je/5tXKItCsZuv/yzJ3+LTRuxwyKP5E2uq/gD6xTuuUnXzWsHhGZ8a62Rrg3kAuBRGVwwBmQcyc2QmdzWdQr8WktkUX2iMUPjRQIjIBNkJG1JTm2zdpEb2tiWrG0LLlAXCRcsZBoZ/h55ESC36HijyyLgTkDaqRooTvr2/jrkh9axYRqeHk/LFvG5frca7HdDZd+YXYpUpVQdTtrABWv8YS7/btnKbH0CvQsqQzDBrRt+OoZlEMu0LsssmNaX7vBo3Fpc0ju1IYfoW+Qr8QwEw5vY5ZRB3Sl79jWP4DcTGoXMk/+Vnkj3ufuWY+wKhmjmvryIokSHAJu8zxCEAtLiVG2LqGuR2/e8mjEdB5f0aC9HUTXXyYr5D+ju3eLehvY3Dz8Mj/ShLz5Xu9rKx+ZkEAAACVQZ7sRRUsI/8AAAMALpiHTe4BJqJ51hVCAAlE1OQNQpz00CxP7F6AFdMRAtGiotZtLr3W51wRXQly/2Who0pudeCyHizOzcZcyfcbcqpAGxBiUFUaX7qSQ2CV6mvQVmwrk4v+vQnVdHGuSPUdIk/Mh89yEueLiQYKUUKlCKdDhboMsF384Vkp6dm2w2kaTeWv0EwhBWEAAABiAZ8LdEf/AAADAEWFuD6Ci/SCIDqMAI9gE211NP60554SeycosowT4KSSRnZxTCUepYADIzsltWsQI6Y//JvFWf3SrCUNb21PxHBLuI6wI7bjocGzc4VKjAkLcJU1T6+YK/kAAACNAZ8Nakf/AAADAEl+CbfgDiWmDJhnSq/Q+KngZrt/buJUVQX7P3Gl3vY1isemF0jdf69zT/cqaaqCrf8lFgW/GboGOQe+77ULEOq3RSE/Xufk4XhQnQ6MIYd2ePnUIWDca5fS6Y7CxIBzeJTxithLL9y97ApYXSW0yBBu12H43tQX2EqX9ZYx7bcd+dpAAAAA7kGbEEmoQWyZTBRMM//+nhAAAAMAjqP+ml+szVe9AC/NCDoV/KZtiS1wTCO5oiNwkIGl6ktCCtXtDub/4XlwxdsQP+KoTbHthpJ6gaphak5w0xvx0pL8v/6KH9v3PDgPXQ46Nt9dGASnvsPnXw2NU7O1c8U52aGyMptqXjtuPvyOSlo8so4/ql2A6JekflU/DJsnJ29t4Rf4nMmEKDnPIWfmNyeCC6ydCJ8FCJr/4e3A6xUQWUsqNE2+3bAdBpBrnwMURPeHfELDkJG7gNKyooVAY+RiIoEBtHnDW15I/sd6i4durQPdFIFraa/rI7gAAACBAZ8vakf/AAADAElt2h4AW31y21ytMH6a8nMg4zAUJ/RzJBxm1I4glwCnxKwDI+kkdoO48rHWjZ29TdzCPEFyHhtflyj6s3EF4GG6KxrK4Vj7lqwviskbIXK5Lv0jMDx4w3ytkeJskigNq1W5TgrYlCqtmnNOxEtp4dXfFscumCnXAAAA10GbNEnhClJlMCGf/p4QAAADAJKRLkAVvRmNaWt3xu03nMYOmccJgWTyQU/WV3+Mo0Aqp/6WkV4pDtjcXem0dHcDTNT//CuNKzJZh2ASMplGaQ4X5IxVMxeiEGHN4tzqaSmaSbYfAnR2ZH5T4xP0jQ/jTnOmb46Hhb5yzxoFqDiDUZl8x2Qb93b3CcDmLVavf77imv1oUPBbL650Bpjt+SzL4NIoXGX93FDVh1Bu+LsSo5wrrq3gAX0LF5M5tRSegXS44EABDuY35QHPiuuZ5MR4Be4657swAAAAn0GfUkU0TCP/AAADAC/TQ/afQAt4ntSQhOOCtYGOT8V9v62e/QlhHVZ60R3JWxrfwbNvaGjGgHM4Bh/dsslzMXUGsd6dAMawmnD206pQFMlcAQ1prd34UjbTlYIShCa4yNotznxr2dN4u7oHcgjSeywbBFvme70ai7Iyf0ZAgfQLulGfSTl8BjbfDI+4sRhdaaHNfQ+eKbNLl0buh7CZUwAAAGEBn3F0R/8AAAMASa/oAAlQuA5w38Soj1jAbQ3MpP8oJSjmIatrJmXFTorNwqL4wMa/PfxEYX3noo9eCYyqkpdAGVrGXJrX7Ch1alce48RBVsZyAcRbuwNSAT2qDFdOfvSlAAAAfQGfc2pH/wAAAwBJq7UAFvFsLBi9MoA8F6YmDR4G+FgPFrf4jFOGmxzVOmswcyHaFM9Hq6yjObjacyQFhPQNpIlE9/+Csg7UD9VJmEJcHanQyLKo5HG40zQeIU1WYOJrUqIOqLk+8892sYCr6FefF8sYy1WWvXPFC3RQf9HBAAABB0GbeEmoQWiZTAhn//6eEAAAAwCSpBCfCeC0a8mP5rNFqoQgCFOeJy+URrO3Owzsi734WW2ZhWynEAHWQWnTD6rbdTsIgX2Fxwm5srjzZqLMbpAwwK6gQ8kfeMccsTivXvtCOLnm0dtny/QANcPim60FkKqVrZ+ActPyhiIJmmjDATCjybUE1E0vo0z8g/7MOtHRRymRyFah9AIwu5pnFzArFNS1bROk7xc34UZtue/Zl9AeZ4+lxX/GJ5g1HffCgYTvdsNV3kg6AfSzfKGS125yGrHfokRcnRzKv2O/HwmoG0ex3YMKz3ojtw7uto3IeAnFko0ap6P5d2YSyVy0jhEMiD5vZZVNAAAAXkGflkURLCP/AAADAC/FlR8Qsyp4XATGgDxzU+ahZ3jhGagUF73QAWugv6hmaw0UPRWJzWkMse6RtJzEp3mUqDkmoObBhJiIPXbUlO6wgphCZ7ZUFOl9E97IdxEsDDgAAABvAZ+1dEf/AAADAEV0oLLeleAFItS7DmbaPQi+MAJUReV9DGT3F7jXENZuqQEw6toUOnX6w/+7IEFwQF1sQtalj6x0QDG/t9ci1JpNqlFKCihcQ0dp8Tgkb6lJUePvJ61DyO4By88cxp60iMNpoYfMAAAAfAGft2pH/wAAAwBFY6EmALWXoajL88oNM60PobY2xcjxEoVTizDJmdzscxAq0v2gdEuZk49+CvMjK1t5gsSsercJh11kBT6O3WlihAIJKepWgb+X0oLPbvDyqtW69HMzFq8IKDYN3V/uuB9BIrf3od1HRkYkbY9ToMDgXu8AAAC8QZu8SahBbJlMCGf//p4QAAADADcj+BN3ywA//F/Fo511gtVN8AwEkv0p3JZCWKLwmoVnoSB3cHSIZNha+sZJOY2ly3btFfXx5UYUZX6dEQIOYinYW1vb0NSTb0fhzwC4Y3QrUeZ4gHlFU+nNvgNSsYUZoB2LxUE/qBRrZYKpgMVMRV116JKVKfOrz5WQDOQww0WhVWfp0rlIacGKKYOafscp/LvwCTurDQiOeegN/zQgtc8AHPipVSKYtLwAAACDQZ/aRRUsI/8AAAMAEeKYuR/wTYASL1NuFpTduy2srM3sx8T5WmUkLHGQV2VHzs3GXrXsZ4QWNsp+v0Ct79GX6DNw5CzBggtUXEi6AGIEWA0CqdqL6Ysx2gNNQ0KwzaNrCi5ikM1hSD8ARs1M65L00r04ThDEjcF6saQOkXapkubBp7oAAABiAZ/5dEf/AAADABxIfYaj4wqPr8pVLUavqW6BCXJSdkH52DIAOcLr+deLwPuscUaeQSx/t6i1RsshRd9G5gLQJp07Ox8hTTHCpkcxTWuDJJ/aYc0hAHeHpBRdizViugtFNRcAAAB8AZ/7akf/AAADABxXnHLkEz//i+gBT0pp3Cdd7s5ZhYGJ1grCfVa1GPP4cTtS1j0RLV8rKTTM3lB5L21vikXRyrN9Xm042N4rVlPyo2r8rEK50Eqavx2fpI5+9J9+dD556472g88N82zrWSLYfy5Rx85QYAKSNyVy9uqFMAAAAIxBm+BJqEFsmUwIZ//+nhAAAAMANzSuD1JvGACt+vBGjJRJ6bR1OHpSsOcbqHbJjIaiQsdnLzK+vitRVBT7Z+0NhJK4Z09AZrO/feUBOAVzCs+rfJ9xut7TkncL9dzQXEGJZLllzaBvbw3oiz3lleoKrKWRj9rhqgk0RBSTIX1S8BFT0CqVO3gKAzg2fQAAAHhBnh5FFSwj/wAAAwAR2DoKKln2qDMAC3Ertqlt5ubOaRt1os1A3I6aD2LzE9t1Cu+8DzY5uD2XpOFETjf4iK/lpfUhcVQ6geHEYClgq9GVMQxe+v0+8C1friMyuRXjieQH4QPjra3Zw3SHERKqgY0IxIjfjKv544EAAABgAZ49dEf/AAADABxIzDjXuagBKpcZy2h8NbFXHwBwyEHfcpaR6XgsPKyX1BnL7kGd00JsXJzRwbbElxVpnDOwn+A4J2psocXfjqKgfGnoiyUhBDUENkoHxPaKTX8tQTWAAAAAUAGeP2pH/wAAAwAbvrhgA48yGwhgNQA8lIjjzTNgmJ+Axpcg0K4Yl5z7rhFRKkD66UL00ZjBiF02lttVmuyMwvBrBdd7ix+mB+NNUh0/ExyxAAAAs0GaJEmoQWyZTAhn//6eEAAAAwAyNhB4HMwgAOC1jaRyzXQ6Y4Zwsc5KlMLQLLxfjTuS/PQARR362heEM3shVxkslrOORqcbHXwbr/9DOkJFa1OAIFxKOuPNDigHXW2vq02LNZtyoVplDBgx4wLGTROQQMm5V7bJm7AqewEaBwgTxGzkpZRAbqFEM2GmDStO9ymVPUtLgwJi3X1WaxMV6FNjrh/tUzXmjBe1iTzsLFo9ZvCAAAAARUGeQkUVLCP/AAADACohQKQfYhH0GIKwJHp4NZON8Fq0oj489QAA7MTxRsJmRH/tUVzicXm3LugNqPh6Ul2PmRVR73wUgQAAAFEBnmF0R/8AAAMAGbn+beSjprEuFCigAON2rWxPHHG7fEzj/m88QB2laJKkXP0mdNqafmATfOaC89X0MEDXrBavSRuSet3A/OwboE2qoGd3s4EAAABDAZ5jakf/AAADAEF+Pw1LNcYrwasor4gAud4twdlQUdxZ5e+RCjPk/CpzeLfmDVeDhynm2lcWMLzxIr1XCNGyQeaiwAAAANZBmmhJqEFsmUwIZ//+nhAAAAMAf3hOkofUioAJx4Modvi/b6Hh8UJAnUvVNpu8CAsT0CzTEEXmXgThSOT/XgcvqJCe0LcPAHM7U4tz3kCZuIjnfpnIOO3nHcGYFOaBdqHld+IbmcbOe6tKI1dZqueUhCB9TocfvPPsp5soMLQEnriV0JovYBJQjT2kxf+AYc0DC+ymUw179GMsevDbgtVoAmR/zh81Wp/+ZdmM2ugYNvAeCOUkIubfesiothYayQT3KWLU/I7kQix9lhiGAlqyWrOlx8CAAAAAWkGehkUVLCP/AAADAC14wSf+XV7Bs7wzp2eSRjbWQKACEzU5yrNIhQ3BwAtlRV4IJ89NcvLyD4JCRqVIIPZYMJp/BcS8rj64SRhd4lFxX3pn3GAA8/RMT1/UPQAAAE0BnqV0R/8AAAMAQViEo0YnWbZYFPcTh8YQAWzsXgJN6gS0frY7Dxs5J+nbAoqy3um/cq2bzazXBNN7fbqMf3ghtk5cV/Nemucnl942IAAAAGkBnqdqR/8AAAMAR36AySR/eVyFgdywAlRQQaL39zBpfiwMJh2ufRA1uySbYuleT176ldyBoIfTwE6ZjKsSS2kRaWOPK7S6ZlUw0sWrBzHYzA1aAeTMmT835er9FeOSho77R/TFw29841MAAADEQZqsSahBbJlMCGf//p4QAAADADX0nqkokAoi63W3/xNze7jAEQsqyychPRkVD4OAOYmhpQ7mbjDd/cWGIYiuhc7gbJ7LM7RklNGbusv5kAJJsKxmWlB7CGFG6Y1DYkvffuIB0yNdVv/T/UuOmYFf223xz6uN+nssWpYLbff4SDa3iu+TPDJiBm0KtH+2Y43jX9DqFT3+5NNJ6clnkjUoPXfPF3QBBCMjqz1sa5f/k3x0xNw1VIV1GHSpcOE+ngfSfuCCYAAAAEdBnspFFSwj/wAAAwAtgUChcoQRV2Ae+e0QQ1cLx/erRD6C7IoNphBGTMABwTNpV0D5A0bzXZC9w6IKHt5uaDATjDvwW9DLwQAAAFABnul0R/8AAAMAR1iF+uuACdu6UyuVnPrb6+jLqNVz06LYgJq6+d/6faNIGIO5qeg2DURq/0MuBwT3D+y6Qgo/Xbg+CVWkyhp2TudLroe0gQAAAEgBnutqR/8AAAMAR34+fxSv+Yc6XhtozKwtfT7n2zjpAAHaFi/nXtn8oHzT0/90ufB1oiFx2rShRLGUPl68loQI2diX1tAUR6UAAACrQZrwSahBbJlMCGf//p4QAAADADOfeOHABGMKWkElXiCUp3RhvbwaZvDV71EY+h96Ac2rOViu6iPOk9huGYXa0ZSZDHM4FOpghdh7IyIqqrDRpoQN1ieOTRyUMNeVWxRQGE8ymkR2A/nFHTsfBxSHW4IqxZtfPXsvWTaiY78UwEz+50YbRgGx226gARjz4VRwrN5QOuG2P/5IoNo0gjy7yfzWiq0wqNkWCES5AAAAXEGfDkUVLCP/AAADAC2BQIQpWSFJk4gLmwpoAbkzuSep7wlMHL18hIDCVHAsmy3q5xgzMIeWlDDbfCUWCRHingsrtE4vlRhHUcMJn4CTb5UL2JbSg5k8HFh9J2TgAAAAPAGfLXRH/wAAAwBHWIN3YfO9hVJAJioJvHeAAOsc/E/EjY37Ked/p+sUIzCRQ8ErhToIzp+izvPv+VO1gAAAAFUBny9qR/8AAAMAR34+KQ5IKs8Sj7nQAY6p5tUgAAzVBu6o2d9itfm/9NIeDTbfKv+zVjPyFA0Ijnq42a6Haoxd1asIxvESUT9CxupoLNt1ruQn4KxLAAAAkUGbNEmoQWyZTAhf//6MsAAAAwA0Bb74msALC4uInZxvbCwxjpTh8n61aE0BPFLQ2znbJiaF+kVswgY4FmdO8NpKiS0N+SrMqQm/dFPQwyM+8mcrDBfwpus+6YKonUHdv+IjXfOtZr5ocsgZBmpEcdhTT7vUoO7xwDesMBQRpcyDD6S0EVu/kI9S4uo0XKzojYAAAAAzQZ9SRRUsI/8AAAMALYFAe7vReh+qkpsavZmjQAWuefKWdfTC8THFBZkQRz9DvZFymD/AAAAAOAGfcXRH/wAAAwBHWHzZGT60xR3BTTw/LaYAA7QtqRHE5vNOUISytI9sDAsHwxDMBlIZK3CuW737AAAAQgGfc2pH/wAAAwBHfj57V7fGI+crai0VAaj9A7jJmiH8YALj0gf3Za1ELvk7hZ1I57FDAA7i50BWfecZw3Ra05ka7QAAALtBm3dJqEFsmUwIZ//+nhAAAAMAM3HHnABGLLt6oyATWP8IxtE2R03n+M/zpUebps6plJFMoZ70WtD3WUh0wJvB9Ed+PnVGw2x4udJV6pheD6HyAD2+9kWqIjj5dvUP0Z3C5WaiSYfp6XBclR/qiKF1xgTLNCoCD600gBX0VbInsrPGrKTy6o9u9rs4+JG51y1KrBxrd1zoViSmnNorXSSObNhcxb5G2gLI/zJj2Askkb1B20uGiLqhRgYNAAAAU0GflUUVLCP/AAADAC2BQHsq9YXACE3nenJLXtxYUa9zFdisUzObkA1AvGhKG+rabKnxWdrf3l1TXwRuBjTDwkkhg/xlpTv2KH/NuS6TEbOtQumAAAAAPAGftmpH/wAAAwBHfj4vM2/FwpiyzLJ87Ymy7AACF75R8Hd4a4WGLWzR46QbFCjih3N0Ga5L54Jlqm6jQAAAAKRBm7tJqEFsmUwIZ//+nhAAAAMAM6SjxOXgAjGrazyiO2BQy+cvnZ+/W6x3HOoVMLfx3zTzkB0S6N0GJ1NCY+uE+INauo8xsQS70QQsS9TVcwJeyRep9wVDQPimvAMQCBRd0ZhluN3X8qv9TAGcly03P5FUs/uQWTOVENWhT5rMIskv0rh9yrkh5Z1SWkNy96tC1aUBrHPe578jo+dRxeUJudnR9QAAAFtBn9lFFSwj/wAAAwAtgUB6czGuYj+JlEuGb4z3sJD7ZAAjWK4mWuA0UWcmNhKpFluHhWf+PFANsRv7uvcJLa9vE18c97j8MWcQrB8Iw/Wp7jc4/+xM3HzA7Sw4AAAARAGf+HRH/wAAAwBHWIN/wvOY7l/LrWbya0YHA02dPpqoAIaRPG1KW5c6sLvXR8FGxtnf3gPgVg9k6YAYNHmvLgtpwWUpAAAASwGf+mpH/wAAAwBHfj55MOPCMRX5BvVr8UR54b8HKgAhNvlTHsuP3W6KNCszZgzpJehs7jfXSakVHrEu+yLlkROpRxXW3fvadOCnawAAAMlBm/9JqEFsmUwIX//+jLAAAAMANAPoMPm1PWzdKnABxZzJcr+Xn6kMG65SP2AQglQxzuR+BoD0RSQ6+v/KljE8BlUz3iliQCwA2LdwibCGGZJAO2qKuHGKjiMYvumo7swr7wUyYkvxd7WeYcADyJY1eeOXiHuhdp5yc6K3+CtbdVIdexwofpwiw7bkdi/obbuaWyY4Qul9uwHzbuCxG5J3ryl6RTCWYkmIqC9hTVM+n0gc71ThMeMYlD5oaKGHqALaxboiq/I7ySAAAABzQZ4dRRUsI/8AAAMALYFAcSBRIIA73vlpK2c0MaKPH/+SQezoAbD/ieE+v3woyl+35ogKMaLuXfxCyjLeE5OKCoWmgG6OaMwufMrX/nGtNKTjyt+ayymKhfJQZ8raOEZ44TbYZts5Bh5lDnnfp+Ntj5NvQQAAADMBnjx0R/8AAAMAR1iDx5XpGLpAFkEF3+ajEADZjjNR9zO2LYh9Abgh+4auWqmkMhITSyUAAABMAZ4+akf/AAADAEd+PjIJ7WkElzF8oyU5apgNuY9Oae4ABBkzu5WpMPngOXpucSBez0SVd0UcKiPypbpYt2Bkx4f871y6gpZnDcBwaQAAALlBmiNJqEFsmUwIX//+jLAAAAMANADYm01owAir288OFaTkhCw5Fk1YTXoABrVBUsr8mX//YHGTU3DLt0VV3TzNZ3VyeLbzmrJKECPxn1W6UjVn6eslRs8G4yGvdyClAxz4JZVwgjydC3zc1J6dr2HEwD/XEer/rC3r5guIIHMSCNIh2uETvenBFDled/ufBlFFKFpymTCrWNR5HIrW62RhHMyG3BwplLMBKjORL7HkG38sr+rbxqxDQQAAAGdBnkFFFSwj/wAAAwAtgUzM9vFw37HWgGLxUm05KDmrObVlTIlgrlRz0mrS0JhV1TLowfKHum6wAdm04CygEcYpdKu9B5/1cxI6ixBDQ9covfWFm4/XGQVid9uasDY5+2XLclfRPoUgAAAAMAGeYHRH/wAAAwBHWO9SQqy/j33ZYLY7+521CjyxolQANp48rBNbUqGfNMbab/b5gQAAACEBnmJqR/8AAAMAR36AySGWUaaVTvivSEymCGW0MJIqtTEAAACuQZplSahBbJlMFEwz//6eEAAAAwAzqjyWQADgYXzPuvgiTz0/NhyHWvZAp8gGbIhDqJcjuGOb0VcAMFOSC/YOQ/ge6vjuLoRw/w+LD3PHCZBbXnOuHAQhbcvV2OP4dtLXb2raaQGX0k0cUKbGSCDdlqLIunLwhIAYOdpAX8Dx79JbNSKSkebj+dgsCb2A/glddm0cuE6uW5i+jnZgpvhKqKvy4Qj3BArDYFt96w+AAAAAQAGehGpH/wAAAwBHj6w9SU7DQSnm3L2i93lvbXNQ/jmZTwAQ73iyQD6dVwTjj0mzzolEM4aCULPEPBKyxszWM+AAAADsQZqJSeEKUmUwIZ/+nhAAAAMANPrn5veXaJgA5TslNSgxtO9G1Dg9Ei2IRBVHpVVNH9uMaAW+RbiEu5u+SxxcGzD6SDQrWerF6ITPaJa8R7YswjGpVJ2jpodgq4+6hU15utQJvvfJUhn1uM05Pvx4EUKudQuFwgOQ/Ko6fwJEfxnQce8grFDVm7VBDsKXjfUlb+G3FWn8KUQH2AjLPxTKp/64mZL5wrCnFH8hxe/IFK4TZmIYGfAHPssMlUeFx67Xl9vgd3HhEgB/l6IHMkyGzbLlt5Vslxhya1Km0qeeZa2veQBCIgZ4eph6w+EAAABkQZ6nRTRMI/8AAAMALX1WRQPDuBPkGKrRGX/lVhmaJKMQAHZEF5MLnV03wn6VWqOEdCT4EungnKBXy809fPMwv7TY5nWtghtjDmnLl+p91ejyiEyiV0GPzIGaBUObExFiQXfKgAAAAEgBnsZ0R/8AAAMAR1jvUkM+0VHgIy587mqxx+yieigAG0Bpv8lfvab76aa/KynknDgQiZSFOhQS82csJlPhWMRtO40MmLLbr0EAAABNAZ7Iakf/AAADAEd+gMjt4OYIk++Ht7E6l/D4AQpfAAa9mboIIw5rNoXAJdVMw0RyRG0Rep/al7zppph6/19eugbTdSIO/7Ue0ZrYwj4AAAD1QZrNSahBaJlMCGf//p4QAAADADcvOjAETHzaZCsF3NCNMLfU+20Py4hNumkZMAP3U+qpE3Mnktv0H+MEbUcTsC0Z2LdrvvvHHM5gMkYiR4e+oRSzlSBXozPKwkbCklcTCkID2VZdgIk3QaGkaI6B6xsdPF7Y6sKNw93B1qDvhOJpwJTlEmnYFpqwjcROUhBq35yDpRVf70iHfAzrv79ZcrxmMjo8pONb50Gke92rNEvG8t3+d83t7/5MiEoJc0V4k/S4X4UjmRea9ldUy8h3QEmuIF0zUii52B8KfW4iCbP5LZU7LXMcj/sbaN9eMDXSY2Y6IY8AAABXQZ7rRREsI/8AAAMALYFNm6MjIanoadIBY9pJAAk57LZ658ThnZ/ymIor0uVxMFOurOBK8cEmyOf14R3fFN4KiKhPjewny/rEbOBxsxStPlEJu7z8ENSBAAAAcAGfCnRH/wAAAwBHWO9ST76sNgAtD7/1uPvIDb8RNQ0JrfM9WqLkXAh7JqtV8FSvvjvc4rTQ8dnGtUUpXR5ikCs85Z3HDA45yM+3qNrMGDBONkuQxly+e+i1pY32tCniWyftjvCwTZ5yP0RmaZc37/EAAABwAZ8Makf/AAADAEd+gMkn81WGwAWztJ7AEGplCc1GU/xM0RB3ev0dILz7q8MM6irqRt5I3Yf+cxudae0JcGtUZqH83Zfx3aD6lpBxp7874J68A67BgB4UYlpo5ZODoK2J1x9yASnyN6KWW2kolAKh4QAAAKZBmxFJqEFsmUwIZ//+nhAAAAMANzb0HRciyL++FABlwBLCEg2UImi3JPNKNeQINiBSjGcdvw8SkZaZ3n+pqOlZ/VRvRFf9+7p6RDtFEcijziowTzkIpnQNGPkCHzN3/AhdyhdYHUmSRgXJFzX06XLf5CADEBVmgzAiuzePNwmkxvZnySBE1hNqG7andSU5lRiNNy0Xm2Bcbhw/BbWQ3+v1tXNPXc+AAAAAbEGfL0UVLCP/AAADACohQSiz9EAAV0vg+ju8exPAbgbXahySYcO6VLA7425VSTPBiVsv5VxH/W1PtDC0LfF12fSX8FV7yYtmxTV9oyJTKgE7du2HqKJfBTCdzzZNr8Pbawp6nBMgcvGJn1OzAgAAAFkBn050R/8AAAMAQViJHbCNAAfuMeeqTXGwT6wBmUa0gP2dEAJVejUUO/J3j70XSxnJpWByB9PmSph976HPkiTYV+jZwnLXRl914cE6MqOfwIKdoT8alj/egQAAAGEBn1BqR/8AAAMAQX5BqlzwAmk/yKpLDOkWDCuAzM6h4K2r67i/5PSaSFDHseY3wUV2xi/tunGOsg82uUCzfPSYt3UA12/EDlkjyH4lnOvmt25Er+uBeLLk9/PFL2aHqdrAAAAA+0GbVUmoQWyZTAhn//6eEAAAAwA172P4gA4E9E7SIm2Da3C9KXoWP3BO06bLfvVP6IhbWRxvIT6C7az7u3CrAh0nFMD8v4EYmZSa3wxRR/iSdfXEY14OCnKzi74PKh/3h3KBMvIxTaqONpAFEVMfWSpSwFuQh0i0/qZNSKLOlKW2OKMNHdE2tMiH9AmjCKG5phRJtrE0HDsp130v9kflCFAuE+n7wnT2sczKopgMqBbdEMIt/XQ4ChALBImxnlgFEniOSOiWFssWaLYkECsD5bsNxBlEyWQkJFddfARwlKVrUJ5LiGx68nvC6pZoQjN9w8o52er6oFvfjGTQAAAAdEGfc0UVLCP/AAADACohQS6kNABm1Zp7nPZH0i8tdMebsiL9bFbD1RL2/E3ZnWIizeCQrHy1NMGCdsyxrRQ5syhkA0WA8clX13bVXDTJYFKSliVWccBFjDpqaYYWehg6l5lO+2Rg5rdYVtpxO3F+y5sL369hAAAAVQGfknRH/wAAAwBFWPuFgfFolKqvWIAZqeBGP0k7+pQM7n5IStzvdMLesnhwSaEZnkcGBHG/w6l11B0vTBPCIno4uh9aup3pZLzi8L+9zCjUe1Gyg+cAAABHAZ+Uakf/AAADAEF+QY64+AEy4c4x0axbSEMCaqRC0K2Sh/tlcUsqxKEmX56MGjgjMAZDNQ4pAdi3MSlBcK+fZInQJiWktIEAAACcQZuZSahBbJlMCGf//p4QAAADADX29BvrgsAEqfhSBBXGk2M51G62zZt0Jg+XGT4ns1vxJFLsXZ1DCzmexXkqn3TrpS2g5q5xbx8hYoG9zsaXfzpKxaqlDcxxqrE2Szj+JDMRnLYTePhc/GMo5j+emCr+MfKvV1fxL5tDZCkdFXuLIeR+6ulaJKRt4J/mM9TqsQD+/E2/y9j+apx8AAAARkGft0UVLCP/AAADACohQQTQDPuSQewAL5hAejQFbT5v8lCJeivQR7x3KP6Yfw0yAJ6mjhQ/UhZlGfeuHoWfxZU4azn4i4AAAABZAZ/WdEf/AAADAEFYh/38Kon7lODNVqACzOSmTI/Uy7G0Vo6WAK/HnEDXEGivHErtobN2RKkqVCyCaCTfOiQf5sp12AfITfj45++D7nsUfGQO84PNfujwj5kAAABEAZ/Yakf/AAADAEF+P8AB4nsoDgAXQBH/U9wPkc9XNV+XF/wTz+x5KfEmnRIHAQZGwBiGbDKF+5IJB6oaHpzV2tmOjZgAAACcQZvdSahBbJlMCGf//p4QAAADADT65/Il2tmgAOfatlWgQGswj9JRCOKM4qqReLWAnu+O4qt9Bn/Ys7blHbL4bejv/cQ431nqspUuN+awvuxwFXM9qgylwKGhJH4RFoLLBK+pNwCjK9HwdC0j3/3/02F+bnY44c1r/IF8WRT3bqLkO6eJopuTjKMF0lCGYFJU4HnhOah+gEzweOqAAAAAV0Gf+0UVLCP/AAADACohQQtjSgBuS2mBrJVGMKI2y39m53Sr4aMULyjAuMqYuYjOWVCGcvQ+/A3gJJG5sUyA/hEsOdsm7UNMqCiv60lQVigrtBkvBWZO4QAAAEsBnhp0R/8AAAMAR3GoDFmHohFyQ7mlIALaJyeyZTBYxkiQz8ak5sU1wztjQufIr8zUWCCxupeOJbvNl4GoDLi5k/GDd7Rw0tszZUAAAABTAZ4cakf/AAADAEdlUQKceD4ACMADVmHfED+iskQMW/PJRW0dFEGQyej1MCqFzwNe5D/QR4fTrQIxkoeK6IKWNAZdbS0nyEZY7ksdfnWSfT1vGosAAACHQZoBSahBbJlMCGf//p4QAAADADXvY/iADamYsNSRO0YpJkR/abSUWMEXOr/vTBXHYQ1BAvT5oLtCmIrKMcsRtIt2eV7+6xNYgXbEPT7J3z/FboTY+GqUll7x/i0Zt8vr4OoBRJI7Jn0sJsN37bX2yycDb5/6JJhakvNKhrwiaVk0JN3uub4fAAAAW0GeP0UVLCP/AAADACmPKjvLvPr3sdnrtvcxl8AN7q1CnAw79qk4TdWdQcOqhXbu013cUw2ztoxBsDw9HDfgiNekgGSyMfH3BU402TrP6kJ0BQwUQQ9dd830PmAAAABLAZ5edEf/AAADAEFYh34C+OMBAAAz3zp/wjWEk+mXP+FA+qMBCaRQjsYo62OwUGN8FI8V9p3YRIR6bWsu3lEF9vJZgNil0f4S++iNAAAAPAGeQGpH/wAAAwBBfkCcKm14IQNHgCnmZ66jjLCcznr6zF38QDcopnwIwTtfEVEpk1hO6LLb9oCHY/uJbAAAALdBmkVJqEFsmUwIZ//+nhAAAAMANjcPCt6ZDV2eAAgVIEaALtWzBNPzH8NHVB4FPy/M/CzloifeqKumEn626ncl+DgDsI2lMvpzV0V1MrdnbADQtf2oXkbzMmCdyOSj+Rf/EJdz9DEnB/et6d54Ggh2owUzGUkxA5Dktp5ajxhBZdp3/oHQsfV/fSE3QLr0qCJEru16MAVmRtoVUzEFm7Qi+AXTjG2vX/g8lgameK2JTKRHJ8CahfEAAABLQZ5jRRUsI/8AAAMAKiFBB7OsgAi/1pgcxarUREoWdWBZJJ1SnCiqLTFsUJoY1YD09WISQeHuQ0a0j76wOgJlsx72HBeZeKmnVPt7AAAANwGegnRH/wAAAwBBWIeF1O27UrE9GgATk28tXsOu6zH7lgQb7ccqzSo8qhGRWiC1jVqG5U/w6WAAAAA5AZ6Eakf/AAADAEF+QN4lKNdGLW6+VACPlp8Hsi+fgveV14CaY4rIJUzeWyyCDAWicFWULdWU6CQIAAAAn0GaiUmoQWyZTAhn//6eEAAAAwA1//E+A0x/e8n83tduDGADKeUXEzfjQc9x6ONnSIXcGWwDN3rjJU8uhjBZzb1lt1d9EnkoZpTfq7ghrj7jMwjj5oUqOq4FAHQk0+sai4C4UrdhrJ9DFo6BXmJbh1W3bRRueqe4YqmkR3V7Gv98B/sI5eCO86peAdkQf49c8FVKmdKUXVNlR5NE/vxKgQAAADdBnqdFFSwj/wAAAwAqIUECNZ1VpHQAs0LWllLvKVBmTYk5+mxGuscKuldJd0dva326Y5tomUEjAAAARQGexnRH/wAAAwBBWIlaaKACdXRBw9tvo5/4QIHwJgCG7E3YQlSTbb5qgVim03HkfxF4v+i50TLLazDM2Mkav8mh/QV7QQAAAFQBnshqR/8AAAMAQX5BqmeIASOK3mYEvWPvLw1NSj4k/rKnfK+BFxnVDarR8GlteSTxOG2otbJi+M1dWrNW5/5r2/if3YZj+KE1I49M+Z7N1nxNqbgAAACsQZrNSahBbJlMCGf//p4QAAADADXwye4ALoNkkHIdALQaeGN1eFQpxyagpwW4C+ZYY2B/OpG5tA+mDquiRm7ORAZpnjKhY7YSBW6+XwCn+J0K2jvO8c6OTC2QxzUH34dIPGGipVPTCUIkVD8aX2FVgQXcycGpYXRF8aTO3M3ysaVCMBnl7qVDv8VlsC30/fr/n5NXOUea/b3R0cVnNTCnHAm3ih+TF5qSy3SHHQAAAEpBnutFFSwj/wAAAwAqIUEuq+oANW3x/AlHPZfu8CcIwV2DDZ3Y8fn65zn93FtmZLwy/eUiaKA0YIWhA9LUJ0Dem46wOpi/j3Uy0wAAAEQBnwp0R/8AAAMAR4cQGE+6TzgBQK8AC2YRJjwfHPzJhvOn7aHPiAWfUXpgYRk0Cz2uUmf9+jPT3TAwtDtLwdsdxCjfMQAAAEYBnwxqR/8AAAMAR2VRAqWx6IMjq0737TRCI5gAcOqMehbua+BXT9xE0UKhZHZ8lSbhBOZj3wAn4I6/bA/zcSaMEDEmjUWBAAAAeUGbEUmoQWyZTAhn//6eEAAAAwA19KGxqVhSB0AD8TRTJ/crIT7asNCcpnm3EhFKKt2K1bxq9Qx5uddX6jxENM0vkP7kbc5/U5fo3RIHQmDAriz+Ct1eQiYALDtjDoY1dHsE8xSHGf84yhT4GCfXWUmdCbAC2eVcaNUAAABHQZ8vRRUsI/8AAAMAKiFA/6UyG0NAC3jSKc0mPQg4zyQ+RIJeGxXkfJ2gkf2/IzVBysOcCQWg1tD1HQIJms2Hg7MaRxJsiBgAAABEAZ9OdEf/AAADAEFYh3y8C9X1GsAHHbo/N1WNuGh/VhGaubTbVyeF74h36sVyvWg/7Y1KSvJMZjAOAGCkzAqukH1ZdMEAAABNAZ9Qakf/AAADAEF+Qa/KHgBNXRU89mufaIa3uNZpwgZs5fZLFduRTni18/DyAPtn4nY9e9Q0khm8uvpfNIWTaEAEPkttUE6C/3kMcnAAAADPQZtVSahBbJlMCGf//p4QAAADADcuvQAFc5wWEStRhGhKXMEwVCvz95BR3lsJX9pgmU2efMBWNnx1UaVy7xAzWLGwT4ZzCRTcEQ6GQ5ncmAZpUm8O/40NVrgTejc+1bsGfdPtdAQvJb7hKwEz15Pb0PaqdpGKIQK9RbpU63JkGjzKP0H2Mwq3vn0X5pq67PSUMqN7LhvjP/jxAFFe9Iru0yV2xzasXvBfDu/IBfzf+ppWl18hafzHZWFW4MxJyv/xqyLmVFEiYSZLmDl7aM/IAAAAWEGfc0UVLCP/AAADACohQSrovOoOFcAQ6TM5VaBCsJgIrsTeRB/vsDm3GYsGvs4J7V3zCkJgM+VH6Mr/3Han/wLju1UJtnnK36J5F9xSBuCqlpdkvgWA35EAAABMAZ+SdEf/AAADAEFYiCCIAAOMIILVjhlwHZrLXseq4K2X93VlFs1pkRzjbJW9w7vWOY6F2cw4qVo/cZe5AkEVEYnmkBBBatLPfLofMQAAAEwBn5RqR/8AAAMAQX5BPE4MxbKsGNvkABtpt4tAYd3hbTIxYB82mDHcRdPrv+2MMv1nzscJlUeB3RUaBeFDHw2+Fdby+WrBhswuzZ+RAAAArkGbmUmoQWyZTAhn//6eEAAAAwA3NQYYAWH1w+wmYbC1whVtDSqIyYqlr06kZO8E89aTfYBup2dft4TVF3Ce6E6f8A7SaxpBJkwAYpqCwVff2PVEbaAPXq5t9RUZfAV7DUtEUDA6Jy0pXLtqwTVcFTTcgu/kKu8rSsmQ+PigAJvl7CPwxz5pn97ifwn8pBIQj0wf9EPYmF6eu4GsbrkrWodz0H92HGBZ7tOjDRfdmAAAAFVBn7dFFSwj/wAAAwAqIUErq2tk7ScEAG2oBFXibObWxkgFAGe9pgg4JOYceKacWP6VJTC5fGDmW/O4/PfzeKRS5yMACPUWXdygXiXUJfji8B3jeAuIAAAAQQGf1nRH/wAAAwBBWIkdgNIY5E8l/j/ABxYaHA1kuL5CKFeaAj40Xdc6DcWVPSVyPGCJK+L5EXzPH2KbdUXiZyVhAAAAQAGf2GpH/wAAAwBBfkGYMXfQAbmPDKUwU0LhydWcb8UGVCL4CEyaA0O3XaSkJXa68X92jqbElOwhWVrVfdJOU/wAAADIQZvdSahBbJlMCGf//p4QAAADADc0rjV7ahXW3BBOACpMseEfVHoQRwaBn0Jii+axLE5bZ7wEPVzCJt710r7RPNjFptq68bBxFFb/dgBHRvSUTVCFOK/O3Y5lcpTxEwDtAT4MMbDChnKb3Am7u9hsMlpsHn8QbkApccsp7K+XlbuWXT7wUOhCwiBywLSZTC8vvTnzR+HmuKi+EKJZfu989i/Vs35EJ+lh1v9Um75jZZx9S0/Bz6jOIXn88te/IkQvv53+eoxYa4gAAABeQZ/7RRUsI/8AAAMAKiFBKKnzagBGc/rS05OgRm+c1ZjLNSr6Row6mJySqfwXnN2ZxL9LlUVmgpUYgKU/CEW4BBok9wC/3xp0XDkQfgMyPAdzDVJRX7WTnWzFj2EPmQAAADsBnhp0R/8AAAMAQViJHZe1EnZsAElSDocYXSME4dP/zALCDJoPVzyzU1uFEGbzvMDbNcUwn1llsV97dwAAAEUBnhxqR/8AAAMAQX5BqlzwAlq7DTUCm7Mi8vrz/chQcANCKoqE+vqA8bs0ueQecZ0r0AMJYJyebYBJYkgPEeAR9PLOe3cAAACmQZoBSahBbJlMCF///oywAAADADePvDAFb8aHVWc3+HNH1IvuvFStARSgYZTCm2ogPpH+uYAvY+PAy/HvJeyqpLKqUrreboXi1vuh+vh/xsH6KgIrKaiIzXVP/qSVRBHPxe3Ar9j0u6EBq2VE6E+CWM1dMRkgB2AwD+1ADxZs3QdF/l42COoydHEmfxMFyivN4XvWGNz2kIEKZE7lq6TGeZIAG+CFcQAAAElBnj9FFSwj/wAAAwAqIUEW7xs9bFFBEAAjAJTGyl86CePKeuKdoeXC49KRn+5Ncros/7f7r9bAHBOFnK1xttG/TUCQfZSZimtoAAAAVgGeXnRH/wAAAwBBWIk+LpNQAzUpmeVBTIWIi9d6erQUgHgVvHo6QXqWLngN07KCVeaVcNQrajJQ3JWmW7gL3ouBhjEvLORrAyDmZ4oW4LMMAAwvyRpBAAAAPQGeQGpH/wAAAwBBfkGf0Fh+vSlgAtfMv1WkoxIXPtHk35wLI8kzc9dh2K6QZcOxv6xcjx5fIsDYn7/E8kAAAACOQZpESahBbJlMCGf//p4QAAADADc272YqwPQq4yPOGLWAAtMojvRxUqszZFiUVqcDWkAK8dNfO3NgGLvBbblexgltkuRRTjpzLUrPRJP2d9xKorTEPozRCb0pgpXNzTE/+tQ1+pQc1tC8BjXBSCCxXtfaoFa9p9utD2Sj1MuqbJFd53nJAZVmPoOf+820ZwAAAEtBnmJFFSwj/wAAAwAqIUEoqnM2AC6Bkn62KTPHw7fO2xDVbyDS8yNa8cHm9iURmkjbfr20M+f9t1HxYLGaLI+RU2dBOurXVMxQCmkAAABTAZ6Dakf/AAADAEF+Qa+fAAD+dExCpSE9owKrmtyUWnnorapcKOL99cwPhjbNUftcr5Yk3y9yU1yIp4JvTIXCbz9NQx6ppAuSABYJ6iGBz3jQbcAAAACgQZqISahBbJlMCF///oywAAADADZPvDACFPCmhNvfu+rYFxRX+bUGmu6evNkiBoDJd7gG7c2ecAmQRIFmlDYF/psoFfJl76VKM7rtTF7V87G+HkY16+oWDsHfJM+TlXMyq+SX7nv1WEtWYtNET/t8g533OfnjELWjO+Umukr5GQtIaGYPpcYapwnVZnYMeGY/LR7lFXUDQ95SvBrPcms2TQAAADxBnqZFFSwj/wAAAwAqIUEu3bAA2oXwXUgJbmg4/jsWWM7iBhEQvpN9UHUrqbHxHmvFR0mvry9AJyWGCm8AAABUAZ7FdEf/AAADAEFYiT2JCLWtABulhtBmpI6DtPbHWxJihT/L5YkwGtgbOC9axVVcRBtxo8DxIJMliS3FYBDoMi86Vje/8cCbG/wce+r9kbPOHV6QAAAAPAGex2pH/wAAAwBBfkGMoq6tHoHqgAt7d/NpORPqvjqF7rRR+kbSzmMx583mTTYuBCNc+Mz9TJmXz/8XLwAAAGJBmstJqEFsmUwIZ//+nhAAAAMANfbvC64ySL4IABT+Ye+W1tPXXYyD2bOwis07XkA9Ly7IsZepZPqtwS9vtaZuswPIIL6gHVTgum99srJ44bzwAkmAn09C/kdt9x3ka1bPgAAAAFlBnulFFSwj/wAAAwAqIUEvGmACIOqC0PuIZVwmVQigkYjSpKkAGCFvirNvJ/OKT9D1efaNDqVrNI0xA99vV3y3kt8fqMxVgrujfeicLqfK/TvLSnysoTrZgQAAAFQBnwpqR/8AAAMAQX5BjkfgBNK7LbXLwc+pycJsZ0ZE0+5KTc2ox/ORUf93Z5SpUyVDS2WzI0OA+cIIUCL3LQAQeiFJSspEgUuBrn0jUtrJRg6R5D0AAAC6QZsPSahBbJlMCGf//p4QAAADADcu3HAEPjZ0ZOV63XdQrNpyA9AoCtBk1iPH13/tlkAj1KIECa31wNJTRw7p24s0kZgkX1z7SlUCThVN0PBFQUBCly6nWaoLcbQUrKVfVJya1Tl8usDUcdPWpVfzl7gGfLbq36Z57rDUjN/L91wDeGk6nBqUEHDRfHIf1bH7Ql2e8LDMVFRFai7Sx8HQ0kKT5mi0IDxBAtwappBmYPvOVKygjdcTq+8XAAAAX0GfLUUVLCP/AAADACohQSrwY8LN2ZPhNAAmcZ3DsopHHLjCChJLa8ihfa8MPtNecr66WQpBmPBpKIFtz1o7QihDoDYSzKpI8F8IH06DgWkutFCiiymxxsjmmnG01KaBAAAATAGfTHRH/wAAAwBBWIg2MAANpFhU5u/fh6gavSUquypdH6cuvsvUf/HUBjIm2z9M3gClv+PfwOgyvPR+0YJoRog5/DOyBK6FjCF8wxYAAABLAZ9Oakf/AAADAEF+QZfHYFKf4bhUAGZeQ2ozr5VGEFgUsgRBtVS2kqYDwhUMDGMnvkSq0TeiY1i9N9f8T6DPJKO3nR6E01k+2FCwAAAAjkGbU0moQWyZTAhn//6eEAAAAwA3YjKC0koAjtc7wUAALvdcYlYf1THIRVAxVJZuhUkPGTbGo9iN79eyU6KIAbJL62vKK7lbcOzchX/f5CNknAD9eVr2CDSAfgiMLRERE/kn0KJ4di8bkb3RMEv81YdSpUIaJnCQ/2uaD5A2Lur6YFcXQtXlECcGLs4BYEEAAABEQZ9xRRUsI/8AAAMAKiFBLEejiAAQE0/qaOxWHQwgm7Hi0APAAy/MqQLSivC29Om+Y5S3gc+GO+c3KulM1h7I4ncqb/AAAABDAZ+QdEf/AAADAEFYiR2A0jof4dlMAHBnSD03fTktRlYHby1435J1yUp5oGMVETH6cSTTzRqsm7HdYbL9AAbqrmBGwAAAADcBn5JqR/8AAAMAQX5BmBEL9SVwAAtnaTnyiSIOdTL2+06ifBAM7BXMS54xDVXs54vKdKSuUHNBAAAAq0Gbl0moQWyZTAhn//6eEAAAAwA3NK4xHqzvqxIANnyOi5pjWSwgHeSoSRHZHhmkfUIdVD5vhWzf3L/Wbo83dEG/XXw6lFvvQcl82ns4UJ/UcyAMn85KhsEblLHSoPrjT8HtGxyvAD5X9VlTGOgleGHX9GldPddZTo03YeFO86dz27Y4rNkySdV4AiqmBmXhHE/y4sRvkLmQlSRIM/FZvgoLZL8+kTA5cAM/7wAAAEhBn7VFFSwj/wAAAwAqIUEog823UQzfyivo4ALblfL1QY/GIZBmHEaJU5QSSy7hQ864uwVA38fk7mXPB/nAZgEryC4TiS6GEfEAAAA4AZ/UdEf/AAADAEFYiS/QATbr8Il7FvfnZ/ABa1V3aSSgGunCdObBxKSzJtA+XJKvqb6XV9jgakAAAABOAZ/Wakf/AAADAEF+QaoRAASyjlZl0aLe3IF3CT6UVFztliLYJN/Yrsu9lxuXEWCuVz/H/FyD7uHRa2h2B3nO9rlxQMFPUQfLXPyL0clYAAAAnUGb20moQWyZTAhn//6eEAAAAwA3LtxwBD4fgqv0Sxj/lRitoDo4lH9ZaSN3+nvi+yqagMDA7gLa+cPc2aB+TwRoL35EiJUUz7ffrRoAvxZI7ttSFsmqzleo1Txm38+mY6ahi0rndK/h6i4z7GL+UC4s5kn0MpJ5Tn+2SjLABJ2VST1+3ov1Pc3z1ENxo9UgxY369f4pG2v+IitZ96EAAABKQZ/5RRUsI/8AAAMAKiFBKutT7Vx6rU04xPTABOS86t4r5Rn2qufNTp/bm0OBqrzAhIJc4wccT6cJfx9MlEo6yiCxMTb89t0IRcAAAABLAZ4YdEf/AAADAEFYiCLlZwAjAA1Zx+9rBbDeSY3VyD7c81p2XQyIBQyi/EfjWkmanj7skdk9Aw/GMYTw1P69urLWrUQ+cyrRgNxcAAAAPAGeGmpH/wAAAwBBfkGYHZWD3bF8ANW3tj3aLVlEl9ix3phELroruEtRACG8tGtxGGB+2bTjiKWyx1QyQQAAAMNBmh9JqEFsmUwIZ//+nhAAAAMANzUIUgCE8Q7Nk2GdNQyAhA8ExMiaLf9rqybbGOFz/HUXhbPj1azdMDaNQlA9cmQ+POrZRrfOPXQvzoxO6sHRTqPi050jyCVjre+MvhdCuqacOX+eC0e7HyA+tnpToELAh/iLQ3yxTj4tZs50wkrx0knUtvgXGZ49Y2Yzc8kBNKbF/3CPhG5I6mhiNoDhZiEEUodVjxw+MRNteZYzZ3vwyD8LNf64ZQU5vZMzThsIjLgAAABMQZ49RRUsI/8AAAMAKiFBLEeqxwAsAKGkw2Z7+B7dtlKW+cjWdtB2K0mG8q5t3rX+v+82u1J8E68b0SXRo3mAU/EEx1FnyaUgV5RLuQAAADcBnlx0R/8AAAMAQViJHYDrEQmm3lQAGxQpCJSEAiYzdemvJ4j3lT6tBqreXBoIfh2mrBSJ1bphAAAAOgGeXmpH/wAAAwBBfkGYENIpPyAAWcJHIbRc/Ep36vmYDdpn7ximLG8vAj7ujsibHY1cc2WXSF4fVwsAAADcQZpDSahBbJlMCGf//p4QAAADADc0rjtj6Z0OP0+8AHOH1QMd7x9XXkP+rtZRLKhRD6HGXNuJKaPSUYwWhPThxdcZwmXrwz4j0RjYAD5mAb3mSEh0Sa0zsPG5bTqffmGSs1/ng/2Bw11PGR81jmg8NiDfseF4MZb644N9vi+O5owJpR2bl8OXoed+jt++em8wc6B3Z27dkGPDSAPl4b4OvrQXtVMKCsDSxaQ45v2jm9xhR93ObGo/15+2dklD6ARm7s+PdjGXprxMk6AaE9S0IB1lLMtyqbGLm4iycQAAAGBBnmFFFSwj/wAAAwAqIUEotCSYALir4okMY+vpY0YPw/Z7TRE9WZWuarwfW6TtE3nODqtxM8//gNSw0s1efg95YJAEsBbV8ajn8EarQxlL8VZU7VwN72IPj64nLGTZg2YAAAA/AZ6AdEf/AAADAEFYiS/8N0zAX+IAVce7HIV9bCxkla4BX5B9oEuyiJbPqx0ycQzY4ahaDnRS6ySxk4TTWkatAAAAQQGegmpH/wAAAwBBfkGrbfACZaOlVh4PzjSuDBtNJyu1QK/9MVfENWJMZi1YRc/Sn7eB71+m6Tc4kc78aBwPH1pBAAAAkEGah0moQWyZTAhn//6eEAAAAwA17txwAY/TaXeuD+h6ej5TL3zBnGHMLHaOl4loJQeDTUpFTAwqsHr+GPFNW9YjU9SF19rmo9AhxHVltrZay7pVEC+eYJchE3MSRP2cNL+RR4g1B43qhWjo15Cxd8yKbNOj9gKgns6kx1fKE13OcEWb12GmMlHAxRyRMQ775gAAADlBnqVFFSwj/wAAAwAqIUEAN7d/4ANmnP6I0SdPMYgrbHF5ntQVCozwv2snBOyUX1uIMjwNOao0EvAAAABMAZ7EdEf/AAADAEFYiCH7IADi+/+ibyj0oDFq9NqrOLyr5fuZUh4zI0N4QQ7R8GM76m9ppjcNSNtZHmzQBOAV+YYDOylmDfj27imVDwAAAFcBnsZqR/8AAAMAQX5BqdMAD9x8ap3yBFSSZBB3MELcrGjvd+XUfLzkECKuNFEu2fCGvmn7MrJWnsEex0se+GYgrMqpo72CzEv7SFXCH6QAskno2C6kFP8AAABpQZrLSahBbJlMCGf//p4QAAADADYQJvUzIAEGdjcjpaMc3fEAGyDXrjqpDpfvXDYz0zHyAzDhCQ4nmKAaKbaxyy7wyrcf0Q1HJrR/ZcIRhIr80JSZ5c8CB/xf6Mp0RpPOpe2iQQxE5AVNAAAANEGe6UUVLCP/AAADACohQQEClXGfABajNOHIIii1yd4P63Eh1x0jL/h0/5+oPgJkNtPEqYAAAABRAZ8IdEf/AAADAEFYiVZwAAPfmXtC/IYnKNn92fbvz4QSTWC7GQDkUDSm4o1Egu9Te80BPojIAuYyTVuf9R0fyBkagpsfhufuNrG6Q//FoMWBAAAAWQGfCmpH/wAAAwBBfkGs3wAB+5qFK1PIpuPSO+rg639hPPGF8IIT78gvq3GsPZNRhWFr2yuwZccHuuZqHMksrzUyZHH8IUtsxnwx8svNuQAMYuMm83O+LQe1AAAAgUGbD0moQWyZTAhf//6MsAAAAwA2Ynzi5gBGR5PcFrs57K1y1YkAN0WwosDc3juv1RQqxtgQWtyPMOEPFVCPcpf9h14IKSC+YXBLbA+bncA06PvfxAxXGv/ToRFGRTd0TiA64GZPgok87KYYgwDMDQJC1peuat93Y3qQ4dZtxgi4+QAAAFpBny1FFSwj/wAAAwAqIUEBAN9z51XEoQAcGwu5RRRy61scqvnxjCnQt8yoEXu+kFumBD6adg8iq0biMmahxtdUCR6MVRwnw8y1FQ8cGffCPaTbUAVtoOZAj4EAAABFAZ9MdEf/AAADAEFYiVZ/gAEu06fZKst5/qCSgaEoTTrKF2Kh/ICsLnEncc6NRgiKUl4Vk91Q+4pb2uIoUWDbH23ZbGUkAAAASQGfTmpH/wAAAwBBfkDYnNJ/9xZokIALAArn6wf/SM7B5G8U/cMHJh5HKUNIpYukZJD7vcgwOfpVWfbZ3s6DsgxqaXOfbnasZSQAAACMQZtTSahBbJlMCF///oywAAADADZipJl6eagP9sADIBLZQUsXQHbiUpmSvkHMWfPpmhHo1T1wNiMfptwGSy3p5XjnFITqXjBWnsAHwHt9paawiuLxbpvR/RpcYU1Oor1r2EoEQ08/nxtuELjZMjAIq4VduDrQWsqSHiMCDnm1ZOuzma0FmGxbnm+GcmkAAABQQZ9xRRUsI/8AAAMAKiFBCEC0NKCDRA4AZkxh7RvXew2nJNYWYZm1UoLA3fH28KbAow246WWV8dmmVwwbYW7H4/5bImH4ivYkX4o6NZ9XwMAAAABGAZ+QdEf/AAADAEFYh//FOAEVIMzQoAPfImW0lodENAa/dNFrTPnwvV0gRVgiK7H6lD3p0fFabfI1yTU6fiKLFqofoMI7oAAAADEBn5JqR/8AAAMAQX5A4EIbjfpTejeqAGZBIENx3jqvk4jHNIKCohAkh52+5mBOVyBBAAAAYkGbl0moQWyZTAhf//6MsAAAAwA2jwAvMcAAIg544pJ9ikKml18xzI7LKwXGAYPrN0AoAvqHK8YTny8EXOgdFxZJjtQbTNDG62Op8qBGAzki82wkaXC/T+sKsvdJl+PUrBGpAAAAWkGftUUVLCP/AAADACohQS6kNABnVJQqsppiBRwAy/M+8Fqr8HHDgG7QkJvr8q7Cnc5qELXNTG4+7Xk5WTNWqGqCr7D++59S9zWf/q39CpI1x8ndsWeKFDgsoQAAAD4Bn9R0R/8AAAMAQViJPXkNKV8AA0JDPAO47cYMYIZwkFo7fEeGpz/O7m9j7SX6FVBSu6OSm9RW3ZiAJM+m4AAAAEIBn9ZqR/8AAAMAQX5BjIzEbIyOw5ABaCeFspHAEuk3RNN+rVtVtdHonzRZcwq/4Z2O2hfRE0qKD1E5axDzYZLHBRQAAABxQZvZSahBbJlMFEwv//6MsAAAAwA2VVc0TkTowAS5bCf+N9L3HYSycE1wvqNzhNvMw94uNMBmKT0sRGkH2ADjwvXyrR5+tf0Bk+O8VCm+oCZdfaEpRU7C3JaWCzoKCXoB0xVjQFlObT34Gmg3PzNgpVMAAABOAZ/4akf/AAADAEGPkgHs+AAf1emLQWpBr9O/+FOV4+UsWSgzlfYDfXUEunb/GHiCb+FklBZRVWS8nt2amOPlXgt/Jj48YOxC7Rx77VsWAAAAakGb/EnhClJlMCF//oywAAADADaCi/WeIASPFiaiiNsM5z5o+pwqSipDfymBiBkeFv97VEF9adGukiPn1oxyLoYIl/GrKdL1wpNLx/C+vPDdru2vdOHR0UkqGYHC8gK3d/1pmgTrMlcsJUAAAABYQZ4aRTRMI/8AAAMAKh1OlU8j4ALZ3JmqCYPIY2r7HXW54+LJANYCS5xKJW8maq54/18OW29ljW6n8rgiMrcWY2AaPwyDusa1D0+5dbROs1ztTLXIGNqF3QAAAFQBnjtqR/8AAAMAQX5A/70miB77cgAAuJ+l1o3bFUGGCw1tOWLsydllEweuUNfFPCT+2hK6k3/CL7yx9wGDv9PiAXho40s8jWqXJ91d2UKPle9jgxYAAAB/QZogSahBaJlMCF///oywAAADADZCxlkdAAHFouDLDcyjnPNes9ZwHHYBSmjXHP43Jov1E4rS3yGXLd+15GMHSR0O8aEH1B3Zube+kq6cbj86dCrMopLXABWNsR7FfpuPB9IdOhN++GLfG689rghTsLAMmHx+FDnyiPLgRTx9YQAAAEBBnl5FESwj/wAAAwAqIUEBXwcD+ACpmRhCipI3r77jyB+464yQf71po1HxHM75ztY/WzVX7cbRB6Ink2m1eb1hAAAAVgGefXRH/wAAAwBBWIlVhwATg1qyg+JgditT+kkADT3ELVFglMpTizQRNFY3vOIENJ0ER7pC29bPNNoho4wvcWFlDz+yvt+b0Hci/PQJOUFcdnFviLuAAAAAYgGef2pH/wAAAwBBfkGrSQAD+drEkZn43WUrGy2Ya2sCXOwP1k65grei3OA/T/nWQ95CogfAMxC28oJr/mjYegvBDnjMMKewNWr7yBZkS8+P6ppIwxS6Sc127tOqGBoknvUnAAAASUGaYkmoQWyZTBRMM//+nhAAAAMANiYbwbagFOHCLHY1deCAQFphI4XbbVHPdqJYR/l/oZ/jSAnKwlPyhtWeeh5SUnJvoscnCpgAAABfAZ6Bakf/AAADAEGPklVhwATq5zr/7s1AFrrZvwCdkduc+7ilVWj4MZ89KAP/KZmIvuTqZKhpiKDyHo7mp3Ww5465tuYPvOLHTfNmKxsAi1i343xvC7HLeo+dvyX0g8MAAACtQZqGSeEKUmUwIX/+jLAAAAMAN4+8MAVvRPsycCmIueJPF3xMe+xAmnqsCHfRhdhF39Wp958GmkA+OFCSa3DuWSKHGfOwsoXL7oHz8z2n7tnKtprBrS44X9tGIIk3da6XUkyVVXJcXngzmqd8fYQipwBNTs0G0U7i3TF8bBsWm8TFNQk85xsDy8kdLQuWV81HwSV+Uq6+OkHCbgxStwdC3ovHS1flV/owAOAVO6EAAABeQZ6kRTRMI/8AAAMAKh1OqSg/TeAfRACRxPDi1EyHxyHT2B/Wb8rR03glJpRomqf+uCTBWQPV8lR+Uk4vC5Y55GoK2Pml1R4WlY7y1YpM1QPrPMm7mrutQLIRkwIZvQAAAGABnsN0R/8AAAMAQViIP1mAAjItsKqYOqB6SphsXzWwj8e/NQIIGP/iyRvLHaNzXju/QntuyfpP8TZ0sbt7iFzQObMvVnIAzww8W40RKODtvkc4ZVbuFtAhg4aUrreBTUkAAABaAZ7Fakf/AAADAEF+QZgyKwABbO0mfL641KK126D//NAJKZufBShPrHJACW3qpqwtO+Hi53rz8rmgGG3z3uV+oIUqHbWHajzkTbsw+DuFCO5XI8ZMXcSqQCwtAAAAhEGaykmoQWiZTAhf//6MsAAAAwA3lVOjHAAiDm5961lcbn5X/WRWWEJDWyJBD9gr/T0d8ExNlhRhfJLwGqzAFGKXXHeQtyvqPAgjd2Vif0x/KQQWL9Fbocui+FiEUQcQ6r1pbfSdJSSSP+DB5tv3VwazXvwFNsd2KmIh1CmBXDsJFANgQAAAAEpBnuhFESwj/wAAAwAqIUEoo/ggd/5AALA/D4h2RwYgcYMySAEjCdE8DpAMaTBQYxj8qp+BLQZFE3NOocjER/XNWHeNPgUTzl+dmQAAAEIBnwd0R/8AAAMAQViJL8prQ9xRzOkgA4bwFpY2DLseSTJGmeAldjygS8hxPXOqcObQjRhUGJ3yB8jzqmmc6KgtEsAAAABEAZ8Jakf/AAADAEF+QOJf18q54AEIchjYAb67YgBLGTs1iFVVNSQf5gTTL0jhc3nM9tt2QiAIVnGNN7gTAa9MYhs3Kr0AAACHQZsOSahBbJlMCF///oywAAADADaG684FbTOADHyjSAKW926MEwws+tpG3l+oLZAP4P19zvCN0a29SdrM/9ifYmZhVc31gY/zNu9LJUh8b1QFZfKvNJK2CpVsdXOUcZBKHtFsxwGbrFnF7NXwGzS+aE45kmfRK3h8dDB9brEgbwNfMgMcvdmBAAAAR0GfLEUVLCP/AAADACohQQFfyXWXqiXJACWskX7zk1Ht+2nTuj4ghsoHtiLn3/ggxUelvwk5ftWT2REsQkBClpiH036XZ/LxAAAAVAGfS3RH/wAAAwBBWIlXXQATt0SDmQeIjq9MnkLkXKoH5jPEU7LbZ3IqvkRrcKLxevL6vQFC35esyowScweNso3yqNekt2NPvXByC1n9qm3HqCQYsQAAAFQBn01qR/8AAAMAQX5A+Sx8AQ76HAmXTiO6tEk6XvKkmSfW7W8B8hd6S4jt+eWeEmNv5hdpbVibe1iTDRQLTKZJ7S7P1BXlG2y9Yj0GgHh1xwZxW3AAAABzQZtQSahBbJlMFEwv//6MsAAAAwA2iAxfLTwAB/UYWZf4aZSvUYdrvQEgP85E/rUsnb4QwUtcLRjqMl64Nx8+gTBlzs/0ZjLTXzPSiG0sA4QnGB9/OVuf9Wv9BTaREjEqftVOEBV4t/8QYvBmE37nyzfQ0gAAAEoBn29qR/8AAAMAQY+SCUye1qBDPgIAASOt6fBIvEiqZ+2DQtgbkQaQtoAzgfxi5SutkHcXd2Bf/CA9RkQbYdRNqV4bx/B2NfqoIQAAAGpBm3NJ4QpSZTAhf/6MsAAAAwA2VbpYAbon7/I89SZcrSsut4J7/x1Ui/uuXisN0RMOCRrIa2aiMiZYV/zbxhkbmOnD14ffPb9Y2AW5UYZPejZm5KENr5wZ4goQPVkKzUbdvHXgEiATI5YsAAAATkGfkUU0TCP/AAADACodTqsZ0AIThKbeyvVHEncLZWBIoRl+QznVAuDiZy9XASBLJ0p5pgAfbhuPl5e195qx5cHWObAH8Z8aMHnGpncCbgAAADoBn7JqR/8AAAMAQX5BjDHT1FYW0IgAG3y8iA8KF/SkZXC69ujtM/eftXMreRSNrChLN6TWXX5eOh7pAAAAU0Gbt0moQWiZTAhX//44QAAAAwDScy7Gsp+9T5SoAHVkJqNG8qqGqfadfZO3oHOi4wnArkfmV1uBEN9eeMxVqSIlzaEwypc0b4zfI4p5+E01rJOBAAAASEGf1UURLCP/AAADACohQS7l2ABsVqZWEHsooK/875a5oZkq4nqjttCdBoJjURuIhYMsLFRLRKvcmhO5sgnCFZr1hkauY/SS8QAAADYBn/R0R/8AAAMAQViJPaSoUTy5UAKs5JybbSPnIKHFchzAizk4h08GVrt/hiz5+mHoF+LeS7gAAABCAZ/2akf/AAADAEF+QYyOUgzgA43QvdHCK8wZyso5Cpetp7DF+m57iYyv9KNwbG0rhUnqSfcIzihZws5nSxggPx/gAAAAREGb+UmoQWyZTBRMf/yEAAADAAzZvRABO3RVCBDb+ZVsSIuEdjViCnNlQfKqk8AIQ9jzcVo7Q9VHbolGLxg1r8bkq8uXAAAAPQGeGGpH/wAAAwBBj5JNxas9/QAiP4we8ga4gXWCkf4wunE1mmVUkacfxZo+sK609Fv+033AcjZn/EJnUSAAAAd3ZYiEACv//vZzfAprbbCVLgV292aj5dCS5fsQYPrQAAADAAADAABNxUTOiwpjxNkAAAMAXEAR4LGwJwM138wAuBQqHxNE+UFI3kG/39QwWqyhMwA+4o9sopXwjfPsDtwkmP8X0FLvlUx+NxXDV3tjNWoue8XaU+eQHABjlCMJPhYjqTwhgnmEZXS2hO53G0/n+5863rLTTukK33CrQzh/5g6Ev2NlGIebHqNGNhixQhSSn/8PJHl34vvtRLCxEfo2xMQ9N2rwjgWmnTcVCqB3hq45iQXyGxzMdMltoCu9cF/aAWcvB0dKWJw4TGSfafWomw+bsAUtWdmbtnnhG5VpePZcoXFXpTbxKYqppCK4Yfh5JP3rJoY+MCIrpIh2sJtFFtP0LcOauy93/c44tQnXOB2CwnRDh7Z3tMuUW0xihC9ZewAZfIfl64j65B9dwNO9PwBnMtSxbwx2frzCGr0j6JP4TNuCNfFWpP45vRf6eZyc42jBP/+7GpqBuCUsRUos5t5sftZB8y7YIVdOGNLZ3T7G/s8S7sSNqOsiY/sgEcBx6+fmRe/tjA/iee+2BCEgCF7xBn/EVJMqZL3OwgI9ieAABa4Qd6dDFsA8r7pNX9UHQuMqh+SnGLGHFX4nJAeQKk0g0+jFvSv81vuXz1rC2rml5yW/2dOy6EX9JHsyyNBVbYr1O6Vm9vyRmyQfbSSnyGefQnMsG3ikqjtdTtCmkbE82K2U0rHuItafvBVaHNcqCknmgxvDbz2CQg3/6fYN4r1Lj4IjgXuy7zsZA+Wyme2l+FghKxCaiDUyn44NInIcJAxkZmISosF2VKDm1MquPLWoFpd8oD4o6aWhAmr/XEvjmFkvlvSO2TV8AAADABrYG1s6IUA8nGYNkw8/COEFMd79aImLVCnpy04vFv7Jz6BfCBUour1Qn/LicFrqwBQ+/CrSlWp1bSJb0v2T8AHBiEptE5+Q5bqOoJholrVi6644sFI97mD2KFHoq/24XX/KYKkDT0ly0j10Lcrn0a87q8uX5YIAB0Nt11H+EZq9j1/WdZNHJRpO2tpt9QNAlw8F6VxcXttyCev2s1cWd2mSW/2c3Wr7dRkEKedS+Tg7bCw6K8MQcwmoBCJaaPpguKuNaWaq2WuoEL+TClz1Lk94++1b0fw8oIUi+fsA7qvc67saqwh60j/xWzJ45WqhBCMZzt7YSbbvOubtJ0XYo+gDnH2oepGHikUtrPSAMb2cFVYci51qfjt670uksSXQR8lZgy/g5gFmJT6t0acVPw8cpYIO+iGXufknocT3L94XSA0fiYcJKJJi7AaPiUckyjAAX3Or2bF/nUh6ZH34eZr7BnPsgYIroSK08uaWcsU0z8rnwLXZDyoM7OTbVaE/46fHGTLfqj7otyJ5AyPzVj+mrBN7LTx5/vT1CjWtbvq02YFoE0Y3WwZY4VHOWksAL7PPfMkak53CwYT9zjgSYX/uHuW8XZy7YX5vKwaG8DFRYTAAHbq8ooy62jiDJ0v3Zrwaqtb5sGcOl5tJv1imsqcMXzJkh8GReeYagU9chJmSw8nW478PN2gv0W9PEU3N6mJrfvqciVb8YbJI08YN9tSyikdj8PuIgLrO8WlP2eau6XQuU2t/xBcIAAg5xDoUYVs1JHZ31ifUoOQ3vcA21ETs9vnyqFZyH2EebBb8iIkayEckUEo+/svT9dtO3eJ+eNPUGUP1LeRg9+g6ngF0HfIMtV8Q3xv7W34DKVI6sMJXcoiDtmnSMveqjVSmH7LzDbvEQEqNZmpGn3+dDr0Uyj+SdgqoEHjJY8+QNtj2jIBFVV/AvrhjXdFyg4PJy/SuFc0ra3dfhhwMQHyISSmEscQhOiHMSoCMMlfkYCUMUGiAc4kORBwRUv6D30rbKYG1DXGAMjkUfTgd9Z/jwu/scWORVAR/kbmTdqenOcAxFUPfQVxc33SZ/lAwoA0+WAsD/N0klZvwzb1aSZzku/RUxVsBzoysH3/nr69wAtY5cPlnq7bPdrLiW0QKLS4+s0ab2kFRw2mrvwxNVJqvMkGVQ7O7xpS2DHoJuoYVyF3RsRP6bbmyHz0y6XJlWHm8pf/XZrKdmsZWCzHX29z3ybWIPAeLbyv64joNYAjeaJTTl1fO+IlTLBk5cOQvE1u6j6ulPzY3UivEWX+qyl/TdSRFXAGbqoLPAEGalJZDd3xxrHxPK+zwAK+X3P87nWMu6TOZAPYfPWxMMIhP36q3TnA4rOPLDV5Ap9OFPjL/URU9oMfQ/noqzVlXwntUogalT0V2/KQQzDB/FWJW7PCJyonk///U6VaR5vKLT+6qLuTpn5TSm1FUdDUty16S7oHsZvfPbvRhm4F6iEZy+cz2f6UQr2DGXIOP7JmvhbNaTQvZ9PU2K1dG6mUjrDYXYP/hs1cNG38lZ5Qbseg6biPb94pRP177R7Qp8l1j42/98DRxJqjceseu+KdsXKixH0bQAQCbHpGKvDSi/OorRg/Mqu8lgRKhs7EwvzBzLi4KufcNXAijILm0QNfjvRRtDOPGAAAV/1AAAAMAAK2AAAAaN21vb3YAAABsbXZoZAAAAAAAAAAAAAAAAAAAA+gAACckAAEAAAEAAAAAAAAAAAAAAAABAAAAAAAAAAAAAAAAAAAAAQAAAAAAAAAAAAAAAAAAQAAAAAAAAAAAAAAAAAAAAAAAAAAAAAAAAAAAAAAAAAIAABlhdHJhawAAAFx0a2hkAAAAAwAAAAAAAAAAAAAAAQAAAAAAACckAAAAAAAAAAAAAAAAAAAAAAABAAAAAAAAAAAAAAAAAAAAAQAAAAAAAAAAAAAAAAAAQAAAAAJYAAABkAAAAAAAJGVkdHMAAAAcZWxzdAAAAAAAAAABAAAnJAAAAgAAAQAAAAAY2W1kaWEAAAAgbWRoZAAAAAAAAAAAAAAAAAAAMgAAAfUAVcQAAAAAAC1oZGxyAAAAAAAAAAB2aWRlAAAAAAAAAAAAAAAAVmlkZW9IYW5kbGVyAAAAGIRtaW5mAAAAFHZtaGQAAAABAAAAAAAAAAAAAAAkZGluZgAAABxkcmVmAAAAAAAAAAEAAAAMdXJsIAAAAAEAABhEc3RibAAAAJhzdHNkAAAAAAAAAAEAAACIYXZjMQAAAAAAAAABAAAAAAAAAAAAAAAAAAAAAAJYAZAASAAAAEgAAAAAAAAAAQAAAAAAAAAAAAAAAAAAAAAAAAAAAAAAAAAAAAAAAAAAABj//wAAADJhdmNDAWQAH//hABlnZAAfrNlAmDPl4QAAAwABAAADAGQPGDGWAQAGaOvjyyLAAAAAGHN0dHMAAAAAAAAAAQAAAfUAAAEAAAAAHHN0c3MAAAAAAAAAAwAAAAEAAAD7AAAB9QAAD1hjdHRzAAAAAAAAAekAAAABAAACAAAAAAEAAAUAAAAAAQAAAgAAAAABAAAAAAAAAAEAAAEAAAAAAQAABQAAAAABAAACAAAAAAEAAAAAAAAAAQAAAQAAAAABAAAFAAAAAAEAAAIAAAAAAQAAAAAAAAABAAABAAAAAAEAAAUAAAAAAQAAAgAAAAABAAAAAAAAAAEAAAEAAAAAAQAABQAAAAABAAACAAAAAAEAAAAAAAAAAQAAAQAAAAABAAAEAAAAAAIAAAEAAAAAAQAABAAAAAACAAABAAAAAAEAAAQAAAAAAgAAAQAAAAABAAAFAAAAAAEAAAIAAAAAAQAAAAAAAAABAAABAAAAAAEAAAUAAAAAAQAAAgAAAAABAAAAAAAAAAEAAAEAAAAAAQAABQAAAAABAAACAAAAAAEAAAAAAAAAAQAAAQAAAAABAAAFAAAAAAEAAAIAAAAAAQAAAAAAAAABAAABAAAAAAEAAAUAAAAAAQAAAgAAAAABAAAAAAAAAAEAAAEAAAAAAQAABQAAAAABAAACAAAAAAEAAAAAAAAAAQAAAQAAAAABAAAFAAAAAAEAAAIAAAAAAQAAAAAAAAABAAABAAAAAAEAAAUAAAAAAQAAAgAAAAABAAAAAAAAAAEAAAEAAAAAAQAABQAAAAABAAACAAAAAAEAAAAAAAAAAQAAAQAAAAABAAAFAAAAAAEAAAIAAAAAAQAAAAAAAAABAAABAAAAAAEAAAQAAAAAAgAAAQAAAAABAAAEAAAAAAIAAAEAAAAAAQAABQAAAAABAAACAAAAAAEAAAAAAAAAAQAAAQAAAAABAAAFAAAAAAEAAAIAAAAAAQAAAAAAAAABAAABAAAAAAEAAAUAAAAAAQAAAgAAAAABAAAAAAAAAAEAAAEAAAAAAQAABQAAAAABAAACAAAAAAEAAAAAAAAAAQAAAQAAAAABAAAEAAAAAAIAAAEAAAAAAQAABQAAAAABAAACAAAAAAEAAAAAAAAAAQAAAQAAAAABAAAFAAAAAAEAAAIAAAAAAQAAAAAAAAABAAABAAAAAAEAAAUAAAAAAQAAAgAAAAABAAAAAAAAAAEAAAEAAAAAAQAABQAAAAABAAACAAAAAAEAAAAAAAAAAQAAAQAAAAABAAAFAAAAAAEAAAIAAAAAAQAAAAAAAAABAAABAAAAAAEAAAUAAAAAAQAAAgAAAAABAAAAAAAAAAEAAAEAAAAAAQAABQAAAAABAAACAAAAAAEAAAAAAAAAAQAAAQAAAAABAAAFAAAAAAEAAAIAAAAAAQAAAAAAAAABAAABAAAAAAEAAAUAAAAAAQAAAgAAAAABAAAAAAAAAAEAAAEAAAAAAQAABQAAAAABAAACAAAAAAEAAAAAAAAAAQAAAQAAAAABAAAFAAAAAAEAAAIAAAAAAQAAAAAAAAABAAABAAAAAAEAAAUAAAAAAQAAAgAAAAABAAAAAAAAAAEAAAEAAAAAAQAABQAAAAABAAACAAAAAAEAAAAAAAAAAQAAAQAAAAABAAAFAAAAAAEAAAIAAAAAAQAAAAAAAAABAAABAAAAAAEAAAUAAAAAAQAAAgAAAAABAAAAAAAAAAEAAAEAAAAAAQAABQAAAAABAAACAAAAAAEAAAAAAAAAAQAAAQAAAAABAAAFAAAAAAEAAAIAAAAAAQAAAAAAAAABAAABAAAAAAEAAAUAAAAAAQAAAgAAAAABAAAAAAAAAAEAAAEAAAAAAQAABQAAAAABAAACAAAAAAEAAAAAAAAAAQAAAQAAAAABAAAFAAAAAAEAAAIAAAAAAQAAAAAAAAABAAABAAAAAAEAAAUAAAAAAQAAAgAAAAABAAAAAAAAAAEAAAEAAAAAAQAABQAAAAABAAACAAAAAAEAAAAAAAAAAQAAAQAAAAABAAAFAAAAAAEAAAIAAAAAAQAAAAAAAAABAAABAAAAAAEAAAQAAAAAAgAAAQAAAAABAAAFAAAAAAEAAAIAAAAAAQAAAAAAAAABAAABAAAAAAEAAAUAAAAAAQAAAgAAAAABAAAAAAAAAAEAAAEAAAAAAQAABQAAAAABAAACAAAAAAEAAAAAAAAAAQAAAQAAAAABAAAFAAAAAAEAAAIAAAAAAQAAAAAAAAABAAABAAAAAAEAAAUAAAAAAQAAAgAAAAABAAAAAAAAAAEAAAEAAAAAAQAABQAAAAABAAACAAAAAAEAAAAAAAAAAQAAAQAAAAABAAAFAAAAAAEAAAIAAAAAAQAAAAAAAAABAAABAAAAAAEAAAUAAAAAAQAAAgAAAAABAAAAAAAAAAEAAAEAAAAAAQAABQAAAAABAAACAAAAAAEAAAAAAAAAAQAAAQAAAAABAAAFAAAAAAEAAAIAAAAAAQAAAAAAAAABAAABAAAAAAEAAAUAAAAAAQAAAgAAAAABAAAAAAAAAAEAAAEAAAAAAQAABQAAAAABAAACAAAAAAEAAAAAAAAAAQAAAQAAAAABAAAFAAAAAAEAAAIAAAAAAQAAAAAAAAABAAABAAAAAAEAAAUAAAAAAQAAAgAAAAABAAAAAAAAAAEAAAEAAAAAAQAABQAAAAABAAACAAAAAAEAAAAAAAAAAQAAAQAAAAABAAACAAAAAAEAAAUAAAAAAQAAAgAAAAABAAAAAAAAAAEAAAEAAAAAAQAABQAAAAABAAACAAAAAAEAAAAAAAAAAQAAAQAAAAABAAAFAAAAAAEAAAIAAAAAAQAAAAAAAAABAAABAAAAAAEAAAUAAAAAAQAAAgAAAAABAAAAAAAAAAEAAAEAAAAAAQAABQAAAAABAAACAAAAAAEAAAAAAAAAAQAAAQAAAAABAAAFAAAAAAEAAAIAAAAAAQAAAAAAAAABAAABAAAAAAEAAAUAAAAAAQAAAgAAAAABAAAAAAAAAAEAAAEAAAAAAQAAAwAAAAABAAABAAAAAAEAAAUAAAAAAQAAAgAAAAABAAAAAAAAAAEAAAEAAAAAAQAABQAAAAABAAACAAAAAAEAAAAAAAAAAQAAAQAAAAABAAAFAAAAAAEAAAIAAAAAAQAAAAAAAAABAAABAAAAAAEAAAUAAAAAAQAAAgAAAAABAAAAAAAAAAEAAAEAAAAAAQAAAwAAAAABAAABAAAAAAEAAAUAAAAAAQAAAgAAAAABAAAAAAAAAAEAAAEAAAAAAQAABQAAAAABAAACAAAAAAEAAAAAAAAAAQAAAQAAAAABAAAFAAAAAAEAAAIAAAAAAQAAAAAAAAABAAABAAAAAAEAAAUAAAAAAQAAAgAAAAABAAAAAAAAAAEAAAEAAAAAAQAABQAAAAABAAACAAAAAAEAAAAAAAAAAQAAAQAAAAABAAAFAAAAAAEAAAIAAAAAAQAAAAAAAAABAAABAAAAAAEAAAUAAAAAAQAAAgAAAAABAAAAAAAAAAEAAAEAAAAAAQAABQAAAAABAAACAAAAAAEAAAAAAAAAAQAAAQAAAAABAAAFAAAAAAEAAAIAAAAAAQAAAAAAAAABAAABAAAAAAEAAAQAAAAAAgAAAQAAAAABAAAFAAAAAAEAAAIAAAAAAQAAAAAAAAABAAABAAAAAAEAAAUAAAAAAQAAAgAAAAABAAAAAAAAAAEAAAEAAAAAAQAABQAAAAABAAACAAAAAAEAAAAAAAAAAQAAAQAAAAABAAADAAAAAAEAAAEAAAAAAQAABQAAAAABAAACAAAAAAEAAAAAAAAAAQAAAQAAAAABAAAFAAAAAAEAAAIAAAAAAQAAAAAAAAABAAABAAAAAAEAAAUAAAAAAQAAAgAAAAABAAAAAAAAAAEAAAEAAAAAAQAABQAAAAABAAACAAAAAAEAAAAAAAAAAQAAAQAAAAABAAAFAAAAAAEAAAIAAAAAAQAAAAAAAAABAAABAAAAAAEAAAUAAAAAAQAAAgAAAAABAAAAAAAAAAEAAAEAAAAAAQAABQAAAAABAAACAAAAAAEAAAAAAAAAAQAAAQAAAAABAAAFAAAAAAEAAAIAAAAAAQAAAAAAAAABAAABAAAAAAEAAAUAAAAAAQAAAgAAAAABAAAAAAAAAAEAAAEAAAAAAQAABQAAAAABAAACAAAAAAEAAAAAAAAAAQAAAQAAAAABAAAFAAAAAAEAAAIAAAAAAQAAAAAAAAABAAABAAAAAAEAAAUAAAAAAQAAAgAAAAABAAAAAAAAAAEAAAEAAAAAAQAABQAAAAABAAACAAAAAAEAAAAAAAAAAQAAAQAAAAABAAAFAAAAAAEAAAIAAAAAAQAAAAAAAAABAAABAAAAAAEAAAUAAAAAAQAAAgAAAAABAAAAAAAAAAEAAAEAAAAAAQAABAAAAAACAAABAAAAAAEAAAUAAAAAAQAAAgAAAAABAAAAAAAAAAEAAAEAAAAAAQAABAAAAAACAAABAAAAAAEAAAUAAAAAAQAAAgAAAAABAAAAAAAAAAEAAAEAAAAAAQAABQAAAAABAAACAAAAAAEAAAAAAAAAAQAAAQAAAAABAAAFAAAAAAEAAAIAAAAAAQAAAAAAAAABAAABAAAAAAEAAAUAAAAAAQAAAgAAAAABAAAAAAAAAAEAAAEAAAAAAQAABQAAAAABAAACAAAAAAEAAAAAAAAAAQAAAQAAAAABAAAFAAAAAAEAAAIAAAAAAQAAAAAAAAABAAABAAAAAAEAAAUAAAAAAQAAAgAAAAABAAAAAAAAAAEAAAEAAAAAAQAABQAAAAABAAACAAAAAAEAAAAAAAAAAQAAAQAAAAABAAAFAAAAAAEAAAIAAAAAAQAAAAAAAAABAAABAAAAAAEAAAUAAAAAAQAAAgAAAAABAAAAAAAAAAEAAAEAAAAAAQAABQAAAAABAAACAAAAAAEAAAAAAAAAAQAAAQAAAAABAAADAAAAAAEAAAEAAAAAAQAABAAAAAACAAABAAAAAAEAAAUAAAAAAQAAAgAAAAABAAAAAAAAAAEAAAEAAAAAAQAAAwAAAAABAAABAAAAAAEAAAUAAAAAAQAAAgAAAAABAAAAAAAAAAEAAAEAAAAAAQAABQAAAAABAAACAAAAAAEAAAAAAAAAAQAAAQAAAAABAAAFAAAAAAEAAAIAAAAAAQAAAAAAAAABAAABAAAAAAEAAAMAAAAAAQAAAQAAAAABAAAEAAAAAAIAAAEAAAAAAQAABQAAAAABAAACAAAAAAEAAAAAAAAAAQAAAQAAAAABAAADAAAAAAEAAAEAAAAAAQAAAgAAAAAcc3RzYwAAAAAAAAABAAAAAQAAAfUAAAABAAAH6HN0c3oAAAAAAAAAAAAAAfUAAAxWAAACIAAAAMkAAAB7AAAAjgAAAWUAAAC+AAAAfgAAALQAAAEoAAAAwgAAALIAAACWAAAAygAAAIEAAACCAAAAaQAAANAAAAB6AAAAeQAAAGYAAADyAAAAdQAAAIUAAADQAAAAkwAAAIsAAAD0AAAAkQAAAI8AAADyAAAA2AAAAKQAAACLAAABEAAAAMQAAACmAAAAmwAAAOwAAACKAAAAiAAAAH4AAAEXAAAAiwAAAIwAAACPAAAA/AAAAKIAAACOAAAAnwAAAN4AAADSAAAAqgAAAI0AAADhAAAA4QAAAMQAAACoAAABAAAAAL0AAABmAAAAngAAAOsAAACIAAAAcAAAAHwAAAEiAAAAogAAAIQAAABxAAABAgAAAKAAAAB0AAAA/wAAALkAAACjAAABBgAAAKwAAACLAAAAfgAAARUAAADCAAAAjAAAAHcAAADyAAAAxwAAAKAAAAB8AAAA/wAAAIYAAABXAAAAdQAAAOsAAACYAAAApwAAASoAAACjAAAApwAAAHkAAAD/AAAAnAAAAHkAAABzAAABHgAAAMMAAACcAAAApQAAAO0AAADMAAAAtQAAALAAAAENAAAAgAAAAMEAAACnAAAA9gAAAOcAAAC2AAAAzAAAASQAAADwAAAAsQAAAKUAAAECAAAAqgAAAMAAAADGAAABJQAAALgAAADIAAAAzgAAAQEAAACqAAAAxgAAAKEAAAEQAAAA2QAAAIQAAACdAAABFgAAAMIAAACeAAAAowAAARMAAADJAAAArAAAAJMAAAEUAAAAlgAAALAAAACyAAABBgAAANQAAAC3AAAAnwAAAPQAAAC6AAAAgAAAAKcAAADFAAAA3QAAALAAAACZAAABBwAAAN0AAABxAAAApAAAAQwAAADYAAAAsgAAAIcAAAEXAAAAvQAAAKwAAACsAAAA2AAAAM8AAADDAAAAvAAAAPkAAADMAAAAlgAAAKoAAAEoAAAAxAAAAI0AAACfAAAA9QAAALkAAACZAAABJwAAALsAAACSAAAAgwAAAPMAAACpAAAAswAAAIcAAAEZAAAAsAAAAIYAAACGAAAA+QAAAJoAAAB5AAAAfQAAAQwAAACzAAAAjAAAAJMAAAEzAAAAqwAAALIAAACdAAABPwAAALIAAACNAAAAdgAAAOcAAACrAAAAkwAAAHsAAAEPAAAAewAAADkAAABaAAAA4gAAAGIAAABPAAAATQAAANwAAABnAAAANQAAAFIAAADOAAAAcAAAAHkAAABxAAAA1wAAAKEAAABMAAAAcQAAAQ8AAAB+AAAAUAAAAGUAAADUAAAAgQAAAF0AAABdAAALnwAAAcoAAACKAAAAgAAAAG4AAADiAAAAigAAAGwAAABzAAAAywAAAIcAAABtAAAAbwAAAQ8AAABpAAAAfwAAAGoAAAD6AAAAfwAAAGUAAACKAAAAyQAAAH8AAABcAAAAXgAAAQMAAACAAAAAVAAAAHAAAADvAAAAXAAAAKkAAACFAAAAYwAAAHYAAADVAAAAiQAAAHgAAACYAAABEgAAAIEAAACGAAAAiAAAAVkAAACZAAAAZgAAAJEAAADyAAAAhQAAANsAAACjAAAAZQAAAIEAAAELAAAAYgAAAHMAAACAAAAAwAAAAIcAAABmAAAAgAAAAJAAAAB8AAAAZAAAAFQAAAC3AAAASQAAAFUAAABHAAAA2gAAAF4AAABRAAAAbQAAAMgAAABLAAAAVAAAAEwAAACvAAAAYAAAAEAAAABZAAAAlQAAADcAAAA8AAAARgAAAL8AAABXAAAAQAAAAKgAAABfAAAASAAAAE8AAADNAAAAdwAAADcAAABQAAAAvQAAAGsAAAA0AAAAJQAAALIAAABEAAAA8AAAAGgAAABMAAAAUQAAAPkAAABbAAAAdAAAAHQAAACqAAAAcAAAAF0AAABlAAAA/wAAAHgAAABZAAAASwAAAKAAAABKAAAAXQAAAEgAAACgAAAAWwAAAE8AAABXAAAAiwAAAF8AAABPAAAAQAAAALsAAABPAAAAOwAAAD0AAACjAAAAOwAAAEkAAABYAAAAsAAAAE4AAABIAAAASgAAAH0AAABLAAAASAAAAFEAAADTAAAAXAAAAFAAAABQAAAAsgAAAFkAAABFAAAARAAAAMwAAABiAAAAPwAAAEkAAACqAAAATQAAAFoAAABBAAAAkgAAAE8AAABXAAAApAAAAEAAAABYAAAAQAAAAGYAAABdAAAAWAAAAL4AAABjAAAAUAAAAE8AAACSAAAASAAAAEcAAAA7AAAArwAAAEwAAAA8AAAAUgAAAKEAAABOAAAATwAAAEAAAADHAAAAUAAAADsAAAA+AAAA4AAAAGQAAABDAAAARQAAAJQAAAA9AAAAUAAAAFsAAABtAAAAOAAAAFUAAABdAAAAhQAAAF4AAABJAAAATQAAAJAAAABUAAAASgAAADUAAABmAAAAXgAAAEIAAABGAAAAdQAAAFIAAABuAAAAXAAAAFgAAACDAAAARAAAAFoAAABmAAAATQAAAGMAAACxAAAAYgAAAGQAAABeAAAAiAAAAE4AAABGAAAASAAAAIsAAABLAAAAWAAAAFgAAAB3AAAATgAAAG4AAABSAAAAPgAAAFcAAABMAAAAOgAAAEYAAABIAAAAQQAAB3sAAAAUc3RjbwAAAAAAAAABAAAAMAAAAGJ1ZHRhAAAAWm1ldGEAAAAAAAAAIWhkbHIAAAAAAAAAAG1kaXJhcHBsAAAAAAAAAAAAAAAALWlsc3QAAAAlqXRvbwAAAB1kYXRhAAAAAQAAAABMYXZmNTcuODMuMTAw\" type=\"video/mp4\" />\n",
              "             </video>"
            ]
          },
          "metadata": {}
        }
      ],
      "source": [
        "env = wrap_env(gym.make(\"LunarLander-v4\"))\n",
        "observation = env.reset()\n",
        "while True:\n",
        "  env.render()\n",
        "  action, _states = model.predict(observation, deterministic=True)\n",
        "  observation, reward, done, info = env.step(action)\n",
        "  if done:\n",
        "    break;\n",
        "\n",
        "env.close()\n",
        "show_video()"
      ]
    },
    {
      "cell_type": "code",
      "execution_count": 77,
      "metadata": {
        "execution": {},
        "outputId": "d3523739-ba95-443c-f018-ac7855ea264e",
        "colab": {
          "base_uri": "https://localhost:8080/",
          "height": 301
        },
        "id": "voWFVkMGzq9r"
      },
      "outputs": [
        {
          "output_type": "execute_result",
          "data": {
            "text/plain": [
              "Text(0, 0.5, 'Episode Rewards')"
            ]
          },
          "metadata": {},
          "execution_count": 77
        },
        {
          "output_type": "display_data",
          "data": {
            "text/plain": [
              "<Figure size 432x288 with 1 Axes>"
            ],
            "image/png": "[encoded data removed]"
          },
          "metadata": {
            "needs_background": "light"
          }
        }
      ],
      "source": [
        "x, y = ts2xy(load_results(log_dir), 'timesteps')  # Organising the logged results in to a clean format for plotting. timesteps episodes\n",
        "plt.plot(x,y)\n",
        "plt.ylim([-300, 300])\n",
        "plt.xlabel('Timesteps')\n",
        "plt.ylabel('Episode Rewards')"
      ]
    },
    {
      "cell_type": "markdown",
      "source": [
        "### Template"
      ],
      "metadata": {
        "id": "h7Jy40kF4cwx"
      }
    },
    {
      "cell_type": "code",
      "execution_count": null,
      "metadata": {
        "execution": {},
        "id": "RStcMxLfobbr"
      },
      "outputs": [],
      "source": [
        "# Taken from https://stable-baselines3.readthedocs.io/en/master/guide/custom_env.html\n",
        "class CustomEnv(gym.Env):\n",
        "  \"\"\"Custom Environment that follows gym interface\"\"\"\n",
        "  metadata = {'render.modes': ['human']}\n",
        "\n",
        "  def __init__(self, arg1, arg2):\n",
        "    super(CustomEnv, self).__init__()\n",
        "    # Define action and observation space\n",
        "    # They must be gym.spaces objects\n",
        "    # Example when using discrete actions:\n",
        "    self.action_space = spaces.Discrete(N_DISCRETE_ACTIONS)\n",
        "    # Example for using image as input (channel-first; channel-last also works):\n",
        "    self.observation_space = spaces.Box(low=0, high=255,\n",
        "                                        shape=(N_CHANNELS, HEIGHT, WIDTH), dtype=np.uint8)\n",
        "\n",
        "  def step(self, action):\n",
        "    ...\n",
        "    return observation, reward, done, info\n",
        "  def reset(self):\n",
        "    ...\n",
        "    return observation  # reward, done, info can't be included\n",
        "  def render(self, mode='human'):\n",
        "    ...\n",
        "  def close (self):\n",
        "    ..."
      ]
    },
    {
      "cell_type": "markdown",
      "metadata": {
        "execution": {},
        "id": "RKAA_XL4obbs"
      },
      "source": [
        "As you are only changing the reward structure, you can inherit the original Lunar Lander environment from https://github.com/openai/gym/blob/master/gym/envs/box2d/lunar_lander.py and modify just the \"step\" function. Focus on modifying the following part of the code in the \"step\" function\n"
      ]
    },
    {
      "cell_type": "code",
      "execution_count": null,
      "metadata": {
        "execution": {},
        "id": "vW-1yrPyobbs"
      },
      "outputs": [],
      "source": [
        "def step(self, actions):\n",
        "  ...\n",
        "  ...\n",
        "  ...\n",
        "  reward = 0\n",
        "  shaping = (\n",
        "      -100 * np.sqrt(state[0] * state[0] + state[1] * state[1])\n",
        "      - 100 * np.sqrt(state[2] * state[2] + state[3] * state[3])\n",
        "      - 100 * abs(state[4])\n",
        "      + 10 * state[6]\n",
        "      + 10 * state[7]\n",
        "  )  # And ten points for legs contact, the idea is if you\n",
        "  # lose contact again after landing, you get negative reward\n",
        "  if self.prev_shaping is not None:\n",
        "      reward = shaping - self.prev_shaping\n",
        "  self.prev_shaping = shaping\n",
        "\n",
        "  reward -= (\n",
        "      m_power * 0.30\n",
        "  )  # less fuel spent is better, about -30 for heuristic landing. You should modify these values.\n",
        "  reward -= s_power * 0.03\n",
        "\n",
        "  done = False\n",
        "  if self.game_over or abs(state[0]) >= 1.0:\n",
        "      done = True\n",
        "      reward = -100\n",
        "  if not self.lander.awake:\n",
        "      done = True\n",
        "      reward = +100\n",
        "  return np.array(state, dtype=np.float32), reward, done, {}"
      ]
    },
    {
      "cell_type": "markdown",
      "metadata": {
        "execution": {},
        "id": "9CCbUKXQobbs"
      },
      "source": [
        "Once you have cutomized your own environment, you can execute that environment by just calling:"
      ]
    },
    {
      "cell_type": "code",
      "execution_count": null,
      "metadata": {
        "execution": {},
        "id": "T7IuLBYxobbt"
      },
      "outputs": [],
      "source": [
        "#Enter the name of the custome environment you created and uncomment the line below.\n",
        "#env = Custom_LunarLander()\n",
        "# Refer to https://stable-baselines3.readthedocs.io/en/master/guide/custom_env.html, if you would like to create more complex environments."
      ]
    },
    {
      "cell_type": "markdown",
      "metadata": {
        "execution": {},
        "id": "ZeEbxPsFobbt"
      },
      "source": [
        "## 3 Identify the state information crucial to its performance.\n",
        "\n",
        "Your objective here is to alter the input state information and analyze the performance. The input state of the Lunar Lander consists of following components:\n",
        "\n",
        "  1. Horizontal Position\n",
        "  2. Vertical Position\n",
        "  3. Horizontal Velocity\n",
        "  4. Vertical Velocity\n",
        "  5. Angle\n",
        "  6. Angular Velocity\n",
        "  7. Left Leg Contact\n",
        "  8. Right Leg Contact\n",
        "\n",
        "You can train the algorithm by masking one of the eight components at a time and understand how that affects the performance of the algorithm. Similar to the reward shaping task, you would have to create a custom environment and modify the state space. Again, you can inherit all the necessary functions and modify the following portion of the \"Step\" function:"
      ]
    },
    {
      "cell_type": "code",
      "execution_count": null,
      "metadata": {
        "execution": {},
        "id": "e0qQ--Tfobbt"
      },
      "outputs": [],
      "source": [
        "def step(self, actions):\n",
        "  ...\n",
        "  ...\n",
        "  ...\n",
        "  state = [ # Remove one component at a time to investigate the effect on performance!\n",
        "            (pos.x - VIEWPORT_W / SCALE / 2) / (VIEWPORT_W / SCALE / 2),\n",
        "            (pos.y - (self.helipad_y + LEG_DOWN / SCALE)) / (VIEWPORT_H / SCALE / 2),\n",
        "            vel.x * (VIEWPORT_W / SCALE / 2) / FPS,\n",
        "            vel.y * (VIEWPORT_H / SCALE / 2) / FPS,\n",
        "            self.lander.angle,\n",
        "            20.0 * self.lander.angularVelocity / FPS,\n",
        "            1.0 if self.legs[0].ground_contact else 0.0,\n",
        "            1.0 if self.legs[1].ground_contact else 0.0,\n",
        "        ]"
      ]
    },
    {
      "cell_type": "markdown",
      "metadata": {
        "execution": {},
        "id": "EIifpb9Kobbu"
      },
      "source": [
        "## 4 Extension to Atari Games\n",
        "\n",
        "In the Lunar Lander task, the input to the algorithm is a vector of state information. Deep RL algorithms can also be applied when the input to the training is image frames, which is the case in the Atari games. For example, consider an Atari game - Pong. In this environment, the observation is an RGB image of the screen, which is an array of shape (210, 160, 3). To train the Pong game, you can start with the following sample code:"
      ]
    },
    {
      "cell_type": "code",
      "execution_count": null,
      "metadata": {
        "execution": {},
        "id": "9GEIYsVVobbv"
      },
      "outputs": [],
      "source": [
        "## Taken from: https://colab.research.google.com/github/Stable-Baselines-Team/rl-colab-notebooks/blob/sb3/atari_games.ipynb#scrollTo=f3K4rMXwimBO\n",
        "env = make_atari_env('PongNoFrameskip-v4', n_envs=4, seed=0)\n",
        "\n",
        "##Atari Games take a lot of memory. Following commands crash on Coalb. Run the following code on Colab Pro or your local Jupyter notebook!\n",
        "# env = VecFrameStack(env, n_stack=4)\n",
        "# model = DQN('CnnPolicy', env, verbose=1)  # Note the difference here! We use 'CnnPolicy\" here instead of 'MlpPolicy' as the input is frames.\n",
        "# model.learn(total_timesteps=1) #change the number of timesteps as desired and run this command!"
      ]
    },
    {
      "cell_type": "markdown",
      "metadata": {
        "execution": {},
        "id": "5I26CZd4obbv"
      },
      "source": [
        "## 5 Obstacle Avoidance and Transfer Learning\n",
        "\n",
        "Your obstacle here is to add an obstacle in the path of the lunar lander (by creating a custom environment as described in point 2 above) and train the model such that the lander lands safely, avoiding collisions. \n",
        "\n",
        "You would first want to devise a mechansim for adding obstacles. For example, you could have an imaginary obstacle at some horizantal and vertical position cooridnates and modify the reward function such that a penalty is levied if the lander comes close to it. \n",
        "\n",
        "An interesting approach to solve this problem is to apply the techniques of transfer learning. For example, you could initialise the neural network model with the weights of the trained model on the original problem to improve the sample effeciency. This can be done using the following code:"
      ]
    },
    {
      "cell_type": "code",
      "execution_count": null,
      "metadata": {
        "execution": {},
        "id": "lSyhxVoLobbw"
      },
      "outputs": [],
      "source": [
        "## Specify the load path and uncomment below:\n",
        "\n",
        "# model = load(load_path,\n",
        "#              env=gym.make('LunarLander-v2'),\n",
        "#              custom_objects=None, **kwargs)"
      ]
    },
    {
      "cell_type": "markdown",
      "metadata": {
        "execution": {},
        "id": "4Qy8qSysobbw"
      },
      "source": [
        "Following are some of the resources on transfer learning that you would want to start with. \n",
        "\n",
        "**Research Papers**\n",
        "\n",
        "Surveys:\n",
        "1. (Long, Old, Highly cited) Taylor, M. E.,  et al. (2009). Transfer learning for reinforcement learning domains. https://www.jmlr.org/papers/volume10/taylor09a/taylor09a.pdf\n",
        "\n",
        "2. (Medium, Old, Good for a quick read) Lazaric, A. (2012). Transfer in reinforcement learning: a framework and a survey. https://hal.inria.fr/docs/00/77/26/26/PDF/transfer.pdf\n",
        "\n",
        "3. (Medium, Recent, Good for a quick read) Zhu, Z., Lin, K., & Zhou, J. (2020). Transfer learning in deep reinforcement learning. https://arxiv.org/pdf/2009.07888.pdf\n",
        "\n",
        "4. Specific example:\n",
        "Barreto, A., et al. (2016).  Successor features for transfer in reinforcement learning. https://arxiv.org/pdf/1606.05312"
      ]
    },
    {
      "cell_type": "markdown",
      "metadata": {
        "execution": {},
        "id": "vJvZzNrAobbx"
      },
      "source": [
        "## 5(b) Transfer Learning in minigrid environment\n",
        "\n",
        "These are some simple gridworld gym environments designed to be particularly simple, lightweight and fast. Refer to https://github.com/maximecb/gym-minigrid for description of the environments. An example to load a minigrid environment is given below:"
      ]
    },
    {
      "cell_type": "code",
      "execution_count": null,
      "metadata": {
        "execution": {},
        "id": "88Bk-iqzobby"
      },
      "outputs": [],
      "source": [
        "!pip install gym-minigrid --quiet\n",
        "import gym_minigrid\n",
        "env = gym.make('MiniGrid-Empty-5x5-v0')"
      ]
    },
    {
      "cell_type": "markdown",
      "metadata": {
        "execution": {},
        "id": "lOL5WYR3obby"
      },
      "source": [
        "You can train a standard DQN agent in this env by wrapping the env with full image observation wrappers:\n"
      ]
    },
    {
      "cell_type": "code",
      "execution_count": null,
      "metadata": {
        "execution": {},
        "id": "PX71Rz3Uobbz"
      },
      "outputs": [],
      "source": [
        "env = gym_minigrid.wrappers.ImgObsWrapper(gym_minigrid.wrappers.RGBImgObsWrapper(env))"
      ]
    },
    {
      "cell_type": "markdown",
      "metadata": {
        "execution": {},
        "id": "o2UiCI5Iobbz"
      },
      "source": [
        "Note that with full image observations, the shape of the image observations may differ between envs. For e.g., MiniGrid-Empty-5x5-v0 is (40,40,3) while MiniGrid-Empty-8x8-v0 is (64,64,3). So you may need to resize the observations for transfer learning to work with the same DQN architecture.\n",
        "\n",
        "Now try training a DQN (or another method) in one (or multiple) minigrid env(s),and see if that knowledge transfers to another (or multiple other) minigrid env(s).\n"
      ]
    },
    {
      "cell_type": "markdown",
      "metadata": {
        "execution": {},
        "id": "Qy1rMmg4obbz"
      },
      "source": [
        "## 6 Preference-Based RL (PBRL)\n",
        "\n",
        "PBRL is an exciting sub-area in RL where the traditional reward structure is replaced with human preferences. This setting is very useful in applications where it is difficult to construct a reward function. \n",
        "\n",
        "In the earlier section, we have successfully trained the lunar lander to land safely. Here, the path that the lander follows to land safely can be arbitrary. In this project, using the techniques of PBRL, you will solve the lunar lander problem with an additional requirement that the lander should follow a specially curated path (for example, a straight line path). Following are some of the resources that will help you to get started with this project. \n",
        "\n",
        "**Research papers:**\n",
        "1. Deep Reinforcement Learning\n",
        "from Human Preferences https://papers.nips.cc/paper/2017/file/d5e2c0adad503c91f91df240d0cd4e49-Paper.pdf\n",
        "2. Deep Q-learning from Demonstrations https://arxiv.org/pdf/1704.03732.pdf\n",
        "3. Reward learning from human preferences https://arxiv.org/pdf/1811.06521.pdf\n",
        "4. T-REX https://arxiv.org/pdf/1904.06387.pdf\n",
        "\n",
        "**Code Bases:**\n",
        "1. https://github.com/nottombrown/rl-teacher\n",
        "2. https://github.com/hiwonjoon/ICML2019-TREX\n"
      ]
    },
    {
      "cell_type": "markdown",
      "metadata": {
        "execution": {},
        "id": "ptpdnpwGobbz"
      },
      "source": [
        "---\n",
        "# References\n",
        "\n",
        "1. Stable Baselines Framework: https://stable-baselines3.readthedocs.io/en/master/guide/examples.html\n",
        "\n",
        "2. Lunar Lander Environment: https://gym.openai.com/envs/LunarLander-v2/\n",
        "\n",
        "3. OpenAI gym environments: https://gym.openai.com/docs/\n",
        "\n",
        "4. A good reference for introduction to RL: http://incompleteideas.net/book/the-book-2nd.html\n"
      ]
    }
  ],
  "metadata": {
    "accelerator": "GPU",
    "colab": {
      "collapsed_sections": [],
      "name": "lunar_lander_group1_atcheke",
      "provenance": [],
      "toc_visible": true,
      "machine_shape": "hm",
      "include_colab_link": true
    },
    "gpuClass": "standard",
    "kernel": {
      "display_name": "Python 3",
      "language": "python",
      "name": "python3"
    },
    "kernelspec": {
      "display_name": "Python 3",
      "name": "python3"
    },
    "language_info": {
      "name": "python"
    }
  },
  "nbformat": 4,
  "nbformat_minor": 0
}