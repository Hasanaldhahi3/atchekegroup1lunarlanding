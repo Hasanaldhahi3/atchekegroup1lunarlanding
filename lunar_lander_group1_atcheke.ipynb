{
  "cells": [
    {
      "cell_type": "markdown",
      "metadata": {
        "id": "view-in-github",
        "colab_type": "text"
      },
      "source": [
        "<a href=\"https://colab.research.google.com/github/carlacodes/atchekegroup1lunarlanding/blob/hasan/lunar_lander_group1_atcheke.ipynb\" target=\"_parent\"><img src=\"https://colab.research.google.com/assets/colab-badge.svg\" alt=\"Open In Colab\"/></a>"
      ]
    },
    {
      "cell_type": "markdown",
      "metadata": {
        "execution": {},
        "id": "rKjkh_KgobbF"
      },
      "source": [
        "# Performance Analysis of DQN Algorithm on the Lunar Lander task\n",
        "\n",
        "**By Neuromatch Academy**\n",
        "\n",
        "__Content creators:__ Raghuram Bharadwaj Diddigi, Geraud Nangue Tasse, Yamil Vidal, Sanjukta Krishnagopal, Sara Rajaee\n",
        "\n",
        "__Content editors:__ Spiros Chavlis"
      ]
    },
    {
      "cell_type": "markdown",
      "metadata": {
        "execution": {},
        "id": "iDR5t137obbP"
      },
      "source": [
        "<p align='center'><img src='https://github.com/NeuromatchAcademy/widgets/blob/master/sponsors.png?raw=True'/></p>"
      ]
    },
    {
      "cell_type": "markdown",
      "metadata": {
        "execution": {},
        "id": "brZ9ZJQzobbR"
      },
      "source": [
        "---\n",
        "# Objective\n",
        "\n",
        "In this project, the objective is to analyze the performance of the Deep Q-Learning algorithm on an exciting task- Lunar Lander. Before we describe the task, let us focus on two keywords here - analysis and performance. What exactly do we mean by these keywords in the context of Reinforcement Learning (RL)?"
      ]
    },
    {
      "cell_type": "markdown",
      "metadata": {
        "execution": {},
        "id": "wpX-jA7GobbT"
      },
      "source": [
        "---\n",
        "# Setup"
      ]
    },
    {
      "cell_type": "code",
      "execution_count": 1,
      "metadata": {
        "execution": {},
        "id": "9EanvrrhobbU",
        "outputId": "8ad3e76f-0f75-471a-8310-08cc947ab225",
        "colab": {
          "base_uri": "https://localhost:8080/"
        }
      },
      "outputs": [
        {
          "output_type": "stream",
          "name": "stdout",
          "text": [
            "\u001b[K     |████████████████████████████████| 177 kB 5.4 MB/s \n",
            "\u001b[K     |████████████████████████████████| 1.6 MB 63.1 MB/s \n",
            "\u001b[K     |████████████████████████████████| 1.5 MB 53.1 MB/s \n",
            "\u001b[K     |████████████████████████████████| 1.1 MB 63.4 MB/s \n",
            "\u001b[?25h  Installing build dependencies ... \u001b[?25l\u001b[?25hdone\n",
            "  Getting requirements to build wheel ... \u001b[?25l\u001b[?25hdone\n",
            "    Preparing wheel metadata ... \u001b[?25l\u001b[?25hdone\n",
            "  Building wheel for gym (setup.py) ... \u001b[?25l\u001b[?25hdone\n",
            "  Building wheel for AutoROM.accept-rom-license (PEP 517) ... \u001b[?25l\u001b[?25hdone\n",
            "\u001b[K     |████████████████████████████████| 448 kB 5.2 MB/s \n",
            "\u001b[?25h"
          ]
        }
      ],
      "source": [
        "# @title Install dependencies\n",
        "!sudo apt-get update > /dev/null 2>&1\n",
        "!sudo apt-get install -y xvfb python-opengl ffmpeg > /dev/null 2>&1\n",
        "!pip install rarfile --quiet\n",
        "!pip install stable-baselines3[extra] ale-py==0.7.4 --quiet\n",
        "!pip install box2d-py --quiet\n",
        "!pip install gym pyvirtualdisplay --quiet\n",
        "!pip install pyglet --quiet"
      ]
    },
    {
      "cell_type": "code",
      "execution_count": 2,
      "metadata": {
        "execution": {},
        "id": "pE3qZJLcobbW"
      },
      "outputs": [],
      "source": [
        "# Imports\n",
        "import io\n",
        "import os\n",
        "import glob\n",
        "import torch\n",
        "import base64\n",
        "import stable_baselines3\n",
        "\n",
        "import numpy as np\n",
        "import matplotlib.pyplot as plt\n",
        "\n",
        "from stable_baselines3 import DQN\n",
        "from stable_baselines3.common.results_plotter import ts2xy, load_results\n",
        "from stable_baselines3.common.callbacks import EvalCallback\n",
        "from stable_baselines3.common.env_util import make_atari_env\n",
        "\n",
        "import gym\n",
        "from gym import spaces\n",
        "from gym.wrappers import Monitor"
      ]
    },
    {
      "cell_type": "code",
      "execution_count": 3,
      "metadata": {
        "cellView": "form",
        "execution": {},
        "id": "fp1bUnClobbY"
      },
      "outputs": [],
      "source": [
        "# @title Plotting/Video functions\n",
        "from IPython.display import HTML\n",
        "from pyvirtualdisplay import Display\n",
        "from IPython import display as ipythondisplay\n",
        "\n",
        "display = Display(visible=0, size=(1400, 900))\n",
        "display.start()\n",
        "\n",
        "\"\"\"\n",
        "Utility functions to enable video recording of gym environment\n",
        "and displaying it.\n",
        "To enable video, just do \"env = wrap_env(env)\"\"\n",
        "\"\"\"\n",
        "\n",
        "def show_video():\n",
        "  mp4list = glob.glob('video/*.mp4')\n",
        "  if len(mp4list) > 0:\n",
        "    mp4 = mp4list[0]\n",
        "    video = io.open(mp4, 'r+b').read()\n",
        "    encoded = base64.b64encode(video)\n",
        "    ipythondisplay.display(HTML(data='''<video alt=\"test\" autoplay\n",
        "                loop controls style=\"height: 400px;\">\n",
        "                <source src=\"data:video/mp4;base64,{0}\" type=\"video/mp4\" />\n",
        "             </video>'''.format(encoded.decode('ascii'))))\n",
        "  else:\n",
        "    print(\"Could not find video\")\n",
        "\n",
        "\n",
        "def wrap_env(env):\n",
        "  env = Monitor(env, './video', force=True)\n",
        "  return env"
      ]
    },
    {
      "cell_type": "markdown",
      "metadata": {
        "execution": {},
        "id": "psfdqUCmobba"
      },
      "source": [
        "---\n",
        "# Introduction\n",
        "\n",
        "In a standard RL setting, an agent learns optimal behavior from an environment through a feedback mechanism to maximize a given objective. Many algorithms have been proposed in the RL literature that an agent can apply to learn the optimal behavior. One such popular algorithm is the Deep Q-Network (DQN). This algorithm makes use of deep neural networks to compute optimal actions. In this project, your goal is to understand the effect of the number of neural network layers on the algorithm's performance. The performance of the algorithm can be evaluated through two metrics - Speed and Stability. \n",
        "\n",
        "**Speed:** How fast the algorithm reaches the maximum possible reward. \n",
        "\n",
        "**Stability** In some applications (especially when online learning is involved), along with speed, stability of the algorithm, i.e., minimal fluctuations in performance, is equally important. \n",
        "\n",
        "In this project, you should investigate the following question:\n",
        "\n",
        "**What is the impact of number of neural network layers on speed and stability of the algorithm?**\n",
        "\n",
        "You do not have to write the DQN code from scratch. We have provided a basic implementation of the DQN algorithm. You only have to tune the hyperparameters (neural network size, learning rate, etc), observe the performance, and analyze. More details on this are provided below. \n",
        "\n",
        "Now, let us discuss the RL task we have chosen, i.e., Lunar Lander. This task consists of the lander and a landing pad marked by two flags. The episode starts with the lander moving downwards due to gravity. The objective is to land safely using different engines available on the lander with zero speed on the landing pad as quickly and fuel efficient as possible. Reward for moving from the top of the screen and landing on landing pad with zero speed is between 100 to 140 points. Each leg ground contact yields a reward of 10 points. Firing main engine leads to a reward of -0.3 points in each frame. Firing the side engine leads to a reward of -0.03 points in each frame. An additional reward of -100 or +100 points is received if the lander crashes or comes to rest respectively which also leads to end of the episode. \n",
        "\n",
        "The input state of the Lunar Lander consists of following components:\n",
        "\n",
        "  1. Horizontal Position\n",
        "  2. Vertical Position\n",
        "  3. Horizontal Velocity\n",
        "  4. Vertical Velocity\n",
        "  5. Angle\n",
        "  6. Angular Velocity\n",
        "  7. Left Leg Contact\n",
        "  8. Right Leg Contact\n",
        "\n",
        "The actions of the agents are:\n",
        "  1. Do Nothing\n",
        "  2. Fire Main Engine\n",
        "  3. Fire Left Engine\n",
        "  4. Fire Right Engine\n",
        "\n",
        "\n",
        "<img src=\"https://raw.githubusercontent.com/NeuromatchAcademy/course-content-dl/main/projects/static/lunar_lander.png\">"
      ]
    },
    {
      "cell_type": "markdown",
      "metadata": {
        "execution": {},
        "id": "fGCTNteSobbd"
      },
      "source": [
        "---\n",
        "# Basic DQN Implementation\n",
        "\n",
        "We will now implement the DQN algorithm using the existing code base. We encourage you to understand this example and re-use it in an application/project of your choice! "
      ]
    },
    {
      "cell_type": "markdown",
      "metadata": {
        "execution": {},
        "id": "sEG8U0Pmobbf"
      },
      "source": [
        "Now, let us set some hyperparameters for our algorithm. This is the only part you would play around with, to solve the first part of the project. "
      ]
    },
    {
      "cell_type": "code",
      "execution_count": 4,
      "metadata": {
        "execution": {},
        "id": "vJm_qzWkobbg"
      },
      "outputs": [],
      "source": [
        "nn_layers = [64,64] #This is the configuration of your neural network. Currently, we have two layers, each consisting of 64 neurons.\n",
        "                    #If you want three layers with 64 neurons each, set the value to [64,64,64] and so on.\n",
        "\n",
        "learning_rate = 0.001 #This is the step-size with which the gradient descent is carried out.\n",
        "                      #Tip: Use smaller step-sizes for larger networks."
      ]
    },
    {
      "cell_type": "markdown",
      "metadata": {
        "execution": {},
        "id": "-9bGzUVPobbh"
      },
      "source": [
        "Now, let us setup our model and the DQN algorithm. "
      ]
    },
    {
      "cell_type": "code",
      "execution_count": 5,
      "metadata": {
        "execution": {},
        "id": "1dN91ycLobbh"
      },
      "outputs": [],
      "source": [
        "log_dir = \"/tmp/gym/\"\n",
        "os.makedirs(log_dir, exist_ok=True)\n",
        "\n",
        "# Create environment\n",
        "env = gym.make('LunarLander-v2')\n",
        "#You can also load other environments like cartpole, MountainCar, Acrobot. Refer to https://gym.openai.com/docs/ for descriptions.\n",
        "#For example, if you would like to load Cartpole, just replace the above statement with \"env = gym.make('CartPole-v1')\".\n",
        "\n",
        "env = stable_baselines3.common.monitor.Monitor(env, log_dir )\n",
        "\n",
        "callback = EvalCallback(env,log_path = log_dir, deterministic=True) #For evaluating the performance of the agent periodically and logging the results.\n",
        "policy_kwargs = dict(activation_fn=torch.nn.ReLU,\n",
        "                     net_arch=nn_layers)\n",
        "model = DQN(\"MlpPolicy\", env,policy_kwargs = policy_kwargs,\n",
        "            learning_rate=learning_rate,\n",
        "            batch_size=1,  #for simplicity, we are not doing batch update.\n",
        "            buffer_size=1, #size of experience of replay buffer. Set to 1 as batch update is not done\n",
        "            learning_starts=1, #learning starts immediately!\n",
        "            gamma=0.99, #discount facto. range is between 0 and 1.\n",
        "            tau = 1,  #the soft update coefficient for updating the target network\n",
        "            target_update_interval=1, #update the target network immediately.\n",
        "            train_freq=(1,\"step\"), #train the network at every step.\n",
        "            max_grad_norm = 10, #the maximum value for the gradient clipping\n",
        "            exploration_initial_eps = 1, #initial value of random action probability\n",
        "            exploration_fraction = 0.5, #fraction of entire training period over which the exploration rate is reduced\n",
        "            gradient_steps = 1, #number of gradient steps\n",
        "            seed = 1, #seed for the pseudo random generators\n",
        "            verbose=0) #Set verbose to 1 to observe training logs. We encourage you to set the verbose to 1.\n",
        "\n",
        "# You can also experiment with other RL algorithms like A2C, PPO, DDPG etc. Refer to  https://stable-baselines3.readthedocs.io/en/master/guide/examples.html\n",
        "#for documentation. For example, if you would like to run DDPG, just replace \"DQN\" above with \"DDPG\"."
      ]
    },
    {
      "cell_type": "markdown",
      "metadata": {
        "execution": {},
        "id": "0-7OLtdpobbi"
      },
      "source": [
        "Before we train the model, let us look at an instance of Lunar Lander **before training**.  \n",
        "\n",
        "**Note:** The following code for rendering the video is taken from https://colab.research.google.com/github/jeffheaton/t81_558_deep_learning/blob/master/t81_558_class_12_01_ai_gym.ipynb#scrollTo=T9RpF49oOsZj"
      ]
    },
    {
      "cell_type": "code",
      "execution_count": 6,
      "metadata": {
        "execution": {},
        "id": "8nEQvdE7obbj",
        "outputId": "046a8afa-fc12-4486-c925-175e72643360",
        "colab": {
          "base_uri": "https://localhost:8080/",
          "height": 421
        }
      },
      "outputs": [
        {
          "output_type": "display_data",
          "data": {
            "text/plain": [
              "<IPython.core.display.HTML object>"
            ],
            "text/html": [
              "<video alt=\"test\" autoplay\n",
              "                loop controls style=\"height: 400px;\">\n",
              "                <source src=\"data:video/mp4;base64,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\" type=\"video/mp4\" />\n",
              "             </video>"
            ]
          },
          "metadata": {}
        }
      ],
      "source": [
        "test_env = wrap_env(gym.make(\"LunarLander-v2\"))\n",
        "observation = test_env.reset()\n",
        "total_reward = 0\n",
        "while True:\n",
        "  test_env.render()\n",
        "  action, states = model.predict(observation, deterministic=True)\n",
        "  observation, reward, done, info = test_env.step(action)\n",
        "  total_reward += reward\n",
        "  if done:\n",
        "    break;\n",
        "\n",
        "# print(total_reward)\n",
        "test_env.close()\n",
        "show_video()"
      ]
    },
    {
      "cell_type": "markdown",
      "metadata": {
        "execution": {},
        "id": "ZpMABSl9obbk"
      },
      "source": [
        "From the video above, we see that the lander has crashed! \n",
        "It is now the time for training! \n"
      ]
    },
    {
      "cell_type": "code",
      "execution_count": 7,
      "metadata": {
        "execution": {},
        "id": "I0hzLf1lobbl",
        "outputId": "8a0b1765-5257-46d4-a3a1-935b645be2dd",
        "colab": {
          "base_uri": "https://localhost:8080/"
        }
      },
      "outputs": [
        {
          "output_type": "stream",
          "name": "stdout",
          "text": [
            "Eval num_timesteps=10000, episode_reward=-545.34 +/- 84.16\n",
            "Episode length: 94.60 +/- 17.39\n",
            "New best mean reward!\n",
            "Eval num_timesteps=20000, episode_reward=-276.29 +/- 191.58\n",
            "Episode length: 245.40 +/- 70.22\n",
            "New best mean reward!\n",
            "Eval num_timesteps=30000, episode_reward=-395.21 +/- 19.69\n",
            "Episode length: 412.00 +/- 66.95\n",
            "Eval num_timesteps=40000, episode_reward=-238.46 +/- 65.29\n",
            "Episode length: 1000.00 +/- 0.00\n",
            "New best mean reward!\n",
            "Eval num_timesteps=50000, episode_reward=-112.81 +/- 40.48\n",
            "Episode length: 959.40 +/- 81.20\n",
            "New best mean reward!\n",
            "Eval num_timesteps=60000, episode_reward=211.16 +/- 23.58\n",
            "Episode length: 579.00 +/- 67.17\n",
            "New best mean reward!\n",
            "Eval num_timesteps=70000, episode_reward=-69.49 +/- 53.76\n",
            "Episode length: 994.80 +/- 10.40\n",
            "Eval num_timesteps=80000, episode_reward=87.49 +/- 89.23\n",
            "Episode length: 682.60 +/- 217.23\n",
            "Eval num_timesteps=90000, episode_reward=147.86 +/- 98.33\n",
            "Episode length: 191.60 +/- 88.78\n",
            "Eval num_timesteps=100000, episode_reward=212.77 +/- 31.13\n",
            "Episode length: 593.40 +/- 96.04\n",
            "New best mean reward!\n"
          ]
        },
        {
          "output_type": "execute_result",
          "data": {
            "text/plain": [
              "<stable_baselines3.dqn.dqn.DQN at 0x7fa027db1310>"
            ]
          },
          "metadata": {},
          "execution_count": 7
        }
      ],
      "source": [
        "model.learn(total_timesteps=100000, log_interval=10, callback=callback)\n",
        "# The performance of the training will be printed every 10 episodes. Change it to 1, if you wish to\n",
        "# view the performance at every training episode."
      ]
    },
    {
      "cell_type": "markdown",
      "metadata": {
        "execution": {},
        "id": "ueR5BIcpobbm"
      },
      "source": [
        "The training takes time. We encourage you to analyze the output logs (set verbose to 1 to print the output logs). The main component of the logs that you should track is \"ep_rew_mean\" (mean of episode rewards). As the training proceeds, the value of \"ep_rew_mean\" should increase. The improvement need not be monotonic, but the trend should be upwards! \n",
        "\n",
        "Along with training, we are also periodically evaluating the performance of the current model during the training. This was reported in logs as follows:\n",
        "\n",
        "```\n",
        "Eval num_timesteps=100000, episode_reward=63.41 +/- 130.02\n",
        "Episode length: 259.80 +/- 47.47\n",
        "```"
      ]
    },
    {
      "cell_type": "markdown",
      "metadata": {
        "execution": {},
        "id": "ogkoKXiXobbm"
      },
      "source": [
        "Now, let us look at the visual performance of the lander. \n",
        "\n",
        "**Note:** The performance varies across different seeds and runs. This code is not optimized to be stable across all runs and seeds. We hope you will be able to find an optimal configuration! "
      ]
    },
    {
      "cell_type": "code",
      "execution_count": 8,
      "metadata": {
        "execution": {},
        "id": "m_WCp8wdobbn",
        "outputId": "0e3a8300-b3a1-4fd6-dced-fef13e65550b",
        "colab": {
          "base_uri": "https://localhost:8080/",
          "height": 421
        }
      },
      "outputs": [
        {
          "output_type": "display_data",
          "data": {
            "text/plain": [
              "<IPython.core.display.HTML object>"
            ],
            "text/html": [
              "<video alt=\"test\" autoplay\n",
              "                loop controls style=\"height: 400px;\">\n",
              "                <source src=\"data:video/mp4;base64,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\" type=\"video/mp4\" />\n",
              "             </video>"
            ]
          },
          "metadata": {}
        }
      ],
      "source": [
        "env = wrap_env(gym.make(\"LunarLander-v2\"))\n",
        "observation = env.reset()\n",
        "while True:\n",
        "  env.render()\n",
        "  action, _states = model.predict(observation, deterministic=True)\n",
        "  observation, reward, done, info = env.step(action)\n",
        "  if done:\n",
        "    break;\n",
        "\n",
        "env.close()\n",
        "show_video()"
      ]
    },
    {
      "cell_type": "markdown",
      "metadata": {
        "execution": {},
        "id": "Ov5djtn9obbn"
      },
      "source": [
        "The lander has landed safely!!\n",
        "\n",
        "Let us analyze its performance (speed and stability). For this purpose, we plot the number of time steps on the X-axis and the episodic reward given by the trained model on the Y-axis. "
      ]
    },
    {
      "cell_type": "code",
      "execution_count": null,
      "metadata": {
        "execution": {},
        "id": "asuy5ryIobbo",
        "outputId": "09f10ff3-b1df-42cc-8c10-52f91e581282"
      },
      "outputs": [
        {
          "data": {
            "text/plain": [
              "Text(0, 0.5, 'Episode Rewards')"
            ]
          },
          "execution_count": 9,
          "metadata": {},
          "output_type": "execute_result"
        },
        {
          "data": {
            "image/png": "[encoded data removed]",
            "text/plain": [
              "<Figure size 432x288 with 1 Axes>"
            ]
          },
          "metadata": {
            "needs_background": "light"
          },
          "output_type": "display_data"
        }
      ],
      "source": [
        "x, y = ts2xy(load_results(log_dir), 'timesteps')  # Organising the logged results in to a clean format for plotting.\n",
        "plt.plot(x,y)\n",
        "plt.ylim([-300, 300])\n",
        "plt.xlabel('Timesteps')\n",
        "plt.ylabel('Episode Rewards')"
      ]
    },
    {
      "cell_type": "markdown",
      "metadata": {
        "execution": {},
        "id": "mw3iMGmwobbo"
      },
      "source": [
        "From the above plot, we observe that, although the maximum reward is achieved quickly. Achieving an episodic reward of > 200 is good. We see that the agent has achieved it in less than 50000 timesteps (speed is good!). However, there are a lot of fluctuations in the performance (stability is not good!). \n",
        "\n",
        "Your objective now is to modify the model parameters (nn_layers, learning_rate in the code cell #2 above), run all the cells following it and investigate the stability and speed of the chosen configuration.   \n"
      ]
    },
    {
      "cell_type": "markdown",
      "metadata": {
        "execution": {},
        "id": "_bKzapIyobbp"
      },
      "source": [
        "---\n",
        "# Additional Project Ideas"
      ]
    },
    {
      "cell_type": "markdown",
      "metadata": {
        "execution": {},
        "id": "gzByWGxfobbq"
      },
      "source": [
        "## 1 Play with exploration-exploitation trade-off\n",
        "\n",
        "Exploration (selecting random actions) and exploitation (selecting greedy action) is a crucial component of the DQN algorithm. Explore random actions for a long time will slow down the training process. At the same time, if all actions are not explored enough, it might lead to a sub-optimal performance. In the DQN code above, we have used the following parameters:"
      ]
    },
    {
      "cell_type": "code",
      "execution_count": null,
      "metadata": {
        "execution": {},
        "id": "5TeOBG-Jobbq"
      },
      "outputs": [],
      "source": [
        "exploration_initial_eps = 1  # initial value of random action probability. Range is between 0 and 1.\n",
        "exploration_fraction = 0.5  # fraction of entire training period over which the exploration rate is reduced. Range is between 0 and 1.\n",
        "exploration_final_eps = 0.05  # (set by defualt) final value of random action probability. Range is between 0 and 1."
      ]
    },
    {
      "cell_type": "markdown",
      "metadata": {
        "execution": {},
        "id": "dZuGeAULobbq"
      },
      "source": [
        "Your objective is to play around with these parameters and analyze their performance (speed and stability). You can modify these parameters and set them as arguments in DQN(...,exploration_initial_eps = 1, exploration_fraction = 0.5, exploration_final_eps = 0.05,...). "
      ]
    },
    {
      "cell_type": "markdown",
      "metadata": {
        "execution": {},
        "id": "yGp5JFoAobbr"
      },
      "source": [
        "## 2 Reward Shaping\n",
        "\n",
        "Your objective here is to construct a modified reward function that improves the performance of the Lunar Lander. To this end, you would have to create your own custom environment. An example of a custom environment is given below:"
      ]
    },
    {
      "cell_type": "code",
      "execution_count": null,
      "metadata": {
        "execution": {},
        "id": "RStcMxLfobbr"
      },
      "outputs": [],
      "source": [
        "# Taken from https://stable-baselines3.readthedocs.io/en/master/guide/custom_env.html\n",
        "class CustomEnv(gym.Env):\n",
        "  \"\"\"Custom Environment that follows gym interface\"\"\"\n",
        "  metadata = {'render.modes': ['human']}\n",
        "\n",
        "  def __init__(self, arg1, arg2):\n",
        "    super(CustomEnv, self).__init__()\n",
        "    # Define action and observation space\n",
        "    # They must be gym.spaces objects\n",
        "    # Example when using discrete actions:\n",
        "    self.action_space = spaces.Discrete(N_DISCRETE_ACTIONS)\n",
        "    # Example for using image as input (channel-first; channel-last also works):\n",
        "    self.observation_space = spaces.Box(low=0, high=255,\n",
        "                                        shape=(N_CHANNELS, HEIGHT, WIDTH), dtype=np.uint8)\n",
        "\n",
        "  def step(self, action):\n",
        "    ...\n",
        "    return observation, reward, done, info\n",
        "  def reset(self):\n",
        "    ...\n",
        "    return observation  # reward, done, info can't be included\n",
        "  def render(self, mode='human'):\n",
        "    ...\n",
        "  def close (self):\n",
        "    ..."
      ]
    },
    {
      "cell_type": "markdown",
      "source": [
        "## This is the New Environment **custom** one. Hasan Was here "
      ],
      "metadata": {
        "id": "m4cm59f-9GJP"
      }
    },
    {
      "cell_type": "code",
      "source": [
        "!pip install box2d-py"
      ],
      "metadata": {
        "id": "VB4dgy4C5NhQ",
        "outputId": "19147f75-e0c0-4a77-8ee9-2ad08b22dec6",
        "colab": {
          "base_uri": "https://localhost:8080/"
        }
      },
      "execution_count": 10,
      "outputs": [
        {
          "output_type": "stream",
          "name": "stdout",
          "text": [
            "Looking in indexes: https://pypi.org/simple, https://us-python.pkg.dev/colab-wheels/public/simple/\n",
            "Requirement already satisfied: box2d-py in /usr/local/lib/python3.7/dist-packages (2.3.8)\n"
          ]
        }
      ]
    },
    {
      "cell_type": "code",
      "source": [
        "from gym.envs.box2d import LunarLander\n"
      ],
      "metadata": {
        "id": "BYzraVhZ6UPT"
      },
      "execution_count": 21,
      "outputs": []
    },
    {
      "cell_type": "code",
      "source": [
        "class CustomEnv(LunarLander):\n",
        "  \"\"\"Custom Environment that follows gym interface\"\"\"\n",
        "  metadata = {'render.modes': ['human']}\n",
        "\n",
        "  def __init__(self, arg1, arg2):\n",
        "    pass\n",
        "  def step(self, actions):\n",
        "    assert self.lander is not None\n",
        "\n",
        "    # Update wind\n",
        "    assert self.lander is not None, \"You forgot to call reset()\"\n",
        "    if self.enable_wind and not (\n",
        "        self.legs[0].ground_contact or self.legs[1].ground_contact\n",
        "    ):\n",
        "        # the function used for wind is tanh(sin(2 k x) + sin(pi k x)),\n",
        "        # which is proven to never be periodic, k = 0.01\n",
        "        wind_mag = (\n",
        "            math.tanh(\n",
        "                math.sin(0.02 * self.wind_idx)\n",
        "                + (math.sin(math.pi * 0.01 * self.wind_idx))\n",
        "            )\n",
        "            * self.wind_power\n",
        "        )\n",
        "        self.wind_idx += 1\n",
        "        self.lander.ApplyForceToCenter(\n",
        "            (wind_mag, 0.0),\n",
        "            True,\n",
        "        )\n",
        "\n",
        "        # the function used for torque is tanh(sin(2 k x) + sin(pi k x)),\n",
        "        # which is proven to never be periodic, k = 0.01\n",
        "        torque_mag = math.tanh(\n",
        "            math.sin(0.02 * self.torque_idx)\n",
        "            + (math.sin(math.pi * 0.01 * self.torque_idx))\n",
        "        ) * (self.turbulence_power)\n",
        "        self.torque_idx += 1\n",
        "        self.lander.ApplyTorque(\n",
        "            (torque_mag),\n",
        "            True,\n",
        "        )\n",
        "\n",
        "    if self.continuous:\n",
        "        action = np.clip(action, -1, +1).astype(np.float32)\n",
        "    else:\n",
        "        assert self.action_space.contains(\n",
        "            action\n",
        "        ), f\"{action!r} ({type(action)}) invalid \"\n",
        "\n",
        "    # Engines\n",
        "    tip = (math.sin(self.lander.angle), math.cos(self.lander.angle))\n",
        "    side = (-tip[1], tip[0])\n",
        "    dispersion = [self.np_random.uniform(-1.0, +1.0) / SCALE for _ in range(2)]\n",
        "\n",
        "    m_power = 0.0\n",
        "    if (self.continuous and action[0] > 0.0) or (\n",
        "        not self.continuous and action == 2\n",
        "    ):\n",
        "        # Main engine\n",
        "        if self.continuous:\n",
        "            m_power = (np.clip(action[0], 0.0, 1.0) + 1.0) * 0.5  # 0.5..1.0\n",
        "            assert m_power >= 0.5 and m_power <= 1.0\n",
        "        else:\n",
        "            m_power = 1.0\n",
        "        # 4 is move a bit downwards, +-2 for randomness\n",
        "        ox = tip[0] * (4 / SCALE + 2 * dispersion[0]) + side[0] * dispersion[1]\n",
        "        oy = -tip[1] * (4 / SCALE + 2 * dispersion[0]) - side[1] * dispersion[1]\n",
        "        impulse_pos = (self.lander.position[0] + ox, self.lander.position[1] + oy)\n",
        "        p = self._create_particle(\n",
        "            3.5,  # 3.5 is here to make particle speed adequate\n",
        "            impulse_pos[0],\n",
        "            impulse_pos[1],\n",
        "            m_power,\n",
        "        )  # particles are just a decoration\n",
        "        p.ApplyLinearImpulse(\n",
        "            (ox * MAIN_ENGINE_POWER * m_power, oy * MAIN_ENGINE_POWER * m_power),\n",
        "            impulse_pos,\n",
        "            True,\n",
        "        )\n",
        "        self.lander.ApplyLinearImpulse(\n",
        "            (-ox * MAIN_ENGINE_POWER * m_power, -oy * MAIN_ENGINE_POWER * m_power),\n",
        "            impulse_pos,\n",
        "            True,\n",
        "        )\n",
        "\n",
        "    s_power = 0.0\n",
        "    if (self.continuous and np.abs(action[1]) > 0.5) or (\n",
        "        not self.continuous and action in [1, 3]\n",
        "    ):\n",
        "        # Orientation engines\n",
        "        if self.continuous:\n",
        "            direction = np.sign(action[1])\n",
        "            s_power = np.clip(np.abs(action[1]), 0.5, 1.0)\n",
        "            assert s_power >= 0.5 and s_power <= 1.0\n",
        "        else:\n",
        "            direction = action - 2\n",
        "            s_power = 1.0\n",
        "        ox = tip[0] * dispersion[0] + side[0] * (\n",
        "            3 * dispersion[1] + direction * SIDE_ENGINE_AWAY / SCALE\n",
        "        )\n",
        "        oy = -tip[1] * dispersion[0] - side[1] * (\n",
        "            3 * dispersion[1] + direction * SIDE_ENGINE_AWAY / SCALE\n",
        "        )\n",
        "        impulse_pos = (\n",
        "            self.lander.position[0] + ox - tip[0] * 17 / SCALE,\n",
        "            self.lander.position[1] + oy + tip[1] * SIDE_ENGINE_HEIGHT / SCALE,\n",
        "        )\n",
        "        p = self._create_particle(0.7, impulse_pos[0], impulse_pos[1], s_power)\n",
        "        p.ApplyLinearImpulse(\n",
        "            (ox * SIDE_ENGINE_POWER * s_power, oy * SIDE_ENGINE_POWER * s_power),\n",
        "            impulse_pos,\n",
        "            True,\n",
        "        )\n",
        "        self.lander.ApplyLinearImpulse(\n",
        "            (-ox * SIDE_ENGINE_POWER * s_power, -oy * SIDE_ENGINE_POWER * s_power),\n",
        "            impulse_pos,\n",
        "            True,\n",
        "        )\n",
        "\n",
        "    self.world.Step(1.0 / FPS, 6 * 30, 2 * 30)\n",
        "\n",
        "    pos = self.lander.position\n",
        "    vel = self.lander.linearVelocity\n",
        "    state = [\n",
        "        (pos.x - VIEWPORT_W / SCALE / 2) / (VIEWPORT_W / SCALE / 2),\n",
        "        (pos.y - (self.helipad_y + LEG_DOWN / SCALE)) / (VIEWPORT_H / SCALE / 2),\n",
        "        vel.x * (VIEWPORT_W / SCALE / 2) / FPS,\n",
        "        vel.y * (VIEWPORT_H / SCALE / 2) / FPS,\n",
        "        self.lander.angle,\n",
        "        20.0 * self.lander.angularVelocity / FPS,\n",
        "        1.0 if self.legs[0].ground_contact else 0.0,\n",
        "        1.0 if self.legs[1].ground_contact else 0.0,\n",
        "    ]\n",
        "    assert len(state) == 8\n",
        "\n",
        "    reward = 0\n",
        "    shaping = (\n",
        "        -100 * np.sqrt(state[0] * state[0] + state[1] * state[1])\n",
        "        - 100 * np.sqrt(state[2] * state[2] + state[3] * state[3])\n",
        "        - 100 * abs(state[4])\n",
        "        + 10 * state[6]\n",
        "        + 10 * state[7]\n",
        "    )  # And ten points for legs contact, the idea is if you\n",
        "    # lose contact again after landing, you get negative reward\n",
        "    if self.prev_shaping is not None:\n",
        "        reward = shaping - self.prev_shaping\n",
        "    self.prev_shaping = shaping\n",
        "\n",
        "    reward -= (\n",
        "        m_power * 0.30\n",
        "    )  # less fuel spent is better, about -30 for heuristic landing. You should modify these values.\n",
        "    reward -= s_power * 0.03\n",
        "\n",
        "    done = False\n",
        "    if self.game_over or abs(state[0]) >= 1.0:\n",
        "        done = True\n",
        "        reward = -100\n",
        "    if not self.lander.awake:\n",
        "        done = True\n",
        "        reward = +100\n",
        "    return np.array(state, dtype=np.float32), reward, done, {}\n",
        "    \n",
        "  def reset(self):\n",
        "    pass   # reward, done, info can't be included\n",
        "  def render(self, mode='human'):\n",
        "    pass \n",
        "  def close (self):\n",
        "    pass "
      ],
      "metadata": {
        "id": "D_4kqCSS1leY"
      },
      "execution_count": 22,
      "outputs": []
    },
    {
      "cell_type": "markdown",
      "metadata": {
        "execution": {},
        "id": "RKAA_XL4obbs"
      },
      "source": [
        "As you are only changing the reward structure, you can inherit the original Lunar Lander environment from https://github.com/openai/gym/blob/master/gym/envs/box2d/lunar_lander.py and modify just the \"step\" function. Focus on modifying the following part of the code in the \"step\" function\n"
      ]
    },
    {
      "cell_type": "code",
      "execution_count": null,
      "metadata": {
        "execution": {},
        "id": "vW-1yrPyobbs"
      },
      "outputs": [],
      "source": [
        "def step(self, actions):\n",
        "  assert self.lander is not None\n",
        "\n",
        "  # Update wind\n",
        "  assert self.lander is not None, \"You forgot to call reset()\"\n",
        "  if self.enable_wind and not (\n",
        "      self.legs[0].ground_contact or self.legs[1].ground_contact\n",
        "  ):\n",
        "      # the function used for wind is tanh(sin(2 k x) + sin(pi k x)),\n",
        "      # which is proven to never be periodic, k = 0.01\n",
        "      wind_mag = (\n",
        "          math.tanh(\n",
        "              math.sin(0.02 * self.wind_idx)\n",
        "              + (math.sin(math.pi * 0.01 * self.wind_idx))\n",
        "          )\n",
        "          * self.wind_power\n",
        "      )\n",
        "      self.wind_idx += 1\n",
        "      self.lander.ApplyForceToCenter(\n",
        "          (wind_mag, 0.0),\n",
        "          True,\n",
        "      )\n",
        "\n",
        "      # the function used for torque is tanh(sin(2 k x) + sin(pi k x)),\n",
        "      # which is proven to never be periodic, k = 0.01\n",
        "      torque_mag = math.tanh(\n",
        "          math.sin(0.02 * self.torque_idx)\n",
        "          + (math.sin(math.pi * 0.01 * self.torque_idx))\n",
        "      ) * (self.turbulence_power)\n",
        "      self.torque_idx += 1\n",
        "      self.lander.ApplyTorque(\n",
        "          (torque_mag),\n",
        "          True,\n",
        "      )\n",
        "\n",
        "  if self.continuous:\n",
        "      action = np.clip(action, -1, +1).astype(np.float32)\n",
        "  else:\n",
        "      assert self.action_space.contains(\n",
        "          action\n",
        "      ), f\"{action!r} ({type(action)}) invalid \"\n",
        "\n",
        "  # Engines\n",
        "  tip = (math.sin(self.lander.angle), math.cos(self.lander.angle))\n",
        "  side = (-tip[1], tip[0])\n",
        "  dispersion = [self.np_random.uniform(-1.0, +1.0) / SCALE for _ in range(2)]\n",
        "\n",
        "  m_power = 0.0\n",
        "  if (self.continuous and action[0] > 0.0) or (\n",
        "      not self.continuous and action == 2\n",
        "  ):\n",
        "      # Main engine\n",
        "      if self.continuous:\n",
        "          m_power = (np.clip(action[0], 0.0, 1.0) + 1.0) * 0.5  # 0.5..1.0\n",
        "          assert m_power >= 0.5 and m_power <= 1.0\n",
        "      else:\n",
        "          m_power = 1.0\n",
        "      # 4 is move a bit downwards, +-2 for randomness\n",
        "      ox = tip[0] * (4 / SCALE + 2 * dispersion[0]) + side[0] * dispersion[1]\n",
        "      oy = -tip[1] * (4 / SCALE + 2 * dispersion[0]) - side[1] * dispersion[1]\n",
        "      impulse_pos = (self.lander.position[0] + ox, self.lander.position[1] + oy)\n",
        "      p = self._create_particle(\n",
        "          3.5,  # 3.5 is here to make particle speed adequate\n",
        "          impulse_pos[0],\n",
        "          impulse_pos[1],\n",
        "          m_power,\n",
        "      )  # particles are just a decoration\n",
        "      p.ApplyLinearImpulse(\n",
        "          (ox * MAIN_ENGINE_POWER * m_power, oy * MAIN_ENGINE_POWER * m_power),\n",
        "          impulse_pos,\n",
        "          True,\n",
        "      )\n",
        "      self.lander.ApplyLinearImpulse(\n",
        "          (-ox * MAIN_ENGINE_POWER * m_power, -oy * MAIN_ENGINE_POWER * m_power),\n",
        "          impulse_pos,\n",
        "          True,\n",
        "      )\n",
        "\n",
        "  s_power = 0.0\n",
        "  if (self.continuous and np.abs(action[1]) > 0.5) or (\n",
        "      not self.continuous and action in [1, 3]\n",
        "  ):\n",
        "      # Orientation engines\n",
        "      if self.continuous:\n",
        "          direction = np.sign(action[1])\n",
        "          s_power = np.clip(np.abs(action[1]), 0.5, 1.0)\n",
        "          assert s_power >= 0.5 and s_power <= 1.0\n",
        "      else:\n",
        "          direction = action - 2\n",
        "          s_power = 1.0\n",
        "      ox = tip[0] * dispersion[0] + side[0] * (\n",
        "          3 * dispersion[1] + direction * SIDE_ENGINE_AWAY / SCALE\n",
        "      )\n",
        "      oy = -tip[1] * dispersion[0] - side[1] * (\n",
        "          3 * dispersion[1] + direction * SIDE_ENGINE_AWAY / SCALE\n",
        "      )\n",
        "      impulse_pos = (\n",
        "          self.lander.position[0] + ox - tip[0] * 17 / SCALE,\n",
        "          self.lander.position[1] + oy + tip[1] * SIDE_ENGINE_HEIGHT / SCALE,\n",
        "      )\n",
        "      p = self._create_particle(0.7, impulse_pos[0], impulse_pos[1], s_power)\n",
        "      p.ApplyLinearImpulse(\n",
        "          (ox * SIDE_ENGINE_POWER * s_power, oy * SIDE_ENGINE_POWER * s_power),\n",
        "          impulse_pos,\n",
        "          True,\n",
        "      )\n",
        "      self.lander.ApplyLinearImpulse(\n",
        "          (-ox * SIDE_ENGINE_POWER * s_power, -oy * SIDE_ENGINE_POWER * s_power),\n",
        "          impulse_pos,\n",
        "          True,\n",
        "      )\n",
        "\n",
        "  self.world.Step(1.0 / FPS, 6 * 30, 2 * 30)\n",
        "\n",
        "  pos = self.lander.position\n",
        "  vel = self.lander.linearVelocity\n",
        "  state = [\n",
        "      (pos.x - VIEWPORT_W / SCALE / 2) / (VIEWPORT_W / SCALE / 2),\n",
        "      (pos.y - (self.helipad_y + LEG_DOWN / SCALE)) / (VIEWPORT_H / SCALE / 2),\n",
        "      vel.x * (VIEWPORT_W / SCALE / 2) / FPS,\n",
        "      vel.y * (VIEWPORT_H / SCALE / 2) / FPS,\n",
        "      self.lander.angle,\n",
        "      20.0 * self.lander.angularVelocity / FPS,\n",
        "      1.0 if self.legs[0].ground_contact else 0.0,\n",
        "      1.0 if self.legs[1].ground_contact else 0.0,\n",
        "  ]\n",
        "  assert len(state) == 8\n",
        "\n",
        "  reward = 0\n",
        "  shaping = (\n",
        "      -100 * np.sqrt(state[0] * state[0] + state[1] * state[1])\n",
        "      - 100 * np.sqrt(state[2] * state[2] + state[3] * state[3])\n",
        "      - 100 * abs(state[4])\n",
        "      + 10 * state[6]\n",
        "      + 10 * state[7]\n",
        "  )  # And ten points for legs contact, the idea is if you\n",
        "  # lose contact again after landing, you get negative reward\n",
        "  if self.prev_shaping is not None:\n",
        "      reward = shaping - self.prev_shaping\n",
        "  self.prev_shaping = shaping\n",
        "\n",
        "  reward -= (\n",
        "      m_power * 0.30\n",
        "  )  # less fuel spent is better, about -30 for heuristic landing. You should modify these values.\n",
        "  reward -= s_power * 0.03\n",
        "\n",
        "  done = False\n",
        "  if self.game_over or abs(state[0]) >= 1.0:\n",
        "      done = True\n",
        "      reward = -100\n",
        "  if not self.lander.awake:\n",
        "      done = True\n",
        "      reward = +100\n",
        "  return np.array(state, dtype=np.float32), reward, done, {}"
      ]
    },
    {
      "cell_type": "markdown",
      "metadata": {
        "execution": {},
        "id": "9CCbUKXQobbs"
      },
      "source": [
        "Once you have cutomized your own environment, you can execute that environment by just calling:"
      ]
    },
    {
      "cell_type": "code",
      "execution_count": null,
      "metadata": {
        "execution": {},
        "id": "T7IuLBYxobbt"
      },
      "outputs": [],
      "source": [
        "#Enter the name of the custome environment you created and uncomment the line below.\n",
        "#env = Custom_LunarLander()\n",
        "# Refer to https://stable-baselines3.readthedocs.io/en/master/guide/custom_env.html, if you would like to create more complex environments."
      ]
    },
    {
      "cell_type": "markdown",
      "metadata": {
        "execution": {},
        "id": "ZeEbxPsFobbt"
      },
      "source": [
        "## 3 Identify the state information crucial to its performance.\n",
        "\n",
        "Your objective here is to alter the input state information and analyze the performance. The input state of the Lunar Lander consists of following components:\n",
        "\n",
        "  1. Horizontal Position\n",
        "  2. Vertical Position\n",
        "  3. Horizontal Velocity\n",
        "  4. Vertical Velocity\n",
        "  5. Angle\n",
        "  6. Angular Velocity\n",
        "  7. Left Leg Contact\n",
        "  8. Right Leg Contact\n",
        "\n",
        "You can train the algorithm by masking one of the eight components at a time and understand how that affects the performance of the algorithm. Similar to the reward shaping task, you would have to create a custom environment and modify the state space. Again, you can inherit all the necessary functions and modify the following portion of the \"Step\" function:"
      ]
    },
    {
      "cell_type": "code",
      "execution_count": null,
      "metadata": {
        "execution": {},
        "id": "e0qQ--Tfobbt"
      },
      "outputs": [],
      "source": [
        "def step(self, actions):\n",
        "  ...\n",
        "  ...\n",
        "  ...\n",
        "  state = [ # Remove one component at a time to investigate the effect on performance!\n",
        "            (pos.x - VIEWPORT_W / SCALE / 2) / (VIEWPORT_W / SCALE / 2),\n",
        "            (pos.y - (self.helipad_y + LEG_DOWN / SCALE)) / (VIEWPORT_H / SCALE / 2),\n",
        "            vel.x * (VIEWPORT_W / SCALE / 2) / FPS,\n",
        "            vel.y * (VIEWPORT_H / SCALE / 2) / FPS,\n",
        "            self.lander.angle,\n",
        "            20.0 * self.lander.angularVelocity / FPS,\n",
        "            1.0 if self.legs[0].ground_contact else 0.0,\n",
        "            1.0 if self.legs[1].ground_contact else 0.0,\n",
        "        ]"
      ]
    },
    {
      "cell_type": "markdown",
      "metadata": {
        "execution": {},
        "id": "EIifpb9Kobbu"
      },
      "source": [
        "## 4 Extension to Atari Games\n",
        "\n",
        "In the Lunar Lander task, the input to the algorithm is a vector of state information. Deep RL algorithms can also be applied when the input to the training is image frames, which is the case in the Atari games. For example, consider an Atari game - Pong. In this environment, the observation is an RGB image of the screen, which is an array of shape (210, 160, 3). To train the Pong game, you can start with the following sample code:"
      ]
    },
    {
      "cell_type": "code",
      "execution_count": null,
      "metadata": {
        "execution": {},
        "id": "9GEIYsVVobbv"
      },
      "outputs": [],
      "source": [
        "## Taken from: https://colab.research.google.com/github/Stable-Baselines-Team/rl-colab-notebooks/blob/sb3/atari_games.ipynb#scrollTo=f3K4rMXwimBO\n",
        "env = make_atari_env('PongNoFrameskip-v4', n_envs=4, seed=0)\n",
        "\n",
        "##Atari Games take a lot of memory. Following commands crash on Coalb. Run the following code on Colab Pro or your local Jupyter notebook!\n",
        "# env = VecFrameStack(env, n_stack=4)\n",
        "# model = DQN('CnnPolicy', env, verbose=1)  # Note the difference here! We use 'CnnPolicy\" here instead of 'MlpPolicy' as the input is frames.\n",
        "# model.learn(total_timesteps=1) #change the number of timesteps as desired and run this command!"
      ]
    },
    {
      "cell_type": "markdown",
      "metadata": {
        "execution": {},
        "id": "5I26CZd4obbv"
      },
      "source": [
        "## 5 Obstacle Avoidance and Transfer Learning\n",
        "\n",
        "Your obstacle here is to add an obstacle in the path of the lunar lander (by creating a custom environment as described in point 2 above) and train the model such that the lander lands safely, avoiding collisions. \n",
        "\n",
        "You would first want to devise a mechansim for adding obstacles. For example, you could have an imaginary obstacle at some horizantal and vertical position cooridnates and modify the reward function such that a penalty is levied if the lander comes close to it. \n",
        "\n",
        "An interesting approach to solve this problem is to apply the techniques of transfer learning. For example, you could initialise the neural network model with the weights of the trained model on the original problem to improve the sample effeciency. This can be done using the following code:"
      ]
    },
    {
      "cell_type": "code",
      "execution_count": null,
      "metadata": {
        "execution": {},
        "id": "lSyhxVoLobbw"
      },
      "outputs": [],
      "source": [
        "## Specify the load path and uncomment below:\n",
        "\n",
        "# model = load(load_path,\n",
        "#              env=gym.make('LunarLander-v2'),\n",
        "#              custom_objects=None, **kwargs)"
      ]
    },
    {
      "cell_type": "markdown",
      "metadata": {
        "execution": {},
        "id": "4Qy8qSysobbw"
      },
      "source": [
        "Following are some of the resources on transfer learning that you would want to start with. \n",
        "\n",
        "**Research Papers**\n",
        "\n",
        "Surveys:\n",
        "1. (Long, Old, Highly cited) Taylor, M. E.,  et al. (2009). Transfer learning for reinforcement learning domains. https://www.jmlr.org/papers/volume10/taylor09a/taylor09a.pdf\n",
        "\n",
        "2. (Medium, Old, Good for a quick read) Lazaric, A. (2012). Transfer in reinforcement learning: a framework and a survey. https://hal.inria.fr/docs/00/77/26/26/PDF/transfer.pdf\n",
        "\n",
        "3. (Medium, Recent, Good for a quick read) Zhu, Z., Lin, K., & Zhou, J. (2020). Transfer learning in deep reinforcement learning. https://arxiv.org/pdf/2009.07888.pdf\n",
        "\n",
        "4. Specific example:\n",
        "Barreto, A., et al. (2016).  Successor features for transfer in reinforcement learning. https://arxiv.org/pdf/1606.05312"
      ]
    },
    {
      "cell_type": "markdown",
      "metadata": {
        "execution": {},
        "id": "vJvZzNrAobbx"
      },
      "source": [
        "## 5(b) Transfer Learning in minigrid environment\n",
        "\n",
        "These are some simple gridworld gym environments designed to be particularly simple, lightweight and fast. Refer to https://github.com/maximecb/gym-minigrid for description of the environments. An example to load a minigrid environment is given below:"
      ]
    },
    {
      "cell_type": "code",
      "execution_count": null,
      "metadata": {
        "execution": {},
        "id": "88Bk-iqzobby"
      },
      "outputs": [],
      "source": [
        "!pip install gym-minigrid --quiet\n",
        "import gym_minigrid\n",
        "env = gym.make('MiniGrid-Empty-5x5-v0')"
      ]
    },
    {
      "cell_type": "markdown",
      "metadata": {
        "execution": {},
        "id": "lOL5WYR3obby"
      },
      "source": [
        "You can train a standard DQN agent in this env by wrapping the env with full image observation wrappers:\n"
      ]
    },
    {
      "cell_type": "code",
      "execution_count": null,
      "metadata": {
        "execution": {},
        "id": "PX71Rz3Uobbz"
      },
      "outputs": [],
      "source": [
        "env = gym_minigrid.wrappers.ImgObsWrapper(gym_minigrid.wrappers.RGBImgObsWrapper(env))"
      ]
    },
    {
      "cell_type": "markdown",
      "metadata": {
        "execution": {},
        "id": "o2UiCI5Iobbz"
      },
      "source": [
        "Note that with full image observations, the shape of the image observations may differ between envs. For e.g., MiniGrid-Empty-5x5-v0 is (40,40,3) while MiniGrid-Empty-8x8-v0 is (64,64,3). So you may need to resize the observations for transfer learning to work with the same DQN architecture.\n",
        "\n",
        "Now try training a DQN (or another method) in one (or multiple) minigrid env(s),and see if that knowledge transfers to another (or multiple other) minigrid env(s).\n"
      ]
    },
    {
      "cell_type": "markdown",
      "metadata": {
        "execution": {},
        "id": "Qy1rMmg4obbz"
      },
      "source": [
        "## 6 Preference-Based RL (PBRL)\n",
        "\n",
        "PBRL is an exciting sub-area in RL where the traditional reward structure is replaced with human preferences. This setting is very useful in applications where it is difficult to construct a reward function. \n",
        "\n",
        "In the earlier section, we have successfully trained the lunar lander to land safely. Here, the path that the lander follows to land safely can be arbitrary. In this project, using the techniques of PBRL, you will solve the lunar lander problem with an additional requirement that the lander should follow a specially curated path (for example, a straight line path). Following are some of the resources that will help you to get started with this project. \n",
        "\n",
        "**Research papers:**\n",
        "1. Deep Reinforcement Learning\n",
        "from Human Preferences https://papers.nips.cc/paper/2017/file/d5e2c0adad503c91f91df240d0cd4e49-Paper.pdf\n",
        "2. Deep Q-learning from Demonstrations https://arxiv.org/pdf/1704.03732.pdf\n",
        "3. Reward learning from human preferences https://arxiv.org/pdf/1811.06521.pdf\n",
        "4. T-REX https://arxiv.org/pdf/1904.06387.pdf\n",
        "\n",
        "**Code Bases:**\n",
        "1. https://github.com/nottombrown/rl-teacher\n",
        "2. https://github.com/hiwonjoon/ICML2019-TREX\n"
      ]
    },
    {
      "cell_type": "markdown",
      "metadata": {
        "execution": {},
        "id": "ptpdnpwGobbz"
      },
      "source": [
        "---\n",
        "# References\n",
        "\n",
        "1. Stable Baselines Framework: https://stable-baselines3.readthedocs.io/en/master/guide/examples.html\n",
        "\n",
        "2. Lunar Lander Environment: https://gym.openai.com/envs/LunarLander-v2/\n",
        "\n",
        "3. OpenAI gym environments: https://gym.openai.com/docs/\n",
        "\n",
        "4. A good reference for introduction to RL: http://incompleteideas.net/book/the-book-2nd.html\n"
      ]
    }
  ],
  "metadata": {
    "accelerator": "GPU",
    "colab": {
      "collapsed_sections": [],
      "name": "lunar_lander_group1_atcheke",
      "provenance": [],
      "include_colab_link": true
    },
    "gpuClass": "standard",
    "kernel": {
      "display_name": "Python 3",
      "language": "python",
      "name": "python3"
    },
    "kernelspec": {
      "display_name": "Python 3",
      "name": "python3"
    },
    "language_info": {
      "name": "python"
    }
  },
  "nbformat": 4,
  "nbformat_minor": 0
}