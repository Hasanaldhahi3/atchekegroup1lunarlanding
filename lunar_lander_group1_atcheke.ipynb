{
  "cells": [
    {
      "cell_type": "markdown",
      "metadata": {
        "id": "view-in-github",
        "colab_type": "text"
      },
      "source": [
        "<a href=\"https://colab.research.google.com/github/carlacodes/atchekegroup1lunarlanding/blob/sherry/lunar_lander_group1_atcheke.ipynb\" target=\"_parent\"><img src=\"https://colab.research.google.com/assets/colab-badge.svg\" alt=\"Open In Colab\"/></a>"
      ]
    },
    {
      "cell_type": "markdown",
      "metadata": {
        "execution": {},
        "id": "rKjkh_KgobbF"
      },
      "source": [
        "# Performance Analysis of DQN Algorithm on the Lunar Lander task\n",
        "\n",
        "**By Neuromatch Academy**\n",
        "\n",
        "__Content creators:__ Raghuram Bharadwaj Diddigi, Geraud Nangue Tasse, Yamil Vidal, Sanjukta Krishnagopal, Sara Rajaee\n",
        "\n",
        "__Content editors:__ Spiros Chavlis"
      ]
    },
    {
      "cell_type": "markdown",
      "metadata": {
        "execution": {},
        "id": "iDR5t137obbP"
      },
      "source": [
        "<p align='center'><img src='https://github.com/NeuromatchAcademy/widgets/blob/master/sponsors.png?raw=True'/></p>"
      ]
    },
    {
      "cell_type": "markdown",
      "metadata": {
        "execution": {},
        "id": "brZ9ZJQzobbR"
      },
      "source": [
        "---\n",
        "# Objective\n",
        "\n",
        "In this project, the objective is to analyze the performance of the Deep Q-Learning algorithm on an exciting task- Lunar Lander. Before we describe the task, let us focus on two keywords here - analysis and performance. What exactly do we mean by these keywords in the context of Reinforcement Learning (RL)?"
      ]
    },
    {
      "cell_type": "markdown",
      "metadata": {
        "execution": {},
        "id": "wpX-jA7GobbT"
      },
      "source": [
        "---\n",
        "# Setup"
      ]
    },
    {
      "cell_type": "code",
      "execution_count": 1,
      "metadata": {
        "execution": {},
        "id": "9EanvrrhobbU",
        "colab": {
          "base_uri": "https://localhost:8080/"
        },
        "outputId": "9cde85f3-a72a-4b2c-ca27-fdb3feca38eb"
      },
      "outputs": [
        {
          "output_type": "stream",
          "name": "stdout",
          "text": [
            "\u001b[K     |████████████████████████████████| 177 kB 16.2 MB/s \n",
            "\u001b[K     |████████████████████████████████| 1.6 MB 29.5 MB/s \n",
            "\u001b[K     |████████████████████████████████| 1.5 MB 58.4 MB/s \n",
            "\u001b[K     |████████████████████████████████| 1.1 MB 66.9 MB/s \n",
            "\u001b[?25h  Installing build dependencies ... \u001b[?25l\u001b[?25hdone\n",
            "  Getting requirements to build wheel ... \u001b[?25l\u001b[?25hdone\n",
            "    Preparing wheel metadata ... \u001b[?25l\u001b[?25hdone\n",
            "  Building wheel for gym (setup.py) ... \u001b[?25l\u001b[?25hdone\n",
            "  Building wheel for AutoROM.accept-rom-license (PEP 517) ... \u001b[?25l\u001b[?25hdone\n",
            "\u001b[K     |████████████████████████████████| 448 kB 14.5 MB/s \n",
            "\u001b[?25h"
          ]
        }
      ],
      "source": [
        "# @title Install dependencies\n",
        "!sudo apt-get update > /dev/null 2>&1\n",
        "!sudo apt-get install -y xvfb python-opengl ffmpeg > /dev/null 2>&1\n",
        "!pip install rarfile --quiet\n",
        "!pip install stable-baselines3[extra] ale-py==0.7.4 --quiet\n",
        "!pip install box2d-py --quiet\n",
        "!pip install gym pyvirtualdisplay --quiet"
      ]
    },
    {
      "cell_type": "code",
      "execution_count": 2,
      "metadata": {
        "execution": {},
        "id": "pE3qZJLcobbW"
      },
      "outputs": [],
      "source": [
        "# Imports\n",
        "import io\n",
        "import os\n",
        "import glob\n",
        "import torch\n",
        "import base64\n",
        "import stable_baselines3\n",
        "\n",
        "import numpy as np\n",
        "import matplotlib.pyplot as plt\n",
        "\n",
        "from stable_baselines3 import DQN\n",
        "from stable_baselines3.common.results_plotter import ts2xy, load_results\n",
        "from stable_baselines3.common.callbacks import EvalCallback\n",
        "from stable_baselines3.common.env_util import make_atari_env\n",
        "\n",
        "import gym\n",
        "from gym import spaces\n",
        "from gym.wrappers import Monitor,RecordVideo"
      ]
    },
    {
      "cell_type": "code",
      "source": [
        "print(gym.__version__)"
      ],
      "metadata": {
        "colab": {
          "base_uri": "https://localhost:8080/"
        },
        "id": "gPoZnSTGFvEp",
        "outputId": "1a872c26-6464-47ef-a65c-00991e88630f"
      },
      "execution_count": 3,
      "outputs": [
        {
          "output_type": "stream",
          "name": "stdout",
          "text": [
            "0.21.0\n"
          ]
        }
      ]
    },
    {
      "cell_type": "code",
      "execution_count": 4,
      "metadata": {
        "execution": {},
        "id": "fp1bUnClobbY"
      },
      "outputs": [],
      "source": [
        "# @title Plotting/Video functions\n",
        "from IPython.display import HTML\n",
        "from pyvirtualdisplay import Display\n",
        "from IPython import display as ipythondisplay\n",
        "\n",
        "display = Display(visible=0, size=(1400, 900))\n",
        "display.start()\n",
        "\n",
        "\"\"\"\n",
        "Utility functions to enable video recording of gym environment\n",
        "and displaying it.\n",
        "To enable video, just do \"env = wrap_env(env)\"\"\n",
        "\"\"\"\n",
        "\n",
        "def show_video():\n",
        "  mp4list = glob.glob('video/*.mp4')\n",
        "  if len(mp4list) > 0:\n",
        "    mp4 = mp4list[0]\n",
        "    video = io.open(mp4, 'r+b').read()\n",
        "    encoded = base64.b64encode(video)\n",
        "    ipythondisplay.display(HTML(data='''<video alt=\"test\" autoplay\n",
        "                loop controls style=\"height: 400px;\">\n",
        "                <source src=\"data:video/mp4;base64,{0}\" type=\"video/mp4\" />\n",
        "             </video>'''.format(encoded.decode('ascii'))))\n",
        "  else:\n",
        "    print(\"Could not find video\")\n",
        "\n",
        "\n",
        "def wrap_env(env):\n",
        "  env = Monitor(env, './video', force=True)\n",
        "  # env = RecordVideo(env, './video')\n",
        "  return env"
      ]
    },
    {
      "cell_type": "markdown",
      "metadata": {
        "execution": {},
        "id": "psfdqUCmobba"
      },
      "source": [
        "---\n",
        "# Introduction\n",
        "\n",
        "In a standard RL setting, an agent learns optimal behavior from an environment through a feedback mechanism to maximize a given objective. Many algorithms have been proposed in the RL literature that an agent can apply to learn the optimal behavior. One such popular algorithm is the Deep Q-Network (DQN). This algorithm makes use of deep neural networks to compute optimal actions. In this project, your goal is to understand the effect of the number of neural network layers on the algorithm's performance. The performance of the algorithm can be evaluated through two metrics - Speed and Stability. \n",
        "\n",
        "**Speed:** How fast the algorithm reaches the maximum possible reward. \n",
        "\n",
        "**Stability** In some applications (especially when online learning is involved), along with speed, stability of the algorithm, i.e., minimal fluctuations in performance, is equally important. \n",
        "\n",
        "In this project, you should investigate the following question:\n",
        "\n",
        "**What is the impact of number of neural network layers on speed and stability of the algorithm?**\n",
        "\n",
        "You do not have to write the DQN code from scratch. We have provided a basic implementation of the DQN algorithm. You only have to tune the hyperparameters (neural network size, learning rate, etc), observe the performance, and analyze. More details on this are provided below. \n",
        "\n",
        "Now, let us discuss the RL task we have chosen, i.e., Lunar Lander. This task consists of the lander and a landing pad marked by two flags. The episode starts with the lander moving downwards due to gravity. The objective is to land safely using different engines available on the lander with zero speed on the landing pad as quickly and fuel efficient as possible. Reward for moving from the top of the screen and landing on landing pad with zero speed is between 100 to 140 points. Each leg ground contact yields a reward of 10 points. Firing main engine leads to a reward of -0.3 points in each frame. Firing the side engine leads to a reward of -0.03 points in each frame. An additional reward of -100 or +100 points is received if the lander crashes or comes to rest respectively which also leads to end of the episode. \n",
        "\n",
        "The input state of the Lunar Lander consists of following components:\n",
        "\n",
        "  1. Horizontal Position\n",
        "  2. Vertical Position\n",
        "  3. Horizontal Velocity\n",
        "  4. Vertical Velocity\n",
        "  5. Angle\n",
        "  6. Angular Velocity\n",
        "  7. Left Leg Contact\n",
        "  8. Right Leg Contact\n",
        "\n",
        "The actions of the agents are:\n",
        "  1. Do Nothing\n",
        "  2. Fire Main Engine\n",
        "  3. Fire Left Engine\n",
        "  4. Fire Right Engine\n",
        "\n",
        "\n",
        "<img src=\"https://raw.githubusercontent.com/NeuromatchAcademy/course-content-dl/main/projects/static/lunar_lander.png\">"
      ]
    },
    {
      "cell_type": "markdown",
      "metadata": {
        "execution": {},
        "id": "fGCTNteSobbd"
      },
      "source": [
        "---\n",
        "# Basic DQN Implementation\n",
        "\n",
        "We will now implement the DQN algorithm using the existing code base. We encourage you to understand this example and re-use it in an application/project of your choice! "
      ]
    },
    {
      "cell_type": "markdown",
      "metadata": {
        "execution": {},
        "id": "sEG8U0Pmobbf"
      },
      "source": [
        "Now, let us set some hyperparameters for our algorithm. This is the only part you would play around with, to solve the first part of the project. "
      ]
    },
    {
      "cell_type": "markdown",
      "source": [
        "## Tuning hyperparameters"
      ],
      "metadata": {
        "id": "XgNuDz2mrq0g"
      }
    },
    {
      "cell_type": "markdown",
      "source": [
        "ref: \n",
        "\n",
        "1.   template https://github.com/AI4Finance-Foundation/FinRL/blob/master/tutorials/4-Optimization/FinRL_HyperparameterTuning_using_Optuna_basic.ipynb\n",
        "\n",
        "2.   tutorial (combined with template): https://medium.com/analytics-vidhya/hyperparameter-tuning-using-optuna-for-finrl-8a49506d2741\n",
        "\n",
        "3.  set parameter function: https://github.com/DLR-RM/rl-baselines3-zoo/blob/master/utils/hyperparams_opt.py\n",
        "\n",
        "4.   callback function: https://github.com/DLR-RM/rl-baselines3-zoo/blob/master/utils/callbacks.py#L10\n",
        "\n",
        "\n",
        "\n"
      ],
      "metadata": {
        "id": "6RQ_bAC6KlAU"
      }
    },
    {
      "cell_type": "code",
      "source": [
        "!pip3 install optuna --quiet"
      ],
      "metadata": {
        "colab": {
          "base_uri": "https://localhost:8080/"
        },
        "id": "qSg7t4EJx9Pp",
        "outputId": "2bde414d-f6c1-4d7c-eb88-668dd8685335"
      },
      "execution_count": 3,
      "outputs": [
        {
          "output_type": "stream",
          "name": "stdout",
          "text": [
            "\u001b[K     |████████████████████████████████| 308 kB 5.1 MB/s \n",
            "\u001b[K     |████████████████████████████████| 81 kB 10.2 MB/s \n",
            "\u001b[K     |████████████████████████████████| 209 kB 61.3 MB/s \n",
            "\u001b[K     |████████████████████████████████| 78 kB 7.1 MB/s \n",
            "\u001b[K     |████████████████████████████████| 147 kB 67.1 MB/s \n",
            "\u001b[K     |████████████████████████████████| 112 kB 43.7 MB/s \n",
            "\u001b[K     |████████████████████████████████| 49 kB 6.8 MB/s \n",
            "\u001b[?25h  Building wheel for pyperclip (setup.py) ... \u001b[?25l\u001b[?25hdone\n"
          ]
        }
      ]
    },
    {
      "cell_type": "code",
      "source": [
        "import optuna\n",
        "\n",
        "from IPython.display import clear_output\n",
        "import sys"
      ],
      "metadata": {
        "id": "CHT0LZ0WyERZ"
      },
      "execution_count": 5,
      "outputs": []
    },
    {
      "cell_type": "markdown",
      "source": [
        "### define search space"
      ],
      "metadata": {
        "id": "i_gZFwkKtj5T"
      }
    },
    {
      "cell_type": "code",
      "source": [
        "def sample_dqn_params(trial: optuna.Trial):\n",
        "    \"\"\"\n",
        "    Sampler for DQN hyperparams.\n",
        "    :param trial:\n",
        "    :return:\n",
        "    \"\"\"\n",
        "    learning_rate = trial.suggest_loguniform(\"learning_rate\", 1e-5, 1e-2)\n",
        "\n",
        "    net_arch = trial.suggest_categorical(\"net_arch\", [\"two\", \"three\"]) #, \"two_big\"\n",
        "    net_arch = {\"two\": [64, 64], \"three\": [64, 64, 64]}[net_arch] #, \"two_big\": [256, 256]\n",
        "\n",
        "    hyperparams = {\n",
        "        \"learning_rate\": learning_rate,#\n",
        "        \"policy_kwargs\": dict(activation_fn=torch.nn.ReLU, net_arch=net_arch),\n",
        "        \"batch_size\": 1,  #for simplicity, we are not doing batch update.\n",
        "        \"buffer_size\": 1, #size of experience of replay buffer. Set to 1 as batch update is not done\n",
        "        \"learning_starts\": 1, #learning starts immediately!\n",
        "        \"gamma\": 0.99, #discount facto. range is between 0 and 1.\n",
        "        \"tau\": 1,  #the soft update coefficient for updating the target network\n",
        "        \"target_update_interval\": 1, #update the target network immediately.\n",
        "        \"train_freq\": (1,\"step\"), #train the network at every step.\n",
        "        \"max_grad_norm\": 10, #the maximum value for the gradient clipping\n",
        "        \"exploration_initial_eps\": 1, #initial value of random action probability\n",
        "        \"exploration_fraction\": 0.5, #fraction of entire training period over which the exploration rate is reduced\n",
        "        \"gradient_steps\": 1, #number of gradient steps\n",
        "        \"seed\": 1, #seed for the pseudo random generators\n",
        "        \"verbose\": 0\n",
        "    }\n",
        "    return hyperparams"
      ],
      "metadata": {
        "id": "mWhSf_qjk8T4"
      },
      "execution_count": null,
      "outputs": []
    },
    {
      "cell_type": "markdown",
      "source": [
        "### define callback"
      ],
      "metadata": {
        "id": "fFyJprz6tp7_"
      }
    },
    {
      "cell_type": "code",
      "source": [
        "class LoggingCallback:\n",
        "    def __init__(self,threshold,trial_number,patience):\n",
        "      '''\n",
        "      threshold: int tolerance for increase in reward\n",
        "      trial_number: int Prune after minimum number of trials\n",
        "      patience: int patience for the threshold\n",
        "      '''\n",
        "      self.threshold = threshold\n",
        "      self.trial_number  = trial_number\n",
        "      self.patience = patience\n",
        "      self.cb_list = [] #Trials list for which threshold is reached\n",
        "    def __call__(self,study:optuna.study, frozen_trial:optuna.Trial):\n",
        "      #Setting the best value in the current trial\n",
        "      study.set_user_attr(\"previous_best_value\", study.best_value)\n",
        "      \n",
        "      #Checking if the minimum number of trials have pass\n",
        "      if frozen_trial.number >self.trial_number:\n",
        "          previous_best_value = study.user_attrs.get(\"previous_best_value\",None)\n",
        "          #Checking if the previous and current objective values have the same sign\n",
        "          if previous_best_value * study.best_value >=0:\n",
        "              #Checking for the threshold condition\n",
        "              if abs(previous_best_value-study.best_value) < self.threshold: \n",
        "                  self.cb_list.append(frozen_trial.number)\n",
        "                  #If threshold is achieved for the patience amount of time\n",
        "                  if len(self.cb_list)>self.patience:\n",
        "                      print('The study stops now...')\n",
        "                      print('With number',frozen_trial.number ,'and value ',frozen_trial.value)\n",
        "                      print('The previous and current best values are {} and {} respectively'\n",
        "                              .format(previous_best_value, study.best_value))\n",
        "                      study.stop()"
      ],
      "metadata": {
        "id": "Q4FKnTdKttOu"
      },
      "execution_count": null,
      "outputs": []
    },
    {
      "cell_type": "markdown",
      "source": [
        "### define objective"
      ],
      "metadata": {
        "id": "B1qV393bpoTO"
      }
    },
    {
      "cell_type": "code",
      "source": [
        "log_dir = \"models\"\n",
        "os.makedirs(log_dir,exist_ok=True) \n",
        "\n",
        "def objective(trial:optuna.Trial):\n",
        "\n",
        "  # Create environment\n",
        "  env = gym.make('LunarLander-v2')\n",
        "  env = stable_baselines3.common.monitor.Monitor(env, log_dir)\n",
        "\n",
        "  #Trial will suggest a set of hyperparamters from the specified range\n",
        "  hyperparameters = sample_dqn_params(trial)\n",
        "  model_dqn = DQN(\"MlpPolicy\", env, **hyperparameters) #Set verbose to 1 to observe training logs. We encourage you to set the verbose to 1.\n",
        "\n",
        "  # define learning steps\n",
        "  trained_dqn = model_dqn.learn(total_timesteps=100000, log_interval=10)#100000 , callback=callback\n",
        "  # save model\n",
        "  trained_dqn.save('models/dqn_{}.pth'.format(trial.number)) \n",
        "\n",
        "  x, y = ts2xy(load_results(log_dir), 'episodes') # timesteps\n",
        "  # clear_output(wait=True)\n",
        "  #For the given hyperparamters, determine reward\n",
        "  reward = sum(y)\n",
        "  return reward\n",
        "\n",
        "#Create a study object and specify the direction as 'maximize'\n",
        "#As you want to maximize reward\n",
        "#Pruner stops not promising iterations\n",
        "#Use a pruner, else you will get error related to divergence of model\n",
        "#You can also use Multivariate samplere\n",
        "#sampler = optuna.samplers.TPESampler(multivarite=True,seed=42)\n",
        "sampler = optuna.samplers.TPESampler(seed=42)\n",
        "study = optuna.create_study(study_name=\"dqn_study\",direction='maximize',\n",
        "                            sampler = sampler, pruner=optuna.pruners.HyperbandPruner())\n",
        "\n",
        "logging_callback = LoggingCallback(threshold=10, patience=30, trial_number=5)\n",
        "#You can increase the n_trials for a better search space scanning\n",
        "study.optimize(objective, n_trials=4, catch=(ValueError,),callbacks=[logging_callback])"
      ],
      "metadata": {
        "id": "2s-bjWndt_a6"
      },
      "execution_count": null,
      "outputs": []
    },
    {
      "cell_type": "markdown",
      "source": [
        "### get the best model"
      ],
      "metadata": {
        "id": "tf91UWqvzR6Y"
      }
    },
    {
      "cell_type": "code",
      "source": [
        "#Get the best hyperparamters\n",
        "print('Hyperparameters after tuning',study.best_params)"
      ],
      "metadata": {
        "colab": {
          "base_uri": "https://localhost:8080/"
        },
        "id": "CcDma0wSy02u",
        "outputId": "60f8937f-a7ed-4951-9b97-43416b0b9fb2"
      },
      "execution_count": null,
      "outputs": [
        {
          "output_type": "stream",
          "name": "stdout",
          "text": [
            "Hyperparameters after tuning {'learning_rate': 0.0001329291894316216, 'net_arch': 'two'}\n"
          ]
        }
      ]
    },
    {
      "cell_type": "code",
      "source": [
        "study.best_trial"
      ],
      "metadata": {
        "colab": {
          "base_uri": "https://localhost:8080/"
        },
        "id": "yqou4GOlzWMh",
        "outputId": "c74fe0ff-db2e-499d-9899-354cf2e6da7e"
      },
      "execution_count": null,
      "outputs": [
        {
          "output_type": "execute_result",
          "data": {
            "text/plain": [
              "FrozenTrial(number=0, values=[-64206.27353400003], datetime_start=datetime.datetime(2022, 7, 20, 8, 56, 57, 127327), datetime_complete=datetime.datetime(2022, 7, 20, 9, 6, 23, 876212), params={'learning_rate': 0.0001329291894316216, 'net_arch': 'two'}, distributions={'learning_rate': LogUniformDistribution(high=0.01, low=1e-05), 'net_arch': CategoricalDistribution(choices=('two', 'three'))}, user_attrs={}, system_attrs={}, intermediate_values={}, trial_id=0, state=TrialState.COMPLETE, value=None)"
            ]
          },
          "metadata": {},
          "execution_count": 16
        }
      ]
    },
    {
      "cell_type": "markdown",
      "source": [
        "## Template"
      ],
      "metadata": {
        "id": "mObWM9TLp2lj"
      }
    },
    {
      "cell_type": "code",
      "execution_count": 7,
      "metadata": {
        "execution": {},
        "id": "vJm_qzWkobbg"
      },
      "outputs": [],
      "source": [
        "nn_layers = [64,64] #This is the configuration of your neural network. Currently, we have two layers, each consisting of 64 neurons.\n",
        "                    #If you want three layers with 64 neurons each, set the value to [64,64,64] and so on.\n",
        "\n",
        "learning_rate = 0.001 #This is the step-size with which the gradient descent is carried out.\n",
        "                      #Tip: Use smaller step-sizes for larger networks."
      ]
    },
    {
      "cell_type": "markdown",
      "metadata": {
        "execution": {},
        "id": "-9bGzUVPobbh"
      },
      "source": [
        "Now, let us setup our model and the DQN algorithm. "
      ]
    },
    {
      "cell_type": "code",
      "execution_count": 60,
      "metadata": {
        "execution": {},
        "id": "1dN91ycLobbh"
      },
      "outputs": [],
      "source": [
        "log_dir = \"/tmp/gym/\"\n",
        "os.makedirs(log_dir, exist_ok=True)\n",
        "\n",
        "# Create environment\n",
        "env = gym.make('LunarLander-v3')\n",
        "#You can also load other environments like cartpole, MountainCar, Acrobot. Refer to https://gym.openai.com/docs/ for descriptions.\n",
        "#For example, if you would like to load Cartpole, just replace the above statement with \"env = gym.make('CartPole-v1')\".\n",
        "\n",
        "env = stable_baselines3.common.monitor.Monitor(env, log_dir )\n",
        "\n",
        "callback = EvalCallback(env,log_path = log_dir, deterministic=True) #For evaluating the performance of the agent periodically and logging the results.\n",
        "\n",
        "policy_kwargs = dict(activation_fn=torch.nn.ReLU,\n",
        "                     net_arch=nn_layers)\n",
        "model = DQN(\"MlpPolicy\", env, policy_kwargs = policy_kwargs,\n",
        "            learning_rate=learning_rate,\n",
        "            batch_size=1,  #for simplicity, we are not doing batch update.\n",
        "            buffer_size=1, #size of experience of replay buffer. Set to 1 as batch update is not done\n",
        "            learning_starts=1, #learning starts immediately!\n",
        "            gamma=0.99, #discount facto. range is between 0 and 1.\n",
        "            tau = 1,  #the soft update coefficient for updating the target network\n",
        "            target_update_interval=1, #update the target network immediately.\n",
        "            train_freq=(1,\"step\"), #train the network at every step.\n",
        "            max_grad_norm = 10, #the maximum value for the gradient clipping\n",
        "            exploration_initial_eps = 1, #initial value of random action probability\n",
        "            exploration_fraction = 0.5, #fraction of entire training period over which the exploration rate is reduced\n",
        "            gradient_steps = 1, #number of gradient steps\n",
        "            seed = 1, #seed for the pseudo random generators\n",
        "            verbose=0) #Set verbose to 1 to observe training logs. We encourage you to set the verbose to 1.\n",
        "\n",
        "# You can also experiment with other RL algorithms like A2C, PPO, DDPG etc. Refer to  https://stable-baselines3.readthedocs.io/en/master/guide/examples.html\n",
        "#for documentation. For example, if you would like to run DDPG, just replace \"DQN\" above with \"DDPG\"."
      ]
    },
    {
      "cell_type": "markdown",
      "metadata": {
        "execution": {},
        "id": "0-7OLtdpobbi"
      },
      "source": [
        "Before we train the model, let us look at an instance of Lunar Lander **before training**.  \n",
        "\n",
        "**Note:** The following code for rendering the video is taken from https://colab.research.google.com/github/jeffheaton/t81_558_deep_learning/blob/master/t81_558_class_12_01_ai_gym.ipynb#scrollTo=T9RpF49oOsZj"
      ]
    },
    {
      "cell_type": "code",
      "execution_count": 64,
      "metadata": {
        "execution": {},
        "id": "8nEQvdE7obbj",
        "outputId": "1a069bb5-4930-4874-acc2-7d630e09d625",
        "colab": {
          "base_uri": "https://localhost:8080/",
          "height": 421
        }
      },
      "outputs": [
        {
          "output_type": "display_data",
          "data": {
            "text/plain": [
              "<IPython.core.display.HTML object>"
            ],
            "text/html": [
              "<video alt=\"test\" autoplay\n",
              "                loop controls style=\"height: 400px;\">\n",
              "                <source src=\"data:video/mp4;base64,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\" type=\"video/mp4\" />\n",
              "             </video>"
            ]
          },
          "metadata": {}
        }
      ],
      "source": [
        "test_env = wrap_env(gym.make(\"LunarLander-v2\"))\n",
        "observation = test_env.reset()\n",
        "total_reward = 0\n",
        "while True:\n",
        "  test_env.render()\n",
        "  action, states = model.predict(observation, deterministic=True)\n",
        "  observation, reward, done, info = test_env.step(action)\n",
        "  total_reward += reward\n",
        "  if done:\n",
        "    break;\n",
        "\n",
        "# print(total_reward)\n",
        "test_env.close()\n",
        "show_video()"
      ]
    },
    {
      "cell_type": "markdown",
      "metadata": {
        "execution": {},
        "id": "ZpMABSl9obbk"
      },
      "source": [
        "From the video above, we see that the lander has crashed! \n",
        "It is now the time for training! \n"
      ]
    },
    {
      "cell_type": "code",
      "execution_count": 63,
      "metadata": {
        "execution": {},
        "id": "I0hzLf1lobbl",
        "colab": {
          "base_uri": "https://localhost:8080/"
        },
        "outputId": "92054caf-2762-49f7-a684-ef73f0efd908"
      },
      "outputs": [
        {
          "output_type": "stream",
          "name": "stdout",
          "text": [
            "Eval num_timesteps=9000, episode_reward=-330.30 +/- 56.71\n",
            "Episode length: 302.40 +/- 91.62\n",
            "New best mean reward!\n"
          ]
        },
        {
          "output_type": "execute_result",
          "data": {
            "text/plain": [
              "<stable_baselines3.dqn.dqn.DQN at 0x7f262938c910>"
            ]
          },
          "metadata": {},
          "execution_count": 63
        }
      ],
      "source": [
        "model.learn(total_timesteps=10000, log_interval=10, callback=callback, eval_log_path=log_dir)\n",
        "# The performance of the training will be printed every 10 episodes. Change it to 1, if you wish to\n",
        "# view the performance at every training episode.\n",
        "# how to read monitor.csv: ep_info = {\"r\": round(ep_rew, 6), \"l\": ep_len, \"t\": round(time.time() - self.t_start, 6)}"
      ]
    },
    {
      "cell_type": "markdown",
      "metadata": {
        "execution": {},
        "id": "ueR5BIcpobbm"
      },
      "source": [
        "The training takes time. We encourage you to analyze the output logs (set verbose to 1 to print the output logs). The main component of the logs that you should track is \"ep_rew_mean\" (mean of episode rewards). As the training proceeds, the value of \"ep_rew_mean\" should increase. The improvement need not be monotonic, but the trend should be upwards! \n",
        "\n",
        "Along with training, we are also periodically evaluating the performance of the current model during the training. This was reported in logs as follows:\n",
        "\n",
        "```\n",
        "Eval num_timesteps=100000, episode_reward=63.41 +/- 130.02\n",
        "Episode length: 259.80 +/- 47.47\n",
        "```"
      ]
    },
    {
      "cell_type": "markdown",
      "metadata": {
        "execution": {},
        "id": "ogkoKXiXobbm"
      },
      "source": [
        "Now, let us look at the visual performance of the lander. \n",
        "\n",
        "**Note:** The performance varies across different seeds and runs. This code is not optimized to be stable across all runs and seeds. We hope you will be able to find an optimal configuration! "
      ]
    },
    {
      "cell_type": "code",
      "execution_count": 64,
      "metadata": {
        "execution": {},
        "id": "m_WCp8wdobbn",
        "outputId": "03dbc1c0-4e15-4578-a25d-4488498570a8",
        "colab": {
          "base_uri": "https://localhost:8080/",
          "height": 421
        }
      },
      "outputs": [
        {
          "output_type": "display_data",
          "data": {
            "text/plain": [
              "<IPython.core.display.HTML object>"
            ],
            "text/html": [
              "<video alt=\"test\" autoplay\n",
              "                loop controls style=\"height: 400px;\">\n",
              "                <source src=\"data:video/mp4;base64,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\" type=\"video/mp4\" />\n",
              "             </video>"
            ]
          },
          "metadata": {}
        }
      ],
      "source": [
        "env = wrap_env(gym.make(\"LunarLander-v3\"))\n",
        "observation = env.reset()\n",
        "while True:\n",
        "  env.render()\n",
        "  action, _states = model.predict(observation, deterministic=True)\n",
        "  observation, reward, done, info = env.step(action)\n",
        "  if done:\n",
        "    break;\n",
        "\n",
        "env.close()\n",
        "show_video()"
      ]
    },
    {
      "cell_type": "markdown",
      "metadata": {
        "execution": {},
        "id": "Ov5djtn9obbn"
      },
      "source": [
        "The lander has landed safely!!\n",
        "\n",
        "Let us analyze its performance (speed and stability). For this purpose, we plot the number of time steps on the X-axis and the episodic reward given by the trained model on the Y-axis. "
      ]
    },
    {
      "cell_type": "code",
      "execution_count": null,
      "metadata": {
        "execution": {},
        "id": "asuy5ryIobbo",
        "outputId": "63569cc2-a0c7-464a-af73-e11b361c24cf",
        "colab": {
          "base_uri": "https://localhost:8080/",
          "height": 301
        }
      },
      "outputs": [
        {
          "output_type": "execute_result",
          "data": {
            "text/plain": [
              "Text(0, 0.5, 'Episode Rewards')"
            ]
          },
          "metadata": {},
          "execution_count": 22
        },
        {
          "output_type": "display_data",
          "data": {
            "text/plain": [
              "<Figure size 432x288 with 1 Axes>"
            ],
            "image/png": "[encoded data removed]"
          },
          "metadata": {
            "needs_background": "light"
          }
        }
      ],
      "source": [
        "x, y = ts2xy(load_results(log_dir), 'episodes')  # Organising the logged results in to a clean format for plotting. timesteps\n",
        "plt.plot(x,y)\n",
        "plt.ylim([-300, 300])\n",
        "plt.xlabel('Timesteps')\n",
        "plt.ylabel('Episode Rewards')"
      ]
    },
    {
      "cell_type": "markdown",
      "metadata": {
        "execution": {},
        "id": "mw3iMGmwobbo"
      },
      "source": [
        "From the above plot, we observe that, although the maximum reward is achieved quickly. Achieving an episodic reward of > 200 is good. We see that the agent has achieved it in less than 50000 timesteps (speed is good!). However, there are a lot of fluctuations in the performance (stability is not good!). \n",
        "\n",
        "Your objective now is to modify the model parameters (nn_layers, learning_rate in the code cell #2 above), run all the cells following it and investigate the stability and speed of the chosen configuration.   \n"
      ]
    },
    {
      "cell_type": "markdown",
      "metadata": {
        "execution": {},
        "id": "_bKzapIyobbp"
      },
      "source": [
        "---\n",
        "# Additional Project Ideas"
      ]
    },
    {
      "cell_type": "markdown",
      "metadata": {
        "execution": {},
        "id": "gzByWGxfobbq"
      },
      "source": [
        "## 1 Play with exploration-exploitation trade-off\n",
        "\n",
        "Exploration (selecting random actions) and exploitation (selecting greedy action) is a crucial component of the DQN algorithm. Explore random actions for a long time will slow down the training process. At the same time, if all actions are not explored enough, it might lead to a sub-optimal performance. In the DQN code above, we have used the following parameters:"
      ]
    },
    {
      "cell_type": "code",
      "execution_count": null,
      "metadata": {
        "execution": {},
        "id": "5TeOBG-Jobbq"
      },
      "outputs": [],
      "source": [
        "exploration_initial_eps = 1  # initial value of random action probability. Range is between 0 and 1.\n",
        "exploration_fraction = 0.5  # fraction of entire training period over which the exploration rate is reduced. Range is between 0 and 1.\n",
        "exploration_final_eps = 0.05  # (set by defualt) final value of random action probability. Range is between 0 and 1."
      ]
    },
    {
      "cell_type": "markdown",
      "metadata": {
        "execution": {},
        "id": "dZuGeAULobbq"
      },
      "source": [
        "Your objective is to play around with these parameters and analyze their performance (speed and stability). You can modify these parameters and set them as arguments in DQN(...,exploration_initial_eps = 1, exploration_fraction = 0.5, exploration_final_eps = 0.05,...). "
      ]
    },
    {
      "cell_type": "markdown",
      "metadata": {
        "execution": {},
        "id": "yGp5JFoAobbr"
      },
      "source": [
        "## 2 Reward Shaping\n",
        "\n",
        "Your objective here is to construct a modified reward function that improves the performance of the Lunar Lander. To this end, you would have to create your own custom environment. An example of a custom environment is given below:"
      ]
    },
    {
      "cell_type": "markdown",
      "source": [
        "Ref: https://towardsdatascience.com/beginners-guide-to-custom-environments-in-openai-s-gym-989371673952"
      ],
      "metadata": {
        "id": "yIFSDq7eyXY-"
      }
    },
    {
      "cell_type": "markdown",
      "source": [
        "### New environment"
      ],
      "metadata": {
        "id": "iIvGmuJD49zZ"
      }
    },
    {
      "cell_type": "markdown",
      "source": [
        "#### define new env class"
      ],
      "metadata": {
        "id": "c-DTrZhLy0UM"
      }
    },
    {
      "cell_type": "code",
      "source": [
        "from gym.envs.box2d import LunarLander\n",
        "# from typing import TYPE_CHECKING, Optional\n",
        "# from gym.utils import EzPickle, colorize\n",
        "# try:\n",
        "#     import Box2D\n",
        "#     from Box2D.b2 import (\n",
        "#         circleShape,\n",
        "#         contactListener,\n",
        "#         edgeShape,\n",
        "#         fixtureDef,\n",
        "#         polygonShape,\n",
        "#         revoluteJointDef,\n",
        "#     )\n",
        "# except ImportError:\n",
        "#     raise DependencyNotInstalled(\"box2d is not installed, run `pip install gym[box2d]`\")\n",
        "import math"
      ],
      "metadata": {
        "id": "dTxYseql3ry3"
      },
      "execution_count": 5,
      "outputs": []
    },
    {
      "cell_type": "markdown",
      "source": [
        "Set parameters"
      ],
      "metadata": {
        "id": "MtUy074Syhdd"
      }
    },
    {
      "cell_type": "code",
      "source": [
        "FPS = 50\n",
        "SCALE = 30.0  # affects how fast-paced the game is, forces should be adjusted as well\n",
        "\n",
        "MAIN_ENGINE_POWER = 13.0\n",
        "SIDE_ENGINE_POWER = 0.6\n",
        "\n",
        "INITIAL_RANDOM = 1000.0  # Set 1500 to make game harder\n",
        "\n",
        "LANDER_POLY = [(-14, +17), (-17, 0), (-17, -10), (+17, -10), (+17, 0), (+14, +17)]\n",
        "LEG_AWAY = 20\n",
        "LEG_DOWN = 18\n",
        "LEG_W, LEG_H = 2, 8\n",
        "LEG_SPRING_TORQUE = 40\n",
        "\n",
        "SIDE_ENGINE_HEIGHT = 14.0\n",
        "SIDE_ENGINE_AWAY = 12.0\n",
        "\n",
        "VIEWPORT_W = 600\n",
        "VIEWPORT_H = 400"
      ],
      "metadata": {
        "id": "E6Ivff2jW7q8"
      },
      "execution_count": 6,
      "outputs": []
    },
    {
      "cell_type": "code",
      "source": [
        "class Custom_LunarLander_wind(LunarLander):\n",
        "    metadata = {\"render.modes\": [\"human\", \"rgb_array\"], \"video.frames_per_second\": FPS}\n",
        "    continuous = False\n",
        "\n",
        "    def __init__(\n",
        "        self,\n",
        "        # render_mode: Optional[str] = None,\n",
        "        continuous: bool = False,\n",
        "        gravity: float = -10.0,\n",
        "        enable_wind: bool = False,\n",
        "        wind_power: float = 15.0,\n",
        "        turbulence_power: float = 1.5,\n",
        "    ):\n",
        "        # EzPickle.__init__(self)\n",
        "        LunarLander.__init__(self)\n",
        "        assert (\n",
        "            -12.0 < gravity and gravity < 0.0\n",
        "        ), f\"gravity (current value: {gravity}) must be between -12 and 0\"\n",
        "        self.gravity = gravity\n",
        "\n",
        "        if 0.0 > wind_power or wind_power > 20.0:\n",
        "            warnings.warn(\n",
        "                colorize(\n",
        "                    f\"WARN: wind_power value is recommended to be between 0.0 and 20.0, (current value: {wind_power})\",\n",
        "                    \"yellow\",\n",
        "                ),\n",
        "            )\n",
        "        self.wind_power = wind_power\n",
        "\n",
        "        if 0.0 > turbulence_power or turbulence_power > 2.0:\n",
        "            warnings.warn(\n",
        "                colorize(\n",
        "                    f\"WARN: turbulence_power value is recommended to be between 0.0 and 2.0, (current value: {turbulence_power})\",\n",
        "                    \"yellow\",\n",
        "                ),\n",
        "            )\n",
        "        self.turbulence_power = turbulence_power\n",
        "\n",
        "        self.enable_wind = enable_wind\n",
        "        # self.wind_idx = np.random.randint(-9999, 9999)\n",
        "        # self.torque_idx = np.random.randint(-9999, 9999)\n",
        "\n",
        "        # self.screen: pygame.Surface = None\n",
        "        # self.clock = None\n",
        "        # self.isopen = True\n",
        "        # self.world = Box2D.b2World(gravity=(0, gravity))\n",
        "        # self.moon = None\n",
        "        # self.lander: Optional[Box2D.b2Body] = None\n",
        "        # self.particles = []\n",
        "\n",
        "        # self.prev_reward = None\n",
        "\n",
        "        self.continuous = continuous\n",
        "\n",
        "        # low = np.array(\n",
        "        #     [\n",
        "        #         # these are bounds for position\n",
        "        #         # realistically the environment should have ended\n",
        "        #         # long before we reach more than 50% outside\n",
        "        #         -1.5,\n",
        "        #         -1.5,\n",
        "        #         # velocity bounds is 5x rated speed\n",
        "        #         -5.0,\n",
        "        #         -5.0,\n",
        "        #         -math.pi,\n",
        "        #         -5.0,\n",
        "        #         -0.0,\n",
        "        #         -0.0,\n",
        "        #     ]\n",
        "        # ).astype(np.float32)\n",
        "        # high = np.array(\n",
        "        #     [\n",
        "        #         # these are bounds for position\n",
        "        #         # realistically the environment should have ended\n",
        "        #         # long before we reach more than 50% outside\n",
        "        #         1.5,\n",
        "        #         1.5,\n",
        "        #         # velocity bounds is 5x rated speed\n",
        "        #         5.0,\n",
        "        #         5.0,\n",
        "        #         math.pi,\n",
        "        #         5.0,\n",
        "        #         1.0,\n",
        "        #         1.0,\n",
        "        #     ]\n",
        "        # ).astype(np.float32)\n",
        "\n",
        "        # # useful range is -1 .. +1, but spikes can be higher\n",
        "        # self.observation_space = spaces.Box(low, high)\n",
        "\n",
        "        # if self.continuous:\n",
        "        #     # Action is two floats [main engine, left-right engines].\n",
        "        #     # Main engine: -1..0 off, 0..+1 throttle from 50% to 100% power. Engine can't work with less than 50% power.\n",
        "        #     # Left-right:  -1.0..-0.5 fire left engine, +0.5..+1.0 fire right engine, -0.5..0.5 off\n",
        "        #     self.action_space = spaces.Box(-1, +1, (2,), dtype=np.float32)\n",
        "        # else:\n",
        "        #     # Nop, fire left engine, main engine, right engine\n",
        "        #     self.action_space = spaces.Discrete(4)\n",
        "\n",
        "        # self.render_mode = render_mode\n",
        "        # self.renderer = Renderer(self.render_mode, self._render)\n",
        "        \n",
        "\n",
        "    def step(self, action):\n",
        "        if self.continuous:\n",
        "            action = np.clip(action, -1, +1).astype(np.float32)\n",
        "        else:\n",
        "            assert self.action_space.contains(action), \"%r (%s) invalid \" % (\n",
        "                action,\n",
        "                type(action),\n",
        "            )\n",
        "\n",
        "        # Engines\n",
        "        tip = (math.sin(self.lander.angle), math.cos(self.lander.angle))\n",
        "        side = (-tip[1], tip[0])\n",
        "        dispersion = [self.np_random.uniform(-1.0, +1.0) / SCALE for _ in range(2)]\n",
        "\n",
        "        m_power = 0.0\n",
        "        if (self.continuous and action[0] > 0.0) or (\n",
        "            not self.continuous and action == 2\n",
        "        ):\n",
        "            # Main engine\n",
        "            if self.continuous:\n",
        "                m_power = (np.clip(action[0], 0.0, 1.0) + 1.0) * 0.5  # 0.5..1.0\n",
        "                assert m_power >= 0.5 and m_power <= 1.0\n",
        "            else:\n",
        "                m_power = 1.0\n",
        "            ox = (\n",
        "                tip[0] * (4 / SCALE + 2 * dispersion[0]) + side[0] * dispersion[1]\n",
        "            )  # 4 is move a bit downwards, +-2 for randomness\n",
        "            oy = -tip[1] * (4 / SCALE + 2 * dispersion[0]) - side[1] * dispersion[1]\n",
        "            impulse_pos = (self.lander.position[0] + ox, self.lander.position[1] + oy)\n",
        "            p = self._create_particle(\n",
        "                3.5,  # 3.5 is here to make particle speed adequate\n",
        "                impulse_pos[0],\n",
        "                impulse_pos[1],\n",
        "                m_power,\n",
        "            )  # particles are just a decoration\n",
        "            p.ApplyLinearImpulse(\n",
        "                (ox * MAIN_ENGINE_POWER * m_power, oy * MAIN_ENGINE_POWER * m_power),\n",
        "                impulse_pos,\n",
        "                True,\n",
        "            )\n",
        "            self.lander.ApplyLinearImpulse(\n",
        "                (-ox * MAIN_ENGINE_POWER * m_power, -oy * MAIN_ENGINE_POWER * m_power),\n",
        "                impulse_pos,\n",
        "                True,\n",
        "            )\n",
        "\n",
        "        s_power = 0.0\n",
        "        if (self.continuous and np.abs(action[1]) > 0.5) or (\n",
        "            not self.continuous and action in [1, 3]\n",
        "        ):\n",
        "            # Orientation engines\n",
        "            if self.continuous:\n",
        "                direction = np.sign(action[1])\n",
        "                s_power = np.clip(np.abs(action[1]), 0.5, 1.0)\n",
        "                assert s_power >= 0.5 and s_power <= 1.0\n",
        "            else:\n",
        "                direction = action - 2\n",
        "                s_power = 1.0\n",
        "            ox = tip[0] * dispersion[0] + side[0] * (\n",
        "                3 * dispersion[1] + direction * SIDE_ENGINE_AWAY / SCALE\n",
        "            )\n",
        "            oy = -tip[1] * dispersion[0] - side[1] * (\n",
        "                3 * dispersion[1] + direction * SIDE_ENGINE_AWAY / SCALE\n",
        "            )\n",
        "            impulse_pos = (\n",
        "                self.lander.position[0] + ox - tip[0] * 17 / SCALE,\n",
        "                self.lander.position[1] + oy + tip[1] * SIDE_ENGINE_HEIGHT / SCALE,\n",
        "            )\n",
        "            p = self._create_particle(0.7, impulse_pos[0], impulse_pos[1], s_power)\n",
        "            p.ApplyLinearImpulse(\n",
        "                (ox * SIDE_ENGINE_POWER * s_power, oy * SIDE_ENGINE_POWER * s_power),\n",
        "                impulse_pos,\n",
        "                True,\n",
        "            )\n",
        "            self.lander.ApplyLinearImpulse(\n",
        "                (-ox * SIDE_ENGINE_POWER * s_power, -oy * SIDE_ENGINE_POWER * s_power),\n",
        "                impulse_pos,\n",
        "                True,\n",
        "            )\n",
        "\n",
        "        self.world.Step(1.0 / FPS, 6 * 30, 2 * 30)\n",
        "\n",
        "        pos = self.lander.position\n",
        "        vel = self.lander.linearVelocity\n",
        "        state = [\n",
        "            (pos.x - VIEWPORT_W / SCALE / 2) / (VIEWPORT_W / SCALE / 2), # 0: x position\n",
        "            (pos.y - (self.helipad_y + LEG_DOWN / SCALE)) / (VIEWPORT_H / SCALE / 2), # 1: y position\n",
        "            vel.x * (VIEWPORT_W / SCALE / 2) / FPS, # 2\n",
        "            vel.y * (VIEWPORT_H / SCALE / 2) / FPS, # 3\n",
        "            self.lander.angle, # 4\n",
        "            20.0 * self.lander.angularVelocity / FPS, # 5\n",
        "            1.0 if self.legs[0].ground_contact else 0.0, # 6\n",
        "            1.0 if self.legs[1].ground_contact else 0.0, # 7\n",
        "        ]\n",
        "        assert len(state) == 8\n",
        "\n",
        "        # ----------------------------------------------------------------\n",
        "        # reward\n",
        "        reward = 0\n",
        "        shaping = (\n",
        "            -100 * np.sqrt(state[0] * state[0] + state[1] * state[1])\n",
        "            - 100 * np.sqrt(state[2] * state[2] + state[3] * state[3])\n",
        "            - 100 * abs(state[4])\n",
        "            + 10 * state[6]\n",
        "            + 10 * state[7]\n",
        "        )  # And ten points for legs contact, the idea is if you\n",
        "        # lose contact again after landing, you get negative reward\n",
        "        if self.prev_shaping is not None:\n",
        "            reward = shaping - self.prev_shaping\n",
        "        self.prev_shaping = shaping\n",
        "\n",
        "        reward -= (\n",
        "            m_power * 0.30\n",
        "        )  # less fuel spent is better, about -30 for heuristic landing\n",
        "        reward -= s_power * 0.03\n",
        "\n",
        "        done = False\n",
        "        if self.game_over or abs(state[0]) >= 1.0: # crashed?\n",
        "            done = True\n",
        "            reward = -100\n",
        "        if not self.lander.awake: # rest\n",
        "            done = True\n",
        "            reward = +200#+100\n",
        "        return np.array(state, dtype=np.float32), reward, done, {}\n",
        "        # ----------------------------------------------------------------\n",
        "\n",
        "\n",
        "\n",
        "    \n",
        "  # def reset(self):\n",
        "  #     pass  # reward, done, info can't be included\n",
        "\n",
        "  # def render(self, mode='human'):\n",
        "  #     pass\n",
        "\n",
        "  # def close(self):\n",
        "  #     pass"
      ],
      "metadata": {
        "id": "7Nxu5rsZ4MH1"
      },
      "execution_count": 7,
      "outputs": []
    },
    {
      "cell_type": "markdown",
      "source": [
        "check environment"
      ],
      "metadata": {
        "id": "xGf0_9im0Y3R"
      }
    },
    {
      "cell_type": "code",
      "source": [
        "new_env = Custom_LunarLander_wind()\n",
        "new_env"
      ],
      "metadata": {
        "colab": {
          "base_uri": "https://localhost:8080/"
        },
        "id": "GdKLT2SiGCiV",
        "outputId": "1b88271a-5f88-49fa-fb42-5e67288c5541"
      },
      "execution_count": 8,
      "outputs": [
        {
          "output_type": "execute_result",
          "data": {
            "text/plain": [
              "<__main__.Custom_LunarLander_wind at 0x7f0c52bb4a10>"
            ]
          },
          "metadata": {},
          "execution_count": 8
        }
      ]
    },
    {
      "cell_type": "code",
      "source": [
        "from stable_baselines3.common.env_checker import check_env\n",
        "check_env(new_env)"
      ],
      "metadata": {
        "id": "kG6IM6zW2IPm"
      },
      "execution_count": 9,
      "outputs": []
    },
    {
      "cell_type": "markdown",
      "source": [
        "#### register environment"
      ],
      "metadata": {
        "id": "DzZ83S3UzBYc"
      }
    },
    {
      "cell_type": "code",
      "source": [
        "from gym.envs.registration import register\n",
        "# Example for the CartPole environment\n",
        "register(\n",
        "    # unique identifier for the env `name-version`\n",
        "    id=\"LunarLander-v3\",\n",
        "    # path to the class for creating the env\n",
        "    # Note: entry_point also accept a class as input (and not only a string)\n",
        "    entry_point= Custom_LunarLander_wind,\n",
        "    # Max number of steps per episode, using a `TimeLimitWrapper`\n",
        "    max_episode_steps=500000,\n",
        ")"
      ],
      "metadata": {
        "id": "C1cIXPTaJsQG"
      },
      "execution_count": 10,
      "outputs": []
    },
    {
      "cell_type": "markdown",
      "source": [
        "#### define model in new env"
      ],
      "metadata": {
        "id": "KdG01o1IzxGG"
      }
    },
    {
      "cell_type": "markdown",
      "metadata": {
        "execution": {},
        "id": "kMkD1Ku8zq9q"
      },
      "source": [
        "Now, let us setup our model and the DQN algorithm. "
      ]
    },
    {
      "cell_type": "code",
      "execution_count": 12,
      "metadata": {
        "execution": {},
        "id": "hun_d8rYzq9p"
      },
      "outputs": [],
      "source": [
        "nn_layers = [64,64] #This is the configuration of your neural network. Currently, we have two layers, each consisting of 64 neurons.\n",
        "                    #If you want three layers with 64 neurons each, set the value to [64,64,64] and so on.\n",
        "\n",
        "learning_rate = 0.001 #This is the step-size with which the gradient descent is carried out.\n",
        "                      #Tip: Use smaller step-sizes for larger networks."
      ]
    },
    {
      "cell_type": "code",
      "execution_count": 13,
      "metadata": {
        "execution": {},
        "id": "5J0MmqyPzq9q"
      },
      "outputs": [],
      "source": [
        "log_dir = \"/tmp/gym/\"\n",
        "os.makedirs(log_dir, exist_ok=True)\n",
        "\n",
        "# Create environment\n",
        "env = gym.make('LunarLander-v3')\n",
        "#You can also load other environments like cartpole, MountainCar, Acrobot. Refer to https://gym.openai.com/docs/ for descriptions.\n",
        "#For example, if you would like to load Cartpole, just replace the above statement with \"env = gym.make('CartPole-v1')\".\n",
        "\n",
        "env = stable_baselines3.common.monitor.Monitor(env, log_dir )\n",
        "\n",
        "callback = EvalCallback(env,log_path = log_dir, deterministic=True) #For evaluating the performance of the agent periodically and logging the results.\n",
        "\n",
        "policy_kwargs = dict(activation_fn=torch.nn.ReLU,\n",
        "                     net_arch=nn_layers)\n",
        "model = DQN(\"MlpPolicy\", env, policy_kwargs = policy_kwargs,\n",
        "            learning_rate=learning_rate,\n",
        "            batch_size=1,  #for simplicity, we are not doing batch update.\n",
        "            buffer_size=1, #size of experience of replay buffer. Set to 1 as batch update is not done\n",
        "            learning_starts=1, #learning starts immediately!\n",
        "            gamma=0.99, #discount facto. range is between 0 and 1.\n",
        "            tau = 1,  #the soft update coefficient for updating the target network\n",
        "            target_update_interval=1, #update the target network immediately.\n",
        "            train_freq=(1,\"step\"), #train the network at every step.\n",
        "            max_grad_norm = 10, #the maximum value for the gradient clipping\n",
        "            exploration_initial_eps = 1, #initial value of random action probability\n",
        "            exploration_fraction = 0.5, #fraction of entire training period over which the exploration rate is reduced\n",
        "            gradient_steps = 1, #number of gradient steps\n",
        "            seed = 1, #seed for the pseudo random generators\n",
        "            verbose=0) #Set verbose to 1 to observe training logs. We encourage you to set the verbose to 1.\n",
        "\n",
        "# You can also experiment with other RL algorithms like A2C, PPO, DDPG etc. Refer to  https://stable-baselines3.readthedocs.io/en/master/guide/examples.html\n",
        "#for documentation. For example, if you would like to run DDPG, just replace \"DQN\" above with \"DDPG\"."
      ]
    },
    {
      "cell_type": "markdown",
      "source": [
        "#### visualize new environment"
      ],
      "metadata": {
        "id": "aFsU1I3KzLEL"
      }
    },
    {
      "cell_type": "code",
      "source": [
        "new_env = wrap_env(gym.make(\"LunarLander-v3\"))\n",
        "observation = new_env.reset()\n",
        "total_reward = 0\n",
        "\n",
        "while True:\n",
        "  new_env.render()\n",
        "  action, states = model.predict(observation, deterministic=True)\n",
        "  observation, reward, done, info = new_env.step(action)\n",
        "  total_reward += reward\n",
        "  if done:\n",
        "    break;\n",
        "\n",
        "# print(total_reward)\n",
        "new_env.close()\n",
        "show_video()"
      ],
      "metadata": {
        "id": "HeHfAR-g4ttm",
        "outputId": "8b43d94c-be7d-4bdc-ccba-fd6b3405c2f7",
        "colab": {
          "base_uri": "https://localhost:8080/",
          "height": 421
        }
      },
      "execution_count": 14,
      "outputs": [
        {
          "output_type": "display_data",
          "data": {
            "text/plain": [
              "<IPython.core.display.HTML object>"
            ],
            "text/html": [
              "<video alt=\"test\" autoplay\n",
              "                loop controls style=\"height: 400px;\">\n",
              "                <source src=\"data:video/mp4;base64,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\" type=\"video/mp4\" />\n",
              "             </video>"
            ]
          },
          "metadata": {}
        }
      ]
    },
    {
      "cell_type": "markdown",
      "source": [
        "### train the model and visualize"
      ],
      "metadata": {
        "id": "zKB-D-Cy4e7B"
      }
    },
    {
      "cell_type": "code",
      "execution_count": null,
      "metadata": {
        "execution": {},
        "id": "FV4kq74Ozq9q"
      },
      "outputs": [],
      "source": [
        "model.learn(total_timesteps=10000, log_interval=10, callback=callback, eval_log_path=log_dir)\n",
        "# The performance of the training will be printed every 10 episodes. Change it to 1, if you wish to\n",
        "# view the performance at every training episode.\n",
        "# how to read monitor.csv: ep_info = {\"r\": round(ep_rew, 6), \"l\": ep_len, \"t\": round(time.time() - self.t_start, 6)}"
      ]
    },
    {
      "cell_type": "code",
      "execution_count": null,
      "metadata": {
        "execution": {},
        "outputId": "03dbc1c0-4e15-4578-a25d-4488498570a8",
        "colab": {
          "base_uri": "https://localhost:8080/",
          "height": 421
        },
        "id": "_B6I243kzq9q"
      },
      "outputs": [
        {
          "output_type": "display_data",
          "data": {
            "text/plain": [
              "<IPython.core.display.HTML object>"
            ],
            "text/html": [
              "<video alt=\"test\" autoplay\n",
              "                loop controls style=\"height: 400px;\">\n",
              "                <source src=\"data:video/mp4;base64,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\" type=\"video/mp4\" />\n",
              "             </video>"
            ]
          },
          "metadata": {}
        }
      ],
      "source": [
        "env = wrap_env(gym.make(\"LunarLander-v3\"))\n",
        "observation = env.reset()\n",
        "while True:\n",
        "  env.render()\n",
        "  action, _states = model.predict(observation, deterministic=True)\n",
        "  observation, reward, done, info = env.step(action)\n",
        "  if done:\n",
        "    break;\n",
        "\n",
        "env.close()\n",
        "show_video()"
      ]
    },
    {
      "cell_type": "code",
      "execution_count": null,
      "metadata": {
        "execution": {},
        "outputId": "63569cc2-a0c7-464a-af73-e11b361c24cf",
        "colab": {
          "base_uri": "https://localhost:8080/",
          "height": 301
        },
        "id": "voWFVkMGzq9r"
      },
      "outputs": [
        {
          "output_type": "execute_result",
          "data": {
            "text/plain": [
              "Text(0, 0.5, 'Episode Rewards')"
            ]
          },
          "metadata": {},
          "execution_count": 22
        },
        {
          "output_type": "display_data",
          "data": {
            "text/plain": [
              "<Figure size 432x288 with 1 Axes>"
            ],
            "image/png": "[encoded data removed]"
          },
          "metadata": {
            "needs_background": "light"
          }
        }
      ],
      "source": [
        "x, y = ts2xy(load_results(log_dir), 'episodes')  # Organising the logged results in to a clean format for plotting. timesteps\n",
        "plt.plot(x,y)\n",
        "plt.ylim([-300, 300])\n",
        "plt.xlabel('Timesteps')\n",
        "plt.ylabel('Episode Rewards')"
      ]
    },
    {
      "cell_type": "markdown",
      "source": [
        "### Template"
      ],
      "metadata": {
        "id": "h7Jy40kF4cwx"
      }
    },
    {
      "cell_type": "code",
      "execution_count": 18,
      "metadata": {
        "execution": {},
        "id": "RStcMxLfobbr"
      },
      "outputs": [],
      "source": [
        "# Taken from https://stable-baselines3.readthedocs.io/en/master/guide/custom_env.html\n",
        "class CustomEnv(gym.Env):\n",
        "  \"\"\"Custom Environment that follows gym interface\"\"\"\n",
        "  metadata = {'render.modes': ['human']}\n",
        "\n",
        "  def __init__(self, arg1, arg2):\n",
        "    super(CustomEnv, self).__init__()\n",
        "    # Define action and observation space\n",
        "    # They must be gym.spaces objects\n",
        "    # Example when using discrete actions:\n",
        "    self.action_space = spaces.Discrete(N_DISCRETE_ACTIONS)\n",
        "    # Example for using image as input (channel-first; channel-last also works):\n",
        "    self.observation_space = spaces.Box(low=0, high=255,\n",
        "                                        shape=(N_CHANNELS, HEIGHT, WIDTH), dtype=np.uint8)\n",
        "\n",
        "  def step(self, action):\n",
        "    ...\n",
        "    return observation, reward, done, info\n",
        "  def reset(self):\n",
        "    ...\n",
        "    return observation  # reward, done, info can't be included\n",
        "  def render(self, mode='human'):\n",
        "    ...\n",
        "  def close (self):\n",
        "    ..."
      ]
    },
    {
      "cell_type": "markdown",
      "metadata": {
        "execution": {},
        "id": "RKAA_XL4obbs"
      },
      "source": [
        "As you are only changing the reward structure, you can inherit the original Lunar Lander environment from https://github.com/openai/gym/blob/master/gym/envs/box2d/lunar_lander.py and modify just the \"step\" function. Focus on modifying the following part of the code in the \"step\" function\n"
      ]
    },
    {
      "cell_type": "code",
      "execution_count": null,
      "metadata": {
        "execution": {},
        "id": "vW-1yrPyobbs"
      },
      "outputs": [],
      "source": [
        "def step(self, actions):\n",
        "  ...\n",
        "  ...\n",
        "  ...\n",
        "  reward = 0\n",
        "  shaping = (\n",
        "      -100 * np.sqrt(state[0] * state[0] + state[1] * state[1])\n",
        "      - 100 * np.sqrt(state[2] * state[2] + state[3] * state[3])\n",
        "      - 100 * abs(state[4])\n",
        "      + 10 * state[6]\n",
        "      + 10 * state[7]\n",
        "  )  # And ten points for legs contact, the idea is if you\n",
        "  # lose contact again after landing, you get negative reward\n",
        "  if self.prev_shaping is not None:\n",
        "      reward = shaping - self.prev_shaping\n",
        "  self.prev_shaping = shaping\n",
        "\n",
        "  reward -= (\n",
        "      m_power * 0.30\n",
        "  )  # less fuel spent is better, about -30 for heuristic landing. You should modify these values.\n",
        "  reward -= s_power * 0.03\n",
        "\n",
        "  done = False\n",
        "  if self.game_over or abs(state[0]) >= 1.0:\n",
        "      done = True\n",
        "      reward = -100\n",
        "  if not self.lander.awake:\n",
        "      done = True\n",
        "      reward = +100\n",
        "  return np.array(state, dtype=np.float32), reward, done, {}"
      ]
    },
    {
      "cell_type": "markdown",
      "metadata": {
        "execution": {},
        "id": "9CCbUKXQobbs"
      },
      "source": [
        "Once you have cutomized your own environment, you can execute that environment by just calling:"
      ]
    },
    {
      "cell_type": "code",
      "execution_count": null,
      "metadata": {
        "execution": {},
        "id": "T7IuLBYxobbt"
      },
      "outputs": [],
      "source": [
        "#Enter the name of the custome environment you created and uncomment the line below.\n",
        "#env = Custom_LunarLander()\n",
        "# Refer to https://stable-baselines3.readthedocs.io/en/master/guide/custom_env.html, if you would like to create more complex environments."
      ]
    },
    {
      "cell_type": "markdown",
      "metadata": {
        "execution": {},
        "id": "ZeEbxPsFobbt"
      },
      "source": [
        "## 3 Identify the state information crucial to its performance.\n",
        "\n",
        "Your objective here is to alter the input state information and analyze the performance. The input state of the Lunar Lander consists of following components:\n",
        "\n",
        "  1. Horizontal Position\n",
        "  2. Vertical Position\n",
        "  3. Horizontal Velocity\n",
        "  4. Vertical Velocity\n",
        "  5. Angle\n",
        "  6. Angular Velocity\n",
        "  7. Left Leg Contact\n",
        "  8. Right Leg Contact\n",
        "\n",
        "You can train the algorithm by masking one of the eight components at a time and understand how that affects the performance of the algorithm. Similar to the reward shaping task, you would have to create a custom environment and modify the state space. Again, you can inherit all the necessary functions and modify the following portion of the \"Step\" function:"
      ]
    },
    {
      "cell_type": "code",
      "execution_count": null,
      "metadata": {
        "execution": {},
        "id": "e0qQ--Tfobbt"
      },
      "outputs": [],
      "source": [
        "def step(self, actions):\n",
        "  ...\n",
        "  ...\n",
        "  ...\n",
        "  state = [ # Remove one component at a time to investigate the effect on performance!\n",
        "            (pos.x - VIEWPORT_W / SCALE / 2) / (VIEWPORT_W / SCALE / 2),\n",
        "            (pos.y - (self.helipad_y + LEG_DOWN / SCALE)) / (VIEWPORT_H / SCALE / 2),\n",
        "            vel.x * (VIEWPORT_W / SCALE / 2) / FPS,\n",
        "            vel.y * (VIEWPORT_H / SCALE / 2) / FPS,\n",
        "            self.lander.angle,\n",
        "            20.0 * self.lander.angularVelocity / FPS,\n",
        "            1.0 if self.legs[0].ground_contact else 0.0,\n",
        "            1.0 if self.legs[1].ground_contact else 0.0,\n",
        "        ]"
      ]
    },
    {
      "cell_type": "markdown",
      "metadata": {
        "execution": {},
        "id": "EIifpb9Kobbu"
      },
      "source": [
        "## 4 Extension to Atari Games\n",
        "\n",
        "In the Lunar Lander task, the input to the algorithm is a vector of state information. Deep RL algorithms can also be applied when the input to the training is image frames, which is the case in the Atari games. For example, consider an Atari game - Pong. In this environment, the observation is an RGB image of the screen, which is an array of shape (210, 160, 3). To train the Pong game, you can start with the following sample code:"
      ]
    },
    {
      "cell_type": "code",
      "execution_count": null,
      "metadata": {
        "execution": {},
        "id": "9GEIYsVVobbv"
      },
      "outputs": [],
      "source": [
        "## Taken from: https://colab.research.google.com/github/Stable-Baselines-Team/rl-colab-notebooks/blob/sb3/atari_games.ipynb#scrollTo=f3K4rMXwimBO\n",
        "env = make_atari_env('PongNoFrameskip-v4', n_envs=4, seed=0)\n",
        "\n",
        "##Atari Games take a lot of memory. Following commands crash on Coalb. Run the following code on Colab Pro or your local Jupyter notebook!\n",
        "# env = VecFrameStack(env, n_stack=4)\n",
        "# model = DQN('CnnPolicy', env, verbose=1)  # Note the difference here! We use 'CnnPolicy\" here instead of 'MlpPolicy' as the input is frames.\n",
        "# model.learn(total_timesteps=1) #change the number of timesteps as desired and run this command!"
      ]
    },
    {
      "cell_type": "markdown",
      "metadata": {
        "execution": {},
        "id": "5I26CZd4obbv"
      },
      "source": [
        "## 5 Obstacle Avoidance and Transfer Learning\n",
        "\n",
        "Your obstacle here is to add an obstacle in the path of the lunar lander (by creating a custom environment as described in point 2 above) and train the model such that the lander lands safely, avoiding collisions. \n",
        "\n",
        "You would first want to devise a mechansim for adding obstacles. For example, you could have an imaginary obstacle at some horizantal and vertical position cooridnates and modify the reward function such that a penalty is levied if the lander comes close to it. \n",
        "\n",
        "An interesting approach to solve this problem is to apply the techniques of transfer learning. For example, you could initialise the neural network model with the weights of the trained model on the original problem to improve the sample effeciency. This can be done using the following code:"
      ]
    },
    {
      "cell_type": "code",
      "execution_count": null,
      "metadata": {
        "execution": {},
        "id": "lSyhxVoLobbw"
      },
      "outputs": [],
      "source": [
        "## Specify the load path and uncomment below:\n",
        "\n",
        "# model = load(load_path,\n",
        "#              env=gym.make('LunarLander-v2'),\n",
        "#              custom_objects=None, **kwargs)"
      ]
    },
    {
      "cell_type": "markdown",
      "metadata": {
        "execution": {},
        "id": "4Qy8qSysobbw"
      },
      "source": [
        "Following are some of the resources on transfer learning that you would want to start with. \n",
        "\n",
        "**Research Papers**\n",
        "\n",
        "Surveys:\n",
        "1. (Long, Old, Highly cited) Taylor, M. E.,  et al. (2009). Transfer learning for reinforcement learning domains. https://www.jmlr.org/papers/volume10/taylor09a/taylor09a.pdf\n",
        "\n",
        "2. (Medium, Old, Good for a quick read) Lazaric, A. (2012). Transfer in reinforcement learning: a framework and a survey. https://hal.inria.fr/docs/00/77/26/26/PDF/transfer.pdf\n",
        "\n",
        "3. (Medium, Recent, Good for a quick read) Zhu, Z., Lin, K., & Zhou, J. (2020). Transfer learning in deep reinforcement learning. https://arxiv.org/pdf/2009.07888.pdf\n",
        "\n",
        "4. Specific example:\n",
        "Barreto, A., et al. (2016).  Successor features for transfer in reinforcement learning. https://arxiv.org/pdf/1606.05312"
      ]
    },
    {
      "cell_type": "markdown",
      "metadata": {
        "execution": {},
        "id": "vJvZzNrAobbx"
      },
      "source": [
        "## 5(b) Transfer Learning in minigrid environment\n",
        "\n",
        "These are some simple gridworld gym environments designed to be particularly simple, lightweight and fast. Refer to https://github.com/maximecb/gym-minigrid for description of the environments. An example to load a minigrid environment is given below:"
      ]
    },
    {
      "cell_type": "code",
      "execution_count": null,
      "metadata": {
        "execution": {},
        "id": "88Bk-iqzobby"
      },
      "outputs": [],
      "source": [
        "!pip install gym-minigrid --quiet\n",
        "import gym_minigrid\n",
        "env = gym.make('MiniGrid-Empty-5x5-v0')"
      ]
    },
    {
      "cell_type": "markdown",
      "metadata": {
        "execution": {},
        "id": "lOL5WYR3obby"
      },
      "source": [
        "You can train a standard DQN agent in this env by wrapping the env with full image observation wrappers:\n"
      ]
    },
    {
      "cell_type": "code",
      "execution_count": null,
      "metadata": {
        "execution": {},
        "id": "PX71Rz3Uobbz"
      },
      "outputs": [],
      "source": [
        "env = gym_minigrid.wrappers.ImgObsWrapper(gym_minigrid.wrappers.RGBImgObsWrapper(env))"
      ]
    },
    {
      "cell_type": "markdown",
      "metadata": {
        "execution": {},
        "id": "o2UiCI5Iobbz"
      },
      "source": [
        "Note that with full image observations, the shape of the image observations may differ between envs. For e.g., MiniGrid-Empty-5x5-v0 is (40,40,3) while MiniGrid-Empty-8x8-v0 is (64,64,3). So you may need to resize the observations for transfer learning to work with the same DQN architecture.\n",
        "\n",
        "Now try training a DQN (or another method) in one (or multiple) minigrid env(s),and see if that knowledge transfers to another (or multiple other) minigrid env(s).\n"
      ]
    },
    {
      "cell_type": "markdown",
      "metadata": {
        "execution": {},
        "id": "Qy1rMmg4obbz"
      },
      "source": [
        "## 6 Preference-Based RL (PBRL)\n",
        "\n",
        "PBRL is an exciting sub-area in RL where the traditional reward structure is replaced with human preferences. This setting is very useful in applications where it is difficult to construct a reward function. \n",
        "\n",
        "In the earlier section, we have successfully trained the lunar lander to land safely. Here, the path that the lander follows to land safely can be arbitrary. In this project, using the techniques of PBRL, you will solve the lunar lander problem with an additional requirement that the lander should follow a specially curated path (for example, a straight line path). Following are some of the resources that will help you to get started with this project. \n",
        "\n",
        "**Research papers:**\n",
        "1. Deep Reinforcement Learning\n",
        "from Human Preferences https://papers.nips.cc/paper/2017/file/d5e2c0adad503c91f91df240d0cd4e49-Paper.pdf\n",
        "2. Deep Q-learning from Demonstrations https://arxiv.org/pdf/1704.03732.pdf\n",
        "3. Reward learning from human preferences https://arxiv.org/pdf/1811.06521.pdf\n",
        "4. T-REX https://arxiv.org/pdf/1904.06387.pdf\n",
        "\n",
        "**Code Bases:**\n",
        "1. https://github.com/nottombrown/rl-teacher\n",
        "2. https://github.com/hiwonjoon/ICML2019-TREX\n"
      ]
    },
    {
      "cell_type": "markdown",
      "metadata": {
        "execution": {},
        "id": "ptpdnpwGobbz"
      },
      "source": [
        "---\n",
        "# References\n",
        "\n",
        "1. Stable Baselines Framework: https://stable-baselines3.readthedocs.io/en/master/guide/examples.html\n",
        "\n",
        "2. Lunar Lander Environment: https://gym.openai.com/envs/LunarLander-v2/\n",
        "\n",
        "3. OpenAI gym environments: https://gym.openai.com/docs/\n",
        "\n",
        "4. A good reference for introduction to RL: http://incompleteideas.net/book/the-book-2nd.html\n"
      ]
    }
  ],
  "metadata": {
    "accelerator": "GPU",
    "colab": {
      "collapsed_sections": [],
      "name": "lunar_lander_group1_atcheke",
      "provenance": [],
      "toc_visible": true,
      "include_colab_link": true
    },
    "gpuClass": "standard",
    "kernel": {
      "display_name": "Python 3",
      "language": "python",
      "name": "python3"
    },
    "kernelspec": {
      "display_name": "Python 3",
      "name": "python3"
    },
    "language_info": {
      "name": "python"
    }
  },
  "nbformat": 4,
  "nbformat_minor": 0
}